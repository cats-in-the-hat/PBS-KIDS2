{
 "cells": [
  {
   "cell_type": "code",
   "execution_count": 1,
   "metadata": {},
   "outputs": [],
   "source": [
    "import pandas as pd\n",
    "import numpy as np\n",
    "\n",
    "import seaborn as sns\n",
    "from matplotlib import pyplot as plt\n",
    "from pylab import rcParams\n",
    "%matplotlib inline\n",
    "\n",
    "import warnings\n",
    "warnings.filterwarnings('ignore')"
   ]
  },
  {
   "cell_type": "code",
   "execution_count": 182,
   "metadata": {},
   "outputs": [
    {
     "data": {
      "image/png": "[encoded data removed]",
      "text/plain": [
       "<Figure size 144x72 with 1 Axes>"
      ]
     },
     "metadata": {
      "needs_background": "light"
     },
     "output_type": "display_data"
    }
   ],
   "source": [
    "# Create an array with the colors you want to use\n",
    "colors = [\"#FF0B04\", \"#4374B3\"]\n",
    "\n",
    "# Set your custom color palette\n",
    "my_pal = sns.color_palette(colors)\n",
    "sns.palplot(my_pal)"
   ]
  },
  {
   "cell_type": "markdown",
   "metadata": {},
   "source": [
    "# Acquire Data"
   ]
  },
  {
   "cell_type": "code",
   "execution_count": 148,
   "metadata": {},
   "outputs": [],
   "source": [
    "train = pd.read_csv('train.csv')"
   ]
  },
  {
   "cell_type": "code",
   "execution_count": null,
   "metadata": {},
   "outputs": [],
   "source": [
    "#sample train observations \n",
    "\n",
    "train_ = train.sample(1000000) "
   ]
  },
  {
   "cell_type": "code",
   "execution_count": 36,
   "metadata": {},
   "outputs": [],
   "source": [
    "train_labels = pd.read_csv('train_labels.csv')"
   ]
  },
  {
   "cell_type": "code",
   "execution_count": 4,
   "metadata": {},
   "outputs": [],
   "source": [
    "specs = pd.read_csv('specs.csv')"
   ]
  },
  {
   "cell_type": "code",
   "execution_count": 164,
   "metadata": {},
   "outputs": [
    {
     "name": "stdout",
     "output_type": "stream",
     "text": [
      "Size of train data is (11341042, 11).\n",
      "Size of train_ data is (1000000, 11).\n",
      "Size of train_labels data is (17690, 7).\n",
      "Size of specs data is (386, 3).\n"
     ]
    }
   ],
   "source": [
    "print(f'Size of train data is {train.shape}.')\n",
    "print(f'Size of train_ data is {train_.shape}.')\n",
    "print(f'Size of train_labels data is {train_labels.shape}.')\n",
    "print(f'Size of specs data is {specs.shape}.')"
   ]
  },
  {
   "cell_type": "markdown",
   "metadata": {},
   "source": [
    "# Summarize train_ df"
   ]
  },
  {
   "cell_type": "code",
   "execution_count": 149,
   "metadata": {},
   "outputs": [
    {
     "name": "stdout",
     "output_type": "stream",
     "text": [
      "The train df has 11341042 rows and 11 columns.\n",
      "The train_ df has 1000000 rows and 11 columns.\n"
     ]
    }
   ],
   "source": [
    "print(f'The train df has {train.shape[0]} rows and {train.shape[1]} columns.')\n",
    "print(f'The train_ df has {train_.shape[0]} rows and {train_.shape[1]} columns.')"
   ]
  },
  {
   "cell_type": "code",
   "execution_count": 165,
   "metadata": {},
   "outputs": [
    {
     "data": {
      "text/html": [
       "<div>\n",
       "<style scoped>\n",
       "    .dataframe tbody tr th:only-of-type {\n",
       "        vertical-align: middle;\n",
       "    }\n",
       "\n",
       "    .dataframe tbody tr th {\n",
       "        vertical-align: top;\n",
       "    }\n",
       "\n",
       "    .dataframe thead th {\n",
       "        text-align: right;\n",
       "    }\n",
       "</style>\n",
       "<table border=\"1\" class=\"dataframe\">\n",
       "  <thead>\n",
       "    <tr style=\"text-align: right;\">\n",
       "      <th></th>\n",
       "      <th>event_id</th>\n",
       "      <th>game_session</th>\n",
       "      <th>timestamp</th>\n",
       "      <th>event_data</th>\n",
       "      <th>installation_id</th>\n",
       "      <th>event_count</th>\n",
       "      <th>event_code</th>\n",
       "      <th>game_time</th>\n",
       "      <th>title</th>\n",
       "      <th>type</th>\n",
       "      <th>world</th>\n",
       "    </tr>\n",
       "  </thead>\n",
       "  <tbody>\n",
       "    <tr>\n",
       "      <th>1138194</th>\n",
       "      <td>6c517a88</td>\n",
       "      <td>665629a879481995</td>\n",
       "      <td>2019-08-04T12:13:50.279Z</td>\n",
       "      <td>{\"coordinates\":{\"x\":705,\"y\":195,\"stage_width\":...</td>\n",
       "      <td>1a748eff</td>\n",
       "      <td>148</td>\n",
       "      <td>4070</td>\n",
       "      <td>289254</td>\n",
       "      <td>Dino Drink</td>\n",
       "      <td>Game</td>\n",
       "      <td>MAGMAPEAK</td>\n",
       "    </tr>\n",
       "  </tbody>\n",
       "</table>\n",
       "</div>"
      ],
      "text/plain": [
       "         event_id      game_session                 timestamp  \\\n",
       "1138194  6c517a88  665629a879481995  2019-08-04T12:13:50.279Z   \n",
       "\n",
       "                                                event_data installation_id  \\\n",
       "1138194  {\"coordinates\":{\"x\":705,\"y\":195,\"stage_width\":...        1a748eff   \n",
       "\n",
       "         event_count  event_code  game_time       title  type      world  \n",
       "1138194          148        4070     289254  Dino Drink  Game  MAGMAPEAK  "
      ]
     },
     "execution_count": 165,
     "metadata": {},
     "output_type": "execute_result"
    }
   ],
   "source": [
    "train_.head(1)"
   ]
  },
  {
   "cell_type": "code",
   "execution_count": 173,
   "metadata": {},
   "outputs": [
    {
     "data": {
      "text/plain": [
       "303319"
      ]
     },
     "execution_count": 173,
     "metadata": {},
     "output_type": "execute_result"
    }
   ],
   "source": [
    "train.game_session.value_counts().count()"
   ]
  },
  {
   "cell_type": "code",
   "execution_count": 174,
   "metadata": {},
   "outputs": [
    {
     "data": {
      "text/plain": [
       "17000"
      ]
     },
     "execution_count": 174,
     "metadata": {},
     "output_type": "execute_result"
    }
   ],
   "source": [
    "train.installation_id.value_counts().count()"
   ]
  },
  {
   "cell_type": "code",
   "execution_count": 179,
   "metadata": {},
   "outputs": [
    {
     "data": {
      "image/png": "[encoded data removed]",
      "text/plain": [
       "<Figure size 1440x720 with 1 Axes>"
      ]
     },
     "metadata": {
      "needs_background": "light"
     },
     "output_type": "display_data"
    }
   ],
   "source": [
    "plt.figure(figsize = (20, 10))\n",
    "train.groupby('installation_id')['event_id'].count().plot(c=my_pal[3])\n",
    "\n",
    "plt.title('Count of Game Session by Event ID')\n",
    "plt.show()"
   ]
  },
  {
   "cell_type": "code",
   "execution_count": 152,
   "metadata": {},
   "outputs": [
    {
     "data": {
      "text/plain": [
       "(          event_count      event_code     game_time\n",
       " count  1000000.000000  1000000.000000  1.000000e+06\n",
       " mean       105.516349     3513.826022  1.987830e+05\n",
       " std        148.097846      681.781191  1.847707e+06\n",
       " min          1.000000     2000.000000  0.000000e+00\n",
       " 25%         25.000000     3021.000000  3.057000e+04\n",
       " 50%         60.000000     4020.000000  7.264300e+04\n",
       " 75%        128.000000     4035.000000  1.572660e+05\n",
       " max       3364.000000     5010.000000  3.068999e+08,\n",
       "         event_count    event_code     game_time\n",
       " count  1.134104e+07  1.134104e+07  1.134104e+07\n",
       " mean   1.056642e+02  3.513838e+03  1.976236e+05\n",
       " std    1.483477e+02  6.816470e+02  1.803968e+06\n",
       " min    1.000000e+00  2.000000e+03  0.000000e+00\n",
       " 25%    2.500000e+01  3.021000e+03  3.061800e+04\n",
       " 50%    6.100000e+01  4.020000e+03  7.276100e+04\n",
       " 75%    1.290000e+02  4.035000e+03  1.574460e+05\n",
       " max    3.368000e+03  5.010000e+03  3.069102e+08)"
      ]
     },
     "execution_count": 152,
     "metadata": {},
     "output_type": "execute_result"
    }
   ],
   "source": [
    "# train sample df representative of train df\n",
    "\n",
    "train_.describe(), train.describe()"
   ]
  },
  {
   "cell_type": "code",
   "execution_count": 153,
   "metadata": {},
   "outputs": [
    {
     "name": "stdout",
     "output_type": "stream",
     "text": [
      "<class 'pandas.core.frame.DataFrame'>\n",
      "Int64Index: 1000000 entries, 1138194 to 7030313\n",
      "Data columns (total 11 columns):\n",
      "event_id           1000000 non-null object\n",
      "game_session       1000000 non-null object\n",
      "timestamp          1000000 non-null object\n",
      "event_data         1000000 non-null object\n",
      "installation_id    1000000 non-null object\n",
      "event_count        1000000 non-null int64\n",
      "event_code         1000000 non-null int64\n",
      "game_time          1000000 non-null int64\n",
      "title              1000000 non-null object\n",
      "type               1000000 non-null object\n",
      "world              1000000 non-null object\n",
      "dtypes: int64(3), object(8)\n",
      "memory usage: 91.6+ MB\n"
     ]
    }
   ],
   "source": [
    "train_.info()"
   ]
  },
  {
   "cell_type": "code",
   "execution_count": 163,
   "metadata": {},
   "outputs": [
    {
     "name": "stdout",
     "output_type": "stream",
     "text": [
      "The train df has 17000 unique installation_id values and no nulls.\n",
      "The train_ df has 13284 unique installation_id values and no nulls.\n"
     ]
    }
   ],
   "source": [
    "print(f\"The train df has {train['installation_id'].nunique()} unique installation_id values and no nulls.\")\n",
    "print(f\"The train_ df has {train_['installation_id'].nunique()} unique installation_id values and no nulls.\")"
   ]
  },
  {
   "cell_type": "code",
   "execution_count": 155,
   "metadata": {},
   "outputs": [
    {
     "data": {
      "text/plain": [
       "event_id           0\n",
       "game_session       0\n",
       "timestamp          0\n",
       "event_data         0\n",
       "installation_id    0\n",
       "event_count        0\n",
       "event_code         0\n",
       "game_time          0\n",
       "title              0\n",
       "type               0\n",
       "world              0\n",
       "dtype: int64"
      ]
     },
     "execution_count": 155,
     "metadata": {},
     "output_type": "execute_result"
    }
   ],
   "source": [
    "train_.isnull().sum()"
   ]
  },
  {
   "cell_type": "code",
   "execution_count": 156,
   "metadata": {},
   "outputs": [
    {
     "data": {
      "text/plain": [
       "event_id              374\n",
       "game_session       124501\n",
       "timestamp          995361\n",
       "event_data         967629\n",
       "installation_id     13284\n",
       "title                  44\n",
       "type                    4\n",
       "world                   4\n",
       "dtype: int64"
      ]
     },
     "execution_count": 156,
     "metadata": {},
     "output_type": "execute_result"
    }
   ],
   "source": [
    "train_.select_dtypes('object').apply(pd.Series.nunique, axis = 0)"
   ]
  },
  {
   "cell_type": "code",
   "execution_count": null,
   "metadata": {},
   "outputs": [],
   "source": []
  },
  {
   "cell_type": "markdown",
   "metadata": {},
   "source": [
    "# Summarize train_labels df"
   ]
  },
  {
   "cell_type": "code",
   "execution_count": 37,
   "metadata": {},
   "outputs": [
    {
     "name": "stdout",
     "output_type": "stream",
     "text": [
      "The train_labels df has 17690 rows and 7 columns.\n"
     ]
    }
   ],
   "source": [
    "print(f'The train_labels df has {train_labels.shape[0]} rows and {train_labels.shape[1]} columns.')"
   ]
  },
  {
   "cell_type": "code",
   "execution_count": 38,
   "metadata": {},
   "outputs": [
    {
     "name": "stdout",
     "output_type": "stream",
     "text": [
      "The train_label df has 3614 unique installation_id values and no nulls.\n"
     ]
    }
   ],
   "source": [
    "print(f\"The train_label df has {train_labels['installation_id'].nunique()} unique installation_id values and no nulls.\")"
   ]
  },
  {
   "cell_type": "code",
   "execution_count": 39,
   "metadata": {},
   "outputs": [
    {
     "data": {
      "text/plain": [
       "game_session       0\n",
       "installation_id    0\n",
       "title              0\n",
       "num_correct        0\n",
       "num_incorrect      0\n",
       "accuracy           0\n",
       "accuracy_group     0\n",
       "dtype: int64"
      ]
     },
     "execution_count": 39,
     "metadata": {},
     "output_type": "execute_result"
    }
   ],
   "source": [
    "train_labels.isnull().sum()"
   ]
  },
  {
   "cell_type": "code",
   "execution_count": 40,
   "metadata": {},
   "outputs": [
    {
     "data": {
      "text/html": [
       "<div>\n",
       "<style scoped>\n",
       "    .dataframe tbody tr th:only-of-type {\n",
       "        vertical-align: middle;\n",
       "    }\n",
       "\n",
       "    .dataframe tbody tr th {\n",
       "        vertical-align: top;\n",
       "    }\n",
       "\n",
       "    .dataframe thead th {\n",
       "        text-align: right;\n",
       "    }\n",
       "</style>\n",
       "<table border=\"1\" class=\"dataframe\">\n",
       "  <thead>\n",
       "    <tr style=\"text-align: right;\">\n",
       "      <th></th>\n",
       "      <th>game_session</th>\n",
       "      <th>installation_id</th>\n",
       "      <th>title</th>\n",
       "      <th>num_correct</th>\n",
       "      <th>num_incorrect</th>\n",
       "      <th>accuracy</th>\n",
       "      <th>accuracy_group</th>\n",
       "    </tr>\n",
       "  </thead>\n",
       "  <tbody>\n",
       "    <tr>\n",
       "      <th>0</th>\n",
       "      <td>6bdf9623adc94d89</td>\n",
       "      <td>0006a69f</td>\n",
       "      <td>Mushroom Sorter (Assessment)</td>\n",
       "      <td>1</td>\n",
       "      <td>0</td>\n",
       "      <td>1.0</td>\n",
       "      <td>3</td>\n",
       "    </tr>\n",
       "    <tr>\n",
       "      <th>1</th>\n",
       "      <td>77b8ee947eb84b4e</td>\n",
       "      <td>0006a69f</td>\n",
       "      <td>Bird Measurer (Assessment)</td>\n",
       "      <td>0</td>\n",
       "      <td>11</td>\n",
       "      <td>0.0</td>\n",
       "      <td>0</td>\n",
       "    </tr>\n",
       "    <tr>\n",
       "      <th>2</th>\n",
       "      <td>901acc108f55a5a1</td>\n",
       "      <td>0006a69f</td>\n",
       "      <td>Mushroom Sorter (Assessment)</td>\n",
       "      <td>1</td>\n",
       "      <td>0</td>\n",
       "      <td>1.0</td>\n",
       "      <td>3</td>\n",
       "    </tr>\n",
       "    <tr>\n",
       "      <th>3</th>\n",
       "      <td>9501794defd84e4d</td>\n",
       "      <td>0006a69f</td>\n",
       "      <td>Mushroom Sorter (Assessment)</td>\n",
       "      <td>1</td>\n",
       "      <td>1</td>\n",
       "      <td>0.5</td>\n",
       "      <td>2</td>\n",
       "    </tr>\n",
       "    <tr>\n",
       "      <th>4</th>\n",
       "      <td>a9ef3ecb3d1acc6a</td>\n",
       "      <td>0006a69f</td>\n",
       "      <td>Bird Measurer (Assessment)</td>\n",
       "      <td>1</td>\n",
       "      <td>0</td>\n",
       "      <td>1.0</td>\n",
       "      <td>3</td>\n",
       "    </tr>\n",
       "  </tbody>\n",
       "</table>\n",
       "</div>"
      ],
      "text/plain": [
       "       game_session installation_id                         title  \\\n",
       "0  6bdf9623adc94d89        0006a69f  Mushroom Sorter (Assessment)   \n",
       "1  77b8ee947eb84b4e        0006a69f    Bird Measurer (Assessment)   \n",
       "2  901acc108f55a5a1        0006a69f  Mushroom Sorter (Assessment)   \n",
       "3  9501794defd84e4d        0006a69f  Mushroom Sorter (Assessment)   \n",
       "4  a9ef3ecb3d1acc6a        0006a69f    Bird Measurer (Assessment)   \n",
       "\n",
       "   num_correct  num_incorrect  accuracy  accuracy_group  \n",
       "0            1              0       1.0               3  \n",
       "1            0             11       0.0               0  \n",
       "2            1              0       1.0               3  \n",
       "3            1              1       0.5               2  \n",
       "4            1              0       1.0               3  "
      ]
     },
     "execution_count": 40,
     "metadata": {},
     "output_type": "execute_result"
    }
   ],
   "source": [
    "train_labels.head()"
   ]
  },
  {
   "cell_type": "code",
   "execution_count": 41,
   "metadata": {},
   "outputs": [
    {
     "data": {
      "text/html": [
       "<div>\n",
       "<style scoped>\n",
       "    .dataframe tbody tr th:only-of-type {\n",
       "        vertical-align: middle;\n",
       "    }\n",
       "\n",
       "    .dataframe tbody tr th {\n",
       "        vertical-align: top;\n",
       "    }\n",
       "\n",
       "    .dataframe thead th {\n",
       "        text-align: right;\n",
       "    }\n",
       "</style>\n",
       "<table border=\"1\" class=\"dataframe\">\n",
       "  <thead>\n",
       "    <tr style=\"text-align: right;\">\n",
       "      <th></th>\n",
       "      <th>num_correct</th>\n",
       "      <th>num_incorrect</th>\n",
       "      <th>accuracy</th>\n",
       "      <th>accuracy_group</th>\n",
       "    </tr>\n",
       "  </thead>\n",
       "  <tbody>\n",
       "    <tr>\n",
       "      <th>count</th>\n",
       "      <td>17690.000000</td>\n",
       "      <td>17690.000000</td>\n",
       "      <td>17690.000000</td>\n",
       "      <td>17690.000000</td>\n",
       "    </tr>\n",
       "    <tr>\n",
       "      <th>mean</th>\n",
       "      <td>0.760938</td>\n",
       "      <td>1.587790</td>\n",
       "      <td>0.595810</td>\n",
       "      <td>1.885585</td>\n",
       "    </tr>\n",
       "    <tr>\n",
       "      <th>std</th>\n",
       "      <td>0.426523</td>\n",
       "      <td>3.058295</td>\n",
       "      <td>0.430559</td>\n",
       "      <td>1.256796</td>\n",
       "    </tr>\n",
       "    <tr>\n",
       "      <th>min</th>\n",
       "      <td>0.000000</td>\n",
       "      <td>0.000000</td>\n",
       "      <td>0.000000</td>\n",
       "      <td>0.000000</td>\n",
       "    </tr>\n",
       "    <tr>\n",
       "      <th>25%</th>\n",
       "      <td>1.000000</td>\n",
       "      <td>0.000000</td>\n",
       "      <td>0.111111</td>\n",
       "      <td>1.000000</td>\n",
       "    </tr>\n",
       "    <tr>\n",
       "      <th>50%</th>\n",
       "      <td>1.000000</td>\n",
       "      <td>0.500000</td>\n",
       "      <td>0.750000</td>\n",
       "      <td>2.500000</td>\n",
       "    </tr>\n",
       "    <tr>\n",
       "      <th>75%</th>\n",
       "      <td>1.000000</td>\n",
       "      <td>2.000000</td>\n",
       "      <td>1.000000</td>\n",
       "      <td>3.000000</td>\n",
       "    </tr>\n",
       "    <tr>\n",
       "      <th>max</th>\n",
       "      <td>1.000000</td>\n",
       "      <td>85.000000</td>\n",
       "      <td>1.000000</td>\n",
       "      <td>3.000000</td>\n",
       "    </tr>\n",
       "  </tbody>\n",
       "</table>\n",
       "</div>"
      ],
      "text/plain": [
       "        num_correct  num_incorrect      accuracy  accuracy_group\n",
       "count  17690.000000   17690.000000  17690.000000    17690.000000\n",
       "mean       0.760938       1.587790      0.595810        1.885585\n",
       "std        0.426523       3.058295      0.430559        1.256796\n",
       "min        0.000000       0.000000      0.000000        0.000000\n",
       "25%        1.000000       0.000000      0.111111        1.000000\n",
       "50%        1.000000       0.500000      0.750000        2.500000\n",
       "75%        1.000000       2.000000      1.000000        3.000000\n",
       "max        1.000000      85.000000      1.000000        3.000000"
      ]
     },
     "execution_count": 41,
     "metadata": {},
     "output_type": "execute_result"
    }
   ],
   "source": [
    "train_labels.describe()"
   ]
  },
  {
   "cell_type": "code",
   "execution_count": 42,
   "metadata": {},
   "outputs": [
    {
     "name": "stdout",
     "output_type": "stream",
     "text": [
      "<class 'pandas.core.frame.DataFrame'>\n",
      "RangeIndex: 17690 entries, 0 to 17689\n",
      "Data columns (total 7 columns):\n",
      "game_session       17690 non-null object\n",
      "installation_id    17690 non-null object\n",
      "title              17690 non-null object\n",
      "num_correct        17690 non-null int64\n",
      "num_incorrect      17690 non-null int64\n",
      "accuracy           17690 non-null float64\n",
      "accuracy_group     17690 non-null int64\n",
      "dtypes: float64(1), int64(3), object(3)\n",
      "memory usage: 967.5+ KB\n"
     ]
    }
   ],
   "source": [
    "train_labels.info()"
   ]
  },
  {
   "cell_type": "code",
   "execution_count": 57,
   "metadata": {},
   "outputs": [
    {
     "data": {
      "text/plain": [
       "game_session       17690\n",
       "installation_id     3614\n",
       "title                  5\n",
       "dtype: int64"
      ]
     },
     "execution_count": 57,
     "metadata": {},
     "output_type": "execute_result"
    }
   ],
   "source": [
    "train_labels.select_dtypes('object').apply(pd.Series.nunique, axis = 0)"
   ]
  },
  {
   "cell_type": "code",
   "execution_count": 43,
   "metadata": {},
   "outputs": [
    {
     "data": {
      "text/plain": [
       "accuracy_group\n",
       "0    4229\n",
       "1    2411\n",
       "2    2205\n",
       "3    8845\n",
       "Name: installation_id, dtype: int64"
      ]
     },
     "execution_count": 43,
     "metadata": {},
     "output_type": "execute_result"
    }
   ],
   "source": [
    "train_labels.groupby('accuracy_group')['installation_id'].count()"
   ]
  },
  {
   "cell_type": "markdown",
   "metadata": {},
   "source": [
    "## 50% of users pass the assessments on the first try"
   ]
  },
  {
   "cell_type": "code",
   "execution_count": 48,
   "metadata": {},
   "outputs": [],
   "source": [
    "values['count'] = pd.DataFrame(train_labels.accuracy_group.value_counts())"
   ]
  },
  {
   "cell_type": "code",
   "execution_count": 49,
   "metadata": {},
   "outputs": [],
   "source": [
    "values['percent'] = train_labels.accuracy_group.value_counts(normalize=True)"
   ]
  },
  {
   "cell_type": "code",
   "execution_count": 51,
   "metadata": {},
   "outputs": [
    {
     "data": {
      "text/html": [
       "<div>\n",
       "<style scoped>\n",
       "    .dataframe tbody tr th:only-of-type {\n",
       "        vertical-align: middle;\n",
       "    }\n",
       "\n",
       "    .dataframe tbody tr th {\n",
       "        vertical-align: top;\n",
       "    }\n",
       "\n",
       "    .dataframe thead th {\n",
       "        text-align: right;\n",
       "    }\n",
       "</style>\n",
       "<table border=\"1\" class=\"dataframe\">\n",
       "  <thead>\n",
       "    <tr style=\"text-align: right;\">\n",
       "      <th></th>\n",
       "      <th>percent</th>\n",
       "      <th>count</th>\n",
       "    </tr>\n",
       "  </thead>\n",
       "  <tbody>\n",
       "    <tr>\n",
       "      <th>3</th>\n",
       "      <td>0.500000</td>\n",
       "      <td>8845</td>\n",
       "    </tr>\n",
       "    <tr>\n",
       "      <th>0</th>\n",
       "      <td>0.239062</td>\n",
       "      <td>4229</td>\n",
       "    </tr>\n",
       "    <tr>\n",
       "      <th>1</th>\n",
       "      <td>0.136292</td>\n",
       "      <td>2411</td>\n",
       "    </tr>\n",
       "    <tr>\n",
       "      <th>2</th>\n",
       "      <td>0.124647</td>\n",
       "      <td>2205</td>\n",
       "    </tr>\n",
       "  </tbody>\n",
       "</table>\n",
       "</div>"
      ],
      "text/plain": [
       "    percent  count\n",
       "3  0.500000   8845\n",
       "0  0.239062   4229\n",
       "1  0.136292   2411\n",
       "2  0.124647   2205"
      ]
     },
     "execution_count": 51,
     "metadata": {},
     "output_type": "execute_result"
    }
   ],
   "source": [
    "values.drop(columns='accuracy_group')"
   ]
  },
  {
   "cell_type": "markdown",
   "metadata": {},
   "source": [
    "# Summarize spec data"
   ]
  },
  {
   "cell_type": "code",
   "execution_count": 53,
   "metadata": {},
   "outputs": [
    {
     "name": "stdout",
     "output_type": "stream",
     "text": [
      "The specs df has 386 rows and 3 columns.\n"
     ]
    }
   ],
   "source": [
    "print(f'The specs df has {specs.shape[0]} rows and {specs.shape[1]} columns.')"
   ]
  },
  {
   "cell_type": "code",
   "execution_count": 52,
   "metadata": {},
   "outputs": [
    {
     "data": {
      "text/html": [
       "<div>\n",
       "<style scoped>\n",
       "    .dataframe tbody tr th:only-of-type {\n",
       "        vertical-align: middle;\n",
       "    }\n",
       "\n",
       "    .dataframe tbody tr th {\n",
       "        vertical-align: top;\n",
       "    }\n",
       "\n",
       "    .dataframe thead th {\n",
       "        text-align: right;\n",
       "    }\n",
       "</style>\n",
       "<table border=\"1\" class=\"dataframe\">\n",
       "  <thead>\n",
       "    <tr style=\"text-align: right;\">\n",
       "      <th></th>\n",
       "      <th>event_id</th>\n",
       "      <th>info</th>\n",
       "      <th>args</th>\n",
       "    </tr>\n",
       "  </thead>\n",
       "  <tbody>\n",
       "    <tr>\n",
       "      <th>0</th>\n",
       "      <td>2b9272f4</td>\n",
       "      <td>The end of system-initiated feedback (Correct)...</td>\n",
       "      <td>[{\"name\":\"game_time\",\"type\":\"int\",\"info\":\"mill...</td>\n",
       "    </tr>\n",
       "    <tr>\n",
       "      <th>1</th>\n",
       "      <td>df4fe8b6</td>\n",
       "      <td>The end of system-initiated feedback (Incorrec...</td>\n",
       "      <td>[{\"name\":\"game_time\",\"type\":\"int\",\"info\":\"mill...</td>\n",
       "    </tr>\n",
       "    <tr>\n",
       "      <th>2</th>\n",
       "      <td>3babcb9b</td>\n",
       "      <td>The end of system-initiated instruction event ...</td>\n",
       "      <td>[{\"name\":\"game_time\",\"type\":\"int\",\"info\":\"mill...</td>\n",
       "    </tr>\n",
       "    <tr>\n",
       "      <th>3</th>\n",
       "      <td>7f0836bf</td>\n",
       "      <td>The end of system-initiated instruction event ...</td>\n",
       "      <td>[{\"name\":\"game_time\",\"type\":\"int\",\"info\":\"mill...</td>\n",
       "    </tr>\n",
       "    <tr>\n",
       "      <th>4</th>\n",
       "      <td>ab3136ba</td>\n",
       "      <td>The end of system-initiated instruction event ...</td>\n",
       "      <td>[{\"name\":\"game_time\",\"type\":\"int\",\"info\":\"mill...</td>\n",
       "    </tr>\n",
       "  </tbody>\n",
       "</table>\n",
       "</div>"
      ],
      "text/plain": [
       "   event_id                                               info  \\\n",
       "0  2b9272f4  The end of system-initiated feedback (Correct)...   \n",
       "1  df4fe8b6  The end of system-initiated feedback (Incorrec...   \n",
       "2  3babcb9b  The end of system-initiated instruction event ...   \n",
       "3  7f0836bf  The end of system-initiated instruction event ...   \n",
       "4  ab3136ba  The end of system-initiated instruction event ...   \n",
       "\n",
       "                                                args  \n",
       "0  [{\"name\":\"game_time\",\"type\":\"int\",\"info\":\"mill...  \n",
       "1  [{\"name\":\"game_time\",\"type\":\"int\",\"info\":\"mill...  \n",
       "2  [{\"name\":\"game_time\",\"type\":\"int\",\"info\":\"mill...  \n",
       "3  [{\"name\":\"game_time\",\"type\":\"int\",\"info\":\"mill...  \n",
       "4  [{\"name\":\"game_time\",\"type\":\"int\",\"info\":\"mill...  "
      ]
     },
     "execution_count": 52,
     "metadata": {},
     "output_type": "execute_result"
    }
   ],
   "source": [
    "specs.head()"
   ]
  },
  {
   "cell_type": "code",
   "execution_count": 58,
   "metadata": {},
   "outputs": [
    {
     "data": {
      "text/plain": [
       "event_id    386\n",
       "info        168\n",
       "args        191\n",
       "dtype: int64"
      ]
     },
     "execution_count": 58,
     "metadata": {},
     "output_type": "execute_result"
    }
   ],
   "source": [
    "specs.select_dtypes('object').apply(pd.Series.nunique, axis = 0)"
   ]
  },
  {
   "cell_type": "code",
   "execution_count": null,
   "metadata": {},
   "outputs": [],
   "source": []
  },
  {
   "cell_type": "code",
   "execution_count": null,
   "metadata": {},
   "outputs": [],
   "source": []
  },
  {
   "cell_type": "markdown",
   "metadata": {},
   "source": [
    "# Explore train_ df"
   ]
  },
  {
   "cell_type": "code",
   "execution_count": 157,
   "metadata": {},
   "outputs": [
    {
     "data": {
      "text/html": [
       "<div>\n",
       "<style scoped>\n",
       "    .dataframe tbody tr th:only-of-type {\n",
       "        vertical-align: middle;\n",
       "    }\n",
       "\n",
       "    .dataframe tbody tr th {\n",
       "        vertical-align: top;\n",
       "    }\n",
       "\n",
       "    .dataframe thead th {\n",
       "        text-align: right;\n",
       "    }\n",
       "</style>\n",
       "<table border=\"1\" class=\"dataframe\">\n",
       "  <thead>\n",
       "    <tr style=\"text-align: right;\">\n",
       "      <th></th>\n",
       "      <th>event_count</th>\n",
       "      <th>event_code</th>\n",
       "      <th>game_time</th>\n",
       "    </tr>\n",
       "  </thead>\n",
       "  <tbody>\n",
       "    <tr>\n",
       "      <th>event_count</th>\n",
       "      <td>1.000000</td>\n",
       "      <td>0.043630</td>\n",
       "      <td>0.139358</td>\n",
       "    </tr>\n",
       "    <tr>\n",
       "      <th>event_code</th>\n",
       "      <td>0.043630</td>\n",
       "      <td>1.000000</td>\n",
       "      <td>0.006159</td>\n",
       "    </tr>\n",
       "    <tr>\n",
       "      <th>game_time</th>\n",
       "      <td>0.139358</td>\n",
       "      <td>0.006159</td>\n",
       "      <td>1.000000</td>\n",
       "    </tr>\n",
       "  </tbody>\n",
       "</table>\n",
       "</div>"
      ],
      "text/plain": [
       "             event_count  event_code  game_time\n",
       "event_count     1.000000    0.043630   0.139358\n",
       "event_code      0.043630    1.000000   0.006159\n",
       "game_time       0.139358    0.006159   1.000000"
      ]
     },
     "execution_count": 157,
     "metadata": {},
     "output_type": "execute_result"
    }
   ],
   "source": [
    "corrs = train_.corr()\n",
    "corrs"
   ]
  },
  {
   "cell_type": "code",
   "execution_count": 177,
   "metadata": {},
   "outputs": [
    {
     "data": {
      "image/png": "[encoded data removed]",
      "text/plain": [
       "<Figure size 1440x720 with 2 Axes>"
      ]
     },
     "metadata": {
      "needs_background": "light"
     },
     "output_type": "display_data"
    }
   ],
   "source": [
    "plt.figure(figsize = (20, 10))\n",
    "\n",
    "sns.heatmap(corrs, cmap = my_pal, annot = True)\n",
    "plt.title('Correlation Heatmap');"
   ]
  },
  {
   "cell_type": "code",
   "execution_count": 176,
   "metadata": {},
   "outputs": [
    {
     "data": {
      "image/png": "[encoded data removed]",
      "text/plain": [
       "<Figure size 1080x360 with 1 Axes>"
      ]
     },
     "metadata": {
      "needs_background": "light"
     },
     "output_type": "display_data"
    }
   ],
   "source": [
    "train.groupby('installation_id') \\\n",
    "    .count()['event_id'] \\\n",
    "    .apply(np.log1p) \\\n",
    "    .plot(kind='hist',\n",
    "          bins=40,\n",
    "          color=my_pal[3],\n",
    "         figsize=(15, 5),\n",
    "         title='Log(Count) of Observations by installation_id')\n",
    "plt.show()"
   ]
  },
  {
   "cell_type": "code",
   "execution_count": 159,
   "metadata": {},
   "outputs": [
    {
     "data": {
      "text/html": [
       "<div>\n",
       "<style scoped>\n",
       "    .dataframe tbody tr th:only-of-type {\n",
       "        vertical-align: middle;\n",
       "    }\n",
       "\n",
       "    .dataframe tbody tr th {\n",
       "        vertical-align: top;\n",
       "    }\n",
       "\n",
       "    .dataframe thead th {\n",
       "        text-align: right;\n",
       "    }\n",
       "</style>\n",
       "<table border=\"1\" class=\"dataframe\">\n",
       "  <thead>\n",
       "    <tr style=\"text-align: right;\">\n",
       "      <th></th>\n",
       "      <th>event_id</th>\n",
       "      <th>game_session</th>\n",
       "      <th>timestamp</th>\n",
       "      <th>event_data</th>\n",
       "      <th>installation_id</th>\n",
       "      <th>event_count</th>\n",
       "      <th>event_code</th>\n",
       "      <th>game_time</th>\n",
       "      <th>title</th>\n",
       "      <th>type</th>\n",
       "      <th>world</th>\n",
       "    </tr>\n",
       "  </thead>\n",
       "  <tbody>\n",
       "    <tr>\n",
       "      <th>1138194</th>\n",
       "      <td>6c517a88</td>\n",
       "      <td>665629a879481995</td>\n",
       "      <td>2019-08-04T12:13:50.279Z</td>\n",
       "      <td>{\"coordinates\":{\"x\":705,\"y\":195,\"stage_width\":...</td>\n",
       "      <td>1a748eff</td>\n",
       "      <td>148</td>\n",
       "      <td>4070</td>\n",
       "      <td>289254</td>\n",
       "      <td>Dino Drink</td>\n",
       "      <td>Game</td>\n",
       "      <td>MAGMAPEAK</td>\n",
       "    </tr>\n",
       "  </tbody>\n",
       "</table>\n",
       "</div>"
      ],
      "text/plain": [
       "         event_id      game_session                 timestamp  \\\n",
       "1138194  6c517a88  665629a879481995  2019-08-04T12:13:50.279Z   \n",
       "\n",
       "                                                event_data installation_id  \\\n",
       "1138194  {\"coordinates\":{\"x\":705,\"y\":195,\"stage_width\":...        1a748eff   \n",
       "\n",
       "         event_count  event_code  game_time       title  type      world  \n",
       "1138194          148        4070     289254  Dino Drink  Game  MAGMAPEAK  "
      ]
     },
     "execution_count": 159,
     "metadata": {},
     "output_type": "execute_result"
    }
   ],
   "source": [
    "train_.head(1)"
   ]
  },
  {
   "cell_type": "code",
   "execution_count": 160,
   "metadata": {},
   "outputs": [
    {
     "data": {
      "text/html": [
       "<div>\n",
       "<style scoped>\n",
       "    .dataframe tbody tr th:only-of-type {\n",
       "        vertical-align: middle;\n",
       "    }\n",
       "\n",
       "    .dataframe tbody tr th {\n",
       "        vertical-align: top;\n",
       "    }\n",
       "\n",
       "    .dataframe thead th {\n",
       "        text-align: right;\n",
       "    }\n",
       "</style>\n",
       "<table border=\"1\" class=\"dataframe\">\n",
       "  <thead>\n",
       "    <tr style=\"text-align: right;\">\n",
       "      <th></th>\n",
       "      <th>game_session</th>\n",
       "      <th>installation_id</th>\n",
       "      <th>title</th>\n",
       "      <th>num_correct</th>\n",
       "      <th>num_incorrect</th>\n",
       "      <th>accuracy</th>\n",
       "      <th>accuracy_group</th>\n",
       "    </tr>\n",
       "  </thead>\n",
       "  <tbody>\n",
       "    <tr>\n",
       "      <th>0</th>\n",
       "      <td>6bdf9623adc94d89</td>\n",
       "      <td>0006a69f</td>\n",
       "      <td>Mushroom Sorter (Assessment)</td>\n",
       "      <td>1</td>\n",
       "      <td>0</td>\n",
       "      <td>1.0</td>\n",
       "      <td>3</td>\n",
       "    </tr>\n",
       "  </tbody>\n",
       "</table>\n",
       "</div>"
      ],
      "text/plain": [
       "       game_session installation_id                         title  \\\n",
       "0  6bdf9623adc94d89        0006a69f  Mushroom Sorter (Assessment)   \n",
       "\n",
       "   num_correct  num_incorrect  accuracy  accuracy_group  \n",
       "0            1              0       1.0               3  "
      ]
     },
     "execution_count": 160,
     "metadata": {},
     "output_type": "execute_result"
    }
   ],
   "source": [
    "train_labels.head(1)"
   ]
  },
  {
   "cell_type": "code",
   "execution_count": 162,
   "metadata": {},
   "outputs": [
    {
     "data": {
      "text/plain": [
       "event_id                926\n",
       "game_session              0\n",
       "timestamp               926\n",
       "event_data              926\n",
       "installation_id_x       926\n",
       "event_count             926\n",
       "event_code              926\n",
       "game_time               926\n",
       "title_x                 926\n",
       "type                    926\n",
       "world                   926\n",
       "installation_id_y    923816\n",
       "title_y              923816\n",
       "num_correct          923816\n",
       "num_incorrect        923816\n",
       "accuracy             923816\n",
       "accuracy_group       923816\n",
       "dtype: int64"
      ]
     },
     "execution_count": 162,
     "metadata": {},
     "output_type": "execute_result"
    }
   ],
   "source": [
    "merge = train_.merge(right=train_labels, how='outer', on='game_session')\n",
    "merge.isnull().sum()"
   ]
  },
  {
   "cell_type": "code",
   "execution_count": 122,
   "metadata": {},
   "outputs": [
    {
     "data": {
      "image/png": "[encoded data removed]",
      "text/plain": [
       "<Figure size 1440x1080 with 1 Axes>"
      ]
     },
     "metadata": {
      "needs_background": "light"
     },
     "output_type": "display_data"
    }
   ],
   "source": [
    "train['title'].value_counts().plot(kind='barh', figsize=(20, 15), title='Count by Title')\n",
    "\n",
    "plt.show()"
   ]
  },
  {
   "cell_type": "code",
   "execution_count": 123,
   "metadata": {},
   "outputs": [
    {
     "data": {
      "text/plain": [
       "MAGMAPEAK       5023687\n",
       "CRYSTALCAVES    3232546\n",
       "TREETOPCITY     3061231\n",
       "NONE              23578\n",
       "Name: world, dtype: int64"
      ]
     },
     "execution_count": 123,
     "metadata": {},
     "output_type": "execute_result"
    }
   ],
   "source": [
    "train.world.value_counts()"
   ]
  },
  {
   "cell_type": "markdown",
   "metadata": {},
   "source": [
    "- Convert timestamp to datetime object and extract hour time parts for exploration"
   ]
  },
  {
   "cell_type": "code",
   "execution_count": 124,
   "metadata": {},
   "outputs": [],
   "source": [
    "# Format and make date / hour features\n",
    "train['timestamp'] = pd.to_datetime(train['timestamp'])\n",
    "train['date'] = train['timestamp'].dt.date\n",
    "train['hour'] = train['timestamp'].dt.hour\n",
    "train['weekday_name'] = train['timestamp'].dt.weekday_name\n",
    "# Same for test\n",
    "# test['timestamp'] = pd.to_datetime(test['timestamp'])\n",
    "# test['date'] = test['timestamp'].dt.date\n",
    "# test['hour'] = test['timestamp'].dt.hour\n",
    "# test['weekday_name'] = test['timestamp'].dt.weekday_name"
   ]
  },
  {
   "cell_type": "code",
   "execution_count": 125,
   "metadata": {},
   "outputs": [
    {
     "data": {
      "text/html": [
       "<div>\n",
       "<style scoped>\n",
       "    .dataframe tbody tr th:only-of-type {\n",
       "        vertical-align: middle;\n",
       "    }\n",
       "\n",
       "    .dataframe tbody tr th {\n",
       "        vertical-align: top;\n",
       "    }\n",
       "\n",
       "    .dataframe thead th {\n",
       "        text-align: right;\n",
       "    }\n",
       "</style>\n",
       "<table border=\"1\" class=\"dataframe\">\n",
       "  <thead>\n",
       "    <tr style=\"text-align: right;\">\n",
       "      <th></th>\n",
       "      <th>event_id</th>\n",
       "      <th>game_session</th>\n",
       "      <th>timestamp</th>\n",
       "      <th>event_data</th>\n",
       "      <th>installation_id</th>\n",
       "      <th>event_count</th>\n",
       "      <th>event_code</th>\n",
       "      <th>game_time</th>\n",
       "      <th>title</th>\n",
       "      <th>type</th>\n",
       "      <th>world</th>\n",
       "      <th>date</th>\n",
       "      <th>hour</th>\n",
       "      <th>weekday_name</th>\n",
       "    </tr>\n",
       "  </thead>\n",
       "  <tbody>\n",
       "    <tr>\n",
       "      <th>0</th>\n",
       "      <td>27253bdc</td>\n",
       "      <td>45bb1e1b6b50c07b</td>\n",
       "      <td>2019-09-06 17:53:46.937000+00:00</td>\n",
       "      <td>{\"event_code\": 2000, \"event_count\": 1}</td>\n",
       "      <td>0001e90f</td>\n",
       "      <td>1</td>\n",
       "      <td>2000</td>\n",
       "      <td>0</td>\n",
       "      <td>Welcome to Lost Lagoon!</td>\n",
       "      <td>Clip</td>\n",
       "      <td>NONE</td>\n",
       "      <td>2019-09-06</td>\n",
       "      <td>17</td>\n",
       "      <td>Friday</td>\n",
       "    </tr>\n",
       "  </tbody>\n",
       "</table>\n",
       "</div>"
      ],
      "text/plain": [
       "   event_id      game_session                        timestamp  \\\n",
       "0  27253bdc  45bb1e1b6b50c07b 2019-09-06 17:53:46.937000+00:00   \n",
       "\n",
       "                               event_data installation_id  event_count  \\\n",
       "0  {\"event_code\": 2000, \"event_count\": 1}        0001e90f            1   \n",
       "\n",
       "   event_code  game_time                    title  type world        date  \\\n",
       "0        2000          0  Welcome to Lost Lagoon!  Clip  NONE  2019-09-06   \n",
       "\n",
       "   hour weekday_name  \n",
       "0    17       Friday  "
      ]
     },
     "execution_count": 125,
     "metadata": {},
     "output_type": "execute_result"
    }
   ],
   "source": [
    "train.head(1)"
   ]
  },
  {
   "cell_type": "code",
   "execution_count": 128,
   "metadata": {},
   "outputs": [
    {
     "data": {
      "text/plain": [
       "Friday       1801243\n",
       "Thursday     1689996\n",
       "Monday       1617978\n",
       "Saturday     1590883\n",
       "Tuesday      1566807\n",
       "Sunday       1540013\n",
       "Wednesday    1534122\n",
       "Name: weekday_name, dtype: int64"
      ]
     },
     "execution_count": 128,
     "metadata": {},
     "output_type": "execute_result"
    }
   ],
   "source": [
    "train.weekday_name.value_counts()"
   ]
  },
  {
   "cell_type": "code",
   "execution_count": 141,
   "metadata": {},
   "outputs": [],
   "source": []
  },
  {
   "cell_type": "code",
   "execution_count": 146,
   "metadata": {},
   "outputs": [
    {
     "data": {
      "image/png": "[encoded data removed]",
      "text/plain": [
       "<Figure size 1080x216 with 1 Axes>"
      ]
     },
     "metadata": {
      "needs_background": "light"
     },
     "output_type": "display_data"
    },
    {
     "data": {
      "image/png": "[encoded data removed]",
      "text/plain": [
       "<Figure size 1080x216 with 1 Axes>"
      ]
     },
     "metadata": {
      "needs_background": "light"
     },
     "output_type": "display_data"
    },
    {
     "data": {
      "image/png": "[encoded data removed]",
      "text/plain": [
       "<Figure size 1080x216 with 1 Axes>"
      ]
     },
     "metadata": {
      "needs_background": "light"
     },
     "output_type": "display_data"
    }
   ],
   "source": [
    "train.groupby('date')['event_id'] \\\n",
    "    .agg('count') \\\n",
    "    .plot(figsize=(15, 3),\n",
    "         title='Numer of Event Observations by Date',\n",
    "         color=my_pal[0])\n",
    "plt.show()\n",
    "train.groupby('hour')['event_id'] \\\n",
    "    .agg('count') \\\n",
    "    .plot(figsize=(15, 3),\n",
    "         title='Numer of Event Observations by Hour',\n",
    "         color=my_pal[1])\n",
    "plt.show()\n",
    "train.groupby('weekday_name')['event_id'] \\\n",
    "    .agg('count').T[['Monday','Tuesday','Wednesday',\n",
    "                     'Thursday','Friday','Saturday',\n",
    "                     'Sunday']].T.plot(figsize=(15, 3),\n",
    "                                       title='Numer of Event Observations by Day of Week',\n",
    "                                       color=my_pal[2])\n",
    "plt.show()"
   ]
  },
  {
   "cell_type": "code",
   "execution_count": null,
   "metadata": {},
   "outputs": [],
   "source": []
  },
  {
   "cell_type": "markdown",
   "metadata": {},
   "source": [
    "# Explore train_labels df"
   ]
  },
  {
   "cell_type": "code",
   "execution_count": 119,
   "metadata": {},
   "outputs": [
    {
     "data": {
      "image/png": "[encoded data removed]",
      "text/plain": [
       "<Figure size 576x432 with 1 Axes>"
      ]
     },
     "metadata": {
      "needs_background": "light"
     },
     "output_type": "display_data"
    }
   ],
   "source": [
    "plt.figure(figsize=(8, 6))\n",
    "\n",
    "sns.countplot(x=\"accuracy_group\",data=train_labels, order = train_labels['accuracy_group'].value_counts().index)\n",
    "\n",
    "plt.title('Accuracy Group Count')\n",
    "plt.tight_layout()\n",
    "plt.show()"
   ]
  },
  {
   "cell_type": "code",
   "execution_count": 69,
   "metadata": {},
   "outputs": [
    {
     "data": {
      "text/html": [
       "<div>\n",
       "<style scoped>\n",
       "    .dataframe tbody tr th:only-of-type {\n",
       "        vertical-align: middle;\n",
       "    }\n",
       "\n",
       "    .dataframe tbody tr th {\n",
       "        vertical-align: top;\n",
       "    }\n",
       "\n",
       "    .dataframe thead th {\n",
       "        text-align: right;\n",
       "    }\n",
       "</style>\n",
       "<table border=\"1\" class=\"dataframe\">\n",
       "  <thead>\n",
       "    <tr style=\"text-align: right;\">\n",
       "      <th></th>\n",
       "      <th>num_correct</th>\n",
       "      <th>num_incorrect</th>\n",
       "      <th>accuracy</th>\n",
       "      <th>accuracy_group</th>\n",
       "    </tr>\n",
       "  </thead>\n",
       "  <tbody>\n",
       "    <tr>\n",
       "      <th>num_correct</th>\n",
       "      <td>1.000000</td>\n",
       "      <td>-0.417492</td>\n",
       "      <td>0.775654</td>\n",
       "      <td>0.840957</td>\n",
       "    </tr>\n",
       "    <tr>\n",
       "      <th>num_incorrect</th>\n",
       "      <td>-0.417492</td>\n",
       "      <td>1.000000</td>\n",
       "      <td>-0.593068</td>\n",
       "      <td>-0.573865</td>\n",
       "    </tr>\n",
       "    <tr>\n",
       "      <th>accuracy</th>\n",
       "      <td>0.775654</td>\n",
       "      <td>-0.593068</td>\n",
       "      <td>1.000000</td>\n",
       "      <td>0.988150</td>\n",
       "    </tr>\n",
       "    <tr>\n",
       "      <th>accuracy_group</th>\n",
       "      <td>0.840957</td>\n",
       "      <td>-0.573865</td>\n",
       "      <td>0.988150</td>\n",
       "      <td>1.000000</td>\n",
       "    </tr>\n",
       "  </tbody>\n",
       "</table>\n",
       "</div>"
      ],
      "text/plain": [
       "                num_correct  num_incorrect  accuracy  accuracy_group\n",
       "num_correct        1.000000      -0.417492  0.775654        0.840957\n",
       "num_incorrect     -0.417492       1.000000 -0.593068       -0.573865\n",
       "accuracy           0.775654      -0.593068  1.000000        0.988150\n",
       "accuracy_group     0.840957      -0.573865  0.988150        1.000000"
      ]
     },
     "execution_count": 69,
     "metadata": {},
     "output_type": "execute_result"
    }
   ],
   "source": [
    "corrs = train_labels.corr()\n",
    "corrs"
   ]
  },
  {
   "cell_type": "code",
   "execution_count": 70,
   "metadata": {},
   "outputs": [
    {
     "data": {
      "image/png": "[encoded data removed]",
      "text/plain": [
       "<Figure size 1440x720 with 2 Axes>"
      ]
     },
     "metadata": {
      "needs_background": "light"
     },
     "output_type": "display_data"
    }
   ],
   "source": [
    "plt.figure(figsize = (20, 10))\n",
    "\n",
    "sns.heatmap(corrs, cmap = 'PiYG', annot = True)\n",
    "plt.title('Correlation Heatmap');"
   ]
  },
  {
   "cell_type": "code",
   "execution_count": 86,
   "metadata": {},
   "outputs": [
    {
     "data": {
      "text/plain": [
       "Cart Balancer (Assessment)      2752\n",
       "Cauldron Filler (Assessment)    2545\n",
       "Mushroom Sorter (Assessment)    2348\n",
       "Bird Measurer (Assessment)       693\n",
       "Chest Sorter (Assessment)        507\n",
       "Name: title, dtype: int64"
      ]
     },
     "execution_count": 86,
     "metadata": {},
     "output_type": "execute_result"
    }
   ],
   "source": [
    "train_labels[train_labels['accuracy_group'] == 3]['title'].value_counts()"
   ]
  },
  {
   "cell_type": "code",
   "execution_count": 87,
   "metadata": {},
   "outputs": [
    {
     "data": {
      "text/plain": [
       "Cauldron Filler (Assessment)    630\n",
       "Cart Balancer (Assessment)      470\n",
       "Mushroom Sorter (Assessment)    460\n",
       "Bird Measurer (Assessment)      389\n",
       "Chest Sorter (Assessment)       256\n",
       "Name: title, dtype: int64"
      ]
     },
     "execution_count": 87,
     "metadata": {},
     "output_type": "execute_result"
    }
   ],
   "source": [
    "train_labels[train_labels['accuracy_group'] == 2]['title'].value_counts()"
   ]
  },
  {
   "cell_type": "code",
   "execution_count": 88,
   "metadata": {},
   "outputs": [
    {
     "data": {
      "text/plain": [
       "Bird Measurer (Assessment)      778\n",
       "Chest Sorter (Assessment)       466\n",
       "Cauldron Filler (Assessment)    459\n",
       "Mushroom Sorter (Assessment)    355\n",
       "Cart Balancer (Assessment)      353\n",
       "Name: title, dtype: int64"
      ]
     },
     "execution_count": 88,
     "metadata": {},
     "output_type": "execute_result"
    }
   ],
   "source": [
    "train_labels[train_labels['accuracy_group'] == 1]['title'].value_counts()"
   ]
  },
  {
   "cell_type": "code",
   "execution_count": 89,
   "metadata": {},
   "outputs": [
    {
     "data": {
      "text/plain": [
       "Chest Sorter (Assessment)       1752\n",
       "Bird Measurer (Assessment)       886\n",
       "Mushroom Sorter (Assessment)     594\n",
       "Cart Balancer (Assessment)       576\n",
       "Cauldron Filler (Assessment)     421\n",
       "Name: title, dtype: int64"
      ]
     },
     "execution_count": 89,
     "metadata": {},
     "output_type": "execute_result"
    }
   ],
   "source": [
    "train_labels[train_labels['accuracy_group'] == 0]['title'].value_counts()"
   ]
  },
  {
   "cell_type": "code",
   "execution_count": 91,
   "metadata": {},
   "outputs": [
    {
     "data": {
      "image/png": "[encoded data removed]",
      "text/plain": [
       "<Figure size 807.25x720 with 20 Axes>"
      ]
     },
     "metadata": {
      "needs_background": "light"
     },
     "output_type": "display_data"
    }
   ],
   "source": [
    "sns.pairplot(train_labels, hue='accuracy_group')\n",
    "plt.show()"
   ]
  },
  {
   "cell_type": "code",
   "execution_count": null,
   "metadata": {},
   "outputs": [],
   "source": []
  }
 ],
 "metadata": {
  "kernelspec": {
   "display_name": "Python 3",
   "language": "python",
   "name": "python3"
  },
  "language_info": {
   "codemirror_mode": {
    "name": "ipython",
    "version": 3
   },
   "file_extension": ".py",
   "mimetype": "text/x-python",
   "name": "python",
   "nbconvert_exporter": "python",
   "pygments_lexer": "ipython3",
   "version": "3.7.3"
  },
  "toc": {
   "base_numbering": 1,
   "nav_menu": {},
   "number_sections": true,
   "sideBar": true,
   "skip_h1_title": false,
   "title_cell": "Table of Contents",
   "title_sidebar": "Contents",
   "toc_cell": false,
   "toc_position": {
    "height": "calc(100% - 180px)",
    "left": "10px",
    "top": "150px",
    "width": "267.188px"
   },
   "toc_section_display": true,
   "toc_window_display": true
  }
 },
 "nbformat": 4,
 "nbformat_minor": 2
}
