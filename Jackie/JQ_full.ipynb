{
 "cells": [
  {
   "cell_type": "code",
   "execution_count": 144,
   "metadata": {},
   "outputs": [],
   "source": [
    "# Packages\n",
    "import pandas as pd\n",
    "import numpy as np\n",
    "from scipy import stats\n",
    "\n",
    "import matplotlib.pyplot as plt\n",
    "%matplotlib inline\n",
    "import seaborn as sns\n",
    "sns.set(style=\"whitegrid\")\n",
    "\n",
    "import matplotlib as mpl\n",
    "label_size = 8\n",
    "mpl.rcParams['xtick.labelsize'] = label_size \n",
    "plt.rcParams['xtick.labelsize']=10\n",
    "plt.rcParams['ytick.labelsize']=10"
   ]
  },
  {
   "cell_type": "code",
   "execution_count": 21,
   "metadata": {},
   "outputs": [],
   "source": [
    "eda = pd.read_csv(\"explore.csv\")"
   ]
  },
  {
   "cell_type": "code",
   "execution_count": null,
   "metadata": {},
   "outputs": [],
   "source": [
    "eda.drop(columns = \"Unnamed: 0\", inplace = True)"
   ]
  },
  {
   "cell_type": "code",
   "execution_count": 151,
   "metadata": {},
   "outputs": [
    {
     "data": {
      "text/plain": [
       "(11341042, 15)"
      ]
     },
     "execution_count": 151,
     "metadata": {},
     "output_type": "execute_result"
    }
   ],
   "source": [
    "eda.shape"
   ]
  },
  {
   "cell_type": "code",
   "execution_count": 155,
   "metadata": {},
   "outputs": [
    {
     "name": "stdout",
     "output_type": "stream",
     "text": [
      "<class 'pandas.core.frame.DataFrame'>\n",
      "RangeIndex: 11341042 entries, 0 to 11341041\n",
      "Data columns (total 15 columns):\n",
      "event_id           object\n",
      "session            object\n",
      "timestamp          object\n",
      "event_data         object\n",
      "installation_id    object\n",
      "event_count        int64\n",
      "event_code         int64\n",
      "game_time          int64\n",
      "title              object\n",
      "type               object\n",
      "world              object\n",
      "num_correct        float64\n",
      "num_incorrect      float64\n",
      "accuracy           float64\n",
      "accuracy_group     float64\n",
      "dtypes: float64(4), int64(3), object(8)\n",
      "memory usage: 1.3+ GB\n"
     ]
    }
   ],
   "source": [
    "eda.info()"
   ]
  },
  {
   "cell_type": "code",
   "execution_count": 152,
   "metadata": {},
   "outputs": [
    {
     "data": {
      "text/html": [
       "<div>\n",
       "<style scoped>\n",
       "    .dataframe tbody tr th:only-of-type {\n",
       "        vertical-align: middle;\n",
       "    }\n",
       "\n",
       "    .dataframe tbody tr th {\n",
       "        vertical-align: top;\n",
       "    }\n",
       "\n",
       "    .dataframe thead th {\n",
       "        text-align: right;\n",
       "    }\n",
       "</style>\n",
       "<table border=\"1\" class=\"dataframe\">\n",
       "  <thead>\n",
       "    <tr style=\"text-align: right;\">\n",
       "      <th></th>\n",
       "      <th>event_id</th>\n",
       "      <th>session</th>\n",
       "      <th>timestamp</th>\n",
       "      <th>event_data</th>\n",
       "      <th>installation_id</th>\n",
       "      <th>event_count</th>\n",
       "      <th>event_code</th>\n",
       "      <th>game_time</th>\n",
       "      <th>title</th>\n",
       "      <th>type</th>\n",
       "      <th>world</th>\n",
       "      <th>num_correct</th>\n",
       "      <th>num_incorrect</th>\n",
       "      <th>accuracy</th>\n",
       "      <th>accuracy_group</th>\n",
       "    </tr>\n",
       "  </thead>\n",
       "  <tbody>\n",
       "    <tr>\n",
       "      <th>0</th>\n",
       "      <td>27253bdc</td>\n",
       "      <td>45bb1e1b6b50c07b</td>\n",
       "      <td>2019-09-06T17:53:46.937Z</td>\n",
       "      <td>{\"event_code\": 2000, \"event_count\": 1}</td>\n",
       "      <td>0001e90f</td>\n",
       "      <td>1</td>\n",
       "      <td>2000</td>\n",
       "      <td>0</td>\n",
       "      <td>Welcome to Lost Lagoon!</td>\n",
       "      <td>Clip</td>\n",
       "      <td>NONE</td>\n",
       "      <td>NaN</td>\n",
       "      <td>NaN</td>\n",
       "      <td>NaN</td>\n",
       "      <td>NaN</td>\n",
       "    </tr>\n",
       "    <tr>\n",
       "      <th>1</th>\n",
       "      <td>27253bdc</td>\n",
       "      <td>17eeb7f223665f53</td>\n",
       "      <td>2019-09-06T17:54:17.519Z</td>\n",
       "      <td>{\"event_code\": 2000, \"event_count\": 1}</td>\n",
       "      <td>0001e90f</td>\n",
       "      <td>1</td>\n",
       "      <td>2000</td>\n",
       "      <td>0</td>\n",
       "      <td>Magma Peak - Level 1</td>\n",
       "      <td>Clip</td>\n",
       "      <td>MAGMAPEAK</td>\n",
       "      <td>NaN</td>\n",
       "      <td>NaN</td>\n",
       "      <td>NaN</td>\n",
       "      <td>NaN</td>\n",
       "    </tr>\n",
       "    <tr>\n",
       "      <th>2</th>\n",
       "      <td>77261ab5</td>\n",
       "      <td>0848ef14a8dc6892</td>\n",
       "      <td>2019-09-06T17:54:56.302Z</td>\n",
       "      <td>{\"version\":\"1.0\",\"event_count\":1,\"game_time\":0...</td>\n",
       "      <td>0001e90f</td>\n",
       "      <td>1</td>\n",
       "      <td>2000</td>\n",
       "      <td>0</td>\n",
       "      <td>Sandcastle Builder (Activity)</td>\n",
       "      <td>Activity</td>\n",
       "      <td>MAGMAPEAK</td>\n",
       "      <td>NaN</td>\n",
       "      <td>NaN</td>\n",
       "      <td>NaN</td>\n",
       "      <td>NaN</td>\n",
       "    </tr>\n",
       "    <tr>\n",
       "      <th>3</th>\n",
       "      <td>b2dba42b</td>\n",
       "      <td>0848ef14a8dc6892</td>\n",
       "      <td>2019-09-06T17:54:56.387Z</td>\n",
       "      <td>{\"description\":\"Let's build a sandcastle! Firs...</td>\n",
       "      <td>0001e90f</td>\n",
       "      <td>2</td>\n",
       "      <td>3010</td>\n",
       "      <td>53</td>\n",
       "      <td>Sandcastle Builder (Activity)</td>\n",
       "      <td>Activity</td>\n",
       "      <td>MAGMAPEAK</td>\n",
       "      <td>NaN</td>\n",
       "      <td>NaN</td>\n",
       "      <td>NaN</td>\n",
       "      <td>NaN</td>\n",
       "    </tr>\n",
       "    <tr>\n",
       "      <th>4</th>\n",
       "      <td>1bb5fbdb</td>\n",
       "      <td>0848ef14a8dc6892</td>\n",
       "      <td>2019-09-06T17:55:03.253Z</td>\n",
       "      <td>{\"description\":\"Let's build a sandcastle! Firs...</td>\n",
       "      <td>0001e90f</td>\n",
       "      <td>3</td>\n",
       "      <td>3110</td>\n",
       "      <td>6972</td>\n",
       "      <td>Sandcastle Builder (Activity)</td>\n",
       "      <td>Activity</td>\n",
       "      <td>MAGMAPEAK</td>\n",
       "      <td>NaN</td>\n",
       "      <td>NaN</td>\n",
       "      <td>NaN</td>\n",
       "      <td>NaN</td>\n",
       "    </tr>\n",
       "  </tbody>\n",
       "</table>\n",
       "</div>"
      ],
      "text/plain": [
       "   event_id           session                 timestamp  \\\n",
       "0  27253bdc  45bb1e1b6b50c07b  2019-09-06T17:53:46.937Z   \n",
       "1  27253bdc  17eeb7f223665f53  2019-09-06T17:54:17.519Z   \n",
       "2  77261ab5  0848ef14a8dc6892  2019-09-06T17:54:56.302Z   \n",
       "3  b2dba42b  0848ef14a8dc6892  2019-09-06T17:54:56.387Z   \n",
       "4  1bb5fbdb  0848ef14a8dc6892  2019-09-06T17:55:03.253Z   \n",
       "\n",
       "                                          event_data installation_id  \\\n",
       "0             {\"event_code\": 2000, \"event_count\": 1}        0001e90f   \n",
       "1             {\"event_code\": 2000, \"event_count\": 1}        0001e90f   \n",
       "2  {\"version\":\"1.0\",\"event_count\":1,\"game_time\":0...        0001e90f   \n",
       "3  {\"description\":\"Let's build a sandcastle! Firs...        0001e90f   \n",
       "4  {\"description\":\"Let's build a sandcastle! Firs...        0001e90f   \n",
       "\n",
       "   event_count  event_code  game_time                          title  \\\n",
       "0            1        2000          0        Welcome to Lost Lagoon!   \n",
       "1            1        2000          0           Magma Peak - Level 1   \n",
       "2            1        2000          0  Sandcastle Builder (Activity)   \n",
       "3            2        3010         53  Sandcastle Builder (Activity)   \n",
       "4            3        3110       6972  Sandcastle Builder (Activity)   \n",
       "\n",
       "       type      world  num_correct  num_incorrect  accuracy  accuracy_group  \n",
       "0      Clip       NONE          NaN            NaN       NaN             NaN  \n",
       "1      Clip  MAGMAPEAK          NaN            NaN       NaN             NaN  \n",
       "2  Activity  MAGMAPEAK          NaN            NaN       NaN             NaN  \n",
       "3  Activity  MAGMAPEAK          NaN            NaN       NaN             NaN  \n",
       "4  Activity  MAGMAPEAK          NaN            NaN       NaN             NaN  "
      ]
     },
     "execution_count": 152,
     "metadata": {},
     "output_type": "execute_result"
    }
   ],
   "source": [
    "eda.head()"
   ]
  },
  {
   "cell_type": "code",
   "execution_count": 156,
   "metadata": {},
   "outputs": [
    {
     "data": {
      "text/plain": [
       "NaN    10475595\n",
       "1.0      610368\n",
       "0.0      255079\n",
       "Name: num_correct, dtype: int64"
      ]
     },
     "execution_count": 156,
     "metadata": {},
     "output_type": "execute_result"
    }
   ],
   "source": [
    "eda.num_correct.value_counts(dropna = False)"
   ]
  },
  {
   "cell_type": "code",
   "execution_count": 182,
   "metadata": {},
   "outputs": [
    {
     "data": {
      "text/html": [
       "<div>\n",
       "<style scoped>\n",
       "    .dataframe tbody tr th:only-of-type {\n",
       "        vertical-align: middle;\n",
       "    }\n",
       "\n",
       "    .dataframe tbody tr th {\n",
       "        vertical-align: top;\n",
       "    }\n",
       "\n",
       "    .dataframe thead th {\n",
       "        text-align: right;\n",
       "    }\n",
       "</style>\n",
       "<table border=\"1\" class=\"dataframe\">\n",
       "  <thead>\n",
       "    <tr style=\"text-align: right;\">\n",
       "      <th></th>\n",
       "      <th>title</th>\n",
       "      <th>Bird Measurer (Assessment)</th>\n",
       "      <th>Cart Balancer (Assessment)</th>\n",
       "      <th>Cauldron Filler (Assessment)</th>\n",
       "      <th>Chest Sorter (Assessment)</th>\n",
       "      <th>Mushroom Sorter (Assessment)</th>\n",
       "    </tr>\n",
       "    <tr>\n",
       "      <th>installation_id</th>\n",
       "      <th>accuracy_group</th>\n",
       "      <th></th>\n",
       "      <th></th>\n",
       "      <th></th>\n",
       "      <th></th>\n",
       "      <th></th>\n",
       "    </tr>\n",
       "  </thead>\n",
       "  <tbody>\n",
       "    <tr>\n",
       "      <th rowspan=\"3\" valign=\"top\">0006a69f</th>\n",
       "      <th>0</th>\n",
       "      <td>1.0</td>\n",
       "      <td>NaN</td>\n",
       "      <td>NaN</td>\n",
       "      <td>NaN</td>\n",
       "      <td>NaN</td>\n",
       "    </tr>\n",
       "    <tr>\n",
       "      <th>2</th>\n",
       "      <td>NaN</td>\n",
       "      <td>NaN</td>\n",
       "      <td>NaN</td>\n",
       "      <td>NaN</td>\n",
       "      <td>1.0</td>\n",
       "    </tr>\n",
       "    <tr>\n",
       "      <th>3</th>\n",
       "      <td>1.0</td>\n",
       "      <td>NaN</td>\n",
       "      <td>NaN</td>\n",
       "      <td>NaN</td>\n",
       "      <td>2.0</td>\n",
       "    </tr>\n",
       "    <tr>\n",
       "      <th rowspan=\"3\" valign=\"top\">0006c192</th>\n",
       "      <th>0</th>\n",
       "      <td>NaN</td>\n",
       "      <td>NaN</td>\n",
       "      <td>NaN</td>\n",
       "      <td>NaN</td>\n",
       "      <td>1.0</td>\n",
       "    </tr>\n",
       "    <tr>\n",
       "      <th>2</th>\n",
       "      <td>1.0</td>\n",
       "      <td>NaN</td>\n",
       "      <td>NaN</td>\n",
       "      <td>NaN</td>\n",
       "      <td>NaN</td>\n",
       "    </tr>\n",
       "    <tr>\n",
       "      <th>3</th>\n",
       "      <td>NaN</td>\n",
       "      <td>NaN</td>\n",
       "      <td>1.0</td>\n",
       "      <td>NaN</td>\n",
       "      <td>NaN</td>\n",
       "    </tr>\n",
       "    <tr>\n",
       "      <th>00129856</th>\n",
       "      <th>3</th>\n",
       "      <td>1.0</td>\n",
       "      <td>NaN</td>\n",
       "      <td>NaN</td>\n",
       "      <td>NaN</td>\n",
       "      <td>NaN</td>\n",
       "    </tr>\n",
       "    <tr>\n",
       "      <th rowspan=\"3\" valign=\"top\">001d0ed0</th>\n",
       "      <th>0</th>\n",
       "      <td>1.0</td>\n",
       "      <td>NaN</td>\n",
       "      <td>NaN</td>\n",
       "      <td>1.0</td>\n",
       "      <td>NaN</td>\n",
       "    </tr>\n",
       "    <tr>\n",
       "      <th>2</th>\n",
       "      <td>NaN</td>\n",
       "      <td>NaN</td>\n",
       "      <td>NaN</td>\n",
       "      <td>NaN</td>\n",
       "      <td>1.0</td>\n",
       "    </tr>\n",
       "    <tr>\n",
       "      <th>3</th>\n",
       "      <td>NaN</td>\n",
       "      <td>1.0</td>\n",
       "      <td>NaN</td>\n",
       "      <td>NaN</td>\n",
       "      <td>1.0</td>\n",
       "    </tr>\n",
       "    <tr>\n",
       "      <th>00225f67</th>\n",
       "      <th>0</th>\n",
       "      <td>1.0</td>\n",
       "      <td>NaN</td>\n",
       "      <td>NaN</td>\n",
       "      <td>NaN</td>\n",
       "      <td>NaN</td>\n",
       "    </tr>\n",
       "    <tr>\n",
       "      <th>00279ac5</th>\n",
       "      <th>0</th>\n",
       "      <td>NaN</td>\n",
       "      <td>NaN</td>\n",
       "      <td>NaN</td>\n",
       "      <td>1.0</td>\n",
       "      <td>NaN</td>\n",
       "    </tr>\n",
       "    <tr>\n",
       "      <th rowspan=\"4\" valign=\"top\">002db7e3</th>\n",
       "      <th>0</th>\n",
       "      <td>NaN</td>\n",
       "      <td>NaN</td>\n",
       "      <td>NaN</td>\n",
       "      <td>2.0</td>\n",
       "      <td>NaN</td>\n",
       "    </tr>\n",
       "    <tr>\n",
       "      <th>1</th>\n",
       "      <td>2.0</td>\n",
       "      <td>NaN</td>\n",
       "      <td>NaN</td>\n",
       "      <td>NaN</td>\n",
       "      <td>NaN</td>\n",
       "    </tr>\n",
       "    <tr>\n",
       "      <th>2</th>\n",
       "      <td>1.0</td>\n",
       "      <td>NaN</td>\n",
       "      <td>NaN</td>\n",
       "      <td>NaN</td>\n",
       "      <td>1.0</td>\n",
       "    </tr>\n",
       "    <tr>\n",
       "      <th>3</th>\n",
       "      <td>NaN</td>\n",
       "      <td>1.0</td>\n",
       "      <td>1.0</td>\n",
       "      <td>NaN</td>\n",
       "      <td>1.0</td>\n",
       "    </tr>\n",
       "    <tr>\n",
       "      <th rowspan=\"3\" valign=\"top\">003372b0</th>\n",
       "      <th>0</th>\n",
       "      <td>NaN</td>\n",
       "      <td>NaN</td>\n",
       "      <td>NaN</td>\n",
       "      <td>1.0</td>\n",
       "      <td>NaN</td>\n",
       "    </tr>\n",
       "    <tr>\n",
       "      <th>2</th>\n",
       "      <td>1.0</td>\n",
       "      <td>NaN</td>\n",
       "      <td>NaN</td>\n",
       "      <td>NaN</td>\n",
       "      <td>NaN</td>\n",
       "    </tr>\n",
       "    <tr>\n",
       "      <th>3</th>\n",
       "      <td>NaN</td>\n",
       "      <td>2.0</td>\n",
       "      <td>1.0</td>\n",
       "      <td>NaN</td>\n",
       "      <td>1.0</td>\n",
       "    </tr>\n",
       "    <tr>\n",
       "      <th>004c2091</th>\n",
       "      <th>0</th>\n",
       "      <td>2.0</td>\n",
       "      <td>NaN</td>\n",
       "      <td>NaN</td>\n",
       "      <td>NaN</td>\n",
       "      <td>NaN</td>\n",
       "    </tr>\n",
       "  </tbody>\n",
       "</table>\n",
       "</div>"
      ],
      "text/plain": [
       "title                           Bird Measurer (Assessment)  \\\n",
       "installation_id accuracy_group                               \n",
       "0006a69f        0                                      1.0   \n",
       "                2                                      NaN   \n",
       "                3                                      1.0   \n",
       "0006c192        0                                      NaN   \n",
       "                2                                      1.0   \n",
       "                3                                      NaN   \n",
       "00129856        3                                      1.0   \n",
       "001d0ed0        0                                      1.0   \n",
       "                2                                      NaN   \n",
       "                3                                      NaN   \n",
       "00225f67        0                                      1.0   \n",
       "00279ac5        0                                      NaN   \n",
       "002db7e3        0                                      NaN   \n",
       "                1                                      2.0   \n",
       "                2                                      1.0   \n",
       "                3                                      NaN   \n",
       "003372b0        0                                      NaN   \n",
       "                2                                      1.0   \n",
       "                3                                      NaN   \n",
       "004c2091        0                                      2.0   \n",
       "\n",
       "title                           Cart Balancer (Assessment)  \\\n",
       "installation_id accuracy_group                               \n",
       "0006a69f        0                                      NaN   \n",
       "                2                                      NaN   \n",
       "                3                                      NaN   \n",
       "0006c192        0                                      NaN   \n",
       "                2                                      NaN   \n",
       "                3                                      NaN   \n",
       "00129856        3                                      NaN   \n",
       "001d0ed0        0                                      NaN   \n",
       "                2                                      NaN   \n",
       "                3                                      1.0   \n",
       "00225f67        0                                      NaN   \n",
       "00279ac5        0                                      NaN   \n",
       "002db7e3        0                                      NaN   \n",
       "                1                                      NaN   \n",
       "                2                                      NaN   \n",
       "                3                                      1.0   \n",
       "003372b0        0                                      NaN   \n",
       "                2                                      NaN   \n",
       "                3                                      2.0   \n",
       "004c2091        0                                      NaN   \n",
       "\n",
       "title                           Cauldron Filler (Assessment)  \\\n",
       "installation_id accuracy_group                                 \n",
       "0006a69f        0                                        NaN   \n",
       "                2                                        NaN   \n",
       "                3                                        NaN   \n",
       "0006c192        0                                        NaN   \n",
       "                2                                        NaN   \n",
       "                3                                        1.0   \n",
       "00129856        3                                        NaN   \n",
       "001d0ed0        0                                        NaN   \n",
       "                2                                        NaN   \n",
       "                3                                        NaN   \n",
       "00225f67        0                                        NaN   \n",
       "00279ac5        0                                        NaN   \n",
       "002db7e3        0                                        NaN   \n",
       "                1                                        NaN   \n",
       "                2                                        NaN   \n",
       "                3                                        1.0   \n",
       "003372b0        0                                        NaN   \n",
       "                2                                        NaN   \n",
       "                3                                        1.0   \n",
       "004c2091        0                                        NaN   \n",
       "\n",
       "title                           Chest Sorter (Assessment)  \\\n",
       "installation_id accuracy_group                              \n",
       "0006a69f        0                                     NaN   \n",
       "                2                                     NaN   \n",
       "                3                                     NaN   \n",
       "0006c192        0                                     NaN   \n",
       "                2                                     NaN   \n",
       "                3                                     NaN   \n",
       "00129856        3                                     NaN   \n",
       "001d0ed0        0                                     1.0   \n",
       "                2                                     NaN   \n",
       "                3                                     NaN   \n",
       "00225f67        0                                     NaN   \n",
       "00279ac5        0                                     1.0   \n",
       "002db7e3        0                                     2.0   \n",
       "                1                                     NaN   \n",
       "                2                                     NaN   \n",
       "                3                                     NaN   \n",
       "003372b0        0                                     1.0   \n",
       "                2                                     NaN   \n",
       "                3                                     NaN   \n",
       "004c2091        0                                     NaN   \n",
       "\n",
       "title                           Mushroom Sorter (Assessment)  \n",
       "installation_id accuracy_group                                \n",
       "0006a69f        0                                        NaN  \n",
       "                2                                        1.0  \n",
       "                3                                        2.0  \n",
       "0006c192        0                                        1.0  \n",
       "                2                                        NaN  \n",
       "                3                                        NaN  \n",
       "00129856        3                                        NaN  \n",
       "001d0ed0        0                                        NaN  \n",
       "                2                                        1.0  \n",
       "                3                                        1.0  \n",
       "00225f67        0                                        NaN  \n",
       "00279ac5        0                                        NaN  \n",
       "002db7e3        0                                        NaN  \n",
       "                1                                        NaN  \n",
       "                2                                        1.0  \n",
       "                3                                        1.0  \n",
       "003372b0        0                                        NaN  \n",
       "                2                                        NaN  \n",
       "                3                                        1.0  \n",
       "004c2091        0                                        NaN  "
      ]
     },
     "execution_count": 182,
     "metadata": {},
     "output_type": "execute_result"
    }
   ],
   "source": [
    "a = train_label.groupby([\"installation_id\", \"accuracy_group\"]).title.value_counts().unstack()\n",
    "a.head(20)"
   ]
  },
  {
   "cell_type": "markdown",
   "metadata": {},
   "source": [
    "# Into total dataset"
   ]
  },
  {
   "cell_type": "markdown",
   "metadata": {},
   "source": [
    "## game play record"
   ]
  },
  {
   "cell_type": "code",
   "execution_count": null,
   "metadata": {},
   "outputs": [],
   "source": [
    "# this part\n",
    "# try to look beyond the kids who already did assessments\n",
    "# look at all game activities"
   ]
  },
  {
   "cell_type": "code",
   "execution_count": 258,
   "metadata": {},
   "outputs": [
    {
     "data": {
      "text/plain": [
       "Text(0.5, 1.0, 'What are the usage distributions for each world?')"
      ]
     },
     "execution_count": 258,
     "metadata": {},
     "output_type": "execute_result"
    },
    {
     "data": {
      "image/png": "[encoded data removed]",
      "text/plain": [
       "<Figure size 576x432 with 1 Axes>"
      ]
     },
     "metadata": {},
     "output_type": "display_data"
    }
   ],
   "source": [
    "plt.figure(figsize=(8,6))\n",
    "\n",
    "c = (eda.groupby(\"world\")[\"session\"].count())\n",
    "pcts = c.groupby(level=0).apply(lambda x: 100 * x / float(c.sum())).to_frame().reset_index()\n",
    "#plt.legend(title='Color', loc='center left', bbox_to_anchor=(1, 0.5))\n",
    "(sns.barplot(x = \"world\" , y=\"session\", data=pcts, palette=\"pastel\"))\n",
    "plt.title(\"What are the usage distributions for each world?\")\n",
    "\n",
    "# Magamapeak > most frequently visited world "
   ]
  },
  {
   "cell_type": "code",
   "execution_count": 257,
   "metadata": {},
   "outputs": [
    {
     "data": {
      "text/plain": [
       "Text(0.5, 1.0, 'What are the usage distributions for each item in the game?')"
      ]
     },
     "execution_count": 257,
     "metadata": {},
     "output_type": "execute_result"
    },
    {
     "data": {
      "image/png": "[encoded data removed]",
      "text/plain": [
       "<Figure size 576x432 with 1 Axes>"
      ]
     },
     "metadata": {},
     "output_type": "display_data"
    }
   ],
   "source": [
    "plt.figure(figsize=(8,6))\n",
    "\n",
    "c = (eda.groupby(\"type\")[\"session\"].count())\n",
    "pcts = c.groupby(level=0).apply(lambda x: 100 * x / float(c.sum())).to_frame().reset_index()\n",
    "#plt.legend(title='Color', loc='center left', bbox_to_anchor=(1, 0.5))\n",
    "(sns.barplot(x = \"type\" , y=\"session\", data=pcts, palette=\"pastel\"))\n",
    "\n",
    "plt.title(\"What are the usage distributions for each item in the game?\")\n",
    "\n",
    "# overall, games and activities are much more used than assessments"
   ]
  },
  {
   "cell_type": "code",
   "execution_count": 224,
   "metadata": {},
   "outputs": [
    {
     "data": {
      "text/plain": [
       "world         type      \n",
       "CRYSTALCAVES  Activity      2\n",
       "              Assessment    2\n",
       "              Clip          7\n",
       "              Game          4\n",
       "MAGMAPEAK     Activity      3\n",
       "              Assessment    1\n",
       "              Clip          3\n",
       "              Game          4\n",
       "NONE          Clip          1\n",
       "TREETOPCITY   Activity      3\n",
       "              Assessment    2\n",
       "              Clip          9\n",
       "              Game          3\n",
       "Name: title, dtype: int64"
      ]
     },
     "execution_count": 224,
     "metadata": {},
     "output_type": "execute_result"
    }
   ],
   "source": [
    "eda.groupby([\"world\",\"type\"]).title.nunique()"
   ]
  },
  {
   "cell_type": "code",
   "execution_count": 259,
   "metadata": {},
   "outputs": [
    {
     "data": {
      "text/plain": [
       "Text(0.5, 1.0, 'What are the usage distributions for each item in the game?')"
      ]
     },
     "execution_count": 259,
     "metadata": {},
     "output_type": "execute_result"
    },
    {
     "data": {
      "image/png": "[encoded data removed]",
      "text/plain": [
       "<Figure size 576x432 with 1 Axes>"
      ]
     },
     "metadata": {},
     "output_type": "display_data"
    }
   ],
   "source": [
    "plt.figure(figsize=(8,6))\n",
    "\n",
    "c = (eda.groupby([\"world\", \"type\"])[\"session\"].count())\n",
    "pcts = c.groupby(level=0).apply(lambda x: 100 * x / float(c.sum())).to_frame().reset_index()\n",
    "(sns.barplot(x = \"world\" , y=\"session\", data=pcts,  hue = \"type\",palette=\"pastel\"))\n",
    "plt.legend(title='Color', loc='center left', bbox_to_anchor=(1, 0.5))\n",
    "\n",
    "plt.title(\"What are the usage distributions for each item in the game?\")"
   ]
  },
  {
   "cell_type": "code",
   "execution_count": 231,
   "metadata": {},
   "outputs": [
    {
     "data": {
      "text/plain": [
       "world         type        title                        \n",
       "CRYSTALCAVES  Activity    Chicken Balancer (Activity)       443156\n",
       "                          Egg Dropper (Activity)            248408\n",
       "              Assessment  Chest Sorter (Assessment)         190318\n",
       "                          Cart Balancer (Assessment)        163343\n",
       "              Clip        Crystal Caves - Level 2            14342\n",
       "                          Crystal Caves - Level 1            12505\n",
       "                          Crystal Caves - Level 3            12482\n",
       "                          Lifting Heavy Things                5759\n",
       "                          Balancing Act                       5522\n",
       "                          Honey Cake                          3882\n",
       "                          Heavy, Heavier, Heaviest            3351\n",
       "              Game        Chow Time                        1150974\n",
       "                          Pan Balance                       384857\n",
       "                          Happy Camel                       311543\n",
       "                          Leaf Leader                       282104\n",
       "MAGMAPEAK     Activity    Sandcastle Builder (Activity)    1034332\n",
       "                          Bottle Filler (Activity)         1004068\n",
       "                          Watering Hole (Activity)          369270\n",
       "              Assessment  Cauldron Filler (Assessment)      181925\n",
       "              Clip        Magma Peak - Level 2               17115\n",
       "                          Magma Peak - Level 1               13623\n",
       "                          Slop Problem                        6974\n",
       "              Game        Scrub-A-Dub                      1016837\n",
       "                          Dino Drink                        492916\n",
       "                          Bubble Bath                       458972\n",
       "                          Dino Dive                         427655\n",
       "NONE          Clip        Welcome to Lost Lagoon!            23578\n",
       "TREETOPCITY   Activity    Fireworks (Activity)              535030\n",
       "                          Bug Measurer (Activity)           446430\n",
       "                          Flower Waterer (Activity)         356034\n",
       "              Assessment  Mushroom Sorter (Assessment)      199595\n",
       "                          Bird Measurer (Assessment)        190164\n",
       "              Clip        Tree Top City - Level 2            12685\n",
       "                          Tree Top City - Level 1            12333\n",
       "                          Tree Top City - Level 3            10516\n",
       "                          Ordering Spheres                    9758\n",
       "                          Costume Box                         4538\n",
       "                          Pirate's Tale                       4365\n",
       "                          12 Monkeys                          4124\n",
       "                          Rulers                              3372\n",
       "                          Treasure Map                        2852\n",
       "              Game        All Star Sorting                  509344\n",
       "                          Crystals Rule                     453852\n",
       "                          Air Show                          306239\n",
       "Name: title, dtype: int64"
      ]
     },
     "execution_count": 231,
     "metadata": {},
     "output_type": "execute_result"
    }
   ],
   "source": [
    "(eda.groupby([\"world\", \"type\"]).title.value_counts())"
   ]
  },
  {
   "cell_type": "code",
   "execution_count": 255,
   "metadata": {},
   "outputs": [
    {
     "data": {
      "text/plain": [
       "Text(0.5, 1.0, 'The overall usage rate in different wordlds, types, missions?')"
      ]
     },
     "execution_count": 255,
     "metadata": {},
     "output_type": "execute_result"
    },
    {
     "data": {
      "image/png": "[encoded data removed]",
      "text/plain": [
       "<Figure size 1080x720 with 1 Axes>"
      ]
     },
     "metadata": {},
     "output_type": "display_data"
    }
   ],
   "source": [
    "# next: each type contain different amount of items...\n",
    "plt.figure(figsize=(15,10))\n",
    "\n",
    "c = (eda.groupby([\"world\", \"type\", \"title\"])[\"session\"].count())\n",
    "pcts = c.groupby(level=0).apply(lambda x: 100 * x / float(c.sum())).to_frame().reset_index()\n",
    "#plt.legend(title='Color', loc='center left', bbox_to_anchor=(1, 0.5))\n",
    "(sns.barplot(x = \"world\" , y=\"session\", data=pcts,  hue = \"title\",palette=\"pastel\"))\n",
    "plt.legend(title='Individual missions', loc='upper left', bbox_to_anchor=(1, 1.3))\n",
    "plt.title(\"The overall usage rate in different wordlds, types, missions?\")"
   ]
  },
  {
   "cell_type": "code",
   "execution_count": 249,
   "metadata": {},
   "outputs": [
    {
     "data": {
      "text/plain": [
       "Text(0.5, 1.0, 'The most used missions among all missions in each world & type (only contained the record containing >4% usage?')"
      ]
     },
     "execution_count": 249,
     "metadata": {},
     "output_type": "execute_result"
    },
    {
     "data": {
      "image/png": "[encoded data removed]",
      "text/plain": [
       "<Figure size 1080x576 with 1 Axes>"
      ]
     },
     "metadata": {},
     "output_type": "display_data"
    }
   ],
   "source": [
    "# next: each type contain different amount of items...\n",
    "plt.figure(figsize=(15,8))\n",
    "\n",
    "c = (eda.groupby([\"world\", \"type\", \"title\"])[\"session\"].count())\n",
    "pcts = c.groupby(level=0).apply(lambda x: 100 * x / float(c.sum())).to_frame().reset_index()\n",
    "pcts = pcts[pcts.session >= 4]\n",
    "#plt.legend(title='Color', loc='center left', bbox_to_anchor=(1, 0.5))\n",
    "(sns.barplot(x = \"world\" , y=\"session\", data=pcts,  hue = \"title\",palette=\"pastel\"))\n",
    "plt.legend(title='Individual missions', loc='upper left', bbox_to_anchor=(1, 0.5))\n",
    "plt.title(\"The most used missions among all missions in each world & type (only contained the record containing >4% usage?\")\n"
   ]
  },
  {
   "cell_type": "code",
   "execution_count": 264,
   "metadata": {},
   "outputs": [
    {
     "data": {
      "text/html": [
       "<div>\n",
       "<style scoped>\n",
       "    .dataframe tbody tr th:only-of-type {\n",
       "        vertical-align: middle;\n",
       "    }\n",
       "\n",
       "    .dataframe tbody tr th {\n",
       "        vertical-align: top;\n",
       "    }\n",
       "\n",
       "    .dataframe thead th {\n",
       "        text-align: right;\n",
       "    }\n",
       "</style>\n",
       "<table border=\"1\" class=\"dataframe\">\n",
       "  <thead>\n",
       "    <tr style=\"text-align: right;\">\n",
       "      <th></th>\n",
       "      <th>world</th>\n",
       "      <th>type</th>\n",
       "      <th>title</th>\n",
       "      <th>session</th>\n",
       "    </tr>\n",
       "  </thead>\n",
       "  <tbody>\n",
       "    <tr>\n",
       "      <th>11</th>\n",
       "      <td>CRYSTALCAVES</td>\n",
       "      <td>Game</td>\n",
       "      <td>Chow Time</td>\n",
       "      <td>10.148750</td>\n",
       "    </tr>\n",
       "    <tr>\n",
       "      <th>15</th>\n",
       "      <td>MAGMAPEAK</td>\n",
       "      <td>Activity</td>\n",
       "      <td>Bottle Filler (Activity)</td>\n",
       "      <td>8.853402</td>\n",
       "    </tr>\n",
       "    <tr>\n",
       "      <th>16</th>\n",
       "      <td>MAGMAPEAK</td>\n",
       "      <td>Activity</td>\n",
       "      <td>Sandcastle Builder (Activity)</td>\n",
       "      <td>9.120255</td>\n",
       "    </tr>\n",
       "    <tr>\n",
       "      <th>22</th>\n",
       "      <td>MAGMAPEAK</td>\n",
       "      <td>Game</td>\n",
       "      <td>Bubble Bath</td>\n",
       "      <td>4.047000</td>\n",
       "    </tr>\n",
       "    <tr>\n",
       "      <th>24</th>\n",
       "      <td>MAGMAPEAK</td>\n",
       "      <td>Game</td>\n",
       "      <td>Dino Drink</td>\n",
       "      <td>4.346303</td>\n",
       "    </tr>\n",
       "    <tr>\n",
       "      <th>25</th>\n",
       "      <td>MAGMAPEAK</td>\n",
       "      <td>Game</td>\n",
       "      <td>Scrub-A-Dub</td>\n",
       "      <td>8.965993</td>\n",
       "    </tr>\n",
       "    <tr>\n",
       "      <th>28</th>\n",
       "      <td>TREETOPCITY</td>\n",
       "      <td>Activity</td>\n",
       "      <td>Fireworks (Activity)</td>\n",
       "      <td>4.717644</td>\n",
       "    </tr>\n",
       "    <tr>\n",
       "      <th>42</th>\n",
       "      <td>TREETOPCITY</td>\n",
       "      <td>Game</td>\n",
       "      <td>All Star Sorting</td>\n",
       "      <td>4.491157</td>\n",
       "    </tr>\n",
       "    <tr>\n",
       "      <th>43</th>\n",
       "      <td>TREETOPCITY</td>\n",
       "      <td>Game</td>\n",
       "      <td>Crystals Rule</td>\n",
       "      <td>4.001855</td>\n",
       "    </tr>\n",
       "  </tbody>\n",
       "</table>\n",
       "</div>"
      ],
      "text/plain": [
       "           world      type                          title    session\n",
       "11  CRYSTALCAVES      Game                      Chow Time  10.148750\n",
       "15     MAGMAPEAK  Activity       Bottle Filler (Activity)   8.853402\n",
       "16     MAGMAPEAK  Activity  Sandcastle Builder (Activity)   9.120255\n",
       "22     MAGMAPEAK      Game                    Bubble Bath   4.047000\n",
       "24     MAGMAPEAK      Game                     Dino Drink   4.346303\n",
       "25     MAGMAPEAK      Game                    Scrub-A-Dub   8.965993\n",
       "28   TREETOPCITY  Activity           Fireworks (Activity)   4.717644\n",
       "42   TREETOPCITY      Game               All Star Sorting   4.491157\n",
       "43   TREETOPCITY      Game                  Crystals Rule   4.001855"
      ]
     },
     "execution_count": 264,
     "metadata": {},
     "output_type": "execute_result"
    }
   ],
   "source": [
    "# out of 3 worlds (MAGMAPEAK, TREETOPCITY, CRYSTALCAVES)\n",
    "# each contain 4 types ('Clip', 'Activity', 'Game', 'Assessment')\n",
    "# and each type may or may not contain different missions\n",
    "\n",
    "# let's look at them\n",
    "c = (eda.groupby([\"world\", \"type\", \"title\"])[\"session\"].count())\n",
    "pcts = c.groupby(level=0).apply(lambda x: 100 * x / float(c.sum())).to_frame().reset_index()\n",
    "pcts[pcts.session > 4]\n",
    "# right, \n",
    "# pepople loved game and activity more\n",
    "# most used item is world: Crystalcaves - type: Game - title: Chow Time \n",
    "\n",
    "# MAGAMAPEAK being more popular"
   ]
  },
  {
   "cell_type": "code",
   "execution_count": 276,
   "metadata": {},
   "outputs": [
    {
     "data": {
      "text/html": [
       "<div>\n",
       "<style scoped>\n",
       "    .dataframe tbody tr th:only-of-type {\n",
       "        vertical-align: middle;\n",
       "    }\n",
       "\n",
       "    .dataframe tbody tr th {\n",
       "        vertical-align: top;\n",
       "    }\n",
       "\n",
       "    .dataframe thead th {\n",
       "        text-align: right;\n",
       "    }\n",
       "</style>\n",
       "<table border=\"1\" class=\"dataframe\">\n",
       "  <thead>\n",
       "    <tr style=\"text-align: right;\">\n",
       "      <th></th>\n",
       "      <th>world</th>\n",
       "      <th>type</th>\n",
       "      <th>title</th>\n",
       "      <th>session</th>\n",
       "    </tr>\n",
       "  </thead>\n",
       "  <tbody>\n",
       "    <tr>\n",
       "      <th>11</th>\n",
       "      <td>CRYSTALCAVES</td>\n",
       "      <td>Game</td>\n",
       "      <td>Chow Time</td>\n",
       "      <td>10.148750</td>\n",
       "    </tr>\n",
       "    <tr>\n",
       "      <th>16</th>\n",
       "      <td>MAGMAPEAK</td>\n",
       "      <td>Activity</td>\n",
       "      <td>Sandcastle Builder (Activity)</td>\n",
       "      <td>9.120255</td>\n",
       "    </tr>\n",
       "    <tr>\n",
       "      <th>25</th>\n",
       "      <td>MAGMAPEAK</td>\n",
       "      <td>Game</td>\n",
       "      <td>Scrub-A-Dub</td>\n",
       "      <td>8.965993</td>\n",
       "    </tr>\n",
       "    <tr>\n",
       "      <th>15</th>\n",
       "      <td>MAGMAPEAK</td>\n",
       "      <td>Activity</td>\n",
       "      <td>Bottle Filler (Activity)</td>\n",
       "      <td>8.853402</td>\n",
       "    </tr>\n",
       "    <tr>\n",
       "      <th>28</th>\n",
       "      <td>TREETOPCITY</td>\n",
       "      <td>Activity</td>\n",
       "      <td>Fireworks (Activity)</td>\n",
       "      <td>4.717644</td>\n",
       "    </tr>\n",
       "    <tr>\n",
       "      <th>42</th>\n",
       "      <td>TREETOPCITY</td>\n",
       "      <td>Game</td>\n",
       "      <td>All Star Sorting</td>\n",
       "      <td>4.491157</td>\n",
       "    </tr>\n",
       "    <tr>\n",
       "      <th>24</th>\n",
       "      <td>MAGMAPEAK</td>\n",
       "      <td>Game</td>\n",
       "      <td>Dino Drink</td>\n",
       "      <td>4.346303</td>\n",
       "    </tr>\n",
       "    <tr>\n",
       "      <th>22</th>\n",
       "      <td>MAGMAPEAK</td>\n",
       "      <td>Game</td>\n",
       "      <td>Bubble Bath</td>\n",
       "      <td>4.047000</td>\n",
       "    </tr>\n",
       "    <tr>\n",
       "      <th>43</th>\n",
       "      <td>TREETOPCITY</td>\n",
       "      <td>Game</td>\n",
       "      <td>Crystals Rule</td>\n",
       "      <td>4.001855</td>\n",
       "    </tr>\n",
       "    <tr>\n",
       "      <th>27</th>\n",
       "      <td>TREETOPCITY</td>\n",
       "      <td>Activity</td>\n",
       "      <td>Bug Measurer (Activity)</td>\n",
       "      <td>3.936411</td>\n",
       "    </tr>\n",
       "  </tbody>\n",
       "</table>\n",
       "</div>"
      ],
      "text/plain": [
       "           world      type                          title    session\n",
       "11  CRYSTALCAVES      Game                      Chow Time  10.148750\n",
       "16     MAGMAPEAK  Activity  Sandcastle Builder (Activity)   9.120255\n",
       "25     MAGMAPEAK      Game                    Scrub-A-Dub   8.965993\n",
       "15     MAGMAPEAK  Activity       Bottle Filler (Activity)   8.853402\n",
       "28   TREETOPCITY  Activity           Fireworks (Activity)   4.717644\n",
       "42   TREETOPCITY      Game               All Star Sorting   4.491157\n",
       "24     MAGMAPEAK      Game                     Dino Drink   4.346303\n",
       "22     MAGMAPEAK      Game                    Bubble Bath   4.047000\n",
       "43   TREETOPCITY      Game                  Crystals Rule   4.001855\n",
       "27   TREETOPCITY  Activity        Bug Measurer (Activity)   3.936411"
      ]
     },
     "execution_count": 276,
     "metadata": {},
     "output_type": "execute_result"
    }
   ],
   "source": [
    "pcts.sort_values(by = \"session\", ascending = False).head(10)"
   ]
  },
  {
   "cell_type": "code",
   "execution_count": 286,
   "metadata": {},
   "outputs": [
    {
     "data": {
      "text/html": [
       "<div>\n",
       "<style scoped>\n",
       "    .dataframe tbody tr th:only-of-type {\n",
       "        vertical-align: middle;\n",
       "    }\n",
       "\n",
       "    .dataframe tbody tr th {\n",
       "        vertical-align: top;\n",
       "    }\n",
       "\n",
       "    .dataframe thead th {\n",
       "        text-align: right;\n",
       "    }\n",
       "</style>\n",
       "<table border=\"1\" class=\"dataframe\">\n",
       "  <thead>\n",
       "    <tr style=\"text-align: right;\">\n",
       "      <th></th>\n",
       "      <th>world</th>\n",
       "      <th>type</th>\n",
       "      <th>title</th>\n",
       "      <th>session</th>\n",
       "    </tr>\n",
       "  </thead>\n",
       "  <tbody>\n",
       "    <tr>\n",
       "      <th>21</th>\n",
       "      <td>MAGMAPEAK</td>\n",
       "      <td>Clip</td>\n",
       "      <td>Slop Problem</td>\n",
       "      <td>0.061493</td>\n",
       "    </tr>\n",
       "    <tr>\n",
       "      <th>10</th>\n",
       "      <td>CRYSTALCAVES</td>\n",
       "      <td>Clip</td>\n",
       "      <td>Lifting Heavy Things</td>\n",
       "      <td>0.050780</td>\n",
       "    </tr>\n",
       "    <tr>\n",
       "      <th>4</th>\n",
       "      <td>CRYSTALCAVES</td>\n",
       "      <td>Clip</td>\n",
       "      <td>Balancing Act</td>\n",
       "      <td>0.048690</td>\n",
       "    </tr>\n",
       "    <tr>\n",
       "      <th>33</th>\n",
       "      <td>TREETOPCITY</td>\n",
       "      <td>Clip</td>\n",
       "      <td>Costume Box</td>\n",
       "      <td>0.040014</td>\n",
       "    </tr>\n",
       "    <tr>\n",
       "      <th>35</th>\n",
       "      <td>TREETOPCITY</td>\n",
       "      <td>Clip</td>\n",
       "      <td>Pirate's Tale</td>\n",
       "      <td>0.038489</td>\n",
       "    </tr>\n",
       "    <tr>\n",
       "      <th>32</th>\n",
       "      <td>TREETOPCITY</td>\n",
       "      <td>Clip</td>\n",
       "      <td>12 Monkeys</td>\n",
       "      <td>0.036364</td>\n",
       "    </tr>\n",
       "    <tr>\n",
       "      <th>9</th>\n",
       "      <td>CRYSTALCAVES</td>\n",
       "      <td>Clip</td>\n",
       "      <td>Honey Cake</td>\n",
       "      <td>0.034230</td>\n",
       "    </tr>\n",
       "    <tr>\n",
       "      <th>36</th>\n",
       "      <td>TREETOPCITY</td>\n",
       "      <td>Clip</td>\n",
       "      <td>Rulers</td>\n",
       "      <td>0.029733</td>\n",
       "    </tr>\n",
       "    <tr>\n",
       "      <th>8</th>\n",
       "      <td>CRYSTALCAVES</td>\n",
       "      <td>Clip</td>\n",
       "      <td>Heavy, Heavier, Heaviest</td>\n",
       "      <td>0.029548</td>\n",
       "    </tr>\n",
       "    <tr>\n",
       "      <th>37</th>\n",
       "      <td>TREETOPCITY</td>\n",
       "      <td>Clip</td>\n",
       "      <td>Treasure Map</td>\n",
       "      <td>0.025148</td>\n",
       "    </tr>\n",
       "  </tbody>\n",
       "</table>\n",
       "</div>"
      ],
      "text/plain": [
       "           world  type                     title   session\n",
       "21     MAGMAPEAK  Clip              Slop Problem  0.061493\n",
       "10  CRYSTALCAVES  Clip      Lifting Heavy Things  0.050780\n",
       "4   CRYSTALCAVES  Clip             Balancing Act  0.048690\n",
       "33   TREETOPCITY  Clip               Costume Box  0.040014\n",
       "35   TREETOPCITY  Clip             Pirate's Tale  0.038489\n",
       "32   TREETOPCITY  Clip                12 Monkeys  0.036364\n",
       "9   CRYSTALCAVES  Clip                Honey Cake  0.034230\n",
       "36   TREETOPCITY  Clip                    Rulers  0.029733\n",
       "8   CRYSTALCAVES  Clip  Heavy, Heavier, Heaviest  0.029548\n",
       "37   TREETOPCITY  Clip              Treasure Map  0.025148"
      ]
     },
     "execution_count": 286,
     "metadata": {},
     "output_type": "execute_result"
    }
   ],
   "source": [
    "pcts.sort_values(by = \"session\", ascending = False).tail(10)"
   ]
  },
  {
   "cell_type": "code",
   "execution_count": 279,
   "metadata": {},
   "outputs": [
    {
     "name": "stdout",
     "output_type": "stream",
     "text": [
      "\n",
      "Most favorite world: \n",
      "MAGMAPEAK       5\n",
      "TREETOPCITY     4\n",
      "CRYSTALCAVES    1\n",
      "Name: world, dtype: int64\n",
      "      \n",
      "Least favorite world:\n",
      "TREETOPCITY     5\n",
      "CRYSTALCAVES    4\n",
      "MAGMAPEAK       1\n",
      "Name: world, dtype: int64\n"
     ]
    }
   ],
   "source": [
    "print(f\"\"\"\n",
    "Most favorite world: \n",
    "{pcts.sort_values(by = \"session\", ascending = False).head(10)[\"world\"].value_counts()}\n",
    "      \n",
    "Least favorite world:\n",
    "{pcts.sort_values(by = \"session\", ascending = False).tail(10)[\"world\"].value_counts()}\"\"\")"
   ]
  },
  {
   "cell_type": "code",
   "execution_count": 281,
   "metadata": {},
   "outputs": [
    {
     "name": "stdout",
     "output_type": "stream",
     "text": [
      "\n",
      "Most favorite world: \n",
      "Game        6\n",
      "Activity    4\n",
      "Name: type, dtype: int64\n",
      "      \n",
      "Least favorite world:\n",
      "Clip    10\n",
      "Name: type, dtype: int64\n"
     ]
    }
   ],
   "source": [
    "print(f\"\"\"\n",
    "Most favorite world: \n",
    "{pcts.sort_values(by = \"session\", ascending = False).head(10)[\"type\"].value_counts()}\n",
    "      \n",
    "Least favorite world:\n",
    "{pcts.sort_values(by = \"session\", ascending = False).tail(10)[\"type\"].value_counts()}\"\"\")"
   ]
  },
  {
   "cell_type": "code",
   "execution_count": 191,
   "metadata": {},
   "outputs": [
    {
     "data": {
      "text/html": [
       "<div>\n",
       "<style scoped>\n",
       "    .dataframe tbody tr th:only-of-type {\n",
       "        vertical-align: middle;\n",
       "    }\n",
       "\n",
       "    .dataframe tbody tr th {\n",
       "        vertical-align: top;\n",
       "    }\n",
       "\n",
       "    .dataframe thead th {\n",
       "        text-align: right;\n",
       "    }\n",
       "</style>\n",
       "<table border=\"1\" class=\"dataframe\">\n",
       "  <thead>\n",
       "    <tr style=\"text-align: right;\">\n",
       "      <th></th>\n",
       "      <th></th>\n",
       "      <th>title</th>\n",
       "    </tr>\n",
       "    <tr>\n",
       "      <th>world</th>\n",
       "      <th>type</th>\n",
       "      <th></th>\n",
       "    </tr>\n",
       "  </thead>\n",
       "  <tbody>\n",
       "    <tr>\n",
       "      <th rowspan=\"4\" valign=\"top\">CRYSTALCAVES</th>\n",
       "      <th>Activity</th>\n",
       "      <td>2</td>\n",
       "    </tr>\n",
       "    <tr>\n",
       "      <th>Assessment</th>\n",
       "      <td>2</td>\n",
       "    </tr>\n",
       "    <tr>\n",
       "      <th>Clip</th>\n",
       "      <td>7</td>\n",
       "    </tr>\n",
       "    <tr>\n",
       "      <th>Game</th>\n",
       "      <td>4</td>\n",
       "    </tr>\n",
       "    <tr>\n",
       "      <th rowspan=\"4\" valign=\"top\">MAGMAPEAK</th>\n",
       "      <th>Activity</th>\n",
       "      <td>3</td>\n",
       "    </tr>\n",
       "    <tr>\n",
       "      <th>Assessment</th>\n",
       "      <td>1</td>\n",
       "    </tr>\n",
       "    <tr>\n",
       "      <th>Clip</th>\n",
       "      <td>3</td>\n",
       "    </tr>\n",
       "    <tr>\n",
       "      <th>Game</th>\n",
       "      <td>4</td>\n",
       "    </tr>\n",
       "    <tr>\n",
       "      <th>NONE</th>\n",
       "      <th>Clip</th>\n",
       "      <td>1</td>\n",
       "    </tr>\n",
       "    <tr>\n",
       "      <th rowspan=\"4\" valign=\"top\">TREETOPCITY</th>\n",
       "      <th>Activity</th>\n",
       "      <td>3</td>\n",
       "    </tr>\n",
       "    <tr>\n",
       "      <th>Assessment</th>\n",
       "      <td>2</td>\n",
       "    </tr>\n",
       "    <tr>\n",
       "      <th>Clip</th>\n",
       "      <td>9</td>\n",
       "    </tr>\n",
       "    <tr>\n",
       "      <th>Game</th>\n",
       "      <td>3</td>\n",
       "    </tr>\n",
       "  </tbody>\n",
       "</table>\n",
       "</div>"
      ],
      "text/plain": [
       "                         title\n",
       "world        type             \n",
       "CRYSTALCAVES Activity        2\n",
       "             Assessment      2\n",
       "             Clip            7\n",
       "             Game            4\n",
       "MAGMAPEAK    Activity        3\n",
       "             Assessment      1\n",
       "             Clip            3\n",
       "             Game            4\n",
       "NONE         Clip            1\n",
       "TREETOPCITY  Activity        3\n",
       "             Assessment      2\n",
       "             Clip            9\n",
       "             Game            3"
      ]
     },
     "execution_count": 191,
     "metadata": {},
     "output_type": "execute_result"
    }
   ],
   "source": [
    "# usage distribution of each mission\n",
    "eda[eda.title ==]eda.groupby(([\"world\", \"type\"]))"
   ]
  },
  {
   "cell_type": "code",
   "execution_count": 185,
   "metadata": {},
   "outputs": [
    {
     "data": {
      "text/html": [
       "<div>\n",
       "<style scoped>\n",
       "    .dataframe tbody tr th:only-of-type {\n",
       "        vertical-align: middle;\n",
       "    }\n",
       "\n",
       "    .dataframe tbody tr th {\n",
       "        vertical-align: top;\n",
       "    }\n",
       "\n",
       "    .dataframe thead th {\n",
       "        text-align: right;\n",
       "    }\n",
       "</style>\n",
       "<table border=\"1\" class=\"dataframe\">\n",
       "  <thead>\n",
       "    <tr style=\"text-align: right;\">\n",
       "      <th></th>\n",
       "      <th></th>\n",
       "      <th></th>\n",
       "      <th></th>\n",
       "      <th>session</th>\n",
       "    </tr>\n",
       "    <tr>\n",
       "      <th>world</th>\n",
       "      <th>type</th>\n",
       "      <th>title</th>\n",
       "      <th>session</th>\n",
       "      <th></th>\n",
       "    </tr>\n",
       "  </thead>\n",
       "  <tbody>\n",
       "    <tr>\n",
       "      <th rowspan=\"5\" valign=\"top\">CRYSTALCAVES</th>\n",
       "      <th rowspan=\"5\" valign=\"top\">Activity</th>\n",
       "      <th rowspan=\"5\" valign=\"top\">Chicken Balancer (Activity)</th>\n",
       "      <th>7f27efcf7b2b7798</th>\n",
       "      <td>0.004678</td>\n",
       "    </tr>\n",
       "    <tr>\n",
       "      <th>b79581c26f3c60a3</th>\n",
       "      <td>0.002900</td>\n",
       "    </tr>\n",
       "    <tr>\n",
       "      <th>aadeb2f928141038</th>\n",
       "      <td>0.002523</td>\n",
       "    </tr>\n",
       "    <tr>\n",
       "      <th>4d9f869c2b5fe01f</th>\n",
       "      <td>0.002430</td>\n",
       "    </tr>\n",
       "    <tr>\n",
       "      <th>407f25d7e380edbb</th>\n",
       "      <td>0.002302</td>\n",
       "    </tr>\n",
       "    <tr>\n",
       "      <th>...</th>\n",
       "      <th>...</th>\n",
       "      <th>...</th>\n",
       "      <th>...</th>\n",
       "      <td>...</td>\n",
       "    </tr>\n",
       "    <tr>\n",
       "      <th rowspan=\"5\" valign=\"top\">TREETOPCITY</th>\n",
       "      <th rowspan=\"5\" valign=\"top\">Game</th>\n",
       "      <th rowspan=\"5\" valign=\"top\">Crystals Rule</th>\n",
       "      <th>fb51cf79fb67d8be</th>\n",
       "      <td>0.000002</td>\n",
       "    </tr>\n",
       "    <tr>\n",
       "      <th>fc53977531bb7a42</th>\n",
       "      <td>0.000002</td>\n",
       "    </tr>\n",
       "    <tr>\n",
       "      <th>fd046b87fc7da28a</th>\n",
       "      <td>0.000002</td>\n",
       "    </tr>\n",
       "    <tr>\n",
       "      <th>fd33ba7657e097e8</th>\n",
       "      <td>0.000002</td>\n",
       "    </tr>\n",
       "    <tr>\n",
       "      <th>ff051332f77a212c</th>\n",
       "      <td>0.000002</td>\n",
       "    </tr>\n",
       "  </tbody>\n",
       "</table>\n",
       "<p>303319 rows × 1 columns</p>\n",
       "</div>"
      ],
      "text/plain": [
       "                                                                     session\n",
       "world        type     title                       session                   \n",
       "CRYSTALCAVES Activity Chicken Balancer (Activity) 7f27efcf7b2b7798  0.004678\n",
       "                                                  b79581c26f3c60a3  0.002900\n",
       "                                                  aadeb2f928141038  0.002523\n",
       "                                                  4d9f869c2b5fe01f  0.002430\n",
       "                                                  407f25d7e380edbb  0.002302\n",
       "...                                                                      ...\n",
       "TREETOPCITY  Game     Crystals Rule               fb51cf79fb67d8be  0.000002\n",
       "                                                  fc53977531bb7a42  0.000002\n",
       "                                                  fd046b87fc7da28a  0.000002\n",
       "                                                  fd33ba7657e097e8  0.000002\n",
       "                                                  ff051332f77a212c  0.000002\n",
       "\n",
       "[303319 rows x 1 columns]"
      ]
     },
     "execution_count": 185,
     "metadata": {},
     "output_type": "execute_result"
    }
   ],
   "source": [
    "eda.groupby([\"world\", \"type\"])[\"title\"].nunique().to_frame()"
   ]
  },
  {
   "cell_type": "markdown",
   "metadata": {},
   "source": [
    "## Learning habit: Does following curriculum or no relate to better assessment outcome?"
   ]
  },
  {
   "cell_type": "code",
   "execution_count": 287,
   "metadata": {},
   "outputs": [
    {
     "data": {
      "text/html": [
       "<div>\n",
       "<style scoped>\n",
       "    .dataframe tbody tr th:only-of-type {\n",
       "        vertical-align: middle;\n",
       "    }\n",
       "\n",
       "    .dataframe tbody tr th {\n",
       "        vertical-align: top;\n",
       "    }\n",
       "\n",
       "    .dataframe thead th {\n",
       "        text-align: right;\n",
       "    }\n",
       "</style>\n",
       "<table border=\"1\" class=\"dataframe\">\n",
       "  <thead>\n",
       "    <tr style=\"text-align: right;\">\n",
       "      <th></th>\n",
       "      <th>event_id</th>\n",
       "      <th>session</th>\n",
       "      <th>timestamp</th>\n",
       "      <th>event_data</th>\n",
       "      <th>installation_id</th>\n",
       "      <th>event_count</th>\n",
       "      <th>event_code</th>\n",
       "      <th>game_time</th>\n",
       "      <th>title</th>\n",
       "      <th>type</th>\n",
       "      <th>world</th>\n",
       "      <th>num_correct</th>\n",
       "      <th>num_incorrect</th>\n",
       "      <th>accuracy</th>\n",
       "      <th>accuracy_group</th>\n",
       "    </tr>\n",
       "  </thead>\n",
       "  <tbody>\n",
       "    <tr>\n",
       "      <th>0</th>\n",
       "      <td>27253bdc</td>\n",
       "      <td>45bb1e1b6b50c07b</td>\n",
       "      <td>2019-09-06T17:53:46.937Z</td>\n",
       "      <td>{\"event_code\": 2000, \"event_count\": 1}</td>\n",
       "      <td>0001e90f</td>\n",
       "      <td>1</td>\n",
       "      <td>2000</td>\n",
       "      <td>0</td>\n",
       "      <td>Welcome to Lost Lagoon!</td>\n",
       "      <td>Clip</td>\n",
       "      <td>NONE</td>\n",
       "      <td>NaN</td>\n",
       "      <td>NaN</td>\n",
       "      <td>NaN</td>\n",
       "      <td>NaN</td>\n",
       "    </tr>\n",
       "    <tr>\n",
       "      <th>1</th>\n",
       "      <td>27253bdc</td>\n",
       "      <td>17eeb7f223665f53</td>\n",
       "      <td>2019-09-06T17:54:17.519Z</td>\n",
       "      <td>{\"event_code\": 2000, \"event_count\": 1}</td>\n",
       "      <td>0001e90f</td>\n",
       "      <td>1</td>\n",
       "      <td>2000</td>\n",
       "      <td>0</td>\n",
       "      <td>Magma Peak - Level 1</td>\n",
       "      <td>Clip</td>\n",
       "      <td>MAGMAPEAK</td>\n",
       "      <td>NaN</td>\n",
       "      <td>NaN</td>\n",
       "      <td>NaN</td>\n",
       "      <td>NaN</td>\n",
       "    </tr>\n",
       "    <tr>\n",
       "      <th>2</th>\n",
       "      <td>77261ab5</td>\n",
       "      <td>0848ef14a8dc6892</td>\n",
       "      <td>2019-09-06T17:54:56.302Z</td>\n",
       "      <td>{\"version\":\"1.0\",\"event_count\":1,\"game_time\":0...</td>\n",
       "      <td>0001e90f</td>\n",
       "      <td>1</td>\n",
       "      <td>2000</td>\n",
       "      <td>0</td>\n",
       "      <td>Sandcastle Builder (Activity)</td>\n",
       "      <td>Activity</td>\n",
       "      <td>MAGMAPEAK</td>\n",
       "      <td>NaN</td>\n",
       "      <td>NaN</td>\n",
       "      <td>NaN</td>\n",
       "      <td>NaN</td>\n",
       "    </tr>\n",
       "    <tr>\n",
       "      <th>3</th>\n",
       "      <td>b2dba42b</td>\n",
       "      <td>0848ef14a8dc6892</td>\n",
       "      <td>2019-09-06T17:54:56.387Z</td>\n",
       "      <td>{\"description\":\"Let's build a sandcastle! Firs...</td>\n",
       "      <td>0001e90f</td>\n",
       "      <td>2</td>\n",
       "      <td>3010</td>\n",
       "      <td>53</td>\n",
       "      <td>Sandcastle Builder (Activity)</td>\n",
       "      <td>Activity</td>\n",
       "      <td>MAGMAPEAK</td>\n",
       "      <td>NaN</td>\n",
       "      <td>NaN</td>\n",
       "      <td>NaN</td>\n",
       "      <td>NaN</td>\n",
       "    </tr>\n",
       "    <tr>\n",
       "      <th>4</th>\n",
       "      <td>1bb5fbdb</td>\n",
       "      <td>0848ef14a8dc6892</td>\n",
       "      <td>2019-09-06T17:55:03.253Z</td>\n",
       "      <td>{\"description\":\"Let's build a sandcastle! Firs...</td>\n",
       "      <td>0001e90f</td>\n",
       "      <td>3</td>\n",
       "      <td>3110</td>\n",
       "      <td>6972</td>\n",
       "      <td>Sandcastle Builder (Activity)</td>\n",
       "      <td>Activity</td>\n",
       "      <td>MAGMAPEAK</td>\n",
       "      <td>NaN</td>\n",
       "      <td>NaN</td>\n",
       "      <td>NaN</td>\n",
       "      <td>NaN</td>\n",
       "    </tr>\n",
       "  </tbody>\n",
       "</table>\n",
       "</div>"
      ],
      "text/plain": [
       "   event_id           session                 timestamp  \\\n",
       "0  27253bdc  45bb1e1b6b50c07b  2019-09-06T17:53:46.937Z   \n",
       "1  27253bdc  17eeb7f223665f53  2019-09-06T17:54:17.519Z   \n",
       "2  77261ab5  0848ef14a8dc6892  2019-09-06T17:54:56.302Z   \n",
       "3  b2dba42b  0848ef14a8dc6892  2019-09-06T17:54:56.387Z   \n",
       "4  1bb5fbdb  0848ef14a8dc6892  2019-09-06T17:55:03.253Z   \n",
       "\n",
       "                                          event_data installation_id  \\\n",
       "0             {\"event_code\": 2000, \"event_count\": 1}        0001e90f   \n",
       "1             {\"event_code\": 2000, \"event_count\": 1}        0001e90f   \n",
       "2  {\"version\":\"1.0\",\"event_count\":1,\"game_time\":0...        0001e90f   \n",
       "3  {\"description\":\"Let's build a sandcastle! Firs...        0001e90f   \n",
       "4  {\"description\":\"Let's build a sandcastle! Firs...        0001e90f   \n",
       "\n",
       "   event_count  event_code  game_time                          title  \\\n",
       "0            1        2000          0        Welcome to Lost Lagoon!   \n",
       "1            1        2000          0           Magma Peak - Level 1   \n",
       "2            1        2000          0  Sandcastle Builder (Activity)   \n",
       "3            2        3010         53  Sandcastle Builder (Activity)   \n",
       "4            3        3110       6972  Sandcastle Builder (Activity)   \n",
       "\n",
       "       type      world  num_correct  num_incorrect  accuracy  accuracy_group  \n",
       "0      Clip       NONE          NaN            NaN       NaN             NaN  \n",
       "1      Clip  MAGMAPEAK          NaN            NaN       NaN             NaN  \n",
       "2  Activity  MAGMAPEAK          NaN            NaN       NaN             NaN  \n",
       "3  Activity  MAGMAPEAK          NaN            NaN       NaN             NaN  \n",
       "4  Activity  MAGMAPEAK          NaN            NaN       NaN             NaN  "
      ]
     },
     "execution_count": 287,
     "metadata": {},
     "output_type": "execute_result"
    }
   ],
   "source": [
    "eda.head()"
   ]
  },
  {
   "cell_type": "code",
   "execution_count": 339,
   "metadata": {},
   "outputs": [
    {
     "data": {
      "text/plain": [
       "Assessment    303575\n",
       "Name: type, dtype: int64"
      ]
     },
     "execution_count": 339,
     "metadata": {},
     "output_type": "execute_result"
    }
   ],
   "source": [
    "eda[eda.accuracy_group == 3].type.value_counts()"
   ]
  },
  {
   "cell_type": "code",
   "execution_count": 311,
   "metadata": {},
   "outputs": [],
   "source": [
    "nail = eda[eda.accuracy_group == 3]"
   ]
  },
  {
   "cell_type": "code",
   "execution_count": 326,
   "metadata": {},
   "outputs": [],
   "source": [
    "tree = eda[eda.world == \"TREETOPCITY\"]"
   ]
  },
  {
   "cell_type": "code",
   "execution_count": 330,
   "metadata": {},
   "outputs": [],
   "source": [
    "c = (tree.groupby([\"world\", \"type\", \"title\"])[\"session\"].count()).to_frame()\n",
    "#pcts = c.groupby(level=0).apply(lambda x: 100 * x / float(c.sum())).to_frame().reset_index()"
   ]
  },
  {
   "cell_type": "code",
   "execution_count": 316,
   "metadata": {},
   "outputs": [
    {
     "data": {
      "text/plain": [
       "Assessment    303575\n",
       "Name: type, dtype: int64"
      ]
     },
     "execution_count": 316,
     "metadata": {},
     "output_type": "execute_result"
    }
   ],
   "source": [
    "nail.type.value_counts()"
   ]
  },
  {
   "cell_type": "code",
   "execution_count": 337,
   "metadata": {},
   "outputs": [
    {
     "data": {
      "text/html": [
       "<div>\n",
       "<style scoped>\n",
       "    .dataframe tbody tr th:only-of-type {\n",
       "        vertical-align: middle;\n",
       "    }\n",
       "\n",
       "    .dataframe tbody tr th {\n",
       "        vertical-align: top;\n",
       "    }\n",
       "\n",
       "    .dataframe thead th {\n",
       "        text-align: right;\n",
       "    }\n",
       "</style>\n",
       "<table border=\"1\" class=\"dataframe\">\n",
       "  <thead>\n",
       "    <tr style=\"text-align: right;\">\n",
       "      <th></th>\n",
       "      <th></th>\n",
       "      <th></th>\n",
       "      <th>session</th>\n",
       "    </tr>\n",
       "    <tr>\n",
       "      <th>world</th>\n",
       "      <th>type</th>\n",
       "      <th>title</th>\n",
       "      <th></th>\n",
       "    </tr>\n",
       "  </thead>\n",
       "  <tbody>\n",
       "    <tr>\n",
       "      <th rowspan=\"17\" valign=\"top\">TREETOPCITY</th>\n",
       "      <th rowspan=\"3\" valign=\"top\">Activity</th>\n",
       "      <th>Bug Measurer (Activity)</th>\n",
       "      <td>446430</td>\n",
       "    </tr>\n",
       "    <tr>\n",
       "      <th>Fireworks (Activity)</th>\n",
       "      <td>535030</td>\n",
       "    </tr>\n",
       "    <tr>\n",
       "      <th>Flower Waterer (Activity)</th>\n",
       "      <td>356034</td>\n",
       "    </tr>\n",
       "    <tr>\n",
       "      <th rowspan=\"2\" valign=\"top\">Assessment</th>\n",
       "      <th>Bird Measurer (Assessment)</th>\n",
       "      <td>190164</td>\n",
       "    </tr>\n",
       "    <tr>\n",
       "      <th>Mushroom Sorter (Assessment)</th>\n",
       "      <td>199595</td>\n",
       "    </tr>\n",
       "    <tr>\n",
       "      <th rowspan=\"9\" valign=\"top\">Clip</th>\n",
       "      <th>12 Monkeys</th>\n",
       "      <td>4124</td>\n",
       "    </tr>\n",
       "    <tr>\n",
       "      <th>Costume Box</th>\n",
       "      <td>4538</td>\n",
       "    </tr>\n",
       "    <tr>\n",
       "      <th>Ordering Spheres</th>\n",
       "      <td>9758</td>\n",
       "    </tr>\n",
       "    <tr>\n",
       "      <th>Pirate's Tale</th>\n",
       "      <td>4365</td>\n",
       "    </tr>\n",
       "    <tr>\n",
       "      <th>Rulers</th>\n",
       "      <td>3372</td>\n",
       "    </tr>\n",
       "    <tr>\n",
       "      <th>Treasure Map</th>\n",
       "      <td>2852</td>\n",
       "    </tr>\n",
       "    <tr>\n",
       "      <th>Tree Top City - Level 1</th>\n",
       "      <td>12333</td>\n",
       "    </tr>\n",
       "    <tr>\n",
       "      <th>Tree Top City - Level 2</th>\n",
       "      <td>12685</td>\n",
       "    </tr>\n",
       "    <tr>\n",
       "      <th>Tree Top City - Level 3</th>\n",
       "      <td>10516</td>\n",
       "    </tr>\n",
       "    <tr>\n",
       "      <th rowspan=\"3\" valign=\"top\">Game</th>\n",
       "      <th>Air Show</th>\n",
       "      <td>306239</td>\n",
       "    </tr>\n",
       "    <tr>\n",
       "      <th>All Star Sorting</th>\n",
       "      <td>509344</td>\n",
       "    </tr>\n",
       "    <tr>\n",
       "      <th>Crystals Rule</th>\n",
       "      <td>453852</td>\n",
       "    </tr>\n",
       "  </tbody>\n",
       "</table>\n",
       "</div>"
      ],
      "text/plain": [
       "                                                     session\n",
       "world       type       title                                \n",
       "TREETOPCITY Activity   Bug Measurer (Activity)        446430\n",
       "                       Fireworks (Activity)           535030\n",
       "                       Flower Waterer (Activity)      356034\n",
       "            Assessment Bird Measurer (Assessment)     190164\n",
       "                       Mushroom Sorter (Assessment)   199595\n",
       "            Clip       12 Monkeys                       4124\n",
       "                       Costume Box                      4538\n",
       "                       Ordering Spheres                 9758\n",
       "                       Pirate's Tale                    4365\n",
       "                       Rulers                           3372\n",
       "                       Treasure Map                     2852\n",
       "                       Tree Top City - Level 1         12333\n",
       "                       Tree Top City - Level 2         12685\n",
       "                       Tree Top City - Level 3         10516\n",
       "            Game       Air Show                       306239\n",
       "                       All Star Sorting               509344\n",
       "                       Crystals Rule                  453852"
      ]
     },
     "execution_count": 337,
     "metadata": {},
     "output_type": "execute_result"
    }
   ],
   "source": [
    "c"
   ]
  },
  {
   "cell_type": "code",
   "execution_count": 335,
   "metadata": {},
   "outputs": [
    {
     "data": {
      "text/plain": [
       "Assessment    125885\n",
       "Name: type, dtype: int64"
      ]
     },
     "execution_count": 335,
     "metadata": {},
     "output_type": "execute_result"
    }
   ],
   "source": [
    "tree[tree.accuracy_group == 3].type.value_counts()"
   ]
  },
  {
   "cell_type": "code",
   "execution_count": 317,
   "metadata": {},
   "outputs": [
    {
     "data": {
      "text/plain": [
       "TREETOPCITY     125885\n",
       "CRYSTALCAVES     89632\n",
       "MAGMAPEAK        88058\n",
       "Name: world, dtype: int64"
      ]
     },
     "execution_count": 317,
     "metadata": {},
     "output_type": "execute_result"
    }
   ],
   "source": [
    "nail.world.value_counts()"
   ]
  },
  {
   "cell_type": "code",
   "execution_count": 319,
   "metadata": {},
   "outputs": [
    {
     "data": {
      "text/plain": [
       "Chow Time                        1150974\n",
       "Sandcastle Builder (Activity)    1034332\n",
       "Scrub-A-Dub                      1016837\n",
       "Bottle Filler (Activity)         1004068\n",
       "Fireworks (Activity)              535030\n",
       "All Star Sorting                  509344\n",
       "Dino Drink                        492916\n",
       "Bubble Bath                       458972\n",
       "Crystals Rule                     453852\n",
       "Bug Measurer (Activity)           446430\n",
       "Chicken Balancer (Activity)       443156\n",
       "Dino Dive                         427655\n",
       "Pan Balance                       384857\n",
       "Watering Hole (Activity)          369270\n",
       "Flower Waterer (Activity)         356034\n",
       "Happy Camel                       311543\n",
       "Air Show                          306239\n",
       "Leaf Leader                       282104\n",
       "Egg Dropper (Activity)            248408\n",
       "Mushroom Sorter (Assessment)      199595\n",
       "Chest Sorter (Assessment)         190318\n",
       "Bird Measurer (Assessment)        190164\n",
       "Cauldron Filler (Assessment)      181925\n",
       "Cart Balancer (Assessment)        163343\n",
       "Welcome to Lost Lagoon!            23578\n",
       "Magma Peak - Level 2               17115\n",
       "Crystal Caves - Level 2            14342\n",
       "Magma Peak - Level 1               13623\n",
       "Tree Top City - Level 2            12685\n",
       "Crystal Caves - Level 1            12505\n",
       "Crystal Caves - Level 3            12482\n",
       "Tree Top City - Level 1            12333\n",
       "Tree Top City - Level 3            10516\n",
       "Ordering Spheres                    9758\n",
       "Slop Problem                        6974\n",
       "Lifting Heavy Things                5759\n",
       "Balancing Act                       5522\n",
       "Costume Box                         4538\n",
       "Pirate's Tale                       4365\n",
       "12 Monkeys                          4124\n",
       "Honey Cake                          3882\n",
       "Rulers                              3372\n",
       "Heavy, Heavier, Heaviest            3351\n",
       "Treasure Map                        2852\n",
       "Name: title, dtype: int64"
      ]
     },
     "execution_count": 319,
     "metadata": {},
     "output_type": "execute_result"
    }
   ],
   "source": [
    "eda.title.value_counts()"
   ]
  },
  {
   "cell_type": "code",
   "execution_count": 312,
   "metadata": {},
   "outputs": [],
   "source": [
    "c = (nail.groupby([\"world\", \"type\", \"title\"])[\"session\"].count())\n",
    "pcts = c.groupby(level=0).apply(lambda x: 100 * x / float(c.sum())).to_frame().reset_index()"
   ]
  },
  {
   "cell_type": "code",
   "execution_count": 314,
   "metadata": {},
   "outputs": [
    {
     "data": {
      "text/plain": [
       "world         type        title                       \n",
       "CRYSTALCAVES  Assessment  Cart Balancer (Assessment)      70103\n",
       "                          Chest Sorter (Assessment)       19529\n",
       "MAGMAPEAK     Assessment  Cauldron Filler (Assessment)    88058\n",
       "TREETOPCITY   Assessment  Bird Measurer (Assessment)      31995\n",
       "                          Mushroom Sorter (Assessment)    93890\n",
       "Name: session, dtype: int64"
      ]
     },
     "execution_count": 314,
     "metadata": {},
     "output_type": "execute_result"
    }
   ],
   "source": [
    "c"
   ]
  },
  {
   "cell_type": "code",
   "execution_count": 298,
   "metadata": {},
   "outputs": [
    {
     "data": {
      "text/plain": [
       "109502"
      ]
     },
     "execution_count": 298,
     "metadata": {},
     "output_type": "execute_result"
    }
   ],
   "source": [
    "len(eda[eda.accuracy_group == 2])"
   ]
  },
  {
   "cell_type": "code",
   "execution_count": 299,
   "metadata": {},
   "outputs": [
    {
     "data": {
      "text/plain": [
       "197291"
      ]
     },
     "execution_count": 299,
     "metadata": {},
     "output_type": "execute_result"
    }
   ],
   "source": [
    "len(eda[eda.accuracy_group == 1])"
   ]
  },
  {
   "cell_type": "code",
   "execution_count": 300,
   "metadata": {},
   "outputs": [
    {
     "data": {
      "text/plain": [
       "255079"
      ]
     },
     "execution_count": 300,
     "metadata": {},
     "output_type": "execute_result"
    }
   ],
   "source": [
    "len(eda[eda.accuracy_group == 0])"
   ]
  },
  {
   "cell_type": "code",
   "execution_count": 304,
   "metadata": {},
   "outputs": [
    {
     "data": {
      "text/plain": [
       "10475595"
      ]
     },
     "execution_count": 304,
     "metadata": {},
     "output_type": "execute_result"
    }
   ],
   "source": [
    "eda.accuracy_group.isna().sum()"
   ]
  },
  {
   "cell_type": "code",
   "execution_count": 308,
   "metadata": {},
   "outputs": [
    {
     "data": {
      "text/plain": [
       "NaN    10475595\n",
       "3.0      303575\n",
       "0.0      255079\n",
       "1.0      197291\n",
       "2.0      109502\n",
       "Name: accuracy_group, dtype: int64"
      ]
     },
     "execution_count": 308,
     "metadata": {},
     "output_type": "execute_result"
    }
   ],
   "source": [
    "eda.accuracy_group.value_counts(dropna = False)"
   ]
  },
  {
   "cell_type": "code",
   "execution_count": 293,
   "metadata": {},
   "outputs": [
    {
     "data": {
      "text/html": [
       "<div>\n",
       "<style scoped>\n",
       "    .dataframe tbody tr th:only-of-type {\n",
       "        vertical-align: middle;\n",
       "    }\n",
       "\n",
       "    .dataframe tbody tr th {\n",
       "        vertical-align: top;\n",
       "    }\n",
       "\n",
       "    .dataframe thead th {\n",
       "        text-align: right;\n",
       "    }\n",
       "</style>\n",
       "<table border=\"1\" class=\"dataframe\">\n",
       "  <thead>\n",
       "    <tr style=\"text-align: right;\">\n",
       "      <th></th>\n",
       "      <th>event_id</th>\n",
       "      <th>session</th>\n",
       "      <th>timestamp</th>\n",
       "      <th>event_data</th>\n",
       "      <th>installation_id</th>\n",
       "      <th>event_count</th>\n",
       "      <th>event_code</th>\n",
       "      <th>game_time</th>\n",
       "      <th>title</th>\n",
       "      <th>type</th>\n",
       "      <th>world</th>\n",
       "      <th>num_correct</th>\n",
       "      <th>num_incorrect</th>\n",
       "      <th>accuracy</th>\n",
       "      <th>accuracy_group</th>\n",
       "    </tr>\n",
       "  </thead>\n",
       "  <tbody>\n",
       "    <tr>\n",
       "      <th>2185</th>\n",
       "      <td>3bfd1a65</td>\n",
       "      <td>901acc108f55a5a1</td>\n",
       "      <td>2019-08-06T05:22:01.344Z</td>\n",
       "      <td>{\"version\":\"1.0\",\"event_count\":1,\"game_time\":0...</td>\n",
       "      <td>0006a69f</td>\n",
       "      <td>1</td>\n",
       "      <td>2000</td>\n",
       "      <td>0</td>\n",
       "      <td>Mushroom Sorter (Assessment)</td>\n",
       "      <td>Assessment</td>\n",
       "      <td>TREETOPCITY</td>\n",
       "      <td>1.0</td>\n",
       "      <td>0.0</td>\n",
       "      <td>1.0</td>\n",
       "      <td>3.0</td>\n",
       "    </tr>\n",
       "    <tr>\n",
       "      <th>2186</th>\n",
       "      <td>db02c830</td>\n",
       "      <td>901acc108f55a5a1</td>\n",
       "      <td>2019-08-06T05:22:01.400Z</td>\n",
       "      <td>{\"event_count\":2,\"game_time\":37,\"event_code\":2...</td>\n",
       "      <td>0006a69f</td>\n",
       "      <td>2</td>\n",
       "      <td>2025</td>\n",
       "      <td>37</td>\n",
       "      <td>Mushroom Sorter (Assessment)</td>\n",
       "      <td>Assessment</td>\n",
       "      <td>TREETOPCITY</td>\n",
       "      <td>1.0</td>\n",
       "      <td>0.0</td>\n",
       "      <td>1.0</td>\n",
       "      <td>3.0</td>\n",
       "    </tr>\n",
       "    <tr>\n",
       "      <th>2187</th>\n",
       "      <td>a1e4395d</td>\n",
       "      <td>901acc108f55a5a1</td>\n",
       "      <td>2019-08-06T05:22:01.403Z</td>\n",
       "      <td>{\"description\":\"Pull three mushrooms out of th...</td>\n",
       "      <td>0006a69f</td>\n",
       "      <td>3</td>\n",
       "      <td>3010</td>\n",
       "      <td>37</td>\n",
       "      <td>Mushroom Sorter (Assessment)</td>\n",
       "      <td>Assessment</td>\n",
       "      <td>TREETOPCITY</td>\n",
       "      <td>1.0</td>\n",
       "      <td>0.0</td>\n",
       "      <td>1.0</td>\n",
       "      <td>3.0</td>\n",
       "    </tr>\n",
       "    <tr>\n",
       "      <th>2188</th>\n",
       "      <td>a52b92d5</td>\n",
       "      <td>901acc108f55a5a1</td>\n",
       "      <td>2019-08-06T05:22:05.242Z</td>\n",
       "      <td>{\"description\":\"Pull three mushrooms out of th...</td>\n",
       "      <td>0006a69f</td>\n",
       "      <td>4</td>\n",
       "      <td>3110</td>\n",
       "      <td>3901</td>\n",
       "      <td>Mushroom Sorter (Assessment)</td>\n",
       "      <td>Assessment</td>\n",
       "      <td>TREETOPCITY</td>\n",
       "      <td>1.0</td>\n",
       "      <td>0.0</td>\n",
       "      <td>1.0</td>\n",
       "      <td>3.0</td>\n",
       "    </tr>\n",
       "    <tr>\n",
       "      <th>2189</th>\n",
       "      <td>a1e4395d</td>\n",
       "      <td>901acc108f55a5a1</td>\n",
       "      <td>2019-08-06T05:22:05.244Z</td>\n",
       "      <td>{\"description\":\"To pick a mushroom, pull it ou...</td>\n",
       "      <td>0006a69f</td>\n",
       "      <td>5</td>\n",
       "      <td>3010</td>\n",
       "      <td>3901</td>\n",
       "      <td>Mushroom Sorter (Assessment)</td>\n",
       "      <td>Assessment</td>\n",
       "      <td>TREETOPCITY</td>\n",
       "      <td>1.0</td>\n",
       "      <td>0.0</td>\n",
       "      <td>1.0</td>\n",
       "      <td>3.0</td>\n",
       "    </tr>\n",
       "    <tr>\n",
       "      <th>...</th>\n",
       "      <td>...</td>\n",
       "      <td>...</td>\n",
       "      <td>...</td>\n",
       "      <td>...</td>\n",
       "      <td>...</td>\n",
       "      <td>...</td>\n",
       "      <td>...</td>\n",
       "      <td>...</td>\n",
       "      <td>...</td>\n",
       "      <td>...</td>\n",
       "      <td>...</td>\n",
       "      <td>...</td>\n",
       "      <td>...</td>\n",
       "      <td>...</td>\n",
       "      <td>...</td>\n",
       "    </tr>\n",
       "    <tr>\n",
       "      <th>11333401</th>\n",
       "      <td>28520915</td>\n",
       "      <td>b05a02b52d5c1f4c</td>\n",
       "      <td>2019-08-07T01:07:28.154Z</td>\n",
       "      <td>{\"misses\":0,\"prompt\":\"holds most\",\"mode\":\"sele...</td>\n",
       "      <td>ffd2871d</td>\n",
       "      <td>36</td>\n",
       "      <td>2030</td>\n",
       "      <td>50032</td>\n",
       "      <td>Cauldron Filler (Assessment)</td>\n",
       "      <td>Assessment</td>\n",
       "      <td>MAGMAPEAK</td>\n",
       "      <td>1.0</td>\n",
       "      <td>0.0</td>\n",
       "      <td>1.0</td>\n",
       "      <td>3.0</td>\n",
       "    </tr>\n",
       "    <tr>\n",
       "      <th>11333402</th>\n",
       "      <td>d3268efa</td>\n",
       "      <td>b05a02b52d5c1f4c</td>\n",
       "      <td>2019-08-07T01:07:28.158Z</td>\n",
       "      <td>{\"description\":\"Awesome.\",\"identifier\":\"Dot_Aw...</td>\n",
       "      <td>ffd2871d</td>\n",
       "      <td>37</td>\n",
       "      <td>3021</td>\n",
       "      <td>50032</td>\n",
       "      <td>Cauldron Filler (Assessment)</td>\n",
       "      <td>Assessment</td>\n",
       "      <td>MAGMAPEAK</td>\n",
       "      <td>1.0</td>\n",
       "      <td>0.0</td>\n",
       "      <td>1.0</td>\n",
       "      <td>3.0</td>\n",
       "    </tr>\n",
       "    <tr>\n",
       "      <th>11333403</th>\n",
       "      <td>b5053438</td>\n",
       "      <td>b05a02b52d5c1f4c</td>\n",
       "      <td>2019-08-07T01:07:28.940Z</td>\n",
       "      <td>{\"description\":\"Awesome.\",\"identifier\":\"Dot_Aw...</td>\n",
       "      <td>ffd2871d</td>\n",
       "      <td>38</td>\n",
       "      <td>3121</td>\n",
       "      <td>50831</td>\n",
       "      <td>Cauldron Filler (Assessment)</td>\n",
       "      <td>Assessment</td>\n",
       "      <td>MAGMAPEAK</td>\n",
       "      <td>1.0</td>\n",
       "      <td>0.0</td>\n",
       "      <td>1.0</td>\n",
       "      <td>3.0</td>\n",
       "    </tr>\n",
       "    <tr>\n",
       "      <th>11333404</th>\n",
       "      <td>3ee399c3</td>\n",
       "      <td>b05a02b52d5c1f4c</td>\n",
       "      <td>2019-08-07T01:07:31.299Z</td>\n",
       "      <td>{\"coordinates\":{\"x\":311,\"y\":396,\"stage_width\":...</td>\n",
       "      <td>ffd2871d</td>\n",
       "      <td>39</td>\n",
       "      <td>4070</td>\n",
       "      <td>53180</td>\n",
       "      <td>Cauldron Filler (Assessment)</td>\n",
       "      <td>Assessment</td>\n",
       "      <td>MAGMAPEAK</td>\n",
       "      <td>1.0</td>\n",
       "      <td>0.0</td>\n",
       "      <td>1.0</td>\n",
       "      <td>3.0</td>\n",
       "    </tr>\n",
       "    <tr>\n",
       "      <th>11333405</th>\n",
       "      <td>2b058fe3</td>\n",
       "      <td>b05a02b52d5c1f4c</td>\n",
       "      <td>2019-08-07T01:07:32.637Z</td>\n",
       "      <td>{\"session_duration\":54533,\"event_count\":40,\"ga...</td>\n",
       "      <td>ffd2871d</td>\n",
       "      <td>40</td>\n",
       "      <td>2010</td>\n",
       "      <td>54533</td>\n",
       "      <td>Cauldron Filler (Assessment)</td>\n",
       "      <td>Assessment</td>\n",
       "      <td>MAGMAPEAK</td>\n",
       "      <td>1.0</td>\n",
       "      <td>0.0</td>\n",
       "      <td>1.0</td>\n",
       "      <td>3.0</td>\n",
       "    </tr>\n",
       "  </tbody>\n",
       "</table>\n",
       "<p>303575 rows × 15 columns</p>\n",
       "</div>"
      ],
      "text/plain": [
       "          event_id           session                 timestamp  \\\n",
       "2185      3bfd1a65  901acc108f55a5a1  2019-08-06T05:22:01.344Z   \n",
       "2186      db02c830  901acc108f55a5a1  2019-08-06T05:22:01.400Z   \n",
       "2187      a1e4395d  901acc108f55a5a1  2019-08-06T05:22:01.403Z   \n",
       "2188      a52b92d5  901acc108f55a5a1  2019-08-06T05:22:05.242Z   \n",
       "2189      a1e4395d  901acc108f55a5a1  2019-08-06T05:22:05.244Z   \n",
       "...            ...               ...                       ...   \n",
       "11333401  28520915  b05a02b52d5c1f4c  2019-08-07T01:07:28.154Z   \n",
       "11333402  d3268efa  b05a02b52d5c1f4c  2019-08-07T01:07:28.158Z   \n",
       "11333403  b5053438  b05a02b52d5c1f4c  2019-08-07T01:07:28.940Z   \n",
       "11333404  3ee399c3  b05a02b52d5c1f4c  2019-08-07T01:07:31.299Z   \n",
       "11333405  2b058fe3  b05a02b52d5c1f4c  2019-08-07T01:07:32.637Z   \n",
       "\n",
       "                                                 event_data installation_id  \\\n",
       "2185      {\"version\":\"1.0\",\"event_count\":1,\"game_time\":0...        0006a69f   \n",
       "2186      {\"event_count\":2,\"game_time\":37,\"event_code\":2...        0006a69f   \n",
       "2187      {\"description\":\"Pull three mushrooms out of th...        0006a69f   \n",
       "2188      {\"description\":\"Pull three mushrooms out of th...        0006a69f   \n",
       "2189      {\"description\":\"To pick a mushroom, pull it ou...        0006a69f   \n",
       "...                                                     ...             ...   \n",
       "11333401  {\"misses\":0,\"prompt\":\"holds most\",\"mode\":\"sele...        ffd2871d   \n",
       "11333402  {\"description\":\"Awesome.\",\"identifier\":\"Dot_Aw...        ffd2871d   \n",
       "11333403  {\"description\":\"Awesome.\",\"identifier\":\"Dot_Aw...        ffd2871d   \n",
       "11333404  {\"coordinates\":{\"x\":311,\"y\":396,\"stage_width\":...        ffd2871d   \n",
       "11333405  {\"session_duration\":54533,\"event_count\":40,\"ga...        ffd2871d   \n",
       "\n",
       "          event_count  event_code  game_time                         title  \\\n",
       "2185                1        2000          0  Mushroom Sorter (Assessment)   \n",
       "2186                2        2025         37  Mushroom Sorter (Assessment)   \n",
       "2187                3        3010         37  Mushroom Sorter (Assessment)   \n",
       "2188                4        3110       3901  Mushroom Sorter (Assessment)   \n",
       "2189                5        3010       3901  Mushroom Sorter (Assessment)   \n",
       "...               ...         ...        ...                           ...   \n",
       "11333401           36        2030      50032  Cauldron Filler (Assessment)   \n",
       "11333402           37        3021      50032  Cauldron Filler (Assessment)   \n",
       "11333403           38        3121      50831  Cauldron Filler (Assessment)   \n",
       "11333404           39        4070      53180  Cauldron Filler (Assessment)   \n",
       "11333405           40        2010      54533  Cauldron Filler (Assessment)   \n",
       "\n",
       "                type        world  num_correct  num_incorrect  accuracy  \\\n",
       "2185      Assessment  TREETOPCITY          1.0            0.0       1.0   \n",
       "2186      Assessment  TREETOPCITY          1.0            0.0       1.0   \n",
       "2187      Assessment  TREETOPCITY          1.0            0.0       1.0   \n",
       "2188      Assessment  TREETOPCITY          1.0            0.0       1.0   \n",
       "2189      Assessment  TREETOPCITY          1.0            0.0       1.0   \n",
       "...              ...          ...          ...            ...       ...   \n",
       "11333401  Assessment    MAGMAPEAK          1.0            0.0       1.0   \n",
       "11333402  Assessment    MAGMAPEAK          1.0            0.0       1.0   \n",
       "11333403  Assessment    MAGMAPEAK          1.0            0.0       1.0   \n",
       "11333404  Assessment    MAGMAPEAK          1.0            0.0       1.0   \n",
       "11333405  Assessment    MAGMAPEAK          1.0            0.0       1.0   \n",
       "\n",
       "          accuracy_group  \n",
       "2185                 3.0  \n",
       "2186                 3.0  \n",
       "2187                 3.0  \n",
       "2188                 3.0  \n",
       "2189                 3.0  \n",
       "...                  ...  \n",
       "11333401             3.0  \n",
       "11333402             3.0  \n",
       "11333403             3.0  \n",
       "11333404             3.0  \n",
       "11333405             3.0  \n",
       "\n",
       "[303575 rows x 15 columns]"
      ]
     },
     "execution_count": 293,
     "metadata": {},
     "output_type": "execute_result"
    }
   ],
   "source": [
    "nail = eda[eda.accuracy_group == 3]\n",
    "noluck = eda[eda.accuracy_]"
   ]
  },
  {
   "cell_type": "code",
   "execution_count": null,
   "metadata": {},
   "outputs": [],
   "source": []
  },
  {
   "cell_type": "code",
   "execution_count": null,
   "metadata": {},
   "outputs": [],
   "source": []
  },
  {
   "cell_type": "code",
   "execution_count": null,
   "metadata": {},
   "outputs": [],
   "source": []
  },
  {
   "cell_type": "code",
   "execution_count": null,
   "metadata": {},
   "outputs": [],
   "source": []
  },
  {
   "cell_type": "code",
   "execution_count": null,
   "metadata": {},
   "outputs": [],
   "source": []
  },
  {
   "cell_type": "code",
   "execution_count": null,
   "metadata": {},
   "outputs": [],
   "source": []
  },
  {
   "cell_type": "code",
   "execution_count": null,
   "metadata": {},
   "outputs": [],
   "source": []
  },
  {
   "cell_type": "code",
   "execution_count": null,
   "metadata": {},
   "outputs": [],
   "source": []
  },
  {
   "cell_type": "markdown",
   "metadata": {},
   "source": [
    "# About the kids who took tests"
   ]
  },
  {
   "cell_type": "code",
   "execution_count": null,
   "metadata": {},
   "outputs": [],
   "source": [
    "# do this part so i can look at the pattern on \n",
    "# info underlying different learning routes (linear or random) "
   ]
  },
  {
   "cell_type": "markdown",
   "metadata": {},
   "source": [
    "## Assessment outcome distribution"
   ]
  },
  {
   "cell_type": "code",
   "execution_count": 81,
   "metadata": {},
   "outputs": [
    {
     "data": {
      "text/plain": [
       "Text(0.5, 1.0, 'What is the overall distribution for assessment outcomes?')"
      ]
     },
     "execution_count": 81,
     "metadata": {},
     "output_type": "execute_result"
    },
    {
     "data": {
      "image/png": "[encoded data removed]",
      "text/plain": [
       "<Figure size 432x288 with 1 Axes>"
      ]
     },
     "metadata": {},
     "output_type": "display_data"
    }
   ],
   "source": [
    "# Regardless of world or how many activities, video clips, or games did the kids use\n",
    "# 50% of kids achieved in the first attempt itself.\n",
    "\n",
    "ag = (train_label.groupby(['accuracy_group'])[\"game_session\"].count())\n",
    "ag_pcts = ag.groupby(level=0).apply(lambda x: 100 * x / float(ag.sum())).to_frame().reset_index()\n",
    "#plt.legend(title='Color', loc='center left', bbox_to_anchor=(1, 0.5))\n",
    "(sns.barplot(x = \"accuracy_group\" , y=\"game_session\", data=ag_pcts, palette=\"pastel\"))\n",
    "plt.title(\"What is the overall distribution for assessment outcomes?\")"
   ]
  },
  {
   "cell_type": "code",
   "execution_count": null,
   "metadata": {},
   "outputs": [],
   "source": [
    "# How will it look like if we take world into consideration \n",
    "# (aka, if there's or there're any particular world more difficult to takle?)"
   ]
  },
  {
   "cell_type": "code",
   "execution_count": 160,
   "metadata": {},
   "outputs": [
    {
     "data": {
      "text/plain": [
       "Index(['event_id', 'session', 'timestamp', 'event_data', 'installation_id',\n",
       "       'event_count', 'event_code', 'game_time', 'title', 'type', 'world',\n",
       "       'num_correct', 'num_incorrect', 'accuracy', 'accuracy_group'],\n",
       "      dtype='object')"
      ]
     },
     "execution_count": 160,
     "metadata": {},
     "output_type": "execute_result"
    }
   ],
   "source": [
    "eda.columns"
   ]
  },
  {
   "cell_type": "code",
   "execution_count": null,
   "metadata": {},
   "outputs": [],
   "source": []
  },
  {
   "cell_type": "code",
   "execution_count": null,
   "metadata": {},
   "outputs": [],
   "source": [
    "# plt.title(\"What is the overall distribution for game, activity, video usage?\")"
   ]
  },
  {
   "cell_type": "code",
   "execution_count": 97,
   "metadata": {},
   "outputs": [
    {
     "data": {
      "text/html": [
       "<div>\n",
       "<style scoped>\n",
       "    .dataframe tbody tr th:only-of-type {\n",
       "        vertical-align: middle;\n",
       "    }\n",
       "\n",
       "    .dataframe tbody tr th {\n",
       "        vertical-align: top;\n",
       "    }\n",
       "\n",
       "    .dataframe thead th {\n",
       "        text-align: right;\n",
       "    }\n",
       "</style>\n",
       "<table border=\"1\" class=\"dataframe\">\n",
       "  <thead>\n",
       "    <tr style=\"text-align: right;\">\n",
       "      <th></th>\n",
       "      <th>game_session</th>\n",
       "      <th>installation_id</th>\n",
       "      <th>title</th>\n",
       "      <th>num_correct</th>\n",
       "      <th>num_incorrect</th>\n",
       "      <th>accuracy</th>\n",
       "      <th>accuracy_group</th>\n",
       "    </tr>\n",
       "  </thead>\n",
       "  <tbody>\n",
       "    <tr>\n",
       "      <th>0</th>\n",
       "      <td>6bdf9623adc94d89</td>\n",
       "      <td>0006a69f</td>\n",
       "      <td>Mushroom Sorter (Assessment)</td>\n",
       "      <td>1</td>\n",
       "      <td>0</td>\n",
       "      <td>1.0</td>\n",
       "      <td>3</td>\n",
       "    </tr>\n",
       "    <tr>\n",
       "      <th>1</th>\n",
       "      <td>77b8ee947eb84b4e</td>\n",
       "      <td>0006a69f</td>\n",
       "      <td>Bird Measurer (Assessment)</td>\n",
       "      <td>0</td>\n",
       "      <td>11</td>\n",
       "      <td>0.0</td>\n",
       "      <td>0</td>\n",
       "    </tr>\n",
       "    <tr>\n",
       "      <th>2</th>\n",
       "      <td>901acc108f55a5a1</td>\n",
       "      <td>0006a69f</td>\n",
       "      <td>Mushroom Sorter (Assessment)</td>\n",
       "      <td>1</td>\n",
       "      <td>0</td>\n",
       "      <td>1.0</td>\n",
       "      <td>3</td>\n",
       "    </tr>\n",
       "    <tr>\n",
       "      <th>3</th>\n",
       "      <td>9501794defd84e4d</td>\n",
       "      <td>0006a69f</td>\n",
       "      <td>Mushroom Sorter (Assessment)</td>\n",
       "      <td>1</td>\n",
       "      <td>1</td>\n",
       "      <td>0.5</td>\n",
       "      <td>2</td>\n",
       "    </tr>\n",
       "    <tr>\n",
       "      <th>4</th>\n",
       "      <td>a9ef3ecb3d1acc6a</td>\n",
       "      <td>0006a69f</td>\n",
       "      <td>Bird Measurer (Assessment)</td>\n",
       "      <td>1</td>\n",
       "      <td>0</td>\n",
       "      <td>1.0</td>\n",
       "      <td>3</td>\n",
       "    </tr>\n",
       "  </tbody>\n",
       "</table>\n",
       "</div>"
      ],
      "text/plain": [
       "       game_session installation_id                         title  \\\n",
       "0  6bdf9623adc94d89        0006a69f  Mushroom Sorter (Assessment)   \n",
       "1  77b8ee947eb84b4e        0006a69f    Bird Measurer (Assessment)   \n",
       "2  901acc108f55a5a1        0006a69f  Mushroom Sorter (Assessment)   \n",
       "3  9501794defd84e4d        0006a69f  Mushroom Sorter (Assessment)   \n",
       "4  a9ef3ecb3d1acc6a        0006a69f    Bird Measurer (Assessment)   \n",
       "\n",
       "   num_correct  num_incorrect  accuracy  accuracy_group  \n",
       "0            1              0       1.0               3  \n",
       "1            0             11       0.0               0  \n",
       "2            1              0       1.0               3  \n",
       "3            1              1       0.5               2  \n",
       "4            1              0       1.0               3  "
      ]
     },
     "execution_count": 97,
     "metadata": {},
     "output_type": "execute_result"
    }
   ],
   "source": [
    "train_label.head()"
   ]
  },
  {
   "cell_type": "code",
   "execution_count": null,
   "metadata": {},
   "outputs": [],
   "source": []
  },
  {
   "cell_type": "markdown",
   "metadata": {},
   "source": [
    "## Distribution of different assessment items"
   ]
  },
  {
   "cell_type": "code",
   "execution_count": 158,
   "metadata": {},
   "outputs": [
    {
     "data": {
      "text/plain": [
       "['Mushroom Sorter (Assessment)',\n",
       " 'Bird Measurer (Assessment)',\n",
       " 'Cauldron Filler (Assessment)',\n",
       " 'Chest Sorter (Assessment)',\n",
       " 'Cart Balancer (Assessment)']"
      ]
     },
     "execution_count": 158,
     "metadata": {},
     "output_type": "execute_result"
    }
   ],
   "source": [
    "list(train_label.title.unique())"
   ]
  },
  {
   "cell_type": "code",
   "execution_count": 96,
   "metadata": {},
   "outputs": [
    {
     "data": {
      "text/plain": [
       "Text(0.5, 1.0, 'What is the overall distribution for game, activity, video usage?')"
      ]
     },
     "execution_count": 96,
     "metadata": {},
     "output_type": "execute_result"
    },
    {
     "data": {
      "image/png": "[encoded data removed]",
      "text/plain": [
       "<Figure size 432x288 with 1 Axes>"
      ]
     },
     "metadata": {},
     "output_type": "display_data"
    }
   ],
   "source": [
    "# some assessments appear more frequently\n",
    "# next, why?\n",
    "title_ag = (train_label.groupby(['title'])[\"game_session\"].count())\n",
    "title_ag_pcts = title_ag.groupby(level=0).apply(lambda x: 100 * x / float(ag.sum())).to_frame().reset_index()\n",
    "#plt.legend(title='Color', loc='center left', bbox_to_anchor=(1, 0.5))\n",
    "(sns.barplot(x =\"game_session\", y=\"title\", data=title_ag_pcts, palette=\"pastel\"))\n",
    "#chart.set_xticklabels(chart.get_xticklabels(), rotation=90)\n",
    "plt.title(\"Which assessments are associated with more attempts?\")"
   ]
  },
  {
   "cell_type": "code",
   "execution_count": null,
   "metadata": {},
   "outputs": [],
   "source": [
    "# is it because some assessments may require more effort to get  \n",
    "\n",
    "# seems like the more frequently used assessments (Cart Balancer, Cauldron Filler, Mushroom Sorter) \n",
    "# are the ones that kids \"nailed it\" more frequently\n",
    "\n",
    "# now, let's look at the if it is same group of kids (by installation_id) repeatedly taking assessments"
   ]
  },
  {
   "cell_type": "code",
   "execution_count": 118,
   "metadata": {},
   "outputs": [
    {
     "data": {
      "text/plain": [
       "Text(0.5, 1.0, 'What are the outcome distributions associated with each assessment')"
      ]
     },
     "execution_count": 118,
     "metadata": {},
     "output_type": "execute_result"
    },
    {
     "data": {
      "image/png": "[encoded data removed]",
      "text/plain": [
       "<Figure size 720x576 with 1 Axes>"
      ]
     },
     "metadata": {},
     "output_type": "display_data"
    }
   ],
   "source": [
    "plt.figure(figsize=(10,8))\n",
    "x, y, hue = \"title\", \"proportion\", \"accuracy_group\"\n",
    "\n",
    "prop_df = (train_label\n",
    "           .groupby(x)[hue]\n",
    "           .value_counts(normalize=True)\n",
    "           .rename(y)\n",
    "           .reset_index())\n",
    "\n",
    "(sns.barplot(x=y, y=x, hue=hue, data=prop_df, palette=\"pastel\"))\n",
    "#plt.axhline(y=.5, linestyle = '--', color = 'dimgray')\n",
    "plt.legend(title='Assessment Title', loc='upper left', bbox_to_anchor=(1, 0.5))\n",
    "plt.title(\"What are the outcome distributions associated with each assessment\")"
   ]
  },
  {
   "cell_type": "code",
   "execution_count": null,
   "metadata": {},
   "outputs": [],
   "source": [
    "plt.figure(figsize=(10,8))\n",
    "x, y, hue = \"title\", \"proportion\", \"accuracy_group\", \"installation_id\"\n",
    "\n",
    "prop_df = (train_label\n",
    "           .groupby(x, y)[hue]\n",
    "           .value_counts(normalize=True)\n",
    "           .rename(y)\n",
    "           .reset_index())\n",
    "\n",
    "(sns.barplot(x=y, y=x, hue=hue, data=prop_df, palette=\"pastel\"))\n",
    "#plt.axhline(y=.5, linestyle = '--', color = 'dimgray')\n",
    "plt.legend(title='Assessment Title', loc='upper left', bbox_to_anchor=(1, 0.5))\n",
    "plt.title(\"What are the outcome distributions associated with each assessment\")"
   ]
  },
  {
   "cell_type": "code",
   "execution_count": 126,
   "metadata": {},
   "outputs": [
    {
     "data": {
      "text/plain": [
       "3614"
      ]
     },
     "execution_count": 126,
     "metadata": {},
     "output_type": "execute_result"
    }
   ],
   "source": [
    "train_label.installation_id.nunique()"
   ]
  },
  {
   "cell_type": "code",
   "execution_count": 127,
   "metadata": {},
   "outputs": [
    {
     "data": {
      "text/plain": [
       "title\n",
       "Bird Measurer (Assessment)      2746\n",
       "Cart Balancer (Assessment)      4151\n",
       "Cauldron Filler (Assessment)    4055\n",
       "Chest Sorter (Assessment)       2981\n",
       "Mushroom Sorter (Assessment)    3757\n",
       "Name: installation_id, dtype: int64"
      ]
     },
     "execution_count": 127,
     "metadata": {},
     "output_type": "execute_result"
    }
   ],
   "source": [
    "# within the whole population, some assessments are just less taken\n",
    "train_label.groupby(\"title\").installation_id.count()"
   ]
  },
  {
   "cell_type": "code",
   "execution_count": null,
   "metadata": {},
   "outputs": [],
   "source": [
    "title_user = train_label.groupby(\"title\").installation_id.count()\n"
   ]
  },
  {
   "cell_type": "code",
   "execution_count": 131,
   "metadata": {},
   "outputs": [
    {
     "data": {
      "text/plain": [
       "<matplotlib.axes._subplots.AxesSubplot at 0x1359d3048>"
      ]
     },
     "execution_count": 131,
     "metadata": {},
     "output_type": "execute_result"
    },
    {
     "data": {
      "image/png": "[encoded data removed]",
      "text/plain": [
       "<Figure size 432x288 with 1 Axes>"
      ]
     },
     "metadata": {},
     "output_type": "display_data"
    }
   ],
   "source": [
    "title_user = train_label.groupby(\"title\").installation_id.count()\n",
    "title_user_pcts = title_user.groupby(level=0).apply(lambda x: 100 * x / float(ag.sum())).to_frame().reset_index()\n",
    "#plt.legend(title='Color', loc='center left', bbox_to_anchor=(1, 0.5))\n",
    "(sns.barplot(x =\"installation_id\" , y=\"title\", data=title_user_pcts, palette=\"pastel\"))\n",
    "plt.title(\"What is the overall distribution for assessment outcomes?\")"
   ]
  },
  {
   "cell_type": "code",
   "execution_count": 141,
   "metadata": {},
   "outputs": [
    {
     "data": {
      "text/plain": [
       "Text(0.5, 1.0, \"Which of the 'nailed it at first attempt' assessments demonstrated highest user participation rate?\")"
      ]
     },
     "execution_count": 141,
     "metadata": {},
     "output_type": "execute_result"
    },
    {
     "data": {
      "image/png": "[encoded data removed]",
      "text/plain": [
       "<Figure size 432x288 with 1 Axes>"
      ]
     },
     "metadata": {},
     "output_type": "display_data"
    }
   ],
   "source": [
    "c = train_label[train_label.accuracy_group == 3].groupby(\"title\").installation_id.count()\n",
    "pcts = c.groupby(level=0).apply(lambda x: 100 * x / float(ag.sum())).to_frame().reset_index()\n",
    "#plt.legend(title='Color', loc='center left', bbox_to_anchor=(1, 0.5))\n",
    "(sns.barplot(x =\"installation_id\" , y=\"title\", data=pcts, palette=\"pastel\"))\n",
    "plt.title(\"Which of the 'nailed it at first attempt' assessments demonstrated highest user participation rate?\")"
   ]
  },
  {
   "cell_type": "code",
   "execution_count": 143,
   "metadata": {},
   "outputs": [
    {
     "data": {
      "text/plain": [
       "Text(0.5, 1.0, \"Which of the 'never succeed' assessments demonstrated highest user participation rate?\")"
      ]
     },
     "execution_count": 143,
     "metadata": {},
     "output_type": "execute_result"
    },
    {
     "data": {
      "image/png": "[encoded data removed]",
      "text/plain": [
       "<Figure size 432x288 with 1 Axes>"
      ]
     },
     "metadata": {},
     "output_type": "display_data"
    }
   ],
   "source": [
    "c = train_label[train_label.accuracy_group == 0].groupby(\"title\").installation_id.count()\n",
    "pcts = c.groupby(level=0).apply(lambda x: 100 * x / float(ag.sum())).to_frame().reset_index()\n",
    "#plt.legend(title='Color', loc='center left', bbox_to_anchor=(1, 0.5))\n",
    "(sns.barplot(x =\"installation_id\" , y=\"title\", data=pcts, palette=\"muted\"))\n",
    "plt.title(\"Which of the 'never succeed' assessments demonstrated highest user participation rate?\")"
   ]
  },
  {
   "cell_type": "markdown",
   "metadata": {},
   "source": []
  },
  {
   "cell_type": "code",
   "execution_count": null,
   "metadata": {},
   "outputs": [],
   "source": []
  },
  {
   "cell_type": "code",
   "execution_count": null,
   "metadata": {},
   "outputs": [],
   "source": []
  },
  {
   "cell_type": "code",
   "execution_count": null,
   "metadata": {},
   "outputs": [],
   "source": []
  },
  {
   "cell_type": "code",
   "execution_count": null,
   "metadata": {},
   "outputs": [],
   "source": []
  },
  {
   "cell_type": "code",
   "execution_count": null,
   "metadata": {},
   "outputs": [],
   "source": []
  },
  {
   "cell_type": "code",
   "execution_count": null,
   "metadata": {},
   "outputs": [],
   "source": []
  },
  {
   "cell_type": "code",
   "execution_count": null,
   "metadata": {},
   "outputs": [],
   "source": []
  },
  {
   "cell_type": "code",
   "execution_count": null,
   "metadata": {},
   "outputs": [],
   "source": []
  },
  {
   "cell_type": "code",
   "execution_count": null,
   "metadata": {},
   "outputs": [],
   "source": []
  },
  {
   "cell_type": "code",
   "execution_count": null,
   "metadata": {},
   "outputs": [],
   "source": []
  },
  {
   "cell_type": "code",
   "execution_count": null,
   "metadata": {},
   "outputs": [],
   "source": []
  },
  {
   "cell_type": "code",
   "execution_count": null,
   "metadata": {},
   "outputs": [],
   "source": []
  },
  {
   "cell_type": "code",
   "execution_count": null,
   "metadata": {},
   "outputs": [],
   "source": []
  },
  {
   "cell_type": "code",
   "execution_count": null,
   "metadata": {},
   "outputs": [],
   "source": []
  },
  {
   "cell_type": "code",
   "execution_count": null,
   "metadata": {},
   "outputs": [],
   "source": []
  },
  {
   "cell_type": "code",
   "execution_count": null,
   "metadata": {},
   "outputs": [],
   "source": []
  },
  {
   "cell_type": "code",
   "execution_count": 2,
   "metadata": {},
   "outputs": [],
   "source": [
    "train = pd.read_csv(\"train.csv\")"
   ]
  },
  {
   "cell_type": "code",
   "execution_count": 3,
   "metadata": {},
   "outputs": [
    {
     "data": {
      "text/plain": [
       "(11341042, 11)"
      ]
     },
     "execution_count": 3,
     "metadata": {},
     "output_type": "execute_result"
    }
   ],
   "source": [
    "train.shape"
   ]
  },
  {
   "cell_type": "code",
   "execution_count": 4,
   "metadata": {},
   "outputs": [],
   "source": [
    "train_label = pd.read_csv(\"train_labels.csv\")"
   ]
  },
  {
   "cell_type": "code",
   "execution_count": 5,
   "metadata": {},
   "outputs": [
    {
     "data": {
      "text/html": [
       "<div>\n",
       "<style scoped>\n",
       "    .dataframe tbody tr th:only-of-type {\n",
       "        vertical-align: middle;\n",
       "    }\n",
       "\n",
       "    .dataframe tbody tr th {\n",
       "        vertical-align: top;\n",
       "    }\n",
       "\n",
       "    .dataframe thead th {\n",
       "        text-align: right;\n",
       "    }\n",
       "</style>\n",
       "<table border=\"1\" class=\"dataframe\">\n",
       "  <thead>\n",
       "    <tr style=\"text-align: right;\">\n",
       "      <th></th>\n",
       "      <th>event_id</th>\n",
       "      <th>game_session</th>\n",
       "      <th>timestamp</th>\n",
       "      <th>event_data</th>\n",
       "      <th>installation_id</th>\n",
       "      <th>event_count</th>\n",
       "      <th>event_code</th>\n",
       "      <th>game_time</th>\n",
       "      <th>title</th>\n",
       "      <th>type</th>\n",
       "      <th>world</th>\n",
       "    </tr>\n",
       "  </thead>\n",
       "  <tbody>\n",
       "    <tr>\n",
       "      <th>0</th>\n",
       "      <td>27253bdc</td>\n",
       "      <td>45bb1e1b6b50c07b</td>\n",
       "      <td>2019-09-06T17:53:46.937Z</td>\n",
       "      <td>{\"event_code\": 2000, \"event_count\": 1}</td>\n",
       "      <td>0001e90f</td>\n",
       "      <td>1</td>\n",
       "      <td>2000</td>\n",
       "      <td>0</td>\n",
       "      <td>Welcome to Lost Lagoon!</td>\n",
       "      <td>Clip</td>\n",
       "      <td>NONE</td>\n",
       "    </tr>\n",
       "  </tbody>\n",
       "</table>\n",
       "</div>"
      ],
      "text/plain": [
       "   event_id      game_session                 timestamp  \\\n",
       "0  27253bdc  45bb1e1b6b50c07b  2019-09-06T17:53:46.937Z   \n",
       "\n",
       "                               event_data installation_id  event_count  \\\n",
       "0  {\"event_code\": 2000, \"event_count\": 1}        0001e90f            1   \n",
       "\n",
       "   event_code  game_time                    title  type world  \n",
       "0        2000          0  Welcome to Lost Lagoon!  Clip  NONE  "
      ]
     },
     "execution_count": 5,
     "metadata": {},
     "output_type": "execute_result"
    }
   ],
   "source": [
    "train.head(1)"
   ]
  },
  {
   "cell_type": "code",
   "execution_count": 6,
   "metadata": {},
   "outputs": [
    {
     "data": {
      "text/plain": [
       "17000"
      ]
     },
     "execution_count": 6,
     "metadata": {},
     "output_type": "execute_result"
    }
   ],
   "source": [
    "# explore total users\n",
    "train.installation_id.nunique()"
   ]
  },
  {
   "cell_type": "code",
   "execution_count": 7,
   "metadata": {},
   "outputs": [
    {
     "name": "stdout",
     "output_type": "stream",
     "text": [
      "\n",
      "Total number of 'Worlds': 4\n",
      "Total number of 'Types': 4\n",
      "Total number of 'Titles' 44\n"
     ]
    }
   ],
   "source": [
    "# game content counts\n",
    "print(f\"\"\"\n",
    "Total number of 'Worlds': {train.world.nunique()}\n",
    "Total number of 'Types': {train.type.nunique()}\n",
    "Total number of 'Titles' {train.title.nunique()}\"\"\")"
   ]
  },
  {
   "cell_type": "code",
   "execution_count": 107,
   "metadata": {},
   "outputs": [
    {
     "name": "stdout",
     "output_type": "stream",
     "text": [
      "\n",
      "Total number of 'Worlds': ['NONE' 'MAGMAPEAK' 'TREETOPCITY' 'CRYSTALCAVES']\n",
      "Total number of 'Types': ['Clip' 'Activity' 'Game' 'Assessment']\n",
      "Total number of 'Titles' ['Welcome to Lost Lagoon!' 'Magma Peak - Level 1'\n",
      " 'Sandcastle Builder (Activity)' 'Scrub-A-Dub' 'Magma Peak - Level 2'\n",
      " 'Dino Drink' 'Tree Top City - Level 1' 'Ordering Spheres'\n",
      " 'Watering Hole (Activity)' 'Slop Problem' 'All Star Sorting'\n",
      " 'Costume Box' 'Fireworks (Activity)' '12 Monkeys'\n",
      " 'Tree Top City - Level 2' 'Flower Waterer (Activity)' \"Pirate's Tale\"\n",
      " 'Mushroom Sorter (Assessment)' 'Air Show' 'Treasure Map'\n",
      " 'Tree Top City - Level 3' 'Crystals Rule' 'Rulers'\n",
      " 'Bug Measurer (Activity)' 'Bird Measurer (Assessment)' 'Bubble Bath'\n",
      " 'Bottle Filler (Activity)' 'Dino Dive' 'Crystal Caves - Level 1'\n",
      " 'Chow Time' 'Cauldron Filler (Assessment)' 'Balancing Act'\n",
      " 'Crystal Caves - Level 2' 'Crystal Caves - Level 3'\n",
      " 'Chicken Balancer (Activity)' 'Lifting Heavy Things' 'Pan Balance'\n",
      " 'Happy Camel' 'Honey Cake' 'Cart Balancer (Assessment)'\n",
      " 'Heavy, Heavier, Heaviest' 'Egg Dropper (Activity)'\n",
      " 'Chest Sorter (Assessment)' 'Leaf Leader']\n"
     ]
    }
   ],
   "source": [
    "# game content \n",
    "print(f\"\"\"\n",
    "Total number of 'Worlds': {train.world.unique()}\n",
    "Total number of 'Types': {train.type.unique()}\n",
    "Total number of 'Titles' {train.title.unique()}\"\"\")"
   ]
  },
  {
   "cell_type": "code",
   "execution_count": 25,
   "metadata": {},
   "outputs": [
    {
     "data": {
      "text/html": [
       "<div>\n",
       "<style scoped>\n",
       "    .dataframe tbody tr th:only-of-type {\n",
       "        vertical-align: middle;\n",
       "    }\n",
       "\n",
       "    .dataframe tbody tr th {\n",
       "        vertical-align: top;\n",
       "    }\n",
       "\n",
       "    .dataframe thead th {\n",
       "        text-align: right;\n",
       "    }\n",
       "</style>\n",
       "<table border=\"1\" class=\"dataframe\">\n",
       "  <thead>\n",
       "    <tr style=\"text-align: right;\">\n",
       "      <th></th>\n",
       "      <th></th>\n",
       "      <th></th>\n",
       "      <th>title</th>\n",
       "    </tr>\n",
       "    <tr>\n",
       "      <th>world</th>\n",
       "      <th>type</th>\n",
       "      <th>title</th>\n",
       "      <th></th>\n",
       "    </tr>\n",
       "  </thead>\n",
       "  <tbody>\n",
       "    <tr>\n",
       "      <th rowspan=\"15\" valign=\"top\">CRYSTALCAVES</th>\n",
       "      <th rowspan=\"2\" valign=\"top\">Activity</th>\n",
       "      <th>Chicken Balancer (Activity)</th>\n",
       "      <td>443156</td>\n",
       "    </tr>\n",
       "    <tr>\n",
       "      <th>Egg Dropper (Activity)</th>\n",
       "      <td>248408</td>\n",
       "    </tr>\n",
       "    <tr>\n",
       "      <th rowspan=\"2\" valign=\"top\">Assessment</th>\n",
       "      <th>Chest Sorter (Assessment)</th>\n",
       "      <td>190318</td>\n",
       "    </tr>\n",
       "    <tr>\n",
       "      <th>Cart Balancer (Assessment)</th>\n",
       "      <td>163343</td>\n",
       "    </tr>\n",
       "    <tr>\n",
       "      <th rowspan=\"7\" valign=\"top\">Clip</th>\n",
       "      <th>Crystal Caves - Level 2</th>\n",
       "      <td>14342</td>\n",
       "    </tr>\n",
       "    <tr>\n",
       "      <th>Crystal Caves - Level 1</th>\n",
       "      <td>12505</td>\n",
       "    </tr>\n",
       "    <tr>\n",
       "      <th>Crystal Caves - Level 3</th>\n",
       "      <td>12482</td>\n",
       "    </tr>\n",
       "    <tr>\n",
       "      <th>Lifting Heavy Things</th>\n",
       "      <td>5759</td>\n",
       "    </tr>\n",
       "    <tr>\n",
       "      <th>Balancing Act</th>\n",
       "      <td>5522</td>\n",
       "    </tr>\n",
       "    <tr>\n",
       "      <th>Honey Cake</th>\n",
       "      <td>3882</td>\n",
       "    </tr>\n",
       "    <tr>\n",
       "      <th>Heavy, Heavier, Heaviest</th>\n",
       "      <td>3351</td>\n",
       "    </tr>\n",
       "    <tr>\n",
       "      <th rowspan=\"4\" valign=\"top\">Game</th>\n",
       "      <th>Chow Time</th>\n",
       "      <td>1150974</td>\n",
       "    </tr>\n",
       "    <tr>\n",
       "      <th>Pan Balance</th>\n",
       "      <td>384857</td>\n",
       "    </tr>\n",
       "    <tr>\n",
       "      <th>Happy Camel</th>\n",
       "      <td>311543</td>\n",
       "    </tr>\n",
       "    <tr>\n",
       "      <th>Leaf Leader</th>\n",
       "      <td>282104</td>\n",
       "    </tr>\n",
       "    <tr>\n",
       "      <th rowspan=\"11\" valign=\"top\">MAGMAPEAK</th>\n",
       "      <th rowspan=\"3\" valign=\"top\">Activity</th>\n",
       "      <th>Sandcastle Builder (Activity)</th>\n",
       "      <td>1034332</td>\n",
       "    </tr>\n",
       "    <tr>\n",
       "      <th>Bottle Filler (Activity)</th>\n",
       "      <td>1004068</td>\n",
       "    </tr>\n",
       "    <tr>\n",
       "      <th>Watering Hole (Activity)</th>\n",
       "      <td>369270</td>\n",
       "    </tr>\n",
       "    <tr>\n",
       "      <th>Assessment</th>\n",
       "      <th>Cauldron Filler (Assessment)</th>\n",
       "      <td>181925</td>\n",
       "    </tr>\n",
       "    <tr>\n",
       "      <th rowspan=\"3\" valign=\"top\">Clip</th>\n",
       "      <th>Magma Peak - Level 2</th>\n",
       "      <td>17115</td>\n",
       "    </tr>\n",
       "    <tr>\n",
       "      <th>Magma Peak - Level 1</th>\n",
       "      <td>13623</td>\n",
       "    </tr>\n",
       "    <tr>\n",
       "      <th>Slop Problem</th>\n",
       "      <td>6974</td>\n",
       "    </tr>\n",
       "    <tr>\n",
       "      <th rowspan=\"4\" valign=\"top\">Game</th>\n",
       "      <th>Scrub-A-Dub</th>\n",
       "      <td>1016837</td>\n",
       "    </tr>\n",
       "    <tr>\n",
       "      <th>Dino Drink</th>\n",
       "      <td>492916</td>\n",
       "    </tr>\n",
       "    <tr>\n",
       "      <th>Bubble Bath</th>\n",
       "      <td>458972</td>\n",
       "    </tr>\n",
       "    <tr>\n",
       "      <th>Dino Dive</th>\n",
       "      <td>427655</td>\n",
       "    </tr>\n",
       "    <tr>\n",
       "      <th>NONE</th>\n",
       "      <th>Clip</th>\n",
       "      <th>Welcome to Lost Lagoon!</th>\n",
       "      <td>23578</td>\n",
       "    </tr>\n",
       "    <tr>\n",
       "      <th rowspan=\"17\" valign=\"top\">TREETOPCITY</th>\n",
       "      <th rowspan=\"3\" valign=\"top\">Activity</th>\n",
       "      <th>Fireworks (Activity)</th>\n",
       "      <td>535030</td>\n",
       "    </tr>\n",
       "    <tr>\n",
       "      <th>Bug Measurer (Activity)</th>\n",
       "      <td>446430</td>\n",
       "    </tr>\n",
       "    <tr>\n",
       "      <th>Flower Waterer (Activity)</th>\n",
       "      <td>356034</td>\n",
       "    </tr>\n",
       "    <tr>\n",
       "      <th rowspan=\"2\" valign=\"top\">Assessment</th>\n",
       "      <th>Mushroom Sorter (Assessment)</th>\n",
       "      <td>199595</td>\n",
       "    </tr>\n",
       "    <tr>\n",
       "      <th>Bird Measurer (Assessment)</th>\n",
       "      <td>190164</td>\n",
       "    </tr>\n",
       "    <tr>\n",
       "      <th rowspan=\"9\" valign=\"top\">Clip</th>\n",
       "      <th>Tree Top City - Level 2</th>\n",
       "      <td>12685</td>\n",
       "    </tr>\n",
       "    <tr>\n",
       "      <th>Tree Top City - Level 1</th>\n",
       "      <td>12333</td>\n",
       "    </tr>\n",
       "    <tr>\n",
       "      <th>Tree Top City - Level 3</th>\n",
       "      <td>10516</td>\n",
       "    </tr>\n",
       "    <tr>\n",
       "      <th>Ordering Spheres</th>\n",
       "      <td>9758</td>\n",
       "    </tr>\n",
       "    <tr>\n",
       "      <th>Costume Box</th>\n",
       "      <td>4538</td>\n",
       "    </tr>\n",
       "    <tr>\n",
       "      <th>Pirate's Tale</th>\n",
       "      <td>4365</td>\n",
       "    </tr>\n",
       "    <tr>\n",
       "      <th>12 Monkeys</th>\n",
       "      <td>4124</td>\n",
       "    </tr>\n",
       "    <tr>\n",
       "      <th>Rulers</th>\n",
       "      <td>3372</td>\n",
       "    </tr>\n",
       "    <tr>\n",
       "      <th>Treasure Map</th>\n",
       "      <td>2852</td>\n",
       "    </tr>\n",
       "    <tr>\n",
       "      <th rowspan=\"3\" valign=\"top\">Game</th>\n",
       "      <th>All Star Sorting</th>\n",
       "      <td>509344</td>\n",
       "    </tr>\n",
       "    <tr>\n",
       "      <th>Crystals Rule</th>\n",
       "      <td>453852</td>\n",
       "    </tr>\n",
       "    <tr>\n",
       "      <th>Air Show</th>\n",
       "      <td>306239</td>\n",
       "    </tr>\n",
       "  </tbody>\n",
       "</table>\n",
       "</div>"
      ],
      "text/plain": [
       "                                                         title\n",
       "world        type       title                                 \n",
       "CRYSTALCAVES Activity   Chicken Balancer (Activity)     443156\n",
       "                        Egg Dropper (Activity)          248408\n",
       "             Assessment Chest Sorter (Assessment)       190318\n",
       "                        Cart Balancer (Assessment)      163343\n",
       "             Clip       Crystal Caves - Level 2          14342\n",
       "                        Crystal Caves - Level 1          12505\n",
       "                        Crystal Caves - Level 3          12482\n",
       "                        Lifting Heavy Things              5759\n",
       "                        Balancing Act                     5522\n",
       "                        Honey Cake                        3882\n",
       "                        Heavy, Heavier, Heaviest          3351\n",
       "             Game       Chow Time                      1150974\n",
       "                        Pan Balance                     384857\n",
       "                        Happy Camel                     311543\n",
       "                        Leaf Leader                     282104\n",
       "MAGMAPEAK    Activity   Sandcastle Builder (Activity)  1034332\n",
       "                        Bottle Filler (Activity)       1004068\n",
       "                        Watering Hole (Activity)        369270\n",
       "             Assessment Cauldron Filler (Assessment)    181925\n",
       "             Clip       Magma Peak - Level 2             17115\n",
       "                        Magma Peak - Level 1             13623\n",
       "                        Slop Problem                      6974\n",
       "             Game       Scrub-A-Dub                    1016837\n",
       "                        Dino Drink                      492916\n",
       "                        Bubble Bath                     458972\n",
       "                        Dino Dive                       427655\n",
       "NONE         Clip       Welcome to Lost Lagoon!          23578\n",
       "TREETOPCITY  Activity   Fireworks (Activity)            535030\n",
       "                        Bug Measurer (Activity)         446430\n",
       "                        Flower Waterer (Activity)       356034\n",
       "             Assessment Mushroom Sorter (Assessment)    199595\n",
       "                        Bird Measurer (Assessment)      190164\n",
       "             Clip       Tree Top City - Level 2          12685\n",
       "                        Tree Top City - Level 1          12333\n",
       "                        Tree Top City - Level 3          10516\n",
       "                        Ordering Spheres                  9758\n",
       "                        Costume Box                       4538\n",
       "                        Pirate's Tale                     4365\n",
       "                        12 Monkeys                        4124\n",
       "                        Rulers                            3372\n",
       "                        Treasure Map                      2852\n",
       "             Game       All Star Sorting                509344\n",
       "                        Crystals Rule                   453852\n",
       "                        Air Show                        306239"
      ]
     },
     "execution_count": 25,
     "metadata": {},
     "output_type": "execute_result"
    }
   ],
   "source": [
    "train.groupby([\"world\", \"type\"]).title.value_counts().to_frame()"
   ]
  },
  {
   "cell_type": "code",
   "execution_count": 26,
   "metadata": {},
   "outputs": [
    {
     "data": {
      "text/html": [
       "<div>\n",
       "<style scoped>\n",
       "    .dataframe tbody tr th:only-of-type {\n",
       "        vertical-align: middle;\n",
       "    }\n",
       "\n",
       "    .dataframe tbody tr th {\n",
       "        vertical-align: top;\n",
       "    }\n",
       "\n",
       "    .dataframe thead th {\n",
       "        text-align: right;\n",
       "    }\n",
       "</style>\n",
       "<table border=\"1\" class=\"dataframe\">\n",
       "  <thead>\n",
       "    <tr style=\"text-align: right;\">\n",
       "      <th></th>\n",
       "      <th></th>\n",
       "      <th>title</th>\n",
       "    </tr>\n",
       "    <tr>\n",
       "      <th>world</th>\n",
       "      <th>type</th>\n",
       "      <th></th>\n",
       "    </tr>\n",
       "  </thead>\n",
       "  <tbody>\n",
       "    <tr>\n",
       "      <th rowspan=\"4\" valign=\"top\">CRYSTALCAVES</th>\n",
       "      <th>Activity</th>\n",
       "      <td>2</td>\n",
       "    </tr>\n",
       "    <tr>\n",
       "      <th>Assessment</th>\n",
       "      <td>2</td>\n",
       "    </tr>\n",
       "    <tr>\n",
       "      <th>Clip</th>\n",
       "      <td>7</td>\n",
       "    </tr>\n",
       "    <tr>\n",
       "      <th>Game</th>\n",
       "      <td>4</td>\n",
       "    </tr>\n",
       "    <tr>\n",
       "      <th rowspan=\"4\" valign=\"top\">MAGMAPEAK</th>\n",
       "      <th>Activity</th>\n",
       "      <td>3</td>\n",
       "    </tr>\n",
       "    <tr>\n",
       "      <th>Assessment</th>\n",
       "      <td>1</td>\n",
       "    </tr>\n",
       "    <tr>\n",
       "      <th>Clip</th>\n",
       "      <td>3</td>\n",
       "    </tr>\n",
       "    <tr>\n",
       "      <th>Game</th>\n",
       "      <td>4</td>\n",
       "    </tr>\n",
       "    <tr>\n",
       "      <th>NONE</th>\n",
       "      <th>Clip</th>\n",
       "      <td>1</td>\n",
       "    </tr>\n",
       "    <tr>\n",
       "      <th rowspan=\"4\" valign=\"top\">TREETOPCITY</th>\n",
       "      <th>Activity</th>\n",
       "      <td>3</td>\n",
       "    </tr>\n",
       "    <tr>\n",
       "      <th>Assessment</th>\n",
       "      <td>2</td>\n",
       "    </tr>\n",
       "    <tr>\n",
       "      <th>Clip</th>\n",
       "      <td>9</td>\n",
       "    </tr>\n",
       "    <tr>\n",
       "      <th>Game</th>\n",
       "      <td>3</td>\n",
       "    </tr>\n",
       "  </tbody>\n",
       "</table>\n",
       "</div>"
      ],
      "text/plain": [
       "                         title\n",
       "world        type             \n",
       "CRYSTALCAVES Activity        2\n",
       "             Assessment      2\n",
       "             Clip            7\n",
       "             Game            4\n",
       "MAGMAPEAK    Activity        3\n",
       "             Assessment      1\n",
       "             Clip            3\n",
       "             Game            4\n",
       "NONE         Clip            1\n",
       "TREETOPCITY  Activity        3\n",
       "             Assessment      2\n",
       "             Clip            9\n",
       "             Game            3"
      ]
     },
     "execution_count": 26,
     "metadata": {},
     "output_type": "execute_result"
    }
   ],
   "source": [
    "train.groupby([\"world\", \"type\"]).title.nunique().to_frame()"
   ]
  },
  {
   "cell_type": "code",
   "execution_count": 28,
   "metadata": {},
   "outputs": [
    {
     "data": {
      "text/plain": [
       "array([2000, 3010, 3110, 4070, 4030, 4020, 4035, 4022, 4090, 4080])"
      ]
     },
     "execution_count": 28,
     "metadata": {},
     "output_type": "execute_result"
    }
   ],
   "source": [
    "train[(train.world == \"CRYSTALCAVES\") & (train.type == \"Activity\") & (train.title == \"Chicken Balancer (Activity)\")].event_code.unique()"
   ]
  },
  {
   "cell_type": "code",
   "execution_count": 29,
   "metadata": {},
   "outputs": [
    {
     "data": {
      "text/plain": [
       "array([2000, 3010, 2020, 3110, 4025, 4020, 4070, 4090, 4080])"
      ]
     },
     "execution_count": 29,
     "metadata": {},
     "output_type": "execute_result"
    }
   ],
   "source": [
    "train[(train.world == \"CRYSTALCAVES\") & (train.type == \"Activity\") & (train.title == \"Egg Dropper (Activity)\")].event_code.unique()"
   ]
  },
  {
   "cell_type": "code",
   "execution_count": 32,
   "metadata": {},
   "outputs": [
    {
     "data": {
      "text/plain": [
       "Index(['event_id', 'game_session', 'timestamp', 'event_data',\n",
       "       'installation_id', 'event_count', 'event_code', 'game_time', 'title',\n",
       "       'type', 'world'],\n",
       "      dtype='object')"
      ]
     },
     "execution_count": 32,
     "metadata": {},
     "output_type": "execute_result"
    }
   ],
   "source": [
    "train.columns"
   ]
  },
  {
   "cell_type": "code",
   "execution_count": 41,
   "metadata": {},
   "outputs": [
    {
     "data": {
      "text/html": [
       "<div>\n",
       "<style scoped>\n",
       "    .dataframe tbody tr th:only-of-type {\n",
       "        vertical-align: middle;\n",
       "    }\n",
       "\n",
       "    .dataframe tbody tr th {\n",
       "        vertical-align: top;\n",
       "    }\n",
       "\n",
       "    .dataframe thead th {\n",
       "        text-align: right;\n",
       "    }\n",
       "</style>\n",
       "<table border=\"1\" class=\"dataframe\">\n",
       "  <thead>\n",
       "    <tr style=\"text-align: right;\">\n",
       "      <th></th>\n",
       "      <th>world</th>\n",
       "    </tr>\n",
       "    <tr>\n",
       "      <th>event_code</th>\n",
       "      <th></th>\n",
       "    </tr>\n",
       "  </thead>\n",
       "  <tbody>\n",
       "    <tr>\n",
       "      <th>2000</th>\n",
       "      <td>[NONE, MAGMAPEAK, TREETOPCITY, CRYSTALCAVES]</td>\n",
       "    </tr>\n",
       "    <tr>\n",
       "      <th>2010</th>\n",
       "      <td>[TREETOPCITY, CRYSTALCAVES, MAGMAPEAK]</td>\n",
       "    </tr>\n",
       "    <tr>\n",
       "      <th>2020</th>\n",
       "      <td>[MAGMAPEAK, TREETOPCITY, CRYSTALCAVES]</td>\n",
       "    </tr>\n",
       "    <tr>\n",
       "      <th>2025</th>\n",
       "      <td>[TREETOPCITY, MAGMAPEAK]</td>\n",
       "    </tr>\n",
       "    <tr>\n",
       "      <th>2030</th>\n",
       "      <td>[MAGMAPEAK, TREETOPCITY, CRYSTALCAVES]</td>\n",
       "    </tr>\n",
       "    <tr>\n",
       "      <th>2035</th>\n",
       "      <td>[TREETOPCITY, MAGMAPEAK]</td>\n",
       "    </tr>\n",
       "    <tr>\n",
       "      <th>2040</th>\n",
       "      <td>[MAGMAPEAK]</td>\n",
       "    </tr>\n",
       "    <tr>\n",
       "      <th>2050</th>\n",
       "      <td>[MAGMAPEAK]</td>\n",
       "    </tr>\n",
       "    <tr>\n",
       "      <th>2060</th>\n",
       "      <td>[MAGMAPEAK, TREETOPCITY, CRYSTALCAVES]</td>\n",
       "    </tr>\n",
       "    <tr>\n",
       "      <th>2070</th>\n",
       "      <td>[MAGMAPEAK, TREETOPCITY, CRYSTALCAVES]</td>\n",
       "    </tr>\n",
       "    <tr>\n",
       "      <th>2075</th>\n",
       "      <td>[TREETOPCITY, MAGMAPEAK, CRYSTALCAVES]</td>\n",
       "    </tr>\n",
       "    <tr>\n",
       "      <th>2080</th>\n",
       "      <td>[MAGMAPEAK, CRYSTALCAVES]</td>\n",
       "    </tr>\n",
       "    <tr>\n",
       "      <th>2081</th>\n",
       "      <td>[MAGMAPEAK, CRYSTALCAVES]</td>\n",
       "    </tr>\n",
       "    <tr>\n",
       "      <th>2083</th>\n",
       "      <td>[MAGMAPEAK, CRYSTALCAVES]</td>\n",
       "    </tr>\n",
       "    <tr>\n",
       "      <th>3010</th>\n",
       "      <td>[MAGMAPEAK, TREETOPCITY, CRYSTALCAVES]</td>\n",
       "    </tr>\n",
       "    <tr>\n",
       "      <th>3020</th>\n",
       "      <td>[MAGMAPEAK, TREETOPCITY, CRYSTALCAVES]</td>\n",
       "    </tr>\n",
       "    <tr>\n",
       "      <th>3021</th>\n",
       "      <td>[MAGMAPEAK, TREETOPCITY, CRYSTALCAVES]</td>\n",
       "    </tr>\n",
       "    <tr>\n",
       "      <th>3110</th>\n",
       "      <td>[MAGMAPEAK, TREETOPCITY, CRYSTALCAVES]</td>\n",
       "    </tr>\n",
       "    <tr>\n",
       "      <th>3120</th>\n",
       "      <td>[MAGMAPEAK, TREETOPCITY, CRYSTALCAVES]</td>\n",
       "    </tr>\n",
       "    <tr>\n",
       "      <th>3121</th>\n",
       "      <td>[MAGMAPEAK, TREETOPCITY, CRYSTALCAVES]</td>\n",
       "    </tr>\n",
       "    <tr>\n",
       "      <th>4010</th>\n",
       "      <td>[MAGMAPEAK, TREETOPCITY, CRYSTALCAVES]</td>\n",
       "    </tr>\n",
       "    <tr>\n",
       "      <th>4020</th>\n",
       "      <td>[MAGMAPEAK, TREETOPCITY, CRYSTALCAVES]</td>\n",
       "    </tr>\n",
       "    <tr>\n",
       "      <th>4021</th>\n",
       "      <td>[MAGMAPEAK]</td>\n",
       "    </tr>\n",
       "    <tr>\n",
       "      <th>4022</th>\n",
       "      <td>[TREETOPCITY, CRYSTALCAVES]</td>\n",
       "    </tr>\n",
       "    <tr>\n",
       "      <th>4025</th>\n",
       "      <td>[MAGMAPEAK, TREETOPCITY, CRYSTALCAVES]</td>\n",
       "    </tr>\n",
       "    <tr>\n",
       "      <th>4030</th>\n",
       "      <td>[MAGMAPEAK, TREETOPCITY, CRYSTALCAVES]</td>\n",
       "    </tr>\n",
       "    <tr>\n",
       "      <th>4031</th>\n",
       "      <td>[MAGMAPEAK]</td>\n",
       "    </tr>\n",
       "    <tr>\n",
       "      <th>4035</th>\n",
       "      <td>[MAGMAPEAK, TREETOPCITY, CRYSTALCAVES]</td>\n",
       "    </tr>\n",
       "    <tr>\n",
       "      <th>4040</th>\n",
       "      <td>[TREETOPCITY, MAGMAPEAK, CRYSTALCAVES]</td>\n",
       "    </tr>\n",
       "    <tr>\n",
       "      <th>4045</th>\n",
       "      <td>[MAGMAPEAK, CRYSTALCAVES]</td>\n",
       "    </tr>\n",
       "    <tr>\n",
       "      <th>4050</th>\n",
       "      <td>[TREETOPCITY]</td>\n",
       "    </tr>\n",
       "    <tr>\n",
       "      <th>4070</th>\n",
       "      <td>[MAGMAPEAK, TREETOPCITY, CRYSTALCAVES]</td>\n",
       "    </tr>\n",
       "    <tr>\n",
       "      <th>4080</th>\n",
       "      <td>[MAGMAPEAK, CRYSTALCAVES, TREETOPCITY]</td>\n",
       "    </tr>\n",
       "    <tr>\n",
       "      <th>4090</th>\n",
       "      <td>[MAGMAPEAK, TREETOPCITY, CRYSTALCAVES]</td>\n",
       "    </tr>\n",
       "    <tr>\n",
       "      <th>4095</th>\n",
       "      <td>[MAGMAPEAK, CRYSTALCAVES, TREETOPCITY]</td>\n",
       "    </tr>\n",
       "    <tr>\n",
       "      <th>4100</th>\n",
       "      <td>[TREETOPCITY, MAGMAPEAK, CRYSTALCAVES]</td>\n",
       "    </tr>\n",
       "    <tr>\n",
       "      <th>4110</th>\n",
       "      <td>[TREETOPCITY]</td>\n",
       "    </tr>\n",
       "    <tr>\n",
       "      <th>4220</th>\n",
       "      <td>[MAGMAPEAK]</td>\n",
       "    </tr>\n",
       "    <tr>\n",
       "      <th>4230</th>\n",
       "      <td>[MAGMAPEAK]</td>\n",
       "    </tr>\n",
       "    <tr>\n",
       "      <th>4235</th>\n",
       "      <td>[MAGMAPEAK]</td>\n",
       "    </tr>\n",
       "    <tr>\n",
       "      <th>5000</th>\n",
       "      <td>[MAGMAPEAK]</td>\n",
       "    </tr>\n",
       "    <tr>\n",
       "      <th>5010</th>\n",
       "      <td>[MAGMAPEAK]</td>\n",
       "    </tr>\n",
       "  </tbody>\n",
       "</table>\n",
       "</div>"
      ],
      "text/plain": [
       "                                                   world\n",
       "event_code                                              \n",
       "2000        [NONE, MAGMAPEAK, TREETOPCITY, CRYSTALCAVES]\n",
       "2010              [TREETOPCITY, CRYSTALCAVES, MAGMAPEAK]\n",
       "2020              [MAGMAPEAK, TREETOPCITY, CRYSTALCAVES]\n",
       "2025                            [TREETOPCITY, MAGMAPEAK]\n",
       "2030              [MAGMAPEAK, TREETOPCITY, CRYSTALCAVES]\n",
       "2035                            [TREETOPCITY, MAGMAPEAK]\n",
       "2040                                         [MAGMAPEAK]\n",
       "2050                                         [MAGMAPEAK]\n",
       "2060              [MAGMAPEAK, TREETOPCITY, CRYSTALCAVES]\n",
       "2070              [MAGMAPEAK, TREETOPCITY, CRYSTALCAVES]\n",
       "2075              [TREETOPCITY, MAGMAPEAK, CRYSTALCAVES]\n",
       "2080                           [MAGMAPEAK, CRYSTALCAVES]\n",
       "2081                           [MAGMAPEAK, CRYSTALCAVES]\n",
       "2083                           [MAGMAPEAK, CRYSTALCAVES]\n",
       "3010              [MAGMAPEAK, TREETOPCITY, CRYSTALCAVES]\n",
       "3020              [MAGMAPEAK, TREETOPCITY, CRYSTALCAVES]\n",
       "3021              [MAGMAPEAK, TREETOPCITY, CRYSTALCAVES]\n",
       "3110              [MAGMAPEAK, TREETOPCITY, CRYSTALCAVES]\n",
       "3120              [MAGMAPEAK, TREETOPCITY, CRYSTALCAVES]\n",
       "3121              [MAGMAPEAK, TREETOPCITY, CRYSTALCAVES]\n",
       "4010              [MAGMAPEAK, TREETOPCITY, CRYSTALCAVES]\n",
       "4020              [MAGMAPEAK, TREETOPCITY, CRYSTALCAVES]\n",
       "4021                                         [MAGMAPEAK]\n",
       "4022                         [TREETOPCITY, CRYSTALCAVES]\n",
       "4025              [MAGMAPEAK, TREETOPCITY, CRYSTALCAVES]\n",
       "4030              [MAGMAPEAK, TREETOPCITY, CRYSTALCAVES]\n",
       "4031                                         [MAGMAPEAK]\n",
       "4035              [MAGMAPEAK, TREETOPCITY, CRYSTALCAVES]\n",
       "4040              [TREETOPCITY, MAGMAPEAK, CRYSTALCAVES]\n",
       "4045                           [MAGMAPEAK, CRYSTALCAVES]\n",
       "4050                                       [TREETOPCITY]\n",
       "4070              [MAGMAPEAK, TREETOPCITY, CRYSTALCAVES]\n",
       "4080              [MAGMAPEAK, CRYSTALCAVES, TREETOPCITY]\n",
       "4090              [MAGMAPEAK, TREETOPCITY, CRYSTALCAVES]\n",
       "4095              [MAGMAPEAK, CRYSTALCAVES, TREETOPCITY]\n",
       "4100              [TREETOPCITY, MAGMAPEAK, CRYSTALCAVES]\n",
       "4110                                       [TREETOPCITY]\n",
       "4220                                         [MAGMAPEAK]\n",
       "4230                                         [MAGMAPEAK]\n",
       "4235                                         [MAGMAPEAK]\n",
       "5000                                         [MAGMAPEAK]\n",
       "5010                                         [MAGMAPEAK]"
      ]
     },
     "execution_count": 41,
     "metadata": {},
     "output_type": "execute_result"
    }
   ],
   "source": [
    "train.groupby(\"event_code\").world.unique().to_frame()"
   ]
  },
  {
   "cell_type": "code",
   "execution_count": 40,
   "metadata": {},
   "outputs": [
    {
     "data": {
      "text/html": [
       "<div>\n",
       "<style scoped>\n",
       "    .dataframe tbody tr th:only-of-type {\n",
       "        vertical-align: middle;\n",
       "    }\n",
       "\n",
       "    .dataframe tbody tr th {\n",
       "        vertical-align: top;\n",
       "    }\n",
       "\n",
       "    .dataframe thead th {\n",
       "        text-align: right;\n",
       "    }\n",
       "</style>\n",
       "<table border=\"1\" class=\"dataframe\">\n",
       "  <thead>\n",
       "    <tr style=\"text-align: right;\">\n",
       "      <th></th>\n",
       "      <th>type</th>\n",
       "    </tr>\n",
       "    <tr>\n",
       "      <th>event_code</th>\n",
       "      <th></th>\n",
       "    </tr>\n",
       "  </thead>\n",
       "  <tbody>\n",
       "    <tr>\n",
       "      <th>2000</th>\n",
       "      <td>[Clip, Activity, Game, Assessment]</td>\n",
       "    </tr>\n",
       "    <tr>\n",
       "      <th>2010</th>\n",
       "      <td>[Assessment, Game, Activity]</td>\n",
       "    </tr>\n",
       "    <tr>\n",
       "      <th>2020</th>\n",
       "      <td>[Game, Assessment, Activity]</td>\n",
       "    </tr>\n",
       "    <tr>\n",
       "      <th>2025</th>\n",
       "      <td>[Game, Assessment]</td>\n",
       "    </tr>\n",
       "    <tr>\n",
       "      <th>2030</th>\n",
       "      <td>[Game, Assessment, Activity]</td>\n",
       "    </tr>\n",
       "    <tr>\n",
       "      <th>2035</th>\n",
       "      <td>[Assessment, Game]</td>\n",
       "    </tr>\n",
       "    <tr>\n",
       "      <th>2040</th>\n",
       "      <td>[Game]</td>\n",
       "    </tr>\n",
       "    <tr>\n",
       "      <th>2050</th>\n",
       "      <td>[Game]</td>\n",
       "    </tr>\n",
       "    <tr>\n",
       "      <th>2060</th>\n",
       "      <td>[Game]</td>\n",
       "    </tr>\n",
       "    <tr>\n",
       "      <th>2070</th>\n",
       "      <td>[Game]</td>\n",
       "    </tr>\n",
       "    <tr>\n",
       "      <th>2075</th>\n",
       "      <td>[Game]</td>\n",
       "    </tr>\n",
       "    <tr>\n",
       "      <th>2080</th>\n",
       "      <td>[Game]</td>\n",
       "    </tr>\n",
       "    <tr>\n",
       "      <th>2081</th>\n",
       "      <td>[Game]</td>\n",
       "    </tr>\n",
       "    <tr>\n",
       "      <th>2083</th>\n",
       "      <td>[Game]</td>\n",
       "    </tr>\n",
       "    <tr>\n",
       "      <th>3010</th>\n",
       "      <td>[Activity, Game, Assessment]</td>\n",
       "    </tr>\n",
       "    <tr>\n",
       "      <th>3020</th>\n",
       "      <td>[Game, Assessment]</td>\n",
       "    </tr>\n",
       "    <tr>\n",
       "      <th>3021</th>\n",
       "      <td>[Game, Assessment]</td>\n",
       "    </tr>\n",
       "    <tr>\n",
       "      <th>3110</th>\n",
       "      <td>[Activity, Game, Assessment]</td>\n",
       "    </tr>\n",
       "    <tr>\n",
       "      <th>3120</th>\n",
       "      <td>[Game, Assessment]</td>\n",
       "    </tr>\n",
       "    <tr>\n",
       "      <th>3121</th>\n",
       "      <td>[Game, Assessment]</td>\n",
       "    </tr>\n",
       "    <tr>\n",
       "      <th>4010</th>\n",
       "      <td>[Game]</td>\n",
       "    </tr>\n",
       "    <tr>\n",
       "      <th>4020</th>\n",
       "      <td>[Activity, Game, Assessment]</td>\n",
       "    </tr>\n",
       "    <tr>\n",
       "      <th>4021</th>\n",
       "      <td>[Activity]</td>\n",
       "    </tr>\n",
       "    <tr>\n",
       "      <th>4022</th>\n",
       "      <td>[Activity]</td>\n",
       "    </tr>\n",
       "    <tr>\n",
       "      <th>4025</th>\n",
       "      <td>[Activity, Assessment, Game]</td>\n",
       "    </tr>\n",
       "    <tr>\n",
       "      <th>4030</th>\n",
       "      <td>[Activity, Game, Assessment]</td>\n",
       "    </tr>\n",
       "    <tr>\n",
       "      <th>4031</th>\n",
       "      <td>[Game]</td>\n",
       "    </tr>\n",
       "    <tr>\n",
       "      <th>4035</th>\n",
       "      <td>[Activity, Game, Assessment]</td>\n",
       "    </tr>\n",
       "    <tr>\n",
       "      <th>4040</th>\n",
       "      <td>[Assessment, Game]</td>\n",
       "    </tr>\n",
       "    <tr>\n",
       "      <th>4045</th>\n",
       "      <td>[Game]</td>\n",
       "    </tr>\n",
       "    <tr>\n",
       "      <th>4050</th>\n",
       "      <td>[Game]</td>\n",
       "    </tr>\n",
       "    <tr>\n",
       "      <th>4070</th>\n",
       "      <td>[Activity, Game, Assessment]</td>\n",
       "    </tr>\n",
       "    <tr>\n",
       "      <th>4080</th>\n",
       "      <td>[Activity, Game, Assessment]</td>\n",
       "    </tr>\n",
       "    <tr>\n",
       "      <th>4090</th>\n",
       "      <td>[Activity, Game, Assessment]</td>\n",
       "    </tr>\n",
       "    <tr>\n",
       "      <th>4095</th>\n",
       "      <td>[Game]</td>\n",
       "    </tr>\n",
       "    <tr>\n",
       "      <th>4100</th>\n",
       "      <td>[Assessment, Game]</td>\n",
       "    </tr>\n",
       "    <tr>\n",
       "      <th>4110</th>\n",
       "      <td>[Game, Assessment]</td>\n",
       "    </tr>\n",
       "    <tr>\n",
       "      <th>4220</th>\n",
       "      <td>[Game]</td>\n",
       "    </tr>\n",
       "    <tr>\n",
       "      <th>4230</th>\n",
       "      <td>[Game]</td>\n",
       "    </tr>\n",
       "    <tr>\n",
       "      <th>4235</th>\n",
       "      <td>[Game]</td>\n",
       "    </tr>\n",
       "    <tr>\n",
       "      <th>5000</th>\n",
       "      <td>[Activity]</td>\n",
       "    </tr>\n",
       "    <tr>\n",
       "      <th>5010</th>\n",
       "      <td>[Activity]</td>\n",
       "    </tr>\n",
       "  </tbody>\n",
       "</table>\n",
       "</div>"
      ],
      "text/plain": [
       "                                          type\n",
       "event_code                                    \n",
       "2000        [Clip, Activity, Game, Assessment]\n",
       "2010              [Assessment, Game, Activity]\n",
       "2020              [Game, Assessment, Activity]\n",
       "2025                        [Game, Assessment]\n",
       "2030              [Game, Assessment, Activity]\n",
       "2035                        [Assessment, Game]\n",
       "2040                                    [Game]\n",
       "2050                                    [Game]\n",
       "2060                                    [Game]\n",
       "2070                                    [Game]\n",
       "2075                                    [Game]\n",
       "2080                                    [Game]\n",
       "2081                                    [Game]\n",
       "2083                                    [Game]\n",
       "3010              [Activity, Game, Assessment]\n",
       "3020                        [Game, Assessment]\n",
       "3021                        [Game, Assessment]\n",
       "3110              [Activity, Game, Assessment]\n",
       "3120                        [Game, Assessment]\n",
       "3121                        [Game, Assessment]\n",
       "4010                                    [Game]\n",
       "4020              [Activity, Game, Assessment]\n",
       "4021                                [Activity]\n",
       "4022                                [Activity]\n",
       "4025              [Activity, Assessment, Game]\n",
       "4030              [Activity, Game, Assessment]\n",
       "4031                                    [Game]\n",
       "4035              [Activity, Game, Assessment]\n",
       "4040                        [Assessment, Game]\n",
       "4045                                    [Game]\n",
       "4050                                    [Game]\n",
       "4070              [Activity, Game, Assessment]\n",
       "4080              [Activity, Game, Assessment]\n",
       "4090              [Activity, Game, Assessment]\n",
       "4095                                    [Game]\n",
       "4100                        [Assessment, Game]\n",
       "4110                        [Game, Assessment]\n",
       "4220                                    [Game]\n",
       "4230                                    [Game]\n",
       "4235                                    [Game]\n",
       "5000                                [Activity]\n",
       "5010                                [Activity]"
      ]
     },
     "execution_count": 40,
     "metadata": {},
     "output_type": "execute_result"
    }
   ],
   "source": [
    "train.groupby(\"event_code\").type.unique().to_frame()"
   ]
  },
  {
   "cell_type": "code",
   "execution_count": 42,
   "metadata": {},
   "outputs": [
    {
     "data": {
      "text/html": [
       "<div>\n",
       "<style scoped>\n",
       "    .dataframe tbody tr th:only-of-type {\n",
       "        vertical-align: middle;\n",
       "    }\n",
       "\n",
       "    .dataframe tbody tr th {\n",
       "        vertical-align: top;\n",
       "    }\n",
       "\n",
       "    .dataframe thead th {\n",
       "        text-align: right;\n",
       "    }\n",
       "</style>\n",
       "<table border=\"1\" class=\"dataframe\">\n",
       "  <thead>\n",
       "    <tr style=\"text-align: right;\">\n",
       "      <th></th>\n",
       "      <th>title</th>\n",
       "    </tr>\n",
       "    <tr>\n",
       "      <th>event_code</th>\n",
       "      <th></th>\n",
       "    </tr>\n",
       "  </thead>\n",
       "  <tbody>\n",
       "    <tr>\n",
       "      <th>2000</th>\n",
       "      <td>[Welcome to Lost Lagoon!, Magma Peak - Level 1...</td>\n",
       "    </tr>\n",
       "    <tr>\n",
       "      <th>2010</th>\n",
       "      <td>[Mushroom Sorter (Assessment), Bird Measurer (...</td>\n",
       "    </tr>\n",
       "    <tr>\n",
       "      <th>2020</th>\n",
       "      <td>[Scrub-A-Dub, Dino Drink, All Star Sorting, Mu...</td>\n",
       "    </tr>\n",
       "    <tr>\n",
       "      <th>2025</th>\n",
       "      <td>[All Star Sorting, Mushroom Sorter (Assessment...</td>\n",
       "    </tr>\n",
       "    <tr>\n",
       "      <th>2030</th>\n",
       "      <td>[Scrub-A-Dub, Dino Drink, All Star Sorting, Mu...</td>\n",
       "    </tr>\n",
       "    <tr>\n",
       "      <th>2035</th>\n",
       "      <td>[Mushroom Sorter (Assessment), Bubble Bath]</td>\n",
       "    </tr>\n",
       "    <tr>\n",
       "      <th>2040</th>\n",
       "      <td>[Scrub-A-Dub]</td>\n",
       "    </tr>\n",
       "    <tr>\n",
       "      <th>2050</th>\n",
       "      <td>[Scrub-A-Dub]</td>\n",
       "    </tr>\n",
       "    <tr>\n",
       "      <th>2060</th>\n",
       "      <td>[Dino Drink, Air Show, Dino Dive, Leaf Leader]</td>\n",
       "    </tr>\n",
       "    <tr>\n",
       "      <th>2070</th>\n",
       "      <td>[Dino Drink, Air Show, Dino Dive, Leaf Leader]</td>\n",
       "    </tr>\n",
       "    <tr>\n",
       "      <th>2075</th>\n",
       "      <td>[Air Show, Dino Drink, Leaf Leader]</td>\n",
       "    </tr>\n",
       "    <tr>\n",
       "      <th>2080</th>\n",
       "      <td>[Scrub-A-Dub, Bubble Bath, Happy Camel]</td>\n",
       "    </tr>\n",
       "    <tr>\n",
       "      <th>2081</th>\n",
       "      <td>[Scrub-A-Dub, Happy Camel]</td>\n",
       "    </tr>\n",
       "    <tr>\n",
       "      <th>2083</th>\n",
       "      <td>[Scrub-A-Dub, Bubble Bath, Happy Camel]</td>\n",
       "    </tr>\n",
       "    <tr>\n",
       "      <th>3010</th>\n",
       "      <td>[Sandcastle Builder (Activity), Scrub-A-Dub, D...</td>\n",
       "    </tr>\n",
       "    <tr>\n",
       "      <th>3020</th>\n",
       "      <td>[Scrub-A-Dub, Dino Drink, All Star Sorting, Ai...</td>\n",
       "    </tr>\n",
       "    <tr>\n",
       "      <th>3021</th>\n",
       "      <td>[Scrub-A-Dub, Dino Drink, All Star Sorting, Mu...</td>\n",
       "    </tr>\n",
       "    <tr>\n",
       "      <th>3110</th>\n",
       "      <td>[Sandcastle Builder (Activity), Scrub-A-Dub, D...</td>\n",
       "    </tr>\n",
       "    <tr>\n",
       "      <th>3120</th>\n",
       "      <td>[Scrub-A-Dub, Dino Drink, All Star Sorting, Ai...</td>\n",
       "    </tr>\n",
       "    <tr>\n",
       "      <th>3121</th>\n",
       "      <td>[Scrub-A-Dub, Dino Drink, All Star Sorting, Mu...</td>\n",
       "    </tr>\n",
       "    <tr>\n",
       "      <th>4010</th>\n",
       "      <td>[Scrub-A-Dub, Dino Drink, All Star Sorting, Ai...</td>\n",
       "    </tr>\n",
       "    <tr>\n",
       "      <th>4020</th>\n",
       "      <td>[Sandcastle Builder (Activity), Scrub-A-Dub, D...</td>\n",
       "    </tr>\n",
       "    <tr>\n",
       "      <th>4021</th>\n",
       "      <td>[Sandcastle Builder (Activity), Watering Hole ...</td>\n",
       "    </tr>\n",
       "    <tr>\n",
       "      <th>4022</th>\n",
       "      <td>[Flower Waterer (Activity), Chicken Balancer (...</td>\n",
       "    </tr>\n",
       "    <tr>\n",
       "      <th>4025</th>\n",
       "      <td>[Watering Hole (Activity), Flower Waterer (Act...</td>\n",
       "    </tr>\n",
       "    <tr>\n",
       "      <th>4030</th>\n",
       "      <td>[Sandcastle Builder (Activity), Dino Drink, Al...</td>\n",
       "    </tr>\n",
       "    <tr>\n",
       "      <th>4031</th>\n",
       "      <td>[Dino Drink]</td>\n",
       "    </tr>\n",
       "    <tr>\n",
       "      <th>4035</th>\n",
       "      <td>[Sandcastle Builder (Activity), All Star Sorti...</td>\n",
       "    </tr>\n",
       "    <tr>\n",
       "      <th>4040</th>\n",
       "      <td>[Mushroom Sorter (Assessment), Bubble Bath, Bi...</td>\n",
       "    </tr>\n",
       "    <tr>\n",
       "      <th>4045</th>\n",
       "      <td>[Bubble Bath, Happy Camel]</td>\n",
       "    </tr>\n",
       "    <tr>\n",
       "      <th>4050</th>\n",
       "      <td>[Crystals Rule]</td>\n",
       "    </tr>\n",
       "    <tr>\n",
       "      <th>4070</th>\n",
       "      <td>[Sandcastle Builder (Activity), Scrub-A-Dub, D...</td>\n",
       "    </tr>\n",
       "    <tr>\n",
       "      <th>4080</th>\n",
       "      <td>[Bottle Filler (Activity), Chow Time, Firework...</td>\n",
       "    </tr>\n",
       "    <tr>\n",
       "      <th>4090</th>\n",
       "      <td>[Sandcastle Builder (Activity), Watering Hole ...</td>\n",
       "    </tr>\n",
       "    <tr>\n",
       "      <th>4095</th>\n",
       "      <td>[Bubble Bath, Chow Time, Happy Camel, All Star...</td>\n",
       "    </tr>\n",
       "    <tr>\n",
       "      <th>4100</th>\n",
       "      <td>[Mushroom Sorter (Assessment), Air Show, Bird ...</td>\n",
       "    </tr>\n",
       "    <tr>\n",
       "      <th>4110</th>\n",
       "      <td>[Air Show, Bird Measurer (Assessment)]</td>\n",
       "    </tr>\n",
       "    <tr>\n",
       "      <th>4220</th>\n",
       "      <td>[Bubble Bath]</td>\n",
       "    </tr>\n",
       "    <tr>\n",
       "      <th>4230</th>\n",
       "      <td>[Bubble Bath]</td>\n",
       "    </tr>\n",
       "    <tr>\n",
       "      <th>4235</th>\n",
       "      <td>[Bubble Bath]</td>\n",
       "    </tr>\n",
       "    <tr>\n",
       "      <th>5000</th>\n",
       "      <td>[Watering Hole (Activity)]</td>\n",
       "    </tr>\n",
       "    <tr>\n",
       "      <th>5010</th>\n",
       "      <td>[Watering Hole (Activity)]</td>\n",
       "    </tr>\n",
       "  </tbody>\n",
       "</table>\n",
       "</div>"
      ],
      "text/plain": [
       "                                                        title\n",
       "event_code                                                   \n",
       "2000        [Welcome to Lost Lagoon!, Magma Peak - Level 1...\n",
       "2010        [Mushroom Sorter (Assessment), Bird Measurer (...\n",
       "2020        [Scrub-A-Dub, Dino Drink, All Star Sorting, Mu...\n",
       "2025        [All Star Sorting, Mushroom Sorter (Assessment...\n",
       "2030        [Scrub-A-Dub, Dino Drink, All Star Sorting, Mu...\n",
       "2035              [Mushroom Sorter (Assessment), Bubble Bath]\n",
       "2040                                            [Scrub-A-Dub]\n",
       "2050                                            [Scrub-A-Dub]\n",
       "2060           [Dino Drink, Air Show, Dino Dive, Leaf Leader]\n",
       "2070           [Dino Drink, Air Show, Dino Dive, Leaf Leader]\n",
       "2075                      [Air Show, Dino Drink, Leaf Leader]\n",
       "2080                  [Scrub-A-Dub, Bubble Bath, Happy Camel]\n",
       "2081                               [Scrub-A-Dub, Happy Camel]\n",
       "2083                  [Scrub-A-Dub, Bubble Bath, Happy Camel]\n",
       "3010        [Sandcastle Builder (Activity), Scrub-A-Dub, D...\n",
       "3020        [Scrub-A-Dub, Dino Drink, All Star Sorting, Ai...\n",
       "3021        [Scrub-A-Dub, Dino Drink, All Star Sorting, Mu...\n",
       "3110        [Sandcastle Builder (Activity), Scrub-A-Dub, D...\n",
       "3120        [Scrub-A-Dub, Dino Drink, All Star Sorting, Ai...\n",
       "3121        [Scrub-A-Dub, Dino Drink, All Star Sorting, Mu...\n",
       "4010        [Scrub-A-Dub, Dino Drink, All Star Sorting, Ai...\n",
       "4020        [Sandcastle Builder (Activity), Scrub-A-Dub, D...\n",
       "4021        [Sandcastle Builder (Activity), Watering Hole ...\n",
       "4022        [Flower Waterer (Activity), Chicken Balancer (...\n",
       "4025        [Watering Hole (Activity), Flower Waterer (Act...\n",
       "4030        [Sandcastle Builder (Activity), Dino Drink, Al...\n",
       "4031                                             [Dino Drink]\n",
       "4035        [Sandcastle Builder (Activity), All Star Sorti...\n",
       "4040        [Mushroom Sorter (Assessment), Bubble Bath, Bi...\n",
       "4045                               [Bubble Bath, Happy Camel]\n",
       "4050                                          [Crystals Rule]\n",
       "4070        [Sandcastle Builder (Activity), Scrub-A-Dub, D...\n",
       "4080        [Bottle Filler (Activity), Chow Time, Firework...\n",
       "4090        [Sandcastle Builder (Activity), Watering Hole ...\n",
       "4095        [Bubble Bath, Chow Time, Happy Camel, All Star...\n",
       "4100        [Mushroom Sorter (Assessment), Air Show, Bird ...\n",
       "4110                   [Air Show, Bird Measurer (Assessment)]\n",
       "4220                                            [Bubble Bath]\n",
       "4230                                            [Bubble Bath]\n",
       "4235                                            [Bubble Bath]\n",
       "5000                               [Watering Hole (Activity)]\n",
       "5010                               [Watering Hole (Activity)]"
      ]
     },
     "execution_count": 42,
     "metadata": {},
     "output_type": "execute_result"
    }
   ],
   "source": [
    "train.groupby(\"event_code\").title.unique().to_frame()"
   ]
  },
  {
   "cell_type": "code",
   "execution_count": 43,
   "metadata": {},
   "outputs": [
    {
     "data": {
      "text/html": [
       "<div>\n",
       "<style scoped>\n",
       "    .dataframe tbody tr th:only-of-type {\n",
       "        vertical-align: middle;\n",
       "    }\n",
       "\n",
       "    .dataframe tbody tr th {\n",
       "        vertical-align: top;\n",
       "    }\n",
       "\n",
       "    .dataframe thead th {\n",
       "        text-align: right;\n",
       "    }\n",
       "</style>\n",
       "<table border=\"1\" class=\"dataframe\">\n",
       "  <thead>\n",
       "    <tr style=\"text-align: right;\">\n",
       "      <th></th>\n",
       "      <th></th>\n",
       "      <th></th>\n",
       "      <th></th>\n",
       "      <th>event_code</th>\n",
       "    </tr>\n",
       "    <tr>\n",
       "      <th>world</th>\n",
       "      <th>type</th>\n",
       "      <th>title</th>\n",
       "      <th>event_code</th>\n",
       "      <th></th>\n",
       "    </tr>\n",
       "  </thead>\n",
       "  <tbody>\n",
       "    <tr>\n",
       "      <th rowspan=\"5\" valign=\"top\">CRYSTALCAVES</th>\n",
       "      <th rowspan=\"5\" valign=\"top\">Activity</th>\n",
       "      <th rowspan=\"5\" valign=\"top\">Chicken Balancer (Activity)</th>\n",
       "      <th>4030</th>\n",
       "      <td>151200</td>\n",
       "    </tr>\n",
       "    <tr>\n",
       "      <th>4020</th>\n",
       "      <td>80192</td>\n",
       "    </tr>\n",
       "    <tr>\n",
       "      <th>4070</th>\n",
       "      <td>73820</td>\n",
       "    </tr>\n",
       "    <tr>\n",
       "      <th>4035</th>\n",
       "      <td>56784</td>\n",
       "    </tr>\n",
       "    <tr>\n",
       "      <th>3010</th>\n",
       "      <td>31342</td>\n",
       "    </tr>\n",
       "    <tr>\n",
       "      <th>...</th>\n",
       "      <th>...</th>\n",
       "      <th>...</th>\n",
       "      <th>...</th>\n",
       "      <td>...</td>\n",
       "    </tr>\n",
       "    <tr>\n",
       "      <th rowspan=\"5\" valign=\"top\">TREETOPCITY</th>\n",
       "      <th rowspan=\"5\" valign=\"top\">Game</th>\n",
       "      <th rowspan=\"5\" valign=\"top\">Crystals Rule</th>\n",
       "      <th>2000</th>\n",
       "      <td>3145</td>\n",
       "    </tr>\n",
       "    <tr>\n",
       "      <th>4010</th>\n",
       "      <td>2887</td>\n",
       "    </tr>\n",
       "    <tr>\n",
       "      <th>4050</th>\n",
       "      <td>1989</td>\n",
       "    </tr>\n",
       "    <tr>\n",
       "      <th>4090</th>\n",
       "      <td>251</td>\n",
       "    </tr>\n",
       "    <tr>\n",
       "      <th>2010</th>\n",
       "      <td>1</td>\n",
       "    </tr>\n",
       "  </tbody>\n",
       "</table>\n",
       "<p>403 rows × 1 columns</p>\n",
       "</div>"
      ],
      "text/plain": [
       "                                                              event_code\n",
       "world        type     title                       event_code            \n",
       "CRYSTALCAVES Activity Chicken Balancer (Activity) 4030            151200\n",
       "                                                  4020             80192\n",
       "                                                  4070             73820\n",
       "                                                  4035             56784\n",
       "                                                  3010             31342\n",
       "...                                                                  ...\n",
       "TREETOPCITY  Game     Crystals Rule               2000              3145\n",
       "                                                  4010              2887\n",
       "                                                  4050              1989\n",
       "                                                  4090               251\n",
       "                                                  2010                 1\n",
       "\n",
       "[403 rows x 1 columns]"
      ]
     },
     "execution_count": 43,
     "metadata": {},
     "output_type": "execute_result"
    }
   ],
   "source": [
    "train.groupby([\"world\", \"type\", \"title\"]).event_code.value_counts().to_frame()"
   ]
  },
  {
   "cell_type": "code",
   "execution_count": 44,
   "metadata": {},
   "outputs": [
    {
     "data": {
      "text/html": [
       "<div>\n",
       "<style scoped>\n",
       "    .dataframe tbody tr th:only-of-type {\n",
       "        vertical-align: middle;\n",
       "    }\n",
       "\n",
       "    .dataframe tbody tr th {\n",
       "        vertical-align: top;\n",
       "    }\n",
       "\n",
       "    .dataframe thead th {\n",
       "        text-align: right;\n",
       "    }\n",
       "</style>\n",
       "<table border=\"1\" class=\"dataframe\">\n",
       "  <thead>\n",
       "    <tr style=\"text-align: right;\">\n",
       "      <th></th>\n",
       "      <th></th>\n",
       "      <th></th>\n",
       "      <th>event_code</th>\n",
       "    </tr>\n",
       "    <tr>\n",
       "      <th>world</th>\n",
       "      <th>type</th>\n",
       "      <th>title</th>\n",
       "      <th></th>\n",
       "    </tr>\n",
       "  </thead>\n",
       "  <tbody>\n",
       "    <tr>\n",
       "      <th rowspan=\"15\" valign=\"top\">CRYSTALCAVES</th>\n",
       "      <th rowspan=\"2\" valign=\"top\">Activity</th>\n",
       "      <th>Chicken Balancer (Activity)</th>\n",
       "      <td>[2000, 3010, 3110, 4070, 4030, 4020, 4035, 402...</td>\n",
       "    </tr>\n",
       "    <tr>\n",
       "      <th>Egg Dropper (Activity)</th>\n",
       "      <td>[2000, 3010, 2020, 3110, 4025, 4020, 4070, 409...</td>\n",
       "    </tr>\n",
       "    <tr>\n",
       "      <th rowspan=\"2\" valign=\"top\">Assessment</th>\n",
       "      <th>Cart Balancer (Assessment)</th>\n",
       "      <td>[2000, 2020, 3010, 4030, 4020, 3110, 4100, 302...</td>\n",
       "    </tr>\n",
       "    <tr>\n",
       "      <th>Chest Sorter (Assessment)</th>\n",
       "      <td>[2000, 2020, 3010, 3110, 4070, 4030, 4025, 404...</td>\n",
       "    </tr>\n",
       "    <tr>\n",
       "      <th rowspan=\"7\" valign=\"top\">Clip</th>\n",
       "      <th>Balancing Act</th>\n",
       "      <td>[2000]</td>\n",
       "    </tr>\n",
       "    <tr>\n",
       "      <th>Crystal Caves - Level 1</th>\n",
       "      <td>[2000]</td>\n",
       "    </tr>\n",
       "    <tr>\n",
       "      <th>Crystal Caves - Level 2</th>\n",
       "      <td>[2000]</td>\n",
       "    </tr>\n",
       "    <tr>\n",
       "      <th>Crystal Caves - Level 3</th>\n",
       "      <td>[2000]</td>\n",
       "    </tr>\n",
       "    <tr>\n",
       "      <th>Heavy, Heavier, Heaviest</th>\n",
       "      <td>[2000]</td>\n",
       "    </tr>\n",
       "    <tr>\n",
       "      <th>Honey Cake</th>\n",
       "      <td>[2000]</td>\n",
       "    </tr>\n",
       "    <tr>\n",
       "      <th>Lifting Heavy Things</th>\n",
       "      <td>[2000]</td>\n",
       "    </tr>\n",
       "    <tr>\n",
       "      <th rowspan=\"4\" valign=\"top\">Game</th>\n",
       "      <th>Chow Time</th>\n",
       "      <td>[2000, 4010, 3010, 3110, 2020, 4070, 4030, 403...</td>\n",
       "    </tr>\n",
       "    <tr>\n",
       "      <th>Happy Camel</th>\n",
       "      <td>[2000, 4010, 2080, 4070, 2081, 2020, 3010, 403...</td>\n",
       "    </tr>\n",
       "    <tr>\n",
       "      <th>Leaf Leader</th>\n",
       "      <td>[2000, 4010, 2060, 3010, 4070, 3110, 2070, 202...</td>\n",
       "    </tr>\n",
       "    <tr>\n",
       "      <th>Pan Balance</th>\n",
       "      <td>[2000, 4010, 2020, 3010, 4070, 3110, 4030, 402...</td>\n",
       "    </tr>\n",
       "    <tr>\n",
       "      <th rowspan=\"11\" valign=\"top\">MAGMAPEAK</th>\n",
       "      <th rowspan=\"3\" valign=\"top\">Activity</th>\n",
       "      <th>Bottle Filler (Activity)</th>\n",
       "      <td>[2000, 2020, 3010, 4030, 3110, 4020, 4035, 203...</td>\n",
       "    </tr>\n",
       "    <tr>\n",
       "      <th>Sandcastle Builder (Activity)</th>\n",
       "      <td>[2000, 3010, 3110, 4070, 4090, 4030, 4035, 402...</td>\n",
       "    </tr>\n",
       "    <tr>\n",
       "      <th>Watering Hole (Activity)</th>\n",
       "      <td>[2000, 3010, 3110, 4021, 4020, 4025, 4070, 500...</td>\n",
       "    </tr>\n",
       "    <tr>\n",
       "      <th>Assessment</th>\n",
       "      <th>Cauldron Filler (Assessment)</th>\n",
       "      <td>[2000, 2020, 3010, 4070, 4030, 4020, 3110, 410...</td>\n",
       "    </tr>\n",
       "    <tr>\n",
       "      <th rowspan=\"3\" valign=\"top\">Clip</th>\n",
       "      <th>Magma Peak - Level 1</th>\n",
       "      <td>[2000]</td>\n",
       "    </tr>\n",
       "    <tr>\n",
       "      <th>Magma Peak - Level 2</th>\n",
       "      <td>[2000]</td>\n",
       "    </tr>\n",
       "    <tr>\n",
       "      <th>Slop Problem</th>\n",
       "      <td>[2000]</td>\n",
       "    </tr>\n",
       "    <tr>\n",
       "      <th rowspan=\"4\" valign=\"top\">Game</th>\n",
       "      <th>Bubble Bath</th>\n",
       "      <td>[2000, 4010, 2080, 2083, 3010, 3110, 2020, 404...</td>\n",
       "    </tr>\n",
       "    <tr>\n",
       "      <th>Dino Dive</th>\n",
       "      <td>[2000, 4010, 3010, 4070, 3110, 2060, 3021, 312...</td>\n",
       "    </tr>\n",
       "    <tr>\n",
       "      <th>Dino Drink</th>\n",
       "      <td>[2000, 4010, 2060, 3010, 4070, 3110, 2070, 202...</td>\n",
       "    </tr>\n",
       "    <tr>\n",
       "      <th>Scrub-A-Dub</th>\n",
       "      <td>[2000, 4010, 2080, 2083, 2040, 2020, 3010, 407...</td>\n",
       "    </tr>\n",
       "    <tr>\n",
       "      <th>NONE</th>\n",
       "      <th>Clip</th>\n",
       "      <th>Welcome to Lost Lagoon!</th>\n",
       "      <td>[2000]</td>\n",
       "    </tr>\n",
       "    <tr>\n",
       "      <th rowspan=\"17\" valign=\"top\">TREETOPCITY</th>\n",
       "      <th rowspan=\"3\" valign=\"top\">Activity</th>\n",
       "      <th>Bug Measurer (Activity)</th>\n",
       "      <td>[2000, 3010, 4030, 3110, 4035, 4025, 4070, 409...</td>\n",
       "    </tr>\n",
       "    <tr>\n",
       "      <th>Fireworks (Activity)</th>\n",
       "      <td>[2000, 3010, 4030, 4020, 3110, 4070, 4090, 4080]</td>\n",
       "    </tr>\n",
       "    <tr>\n",
       "      <th>Flower Waterer (Activity)</th>\n",
       "      <td>[2000, 3010, 4070, 3110, 4030, 4020, 4025, 402...</td>\n",
       "    </tr>\n",
       "    <tr>\n",
       "      <th rowspan=\"2\" valign=\"top\">Assessment</th>\n",
       "      <th>Bird Measurer (Assessment)</th>\n",
       "      <td>[2000, 2020, 3010, 3110, 4030, 4025, 4110, 302...</td>\n",
       "    </tr>\n",
       "    <tr>\n",
       "      <th>Mushroom Sorter (Assessment)</th>\n",
       "      <td>[2000, 2025, 3010, 3110, 4025, 3021, 3121, 407...</td>\n",
       "    </tr>\n",
       "    <tr>\n",
       "      <th rowspan=\"9\" valign=\"top\">Clip</th>\n",
       "      <th>12 Monkeys</th>\n",
       "      <td>[2000]</td>\n",
       "    </tr>\n",
       "    <tr>\n",
       "      <th>Costume Box</th>\n",
       "      <td>[2000]</td>\n",
       "    </tr>\n",
       "    <tr>\n",
       "      <th>Ordering Spheres</th>\n",
       "      <td>[2000]</td>\n",
       "    </tr>\n",
       "    <tr>\n",
       "      <th>Pirate's Tale</th>\n",
       "      <td>[2000]</td>\n",
       "    </tr>\n",
       "    <tr>\n",
       "      <th>Rulers</th>\n",
       "      <td>[2000]</td>\n",
       "    </tr>\n",
       "    <tr>\n",
       "      <th>Treasure Map</th>\n",
       "      <td>[2000]</td>\n",
       "    </tr>\n",
       "    <tr>\n",
       "      <th>Tree Top City - Level 1</th>\n",
       "      <td>[2000]</td>\n",
       "    </tr>\n",
       "    <tr>\n",
       "      <th>Tree Top City - Level 2</th>\n",
       "      <td>[2000]</td>\n",
       "    </tr>\n",
       "    <tr>\n",
       "      <th>Tree Top City - Level 3</th>\n",
       "      <td>[2000]</td>\n",
       "    </tr>\n",
       "    <tr>\n",
       "      <th rowspan=\"3\" valign=\"top\">Game</th>\n",
       "      <th>Air Show</th>\n",
       "      <td>[2000, 4010, 4070, 2060, 3010, 3110, 2070, 411...</td>\n",
       "    </tr>\n",
       "    <tr>\n",
       "      <th>All Star Sorting</th>\n",
       "      <td>[2000, 4010, 2020, 3010, 4070, 3110, 4030, 402...</td>\n",
       "    </tr>\n",
       "    <tr>\n",
       "      <th>Crystals Rule</th>\n",
       "      <td>[2000, 4010, 3010, 3110, 2020, 4070, 4020, 302...</td>\n",
       "    </tr>\n",
       "  </tbody>\n",
       "</table>\n",
       "</div>"
      ],
      "text/plain": [
       "                                                                                              event_code\n",
       "world        type       title                                                                           \n",
       "CRYSTALCAVES Activity   Chicken Balancer (Activity)    [2000, 3010, 3110, 4070, 4030, 4020, 4035, 402...\n",
       "                        Egg Dropper (Activity)         [2000, 3010, 2020, 3110, 4025, 4020, 4070, 409...\n",
       "             Assessment Cart Balancer (Assessment)     [2000, 2020, 3010, 4030, 4020, 3110, 4100, 302...\n",
       "                        Chest Sorter (Assessment)      [2000, 2020, 3010, 3110, 4070, 4030, 4025, 404...\n",
       "             Clip       Balancing Act                                                             [2000]\n",
       "                        Crystal Caves - Level 1                                                   [2000]\n",
       "                        Crystal Caves - Level 2                                                   [2000]\n",
       "                        Crystal Caves - Level 3                                                   [2000]\n",
       "                        Heavy, Heavier, Heaviest                                                  [2000]\n",
       "                        Honey Cake                                                                [2000]\n",
       "                        Lifting Heavy Things                                                      [2000]\n",
       "             Game       Chow Time                      [2000, 4010, 3010, 3110, 2020, 4070, 4030, 403...\n",
       "                        Happy Camel                    [2000, 4010, 2080, 4070, 2081, 2020, 3010, 403...\n",
       "                        Leaf Leader                    [2000, 4010, 2060, 3010, 4070, 3110, 2070, 202...\n",
       "                        Pan Balance                    [2000, 4010, 2020, 3010, 4070, 3110, 4030, 402...\n",
       "MAGMAPEAK    Activity   Bottle Filler (Activity)       [2000, 2020, 3010, 4030, 3110, 4020, 4035, 203...\n",
       "                        Sandcastle Builder (Activity)  [2000, 3010, 3110, 4070, 4090, 4030, 4035, 402...\n",
       "                        Watering Hole (Activity)       [2000, 3010, 3110, 4021, 4020, 4025, 4070, 500...\n",
       "             Assessment Cauldron Filler (Assessment)   [2000, 2020, 3010, 4070, 4030, 4020, 3110, 410...\n",
       "             Clip       Magma Peak - Level 1                                                      [2000]\n",
       "                        Magma Peak - Level 2                                                      [2000]\n",
       "                        Slop Problem                                                              [2000]\n",
       "             Game       Bubble Bath                    [2000, 4010, 2080, 2083, 3010, 3110, 2020, 404...\n",
       "                        Dino Dive                      [2000, 4010, 3010, 4070, 3110, 2060, 3021, 312...\n",
       "                        Dino Drink                     [2000, 4010, 2060, 3010, 4070, 3110, 2070, 202...\n",
       "                        Scrub-A-Dub                    [2000, 4010, 2080, 2083, 2040, 2020, 3010, 407...\n",
       "NONE         Clip       Welcome to Lost Lagoon!                                                   [2000]\n",
       "TREETOPCITY  Activity   Bug Measurer (Activity)        [2000, 3010, 4030, 3110, 4035, 4025, 4070, 409...\n",
       "                        Fireworks (Activity)            [2000, 3010, 4030, 4020, 3110, 4070, 4090, 4080]\n",
       "                        Flower Waterer (Activity)      [2000, 3010, 4070, 3110, 4030, 4020, 4025, 402...\n",
       "             Assessment Bird Measurer (Assessment)     [2000, 2020, 3010, 3110, 4030, 4025, 4110, 302...\n",
       "                        Mushroom Sorter (Assessment)   [2000, 2025, 3010, 3110, 4025, 3021, 3121, 407...\n",
       "             Clip       12 Monkeys                                                                [2000]\n",
       "                        Costume Box                                                               [2000]\n",
       "                        Ordering Spheres                                                          [2000]\n",
       "                        Pirate's Tale                                                             [2000]\n",
       "                        Rulers                                                                    [2000]\n",
       "                        Treasure Map                                                              [2000]\n",
       "                        Tree Top City - Level 1                                                   [2000]\n",
       "                        Tree Top City - Level 2                                                   [2000]\n",
       "                        Tree Top City - Level 3                                                   [2000]\n",
       "             Game       Air Show                       [2000, 4010, 4070, 2060, 3010, 3110, 2070, 411...\n",
       "                        All Star Sorting               [2000, 4010, 2020, 3010, 4070, 3110, 4030, 402...\n",
       "                        Crystals Rule                  [2000, 4010, 3010, 3110, 2020, 4070, 4020, 302..."
      ]
     },
     "execution_count": 44,
     "metadata": {},
     "output_type": "execute_result"
    }
   ],
   "source": [
    "train.groupby([\"world\", \"type\", \"title\"]).event_code.unique().to_frame()"
   ]
  },
  {
   "cell_type": "code",
   "execution_count": 47,
   "metadata": {},
   "outputs": [
    {
     "data": {
      "text/plain": [
       "array([2000])"
      ]
     },
     "execution_count": 47,
     "metadata": {},
     "output_type": "execute_result"
    }
   ],
   "source": [
    "train[train.type == \"Clip\"].event_code.unique()"
   ]
  },
  {
   "cell_type": "code",
   "execution_count": 49,
   "metadata": {},
   "outputs": [
    {
     "data": {
      "text/plain": [
       "17"
      ]
     },
     "execution_count": 49,
     "metadata": {},
     "output_type": "execute_result"
    }
   ],
   "source": [
    "train[train.type == \"Activity\"].event_code.nunique()"
   ]
  },
  {
   "cell_type": "code",
   "execution_count": 50,
   "metadata": {},
   "outputs": [
    {
     "data": {
      "text/plain": [
       "38"
      ]
     },
     "execution_count": 50,
     "metadata": {},
     "output_type": "execute_result"
    }
   ],
   "source": [
    "train[train.type == \"Game\"].event_code.nunique()"
   ]
  },
  {
   "cell_type": "code",
   "execution_count": 51,
   "metadata": {},
   "outputs": [
    {
     "data": {
      "text/plain": [
       "22"
      ]
     },
     "execution_count": 51,
     "metadata": {},
     "output_type": "execute_result"
    }
   ],
   "source": [
    "train[train.type == \"Assessment\"].event_code.nunique()"
   ]
  },
  {
   "cell_type": "code",
   "execution_count": 53,
   "metadata": {},
   "outputs": [
    {
     "name": "stdout",
     "output_type": "stream",
     "text": [
      "\n",
      "event_code types under each 'type\":\n",
      "Clip: [2000]\n",
      "Activity: [2000 3010 3110 4070 4090 4030 4035 4021 4020 4025 5000 5010 4022 2020\n",
      " 2030 4080 2010]\n",
      "Game: [2000 4010 2080 2083 2040 2020 3010 4070 3110 4020 2030 3021 3121 2050\n",
      " 3020 3120 2060 2070 4030 4031 2081 4090 2025 4035 4110 4100 4045 4040\n",
      " 2035 4095 4220 2075 4230 4235 4025 4050 4080 2010]\n",
      "Assessment: [2000 2025 3010 3110 4025 3021 3121 4070 2035 2020 4030 4020 4040 4100\n",
      " 2030 2010 4110 3020 3120 4035 4090 4080]\n",
      "      \n"
     ]
    }
   ],
   "source": [
    "# description from Kaggle\n",
    "# Assessment attempts are captured in event_code 4100 for all assessments \n",
    "# except for Bird Measurer > 4110.\n",
    "\n",
    "# Is it safe to say, event_code are code for each kind of action\n",
    "# a game for age 3-5, \n",
    "# we can imagine a lot of actions are same\n",
    "# learn from repetedly doing certain things over and over till they remembered\n",
    "\n",
    "print(f\"\"\"\n",
    "event_code types under each 'type\":\n",
    "Clip: {train[train.type == \"Clip\"].event_code.unique()}\n",
    "Activity: {train[train.type == \"Activity\"].event_code.unique()}\n",
    "Game: {train[train.type == \"Game\"].event_code.unique()}\n",
    "Assessment: {train[train.type == \"Assessment\"].event_code.unique()}\n",
    "      \"\"\")"
   ]
  },
  {
   "cell_type": "code",
   "execution_count": 21,
   "metadata": {},
   "outputs": [
    {
     "data": {
      "text/html": [
       "<div>\n",
       "<style scoped>\n",
       "    .dataframe tbody tr th:only-of-type {\n",
       "        vertical-align: middle;\n",
       "    }\n",
       "\n",
       "    .dataframe tbody tr th {\n",
       "        vertical-align: top;\n",
       "    }\n",
       "\n",
       "    .dataframe thead th {\n",
       "        text-align: right;\n",
       "    }\n",
       "</style>\n",
       "<table border=\"1\" class=\"dataframe\">\n",
       "  <thead>\n",
       "    <tr style=\"text-align: right;\">\n",
       "      <th></th>\n",
       "      <th></th>\n",
       "      <th>event_code</th>\n",
       "    </tr>\n",
       "    <tr>\n",
       "      <th>world</th>\n",
       "      <th>type</th>\n",
       "      <th></th>\n",
       "    </tr>\n",
       "  </thead>\n",
       "  <tbody>\n",
       "    <tr>\n",
       "      <th rowspan=\"4\" valign=\"top\">CRYSTALCAVES</th>\n",
       "      <th>Activity</th>\n",
       "      <td>12</td>\n",
       "    </tr>\n",
       "    <tr>\n",
       "      <th>Assessment</th>\n",
       "      <td>19</td>\n",
       "    </tr>\n",
       "    <tr>\n",
       "      <th>Clip</th>\n",
       "      <td>1</td>\n",
       "    </tr>\n",
       "    <tr>\n",
       "      <th>Game</th>\n",
       "      <td>28</td>\n",
       "    </tr>\n",
       "    <tr>\n",
       "      <th rowspan=\"4\" valign=\"top\">MAGMAPEAK</th>\n",
       "      <th>Activity</th>\n",
       "      <td>16</td>\n",
       "    </tr>\n",
       "    <tr>\n",
       "      <th>Assessment</th>\n",
       "      <td>19</td>\n",
       "    </tr>\n",
       "    <tr>\n",
       "      <th>Clip</th>\n",
       "      <td>1</td>\n",
       "    </tr>\n",
       "    <tr>\n",
       "      <th>Game</th>\n",
       "      <td>32</td>\n",
       "    </tr>\n",
       "    <tr>\n",
       "      <th>NONE</th>\n",
       "      <th>Clip</th>\n",
       "      <td>1</td>\n",
       "    </tr>\n",
       "    <tr>\n",
       "      <th rowspan=\"4\" valign=\"top\">TREETOPCITY</th>\n",
       "      <th>Activity</th>\n",
       "      <td>11</td>\n",
       "    </tr>\n",
       "    <tr>\n",
       "      <th>Assessment</th>\n",
       "      <td>22</td>\n",
       "    </tr>\n",
       "    <tr>\n",
       "      <th>Clip</th>\n",
       "      <td>1</td>\n",
       "    </tr>\n",
       "    <tr>\n",
       "      <th>Game</th>\n",
       "      <td>25</td>\n",
       "    </tr>\n",
       "  </tbody>\n",
       "</table>\n",
       "</div>"
      ],
      "text/plain": [
       "                         event_code\n",
       "world        type                  \n",
       "CRYSTALCAVES Activity            12\n",
       "             Assessment          19\n",
       "             Clip                 1\n",
       "             Game                28\n",
       "MAGMAPEAK    Activity            16\n",
       "             Assessment          19\n",
       "             Clip                 1\n",
       "             Game                32\n",
       "NONE         Clip                 1\n",
       "TREETOPCITY  Activity            11\n",
       "             Assessment          22\n",
       "             Clip                 1\n",
       "             Game                25"
      ]
     },
     "execution_count": 21,
     "metadata": {},
     "output_type": "execute_result"
    }
   ],
   "source": [
    "train.groupby([\"world\", \"type\"]).event_code.nunique().to_frame()"
   ]
  },
  {
   "cell_type": "code",
   "execution_count": 18,
   "metadata": {},
   "outputs": [
    {
     "data": {
      "text/plain": [
       "world         type        title                        \n",
       "CRYSTALCAVES  Activity    Chicken Balancer (Activity)      10\n",
       "                          Egg Dropper (Activity)            9\n",
       "              Assessment  Cart Balancer (Assessment)       18\n",
       "                          Chest Sorter (Assessment)        19\n",
       "              Clip        Balancing Act                     1\n",
       "                          Crystal Caves - Level 1           1\n",
       "                          Crystal Caves - Level 2           1\n",
       "                          Crystal Caves - Level 3           1\n",
       "                          Heavy, Heavier, Heaviest          1\n",
       "                          Honey Cake                        1\n",
       "                          Lifting Heavy Things              1\n",
       "              Game        Chow Time                        17\n",
       "                          Happy Camel                      22\n",
       "                          Leaf Leader                      18\n",
       "                          Pan Balance                      19\n",
       "MAGMAPEAK     Activity    Bottle Filler (Activity)         12\n",
       "                          Sandcastle Builder (Activity)    11\n",
       "                          Watering Hole (Activity)         11\n",
       "              Assessment  Cauldron Filler (Assessment)     19\n",
       "              Clip        Magma Peak - Level 1              1\n",
       "                          Magma Peak - Level 2              1\n",
       "                          Slop Problem                      1\n",
       "              Game        Bubble Bath                      24\n",
       "                          Dino Dive                        16\n",
       "                          Dino Drink                       19\n",
       "                          Scrub-A-Dub                      19\n",
       "NONE          Clip        Welcome to Lost Lagoon!           1\n",
       "TREETOPCITY   Activity    Bug Measurer (Activity)           9\n",
       "                          Fireworks (Activity)              8\n",
       "                          Flower Waterer (Activity)        10\n",
       "              Assessment  Bird Measurer (Assessment)       20\n",
       "                          Mushroom Sorter (Assessment)     21\n",
       "              Clip        12 Monkeys                        1\n",
       "                          Costume Box                       1\n",
       "                          Ordering Spheres                  1\n",
       "                          Pirate's Tale                     1\n",
       "                          Rulers                            1\n",
       "                          Treasure Map                      1\n",
       "                          Tree Top City - Level 1           1\n",
       "                          Tree Top City - Level 2           1\n",
       "                          Tree Top City - Level 3           1\n",
       "              Game        Air Show                         19\n",
       "                          All Star Sorting                 18\n",
       "                          Crystals Rule                    15\n",
       "Name: event_code, dtype: int64"
      ]
     },
     "execution_count": 18,
     "metadata": {},
     "output_type": "execute_result"
    }
   ],
   "source": [
    "train.groupby([\"world\", \"type\", \"title\"]).event_code.nunique()"
   ]
  },
  {
   "cell_type": "code",
   "execution_count": 17,
   "metadata": {},
   "outputs": [
    {
     "data": {
      "text/plain": [
       "4070    2349642\n",
       "4030    1544814\n",
       "3010    1368695\n",
       "3110    1345452\n",
       "4020    1237789\n",
       "2020     353006\n",
       "4035     310875\n",
       "2030     306032\n",
       "2000     303319\n",
       "3020     292655\n",
       "3120     289230\n",
       "3021     248370\n",
       "3121     243732\n",
       "4025     233083\n",
       "4021     190783\n",
       "4040      91879\n",
       "4100      69640\n",
       "4022      67102\n",
       "4010      54698\n",
       "4031      47176\n",
       "2040      33743\n",
       "2080      33497\n",
       "4230      31535\n",
       "4235      31526\n",
       "2050      29691\n",
       "2083      23091\n",
       "5000      21998\n",
       "5010      21541\n",
       "4045      20166\n",
       "2025      19987\n",
       "4220      18777\n",
       "2060      15770\n",
       "4095      15587\n",
       "4090      13724\n",
       "4110      13608\n",
       "2010      11696\n",
       "2035      11196\n",
       "2081       8403\n",
       "2070       7654\n",
       "2075       6925\n",
       "4050       1989\n",
       "4080        966\n",
       "Name: event_code, dtype: int64"
      ]
     },
     "execution_count": 17,
     "metadata": {},
     "output_type": "execute_result"
    }
   ],
   "source": [
    "train.event_code.value_counts()"
   ]
  },
  {
   "cell_type": "code",
   "execution_count": 6,
   "metadata": {},
   "outputs": [
    {
     "data": {
      "text/plain": [
       "0           45bb1e1b6b50c07b\n",
       "1           17eeb7f223665f53\n",
       "2           0848ef14a8dc6892\n",
       "3           0848ef14a8dc6892\n",
       "4           0848ef14a8dc6892\n",
       "                  ...       \n",
       "11341037    c09b94eebfdf50a6\n",
       "11341038    6ad8ab25003ef1b0\n",
       "11341039    71904dca23b982c6\n",
       "11341040    2267b18f069e875a\n",
       "11341041    f31950f549d7c242\n",
       "Name: game_session, Length: 11341042, dtype: object"
      ]
     },
     "execution_count": 6,
     "metadata": {},
     "output_type": "execute_result"
    }
   ],
   "source": [
    "# identifier for each session\n",
    "train.game_session"
   ]
  },
  {
   "cell_type": "code",
   "execution_count": 26,
   "metadata": {},
   "outputs": [
    {
     "data": {
      "text/plain": [
       "0                      {\"event_code\": 2000, \"event_count\": 1}\n",
       "1                      {\"event_code\": 2000, \"event_count\": 1}\n",
       "2           {\"version\":\"1.0\",\"event_count\":1,\"game_time\":0...\n",
       "3           {\"description\":\"Let's build a sandcastle! Firs...\n",
       "4           {\"description\":\"Let's build a sandcastle! Firs...\n",
       "                                  ...                        \n",
       "11341037    {\"description\":\"Tap another dinosaur.\",\"identi...\n",
       "11341038               {\"event_code\": 2000, \"event_count\": 1}\n",
       "11341039               {\"event_code\": 2000, \"event_count\": 1}\n",
       "11341040               {\"event_code\": 2000, \"event_count\": 1}\n",
       "11341041               {\"event_code\": 2000, \"event_count\": 1}\n",
       "Name: event_data, Length: 11341042, dtype: object"
      ]
     },
     "execution_count": 26,
     "metadata": {},
     "output_type": "execute_result"
    }
   ],
   "source": [
    "train.event_data"
   ]
  },
  {
   "cell_type": "code",
   "execution_count": null,
   "metadata": {},
   "outputs": [],
   "source": [
    "train.event_data[3]"
   ]
  },
  {
   "cell_type": "code",
   "execution_count": 7,
   "metadata": {},
   "outputs": [
    {
     "data": {
      "text/plain": [
       "0           0001e90f\n",
       "1           0001e90f\n",
       "2           0001e90f\n",
       "3           0001e90f\n",
       "4           0001e90f\n",
       "              ...   \n",
       "11341037    fffc0583\n",
       "11341038    fffc0583\n",
       "11341039    fffc0583\n",
       "11341040    fffc0583\n",
       "11341041    fffc0583\n",
       "Name: installation_id, Length: 11341042, dtype: object"
      ]
     },
     "execution_count": 7,
     "metadata": {},
     "output_type": "execute_result"
    }
   ],
   "source": [
    "# user id\n",
    "train.installation_id"
   ]
  },
  {
   "cell_type": "code",
   "execution_count": 23,
   "metadata": {},
   "outputs": [
    {
     "data": {
      "text/plain": [
       "0            1\n",
       "1            1\n",
       "2            1\n",
       "3            2\n",
       "4            3\n",
       "            ..\n",
       "11341037    66\n",
       "11341038     1\n",
       "11341039     1\n",
       "11341040     1\n",
       "11341041     1\n",
       "Name: event_count, Length: 11341042, dtype: int64"
      ]
     },
     "execution_count": 23,
     "metadata": {},
     "output_type": "execute_result"
    }
   ],
   "source": [
    "# what is event?\n",
    "train.event_count"
   ]
  },
  {
   "cell_type": "code",
   "execution_count": 27,
   "metadata": {},
   "outputs": [
    {
     "data": {
      "text/plain": [
       "'{\"description\":\"Let\\'s build a sandcastle! First, fill up your mold with sand! You can use the shovel here. The mold gives the sand its shape!\",\"identifier\":\"Dot_LetsSandcastle,Dot_FillMold,Dot_MoldShape\",\"media_type\":\"audio\",\"total_duration\":6758,\"event_count\":2,\"game_time\":53,\"event_code\":3010}'"
      ]
     },
     "execution_count": 27,
     "metadata": {},
     "output_type": "execute_result"
    }
   ],
   "source": [
    "# an event can look like this\n",
    "train.event_data[3]"
   ]
  },
  {
   "cell_type": "code",
   "execution_count": 84,
   "metadata": {},
   "outputs": [
    {
     "name": "stdout",
     "output_type": "stream",
     "text": [
      "\n",
      "event codes: \n",
      "\n",
      "[2000 3010 3110 4070 4090 4030 4035 4021 4020 4010 2080 2083 2040 2020\n",
      " 2030 3021 3121 2050 3020 3120 2060 2070 4031 4025 5000 5010 2081 2025\n",
      " 4022 2035 4040 4100 2010 4110 4045 4095 4220 2075 4230 4235 4080 4050]\n",
      "\n",
      "and there are 42 event types\n",
      "\n"
     ]
    }
   ],
   "source": [
    "print(f\"\"\"\n",
    "event codes: \n",
    "\n",
    "{train.event_code.unique()}\n",
    "\n",
    "and there are {train.event_code.nunique()} event types\n",
    "\"\"\")"
   ]
  },
  {
   "cell_type": "markdown",
   "metadata": {},
   "source": [
    "# Peek data: game_time"
   ]
  },
  {
   "cell_type": "markdown",
   "metadata": {},
   "source": [
    "## Takeaway (game_time) \n",
    "record does not include clip watching time"
   ]
  },
  {
   "cell_type": "code",
   "execution_count": 38,
   "metadata": {},
   "outputs": [
    {
     "data": {
      "text/plain": [
       "0                0\n",
       "1                0\n",
       "2                0\n",
       "3               53\n",
       "4             6972\n",
       "             ...  \n",
       "11341037    118615\n",
       "11341038         0\n",
       "11341039         0\n",
       "11341040         0\n",
       "11341041         0\n",
       "Name: game_time, Length: 11341042, dtype: int64"
      ]
     },
     "execution_count": 38,
     "metadata": {},
     "output_type": "execute_result"
    }
   ],
   "source": [
    "# session time? or \"game\" time?\n",
    "train.game_time"
   ]
  },
  {
   "cell_type": "code",
   "execution_count": 47,
   "metadata": {},
   "outputs": [
    {
     "data": {
      "text/plain": [
       "array([0])"
      ]
     },
     "execution_count": 47,
     "metadata": {},
     "output_type": "execute_result"
    }
   ],
   "source": [
    "train[train.type == \"Clip\"][\"game_time\"].unique()"
   ]
  },
  {
   "cell_type": "code",
   "execution_count": 53,
   "metadata": {},
   "outputs": [
    {
     "data": {
      "text/plain": [
       "584525"
      ]
     },
     "execution_count": 53,
     "metadata": {},
     "output_type": "execute_result"
    }
   ],
   "source": [
    "train[train.type == 'Activity'][\"game_time\"].nunique()"
   ]
  },
  {
   "cell_type": "code",
   "execution_count": 54,
   "metadata": {},
   "outputs": [
    {
     "data": {
      "text/plain": [
       "663287"
      ]
     },
     "execution_count": 54,
     "metadata": {},
     "output_type": "execute_result"
    }
   ],
   "source": [
    "train[train.type == 'Game'][\"game_time\"].nunique()"
   ]
  },
  {
   "cell_type": "code",
   "execution_count": 55,
   "metadata": {},
   "outputs": [
    {
     "data": {
      "text/plain": [
       "137710"
      ]
     },
     "execution_count": 55,
     "metadata": {},
     "output_type": "execute_result"
    }
   ],
   "source": [
    "train[train.type == 'Assessment'][\"game_time\"].nunique()"
   ]
  },
  {
   "cell_type": "code",
   "execution_count": 48,
   "metadata": {},
   "outputs": [
    {
     "data": {
      "text/plain": [
       "array(['Clip', 'Activity', 'Game', 'Assessment'], dtype=object)"
      ]
     },
     "execution_count": 48,
     "metadata": {},
     "output_type": "execute_result"
    }
   ],
   "source": [
    "train.type.unique()"
   ]
  },
  {
   "cell_type": "code",
   "execution_count": 57,
   "metadata": {},
   "outputs": [
    {
     "data": {
      "text/plain": [
       "array(['Welcome to Lost Lagoon!', 'Magma Peak - Level 1',\n",
       "       'Sandcastle Builder (Activity)', 'Scrub-A-Dub',\n",
       "       'Magma Peak - Level 2', 'Dino Drink', 'Tree Top City - Level 1',\n",
       "       'Ordering Spheres', 'Watering Hole (Activity)', 'Slop Problem',\n",
       "       'All Star Sorting', 'Costume Box', 'Fireworks (Activity)',\n",
       "       '12 Monkeys', 'Tree Top City - Level 2',\n",
       "       'Flower Waterer (Activity)', \"Pirate's Tale\",\n",
       "       'Mushroom Sorter (Assessment)', 'Air Show', 'Treasure Map',\n",
       "       'Tree Top City - Level 3', 'Crystals Rule', 'Rulers',\n",
       "       'Bug Measurer (Activity)', 'Bird Measurer (Assessment)',\n",
       "       'Bubble Bath', 'Bottle Filler (Activity)', 'Dino Dive',\n",
       "       'Crystal Caves - Level 1', 'Chow Time',\n",
       "       'Cauldron Filler (Assessment)', 'Balancing Act',\n",
       "       'Crystal Caves - Level 2', 'Crystal Caves - Level 3',\n",
       "       'Chicken Balancer (Activity)', 'Lifting Heavy Things',\n",
       "       'Pan Balance', 'Happy Camel', 'Honey Cake',\n",
       "       'Cart Balancer (Assessment)', 'Heavy, Heavier, Heaviest',\n",
       "       'Egg Dropper (Activity)', 'Chest Sorter (Assessment)',\n",
       "       'Leaf Leader'], dtype=object)"
      ]
     },
     "execution_count": 57,
     "metadata": {},
     "output_type": "execute_result"
    }
   ],
   "source": [
    "train.title.unique()"
   ]
  },
  {
   "cell_type": "code",
   "execution_count": 58,
   "metadata": {},
   "outputs": [
    {
     "data": {
      "text/plain": [
       "array(['NONE', 'MAGMAPEAK', 'TREETOPCITY', 'CRYSTALCAVES'], dtype=object)"
      ]
     },
     "execution_count": 58,
     "metadata": {},
     "output_type": "execute_result"
    }
   ],
   "source": [
    "# none is landing page\n",
    "# 3 worlds in total\n",
    "train.world.unique()"
   ]
  },
  {
   "cell_type": "code",
   "execution_count": 60,
   "metadata": {},
   "outputs": [
    {
     "data": {
      "text/plain": [
       "world         type      \n",
       "CRYSTALCAVES  Game          2129478\n",
       "              Activity       691564\n",
       "              Assessment     353661\n",
       "              Clip            57843\n",
       "MAGMAPEAK     Activity      2407670\n",
       "              Game          2396380\n",
       "              Assessment     181925\n",
       "              Clip            37712\n",
       "NONE          Clip            23578\n",
       "TREETOPCITY   Activity      1337494\n",
       "              Game          1269435\n",
       "              Assessment     389759\n",
       "              Clip            64543\n",
       "Name: type, dtype: int64"
      ]
     },
     "execution_count": 60,
     "metadata": {},
     "output_type": "execute_result"
    }
   ],
   "source": [
    "train.groupby(\"world\")[\"type\"].value_counts()"
   ]
  },
  {
   "cell_type": "code",
   "execution_count": 76,
   "metadata": {},
   "outputs": [
    {
     "data": {
      "text/plain": [
       "25"
      ]
     },
     "execution_count": 76,
     "metadata": {},
     "output_type": "execute_result"
    }
   ],
   "source": [
    "train[train.event_code == 2000].event_id.nunique()"
   ]
  },
  {
   "cell_type": "code",
   "execution_count": 85,
   "metadata": {},
   "outputs": [
    {
     "data": {
      "text/plain": [
       "array([2000])"
      ]
     },
     "execution_count": 85,
     "metadata": {},
     "output_type": "execute_result"
    }
   ],
   "source": [
    "train[train.type == 'Clip'].event_code.unique()"
   ]
  },
  {
   "cell_type": "code",
   "execution_count": 89,
   "metadata": {},
   "outputs": [
    {
     "data": {
      "text/plain": [
       "17"
      ]
     },
     "execution_count": 89,
     "metadata": {},
     "output_type": "execute_result"
    }
   ],
   "source": [
    "train[train.type == 'Activity'].event_code.nunique()"
   ]
  },
  {
   "cell_type": "code",
   "execution_count": 88,
   "metadata": {},
   "outputs": [
    {
     "data": {
      "text/plain": [
       "22"
      ]
     },
     "execution_count": 88,
     "metadata": {},
     "output_type": "execute_result"
    }
   ],
   "source": [
    "train[train.type == 'Assessment'].event_code.nunique()"
   ]
  },
  {
   "cell_type": "code",
   "execution_count": null,
   "metadata": {},
   "outputs": [],
   "source": []
  },
  {
   "cell_type": "code",
   "execution_count": 79,
   "metadata": {},
   "outputs": [
    {
     "data": {
      "text/html": [
       "<div>\n",
       "<style scoped>\n",
       "    .dataframe tbody tr th:only-of-type {\n",
       "        vertical-align: middle;\n",
       "    }\n",
       "\n",
       "    .dataframe tbody tr th {\n",
       "        vertical-align: top;\n",
       "    }\n",
       "\n",
       "    .dataframe thead th {\n",
       "        text-align: right;\n",
       "    }\n",
       "</style>\n",
       "<table border=\"1\" class=\"dataframe\">\n",
       "  <thead>\n",
       "    <tr style=\"text-align: right;\">\n",
       "      <th></th>\n",
       "      <th></th>\n",
       "      <th></th>\n",
       "      <th></th>\n",
       "      <th></th>\n",
       "      <th></th>\n",
       "      <th></th>\n",
       "      <th>event_code</th>\n",
       "      <th>game_time</th>\n",
       "    </tr>\n",
       "    <tr>\n",
       "      <th>installation_id</th>\n",
       "      <th>game_session</th>\n",
       "      <th>event_id</th>\n",
       "      <th>event_count</th>\n",
       "      <th>type</th>\n",
       "      <th>title</th>\n",
       "      <th>world</th>\n",
       "      <th></th>\n",
       "      <th></th>\n",
       "    </tr>\n",
       "  </thead>\n",
       "  <tbody>\n",
       "    <tr>\n",
       "      <th rowspan=\"5\" valign=\"top\">0001e90f</th>\n",
       "      <th>04168b61c0650977</th>\n",
       "      <th>27253bdc</th>\n",
       "      <th>1</th>\n",
       "      <th>Clip</th>\n",
       "      <th>Ordering Spheres</th>\n",
       "      <th>TREETOPCITY</th>\n",
       "      <td>2000</td>\n",
       "      <td>0</td>\n",
       "    </tr>\n",
       "    <tr>\n",
       "      <th>091587ed87b9637c</th>\n",
       "      <th>27253bdc</th>\n",
       "      <th>1</th>\n",
       "      <th>Clip</th>\n",
       "      <th>Magma Peak - Level 2</th>\n",
       "      <th>MAGMAPEAK</th>\n",
       "      <td>2000</td>\n",
       "      <td>0</td>\n",
       "    </tr>\n",
       "    <tr>\n",
       "      <th>17eeb7f223665f53</th>\n",
       "      <th>27253bdc</th>\n",
       "      <th>1</th>\n",
       "      <th>Clip</th>\n",
       "      <th>Magma Peak - Level 1</th>\n",
       "      <th>MAGMAPEAK</th>\n",
       "      <td>2000</td>\n",
       "      <td>0</td>\n",
       "    </tr>\n",
       "    <tr>\n",
       "      <th>3fce4f09769ff0b7</th>\n",
       "      <th>27253bdc</th>\n",
       "      <th>1</th>\n",
       "      <th>Clip</th>\n",
       "      <th>Tree Top City - Level 1</th>\n",
       "      <th>TREETOPCITY</th>\n",
       "      <td>2000</td>\n",
       "      <td>0</td>\n",
       "    </tr>\n",
       "    <tr>\n",
       "      <th>45bb1e1b6b50c07b</th>\n",
       "      <th>27253bdc</th>\n",
       "      <th>1</th>\n",
       "      <th>Clip</th>\n",
       "      <th>Welcome to Lost Lagoon!</th>\n",
       "      <th>NONE</th>\n",
       "      <td>2000</td>\n",
       "      <td>0</td>\n",
       "    </tr>\n",
       "    <tr>\n",
       "      <th>...</th>\n",
       "      <th>...</th>\n",
       "      <th>...</th>\n",
       "      <th>...</th>\n",
       "      <th>...</th>\n",
       "      <th>...</th>\n",
       "      <th>...</th>\n",
       "      <td>...</td>\n",
       "      <td>...</td>\n",
       "    </tr>\n",
       "    <tr>\n",
       "      <th rowspan=\"5\" valign=\"top\">fffc0583</th>\n",
       "      <th>a0696d12d3d04f88</th>\n",
       "      <th>27253bdc</th>\n",
       "      <th>1</th>\n",
       "      <th>Clip</th>\n",
       "      <th>Ordering Spheres</th>\n",
       "      <th>TREETOPCITY</th>\n",
       "      <td>2000</td>\n",
       "      <td>0</td>\n",
       "    </tr>\n",
       "    <tr>\n",
       "      <th>da9cabb5cb123df1</th>\n",
       "      <th>27253bdc</th>\n",
       "      <th>1</th>\n",
       "      <th>Clip</th>\n",
       "      <th>Tree Top City - Level 3</th>\n",
       "      <th>TREETOPCITY</th>\n",
       "      <td>2000</td>\n",
       "      <td>0</td>\n",
       "    </tr>\n",
       "    <tr>\n",
       "      <th>e131c218f77fbeab</th>\n",
       "      <th>27253bdc</th>\n",
       "      <th>1</th>\n",
       "      <th>Clip</th>\n",
       "      <th>Magma Peak - Level 2</th>\n",
       "      <th>MAGMAPEAK</th>\n",
       "      <td>2000</td>\n",
       "      <td>0</td>\n",
       "    </tr>\n",
       "    <tr>\n",
       "      <th>e6b760e8f9e40ebf</th>\n",
       "      <th>27253bdc</th>\n",
       "      <th>1</th>\n",
       "      <th>Clip</th>\n",
       "      <th>Tree Top City - Level 2</th>\n",
       "      <th>TREETOPCITY</th>\n",
       "      <td>2000</td>\n",
       "      <td>0</td>\n",
       "    </tr>\n",
       "    <tr>\n",
       "      <th>f31950f549d7c242</th>\n",
       "      <th>27253bdc</th>\n",
       "      <th>1</th>\n",
       "      <th>Clip</th>\n",
       "      <th>Tree Top City - Level 2</th>\n",
       "      <th>TREETOPCITY</th>\n",
       "      <td>2000</td>\n",
       "      <td>0</td>\n",
       "    </tr>\n",
       "  </tbody>\n",
       "</table>\n",
       "<p>183676 rows × 2 columns</p>\n",
       "</div>"
      ],
      "text/plain": [
       "                                                                                                event_code  \\\n",
       "installation_id game_session     event_id event_count type title                   world                     \n",
       "0001e90f        04168b61c0650977 27253bdc 1           Clip Ordering Spheres        TREETOPCITY        2000   \n",
       "                091587ed87b9637c 27253bdc 1           Clip Magma Peak - Level 2    MAGMAPEAK          2000   \n",
       "                17eeb7f223665f53 27253bdc 1           Clip Magma Peak - Level 1    MAGMAPEAK          2000   \n",
       "                3fce4f09769ff0b7 27253bdc 1           Clip Tree Top City - Level 1 TREETOPCITY        2000   \n",
       "                45bb1e1b6b50c07b 27253bdc 1           Clip Welcome to Lost Lagoon! NONE               2000   \n",
       "...                                                                                                    ...   \n",
       "fffc0583        a0696d12d3d04f88 27253bdc 1           Clip Ordering Spheres        TREETOPCITY        2000   \n",
       "                da9cabb5cb123df1 27253bdc 1           Clip Tree Top City - Level 3 TREETOPCITY        2000   \n",
       "                e131c218f77fbeab 27253bdc 1           Clip Magma Peak - Level 2    MAGMAPEAK          2000   \n",
       "                e6b760e8f9e40ebf 27253bdc 1           Clip Tree Top City - Level 2 TREETOPCITY        2000   \n",
       "                f31950f549d7c242 27253bdc 1           Clip Tree Top City - Level 2 TREETOPCITY        2000   \n",
       "\n",
       "                                                                                                game_time  \n",
       "installation_id game_session     event_id event_count type title                   world                   \n",
       "0001e90f        04168b61c0650977 27253bdc 1           Clip Ordering Spheres        TREETOPCITY          0  \n",
       "                091587ed87b9637c 27253bdc 1           Clip Magma Peak - Level 2    MAGMAPEAK            0  \n",
       "                17eeb7f223665f53 27253bdc 1           Clip Magma Peak - Level 1    MAGMAPEAK            0  \n",
       "                3fce4f09769ff0b7 27253bdc 1           Clip Tree Top City - Level 1 TREETOPCITY          0  \n",
       "                45bb1e1b6b50c07b 27253bdc 1           Clip Welcome to Lost Lagoon! NONE                 0  \n",
       "...                                                                                                   ...  \n",
       "fffc0583        a0696d12d3d04f88 27253bdc 1           Clip Ordering Spheres        TREETOPCITY          0  \n",
       "                da9cabb5cb123df1 27253bdc 1           Clip Tree Top City - Level 3 TREETOPCITY          0  \n",
       "                e131c218f77fbeab 27253bdc 1           Clip Magma Peak - Level 2    MAGMAPEAK            0  \n",
       "                e6b760e8f9e40ebf 27253bdc 1           Clip Tree Top City - Level 2 TREETOPCITY          0  \n",
       "                f31950f549d7c242 27253bdc 1           Clip Tree Top City - Level 2 TREETOPCITY          0  \n",
       "\n",
       "[183676 rows x 2 columns]"
      ]
     },
     "execution_count": 79,
     "metadata": {},
     "output_type": "execute_result"
    }
   ],
   "source": [
    "train[train.event_id == '27253bdc'].groupby(['installation_id', 'game_session','event_id','event_count', 'type','title', 'world']).mean()"
   ]
  },
  {
   "cell_type": "markdown",
   "metadata": {},
   "source": [
    "# Map of the whole app"
   ]
  },
  {
   "cell_type": "code",
   "execution_count": 68,
   "metadata": {},
   "outputs": [
    {
     "data": {
      "text/html": [
       "<div>\n",
       "<style scoped>\n",
       "    .dataframe tbody tr th:only-of-type {\n",
       "        vertical-align: middle;\n",
       "    }\n",
       "\n",
       "    .dataframe tbody tr th {\n",
       "        vertical-align: top;\n",
       "    }\n",
       "\n",
       "    .dataframe thead th {\n",
       "        text-align: right;\n",
       "    }\n",
       "</style>\n",
       "<table border=\"1\" class=\"dataframe\">\n",
       "  <thead>\n",
       "    <tr style=\"text-align: right;\">\n",
       "      <th></th>\n",
       "      <th></th>\n",
       "      <th>title</th>\n",
       "    </tr>\n",
       "    <tr>\n",
       "      <th>world</th>\n",
       "      <th>type</th>\n",
       "      <th></th>\n",
       "    </tr>\n",
       "  </thead>\n",
       "  <tbody>\n",
       "    <tr>\n",
       "      <th rowspan=\"4\" valign=\"top\">CRYSTALCAVES</th>\n",
       "      <th>Activity</th>\n",
       "      <td>2</td>\n",
       "    </tr>\n",
       "    <tr>\n",
       "      <th>Assessment</th>\n",
       "      <td>2</td>\n",
       "    </tr>\n",
       "    <tr>\n",
       "      <th>Clip</th>\n",
       "      <td>7</td>\n",
       "    </tr>\n",
       "    <tr>\n",
       "      <th>Game</th>\n",
       "      <td>4</td>\n",
       "    </tr>\n",
       "    <tr>\n",
       "      <th rowspan=\"4\" valign=\"top\">MAGMAPEAK</th>\n",
       "      <th>Activity</th>\n",
       "      <td>3</td>\n",
       "    </tr>\n",
       "    <tr>\n",
       "      <th>Assessment</th>\n",
       "      <td>1</td>\n",
       "    </tr>\n",
       "    <tr>\n",
       "      <th>Clip</th>\n",
       "      <td>3</td>\n",
       "    </tr>\n",
       "    <tr>\n",
       "      <th>Game</th>\n",
       "      <td>4</td>\n",
       "    </tr>\n",
       "    <tr>\n",
       "      <th>NONE</th>\n",
       "      <th>Clip</th>\n",
       "      <td>1</td>\n",
       "    </tr>\n",
       "    <tr>\n",
       "      <th rowspan=\"4\" valign=\"top\">TREETOPCITY</th>\n",
       "      <th>Activity</th>\n",
       "      <td>3</td>\n",
       "    </tr>\n",
       "    <tr>\n",
       "      <th>Assessment</th>\n",
       "      <td>2</td>\n",
       "    </tr>\n",
       "    <tr>\n",
       "      <th>Clip</th>\n",
       "      <td>9</td>\n",
       "    </tr>\n",
       "    <tr>\n",
       "      <th>Game</th>\n",
       "      <td>3</td>\n",
       "    </tr>\n",
       "  </tbody>\n",
       "</table>\n",
       "</div>"
      ],
      "text/plain": [
       "                         title\n",
       "world        type             \n",
       "CRYSTALCAVES Activity        2\n",
       "             Assessment      2\n",
       "             Clip            7\n",
       "             Game            4\n",
       "MAGMAPEAK    Activity        3\n",
       "             Assessment      1\n",
       "             Clip            3\n",
       "             Game            4\n",
       "NONE         Clip            1\n",
       "TREETOPCITY  Activity        3\n",
       "             Assessment      2\n",
       "             Clip            9\n",
       "             Game            3"
      ]
     },
     "execution_count": 68,
     "metadata": {},
     "output_type": "execute_result"
    }
   ],
   "source": [
    "train.groupby([\"world\", \"type\"])[\"title\"].nunique().to_frame()"
   ]
  },
  {
   "cell_type": "code",
   "execution_count": 90,
   "metadata": {},
   "outputs": [
    {
     "data": {
      "text/plain": [
       "Index(['event_id', 'game_session', 'timestamp', 'event_data',\n",
       "       'installation_id', 'event_count', 'event_code', 'game_time', 'title',\n",
       "       'type', 'world'],\n",
       "      dtype='object')"
      ]
     },
     "execution_count": 90,
     "metadata": {},
     "output_type": "execute_result"
    }
   ],
   "source": [
    "train.columns"
   ]
  },
  {
   "cell_type": "code",
   "execution_count": 82,
   "metadata": {},
   "outputs": [
    {
     "name": "stdout",
     "output_type": "stream",
     "text": [
      "\n",
      "event codes: \n",
      "\n",
      "[2000 3010 3110 4070 4090 4030 4035 4021 4020 4010 2080 2083 2040 2020\n",
      " 2030 3021 3121 2050 3020 3120 2060 2070 4031 4025 5000 5010 2081 2025\n",
      " 4022 2035 4040 4100 2010 4110 4045 4095 4220 2075 4230 4235 4080 4050]\n",
      "\n",
      "and there are 42 many events types\n",
      "\n",
      "while titles for different 'missions' for all combinations of world * activity types\n",
      "is: 44\n",
      "      \n",
      "Maybe the event codes are coding for different missions choice?\n",
      "\n"
     ]
    }
   ],
   "source": [
    "print(f\"\"\"\n",
    "event codes: \n",
    "\n",
    "{train.event_code.unique()}\n",
    "\n",
    "and there are {train.event_code.nunique()} many events types\n",
    "\n",
    "while titles for different 'missions' for all combinations of world * activity types\n",
    "is: {train.groupby([\"world\", \"type\"])[\"title\"].nunique().sum()}\n",
    "      \n",
    "Maybe the event codes are coding for different missions choice?\n",
    "\"\"\")"
   ]
  },
  {
   "cell_type": "code",
   "execution_count": 80,
   "metadata": {},
   "outputs": [
    {
     "data": {
      "text/html": [
       "<div>\n",
       "<style scoped>\n",
       "    .dataframe tbody tr th:only-of-type {\n",
       "        vertical-align: middle;\n",
       "    }\n",
       "\n",
       "    .dataframe tbody tr th {\n",
       "        vertical-align: top;\n",
       "    }\n",
       "\n",
       "    .dataframe thead th {\n",
       "        text-align: right;\n",
       "    }\n",
       "</style>\n",
       "<table border=\"1\" class=\"dataframe\">\n",
       "  <thead>\n",
       "    <tr style=\"text-align: right;\">\n",
       "      <th></th>\n",
       "      <th></th>\n",
       "      <th></th>\n",
       "      <th>event_id</th>\n",
       "    </tr>\n",
       "    <tr>\n",
       "      <th>world</th>\n",
       "      <th>type</th>\n",
       "      <th>title</th>\n",
       "      <th></th>\n",
       "    </tr>\n",
       "  </thead>\n",
       "  <tbody>\n",
       "    <tr>\n",
       "      <th rowspan=\"15\" valign=\"top\">CRYSTALCAVES</th>\n",
       "      <th rowspan=\"2\" valign=\"top\">Activity</th>\n",
       "      <th>Chicken Balancer (Activity)</th>\n",
       "      <td>10</td>\n",
       "    </tr>\n",
       "    <tr>\n",
       "      <th>Egg Dropper (Activity)</th>\n",
       "      <td>9</td>\n",
       "    </tr>\n",
       "    <tr>\n",
       "      <th rowspan=\"2\" valign=\"top\">Assessment</th>\n",
       "      <th>Cart Balancer (Assessment)</th>\n",
       "      <td>18</td>\n",
       "    </tr>\n",
       "    <tr>\n",
       "      <th>Chest Sorter (Assessment)</th>\n",
       "      <td>19</td>\n",
       "    </tr>\n",
       "    <tr>\n",
       "      <th rowspan=\"7\" valign=\"top\">Clip</th>\n",
       "      <th>Balancing Act</th>\n",
       "      <td>1</td>\n",
       "    </tr>\n",
       "    <tr>\n",
       "      <th>Crystal Caves - Level 1</th>\n",
       "      <td>1</td>\n",
       "    </tr>\n",
       "    <tr>\n",
       "      <th>Crystal Caves - Level 2</th>\n",
       "      <td>1</td>\n",
       "    </tr>\n",
       "    <tr>\n",
       "      <th>Crystal Caves - Level 3</th>\n",
       "      <td>1</td>\n",
       "    </tr>\n",
       "    <tr>\n",
       "      <th>Heavy, Heavier, Heaviest</th>\n",
       "      <td>1</td>\n",
       "    </tr>\n",
       "    <tr>\n",
       "      <th>Honey Cake</th>\n",
       "      <td>1</td>\n",
       "    </tr>\n",
       "    <tr>\n",
       "      <th>Lifting Heavy Things</th>\n",
       "      <td>1</td>\n",
       "    </tr>\n",
       "    <tr>\n",
       "      <th rowspan=\"4\" valign=\"top\">Game</th>\n",
       "      <th>Chow Time</th>\n",
       "      <td>17</td>\n",
       "    </tr>\n",
       "    <tr>\n",
       "      <th>Happy Camel</th>\n",
       "      <td>22</td>\n",
       "    </tr>\n",
       "    <tr>\n",
       "      <th>Leaf Leader</th>\n",
       "      <td>18</td>\n",
       "    </tr>\n",
       "    <tr>\n",
       "      <th>Pan Balance</th>\n",
       "      <td>19</td>\n",
       "    </tr>\n",
       "    <tr>\n",
       "      <th rowspan=\"11\" valign=\"top\">MAGMAPEAK</th>\n",
       "      <th rowspan=\"3\" valign=\"top\">Activity</th>\n",
       "      <th>Bottle Filler (Activity)</th>\n",
       "      <td>12</td>\n",
       "    </tr>\n",
       "    <tr>\n",
       "      <th>Sandcastle Builder (Activity)</th>\n",
       "      <td>11</td>\n",
       "    </tr>\n",
       "    <tr>\n",
       "      <th>Watering Hole (Activity)</th>\n",
       "      <td>11</td>\n",
       "    </tr>\n",
       "    <tr>\n",
       "      <th>Assessment</th>\n",
       "      <th>Cauldron Filler (Assessment)</th>\n",
       "      <td>19</td>\n",
       "    </tr>\n",
       "    <tr>\n",
       "      <th rowspan=\"3\" valign=\"top\">Clip</th>\n",
       "      <th>Magma Peak - Level 1</th>\n",
       "      <td>1</td>\n",
       "    </tr>\n",
       "    <tr>\n",
       "      <th>Magma Peak - Level 2</th>\n",
       "      <td>1</td>\n",
       "    </tr>\n",
       "    <tr>\n",
       "      <th>Slop Problem</th>\n",
       "      <td>1</td>\n",
       "    </tr>\n",
       "    <tr>\n",
       "      <th rowspan=\"4\" valign=\"top\">Game</th>\n",
       "      <th>Bubble Bath</th>\n",
       "      <td>24</td>\n",
       "    </tr>\n",
       "    <tr>\n",
       "      <th>Dino Dive</th>\n",
       "      <td>16</td>\n",
       "    </tr>\n",
       "    <tr>\n",
       "      <th>Dino Drink</th>\n",
       "      <td>19</td>\n",
       "    </tr>\n",
       "    <tr>\n",
       "      <th>Scrub-A-Dub</th>\n",
       "      <td>19</td>\n",
       "    </tr>\n",
       "    <tr>\n",
       "      <th>NONE</th>\n",
       "      <th>Clip</th>\n",
       "      <th>Welcome to Lost Lagoon!</th>\n",
       "      <td>1</td>\n",
       "    </tr>\n",
       "    <tr>\n",
       "      <th rowspan=\"17\" valign=\"top\">TREETOPCITY</th>\n",
       "      <th rowspan=\"3\" valign=\"top\">Activity</th>\n",
       "      <th>Bug Measurer (Activity)</th>\n",
       "      <td>9</td>\n",
       "    </tr>\n",
       "    <tr>\n",
       "      <th>Fireworks (Activity)</th>\n",
       "      <td>8</td>\n",
       "    </tr>\n",
       "    <tr>\n",
       "      <th>Flower Waterer (Activity)</th>\n",
       "      <td>10</td>\n",
       "    </tr>\n",
       "    <tr>\n",
       "      <th rowspan=\"2\" valign=\"top\">Assessment</th>\n",
       "      <th>Bird Measurer (Assessment)</th>\n",
       "      <td>20</td>\n",
       "    </tr>\n",
       "    <tr>\n",
       "      <th>Mushroom Sorter (Assessment)</th>\n",
       "      <td>21</td>\n",
       "    </tr>\n",
       "    <tr>\n",
       "      <th rowspan=\"9\" valign=\"top\">Clip</th>\n",
       "      <th>12 Monkeys</th>\n",
       "      <td>1</td>\n",
       "    </tr>\n",
       "    <tr>\n",
       "      <th>Costume Box</th>\n",
       "      <td>1</td>\n",
       "    </tr>\n",
       "    <tr>\n",
       "      <th>Ordering Spheres</th>\n",
       "      <td>1</td>\n",
       "    </tr>\n",
       "    <tr>\n",
       "      <th>Pirate's Tale</th>\n",
       "      <td>1</td>\n",
       "    </tr>\n",
       "    <tr>\n",
       "      <th>Rulers</th>\n",
       "      <td>1</td>\n",
       "    </tr>\n",
       "    <tr>\n",
       "      <th>Treasure Map</th>\n",
       "      <td>1</td>\n",
       "    </tr>\n",
       "    <tr>\n",
       "      <th>Tree Top City - Level 1</th>\n",
       "      <td>1</td>\n",
       "    </tr>\n",
       "    <tr>\n",
       "      <th>Tree Top City - Level 2</th>\n",
       "      <td>1</td>\n",
       "    </tr>\n",
       "    <tr>\n",
       "      <th>Tree Top City - Level 3</th>\n",
       "      <td>1</td>\n",
       "    </tr>\n",
       "    <tr>\n",
       "      <th rowspan=\"3\" valign=\"top\">Game</th>\n",
       "      <th>Air Show</th>\n",
       "      <td>19</td>\n",
       "    </tr>\n",
       "    <tr>\n",
       "      <th>All Star Sorting</th>\n",
       "      <td>18</td>\n",
       "    </tr>\n",
       "    <tr>\n",
       "      <th>Crystals Rule</th>\n",
       "      <td>15</td>\n",
       "    </tr>\n",
       "  </tbody>\n",
       "</table>\n",
       "</div>"
      ],
      "text/plain": [
       "                                                       event_id\n",
       "world        type       title                                  \n",
       "CRYSTALCAVES Activity   Chicken Balancer (Activity)          10\n",
       "                        Egg Dropper (Activity)                9\n",
       "             Assessment Cart Balancer (Assessment)           18\n",
       "                        Chest Sorter (Assessment)            19\n",
       "             Clip       Balancing Act                         1\n",
       "                        Crystal Caves - Level 1               1\n",
       "                        Crystal Caves - Level 2               1\n",
       "                        Crystal Caves - Level 3               1\n",
       "                        Heavy, Heavier, Heaviest              1\n",
       "                        Honey Cake                            1\n",
       "                        Lifting Heavy Things                  1\n",
       "             Game       Chow Time                            17\n",
       "                        Happy Camel                          22\n",
       "                        Leaf Leader                          18\n",
       "                        Pan Balance                          19\n",
       "MAGMAPEAK    Activity   Bottle Filler (Activity)             12\n",
       "                        Sandcastle Builder (Activity)        11\n",
       "                        Watering Hole (Activity)             11\n",
       "             Assessment Cauldron Filler (Assessment)         19\n",
       "             Clip       Magma Peak - Level 1                  1\n",
       "                        Magma Peak - Level 2                  1\n",
       "                        Slop Problem                          1\n",
       "             Game       Bubble Bath                          24\n",
       "                        Dino Dive                            16\n",
       "                        Dino Drink                           19\n",
       "                        Scrub-A-Dub                          19\n",
       "NONE         Clip       Welcome to Lost Lagoon!               1\n",
       "TREETOPCITY  Activity   Bug Measurer (Activity)               9\n",
       "                        Fireworks (Activity)                  8\n",
       "                        Flower Waterer (Activity)            10\n",
       "             Assessment Bird Measurer (Assessment)           20\n",
       "                        Mushroom Sorter (Assessment)         21\n",
       "             Clip       12 Monkeys                            1\n",
       "                        Costume Box                           1\n",
       "                        Ordering Spheres                      1\n",
       "                        Pirate's Tale                         1\n",
       "                        Rulers                                1\n",
       "                        Treasure Map                          1\n",
       "                        Tree Top City - Level 1               1\n",
       "                        Tree Top City - Level 2               1\n",
       "                        Tree Top City - Level 3               1\n",
       "             Game       Air Show                             19\n",
       "                        All Star Sorting                     18\n",
       "                        Crystals Rule                        15"
      ]
     },
     "execution_count": 80,
     "metadata": {},
     "output_type": "execute_result"
    }
   ],
   "source": [
    "# event_id marks unique action within each section\n",
    "train.groupby([\"world\", \"type\",\"title\"])[\"event_id\"].nunique().to_frame()"
   ]
  },
  {
   "cell_type": "code",
   "execution_count": 94,
   "metadata": {},
   "outputs": [
    {
     "data": {
      "text/plain": [
       "303319"
      ]
     },
     "execution_count": 94,
     "metadata": {},
     "output_type": "execute_result"
    }
   ],
   "source": [
    "train.game_session.nunique()"
   ]
  },
  {
   "cell_type": "code",
   "execution_count": 101,
   "metadata": {},
   "outputs": [
    {
     "data": {
      "text/plain": [
       "5978969"
      ]
     },
     "execution_count": 101,
     "metadata": {},
     "output_type": "execute_result"
    }
   ],
   "source": [
    "len(train[(train.type == \"Clip\")| (train.type == \"Game\")])"
   ]
  },
  {
   "cell_type": "code",
   "execution_count": 95,
   "metadata": {},
   "outputs": [
    {
     "data": {
      "text/plain": [
       "11341042"
      ]
     },
     "execution_count": 95,
     "metadata": {},
     "output_type": "execute_result"
    }
   ],
   "source": [
    "len(train)"
   ]
  },
  {
   "cell_type": "code",
   "execution_count": 93,
   "metadata": {},
   "outputs": [
    {
     "data": {
      "text/plain": [
       "Index(['event_id', 'game_session', 'timestamp', 'event_data',\n",
       "       'installation_id', 'event_count', 'event_code', 'game_time', 'title',\n",
       "       'type', 'world'],\n",
       "      dtype='object')"
      ]
     },
     "execution_count": 93,
     "metadata": {},
     "output_type": "execute_result"
    }
   ],
   "source": [
    "train.columns"
   ]
  },
  {
   "cell_type": "code",
   "execution_count": 81,
   "metadata": {},
   "outputs": [
    {
     "data": {
      "text/plain": [
       "403"
      ]
     },
     "execution_count": 81,
     "metadata": {},
     "output_type": "execute_result"
    }
   ],
   "source": [
    "# event_id marks unique action within each section\n",
    "train.groupby([\"world\", \"type\",\"title\"])[\"event_id\"].nunique()"
   ]
  },
  {
   "cell_type": "code",
   "execution_count": 103,
   "metadata": {},
   "outputs": [
    {
     "data": {
      "text/plain": [
       "world         type        title                        \n",
       "CRYSTALCAVES  Activity    Chicken Balancer (Activity)      10\n",
       "                          Egg Dropper (Activity)            9\n",
       "              Assessment  Cart Balancer (Assessment)       18\n",
       "                          Chest Sorter (Assessment)        19\n",
       "              Clip        Balancing Act                     1\n",
       "                          Crystal Caves - Level 1           1\n",
       "                          Crystal Caves - Level 2           1\n",
       "                          Crystal Caves - Level 3           1\n",
       "                          Heavy, Heavier, Heaviest          1\n",
       "                          Honey Cake                        1\n",
       "                          Lifting Heavy Things              1\n",
       "              Game        Chow Time                        17\n",
       "                          Happy Camel                      22\n",
       "                          Leaf Leader                      18\n",
       "                          Pan Balance                      19\n",
       "MAGMAPEAK     Activity    Bottle Filler (Activity)         12\n",
       "                          Sandcastle Builder (Activity)    11\n",
       "                          Watering Hole (Activity)         11\n",
       "              Assessment  Cauldron Filler (Assessment)     19\n",
       "              Clip        Magma Peak - Level 1              1\n",
       "                          Magma Peak - Level 2              1\n",
       "                          Slop Problem                      1\n",
       "              Game        Bubble Bath                      24\n",
       "                          Dino Dive                        16\n",
       "                          Dino Drink                       19\n",
       "                          Scrub-A-Dub                      19\n",
       "NONE          Clip        Welcome to Lost Lagoon!           1\n",
       "TREETOPCITY   Activity    Bug Measurer (Activity)           9\n",
       "                          Fireworks (Activity)              8\n",
       "                          Flower Waterer (Activity)        10\n",
       "              Assessment  Bird Measurer (Assessment)       20\n",
       "                          Mushroom Sorter (Assessment)     21\n",
       "              Clip        12 Monkeys                        1\n",
       "                          Costume Box                       1\n",
       "                          Ordering Spheres                  1\n",
       "                          Pirate's Tale                     1\n",
       "                          Rulers                            1\n",
       "                          Treasure Map                      1\n",
       "                          Tree Top City - Level 1           1\n",
       "                          Tree Top City - Level 2           1\n",
       "                          Tree Top City - Level 3           1\n",
       "              Game        Air Show                         19\n",
       "                          All Star Sorting                 18\n",
       "                          Crystals Rule                    15\n",
       "Name: event_code, dtype: int64"
      ]
     },
     "execution_count": 103,
     "metadata": {},
     "output_type": "execute_result"
    }
   ],
   "source": [
    "train.groupby([\"world\", \"type\",\"title\"])[\"event_code\"].nunique()"
   ]
  },
  {
   "cell_type": "code",
   "execution_count": null,
   "metadata": {},
   "outputs": [],
   "source": []
  },
  {
   "cell_type": "code",
   "execution_count": null,
   "metadata": {},
   "outputs": [],
   "source": []
  },
  {
   "cell_type": "code",
   "execution_count": null,
   "metadata": {},
   "outputs": [],
   "source": []
  },
  {
   "cell_type": "code",
   "execution_count": null,
   "metadata": {},
   "outputs": [],
   "source": []
  },
  {
   "cell_type": "code",
   "execution_count": 9,
   "metadata": {},
   "outputs": [
    {
     "data": {
      "text/plain": [
       "17000"
      ]
     },
     "execution_count": 9,
     "metadata": {},
     "output_type": "execute_result"
    }
   ],
   "source": [
    "train.installation_id.nunique()"
   ]
  },
  {
   "cell_type": "code",
   "execution_count": 18,
   "metadata": {},
   "outputs": [
    {
     "data": {
      "text/plain": [
       "installation_id  accuracy_group\n",
       "0006a69f         3                 3\n",
       "                 0                 1\n",
       "                 2                 1\n",
       "0006c192         0                 1\n",
       "                 2                 1\n",
       "                                  ..\n",
       "ffc90c32         3                 5\n",
       "                 1                 1\n",
       "ffd2871d         3                 1\n",
       "ffeb0b1b         1                 2\n",
       "                 0                 1\n",
       "Name: accuracy_group, Length: 7203, dtype: int64"
      ]
     },
     "execution_count": 18,
     "metadata": {},
     "output_type": "execute_result"
    }
   ],
   "source": [
    "train_label.groupby(\"installation_id\")[\"accuracy_group\"].value_counts()"
   ]
  },
  {
   "cell_type": "code",
   "execution_count": 19,
   "metadata": {},
   "outputs": [
    {
     "data": {
      "text/html": [
       "<div>\n",
       "<style scoped>\n",
       "    .dataframe tbody tr th:only-of-type {\n",
       "        vertical-align: middle;\n",
       "    }\n",
       "\n",
       "    .dataframe tbody tr th {\n",
       "        vertical-align: top;\n",
       "    }\n",
       "\n",
       "    .dataframe thead th {\n",
       "        text-align: right;\n",
       "    }\n",
       "</style>\n",
       "<table border=\"1\" class=\"dataframe\">\n",
       "  <thead>\n",
       "    <tr style=\"text-align: right;\">\n",
       "      <th></th>\n",
       "      <th>game_session</th>\n",
       "      <th>installation_id</th>\n",
       "      <th>title</th>\n",
       "      <th>num_correct</th>\n",
       "      <th>num_incorrect</th>\n",
       "      <th>accuracy</th>\n",
       "      <th>accuracy_group</th>\n",
       "    </tr>\n",
       "  </thead>\n",
       "  <tbody>\n",
       "    <tr>\n",
       "      <th>5</th>\n",
       "      <td>197a373a77101924</td>\n",
       "      <td>0006c192</td>\n",
       "      <td>Cauldron Filler (Assessment)</td>\n",
       "      <td>1</td>\n",
       "      <td>0</td>\n",
       "      <td>1.0</td>\n",
       "      <td>3</td>\n",
       "    </tr>\n",
       "    <tr>\n",
       "      <th>6</th>\n",
       "      <td>957406a905d59afd</td>\n",
       "      <td>0006c192</td>\n",
       "      <td>Bird Measurer (Assessment)</td>\n",
       "      <td>1</td>\n",
       "      <td>1</td>\n",
       "      <td>0.5</td>\n",
       "      <td>2</td>\n",
       "    </tr>\n",
       "    <tr>\n",
       "      <th>7</th>\n",
       "      <td>b2297d292892745a</td>\n",
       "      <td>0006c192</td>\n",
       "      <td>Mushroom Sorter (Assessment)</td>\n",
       "      <td>0</td>\n",
       "      <td>4</td>\n",
       "      <td>0.0</td>\n",
       "      <td>0</td>\n",
       "    </tr>\n",
       "  </tbody>\n",
       "</table>\n",
       "</div>"
      ],
      "text/plain": [
       "       game_session installation_id                         title  \\\n",
       "5  197a373a77101924        0006c192  Cauldron Filler (Assessment)   \n",
       "6  957406a905d59afd        0006c192    Bird Measurer (Assessment)   \n",
       "7  b2297d292892745a        0006c192  Mushroom Sorter (Assessment)   \n",
       "\n",
       "   num_correct  num_incorrect  accuracy  accuracy_group  \n",
       "5            1              0       1.0               3  \n",
       "6            1              1       0.5               2  \n",
       "7            0              4       0.0               0  "
      ]
     },
     "execution_count": 19,
     "metadata": {},
     "output_type": "execute_result"
    }
   ],
   "source": [
    "train_label[train_label.installation_id == \"0006c192\"]"
   ]
  },
  {
   "cell_type": "code",
   "execution_count": 20,
   "metadata": {},
   "outputs": [
    {
     "data": {
      "text/plain": [
       "installation_id  title                       \n",
       "0006a69f         Bird Measurer (Assessment)      3\n",
       "                 Mushroom Sorter (Assessment)    3\n",
       "0006c192         Bird Measurer (Assessment)      2\n",
       "                 Cauldron Filler (Assessment)    3\n",
       "                 Mushroom Sorter (Assessment)    0\n",
       "                                                ..\n",
       "ffc90c32         Chest Sorter (Assessment)       3\n",
       "                 Mushroom Sorter (Assessment)    3\n",
       "ffd2871d         Cauldron Filler (Assessment)    3\n",
       "ffeb0b1b         Cauldron Filler (Assessment)    1\n",
       "                 Mushroom Sorter (Assessment)    0\n",
       "Name: accuracy_group, Length: 9386, dtype: int64"
      ]
     },
     "execution_count": 20,
     "metadata": {},
     "output_type": "execute_result"
    }
   ],
   "source": [
    "train_label.groupby([\"installation_id\", \"title\"])[\"accuracy_group\"].max()"
   ]
  },
  {
   "cell_type": "code",
   "execution_count": 7,
   "metadata": {},
   "outputs": [
    {
     "name": "stdout",
     "output_type": "stream",
     "text": [
      "<class 'pandas.core.frame.DataFrame'>\n",
      "RangeIndex: 11341042 entries, 0 to 11341041\n",
      "Data columns (total 11 columns):\n",
      "event_id           object\n",
      "game_session       object\n",
      "timestamp          object\n",
      "event_data         object\n",
      "installation_id    object\n",
      "event_count        int64\n",
      "event_code         int64\n",
      "game_time          int64\n",
      "title              object\n",
      "type               object\n",
      "world              object\n",
      "dtypes: int64(3), object(8)\n",
      "memory usage: 951.8+ MB\n"
     ]
    }
   ],
   "source": [
    "# game_session, each session kid starts\n",
    "train.info()"
   ]
  },
  {
   "cell_type": "code",
   "execution_count": 6,
   "metadata": {},
   "outputs": [
    {
     "data": {
      "text/html": [
       "<div>\n",
       "<style scoped>\n",
       "    .dataframe tbody tr th:only-of-type {\n",
       "        vertical-align: middle;\n",
       "    }\n",
       "\n",
       "    .dataframe tbody tr th {\n",
       "        vertical-align: top;\n",
       "    }\n",
       "\n",
       "    .dataframe thead th {\n",
       "        text-align: right;\n",
       "    }\n",
       "</style>\n",
       "<table border=\"1\" class=\"dataframe\">\n",
       "  <thead>\n",
       "    <tr style=\"text-align: right;\">\n",
       "      <th></th>\n",
       "      <th>game_session</th>\n",
       "      <th>installation_id</th>\n",
       "      <th>title</th>\n",
       "      <th>num_correct</th>\n",
       "      <th>num_incorrect</th>\n",
       "      <th>accuracy</th>\n",
       "      <th>accuracy_group</th>\n",
       "    </tr>\n",
       "  </thead>\n",
       "  <tbody>\n",
       "    <tr>\n",
       "      <th>0</th>\n",
       "      <td>6bdf9623adc94d89</td>\n",
       "      <td>0006a69f</td>\n",
       "      <td>Mushroom Sorter (Assessment)</td>\n",
       "      <td>1</td>\n",
       "      <td>0</td>\n",
       "      <td>1.0</td>\n",
       "      <td>3</td>\n",
       "    </tr>\n",
       "    <tr>\n",
       "      <th>1</th>\n",
       "      <td>77b8ee947eb84b4e</td>\n",
       "      <td>0006a69f</td>\n",
       "      <td>Bird Measurer (Assessment)</td>\n",
       "      <td>0</td>\n",
       "      <td>11</td>\n",
       "      <td>0.0</td>\n",
       "      <td>0</td>\n",
       "    </tr>\n",
       "    <tr>\n",
       "      <th>2</th>\n",
       "      <td>901acc108f55a5a1</td>\n",
       "      <td>0006a69f</td>\n",
       "      <td>Mushroom Sorter (Assessment)</td>\n",
       "      <td>1</td>\n",
       "      <td>0</td>\n",
       "      <td>1.0</td>\n",
       "      <td>3</td>\n",
       "    </tr>\n",
       "    <tr>\n",
       "      <th>3</th>\n",
       "      <td>9501794defd84e4d</td>\n",
       "      <td>0006a69f</td>\n",
       "      <td>Mushroom Sorter (Assessment)</td>\n",
       "      <td>1</td>\n",
       "      <td>1</td>\n",
       "      <td>0.5</td>\n",
       "      <td>2</td>\n",
       "    </tr>\n",
       "    <tr>\n",
       "      <th>4</th>\n",
       "      <td>a9ef3ecb3d1acc6a</td>\n",
       "      <td>0006a69f</td>\n",
       "      <td>Bird Measurer (Assessment)</td>\n",
       "      <td>1</td>\n",
       "      <td>0</td>\n",
       "      <td>1.0</td>\n",
       "      <td>3</td>\n",
       "    </tr>\n",
       "  </tbody>\n",
       "</table>\n",
       "</div>"
      ],
      "text/plain": [
       "       game_session installation_id                         title  \\\n",
       "0  6bdf9623adc94d89        0006a69f  Mushroom Sorter (Assessment)   \n",
       "1  77b8ee947eb84b4e        0006a69f    Bird Measurer (Assessment)   \n",
       "2  901acc108f55a5a1        0006a69f  Mushroom Sorter (Assessment)   \n",
       "3  9501794defd84e4d        0006a69f  Mushroom Sorter (Assessment)   \n",
       "4  a9ef3ecb3d1acc6a        0006a69f    Bird Measurer (Assessment)   \n",
       "\n",
       "   num_correct  num_incorrect  accuracy  accuracy_group  \n",
       "0            1              0       1.0               3  \n",
       "1            0             11       0.0               0  \n",
       "2            1              0       1.0               3  \n",
       "3            1              1       0.5               2  \n",
       "4            1              0       1.0               3  "
      ]
     },
     "execution_count": 6,
     "metadata": {},
     "output_type": "execute_result"
    }
   ],
   "source": [
    "train_label.head()"
   ]
  },
  {
   "cell_type": "code",
   "execution_count": 8,
   "metadata": {},
   "outputs": [
    {
     "name": "stdout",
     "output_type": "stream",
     "text": [
      "<class 'pandas.core.frame.DataFrame'>\n",
      "RangeIndex: 17690 entries, 0 to 17689\n",
      "Data columns (total 7 columns):\n",
      "game_session       17690 non-null object\n",
      "installation_id    17690 non-null object\n",
      "title              17690 non-null object\n",
      "num_correct        17690 non-null int64\n",
      "num_incorrect      17690 non-null int64\n",
      "accuracy           17690 non-null float64\n",
      "accuracy_group     17690 non-null int64\n",
      "dtypes: float64(1), int64(3), object(3)\n",
      "memory usage: 967.5+ KB\n"
     ]
    }
   ],
   "source": [
    "train_label.info()"
   ]
  },
  {
   "cell_type": "code",
   "execution_count": 9,
   "metadata": {},
   "outputs": [
    {
     "data": {
      "text/plain": [
       "0        Mushroom Sorter (Assessment)\n",
       "1          Bird Measurer (Assessment)\n",
       "2        Mushroom Sorter (Assessment)\n",
       "3        Mushroom Sorter (Assessment)\n",
       "4          Bird Measurer (Assessment)\n",
       "                     ...             \n",
       "17685      Bird Measurer (Assessment)\n",
       "17686    Cauldron Filler (Assessment)\n",
       "17687    Cauldron Filler (Assessment)\n",
       "17688    Mushroom Sorter (Assessment)\n",
       "17689    Cauldron Filler (Assessment)\n",
       "Name: title, Length: 17690, dtype: object"
      ]
     },
     "execution_count": 9,
     "metadata": {},
     "output_type": "execute_result"
    }
   ],
   "source": [
    "train_label.title"
   ]
  },
  {
   "cell_type": "code",
   "execution_count": 10,
   "metadata": {},
   "outputs": [],
   "source": [
    "spec = pd.read_csv(\"specs.csv\")"
   ]
  },
  {
   "cell_type": "code",
   "execution_count": 11,
   "metadata": {},
   "outputs": [
    {
     "data": {
      "text/html": [
       "<div>\n",
       "<style scoped>\n",
       "    .dataframe tbody tr th:only-of-type {\n",
       "        vertical-align: middle;\n",
       "    }\n",
       "\n",
       "    .dataframe tbody tr th {\n",
       "        vertical-align: top;\n",
       "    }\n",
       "\n",
       "    .dataframe thead th {\n",
       "        text-align: right;\n",
       "    }\n",
       "</style>\n",
       "<table border=\"1\" class=\"dataframe\">\n",
       "  <thead>\n",
       "    <tr style=\"text-align: right;\">\n",
       "      <th></th>\n",
       "      <th>event_id</th>\n",
       "      <th>info</th>\n",
       "      <th>args</th>\n",
       "    </tr>\n",
       "  </thead>\n",
       "  <tbody>\n",
       "    <tr>\n",
       "      <th>0</th>\n",
       "      <td>2b9272f4</td>\n",
       "      <td>The end of system-initiated feedback (Correct)...</td>\n",
       "      <td>[{\"name\":\"game_time\",\"type\":\"int\",\"info\":\"mill...</td>\n",
       "    </tr>\n",
       "    <tr>\n",
       "      <th>1</th>\n",
       "      <td>df4fe8b6</td>\n",
       "      <td>The end of system-initiated feedback (Incorrec...</td>\n",
       "      <td>[{\"name\":\"game_time\",\"type\":\"int\",\"info\":\"mill...</td>\n",
       "    </tr>\n",
       "    <tr>\n",
       "      <th>2</th>\n",
       "      <td>3babcb9b</td>\n",
       "      <td>The end of system-initiated instruction event ...</td>\n",
       "      <td>[{\"name\":\"game_time\",\"type\":\"int\",\"info\":\"mill...</td>\n",
       "    </tr>\n",
       "    <tr>\n",
       "      <th>3</th>\n",
       "      <td>7f0836bf</td>\n",
       "      <td>The end of system-initiated instruction event ...</td>\n",
       "      <td>[{\"name\":\"game_time\",\"type\":\"int\",\"info\":\"mill...</td>\n",
       "    </tr>\n",
       "    <tr>\n",
       "      <th>4</th>\n",
       "      <td>ab3136ba</td>\n",
       "      <td>The end of system-initiated instruction event ...</td>\n",
       "      <td>[{\"name\":\"game_time\",\"type\":\"int\",\"info\":\"mill...</td>\n",
       "    </tr>\n",
       "  </tbody>\n",
       "</table>\n",
       "</div>"
      ],
      "text/plain": [
       "   event_id                                               info  \\\n",
       "0  2b9272f4  The end of system-initiated feedback (Correct)...   \n",
       "1  df4fe8b6  The end of system-initiated feedback (Incorrec...   \n",
       "2  3babcb9b  The end of system-initiated instruction event ...   \n",
       "3  7f0836bf  The end of system-initiated instruction event ...   \n",
       "4  ab3136ba  The end of system-initiated instruction event ...   \n",
       "\n",
       "                                                args  \n",
       "0  [{\"name\":\"game_time\",\"type\":\"int\",\"info\":\"mill...  \n",
       "1  [{\"name\":\"game_time\",\"type\":\"int\",\"info\":\"mill...  \n",
       "2  [{\"name\":\"game_time\",\"type\":\"int\",\"info\":\"mill...  \n",
       "3  [{\"name\":\"game_time\",\"type\":\"int\",\"info\":\"mill...  \n",
       "4  [{\"name\":\"game_time\",\"type\":\"int\",\"info\":\"mill...  "
      ]
     },
     "execution_count": 11,
     "metadata": {},
     "output_type": "execute_result"
    }
   ],
   "source": [
    "spec.head()"
   ]
  },
  {
   "cell_type": "code",
   "execution_count": 12,
   "metadata": {},
   "outputs": [
    {
     "name": "stdout",
     "output_type": "stream",
     "text": [
      "<class 'pandas.core.frame.DataFrame'>\n",
      "RangeIndex: 386 entries, 0 to 385\n",
      "Data columns (total 3 columns):\n",
      "event_id    386 non-null object\n",
      "info        386 non-null object\n",
      "args        386 non-null object\n",
      "dtypes: object(3)\n",
      "memory usage: 9.2+ KB\n"
     ]
    }
   ],
   "source": [
    "spec.info()"
   ]
  },
  {
   "cell_type": "code",
   "execution_count": 14,
   "metadata": {},
   "outputs": [
    {
     "data": {
      "text/plain": [
       "'[{\"name\":\"game_time\",\"type\":\"int\",\"info\":\"millisecond count since start of game\"},{\"name\":\"round\",\"type\":\"int\",\"info\":\"number of the current round when the event takes place or 0 if no round\"},{\"name\":\"level\",\"type\":\"int\",\"info\":\"number of the current level when the event takes place or 0 if no level\"},{\"name\":\"description\",\"type\":\"string\",\"info\":\"the text or description of the instruction\"},{\"name\":\"identifier\",\"type\":\"string\",\"info\":\"a unique identifier for this piece of instruction\"},{\"name\":\"media_type\",\"type\":\"string\",\"info\":\"the type of media that has just played:\\\\n\\'audio\\' || \\'animation\\' || \\'other\\'\"},{\"name\":\"duration\",\"type\":\"int\",\"info\":\"the duration of the media playback in milliseconds\"},{\"name\":\"event_count\",\"type\":\"int\",\"info\":\"session event counter\"},{\"name\":\"event_code\",\"type\":\"int\",\"info\":\"event class identifier\"}]'"
      ]
     },
     "execution_count": 14,
     "metadata": {},
     "output_type": "execute_result"
    }
   ],
   "source": [
    "spec.args[0]"
   ]
  },
  {
   "cell_type": "code",
   "execution_count": 16,
   "metadata": {},
   "outputs": [
    {
     "data": {
      "text/plain": [
       "event_code  event_id\n",
       "2000        27253bdc    183676\n",
       "            77261ab5     11473\n",
       "            7d093bf9     10196\n",
       "            d2278a3b      7372\n",
       "            4901243f      6341\n",
       "                         ...  \n",
       "4220        1340b8d7     18777\n",
       "4230        ad148f58     31535\n",
       "4235        85de926c     31526\n",
       "5000        a6d66e51     21998\n",
       "5010        71e712d8     21541\n",
       "Name: event_id, Length: 384, dtype: int64"
      ]
     },
     "execution_count": 16,
     "metadata": {},
     "output_type": "execute_result"
    }
   ],
   "source": [
    "train.groupby(\"event_code\")[\"event_id\"].value_counts()"
   ]
  },
  {
   "cell_type": "code",
   "execution_count": 21,
   "metadata": {},
   "outputs": [
    {
     "data": {
      "text/plain": [
       "MAGMAPEAK       5023687\n",
       "CRYSTALCAVES    3232546\n",
       "TREETOPCITY     3061231\n",
       "NONE              23578\n",
       "Name: world, dtype: int64"
      ]
     },
     "execution_count": 21,
     "metadata": {},
     "output_type": "execute_result"
    }
   ],
   "source": [
    "train.world.value_counts()"
   ]
  },
  {
   "cell_type": "code",
   "execution_count": 23,
   "metadata": {},
   "outputs": [
    {
     "data": {
      "text/plain": [
       "world         type      \n",
       "CRYSTALCAVES  Game          2129478\n",
       "              Activity       691564\n",
       "              Assessment     353661\n",
       "              Clip            57843\n",
       "MAGMAPEAK     Activity      2407670\n",
       "              Game          2396380\n",
       "              Assessment     181925\n",
       "              Clip            37712\n",
       "NONE          Clip            23578\n",
       "TREETOPCITY   Activity      1337494\n",
       "              Game          1269435\n",
       "              Assessment     389759\n",
       "              Clip            64543\n",
       "Name: type, dtype: int64"
      ]
     },
     "execution_count": 23,
     "metadata": {},
     "output_type": "execute_result"
    }
   ],
   "source": [
    "train.groupby([\"world\"])[\"type\"].value_counts()"
   ]
  },
  {
   "cell_type": "code",
   "execution_count": 24,
   "metadata": {},
   "outputs": [
    {
     "data": {
      "text/plain": [
       "world         type        title                        \n",
       "CRYSTALCAVES  Activity    Chicken Balancer (Activity)       443156\n",
       "                          Egg Dropper (Activity)            248408\n",
       "              Assessment  Chest Sorter (Assessment)         190318\n",
       "                          Cart Balancer (Assessment)        163343\n",
       "              Clip        Crystal Caves - Level 2            14342\n",
       "                          Crystal Caves - Level 1            12505\n",
       "                          Crystal Caves - Level 3            12482\n",
       "                          Lifting Heavy Things                5759\n",
       "                          Balancing Act                       5522\n",
       "                          Honey Cake                          3882\n",
       "                          Heavy, Heavier, Heaviest            3351\n",
       "              Game        Chow Time                        1150974\n",
       "                          Pan Balance                       384857\n",
       "                          Happy Camel                       311543\n",
       "                          Leaf Leader                       282104\n",
       "MAGMAPEAK     Activity    Sandcastle Builder (Activity)    1034332\n",
       "                          Bottle Filler (Activity)         1004068\n",
       "                          Watering Hole (Activity)          369270\n",
       "              Assessment  Cauldron Filler (Assessment)      181925\n",
       "              Clip        Magma Peak - Level 2               17115\n",
       "                          Magma Peak - Level 1               13623\n",
       "                          Slop Problem                        6974\n",
       "              Game        Scrub-A-Dub                      1016837\n",
       "                          Dino Drink                        492916\n",
       "                          Bubble Bath                       458972\n",
       "                          Dino Dive                         427655\n",
       "NONE          Clip        Welcome to Lost Lagoon!            23578\n",
       "TREETOPCITY   Activity    Fireworks (Activity)              535030\n",
       "                          Bug Measurer (Activity)           446430\n",
       "                          Flower Waterer (Activity)         356034\n",
       "              Assessment  Mushroom Sorter (Assessment)      199595\n",
       "                          Bird Measurer (Assessment)        190164\n",
       "              Clip        Tree Top City - Level 2            12685\n",
       "                          Tree Top City - Level 1            12333\n",
       "                          Tree Top City - Level 3            10516\n",
       "                          Ordering Spheres                    9758\n",
       "                          Costume Box                         4538\n",
       "                          Pirate's Tale                       4365\n",
       "                          12 Monkeys                          4124\n",
       "                          Rulers                              3372\n",
       "                          Treasure Map                        2852\n",
       "              Game        All Star Sorting                  509344\n",
       "                          Crystals Rule                     453852\n",
       "                          Air Show                          306239\n",
       "Name: title, dtype: int64"
      ]
     },
     "execution_count": 24,
     "metadata": {},
     "output_type": "execute_result"
    }
   ],
   "source": [
    "train.groupby([\"world\",\"type\"])[\"title\"].value_counts()"
   ]
  },
  {
   "cell_type": "code",
   "execution_count": 26,
   "metadata": {},
   "outputs": [
    {
     "data": {
      "text/plain": [
       "world         type      title                        event_id\n",
       "CRYSTALCAVES  Activity  Chicken Balancer (Activity)  56bcd38d    151200\n",
       "                                                     499edb7c     80192\n",
       "                                                     4bb2f698     73820\n",
       "                                                     cdd22e43     56784\n",
       "                                                     ea321fb1     31342\n",
       "                                                                  ...  \n",
       "TREETOPCITY   Game      Crystals Rule                48349b14      3145\n",
       "                                                     cc5087a3      2887\n",
       "                                                     a1192f43      1989\n",
       "                                                     93edfe2e       251\n",
       "                                                     17ca3959         1\n",
       "Name: event_id, Length: 403, dtype: int64"
      ]
     },
     "execution_count": 26,
     "metadata": {},
     "output_type": "execute_result"
    }
   ],
   "source": [
    "train.groupby([\"world\", \"type\", \"title\"])[\"event_id\"].value_counts()"
   ]
  },
  {
   "cell_type": "code",
   "execution_count": 28,
   "metadata": {},
   "outputs": [
    {
     "data": {
      "text/plain": [
       "world         type      title                        event_code\n",
       "CRYSTALCAVES  Activity  Chicken Balancer (Activity)  4030          151200\n",
       "                                                     4020           80192\n",
       "                                                     4070           73820\n",
       "                                                     4035           56784\n",
       "                                                     3010           31342\n",
       "                                                                    ...  \n",
       "TREETOPCITY   Game      Crystals Rule                2000            3145\n",
       "                                                     4010            2887\n",
       "                                                     4050            1989\n",
       "                                                     4090             251\n",
       "                                                     2010               1\n",
       "Name: event_code, Length: 403, dtype: int64"
      ]
     },
     "execution_count": 28,
     "metadata": {},
     "output_type": "execute_result"
    }
   ],
   "source": [
    "train.groupby([\"world\", \"type\", \"title\"])[\"event_code\"].value_counts()"
   ]
  },
  {
   "cell_type": "code",
   "execution_count": 44,
   "metadata": {},
   "outputs": [
    {
     "data": {
      "text/plain": [
       "Series([], Name: event_id, dtype: int64)"
      ]
     },
     "execution_count": 44,
     "metadata": {},
     "output_type": "execute_result"
    }
   ],
   "source": [
    "train[(train.world == \"TREETOPCITY\") & (train.type == \"Game\") & (train.title == \"Crystals Rule\") & (train.event_code == 4030)].event_id.value_counts()"
   ]
  },
  {
   "cell_type": "code",
   "execution_count": 40,
   "metadata": {},
   "outputs": [
    {
     "data": {
      "text/plain": [
       "17ca3959    1\n",
       "Name: event_id, dtype: int64"
      ]
     },
     "execution_count": 40,
     "metadata": {},
     "output_type": "execute_result"
    }
   ],
   "source": [
    "train[(train.world == \"TREETOPCITY\") & (train.type == \"Game\") & (train.title == \"Crystals Rule\") & (train.event_code == 2010)].event_id.value_counts()"
   ]
  },
  {
   "cell_type": "code",
   "execution_count": 42,
   "metadata": {},
   "outputs": [
    {
     "data": {
      "text/plain": [
       "array(['93edfe2e'], dtype=object)"
      ]
     },
     "execution_count": 42,
     "metadata": {},
     "output_type": "execute_result"
    }
   ],
   "source": [
    "train[(train.world == \"TREETOPCITY\") & (train.type == \"Game\") & (train.title == \"Crystals Rule\") & (train.event_code == 4090)].event_id.unique()"
   ]
  },
  {
   "cell_type": "code",
   "execution_count": 43,
   "metadata": {},
   "outputs": [
    {
     "data": {
      "text/plain": [
       "44"
      ]
     },
     "execution_count": 43,
     "metadata": {},
     "output_type": "execute_result"
    }
   ],
   "source": [
    "train.title.nunique()"
   ]
  },
  {
   "cell_type": "code",
   "execution_count": 45,
   "metadata": {},
   "outputs": [
    {
     "data": {
      "text/html": [
       "<div>\n",
       "<style scoped>\n",
       "    .dataframe tbody tr th:only-of-type {\n",
       "        vertical-align: middle;\n",
       "    }\n",
       "\n",
       "    .dataframe tbody tr th {\n",
       "        vertical-align: top;\n",
       "    }\n",
       "\n",
       "    .dataframe thead th {\n",
       "        text-align: right;\n",
       "    }\n",
       "</style>\n",
       "<table border=\"1\" class=\"dataframe\">\n",
       "  <thead>\n",
       "    <tr style=\"text-align: right;\">\n",
       "      <th></th>\n",
       "      <th>game_session</th>\n",
       "      <th>installation_id</th>\n",
       "      <th>title</th>\n",
       "      <th>num_correct</th>\n",
       "      <th>num_incorrect</th>\n",
       "      <th>accuracy</th>\n",
       "      <th>accuracy_group</th>\n",
       "    </tr>\n",
       "  </thead>\n",
       "  <tbody>\n",
       "    <tr>\n",
       "      <th>0</th>\n",
       "      <td>6bdf9623adc94d89</td>\n",
       "      <td>0006a69f</td>\n",
       "      <td>Mushroom Sorter (Assessment)</td>\n",
       "      <td>1</td>\n",
       "      <td>0</td>\n",
       "      <td>1.0</td>\n",
       "      <td>3</td>\n",
       "    </tr>\n",
       "    <tr>\n",
       "      <th>1</th>\n",
       "      <td>77b8ee947eb84b4e</td>\n",
       "      <td>0006a69f</td>\n",
       "      <td>Bird Measurer (Assessment)</td>\n",
       "      <td>0</td>\n",
       "      <td>11</td>\n",
       "      <td>0.0</td>\n",
       "      <td>0</td>\n",
       "    </tr>\n",
       "    <tr>\n",
       "      <th>2</th>\n",
       "      <td>901acc108f55a5a1</td>\n",
       "      <td>0006a69f</td>\n",
       "      <td>Mushroom Sorter (Assessment)</td>\n",
       "      <td>1</td>\n",
       "      <td>0</td>\n",
       "      <td>1.0</td>\n",
       "      <td>3</td>\n",
       "    </tr>\n",
       "    <tr>\n",
       "      <th>3</th>\n",
       "      <td>9501794defd84e4d</td>\n",
       "      <td>0006a69f</td>\n",
       "      <td>Mushroom Sorter (Assessment)</td>\n",
       "      <td>1</td>\n",
       "      <td>1</td>\n",
       "      <td>0.5</td>\n",
       "      <td>2</td>\n",
       "    </tr>\n",
       "    <tr>\n",
       "      <th>4</th>\n",
       "      <td>a9ef3ecb3d1acc6a</td>\n",
       "      <td>0006a69f</td>\n",
       "      <td>Bird Measurer (Assessment)</td>\n",
       "      <td>1</td>\n",
       "      <td>0</td>\n",
       "      <td>1.0</td>\n",
       "      <td>3</td>\n",
       "    </tr>\n",
       "  </tbody>\n",
       "</table>\n",
       "</div>"
      ],
      "text/plain": [
       "       game_session installation_id                         title  \\\n",
       "0  6bdf9623adc94d89        0006a69f  Mushroom Sorter (Assessment)   \n",
       "1  77b8ee947eb84b4e        0006a69f    Bird Measurer (Assessment)   \n",
       "2  901acc108f55a5a1        0006a69f  Mushroom Sorter (Assessment)   \n",
       "3  9501794defd84e4d        0006a69f  Mushroom Sorter (Assessment)   \n",
       "4  a9ef3ecb3d1acc6a        0006a69f    Bird Measurer (Assessment)   \n",
       "\n",
       "   num_correct  num_incorrect  accuracy  accuracy_group  \n",
       "0            1              0       1.0               3  \n",
       "1            0             11       0.0               0  \n",
       "2            1              0       1.0               3  \n",
       "3            1              1       0.5               2  \n",
       "4            1              0       1.0               3  "
      ]
     },
     "execution_count": 45,
     "metadata": {},
     "output_type": "execute_result"
    }
   ],
   "source": [
    "train_label.head()"
   ]
  },
  {
   "cell_type": "code",
   "execution_count": 46,
   "metadata": {},
   "outputs": [
    {
     "data": {
      "text/plain": [
       "array([3, 0, 2, 1])"
      ]
     },
     "execution_count": 46,
     "metadata": {},
     "output_type": "execute_result"
    }
   ],
   "source": [
    "train_label.accuracy_group.unique()"
   ]
  },
  {
   "cell_type": "code",
   "execution_count": 49,
   "metadata": {},
   "outputs": [],
   "source": [
    "big = pd.merge(train, train_label, how = 'inner', on = \"installation_id\")"
   ]
  },
  {
   "cell_type": "code",
   "execution_count": 61,
   "metadata": {},
   "outputs": [],
   "source": [
    "s = pd.merge(train, train_label, how = 'left', on = \"installation_id\")"
   ]
  },
  {
   "cell_type": "code",
   "execution_count": 62,
   "metadata": {},
   "outputs": [
    {
     "data": {
      "text/plain": [
       "(95428453, 17)"
      ]
     },
     "execution_count": 62,
     "metadata": {},
     "output_type": "execute_result"
    }
   ],
   "source": [
    "s.shape"
   ]
  },
  {
   "cell_type": "code",
   "execution_count": 57,
   "metadata": {},
   "outputs": [
    {
     "data": {
      "text/plain": [
       "(17690, 7)"
      ]
     },
     "execution_count": 57,
     "metadata": {},
     "output_type": "execute_result"
    }
   ],
   "source": [
    "train_label.shape"
   ]
  },
  {
   "cell_type": "code",
   "execution_count": 64,
   "metadata": {},
   "outputs": [
    {
     "data": {
      "text/plain": [
       "17000"
      ]
     },
     "execution_count": 64,
     "metadata": {},
     "output_type": "execute_result"
    }
   ],
   "source": [
    "train.installation_id.nunique()"
   ]
  },
  {
   "cell_type": "code",
   "execution_count": 63,
   "metadata": {},
   "outputs": [
    {
     "data": {
      "text/html": [
       "<div>\n",
       "<style scoped>\n",
       "    .dataframe tbody tr th:only-of-type {\n",
       "        vertical-align: middle;\n",
       "    }\n",
       "\n",
       "    .dataframe tbody tr th {\n",
       "        vertical-align: top;\n",
       "    }\n",
       "\n",
       "    .dataframe thead th {\n",
       "        text-align: right;\n",
       "    }\n",
       "</style>\n",
       "<table border=\"1\" class=\"dataframe\">\n",
       "  <thead>\n",
       "    <tr style=\"text-align: right;\">\n",
       "      <th></th>\n",
       "      <th>event_id</th>\n",
       "      <th>game_session</th>\n",
       "      <th>timestamp</th>\n",
       "      <th>event_data</th>\n",
       "      <th>installation_id</th>\n",
       "      <th>event_count</th>\n",
       "      <th>event_code</th>\n",
       "      <th>game_time</th>\n",
       "      <th>title</th>\n",
       "      <th>type</th>\n",
       "      <th>world</th>\n",
       "    </tr>\n",
       "  </thead>\n",
       "  <tbody>\n",
       "    <tr>\n",
       "      <th>2228</th>\n",
       "      <td>25fa8af4</td>\n",
       "      <td>901acc108f55a5a1</td>\n",
       "      <td>2019-08-06T05:22:32.357Z</td>\n",
       "      <td>{\"correct\":true,\"stumps\":[1,2,4],\"event_count\"...</td>\n",
       "      <td>0006a69f</td>\n",
       "      <td>44</td>\n",
       "      <td>4100</td>\n",
       "      <td>31011</td>\n",
       "      <td>Mushroom Sorter (Assessment)</td>\n",
       "      <td>Assessment</td>\n",
       "      <td>TREETOPCITY</td>\n",
       "    </tr>\n",
       "    <tr>\n",
       "      <th>2308</th>\n",
       "      <td>14de4c5d</td>\n",
       "      <td>80d34a30c2998653</td>\n",
       "      <td>2019-08-06T05:24:50.323Z</td>\n",
       "      <td>{\"distance\":10,\"target_distances\":[5,6,7,8,9,1...</td>\n",
       "      <td>0006a69f</td>\n",
       "      <td>76</td>\n",
       "      <td>4100</td>\n",
       "      <td>114370</td>\n",
       "      <td>Air Show</td>\n",
       "      <td>Game</td>\n",
       "      <td>TREETOPCITY</td>\n",
       "    </tr>\n",
       "    <tr>\n",
       "      <th>2335</th>\n",
       "      <td>14de4c5d</td>\n",
       "      <td>80d34a30c2998653</td>\n",
       "      <td>2019-08-06T05:25:11.292Z</td>\n",
       "      <td>{\"distance\":9,\"target_distances\":[5,6,7],\"corr...</td>\n",
       "      <td>0006a69f</td>\n",
       "      <td>103</td>\n",
       "      <td>4100</td>\n",
       "      <td>135341</td>\n",
       "      <td>Air Show</td>\n",
       "      <td>Game</td>\n",
       "      <td>TREETOPCITY</td>\n",
       "    </tr>\n",
       "    <tr>\n",
       "      <th>2375</th>\n",
       "      <td>14de4c5d</td>\n",
       "      <td>80d34a30c2998653</td>\n",
       "      <td>2019-08-06T05:25:37.207Z</td>\n",
       "      <td>{\"distance\":3,\"target_distances\":[5,6,7],\"corr...</td>\n",
       "      <td>0006a69f</td>\n",
       "      <td>143</td>\n",
       "      <td>4100</td>\n",
       "      <td>161258</td>\n",
       "      <td>Air Show</td>\n",
       "      <td>Game</td>\n",
       "      <td>TREETOPCITY</td>\n",
       "    </tr>\n",
       "    <tr>\n",
       "      <th>2409</th>\n",
       "      <td>14de4c5d</td>\n",
       "      <td>80d34a30c2998653</td>\n",
       "      <td>2019-08-06T05:26:01.055Z</td>\n",
       "      <td>{\"distance\":8,\"target_distances\":[5,6,7],\"corr...</td>\n",
       "      <td>0006a69f</td>\n",
       "      <td>177</td>\n",
       "      <td>4100</td>\n",
       "      <td>185103</td>\n",
       "      <td>Air Show</td>\n",
       "      <td>Game</td>\n",
       "      <td>TREETOPCITY</td>\n",
       "    </tr>\n",
       "    <tr>\n",
       "      <th>...</th>\n",
       "      <td>...</td>\n",
       "      <td>...</td>\n",
       "      <td>...</td>\n",
       "      <td>...</td>\n",
       "      <td>...</td>\n",
       "      <td>...</td>\n",
       "      <td>...</td>\n",
       "      <td>...</td>\n",
       "      <td>...</td>\n",
       "      <td>...</td>\n",
       "      <td>...</td>\n",
       "    </tr>\n",
       "    <tr>\n",
       "      <th>11338726</th>\n",
       "      <td>14de4c5d</td>\n",
       "      <td>26b2ccaacf21b135</td>\n",
       "      <td>2019-08-23T01:58:10.691Z</td>\n",
       "      <td>{\"distance\":9,\"target_distances\":[6,7,8],\"corr...</td>\n",
       "      <td>ffecb712</td>\n",
       "      <td>129</td>\n",
       "      <td>4100</td>\n",
       "      <td>200887</td>\n",
       "      <td>Air Show</td>\n",
       "      <td>Game</td>\n",
       "      <td>TREETOPCITY</td>\n",
       "    </tr>\n",
       "    <tr>\n",
       "      <th>11338735</th>\n",
       "      <td>14de4c5d</td>\n",
       "      <td>26b2ccaacf21b135</td>\n",
       "      <td>2019-08-23T01:58:29.249Z</td>\n",
       "      <td>{\"distance\":9,\"target_distances\":[6,7,8],\"corr...</td>\n",
       "      <td>ffecb712</td>\n",
       "      <td>138</td>\n",
       "      <td>4100</td>\n",
       "      <td>219447</td>\n",
       "      <td>Air Show</td>\n",
       "      <td>Game</td>\n",
       "      <td>TREETOPCITY</td>\n",
       "    </tr>\n",
       "    <tr>\n",
       "      <th>11338744</th>\n",
       "      <td>14de4c5d</td>\n",
       "      <td>26b2ccaacf21b135</td>\n",
       "      <td>2019-08-23T01:58:50.809Z</td>\n",
       "      <td>{\"distance\":4,\"target_distances\":[6,7,8],\"corr...</td>\n",
       "      <td>ffecb712</td>\n",
       "      <td>147</td>\n",
       "      <td>4100</td>\n",
       "      <td>241015</td>\n",
       "      <td>Air Show</td>\n",
       "      <td>Game</td>\n",
       "      <td>TREETOPCITY</td>\n",
       "    </tr>\n",
       "    <tr>\n",
       "      <th>11338753</th>\n",
       "      <td>14de4c5d</td>\n",
       "      <td>26b2ccaacf21b135</td>\n",
       "      <td>2019-08-23T01:59:14.049Z</td>\n",
       "      <td>{\"distance\":5,\"target_distances\":[6,7,8],\"corr...</td>\n",
       "      <td>ffecb712</td>\n",
       "      <td>156</td>\n",
       "      <td>4100</td>\n",
       "      <td>264252</td>\n",
       "      <td>Air Show</td>\n",
       "      <td>Game</td>\n",
       "      <td>TREETOPCITY</td>\n",
       "    </tr>\n",
       "    <tr>\n",
       "      <th>11338761</th>\n",
       "      <td>14de4c5d</td>\n",
       "      <td>26b2ccaacf21b135</td>\n",
       "      <td>2019-08-23T01:59:31.917Z</td>\n",
       "      <td>{\"distance\":3,\"target_distances\":[6,7,8],\"corr...</td>\n",
       "      <td>ffecb712</td>\n",
       "      <td>164</td>\n",
       "      <td>4100</td>\n",
       "      <td>282120</td>\n",
       "      <td>Air Show</td>\n",
       "      <td>Game</td>\n",
       "      <td>TREETOPCITY</td>\n",
       "    </tr>\n",
       "  </tbody>\n",
       "</table>\n",
       "<p>69640 rows × 11 columns</p>\n",
       "</div>"
      ],
      "text/plain": [
       "          event_id      game_session                 timestamp  \\\n",
       "2228      25fa8af4  901acc108f55a5a1  2019-08-06T05:22:32.357Z   \n",
       "2308      14de4c5d  80d34a30c2998653  2019-08-06T05:24:50.323Z   \n",
       "2335      14de4c5d  80d34a30c2998653  2019-08-06T05:25:11.292Z   \n",
       "2375      14de4c5d  80d34a30c2998653  2019-08-06T05:25:37.207Z   \n",
       "2409      14de4c5d  80d34a30c2998653  2019-08-06T05:26:01.055Z   \n",
       "...            ...               ...                       ...   \n",
       "11338726  14de4c5d  26b2ccaacf21b135  2019-08-23T01:58:10.691Z   \n",
       "11338735  14de4c5d  26b2ccaacf21b135  2019-08-23T01:58:29.249Z   \n",
       "11338744  14de4c5d  26b2ccaacf21b135  2019-08-23T01:58:50.809Z   \n",
       "11338753  14de4c5d  26b2ccaacf21b135  2019-08-23T01:59:14.049Z   \n",
       "11338761  14de4c5d  26b2ccaacf21b135  2019-08-23T01:59:31.917Z   \n",
       "\n",
       "                                                 event_data installation_id  \\\n",
       "2228      {\"correct\":true,\"stumps\":[1,2,4],\"event_count\"...        0006a69f   \n",
       "2308      {\"distance\":10,\"target_distances\":[5,6,7,8,9,1...        0006a69f   \n",
       "2335      {\"distance\":9,\"target_distances\":[5,6,7],\"corr...        0006a69f   \n",
       "2375      {\"distance\":3,\"target_distances\":[5,6,7],\"corr...        0006a69f   \n",
       "2409      {\"distance\":8,\"target_distances\":[5,6,7],\"corr...        0006a69f   \n",
       "...                                                     ...             ...   \n",
       "11338726  {\"distance\":9,\"target_distances\":[6,7,8],\"corr...        ffecb712   \n",
       "11338735  {\"distance\":9,\"target_distances\":[6,7,8],\"corr...        ffecb712   \n",
       "11338744  {\"distance\":4,\"target_distances\":[6,7,8],\"corr...        ffecb712   \n",
       "11338753  {\"distance\":5,\"target_distances\":[6,7,8],\"corr...        ffecb712   \n",
       "11338761  {\"distance\":3,\"target_distances\":[6,7,8],\"corr...        ffecb712   \n",
       "\n",
       "          event_count  event_code  game_time                         title  \\\n",
       "2228               44        4100      31011  Mushroom Sorter (Assessment)   \n",
       "2308               76        4100     114370                      Air Show   \n",
       "2335              103        4100     135341                      Air Show   \n",
       "2375              143        4100     161258                      Air Show   \n",
       "2409              177        4100     185103                      Air Show   \n",
       "...               ...         ...        ...                           ...   \n",
       "11338726          129        4100     200887                      Air Show   \n",
       "11338735          138        4100     219447                      Air Show   \n",
       "11338744          147        4100     241015                      Air Show   \n",
       "11338753          156        4100     264252                      Air Show   \n",
       "11338761          164        4100     282120                      Air Show   \n",
       "\n",
       "                type        world  \n",
       "2228      Assessment  TREETOPCITY  \n",
       "2308            Game  TREETOPCITY  \n",
       "2335            Game  TREETOPCITY  \n",
       "2375            Game  TREETOPCITY  \n",
       "2409            Game  TREETOPCITY  \n",
       "...              ...          ...  \n",
       "11338726        Game  TREETOPCITY  \n",
       "11338735        Game  TREETOPCITY  \n",
       "11338744        Game  TREETOPCITY  \n",
       "11338753        Game  TREETOPCITY  \n",
       "11338761        Game  TREETOPCITY  \n",
       "\n",
       "[69640 rows x 11 columns]"
      ]
     },
     "execution_count": 63,
     "metadata": {},
     "output_type": "execute_result"
    }
   ],
   "source": [
    "train[train.event_code == 4100]"
   ]
  },
  {
   "cell_type": "markdown",
   "metadata": {},
   "source": [
    "# getting the base df"
   ]
  },
  {
   "cell_type": "code",
   "execution_count": 9,
   "metadata": {},
   "outputs": [],
   "source": [
    "train = pd.read_csv(\"train.csv\")"
   ]
  },
  {
   "cell_type": "code",
   "execution_count": 13,
   "metadata": {},
   "outputs": [],
   "source": [
    "train_label = pd.read_csv(\"train_labels.csv\")"
   ]
  },
  {
   "cell_type": "code",
   "execution_count": 11,
   "metadata": {},
   "outputs": [
    {
     "data": {
      "text/plain": [
       "(11341042, 11)"
      ]
     },
     "execution_count": 11,
     "metadata": {},
     "output_type": "execute_result"
    }
   ],
   "source": [
    "train.shape"
   ]
  },
  {
   "cell_type": "code",
   "execution_count": 14,
   "metadata": {},
   "outputs": [
    {
     "data": {
      "text/plain": [
       "(17690, 7)"
      ]
     },
     "execution_count": 14,
     "metadata": {},
     "output_type": "execute_result"
    }
   ],
   "source": [
    "train_label.shape"
   ]
  },
  {
   "cell_type": "code",
   "execution_count": 15,
   "metadata": {},
   "outputs": [],
   "source": [
    "df = pd.merge(train, train_label, how = 'left', on = \"game_session\")"
   ]
  },
  {
   "cell_type": "code",
   "execution_count": 16,
   "metadata": {},
   "outputs": [
    {
     "data": {
      "text/plain": [
       "(11341042, 17)"
      ]
     },
     "execution_count": 16,
     "metadata": {},
     "output_type": "execute_result"
    }
   ],
   "source": [
    "df.shape"
   ]
  },
  {
   "cell_type": "code",
   "execution_count": 17,
   "metadata": {},
   "outputs": [],
   "source": [
    "df.drop(columns = ['installation_id_y', 'title_y'], inplace = True)"
   ]
  },
  {
   "cell_type": "code",
   "execution_count": 18,
   "metadata": {},
   "outputs": [],
   "source": [
    "#df = df.drop(columns=['installation_id_y', 'title_y'])\n",
    "df = df.rename(columns={'installation_id_x': 'installation_id', 'game_session': 'session', 'title_x': 'title'})"
   ]
  },
  {
   "cell_type": "code",
   "execution_count": 19,
   "metadata": {},
   "outputs": [
    {
     "data": {
      "text/plain": [
       "(11341042, 15)"
      ]
     },
     "execution_count": 19,
     "metadata": {},
     "output_type": "execute_result"
    }
   ],
   "source": [
    "df.shape"
   ]
  },
  {
   "cell_type": "code",
   "execution_count": 88,
   "metadata": {},
   "outputs": [
    {
     "data": {
      "text/plain": [
       "(11341042, 11)"
      ]
     },
     "execution_count": 88,
     "metadata": {},
     "output_type": "execute_result"
    }
   ],
   "source": [
    "train.shape"
   ]
  },
  {
   "cell_type": "code",
   "execution_count": 20,
   "metadata": {},
   "outputs": [],
   "source": [
    "df.to_csv(\"explore.csv\")"
   ]
  },
  {
   "cell_type": "code",
   "execution_count": 67,
   "metadata": {},
   "outputs": [
    {
     "data": {
      "text/plain": [
       "Index(['event_id', 'game_session', 'timestamp', 'event_data',\n",
       "       'installation_id_x', 'event_count', 'event_code', 'game_time',\n",
       "       'title_x', 'type', 'world', 'installation_id_y', 'title_y',\n",
       "       'num_correct', 'num_incorrect', 'accuracy', 'accuracy_group'],\n",
       "      dtype='object')"
      ]
     },
     "execution_count": 67,
     "metadata": {},
     "output_type": "execute_result"
    }
   ],
   "source": [
    "df.columns"
   ]
  },
  {
   "cell_type": "code",
   "execution_count": 68,
   "metadata": {},
   "outputs": [],
   "source": [
    "big_df = df[~df.accuracy_group.isna()]"
   ]
  },
  {
   "cell_type": "code",
   "execution_count": 79,
   "metadata": {},
   "outputs": [
    {
     "name": "stdout",
     "output_type": "stream",
     "text": [
      "<class 'pandas.core.frame.DataFrame'>\n",
      "RangeIndex: 386 entries, 0 to 385\n",
      "Data columns (total 3 columns):\n",
      "event_id    386 non-null object\n",
      "info        386 non-null object\n",
      "args        386 non-null object\n",
      "dtypes: object(3)\n",
      "memory usage: 9.2+ KB\n"
     ]
    }
   ],
   "source": [
    "spec.info()"
   ]
  },
  {
   "cell_type": "code",
   "execution_count": 74,
   "metadata": {},
   "outputs": [
    {
     "ename": "KeyError",
     "evalue": "\"['installation_id_y' 'title_y'] not found in axis\"",
     "output_type": "error",
     "traceback": [
      "\u001b[0;31m---------------------------------------------------------------------------\u001b[0m",
      "\u001b[0;31mKeyError\u001b[0m                                  Traceback (most recent call last)",
      "\u001b[0;32m<ipython-input-74-ab9d04619e9f>\u001b[0m in \u001b[0;36m<module>\u001b[0;34m\u001b[0m\n\u001b[0;32m----> 1\u001b[0;31m \u001b[0mbig_df\u001b[0m\u001b[0;34m.\u001b[0m\u001b[0mdrop\u001b[0m\u001b[0;34m(\u001b[0m\u001b[0mcolumns\u001b[0m \u001b[0;34m=\u001b[0m \u001b[0;34m[\u001b[0m\u001b[0;34m'installation_id_y'\u001b[0m\u001b[0;34m,\u001b[0m\u001b[0;34m'title_y'\u001b[0m\u001b[0;34m]\u001b[0m\u001b[0;34m)\u001b[0m\u001b[0;34m\u001b[0m\u001b[0;34m\u001b[0m\u001b[0m\n\u001b[0m",
      "\u001b[0;32m/usr/local/anaconda3/lib/python3.7/site-packages/pandas/core/frame.py\u001b[0m in \u001b[0;36mdrop\u001b[0;34m(self, labels, axis, index, columns, level, inplace, errors)\u001b[0m\n\u001b[1;32m   4115\u001b[0m             \u001b[0mlevel\u001b[0m\u001b[0;34m=\u001b[0m\u001b[0mlevel\u001b[0m\u001b[0;34m,\u001b[0m\u001b[0;34m\u001b[0m\u001b[0;34m\u001b[0m\u001b[0m\n\u001b[1;32m   4116\u001b[0m             \u001b[0minplace\u001b[0m\u001b[0;34m=\u001b[0m\u001b[0minplace\u001b[0m\u001b[0;34m,\u001b[0m\u001b[0;34m\u001b[0m\u001b[0;34m\u001b[0m\u001b[0m\n\u001b[0;32m-> 4117\u001b[0;31m             \u001b[0merrors\u001b[0m\u001b[0;34m=\u001b[0m\u001b[0merrors\u001b[0m\u001b[0;34m,\u001b[0m\u001b[0;34m\u001b[0m\u001b[0;34m\u001b[0m\u001b[0m\n\u001b[0m\u001b[1;32m   4118\u001b[0m         )\n\u001b[1;32m   4119\u001b[0m \u001b[0;34m\u001b[0m\u001b[0m\n",
      "\u001b[0;32m/usr/local/anaconda3/lib/python3.7/site-packages/pandas/core/generic.py\u001b[0m in \u001b[0;36mdrop\u001b[0;34m(self, labels, axis, index, columns, level, inplace, errors)\u001b[0m\n\u001b[1;32m   3912\u001b[0m         \u001b[0;32mfor\u001b[0m \u001b[0maxis\u001b[0m\u001b[0;34m,\u001b[0m \u001b[0mlabels\u001b[0m \u001b[0;32min\u001b[0m \u001b[0maxes\u001b[0m\u001b[0;34m.\u001b[0m\u001b[0mitems\u001b[0m\u001b[0;34m(\u001b[0m\u001b[0;34m)\u001b[0m\u001b[0;34m:\u001b[0m\u001b[0;34m\u001b[0m\u001b[0;34m\u001b[0m\u001b[0m\n\u001b[1;32m   3913\u001b[0m             \u001b[0;32mif\u001b[0m \u001b[0mlabels\u001b[0m \u001b[0;32mis\u001b[0m \u001b[0;32mnot\u001b[0m \u001b[0;32mNone\u001b[0m\u001b[0;34m:\u001b[0m\u001b[0;34m\u001b[0m\u001b[0;34m\u001b[0m\u001b[0m\n\u001b[0;32m-> 3914\u001b[0;31m                 \u001b[0mobj\u001b[0m \u001b[0;34m=\u001b[0m \u001b[0mobj\u001b[0m\u001b[0;34m.\u001b[0m\u001b[0m_drop_axis\u001b[0m\u001b[0;34m(\u001b[0m\u001b[0mlabels\u001b[0m\u001b[0;34m,\u001b[0m \u001b[0maxis\u001b[0m\u001b[0;34m,\u001b[0m \u001b[0mlevel\u001b[0m\u001b[0;34m=\u001b[0m\u001b[0mlevel\u001b[0m\u001b[0;34m,\u001b[0m \u001b[0merrors\u001b[0m\u001b[0;34m=\u001b[0m\u001b[0merrors\u001b[0m\u001b[0;34m)\u001b[0m\u001b[0;34m\u001b[0m\u001b[0;34m\u001b[0m\u001b[0m\n\u001b[0m\u001b[1;32m   3915\u001b[0m \u001b[0;34m\u001b[0m\u001b[0m\n\u001b[1;32m   3916\u001b[0m         \u001b[0;32mif\u001b[0m \u001b[0minplace\u001b[0m\u001b[0;34m:\u001b[0m\u001b[0;34m\u001b[0m\u001b[0;34m\u001b[0m\u001b[0m\n",
      "\u001b[0;32m/usr/local/anaconda3/lib/python3.7/site-packages/pandas/core/generic.py\u001b[0m in \u001b[0;36m_drop_axis\u001b[0;34m(self, labels, axis, level, errors)\u001b[0m\n\u001b[1;32m   3944\u001b[0m                 \u001b[0mnew_axis\u001b[0m \u001b[0;34m=\u001b[0m \u001b[0maxis\u001b[0m\u001b[0;34m.\u001b[0m\u001b[0mdrop\u001b[0m\u001b[0;34m(\u001b[0m\u001b[0mlabels\u001b[0m\u001b[0;34m,\u001b[0m \u001b[0mlevel\u001b[0m\u001b[0;34m=\u001b[0m\u001b[0mlevel\u001b[0m\u001b[0;34m,\u001b[0m \u001b[0merrors\u001b[0m\u001b[0;34m=\u001b[0m\u001b[0merrors\u001b[0m\u001b[0;34m)\u001b[0m\u001b[0;34m\u001b[0m\u001b[0;34m\u001b[0m\u001b[0m\n\u001b[1;32m   3945\u001b[0m             \u001b[0;32melse\u001b[0m\u001b[0;34m:\u001b[0m\u001b[0;34m\u001b[0m\u001b[0;34m\u001b[0m\u001b[0m\n\u001b[0;32m-> 3946\u001b[0;31m                 \u001b[0mnew_axis\u001b[0m \u001b[0;34m=\u001b[0m \u001b[0maxis\u001b[0m\u001b[0;34m.\u001b[0m\u001b[0mdrop\u001b[0m\u001b[0;34m(\u001b[0m\u001b[0mlabels\u001b[0m\u001b[0;34m,\u001b[0m \u001b[0merrors\u001b[0m\u001b[0;34m=\u001b[0m\u001b[0merrors\u001b[0m\u001b[0;34m)\u001b[0m\u001b[0;34m\u001b[0m\u001b[0;34m\u001b[0m\u001b[0m\n\u001b[0m\u001b[1;32m   3947\u001b[0m             \u001b[0mresult\u001b[0m \u001b[0;34m=\u001b[0m \u001b[0mself\u001b[0m\u001b[0;34m.\u001b[0m\u001b[0mreindex\u001b[0m\u001b[0;34m(\u001b[0m\u001b[0;34m**\u001b[0m\u001b[0;34m{\u001b[0m\u001b[0maxis_name\u001b[0m\u001b[0;34m:\u001b[0m \u001b[0mnew_axis\u001b[0m\u001b[0;34m}\u001b[0m\u001b[0;34m)\u001b[0m\u001b[0;34m\u001b[0m\u001b[0;34m\u001b[0m\u001b[0m\n\u001b[1;32m   3948\u001b[0m \u001b[0;34m\u001b[0m\u001b[0m\n",
      "\u001b[0;32m/usr/local/anaconda3/lib/python3.7/site-packages/pandas/core/indexes/base.py\u001b[0m in \u001b[0;36mdrop\u001b[0;34m(self, labels, errors)\u001b[0m\n\u001b[1;32m   5338\u001b[0m         \u001b[0;32mif\u001b[0m \u001b[0mmask\u001b[0m\u001b[0;34m.\u001b[0m\u001b[0many\u001b[0m\u001b[0;34m(\u001b[0m\u001b[0;34m)\u001b[0m\u001b[0;34m:\u001b[0m\u001b[0;34m\u001b[0m\u001b[0;34m\u001b[0m\u001b[0m\n\u001b[1;32m   5339\u001b[0m             \u001b[0;32mif\u001b[0m \u001b[0merrors\u001b[0m \u001b[0;34m!=\u001b[0m \u001b[0;34m\"ignore\"\u001b[0m\u001b[0;34m:\u001b[0m\u001b[0;34m\u001b[0m\u001b[0;34m\u001b[0m\u001b[0m\n\u001b[0;32m-> 5340\u001b[0;31m                 \u001b[0;32mraise\u001b[0m \u001b[0mKeyError\u001b[0m\u001b[0;34m(\u001b[0m\u001b[0;34m\"{} not found in axis\"\u001b[0m\u001b[0;34m.\u001b[0m\u001b[0mformat\u001b[0m\u001b[0;34m(\u001b[0m\u001b[0mlabels\u001b[0m\u001b[0;34m[\u001b[0m\u001b[0mmask\u001b[0m\u001b[0;34m]\u001b[0m\u001b[0;34m)\u001b[0m\u001b[0;34m)\u001b[0m\u001b[0;34m\u001b[0m\u001b[0;34m\u001b[0m\u001b[0m\n\u001b[0m\u001b[1;32m   5341\u001b[0m             \u001b[0mindexer\u001b[0m \u001b[0;34m=\u001b[0m \u001b[0mindexer\u001b[0m\u001b[0;34m[\u001b[0m\u001b[0;34m~\u001b[0m\u001b[0mmask\u001b[0m\u001b[0;34m]\u001b[0m\u001b[0;34m\u001b[0m\u001b[0;34m\u001b[0m\u001b[0m\n\u001b[1;32m   5342\u001b[0m         \u001b[0;32mreturn\u001b[0m \u001b[0mself\u001b[0m\u001b[0;34m.\u001b[0m\u001b[0mdelete\u001b[0m\u001b[0;34m(\u001b[0m\u001b[0mindexer\u001b[0m\u001b[0;34m)\u001b[0m\u001b[0;34m\u001b[0m\u001b[0;34m\u001b[0m\u001b[0m\n",
      "\u001b[0;31mKeyError\u001b[0m: \"['installation_id_y' 'title_y'] not found in axis\""
     ]
    }
   ],
   "source": [
    "big_df.drop(columns = ['installation_id_y','title_y'])"
   ]
  },
  {
   "cell_type": "code",
   "execution_count": 80,
   "metadata": {},
   "outputs": [
    {
     "data": {
      "text/plain": [
       "(865447, 15)"
      ]
     },
     "execution_count": 80,
     "metadata": {},
     "output_type": "execute_result"
    }
   ],
   "source": [
    "big_df.shape"
   ]
  },
  {
   "cell_type": "code",
   "execution_count": null,
   "metadata": {},
   "outputs": [],
   "source": []
  }
 ],
 "metadata": {
  "kernelspec": {
   "display_name": "Python 3",
   "language": "python",
   "name": "python3"
  },
  "language_info": {
   "codemirror_mode": {
    "name": "ipython",
    "version": 3
   },
   "file_extension": ".py",
   "mimetype": "text/x-python",
   "name": "python",
   "nbconvert_exporter": "python",
   "pygments_lexer": "ipython3",
   "version": "3.7.3"
  },
  "toc": {
   "base_numbering": 1,
   "nav_menu": {},
   "number_sections": true,
   "sideBar": true,
   "skip_h1_title": false,
   "title_cell": "Table of Contents",
   "title_sidebar": "Contents",
   "toc_cell": false,
   "toc_position": {},
   "toc_section_display": true,
   "toc_window_display": false
  },
  "varInspector": {
   "cols": {
    "lenName": 16,
    "lenType": 16,
    "lenVar": 40
   },
   "kernels_config": {
    "python": {
     "delete_cmd_postfix": "",
     "delete_cmd_prefix": "del ",
     "library": "var_list.py",
     "varRefreshCmd": "print(var_dic_list())"
    },
    "r": {
     "delete_cmd_postfix": ") ",
     "delete_cmd_prefix": "rm(",
     "library": "var_list.r",
     "varRefreshCmd": "cat(var_dic_list()) "
    }
   },
   "types_to_exclude": [
    "module",
    "function",
    "builtin_function_or_method",
    "instance",
    "_Feature"
   ],
   "window_display": false
  }
 },
 "nbformat": 4,
 "nbformat_minor": 2
}
