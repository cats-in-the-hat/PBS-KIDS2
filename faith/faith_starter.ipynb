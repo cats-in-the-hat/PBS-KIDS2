{
 "cells": [
  {
   "cell_type": "code",
   "execution_count": 1,
   "metadata": {},
   "outputs": [],
   "source": [
    "import pandas as pd\n",
    "import numpy as np\n",
    "\n",
    "import seaborn as sns\n",
    "from matplotlib import pyplot as plt\n",
    "from pylab import rcParams\n",
    "%matplotlib inline\n",
    "\n",
    "import warnings\n",
    "warnings.filterwarnings('ignore')"
   ]
  },
  {
   "cell_type": "code",
   "execution_count": 2,
   "metadata": {},
   "outputs": [
    {
     "data": {
      "image/png": "[encoded data removed]",
      "text/plain": [
       "<Figure size 360x72 with 1 Axes>"
      ]
     },
     "metadata": {
      "needs_background": "light"
     },
     "output_type": "display_data"
    }
   ],
   "source": [
    "# Create an array with the colors you want to use\n",
    "heat = [ 'pink', 'gold', 'darkturquoise', 'red', 'black']\n",
    "\n",
    "# Set your custom color palette\n",
    "my_pal = sns.color_palette(heat)\n",
    "\n",
    "sns.palplot(my_pal)"
   ]
  },
  {
   "cell_type": "markdown",
   "metadata": {},
   "source": [
    "# Acquire Data"
   ]
  },
  {
   "cell_type": "code",
   "execution_count": 3,
   "metadata": {},
   "outputs": [],
   "source": [
    "train = pd.read_csv('train.csv')"
   ]
  },
  {
   "cell_type": "code",
   "execution_count": 4,
   "metadata": {},
   "outputs": [],
   "source": [
    "#sample train observations \n",
    "\n",
    "train_ = train.sample(1000000) "
   ]
  },
  {
   "cell_type": "code",
   "execution_count": 5,
   "metadata": {},
   "outputs": [],
   "source": [
    "test = pd.read_csv('test.csv')"
   ]
  },
  {
   "cell_type": "code",
   "execution_count": 6,
   "metadata": {},
   "outputs": [],
   "source": [
    "train_labels = pd.read_csv('train_labels.csv')"
   ]
  },
  {
   "cell_type": "code",
   "execution_count": 7,
   "metadata": {},
   "outputs": [],
   "source": [
    "specs = pd.read_csv('specs.csv')"
   ]
  },
  {
   "cell_type": "code",
   "execution_count": 111,
   "metadata": {},
   "outputs": [],
   "source": [
    "big = pd.merge(train, train_labels, how='left', on='game_session')"
   ]
  },
  {
   "cell_type": "code",
   "execution_count": 112,
   "metadata": {},
   "outputs": [
    {
     "data": {
      "text/plain": [
       "(11341042, 17)"
      ]
     },
     "execution_count": 112,
     "metadata": {},
     "output_type": "execute_result"
    }
   ],
   "source": [
    "big.shape"
   ]
  },
  {
   "cell_type": "code",
   "execution_count": 113,
   "metadata": {},
   "outputs": [
    {
     "data": {
      "text/plain": [
       "NaN    10475595\n",
       "3.0      303575\n",
       "0.0      255079\n",
       "1.0      197291\n",
       "2.0      109502\n",
       "Name: accuracy_group, dtype: int64"
      ]
     },
     "execution_count": 113,
     "metadata": {},
     "output_type": "execute_result"
    }
   ],
   "source": [
    "big.accuracy_group.value_counts(dropna=False)"
   ]
  },
  {
   "cell_type": "code",
   "execution_count": 114,
   "metadata": {},
   "outputs": [],
   "source": [
    "big = big[~big['accuracy_group'].isnull()]"
   ]
  },
  {
   "cell_type": "code",
   "execution_count": 115,
   "metadata": {},
   "outputs": [
    {
     "data": {
      "text/plain": [
       "(865447, 17)"
      ]
     },
     "execution_count": 115,
     "metadata": {},
     "output_type": "execute_result"
    }
   ],
   "source": [
    "big.shape"
   ]
  },
  {
   "cell_type": "code",
   "execution_count": 116,
   "metadata": {},
   "outputs": [
    {
     "data": {
      "text/plain": [
       "Index(['event_id', 'game_session', 'timestamp', 'event_data',\n",
       "       'installation_id_x', 'event_count', 'event_code', 'game_time',\n",
       "       'title_x', 'type', 'world', 'installation_id_y', 'title_y',\n",
       "       'num_correct', 'num_incorrect', 'accuracy', 'accuracy_group'],\n",
       "      dtype='object')"
      ]
     },
     "execution_count": 116,
     "metadata": {},
     "output_type": "execute_result"
    }
   ],
   "source": [
    "big.columns"
   ]
  },
  {
   "cell_type": "code",
   "execution_count": 117,
   "metadata": {},
   "outputs": [],
   "source": [
    "big = big.drop(columns=['installation_id_y', 'title_y'])"
   ]
  },
  {
   "cell_type": "code",
   "execution_count": 118,
   "metadata": {},
   "outputs": [
    {
     "data": {
      "text/plain": [
       "Index(['event_id', 'game_session', 'timestamp', 'event_data',\n",
       "       'installation_id_x', 'event_count', 'event_code', 'game_time',\n",
       "       'title_x', 'type', 'world', 'num_correct', 'num_incorrect', 'accuracy',\n",
       "       'accuracy_group'],\n",
       "      dtype='object')"
      ]
     },
     "execution_count": 118,
     "metadata": {},
     "output_type": "execute_result"
    }
   ],
   "source": [
    "big.columns"
   ]
  },
  {
   "cell_type": "code",
   "execution_count": 124,
   "metadata": {},
   "outputs": [],
   "source": [
    "big = big.rename(columns={'installation_id_x': 'installation_id', 'game_session': 'session'})"
   ]
  },
  {
   "cell_type": "code",
   "execution_count": 126,
   "metadata": {},
   "outputs": [],
   "source": [
    "big.rename(columns={'title_x': 'title'}, inplace=True)"
   ]
  },
  {
   "cell_type": "code",
   "execution_count": 127,
   "metadata": {},
   "outputs": [
    {
     "data": {
      "text/plain": [
       "Index(['event_id', 'session', 'timestamp', 'event_data', 'installation_id',\n",
       "       'event_count', 'event_code', 'game_time', 'title', 'type', 'world',\n",
       "       'num_correct', 'num_incorrect', 'accuracy', 'accuracy_group'],\n",
       "      dtype='object')"
      ]
     },
     "execution_count": 127,
     "metadata": {},
     "output_type": "execute_result"
    }
   ],
   "source": [
    "big.columns"
   ]
  },
  {
   "cell_type": "code",
   "execution_count": 128,
   "metadata": {},
   "outputs": [],
   "source": [
    "big.to_csv('big.csv')"
   ]
  },
  {
   "cell_type": "code",
   "execution_count": 8,
   "metadata": {},
   "outputs": [
    {
     "name": "stdout",
     "output_type": "stream",
     "text": [
      "Size of train data is (11341042, 11).\n",
      "Size of train_ data is (1000000, 11).\n",
      "Size of test data is (1156414, 11).\n",
      "Size of train_labels data is (17690, 7).\n",
      "Size of specs data is (386, 3).\n"
     ]
    }
   ],
   "source": [
    "print(f'Size of train data is {train.shape}.')\n",
    "print(f'Size of train_ data is {train_.shape}.')\n",
    "print(f'Size of test data is {test.shape}.')\n",
    "print(f'Size of train_labels data is {train_labels.shape}.')\n",
    "print(f'Size of specs data is {specs.shape}.')"
   ]
  },
  {
   "cell_type": "code",
   "execution_count": 9,
   "metadata": {},
   "outputs": [
    {
     "name": "stdout",
     "output_type": "stream",
     "text": [
      "Size of train data is (11341042, 11).\n",
      "Size of train_ data is (1000000, 11).\n",
      "Size of test data is (1156414, 11).\n",
      "Size of train_labels data is (17690, 7).\n",
      "Size of specs data is (386, 3).\n"
     ]
    }
   ],
   "source": [
    "print(f'Size of train data is {train.shape}.')\n",
    "print(f'Size of train_ data is {train_.shape}.')\n",
    "print(f'Size of test data is {test.shape}.')\n",
    "print(f'Size of train_labels data is {train_labels.shape}.')\n",
    "print(f'Size of specs data is {specs.shape}.')"
   ]
  },
  {
   "cell_type": "markdown",
   "metadata": {},
   "source": [
    "# Summarize train and train_ dfs"
   ]
  },
  {
   "cell_type": "code",
   "execution_count": 10,
   "metadata": {},
   "outputs": [
    {
     "name": "stdout",
     "output_type": "stream",
     "text": [
      "The train df has 11341042 rows and 11 columns.\n",
      "The train_ df has 1000000 rows and 11 columns.\n"
     ]
    }
   ],
   "source": [
    "print(f'The train df has {train.shape[0]} rows and {train.shape[1]} columns.')\n",
    "print(f'The train_ df has {train_.shape[0]} rows and {train_.shape[1]} columns.')"
   ]
  },
  {
   "cell_type": "code",
   "execution_count": 94,
   "metadata": {},
   "outputs": [
    {
     "data": {
      "text/plain": [
       "44"
      ]
     },
     "execution_count": 94,
     "metadata": {},
     "output_type": "execute_result"
    }
   ],
   "source": [
    "train_.title.value_counts().count()"
   ]
  },
  {
   "cell_type": "code",
   "execution_count": 26,
   "metadata": {},
   "outputs": [
    {
     "data": {
      "text/plain": [
       "'[{\"name\":\"game_time\",\"type\":\"int\",\"info\":\"millisecond count since start of game\"},{\"name\":\"round\",\"type\":\"int\",\"info\":\"number of the current round when the event takes place or 0 if no round\"},{\"name\":\"level\",\"type\":\"int\",\"info\":\"number of the current level when the event takes place or 0 if no level\"},{\"name\":\"description\",\"type\":\"string\",\"info\":\"the text or description of the instruction\"},{\"name\":\"identifier\",\"type\":\"string\",\"info\":\"a unique identifier for this piece of instruction\"},{\"name\":\"media_type\",\"type\":\"string\",\"info\":\"the type of media that has just played:\\\\n\\'audio\\' || \\'animation\\' || \\'other\\'\"},{\"name\":\"duration\",\"type\":\"int\",\"info\":\"the duration of the media playback in milliseconds\"},{\"name\":\"event_count\",\"type\":\"int\",\"info\":\"session event counter\"},{\"name\":\"event_code\",\"type\":\"int\",\"info\":\"event class identifier\"}]'"
      ]
     },
     "execution_count": 26,
     "metadata": {},
     "output_type": "execute_result"
    }
   ],
   "source": [
    "specs.args[0]"
   ]
  },
  {
   "cell_type": "code",
   "execution_count": 11,
   "metadata": {},
   "outputs": [
    {
     "data": {
      "text/html": [
       "<div>\n",
       "<style scoped>\n",
       "    .dataframe tbody tr th:only-of-type {\n",
       "        vertical-align: middle;\n",
       "    }\n",
       "\n",
       "    .dataframe tbody tr th {\n",
       "        vertical-align: top;\n",
       "    }\n",
       "\n",
       "    .dataframe thead th {\n",
       "        text-align: right;\n",
       "    }\n",
       "</style>\n",
       "<table border=\"1\" class=\"dataframe\">\n",
       "  <thead>\n",
       "    <tr style=\"text-align: right;\">\n",
       "      <th></th>\n",
       "      <th>event_id</th>\n",
       "      <th>game_session</th>\n",
       "      <th>timestamp</th>\n",
       "      <th>event_data</th>\n",
       "      <th>installation_id</th>\n",
       "      <th>event_count</th>\n",
       "      <th>event_code</th>\n",
       "      <th>game_time</th>\n",
       "      <th>title</th>\n",
       "      <th>type</th>\n",
       "      <th>world</th>\n",
       "    </tr>\n",
       "  </thead>\n",
       "  <tbody>\n",
       "    <tr>\n",
       "      <th>3072009</th>\n",
       "      <td>2dc29e21</td>\n",
       "      <td>259913ec17cb7e84</td>\n",
       "      <td>2019-10-03T12:08:27.854Z</td>\n",
       "      <td>{\"dinosaur\":\"sonny\",\"house\":{\"size\":2,\"positio...</td>\n",
       "      <td>4408d92a</td>\n",
       "      <td>13</td>\n",
       "      <td>4020</td>\n",
       "      <td>14962</td>\n",
       "      <td>All Star Sorting</td>\n",
       "      <td>Game</td>\n",
       "      <td>TREETOPCITY</td>\n",
       "    </tr>\n",
       "  </tbody>\n",
       "</table>\n",
       "</div>"
      ],
      "text/plain": [
       "         event_id      game_session                 timestamp  \\\n",
       "3072009  2dc29e21  259913ec17cb7e84  2019-10-03T12:08:27.854Z   \n",
       "\n",
       "                                                event_data installation_id  \\\n",
       "3072009  {\"dinosaur\":\"sonny\",\"house\":{\"size\":2,\"positio...        4408d92a   \n",
       "\n",
       "         event_count  event_code  game_time             title  type  \\\n",
       "3072009           13        4020      14962  All Star Sorting  Game   \n",
       "\n",
       "               world  \n",
       "3072009  TREETOPCITY  "
      ]
     },
     "execution_count": 11,
     "metadata": {},
     "output_type": "execute_result"
    }
   ],
   "source": [
    "train_.head(1)"
   ]
  },
  {
   "cell_type": "code",
   "execution_count": 98,
   "metadata": {},
   "outputs": [
    {
     "data": {
      "text/plain": [
       "array([3, 0, 2, 1])"
      ]
     },
     "execution_count": 98,
     "metadata": {},
     "output_type": "execute_result"
    }
   ],
   "source": [
    "train_labels.accuracy_group.unique()"
   ]
  },
  {
   "cell_type": "markdown",
   "metadata": {},
   "source": [
    "## Unique event_ids Associated with event_code '2000'"
   ]
  },
  {
   "cell_type": "code",
   "execution_count": 79,
   "metadata": {},
   "outputs": [
    {
     "data": {
      "text/plain": [
       "array(['7d093bf9', '27253bdc', '15ba1109', '9b01374f', '1cf54632',\n",
       "       '9b23e8ee', '6d90d394', '3bfd1a65', '29bdd9ba', 'd2278a3b',\n",
       "       '756e5507', '7ad3efc6', '4901243f', '8ac7cce4', 'b7dc8128',\n",
       "       '5b49460a', 'f56e0afc', '51311d7a', '9c5ef70c', '48349b14',\n",
       "       'c7f7f0e1', '77261ab5', 'd9c005dd', '90d848e0', 'e64e2cfd'],\n",
       "      dtype=object)"
      ]
     },
     "execution_count": 79,
     "metadata": {},
     "output_type": "execute_result"
    }
   ],
   "source": [
    "train_[train_.event_code == 2000].event_id.unique()"
   ]
  },
  {
   "cell_type": "markdown",
   "metadata": {},
   "source": [
    "## event_id Unique to 'Clip' Types"
   ]
  },
  {
   "cell_type": "code",
   "execution_count": 91,
   "metadata": {},
   "outputs": [
    {
     "data": {
      "text/plain": [
       "array(['27253bdc'], dtype=object)"
      ]
     },
     "execution_count": 91,
     "metadata": {},
     "output_type": "execute_result"
    }
   ],
   "source": [
    "train_[train_.type == 'Clip'].event_id.unique()"
   ]
  },
  {
   "cell_type": "code",
   "execution_count": 86,
   "metadata": {
    "scrolled": true
   },
   "outputs": [
    {
     "data": {
      "text/html": [
       "<div>\n",
       "<style scoped>\n",
       "    .dataframe tbody tr th:only-of-type {\n",
       "        vertical-align: middle;\n",
       "    }\n",
       "\n",
       "    .dataframe tbody tr th {\n",
       "        vertical-align: top;\n",
       "    }\n",
       "\n",
       "    .dataframe thead th {\n",
       "        text-align: right;\n",
       "    }\n",
       "</style>\n",
       "<table border=\"1\" class=\"dataframe\">\n",
       "  <thead>\n",
       "    <tr style=\"text-align: right;\">\n",
       "      <th></th>\n",
       "      <th></th>\n",
       "      <th></th>\n",
       "      <th></th>\n",
       "      <th></th>\n",
       "      <th></th>\n",
       "      <th></th>\n",
       "      <th>event_code</th>\n",
       "      <th>game_time</th>\n",
       "    </tr>\n",
       "    <tr>\n",
       "      <th>installation_id</th>\n",
       "      <th>game_session</th>\n",
       "      <th>event_id</th>\n",
       "      <th>event_count</th>\n",
       "      <th>type</th>\n",
       "      <th>title</th>\n",
       "      <th>world</th>\n",
       "      <th></th>\n",
       "      <th></th>\n",
       "    </tr>\n",
       "  </thead>\n",
       "  <tbody>\n",
       "    <tr>\n",
       "      <th rowspan=\"3\" valign=\"top\">0001e90f</th>\n",
       "      <th>091587ed87b9637c</th>\n",
       "      <th>27253bdc</th>\n",
       "      <th>1</th>\n",
       "      <th>Clip</th>\n",
       "      <th>Magma Peak - Level 2</th>\n",
       "      <th>MAGMAPEAK</th>\n",
       "      <td>2000</td>\n",
       "      <td>0</td>\n",
       "    </tr>\n",
       "    <tr>\n",
       "      <th>17eeb7f223665f53</th>\n",
       "      <th>27253bdc</th>\n",
       "      <th>1</th>\n",
       "      <th>Clip</th>\n",
       "      <th>Magma Peak - Level 1</th>\n",
       "      <th>MAGMAPEAK</th>\n",
       "      <td>2000</td>\n",
       "      <td>0</td>\n",
       "    </tr>\n",
       "    <tr>\n",
       "      <th>3fce4f09769ff0b7</th>\n",
       "      <th>27253bdc</th>\n",
       "      <th>1</th>\n",
       "      <th>Clip</th>\n",
       "      <th>Tree Top City - Level 1</th>\n",
       "      <th>TREETOPCITY</th>\n",
       "      <td>2000</td>\n",
       "      <td>0</td>\n",
       "    </tr>\n",
       "    <tr>\n",
       "      <th rowspan=\"4\" valign=\"top\">0006a69f</th>\n",
       "      <th>6806a11d2985d2f8</th>\n",
       "      <th>27253bdc</th>\n",
       "      <th>1</th>\n",
       "      <th>Clip</th>\n",
       "      <th>12 Monkeys</th>\n",
       "      <th>TREETOPCITY</th>\n",
       "      <td>2000</td>\n",
       "      <td>0</td>\n",
       "    </tr>\n",
       "    <tr>\n",
       "      <th>73e3175bfa86fa3c</th>\n",
       "      <th>27253bdc</th>\n",
       "      <th>1</th>\n",
       "      <th>Clip</th>\n",
       "      <th>Treasure Map</th>\n",
       "      <th>TREETOPCITY</th>\n",
       "      <td>2000</td>\n",
       "      <td>0</td>\n",
       "    </tr>\n",
       "    <tr>\n",
       "      <th>7fb287ace174adee</th>\n",
       "      <th>27253bdc</th>\n",
       "      <th>1</th>\n",
       "      <th>Clip</th>\n",
       "      <th>Tree Top City - Level 2</th>\n",
       "      <th>TREETOPCITY</th>\n",
       "      <td>2000</td>\n",
       "      <td>0</td>\n",
       "    </tr>\n",
       "    <tr>\n",
       "      <th>e882eb6760063bb1</th>\n",
       "      <th>27253bdc</th>\n",
       "      <th>1</th>\n",
       "      <th>Clip</th>\n",
       "      <th>Ordering Spheres</th>\n",
       "      <th>TREETOPCITY</th>\n",
       "      <td>2000</td>\n",
       "      <td>0</td>\n",
       "    </tr>\n",
       "    <tr>\n",
       "      <th rowspan=\"2\" valign=\"top\">0006c192</th>\n",
       "      <th>07f90f83b5fa0a01</th>\n",
       "      <th>27253bdc</th>\n",
       "      <th>1</th>\n",
       "      <th>Clip</th>\n",
       "      <th>Tree Top City - Level 3</th>\n",
       "      <th>TREETOPCITY</th>\n",
       "      <td>2000</td>\n",
       "      <td>0</td>\n",
       "    </tr>\n",
       "    <tr>\n",
       "      <th>56da5323fcdb652c</th>\n",
       "      <th>27253bdc</th>\n",
       "      <th>1</th>\n",
       "      <th>Clip</th>\n",
       "      <th>Rulers</th>\n",
       "      <th>TREETOPCITY</th>\n",
       "      <td>2000</td>\n",
       "      <td>0</td>\n",
       "    </tr>\n",
       "    <tr>\n",
       "      <th>0011edc8</th>\n",
       "      <th>db1d412f9f8c7ba4</th>\n",
       "      <th>27253bdc</th>\n",
       "      <th>1</th>\n",
       "      <th>Clip</th>\n",
       "      <th>Tree Top City - Level 1</th>\n",
       "      <th>TREETOPCITY</th>\n",
       "      <td>2000</td>\n",
       "      <td>0</td>\n",
       "    </tr>\n",
       "    <tr>\n",
       "      <th>0016b7cc</th>\n",
       "      <th>20058bb7a0a3e189</th>\n",
       "      <th>27253bdc</th>\n",
       "      <th>1</th>\n",
       "      <th>Clip</th>\n",
       "      <th>Tree Top City - Level 2</th>\n",
       "      <th>TREETOPCITY</th>\n",
       "      <td>2000</td>\n",
       "      <td>0</td>\n",
       "    </tr>\n",
       "    <tr>\n",
       "      <th>00195df7</th>\n",
       "      <th>dced074168a194eb</th>\n",
       "      <th>27253bdc</th>\n",
       "      <th>1</th>\n",
       "      <th>Clip</th>\n",
       "      <th>Welcome to Lost Lagoon!</th>\n",
       "      <th>NONE</th>\n",
       "      <td>2000</td>\n",
       "      <td>0</td>\n",
       "    </tr>\n",
       "    <tr>\n",
       "      <th rowspan=\"4\" valign=\"top\">001d0ed0</th>\n",
       "      <th>2a7a72d005b36537</th>\n",
       "      <th>27253bdc</th>\n",
       "      <th>1</th>\n",
       "      <th>Clip</th>\n",
       "      <th>Rulers</th>\n",
       "      <th>TREETOPCITY</th>\n",
       "      <td>2000</td>\n",
       "      <td>0</td>\n",
       "    </tr>\n",
       "    <tr>\n",
       "      <th>3d311f718cff204d</th>\n",
       "      <th>27253bdc</th>\n",
       "      <th>1</th>\n",
       "      <th>Clip</th>\n",
       "      <th>Honey Cake</th>\n",
       "      <th>CRYSTALCAVES</th>\n",
       "      <td>2000</td>\n",
       "      <td>0</td>\n",
       "    </tr>\n",
       "    <tr>\n",
       "      <th>80dc2daa4636a50f</th>\n",
       "      <th>27253bdc</th>\n",
       "      <th>1</th>\n",
       "      <th>Clip</th>\n",
       "      <th>Balancing Act</th>\n",
       "      <th>CRYSTALCAVES</th>\n",
       "      <td>2000</td>\n",
       "      <td>0</td>\n",
       "    </tr>\n",
       "    <tr>\n",
       "      <th>8d9efce2e9618d80</th>\n",
       "      <th>27253bdc</th>\n",
       "      <th>1</th>\n",
       "      <th>Clip</th>\n",
       "      <th>Crystal Caves - Level 1</th>\n",
       "      <th>CRYSTALCAVES</th>\n",
       "      <td>2000</td>\n",
       "      <td>0</td>\n",
       "    </tr>\n",
       "    <tr>\n",
       "      <th>00225f67</th>\n",
       "      <th>fe34349639799cd6</th>\n",
       "      <th>27253bdc</th>\n",
       "      <th>1</th>\n",
       "      <th>Clip</th>\n",
       "      <th>Welcome to Lost Lagoon!</th>\n",
       "      <th>NONE</th>\n",
       "      <td>2000</td>\n",
       "      <td>0</td>\n",
       "    </tr>\n",
       "    <tr>\n",
       "      <th rowspan=\"4\" valign=\"top\">00279ac5</th>\n",
       "      <th>425e866a7b1844ff</th>\n",
       "      <th>27253bdc</th>\n",
       "      <th>1</th>\n",
       "      <th>Clip</th>\n",
       "      <th>Welcome to Lost Lagoon!</th>\n",
       "      <th>NONE</th>\n",
       "      <td>2000</td>\n",
       "      <td>0</td>\n",
       "    </tr>\n",
       "    <tr>\n",
       "      <th>bd94f1a371aa41bf</th>\n",
       "      <th>27253bdc</th>\n",
       "      <th>1</th>\n",
       "      <th>Clip</th>\n",
       "      <th>Tree Top City - Level 3</th>\n",
       "      <th>TREETOPCITY</th>\n",
       "      <td>2000</td>\n",
       "      <td>0</td>\n",
       "    </tr>\n",
       "    <tr>\n",
       "      <th>dc4cc93f10d8fdbf</th>\n",
       "      <th>27253bdc</th>\n",
       "      <th>1</th>\n",
       "      <th>Clip</th>\n",
       "      <th>Welcome to Lost Lagoon!</th>\n",
       "      <th>NONE</th>\n",
       "      <td>2000</td>\n",
       "      <td>0</td>\n",
       "    </tr>\n",
       "    <tr>\n",
       "      <th>e3c1fd048350d078</th>\n",
       "      <th>27253bdc</th>\n",
       "      <th>1</th>\n",
       "      <th>Clip</th>\n",
       "      <th>Treasure Map</th>\n",
       "      <th>TREETOPCITY</th>\n",
       "      <td>2000</td>\n",
       "      <td>0</td>\n",
       "    </tr>\n",
       "    <tr>\n",
       "      <th rowspan=\"2\" valign=\"top\">002db7e3</th>\n",
       "      <th>0b4e953bc60028c2</th>\n",
       "      <th>27253bdc</th>\n",
       "      <th>1</th>\n",
       "      <th>Clip</th>\n",
       "      <th>Pirate's Tale</th>\n",
       "      <th>TREETOPCITY</th>\n",
       "      <td>2000</td>\n",
       "      <td>0</td>\n",
       "    </tr>\n",
       "    <tr>\n",
       "      <th>d4afe68add4c01d5</th>\n",
       "      <th>27253bdc</th>\n",
       "      <th>1</th>\n",
       "      <th>Clip</th>\n",
       "      <th>Tree Top City - Level 2</th>\n",
       "      <th>TREETOPCITY</th>\n",
       "      <td>2000</td>\n",
       "      <td>0</td>\n",
       "    </tr>\n",
       "    <tr>\n",
       "      <th rowspan=\"4\" valign=\"top\">003372b0</th>\n",
       "      <th>13ecc8900d28f8d6</th>\n",
       "      <th>27253bdc</th>\n",
       "      <th>1</th>\n",
       "      <th>Clip</th>\n",
       "      <th>Lifting Heavy Things</th>\n",
       "      <th>CRYSTALCAVES</th>\n",
       "      <td>2000</td>\n",
       "      <td>0</td>\n",
       "    </tr>\n",
       "    <tr>\n",
       "      <th>4eaee25d948f7d8b</th>\n",
       "      <th>27253bdc</th>\n",
       "      <th>1</th>\n",
       "      <th>Clip</th>\n",
       "      <th>Honey Cake</th>\n",
       "      <th>CRYSTALCAVES</th>\n",
       "      <td>2000</td>\n",
       "      <td>0</td>\n",
       "    </tr>\n",
       "    <tr>\n",
       "      <th>745441510b9db8df</th>\n",
       "      <th>27253bdc</th>\n",
       "      <th>1</th>\n",
       "      <th>Clip</th>\n",
       "      <th>Welcome to Lost Lagoon!</th>\n",
       "      <th>NONE</th>\n",
       "      <td>2000</td>\n",
       "      <td>0</td>\n",
       "    </tr>\n",
       "    <tr>\n",
       "      <th>89fc60686d72ddc2</th>\n",
       "      <th>27253bdc</th>\n",
       "      <th>1</th>\n",
       "      <th>Clip</th>\n",
       "      <th>Ordering Spheres</th>\n",
       "      <th>TREETOPCITY</th>\n",
       "      <td>2000</td>\n",
       "      <td>0</td>\n",
       "    </tr>\n",
       "    <tr>\n",
       "      <th>0038b87c</th>\n",
       "      <th>dc747ba1336fa698</th>\n",
       "      <th>27253bdc</th>\n",
       "      <th>1</th>\n",
       "      <th>Clip</th>\n",
       "      <th>Welcome to Lost Lagoon!</th>\n",
       "      <th>NONE</th>\n",
       "      <td>2000</td>\n",
       "      <td>0</td>\n",
       "    </tr>\n",
       "    <tr>\n",
       "      <th rowspan=\"2\" valign=\"top\">004c2091</th>\n",
       "      <th>a56caa8da96e7384</th>\n",
       "      <th>27253bdc</th>\n",
       "      <th>1</th>\n",
       "      <th>Clip</th>\n",
       "      <th>Lifting Heavy Things</th>\n",
       "      <th>CRYSTALCAVES</th>\n",
       "      <td>2000</td>\n",
       "      <td>0</td>\n",
       "    </tr>\n",
       "    <tr>\n",
       "      <th>bb786965eba70563</th>\n",
       "      <th>27253bdc</th>\n",
       "      <th>1</th>\n",
       "      <th>Clip</th>\n",
       "      <th>Heavy, Heavier, Heaviest</th>\n",
       "      <th>CRYSTALCAVES</th>\n",
       "      <td>2000</td>\n",
       "      <td>0</td>\n",
       "    </tr>\n",
       "    <tr>\n",
       "      <th>...</th>\n",
       "      <th>...</th>\n",
       "      <th>...</th>\n",
       "      <th>...</th>\n",
       "      <th>...</th>\n",
       "      <th>...</th>\n",
       "      <th>...</th>\n",
       "      <td>...</td>\n",
       "      <td>...</td>\n",
       "    </tr>\n",
       "    <tr>\n",
       "      <th rowspan=\"2\" valign=\"top\">ff90db99</th>\n",
       "      <th>d2673ea2f7d0dc28</th>\n",
       "      <th>27253bdc</th>\n",
       "      <th>1</th>\n",
       "      <th>Clip</th>\n",
       "      <th>Ordering Spheres</th>\n",
       "      <th>TREETOPCITY</th>\n",
       "      <td>2000</td>\n",
       "      <td>0</td>\n",
       "    </tr>\n",
       "    <tr>\n",
       "      <th>fa815cc05983b7bf</th>\n",
       "      <th>27253bdc</th>\n",
       "      <th>1</th>\n",
       "      <th>Clip</th>\n",
       "      <th>Welcome to Lost Lagoon!</th>\n",
       "      <th>NONE</th>\n",
       "      <td>2000</td>\n",
       "      <td>0</td>\n",
       "    </tr>\n",
       "    <tr>\n",
       "      <th>ff92b29d</th>\n",
       "      <th>f8bc28b78f7510b2</th>\n",
       "      <th>27253bdc</th>\n",
       "      <th>1</th>\n",
       "      <th>Clip</th>\n",
       "      <th>Magma Peak - Level 1</th>\n",
       "      <th>MAGMAPEAK</th>\n",
       "      <td>2000</td>\n",
       "      <td>0</td>\n",
       "    </tr>\n",
       "    <tr>\n",
       "      <th rowspan=\"2\" valign=\"top\">ff9305d7</th>\n",
       "      <th>b484e802ee51a197</th>\n",
       "      <th>27253bdc</th>\n",
       "      <th>1</th>\n",
       "      <th>Clip</th>\n",
       "      <th>Crystal Caves - Level 2</th>\n",
       "      <th>CRYSTALCAVES</th>\n",
       "      <td>2000</td>\n",
       "      <td>0</td>\n",
       "    </tr>\n",
       "    <tr>\n",
       "      <th>cdc2a9a25268d905</th>\n",
       "      <th>27253bdc</th>\n",
       "      <th>1</th>\n",
       "      <th>Clip</th>\n",
       "      <th>Ordering Spheres</th>\n",
       "      <th>TREETOPCITY</th>\n",
       "      <td>2000</td>\n",
       "      <td>0</td>\n",
       "    </tr>\n",
       "    <tr>\n",
       "      <th>ff98790b</th>\n",
       "      <th>f920085f251d9050</th>\n",
       "      <th>27253bdc</th>\n",
       "      <th>1</th>\n",
       "      <th>Clip</th>\n",
       "      <th>Welcome to Lost Lagoon!</th>\n",
       "      <th>NONE</th>\n",
       "      <td>2000</td>\n",
       "      <td>0</td>\n",
       "    </tr>\n",
       "    <tr>\n",
       "      <th>ffa31858</th>\n",
       "      <th>0515758a63c64b34</th>\n",
       "      <th>27253bdc</th>\n",
       "      <th>1</th>\n",
       "      <th>Clip</th>\n",
       "      <th>Welcome to Lost Lagoon!</th>\n",
       "      <th>NONE</th>\n",
       "      <td>2000</td>\n",
       "      <td>0</td>\n",
       "    </tr>\n",
       "    <tr>\n",
       "      <th>ffacf14c</th>\n",
       "      <th>267db7a6d9079269</th>\n",
       "      <th>27253bdc</th>\n",
       "      <th>1</th>\n",
       "      <th>Clip</th>\n",
       "      <th>Crystal Caves - Level 1</th>\n",
       "      <th>CRYSTALCAVES</th>\n",
       "      <td>2000</td>\n",
       "      <td>0</td>\n",
       "    </tr>\n",
       "    <tr>\n",
       "      <th>ffbcdbad</th>\n",
       "      <th>53a394675a26840b</th>\n",
       "      <th>27253bdc</th>\n",
       "      <th>1</th>\n",
       "      <th>Clip</th>\n",
       "      <th>Slop Problem</th>\n",
       "      <th>MAGMAPEAK</th>\n",
       "      <td>2000</td>\n",
       "      <td>0</td>\n",
       "    </tr>\n",
       "    <tr>\n",
       "      <th rowspan=\"2\" valign=\"top\">ffbd50d2</th>\n",
       "      <th>3d70279d0d20bd15</th>\n",
       "      <th>27253bdc</th>\n",
       "      <th>1</th>\n",
       "      <th>Clip</th>\n",
       "      <th>Tree Top City - Level 3</th>\n",
       "      <th>TREETOPCITY</th>\n",
       "      <td>2000</td>\n",
       "      <td>0</td>\n",
       "    </tr>\n",
       "    <tr>\n",
       "      <th>6c533e0695130eb6</th>\n",
       "      <th>27253bdc</th>\n",
       "      <th>1</th>\n",
       "      <th>Clip</th>\n",
       "      <th>Magma Peak - Level 2</th>\n",
       "      <th>MAGMAPEAK</th>\n",
       "      <td>2000</td>\n",
       "      <td>0</td>\n",
       "    </tr>\n",
       "    <tr>\n",
       "      <th rowspan=\"3\" valign=\"top\">ffc1f908</th>\n",
       "      <th>44fbc7201cf99876</th>\n",
       "      <th>27253bdc</th>\n",
       "      <th>1</th>\n",
       "      <th>Clip</th>\n",
       "      <th>Tree Top City - Level 2</th>\n",
       "      <th>TREETOPCITY</th>\n",
       "      <td>2000</td>\n",
       "      <td>0</td>\n",
       "    </tr>\n",
       "    <tr>\n",
       "      <th>7e6f30e8ec256f01</th>\n",
       "      <th>27253bdc</th>\n",
       "      <th>1</th>\n",
       "      <th>Clip</th>\n",
       "      <th>Magma Peak - Level 2</th>\n",
       "      <th>MAGMAPEAK</th>\n",
       "      <td>2000</td>\n",
       "      <td>0</td>\n",
       "    </tr>\n",
       "    <tr>\n",
       "      <th>b2b80a790fe4a1f3</th>\n",
       "      <th>27253bdc</th>\n",
       "      <th>1</th>\n",
       "      <th>Clip</th>\n",
       "      <th>Pirate's Tale</th>\n",
       "      <th>TREETOPCITY</th>\n",
       "      <td>2000</td>\n",
       "      <td>0</td>\n",
       "    </tr>\n",
       "    <tr>\n",
       "      <th>ffc4ee13</th>\n",
       "      <th>2f6ff4ea0eb84097</th>\n",
       "      <th>27253bdc</th>\n",
       "      <th>1</th>\n",
       "      <th>Clip</th>\n",
       "      <th>Tree Top City - Level 1</th>\n",
       "      <th>TREETOPCITY</th>\n",
       "      <td>2000</td>\n",
       "      <td>0</td>\n",
       "    </tr>\n",
       "    <tr>\n",
       "      <th>ffc8a31e</th>\n",
       "      <th>e81b5c61dad2efcb</th>\n",
       "      <th>27253bdc</th>\n",
       "      <th>1</th>\n",
       "      <th>Clip</th>\n",
       "      <th>Crystal Caves - Level 3</th>\n",
       "      <th>CRYSTALCAVES</th>\n",
       "      <td>2000</td>\n",
       "      <td>0</td>\n",
       "    </tr>\n",
       "    <tr>\n",
       "      <th rowspan=\"2\" valign=\"top\">ffc90c32</th>\n",
       "      <th>4faabd26cfa1bd81</th>\n",
       "      <th>27253bdc</th>\n",
       "      <th>1</th>\n",
       "      <th>Clip</th>\n",
       "      <th>Rulers</th>\n",
       "      <th>TREETOPCITY</th>\n",
       "      <td>2000</td>\n",
       "      <td>0</td>\n",
       "    </tr>\n",
       "    <tr>\n",
       "      <th>dde47a49bb05c22a</th>\n",
       "      <th>27253bdc</th>\n",
       "      <th>1</th>\n",
       "      <th>Clip</th>\n",
       "      <th>Crystal Caves - Level 2</th>\n",
       "      <th>CRYSTALCAVES</th>\n",
       "      <td>2000</td>\n",
       "      <td>0</td>\n",
       "    </tr>\n",
       "    <tr>\n",
       "      <th>ffc993c0</th>\n",
       "      <th>a0c0b3cfd702a0a4</th>\n",
       "      <th>27253bdc</th>\n",
       "      <th>1</th>\n",
       "      <th>Clip</th>\n",
       "      <th>Crystal Caves - Level 1</th>\n",
       "      <th>CRYSTALCAVES</th>\n",
       "      <td>2000</td>\n",
       "      <td>0</td>\n",
       "    </tr>\n",
       "    <tr>\n",
       "      <th>ffd2871d</th>\n",
       "      <th>e92f6067503009ce</th>\n",
       "      <th>27253bdc</th>\n",
       "      <th>1</th>\n",
       "      <th>Clip</th>\n",
       "      <th>Tree Top City - Level 1</th>\n",
       "      <th>TREETOPCITY</th>\n",
       "      <td>2000</td>\n",
       "      <td>0</td>\n",
       "    </tr>\n",
       "    <tr>\n",
       "      <th>ffd7fdf8</th>\n",
       "      <th>4a9e33370f0d4e1d</th>\n",
       "      <th>27253bdc</th>\n",
       "      <th>1</th>\n",
       "      <th>Clip</th>\n",
       "      <th>Slop Problem</th>\n",
       "      <th>MAGMAPEAK</th>\n",
       "      <td>2000</td>\n",
       "      <td>0</td>\n",
       "    </tr>\n",
       "    <tr>\n",
       "      <th>ffecb712</th>\n",
       "      <th>b8f573eae2f9e113</th>\n",
       "      <th>27253bdc</th>\n",
       "      <th>1</th>\n",
       "      <th>Clip</th>\n",
       "      <th>Tree Top City - Level 1</th>\n",
       "      <th>TREETOPCITY</th>\n",
       "      <td>2000</td>\n",
       "      <td>0</td>\n",
       "    </tr>\n",
       "    <tr>\n",
       "      <th>ffee81ed</th>\n",
       "      <th>7ac852f15ce75b70</th>\n",
       "      <th>27253bdc</th>\n",
       "      <th>1</th>\n",
       "      <th>Clip</th>\n",
       "      <th>Crystal Caves - Level 1</th>\n",
       "      <th>CRYSTALCAVES</th>\n",
       "      <td>2000</td>\n",
       "      <td>0</td>\n",
       "    </tr>\n",
       "    <tr>\n",
       "      <th>fff169ef</th>\n",
       "      <th>4bdb713c9984ce88</th>\n",
       "      <th>27253bdc</th>\n",
       "      <th>1</th>\n",
       "      <th>Clip</th>\n",
       "      <th>Magma Peak - Level 1</th>\n",
       "      <th>MAGMAPEAK</th>\n",
       "      <td>2000</td>\n",
       "      <td>0</td>\n",
       "    </tr>\n",
       "    <tr>\n",
       "      <th>fff45f15</th>\n",
       "      <th>e28e3b451c285d0d</th>\n",
       "      <th>27253bdc</th>\n",
       "      <th>1</th>\n",
       "      <th>Clip</th>\n",
       "      <th>Magma Peak - Level 1</th>\n",
       "      <th>MAGMAPEAK</th>\n",
       "      <td>2000</td>\n",
       "      <td>0</td>\n",
       "    </tr>\n",
       "    <tr>\n",
       "      <th rowspan=\"3\" valign=\"top\">fff64664</th>\n",
       "      <th>57410f41d77ae34a</th>\n",
       "      <th>27253bdc</th>\n",
       "      <th>1</th>\n",
       "      <th>Clip</th>\n",
       "      <th>Crystal Caves - Level 3</th>\n",
       "      <th>CRYSTALCAVES</th>\n",
       "      <td>2000</td>\n",
       "      <td>0</td>\n",
       "    </tr>\n",
       "    <tr>\n",
       "      <th>e31e3ffab1bb5b7a</th>\n",
       "      <th>27253bdc</th>\n",
       "      <th>1</th>\n",
       "      <th>Clip</th>\n",
       "      <th>Crystal Caves - Level 3</th>\n",
       "      <th>CRYSTALCAVES</th>\n",
       "      <td>2000</td>\n",
       "      <td>0</td>\n",
       "    </tr>\n",
       "    <tr>\n",
       "      <th>f3d2e510e8c01d0e</th>\n",
       "      <th>27253bdc</th>\n",
       "      <th>1</th>\n",
       "      <th>Clip</th>\n",
       "      <th>Magma Peak - Level 1</th>\n",
       "      <th>MAGMAPEAK</th>\n",
       "      <td>2000</td>\n",
       "      <td>0</td>\n",
       "    </tr>\n",
       "    <tr>\n",
       "      <th>fff70c1e</th>\n",
       "      <th>d62cd851852ebd28</th>\n",
       "      <th>27253bdc</th>\n",
       "      <th>1</th>\n",
       "      <th>Clip</th>\n",
       "      <th>Crystal Caves - Level 1</th>\n",
       "      <th>CRYSTALCAVES</th>\n",
       "      <td>2000</td>\n",
       "      <td>0</td>\n",
       "    </tr>\n",
       "    <tr>\n",
       "      <th>fffc0583</th>\n",
       "      <th>71904dca23b982c6</th>\n",
       "      <th>27253bdc</th>\n",
       "      <th>1</th>\n",
       "      <th>Clip</th>\n",
       "      <th>Crystal Caves - Level 3</th>\n",
       "      <th>CRYSTALCAVES</th>\n",
       "      <td>2000</td>\n",
       "      <td>0</td>\n",
       "    </tr>\n",
       "  </tbody>\n",
       "</table>\n",
       "<p>16122 rows × 2 columns</p>\n",
       "</div>"
      ],
      "text/plain": [
       "                                                                                                  event_code  \\\n",
       "installation_id game_session     event_id event_count type title                    world                      \n",
       "0001e90f        091587ed87b9637c 27253bdc 1           Clip Magma Peak - Level 2     MAGMAPEAK           2000   \n",
       "                17eeb7f223665f53 27253bdc 1           Clip Magma Peak - Level 1     MAGMAPEAK           2000   \n",
       "                3fce4f09769ff0b7 27253bdc 1           Clip Tree Top City - Level 1  TREETOPCITY         2000   \n",
       "0006a69f        6806a11d2985d2f8 27253bdc 1           Clip 12 Monkeys               TREETOPCITY         2000   \n",
       "                73e3175bfa86fa3c 27253bdc 1           Clip Treasure Map             TREETOPCITY         2000   \n",
       "                7fb287ace174adee 27253bdc 1           Clip Tree Top City - Level 2  TREETOPCITY         2000   \n",
       "                e882eb6760063bb1 27253bdc 1           Clip Ordering Spheres         TREETOPCITY         2000   \n",
       "0006c192        07f90f83b5fa0a01 27253bdc 1           Clip Tree Top City - Level 3  TREETOPCITY         2000   \n",
       "                56da5323fcdb652c 27253bdc 1           Clip Rulers                   TREETOPCITY         2000   \n",
       "0011edc8        db1d412f9f8c7ba4 27253bdc 1           Clip Tree Top City - Level 1  TREETOPCITY         2000   \n",
       "0016b7cc        20058bb7a0a3e189 27253bdc 1           Clip Tree Top City - Level 2  TREETOPCITY         2000   \n",
       "00195df7        dced074168a194eb 27253bdc 1           Clip Welcome to Lost Lagoon!  NONE                2000   \n",
       "001d0ed0        2a7a72d005b36537 27253bdc 1           Clip Rulers                   TREETOPCITY         2000   \n",
       "                3d311f718cff204d 27253bdc 1           Clip Honey Cake               CRYSTALCAVES        2000   \n",
       "                80dc2daa4636a50f 27253bdc 1           Clip Balancing Act            CRYSTALCAVES        2000   \n",
       "                8d9efce2e9618d80 27253bdc 1           Clip Crystal Caves - Level 1  CRYSTALCAVES        2000   \n",
       "00225f67        fe34349639799cd6 27253bdc 1           Clip Welcome to Lost Lagoon!  NONE                2000   \n",
       "00279ac5        425e866a7b1844ff 27253bdc 1           Clip Welcome to Lost Lagoon!  NONE                2000   \n",
       "                bd94f1a371aa41bf 27253bdc 1           Clip Tree Top City - Level 3  TREETOPCITY         2000   \n",
       "                dc4cc93f10d8fdbf 27253bdc 1           Clip Welcome to Lost Lagoon!  NONE                2000   \n",
       "                e3c1fd048350d078 27253bdc 1           Clip Treasure Map             TREETOPCITY         2000   \n",
       "002db7e3        0b4e953bc60028c2 27253bdc 1           Clip Pirate's Tale            TREETOPCITY         2000   \n",
       "                d4afe68add4c01d5 27253bdc 1           Clip Tree Top City - Level 2  TREETOPCITY         2000   \n",
       "003372b0        13ecc8900d28f8d6 27253bdc 1           Clip Lifting Heavy Things     CRYSTALCAVES        2000   \n",
       "                4eaee25d948f7d8b 27253bdc 1           Clip Honey Cake               CRYSTALCAVES        2000   \n",
       "                745441510b9db8df 27253bdc 1           Clip Welcome to Lost Lagoon!  NONE                2000   \n",
       "                89fc60686d72ddc2 27253bdc 1           Clip Ordering Spheres         TREETOPCITY         2000   \n",
       "0038b87c        dc747ba1336fa698 27253bdc 1           Clip Welcome to Lost Lagoon!  NONE                2000   \n",
       "004c2091        a56caa8da96e7384 27253bdc 1           Clip Lifting Heavy Things     CRYSTALCAVES        2000   \n",
       "                bb786965eba70563 27253bdc 1           Clip Heavy, Heavier, Heaviest CRYSTALCAVES        2000   \n",
       "...                                                                                                      ...   \n",
       "ff90db99        d2673ea2f7d0dc28 27253bdc 1           Clip Ordering Spheres         TREETOPCITY         2000   \n",
       "                fa815cc05983b7bf 27253bdc 1           Clip Welcome to Lost Lagoon!  NONE                2000   \n",
       "ff92b29d        f8bc28b78f7510b2 27253bdc 1           Clip Magma Peak - Level 1     MAGMAPEAK           2000   \n",
       "ff9305d7        b484e802ee51a197 27253bdc 1           Clip Crystal Caves - Level 2  CRYSTALCAVES        2000   \n",
       "                cdc2a9a25268d905 27253bdc 1           Clip Ordering Spheres         TREETOPCITY         2000   \n",
       "ff98790b        f920085f251d9050 27253bdc 1           Clip Welcome to Lost Lagoon!  NONE                2000   \n",
       "ffa31858        0515758a63c64b34 27253bdc 1           Clip Welcome to Lost Lagoon!  NONE                2000   \n",
       "ffacf14c        267db7a6d9079269 27253bdc 1           Clip Crystal Caves - Level 1  CRYSTALCAVES        2000   \n",
       "ffbcdbad        53a394675a26840b 27253bdc 1           Clip Slop Problem             MAGMAPEAK           2000   \n",
       "ffbd50d2        3d70279d0d20bd15 27253bdc 1           Clip Tree Top City - Level 3  TREETOPCITY         2000   \n",
       "                6c533e0695130eb6 27253bdc 1           Clip Magma Peak - Level 2     MAGMAPEAK           2000   \n",
       "ffc1f908        44fbc7201cf99876 27253bdc 1           Clip Tree Top City - Level 2  TREETOPCITY         2000   \n",
       "                7e6f30e8ec256f01 27253bdc 1           Clip Magma Peak - Level 2     MAGMAPEAK           2000   \n",
       "                b2b80a790fe4a1f3 27253bdc 1           Clip Pirate's Tale            TREETOPCITY         2000   \n",
       "ffc4ee13        2f6ff4ea0eb84097 27253bdc 1           Clip Tree Top City - Level 1  TREETOPCITY         2000   \n",
       "ffc8a31e        e81b5c61dad2efcb 27253bdc 1           Clip Crystal Caves - Level 3  CRYSTALCAVES        2000   \n",
       "ffc90c32        4faabd26cfa1bd81 27253bdc 1           Clip Rulers                   TREETOPCITY         2000   \n",
       "                dde47a49bb05c22a 27253bdc 1           Clip Crystal Caves - Level 2  CRYSTALCAVES        2000   \n",
       "ffc993c0        a0c0b3cfd702a0a4 27253bdc 1           Clip Crystal Caves - Level 1  CRYSTALCAVES        2000   \n",
       "ffd2871d        e92f6067503009ce 27253bdc 1           Clip Tree Top City - Level 1  TREETOPCITY         2000   \n",
       "ffd7fdf8        4a9e33370f0d4e1d 27253bdc 1           Clip Slop Problem             MAGMAPEAK           2000   \n",
       "ffecb712        b8f573eae2f9e113 27253bdc 1           Clip Tree Top City - Level 1  TREETOPCITY         2000   \n",
       "ffee81ed        7ac852f15ce75b70 27253bdc 1           Clip Crystal Caves - Level 1  CRYSTALCAVES        2000   \n",
       "fff169ef        4bdb713c9984ce88 27253bdc 1           Clip Magma Peak - Level 1     MAGMAPEAK           2000   \n",
       "fff45f15        e28e3b451c285d0d 27253bdc 1           Clip Magma Peak - Level 1     MAGMAPEAK           2000   \n",
       "fff64664        57410f41d77ae34a 27253bdc 1           Clip Crystal Caves - Level 3  CRYSTALCAVES        2000   \n",
       "                e31e3ffab1bb5b7a 27253bdc 1           Clip Crystal Caves - Level 3  CRYSTALCAVES        2000   \n",
       "                f3d2e510e8c01d0e 27253bdc 1           Clip Magma Peak - Level 1     MAGMAPEAK           2000   \n",
       "fff70c1e        d62cd851852ebd28 27253bdc 1           Clip Crystal Caves - Level 1  CRYSTALCAVES        2000   \n",
       "fffc0583        71904dca23b982c6 27253bdc 1           Clip Crystal Caves - Level 3  CRYSTALCAVES        2000   \n",
       "\n",
       "                                                                                                  game_time  \n",
       "installation_id game_session     event_id event_count type title                    world                    \n",
       "0001e90f        091587ed87b9637c 27253bdc 1           Clip Magma Peak - Level 2     MAGMAPEAK             0  \n",
       "                17eeb7f223665f53 27253bdc 1           Clip Magma Peak - Level 1     MAGMAPEAK             0  \n",
       "                3fce4f09769ff0b7 27253bdc 1           Clip Tree Top City - Level 1  TREETOPCITY           0  \n",
       "0006a69f        6806a11d2985d2f8 27253bdc 1           Clip 12 Monkeys               TREETOPCITY           0  \n",
       "                73e3175bfa86fa3c 27253bdc 1           Clip Treasure Map             TREETOPCITY           0  \n",
       "                7fb287ace174adee 27253bdc 1           Clip Tree Top City - Level 2  TREETOPCITY           0  \n",
       "                e882eb6760063bb1 27253bdc 1           Clip Ordering Spheres         TREETOPCITY           0  \n",
       "0006c192        07f90f83b5fa0a01 27253bdc 1           Clip Tree Top City - Level 3  TREETOPCITY           0  \n",
       "                56da5323fcdb652c 27253bdc 1           Clip Rulers                   TREETOPCITY           0  \n",
       "0011edc8        db1d412f9f8c7ba4 27253bdc 1           Clip Tree Top City - Level 1  TREETOPCITY           0  \n",
       "0016b7cc        20058bb7a0a3e189 27253bdc 1           Clip Tree Top City - Level 2  TREETOPCITY           0  \n",
       "00195df7        dced074168a194eb 27253bdc 1           Clip Welcome to Lost Lagoon!  NONE                  0  \n",
       "001d0ed0        2a7a72d005b36537 27253bdc 1           Clip Rulers                   TREETOPCITY           0  \n",
       "                3d311f718cff204d 27253bdc 1           Clip Honey Cake               CRYSTALCAVES          0  \n",
       "                80dc2daa4636a50f 27253bdc 1           Clip Balancing Act            CRYSTALCAVES          0  \n",
       "                8d9efce2e9618d80 27253bdc 1           Clip Crystal Caves - Level 1  CRYSTALCAVES          0  \n",
       "00225f67        fe34349639799cd6 27253bdc 1           Clip Welcome to Lost Lagoon!  NONE                  0  \n",
       "00279ac5        425e866a7b1844ff 27253bdc 1           Clip Welcome to Lost Lagoon!  NONE                  0  \n",
       "                bd94f1a371aa41bf 27253bdc 1           Clip Tree Top City - Level 3  TREETOPCITY           0  \n",
       "                dc4cc93f10d8fdbf 27253bdc 1           Clip Welcome to Lost Lagoon!  NONE                  0  \n",
       "                e3c1fd048350d078 27253bdc 1           Clip Treasure Map             TREETOPCITY           0  \n",
       "002db7e3        0b4e953bc60028c2 27253bdc 1           Clip Pirate's Tale            TREETOPCITY           0  \n",
       "                d4afe68add4c01d5 27253bdc 1           Clip Tree Top City - Level 2  TREETOPCITY           0  \n",
       "003372b0        13ecc8900d28f8d6 27253bdc 1           Clip Lifting Heavy Things     CRYSTALCAVES          0  \n",
       "                4eaee25d948f7d8b 27253bdc 1           Clip Honey Cake               CRYSTALCAVES          0  \n",
       "                745441510b9db8df 27253bdc 1           Clip Welcome to Lost Lagoon!  NONE                  0  \n",
       "                89fc60686d72ddc2 27253bdc 1           Clip Ordering Spheres         TREETOPCITY           0  \n",
       "0038b87c        dc747ba1336fa698 27253bdc 1           Clip Welcome to Lost Lagoon!  NONE                  0  \n",
       "004c2091        a56caa8da96e7384 27253bdc 1           Clip Lifting Heavy Things     CRYSTALCAVES          0  \n",
       "                bb786965eba70563 27253bdc 1           Clip Heavy, Heavier, Heaviest CRYSTALCAVES          0  \n",
       "...                                                                                                     ...  \n",
       "ff90db99        d2673ea2f7d0dc28 27253bdc 1           Clip Ordering Spheres         TREETOPCITY           0  \n",
       "                fa815cc05983b7bf 27253bdc 1           Clip Welcome to Lost Lagoon!  NONE                  0  \n",
       "ff92b29d        f8bc28b78f7510b2 27253bdc 1           Clip Magma Peak - Level 1     MAGMAPEAK             0  \n",
       "ff9305d7        b484e802ee51a197 27253bdc 1           Clip Crystal Caves - Level 2  CRYSTALCAVES          0  \n",
       "                cdc2a9a25268d905 27253bdc 1           Clip Ordering Spheres         TREETOPCITY           0  \n",
       "ff98790b        f920085f251d9050 27253bdc 1           Clip Welcome to Lost Lagoon!  NONE                  0  \n",
       "ffa31858        0515758a63c64b34 27253bdc 1           Clip Welcome to Lost Lagoon!  NONE                  0  \n",
       "ffacf14c        267db7a6d9079269 27253bdc 1           Clip Crystal Caves - Level 1  CRYSTALCAVES          0  \n",
       "ffbcdbad        53a394675a26840b 27253bdc 1           Clip Slop Problem             MAGMAPEAK             0  \n",
       "ffbd50d2        3d70279d0d20bd15 27253bdc 1           Clip Tree Top City - Level 3  TREETOPCITY           0  \n",
       "                6c533e0695130eb6 27253bdc 1           Clip Magma Peak - Level 2     MAGMAPEAK             0  \n",
       "ffc1f908        44fbc7201cf99876 27253bdc 1           Clip Tree Top City - Level 2  TREETOPCITY           0  \n",
       "                7e6f30e8ec256f01 27253bdc 1           Clip Magma Peak - Level 2     MAGMAPEAK             0  \n",
       "                b2b80a790fe4a1f3 27253bdc 1           Clip Pirate's Tale            TREETOPCITY           0  \n",
       "ffc4ee13        2f6ff4ea0eb84097 27253bdc 1           Clip Tree Top City - Level 1  TREETOPCITY           0  \n",
       "ffc8a31e        e81b5c61dad2efcb 27253bdc 1           Clip Crystal Caves - Level 3  CRYSTALCAVES          0  \n",
       "ffc90c32        4faabd26cfa1bd81 27253bdc 1           Clip Rulers                   TREETOPCITY           0  \n",
       "                dde47a49bb05c22a 27253bdc 1           Clip Crystal Caves - Level 2  CRYSTALCAVES          0  \n",
       "ffc993c0        a0c0b3cfd702a0a4 27253bdc 1           Clip Crystal Caves - Level 1  CRYSTALCAVES          0  \n",
       "ffd2871d        e92f6067503009ce 27253bdc 1           Clip Tree Top City - Level 1  TREETOPCITY           0  \n",
       "ffd7fdf8        4a9e33370f0d4e1d 27253bdc 1           Clip Slop Problem             MAGMAPEAK             0  \n",
       "ffecb712        b8f573eae2f9e113 27253bdc 1           Clip Tree Top City - Level 1  TREETOPCITY           0  \n",
       "ffee81ed        7ac852f15ce75b70 27253bdc 1           Clip Crystal Caves - Level 1  CRYSTALCAVES          0  \n",
       "fff169ef        4bdb713c9984ce88 27253bdc 1           Clip Magma Peak - Level 1     MAGMAPEAK             0  \n",
       "fff45f15        e28e3b451c285d0d 27253bdc 1           Clip Magma Peak - Level 1     MAGMAPEAK             0  \n",
       "fff64664        57410f41d77ae34a 27253bdc 1           Clip Crystal Caves - Level 3  CRYSTALCAVES          0  \n",
       "                e31e3ffab1bb5b7a 27253bdc 1           Clip Crystal Caves - Level 3  CRYSTALCAVES          0  \n",
       "                f3d2e510e8c01d0e 27253bdc 1           Clip Magma Peak - Level 1     MAGMAPEAK             0  \n",
       "fff70c1e        d62cd851852ebd28 27253bdc 1           Clip Crystal Caves - Level 1  CRYSTALCAVES          0  \n",
       "fffc0583        71904dca23b982c6 27253bdc 1           Clip Crystal Caves - Level 3  CRYSTALCAVES          0  \n",
       "\n",
       "[16122 rows x 2 columns]"
      ]
     },
     "execution_count": 86,
     "metadata": {},
     "output_type": "execute_result"
    }
   ],
   "source": [
    "train_[train_.event_id == '27253bdc'].groupby(['installation_id', 'game_session','event_id','event_count', 'type','title', 'world']).mean()"
   ]
  },
  {
   "cell_type": "code",
   "execution_count": 55,
   "metadata": {},
   "outputs": [
    {
     "data": {
      "text/html": [
       "<div>\n",
       "<style scoped>\n",
       "    .dataframe tbody tr th:only-of-type {\n",
       "        vertical-align: middle;\n",
       "    }\n",
       "\n",
       "    .dataframe tbody tr th {\n",
       "        vertical-align: top;\n",
       "    }\n",
       "\n",
       "    .dataframe thead th {\n",
       "        text-align: right;\n",
       "    }\n",
       "</style>\n",
       "<table border=\"1\" class=\"dataframe\">\n",
       "  <thead>\n",
       "    <tr style=\"text-align: right;\">\n",
       "      <th></th>\n",
       "      <th></th>\n",
       "      <th></th>\n",
       "      <th></th>\n",
       "      <th></th>\n",
       "      <th></th>\n",
       "      <th></th>\n",
       "      <th></th>\n",
       "      <th>event_code</th>\n",
       "      <th>game_time</th>\n",
       "    </tr>\n",
       "    <tr>\n",
       "      <th>installation_id</th>\n",
       "      <th>game_session</th>\n",
       "      <th>event_id</th>\n",
       "      <th>event_count</th>\n",
       "      <th>type</th>\n",
       "      <th>title</th>\n",
       "      <th>world</th>\n",
       "      <th>timestamp</th>\n",
       "      <th></th>\n",
       "      <th></th>\n",
       "    </tr>\n",
       "  </thead>\n",
       "  <tbody>\n",
       "    <tr>\n",
       "      <th rowspan=\"30\" valign=\"top\">0001e90f</th>\n",
       "      <th rowspan=\"17\" valign=\"top\">07bacda7f9437b38</th>\n",
       "      <th rowspan=\"2\" valign=\"top\">1996c610</th>\n",
       "      <th>62</th>\n",
       "      <th>Game</th>\n",
       "      <th>Dino Drink</th>\n",
       "      <th>MAGMAPEAK</th>\n",
       "      <th>2019-09-06T18:13:31.864Z</th>\n",
       "      <td>4031</td>\n",
       "      <td>123510</td>\n",
       "    </tr>\n",
       "    <tr>\n",
       "      <th>84</th>\n",
       "      <th>Game</th>\n",
       "      <th>Dino Drink</th>\n",
       "      <th>MAGMAPEAK</th>\n",
       "      <th>2019-09-06T18:13:53.681Z</th>\n",
       "      <td>4031</td>\n",
       "      <td>145329</td>\n",
       "    </tr>\n",
       "    <tr>\n",
       "      <th>4d911100</th>\n",
       "      <th>137</th>\n",
       "      <th>Game</th>\n",
       "      <th>Dino Drink</th>\n",
       "      <th>MAGMAPEAK</th>\n",
       "      <th>2019-09-06T18:15:26.319Z</th>\n",
       "      <td>3121</td>\n",
       "      <td>237969</td>\n",
       "    </tr>\n",
       "    <tr>\n",
       "      <th>51311d7a</th>\n",
       "      <th>1</th>\n",
       "      <th>Game</th>\n",
       "      <th>Dino Drink</th>\n",
       "      <th>MAGMAPEAK</th>\n",
       "      <th>2019-09-06T18:11:28.381Z</th>\n",
       "      <td>2000</td>\n",
       "      <td>0</td>\n",
       "    </tr>\n",
       "    <tr>\n",
       "      <th rowspan=\"4\" valign=\"top\">6c517a88</th>\n",
       "      <th>7</th>\n",
       "      <th>Game</th>\n",
       "      <th>Dino Drink</th>\n",
       "      <th>MAGMAPEAK</th>\n",
       "      <th>2019-09-06T18:11:45.065Z</th>\n",
       "      <td>4070</td>\n",
       "      <td>16703</td>\n",
       "    </tr>\n",
       "    <tr>\n",
       "      <th>74</th>\n",
       "      <th>Game</th>\n",
       "      <th>Dino Drink</th>\n",
       "      <th>MAGMAPEAK</th>\n",
       "      <th>2019-09-06T18:13:45.641Z</th>\n",
       "      <td>4070</td>\n",
       "      <td>137278</td>\n",
       "    </tr>\n",
       "    <tr>\n",
       "      <th>93</th>\n",
       "      <th>Game</th>\n",
       "      <th>Dino Drink</th>\n",
       "      <th>MAGMAPEAK</th>\n",
       "      <th>2019-09-06T18:14:06.332Z</th>\n",
       "      <td>4070</td>\n",
       "      <td>157963</td>\n",
       "    </tr>\n",
       "    <tr>\n",
       "      <th>105</th>\n",
       "      <th>Game</th>\n",
       "      <th>Dino Drink</th>\n",
       "      <th>MAGMAPEAK</th>\n",
       "      <th>2019-09-06T18:14:30.911Z</th>\n",
       "      <td>4070</td>\n",
       "      <td>182548</td>\n",
       "    </tr>\n",
       "    <tr>\n",
       "      <th>74e5f8a7</th>\n",
       "      <th>39</th>\n",
       "      <th>Game</th>\n",
       "      <th>Dino Drink</th>\n",
       "      <th>MAGMAPEAK</th>\n",
       "      <th>2019-09-06T18:12:56.042Z</th>\n",
       "      <td>4020</td>\n",
       "      <td>87691</td>\n",
       "    </tr>\n",
       "    <tr>\n",
       "      <th>77ead60d</th>\n",
       "      <th>59</th>\n",
       "      <th>Game</th>\n",
       "      <th>Dino Drink</th>\n",
       "      <th>MAGMAPEAK</th>\n",
       "      <th>2019-09-06T18:13:23.831Z</th>\n",
       "      <td>3021</td>\n",
       "      <td>115476</td>\n",
       "    </tr>\n",
       "    <tr>\n",
       "      <th rowspan=\"3\" valign=\"top\">792530f8</th>\n",
       "      <th>47</th>\n",
       "      <th>Game</th>\n",
       "      <th>Dino Drink</th>\n",
       "      <th>MAGMAPEAK</th>\n",
       "      <th>2019-09-06T18:13:05.263Z</th>\n",
       "      <td>4030</td>\n",
       "      <td>96892</td>\n",
       "    </tr>\n",
       "    <tr>\n",
       "      <th>70</th>\n",
       "      <th>Game</th>\n",
       "      <th>Dino Drink</th>\n",
       "      <th>MAGMAPEAK</th>\n",
       "      <th>2019-09-06T18:13:40.776Z</th>\n",
       "      <td>4030</td>\n",
       "      <td>132411</td>\n",
       "    </tr>\n",
       "    <tr>\n",
       "      <th>99</th>\n",
       "      <th>Game</th>\n",
       "      <th>Dino Drink</th>\n",
       "      <th>MAGMAPEAK</th>\n",
       "      <th>2019-09-06T18:14:18.782Z</th>\n",
       "      <td>4030</td>\n",
       "      <td>170414</td>\n",
       "    </tr>\n",
       "    <tr>\n",
       "      <th rowspan=\"3\" valign=\"top\">7f0836bf</th>\n",
       "      <th>20</th>\n",
       "      <th>Game</th>\n",
       "      <th>Dino Drink</th>\n",
       "      <th>MAGMAPEAK</th>\n",
       "      <th>2019-09-06T18:11:58.809Z</th>\n",
       "      <td>3110</td>\n",
       "      <td>30454</td>\n",
       "    </tr>\n",
       "    <tr>\n",
       "      <th>26</th>\n",
       "      <th>Game</th>\n",
       "      <th>Dino Drink</th>\n",
       "      <th>MAGMAPEAK</th>\n",
       "      <th>2019-09-06T18:12:22.927Z</th>\n",
       "      <td>3110</td>\n",
       "      <td>54572</td>\n",
       "    </tr>\n",
       "    <tr>\n",
       "      <th>55</th>\n",
       "      <th>Game</th>\n",
       "      <th>Dino Drink</th>\n",
       "      <th>MAGMAPEAK</th>\n",
       "      <th>2019-09-06T18:13:17.463Z</th>\n",
       "      <td>3110</td>\n",
       "      <td>109109</td>\n",
       "    </tr>\n",
       "    <tr>\n",
       "      <th>f806dc10</th>\n",
       "      <th>54</th>\n",
       "      <th>Game</th>\n",
       "      <th>Dino Drink</th>\n",
       "      <th>MAGMAPEAK</th>\n",
       "      <th>2019-09-06T18:13:13.717Z</th>\n",
       "      <td>2020</td>\n",
       "      <td>105326</td>\n",
       "    </tr>\n",
       "    <tr>\n",
       "      <th rowspan=\"13\" valign=\"top\">0848ef14a8dc6892</th>\n",
       "      <th rowspan=\"10\" valign=\"top\">1325467d</th>\n",
       "      <th>5</th>\n",
       "      <th>Activity</th>\n",
       "      <th>Sandcastle Builder (Activity)</th>\n",
       "      <th>MAGMAPEAK</th>\n",
       "      <th>2019-09-06T17:55:06.913Z</th>\n",
       "      <td>4070</td>\n",
       "      <td>10622</td>\n",
       "    </tr>\n",
       "    <tr>\n",
       "      <th>8</th>\n",
       "      <th>Activity</th>\n",
       "      <th>Sandcastle Builder (Activity)</th>\n",
       "      <th>MAGMAPEAK</th>\n",
       "      <th>2019-09-06T17:55:08.566Z</th>\n",
       "      <td>4070</td>\n",
       "      <td>12272</td>\n",
       "    </tr>\n",
       "    <tr>\n",
       "      <th>10</th>\n",
       "      <th>Activity</th>\n",
       "      <th>Sandcastle Builder (Activity)</th>\n",
       "      <th>MAGMAPEAK</th>\n",
       "      <th>2019-09-06T17:55:09.673Z</th>\n",
       "      <td>4070</td>\n",
       "      <td>13389</td>\n",
       "    </tr>\n",
       "    <tr>\n",
       "      <th>28</th>\n",
       "      <th>Activity</th>\n",
       "      <th>Sandcastle Builder (Activity)</th>\n",
       "      <th>MAGMAPEAK</th>\n",
       "      <th>2019-09-06T17:55:14.864Z</th>\n",
       "      <td>4070</td>\n",
       "      <td>18573</td>\n",
       "    </tr>\n",
       "    <tr>\n",
       "      <th>41</th>\n",
       "      <th>Activity</th>\n",
       "      <th>Sandcastle Builder (Activity)</th>\n",
       "      <th>MAGMAPEAK</th>\n",
       "      <th>2019-09-06T17:55:21.477Z</th>\n",
       "      <td>4070</td>\n",
       "      <td>25190</td>\n",
       "    </tr>\n",
       "    <tr>\n",
       "      <th>90</th>\n",
       "      <th>Activity</th>\n",
       "      <th>Sandcastle Builder (Activity)</th>\n",
       "      <th>MAGMAPEAK</th>\n",
       "      <th>2019-09-06T17:55:41.842Z</th>\n",
       "      <td>4070</td>\n",
       "      <td>45542</td>\n",
       "    </tr>\n",
       "    <tr>\n",
       "      <th>121</th>\n",
       "      <th>Activity</th>\n",
       "      <th>Sandcastle Builder (Activity)</th>\n",
       "      <th>MAGMAPEAK</th>\n",
       "      <th>2019-09-06T17:55:50.338Z</th>\n",
       "      <td>4070</td>\n",
       "      <td>54042</td>\n",
       "    </tr>\n",
       "    <tr>\n",
       "      <th>162</th>\n",
       "      <th>Activity</th>\n",
       "      <th>Sandcastle Builder (Activity)</th>\n",
       "      <th>MAGMAPEAK</th>\n",
       "      <th>2019-09-06T17:56:19.500Z</th>\n",
       "      <td>4070</td>\n",
       "      <td>83211</td>\n",
       "    </tr>\n",
       "    <tr>\n",
       "      <th>173</th>\n",
       "      <th>Activity</th>\n",
       "      <th>Sandcastle Builder (Activity)</th>\n",
       "      <th>MAGMAPEAK</th>\n",
       "      <th>2019-09-06T17:56:36.983Z</th>\n",
       "      <td>4070</td>\n",
       "      <td>100695</td>\n",
       "    </tr>\n",
       "    <tr>\n",
       "      <th>241</th>\n",
       "      <th>Activity</th>\n",
       "      <th>Sandcastle Builder (Activity)</th>\n",
       "      <th>MAGMAPEAK</th>\n",
       "      <th>2019-09-06T17:57:34.739Z</th>\n",
       "      <td>4070</td>\n",
       "      <td>158449</td>\n",
       "    </tr>\n",
       "    <tr>\n",
       "      <th>1bb5fbdb</th>\n",
       "      <th>178</th>\n",
       "      <th>Activity</th>\n",
       "      <th>Sandcastle Builder (Activity)</th>\n",
       "      <th>MAGMAPEAK</th>\n",
       "      <th>2019-09-06T17:56:39.392Z</th>\n",
       "      <td>3110</td>\n",
       "      <td>103113</td>\n",
       "    </tr>\n",
       "    <tr>\n",
       "      <th rowspan=\"2\" valign=\"top\">5e812b27</th>\n",
       "      <th>71</th>\n",
       "      <th>Activity</th>\n",
       "      <th>Sandcastle Builder (Activity)</th>\n",
       "      <th>MAGMAPEAK</th>\n",
       "      <th>2019-09-06T17:55:34.121Z</th>\n",
       "      <td>4030</td>\n",
       "      <td>37824</td>\n",
       "    </tr>\n",
       "    <tr>\n",
       "      <th>165</th>\n",
       "      <th>Activity</th>\n",
       "      <th>Sandcastle Builder (Activity)</th>\n",
       "      <th>MAGMAPEAK</th>\n",
       "      <th>2019-09-06T17:56:23.025Z</th>\n",
       "      <td>4030</td>\n",
       "      <td>86728</td>\n",
       "    </tr>\n",
       "    <tr>\n",
       "      <th>...</th>\n",
       "      <th>...</th>\n",
       "      <th>...</th>\n",
       "      <th>...</th>\n",
       "      <th>...</th>\n",
       "      <th>...</th>\n",
       "      <th>...</th>\n",
       "      <th>...</th>\n",
       "      <td>...</td>\n",
       "      <td>...</td>\n",
       "    </tr>\n",
       "    <tr>\n",
       "      <th rowspan=\"2\" valign=\"top\">fff944d5</th>\n",
       "      <th rowspan=\"2\" valign=\"top\">716bc389c62cd32d</th>\n",
       "      <th rowspan=\"2\" valign=\"top\">b2dba42b</th>\n",
       "      <th>20</th>\n",
       "      <th>Activity</th>\n",
       "      <th>Sandcastle Builder (Activity)</th>\n",
       "      <th>MAGMAPEAK</th>\n",
       "      <th>2019-08-23T21:49:05.384Z</th>\n",
       "      <td>3010</td>\n",
       "      <td>19747</td>\n",
       "    </tr>\n",
       "    <tr>\n",
       "      <th>89</th>\n",
       "      <th>Activity</th>\n",
       "      <th>Sandcastle Builder (Activity)</th>\n",
       "      <th>MAGMAPEAK</th>\n",
       "      <th>2019-08-23T21:49:57.910Z</th>\n",
       "      <td>3010</td>\n",
       "      <td>72264</td>\n",
       "    </tr>\n",
       "    <tr>\n",
       "      <th rowspan=\"28\" valign=\"top\">fffc0583</th>\n",
       "      <th>71904dca23b982c6</th>\n",
       "      <th>27253bdc</th>\n",
       "      <th>1</th>\n",
       "      <th>Clip</th>\n",
       "      <th>Crystal Caves - Level 3</th>\n",
       "      <th>CRYSTALCAVES</th>\n",
       "      <th>2019-10-10T15:13:04.713Z</th>\n",
       "      <td>2000</td>\n",
       "      <td>0</td>\n",
       "    </tr>\n",
       "    <tr>\n",
       "      <th rowspan=\"7\" valign=\"top\">aae9fb7410f97210</th>\n",
       "      <th>1cc7cfca</th>\n",
       "      <th>9</th>\n",
       "      <th>Game</th>\n",
       "      <th>All Star Sorting</th>\n",
       "      <th>TREETOPCITY</th>\n",
       "      <th>2019-10-10T14:46:20.104Z</th>\n",
       "      <td>4030</td>\n",
       "      <td>14603</td>\n",
       "    </tr>\n",
       "    <tr>\n",
       "      <th>363d3849</th>\n",
       "      <th>77</th>\n",
       "      <th>Game</th>\n",
       "      <th>All Star Sorting</th>\n",
       "      <th>TREETOPCITY</th>\n",
       "      <th>2019-10-10T14:48:02.253Z</th>\n",
       "      <td>3010</td>\n",
       "      <td>116737</td>\n",
       "    </tr>\n",
       "    <tr>\n",
       "      <th rowspan=\"3\" valign=\"top\">587b5989</th>\n",
       "      <th>21</th>\n",
       "      <th>Game</th>\n",
       "      <th>All Star Sorting</th>\n",
       "      <th>TREETOPCITY</th>\n",
       "      <th>2019-10-10T14:46:37.007Z</th>\n",
       "      <td>4070</td>\n",
       "      <td>31500</td>\n",
       "    </tr>\n",
       "    <tr>\n",
       "      <th>22</th>\n",
       "      <th>Game</th>\n",
       "      <th>All Star Sorting</th>\n",
       "      <th>TREETOPCITY</th>\n",
       "      <th>2019-10-10T14:46:37.740Z</th>\n",
       "      <td>4070</td>\n",
       "      <td>32231</td>\n",
       "    </tr>\n",
       "    <tr>\n",
       "      <th>43</th>\n",
       "      <th>Game</th>\n",
       "      <th>All Star Sorting</th>\n",
       "      <th>TREETOPCITY</th>\n",
       "      <th>2019-10-10T14:47:03.608Z</th>\n",
       "      <td>4070</td>\n",
       "      <td>58100</td>\n",
       "    </tr>\n",
       "    <tr>\n",
       "      <th>9e4c8c7b</th>\n",
       "      <th>78</th>\n",
       "      <th>Game</th>\n",
       "      <th>All Star Sorting</th>\n",
       "      <th>TREETOPCITY</th>\n",
       "      <th>2019-10-10T14:48:06.359Z</th>\n",
       "      <td>3110</td>\n",
       "      <td>120854</td>\n",
       "    </tr>\n",
       "    <tr>\n",
       "      <th>b120f2ac</th>\n",
       "      <th>18</th>\n",
       "      <th>Game</th>\n",
       "      <th>All Star Sorting</th>\n",
       "      <th>TREETOPCITY</th>\n",
       "      <th>2019-10-10T14:46:32.397Z</th>\n",
       "      <td>2025</td>\n",
       "      <td>26881</td>\n",
       "    </tr>\n",
       "    <tr>\n",
       "      <th rowspan=\"5\" valign=\"top\">b4d864e5a2e0ce13</th>\n",
       "      <th>02a42007</th>\n",
       "      <th>8</th>\n",
       "      <th>Activity</th>\n",
       "      <th>Fireworks (Activity)</th>\n",
       "      <th>TREETOPCITY</th>\n",
       "      <th>2019-10-10T14:50:02.707Z</th>\n",
       "      <td>4030</td>\n",
       "      <td>7005</td>\n",
       "    </tr>\n",
       "    <tr>\n",
       "      <th>884228c8</th>\n",
       "      <th>29</th>\n",
       "      <th>Activity</th>\n",
       "      <th>Fireworks (Activity)</th>\n",
       "      <th>TREETOPCITY</th>\n",
       "      <th>2019-10-10T14:50:24.869Z</th>\n",
       "      <td>4070</td>\n",
       "      <td>29173</td>\n",
       "    </tr>\n",
       "    <tr>\n",
       "      <th>beb0a7b9</th>\n",
       "      <th>15</th>\n",
       "      <th>Activity</th>\n",
       "      <th>Fireworks (Activity)</th>\n",
       "      <th>TREETOPCITY</th>\n",
       "      <th>2019-10-10T14:50:08.691Z</th>\n",
       "      <td>3010</td>\n",
       "      <td>13005</td>\n",
       "    </tr>\n",
       "    <tr>\n",
       "      <th rowspan=\"2\" valign=\"top\">e694a35b</th>\n",
       "      <th>14</th>\n",
       "      <th>Activity</th>\n",
       "      <th>Fireworks (Activity)</th>\n",
       "      <th>TREETOPCITY</th>\n",
       "      <th>2019-10-10T14:50:06.892Z</th>\n",
       "      <td>4020</td>\n",
       "      <td>11205</td>\n",
       "    </tr>\n",
       "    <tr>\n",
       "      <th>18</th>\n",
       "      <th>Activity</th>\n",
       "      <th>Fireworks (Activity)</th>\n",
       "      <th>TREETOPCITY</th>\n",
       "      <th>2019-10-10T14:50:11.877Z</th>\n",
       "      <td>4020</td>\n",
       "      <td>16189</td>\n",
       "    </tr>\n",
       "    <tr>\n",
       "      <th rowspan=\"5\" valign=\"top\">b5812175588a247c</th>\n",
       "      <th>0330ab6a</th>\n",
       "      <th>16</th>\n",
       "      <th>Game</th>\n",
       "      <th>Chow Time</th>\n",
       "      <th>CRYSTALCAVES</th>\n",
       "      <th>2019-10-10T14:42:52.563Z</th>\n",
       "      <td>3020</td>\n",
       "      <td>17435</td>\n",
       "    </tr>\n",
       "    <tr>\n",
       "      <th>2230fab4</th>\n",
       "      <th>48</th>\n",
       "      <th>Game</th>\n",
       "      <th>Chow Time</th>\n",
       "      <th>CRYSTALCAVES</th>\n",
       "      <th>2019-10-10T14:43:19.562Z</th>\n",
       "      <td>3120</td>\n",
       "      <td>44439</td>\n",
       "    </tr>\n",
       "    <tr>\n",
       "      <th>7372e1a5</th>\n",
       "      <th>6</th>\n",
       "      <th>Game</th>\n",
       "      <th>Chow Time</th>\n",
       "      <th>CRYSTALCAVES</th>\n",
       "      <th>2019-10-10T14:42:43.282Z</th>\n",
       "      <td>4070</td>\n",
       "      <td>8152</td>\n",
       "    </tr>\n",
       "    <tr>\n",
       "      <th>7ec0c298</th>\n",
       "      <th>3</th>\n",
       "      <th>Game</th>\n",
       "      <th>Chow Time</th>\n",
       "      <th>CRYSTALCAVES</th>\n",
       "      <th>2019-10-10T14:42:39.867Z</th>\n",
       "      <td>3010</td>\n",
       "      <td>4735</td>\n",
       "    </tr>\n",
       "    <tr>\n",
       "      <th>cfbd47c8</th>\n",
       "      <th>21</th>\n",
       "      <th>Game</th>\n",
       "      <th>Chow Time</th>\n",
       "      <th>CRYSTALCAVES</th>\n",
       "      <th>2019-10-10T14:43:01.049Z</th>\n",
       "      <td>4030</td>\n",
       "      <td>25920</td>\n",
       "    </tr>\n",
       "    <tr>\n",
       "      <th rowspan=\"10\" valign=\"top\">c09b94eebfdf50a6</th>\n",
       "      <th rowspan=\"9\" valign=\"top\">76babcde</th>\n",
       "      <th>9</th>\n",
       "      <th>Game</th>\n",
       "      <th>Dino Dive</th>\n",
       "      <th>MAGMAPEAK</th>\n",
       "      <th>2019-10-10T15:09:30.459Z</th>\n",
       "      <td>4070</td>\n",
       "      <td>13492</td>\n",
       "    </tr>\n",
       "    <tr>\n",
       "      <th>10</th>\n",
       "      <th>Game</th>\n",
       "      <th>Dino Dive</th>\n",
       "      <th>MAGMAPEAK</th>\n",
       "      <th>2019-10-10T15:09:30.834Z</th>\n",
       "      <td>4070</td>\n",
       "      <td>13859</td>\n",
       "    </tr>\n",
       "    <tr>\n",
       "      <th>14</th>\n",
       "      <th>Game</th>\n",
       "      <th>Dino Dive</th>\n",
       "      <th>MAGMAPEAK</th>\n",
       "      <th>2019-10-10T15:09:32.470Z</th>\n",
       "      <td>4070</td>\n",
       "      <td>15492</td>\n",
       "    </tr>\n",
       "    <tr>\n",
       "      <th>20</th>\n",
       "      <th>Game</th>\n",
       "      <th>Dino Dive</th>\n",
       "      <th>MAGMAPEAK</th>\n",
       "      <th>2019-10-10T15:09:38.999Z</th>\n",
       "      <td>4070</td>\n",
       "      <td>22026</td>\n",
       "    </tr>\n",
       "    <tr>\n",
       "      <th>22</th>\n",
       "      <th>Game</th>\n",
       "      <th>Dino Dive</th>\n",
       "      <th>MAGMAPEAK</th>\n",
       "      <th>2019-10-10T15:09:39.983Z</th>\n",
       "      <td>4070</td>\n",
       "      <td>23009</td>\n",
       "    </tr>\n",
       "    <tr>\n",
       "      <th>38</th>\n",
       "      <th>Game</th>\n",
       "      <th>Dino Dive</th>\n",
       "      <th>MAGMAPEAK</th>\n",
       "      <th>2019-10-10T15:09:47.085Z</th>\n",
       "      <td>4070</td>\n",
       "      <td>30110</td>\n",
       "    </tr>\n",
       "    <tr>\n",
       "      <th>41</th>\n",
       "      <th>Game</th>\n",
       "      <th>Dino Dive</th>\n",
       "      <th>MAGMAPEAK</th>\n",
       "      <th>2019-10-10T15:09:47.976Z</th>\n",
       "      <td>4070</td>\n",
       "      <td>31010</td>\n",
       "    </tr>\n",
       "    <tr>\n",
       "      <th>43</th>\n",
       "      <th>Game</th>\n",
       "      <th>Dino Dive</th>\n",
       "      <th>MAGMAPEAK</th>\n",
       "      <th>2019-10-10T15:09:50.282Z</th>\n",
       "      <td>4070</td>\n",
       "      <td>33311</td>\n",
       "    </tr>\n",
       "    <tr>\n",
       "      <th>63</th>\n",
       "      <th>Game</th>\n",
       "      <th>Dino Dive</th>\n",
       "      <th>MAGMAPEAK</th>\n",
       "      <th>2019-10-10T15:09:59.385Z</th>\n",
       "      <td>4070</td>\n",
       "      <td>42411</td>\n",
       "    </tr>\n",
       "    <tr>\n",
       "      <th>e3ff61fb</th>\n",
       "      <th>17</th>\n",
       "      <th>Game</th>\n",
       "      <th>Dino Dive</th>\n",
       "      <th>MAGMAPEAK</th>\n",
       "      <th>2019-10-10T15:09:35.615Z</th>\n",
       "      <td>3021</td>\n",
       "      <td>18643</td>\n",
       "    </tr>\n",
       "  </tbody>\n",
       "</table>\n",
       "<p>1000000 rows × 2 columns</p>\n",
       "</div>"
      ],
      "text/plain": [
       "                                                                                                                                    event_code  \\\n",
       "installation_id game_session     event_id event_count type     title                         world        timestamp                              \n",
       "0001e90f        07bacda7f9437b38 1996c610 62          Game     Dino Drink                    MAGMAPEAK    2019-09-06T18:13:31.864Z        4031   \n",
       "                                          84          Game     Dino Drink                    MAGMAPEAK    2019-09-06T18:13:53.681Z        4031   \n",
       "                                 4d911100 137         Game     Dino Drink                    MAGMAPEAK    2019-09-06T18:15:26.319Z        3121   \n",
       "                                 51311d7a 1           Game     Dino Drink                    MAGMAPEAK    2019-09-06T18:11:28.381Z        2000   \n",
       "                                 6c517a88 7           Game     Dino Drink                    MAGMAPEAK    2019-09-06T18:11:45.065Z        4070   \n",
       "                                          74          Game     Dino Drink                    MAGMAPEAK    2019-09-06T18:13:45.641Z        4070   \n",
       "                                          93          Game     Dino Drink                    MAGMAPEAK    2019-09-06T18:14:06.332Z        4070   \n",
       "                                          105         Game     Dino Drink                    MAGMAPEAK    2019-09-06T18:14:30.911Z        4070   \n",
       "                                 74e5f8a7 39          Game     Dino Drink                    MAGMAPEAK    2019-09-06T18:12:56.042Z        4020   \n",
       "                                 77ead60d 59          Game     Dino Drink                    MAGMAPEAK    2019-09-06T18:13:23.831Z        3021   \n",
       "                                 792530f8 47          Game     Dino Drink                    MAGMAPEAK    2019-09-06T18:13:05.263Z        4030   \n",
       "                                          70          Game     Dino Drink                    MAGMAPEAK    2019-09-06T18:13:40.776Z        4030   \n",
       "                                          99          Game     Dino Drink                    MAGMAPEAK    2019-09-06T18:14:18.782Z        4030   \n",
       "                                 7f0836bf 20          Game     Dino Drink                    MAGMAPEAK    2019-09-06T18:11:58.809Z        3110   \n",
       "                                          26          Game     Dino Drink                    MAGMAPEAK    2019-09-06T18:12:22.927Z        3110   \n",
       "                                          55          Game     Dino Drink                    MAGMAPEAK    2019-09-06T18:13:17.463Z        3110   \n",
       "                                 f806dc10 54          Game     Dino Drink                    MAGMAPEAK    2019-09-06T18:13:13.717Z        2020   \n",
       "                0848ef14a8dc6892 1325467d 5           Activity Sandcastle Builder (Activity) MAGMAPEAK    2019-09-06T17:55:06.913Z        4070   \n",
       "                                          8           Activity Sandcastle Builder (Activity) MAGMAPEAK    2019-09-06T17:55:08.566Z        4070   \n",
       "                                          10          Activity Sandcastle Builder (Activity) MAGMAPEAK    2019-09-06T17:55:09.673Z        4070   \n",
       "                                          28          Activity Sandcastle Builder (Activity) MAGMAPEAK    2019-09-06T17:55:14.864Z        4070   \n",
       "                                          41          Activity Sandcastle Builder (Activity) MAGMAPEAK    2019-09-06T17:55:21.477Z        4070   \n",
       "                                          90          Activity Sandcastle Builder (Activity) MAGMAPEAK    2019-09-06T17:55:41.842Z        4070   \n",
       "                                          121         Activity Sandcastle Builder (Activity) MAGMAPEAK    2019-09-06T17:55:50.338Z        4070   \n",
       "                                          162         Activity Sandcastle Builder (Activity) MAGMAPEAK    2019-09-06T17:56:19.500Z        4070   \n",
       "                                          173         Activity Sandcastle Builder (Activity) MAGMAPEAK    2019-09-06T17:56:36.983Z        4070   \n",
       "                                          241         Activity Sandcastle Builder (Activity) MAGMAPEAK    2019-09-06T17:57:34.739Z        4070   \n",
       "                                 1bb5fbdb 178         Activity Sandcastle Builder (Activity) MAGMAPEAK    2019-09-06T17:56:39.392Z        3110   \n",
       "                                 5e812b27 71          Activity Sandcastle Builder (Activity) MAGMAPEAK    2019-09-06T17:55:34.121Z        4030   \n",
       "                                          165         Activity Sandcastle Builder (Activity) MAGMAPEAK    2019-09-06T17:56:23.025Z        4030   \n",
       "...                                                                                                                                        ...   \n",
       "fff944d5        716bc389c62cd32d b2dba42b 20          Activity Sandcastle Builder (Activity) MAGMAPEAK    2019-08-23T21:49:05.384Z        3010   \n",
       "                                          89          Activity Sandcastle Builder (Activity) MAGMAPEAK    2019-08-23T21:49:57.910Z        3010   \n",
       "fffc0583        71904dca23b982c6 27253bdc 1           Clip     Crystal Caves - Level 3       CRYSTALCAVES 2019-10-10T15:13:04.713Z        2000   \n",
       "                aae9fb7410f97210 1cc7cfca 9           Game     All Star Sorting              TREETOPCITY  2019-10-10T14:46:20.104Z        4030   \n",
       "                                 363d3849 77          Game     All Star Sorting              TREETOPCITY  2019-10-10T14:48:02.253Z        3010   \n",
       "                                 587b5989 21          Game     All Star Sorting              TREETOPCITY  2019-10-10T14:46:37.007Z        4070   \n",
       "                                          22          Game     All Star Sorting              TREETOPCITY  2019-10-10T14:46:37.740Z        4070   \n",
       "                                          43          Game     All Star Sorting              TREETOPCITY  2019-10-10T14:47:03.608Z        4070   \n",
       "                                 9e4c8c7b 78          Game     All Star Sorting              TREETOPCITY  2019-10-10T14:48:06.359Z        3110   \n",
       "                                 b120f2ac 18          Game     All Star Sorting              TREETOPCITY  2019-10-10T14:46:32.397Z        2025   \n",
       "                b4d864e5a2e0ce13 02a42007 8           Activity Fireworks (Activity)          TREETOPCITY  2019-10-10T14:50:02.707Z        4030   \n",
       "                                 884228c8 29          Activity Fireworks (Activity)          TREETOPCITY  2019-10-10T14:50:24.869Z        4070   \n",
       "                                 beb0a7b9 15          Activity Fireworks (Activity)          TREETOPCITY  2019-10-10T14:50:08.691Z        3010   \n",
       "                                 e694a35b 14          Activity Fireworks (Activity)          TREETOPCITY  2019-10-10T14:50:06.892Z        4020   \n",
       "                                          18          Activity Fireworks (Activity)          TREETOPCITY  2019-10-10T14:50:11.877Z        4020   \n",
       "                b5812175588a247c 0330ab6a 16          Game     Chow Time                     CRYSTALCAVES 2019-10-10T14:42:52.563Z        3020   \n",
       "                                 2230fab4 48          Game     Chow Time                     CRYSTALCAVES 2019-10-10T14:43:19.562Z        3120   \n",
       "                                 7372e1a5 6           Game     Chow Time                     CRYSTALCAVES 2019-10-10T14:42:43.282Z        4070   \n",
       "                                 7ec0c298 3           Game     Chow Time                     CRYSTALCAVES 2019-10-10T14:42:39.867Z        3010   \n",
       "                                 cfbd47c8 21          Game     Chow Time                     CRYSTALCAVES 2019-10-10T14:43:01.049Z        4030   \n",
       "                c09b94eebfdf50a6 76babcde 9           Game     Dino Dive                     MAGMAPEAK    2019-10-10T15:09:30.459Z        4070   \n",
       "                                          10          Game     Dino Dive                     MAGMAPEAK    2019-10-10T15:09:30.834Z        4070   \n",
       "                                          14          Game     Dino Dive                     MAGMAPEAK    2019-10-10T15:09:32.470Z        4070   \n",
       "                                          20          Game     Dino Dive                     MAGMAPEAK    2019-10-10T15:09:38.999Z        4070   \n",
       "                                          22          Game     Dino Dive                     MAGMAPEAK    2019-10-10T15:09:39.983Z        4070   \n",
       "                                          38          Game     Dino Dive                     MAGMAPEAK    2019-10-10T15:09:47.085Z        4070   \n",
       "                                          41          Game     Dino Dive                     MAGMAPEAK    2019-10-10T15:09:47.976Z        4070   \n",
       "                                          43          Game     Dino Dive                     MAGMAPEAK    2019-10-10T15:09:50.282Z        4070   \n",
       "                                          63          Game     Dino Dive                     MAGMAPEAK    2019-10-10T15:09:59.385Z        4070   \n",
       "                                 e3ff61fb 17          Game     Dino Dive                     MAGMAPEAK    2019-10-10T15:09:35.615Z        3021   \n",
       "\n",
       "                                                                                                                                    game_time  \n",
       "installation_id game_session     event_id event_count type     title                         world        timestamp                            \n",
       "0001e90f        07bacda7f9437b38 1996c610 62          Game     Dino Drink                    MAGMAPEAK    2019-09-06T18:13:31.864Z     123510  \n",
       "                                          84          Game     Dino Drink                    MAGMAPEAK    2019-09-06T18:13:53.681Z     145329  \n",
       "                                 4d911100 137         Game     Dino Drink                    MAGMAPEAK    2019-09-06T18:15:26.319Z     237969  \n",
       "                                 51311d7a 1           Game     Dino Drink                    MAGMAPEAK    2019-09-06T18:11:28.381Z          0  \n",
       "                                 6c517a88 7           Game     Dino Drink                    MAGMAPEAK    2019-09-06T18:11:45.065Z      16703  \n",
       "                                          74          Game     Dino Drink                    MAGMAPEAK    2019-09-06T18:13:45.641Z     137278  \n",
       "                                          93          Game     Dino Drink                    MAGMAPEAK    2019-09-06T18:14:06.332Z     157963  \n",
       "                                          105         Game     Dino Drink                    MAGMAPEAK    2019-09-06T18:14:30.911Z     182548  \n",
       "                                 74e5f8a7 39          Game     Dino Drink                    MAGMAPEAK    2019-09-06T18:12:56.042Z      87691  \n",
       "                                 77ead60d 59          Game     Dino Drink                    MAGMAPEAK    2019-09-06T18:13:23.831Z     115476  \n",
       "                                 792530f8 47          Game     Dino Drink                    MAGMAPEAK    2019-09-06T18:13:05.263Z      96892  \n",
       "                                          70          Game     Dino Drink                    MAGMAPEAK    2019-09-06T18:13:40.776Z     132411  \n",
       "                                          99          Game     Dino Drink                    MAGMAPEAK    2019-09-06T18:14:18.782Z     170414  \n",
       "                                 7f0836bf 20          Game     Dino Drink                    MAGMAPEAK    2019-09-06T18:11:58.809Z      30454  \n",
       "                                          26          Game     Dino Drink                    MAGMAPEAK    2019-09-06T18:12:22.927Z      54572  \n",
       "                                          55          Game     Dino Drink                    MAGMAPEAK    2019-09-06T18:13:17.463Z     109109  \n",
       "                                 f806dc10 54          Game     Dino Drink                    MAGMAPEAK    2019-09-06T18:13:13.717Z     105326  \n",
       "                0848ef14a8dc6892 1325467d 5           Activity Sandcastle Builder (Activity) MAGMAPEAK    2019-09-06T17:55:06.913Z      10622  \n",
       "                                          8           Activity Sandcastle Builder (Activity) MAGMAPEAK    2019-09-06T17:55:08.566Z      12272  \n",
       "                                          10          Activity Sandcastle Builder (Activity) MAGMAPEAK    2019-09-06T17:55:09.673Z      13389  \n",
       "                                          28          Activity Sandcastle Builder (Activity) MAGMAPEAK    2019-09-06T17:55:14.864Z      18573  \n",
       "                                          41          Activity Sandcastle Builder (Activity) MAGMAPEAK    2019-09-06T17:55:21.477Z      25190  \n",
       "                                          90          Activity Sandcastle Builder (Activity) MAGMAPEAK    2019-09-06T17:55:41.842Z      45542  \n",
       "                                          121         Activity Sandcastle Builder (Activity) MAGMAPEAK    2019-09-06T17:55:50.338Z      54042  \n",
       "                                          162         Activity Sandcastle Builder (Activity) MAGMAPEAK    2019-09-06T17:56:19.500Z      83211  \n",
       "                                          173         Activity Sandcastle Builder (Activity) MAGMAPEAK    2019-09-06T17:56:36.983Z     100695  \n",
       "                                          241         Activity Sandcastle Builder (Activity) MAGMAPEAK    2019-09-06T17:57:34.739Z     158449  \n",
       "                                 1bb5fbdb 178         Activity Sandcastle Builder (Activity) MAGMAPEAK    2019-09-06T17:56:39.392Z     103113  \n",
       "                                 5e812b27 71          Activity Sandcastle Builder (Activity) MAGMAPEAK    2019-09-06T17:55:34.121Z      37824  \n",
       "                                          165         Activity Sandcastle Builder (Activity) MAGMAPEAK    2019-09-06T17:56:23.025Z      86728  \n",
       "...                                                                                                                                       ...  \n",
       "fff944d5        716bc389c62cd32d b2dba42b 20          Activity Sandcastle Builder (Activity) MAGMAPEAK    2019-08-23T21:49:05.384Z      19747  \n",
       "                                          89          Activity Sandcastle Builder (Activity) MAGMAPEAK    2019-08-23T21:49:57.910Z      72264  \n",
       "fffc0583        71904dca23b982c6 27253bdc 1           Clip     Crystal Caves - Level 3       CRYSTALCAVES 2019-10-10T15:13:04.713Z          0  \n",
       "                aae9fb7410f97210 1cc7cfca 9           Game     All Star Sorting              TREETOPCITY  2019-10-10T14:46:20.104Z      14603  \n",
       "                                 363d3849 77          Game     All Star Sorting              TREETOPCITY  2019-10-10T14:48:02.253Z     116737  \n",
       "                                 587b5989 21          Game     All Star Sorting              TREETOPCITY  2019-10-10T14:46:37.007Z      31500  \n",
       "                                          22          Game     All Star Sorting              TREETOPCITY  2019-10-10T14:46:37.740Z      32231  \n",
       "                                          43          Game     All Star Sorting              TREETOPCITY  2019-10-10T14:47:03.608Z      58100  \n",
       "                                 9e4c8c7b 78          Game     All Star Sorting              TREETOPCITY  2019-10-10T14:48:06.359Z     120854  \n",
       "                                 b120f2ac 18          Game     All Star Sorting              TREETOPCITY  2019-10-10T14:46:32.397Z      26881  \n",
       "                b4d864e5a2e0ce13 02a42007 8           Activity Fireworks (Activity)          TREETOPCITY  2019-10-10T14:50:02.707Z       7005  \n",
       "                                 884228c8 29          Activity Fireworks (Activity)          TREETOPCITY  2019-10-10T14:50:24.869Z      29173  \n",
       "                                 beb0a7b9 15          Activity Fireworks (Activity)          TREETOPCITY  2019-10-10T14:50:08.691Z      13005  \n",
       "                                 e694a35b 14          Activity Fireworks (Activity)          TREETOPCITY  2019-10-10T14:50:06.892Z      11205  \n",
       "                                          18          Activity Fireworks (Activity)          TREETOPCITY  2019-10-10T14:50:11.877Z      16189  \n",
       "                b5812175588a247c 0330ab6a 16          Game     Chow Time                     CRYSTALCAVES 2019-10-10T14:42:52.563Z      17435  \n",
       "                                 2230fab4 48          Game     Chow Time                     CRYSTALCAVES 2019-10-10T14:43:19.562Z      44439  \n",
       "                                 7372e1a5 6           Game     Chow Time                     CRYSTALCAVES 2019-10-10T14:42:43.282Z       8152  \n",
       "                                 7ec0c298 3           Game     Chow Time                     CRYSTALCAVES 2019-10-10T14:42:39.867Z       4735  \n",
       "                                 cfbd47c8 21          Game     Chow Time                     CRYSTALCAVES 2019-10-10T14:43:01.049Z      25920  \n",
       "                c09b94eebfdf50a6 76babcde 9           Game     Dino Dive                     MAGMAPEAK    2019-10-10T15:09:30.459Z      13492  \n",
       "                                          10          Game     Dino Dive                     MAGMAPEAK    2019-10-10T15:09:30.834Z      13859  \n",
       "                                          14          Game     Dino Dive                     MAGMAPEAK    2019-10-10T15:09:32.470Z      15492  \n",
       "                                          20          Game     Dino Dive                     MAGMAPEAK    2019-10-10T15:09:38.999Z      22026  \n",
       "                                          22          Game     Dino Dive                     MAGMAPEAK    2019-10-10T15:09:39.983Z      23009  \n",
       "                                          38          Game     Dino Dive                     MAGMAPEAK    2019-10-10T15:09:47.085Z      30110  \n",
       "                                          41          Game     Dino Dive                     MAGMAPEAK    2019-10-10T15:09:47.976Z      31010  \n",
       "                                          43          Game     Dino Dive                     MAGMAPEAK    2019-10-10T15:09:50.282Z      33311  \n",
       "                                          63          Game     Dino Dive                     MAGMAPEAK    2019-10-10T15:09:59.385Z      42411  \n",
       "                                 e3ff61fb 17          Game     Dino Dive                     MAGMAPEAK    2019-10-10T15:09:35.615Z      18643  \n",
       "\n",
       "[1000000 rows x 2 columns]"
      ]
     },
     "execution_count": 55,
     "metadata": {},
     "output_type": "execute_result"
    }
   ],
   "source": [
    "train_.groupby(['installation_id', 'game_session','event_id','event_count', 'type','title']).mean()\n"
   ]
  },
  {
   "cell_type": "markdown",
   "metadata": {},
   "source": [
    "<font color=green>**Here we can see the 20 count of titles binned in the clip event_id.**</font>"
   ]
  },
  {
   "cell_type": "code",
   "execution_count": 130,
   "metadata": {},
   "outputs": [
    {
     "data": {
      "text/plain": [
       "event_id\n",
       "5154fc30     1\n",
       "51311d7a     1\n",
       "56817e2b     1\n",
       "fd20ea40     1\n",
       "27253bdc    20\n",
       "Name: title, dtype: int64"
      ]
     },
     "execution_count": 130,
     "metadata": {},
     "output_type": "execute_result"
    }
   ],
   "source": [
    "train_.groupby('event_id')['title'].nunique().sort_values(ascending=True).tail()\n"
   ]
  },
  {
   "cell_type": "markdown",
   "metadata": {},
   "source": [
    "<font color=green>**Peek into event_data.**</font>"
   ]
  },
  {
   "cell_type": "code",
   "execution_count": 12,
   "metadata": {},
   "outputs": [
    {
     "data": {
      "text/plain": [
       "'{\"coordinates\":{\"x\":583,\"y\":605,\"stage_width\":1015,\"stage_height\":762},\"event_count\":4,\"game_time\":9991,\"event_code\":4070}'"
      ]
     },
     "execution_count": 12,
     "metadata": {},
     "output_type": "execute_result"
    }
   ],
   "source": [
    "train['event_data'][5]"
   ]
  },
  {
   "cell_type": "markdown",
   "metadata": {},
   "source": [
    "<font color=green>**384 count of event_ids**.</font>"
   ]
  },
  {
   "cell_type": "code",
   "execution_count": 14,
   "metadata": {},
   "outputs": [
    {
     "data": {
      "text/plain": [
       "384"
      ]
     },
     "execution_count": 14,
     "metadata": {},
     "output_type": "execute_result"
    }
   ],
   "source": [
    "train.event_id.value_counts().count()"
   ]
  },
  {
   "cell_type": "markdown",
   "metadata": {},
   "source": [
    "<font color=green>**17000 count of unique installation_ids**.</font>"
   ]
  },
  {
   "cell_type": "code",
   "execution_count": 15,
   "metadata": {},
   "outputs": [
    {
     "data": {
      "text/plain": [
       "17000"
      ]
     },
     "execution_count": 15,
     "metadata": {},
     "output_type": "execute_result"
    }
   ],
   "source": [
    "train.installation_id.value_counts().count()"
   ]
  },
  {
   "cell_type": "markdown",
   "metadata": {},
   "source": [
    "<font color=green>**game_sessions group events within a single game or video play session.** \n",
    "    \n",
    "**event_codes represent actions taken within a game or video play session.**.</font>"
   ]
  },
  {
   "cell_type": "code",
   "execution_count": 131,
   "metadata": {
    "scrolled": true
   },
   "outputs": [
    {
     "data": {
      "text/html": [
       "<div>\n",
       "<style scoped>\n",
       "    .dataframe tbody tr th:only-of-type {\n",
       "        vertical-align: middle;\n",
       "    }\n",
       "\n",
       "    .dataframe tbody tr th {\n",
       "        vertical-align: top;\n",
       "    }\n",
       "\n",
       "    .dataframe thead th {\n",
       "        text-align: right;\n",
       "    }\n",
       "</style>\n",
       "<table border=\"1\" class=\"dataframe\">\n",
       "  <thead>\n",
       "    <tr style=\"text-align: right;\">\n",
       "      <th></th>\n",
       "      <th></th>\n",
       "      <th></th>\n",
       "      <th>event_count</th>\n",
       "      <th>game_time</th>\n",
       "    </tr>\n",
       "    <tr>\n",
       "      <th>installation_id</th>\n",
       "      <th>game_session</th>\n",
       "      <th>event_code</th>\n",
       "      <th></th>\n",
       "      <th></th>\n",
       "    </tr>\n",
       "  </thead>\n",
       "  <tbody>\n",
       "    <tr>\n",
       "      <th rowspan=\"30\" valign=\"top\">0001e90f</th>\n",
       "      <th>04168b61c0650977</th>\n",
       "      <th>2000</th>\n",
       "      <td>1.000000</td>\n",
       "      <td>0.000000</td>\n",
       "    </tr>\n",
       "    <tr>\n",
       "      <th rowspan=\"16\" valign=\"top\">07bacda7f9437b38</th>\n",
       "      <th>2000</th>\n",
       "      <td>1.000000</td>\n",
       "      <td>0.000000</td>\n",
       "    </tr>\n",
       "    <tr>\n",
       "      <th>2020</th>\n",
       "      <td>77.750000</td>\n",
       "      <td>139249.250000</td>\n",
       "    </tr>\n",
       "    <tr>\n",
       "      <th>2030</th>\n",
       "      <td>92.666667</td>\n",
       "      <td>165658.000000</td>\n",
       "    </tr>\n",
       "    <tr>\n",
       "      <th>2060</th>\n",
       "      <td>3.000000</td>\n",
       "      <td>12552.000000</td>\n",
       "    </tr>\n",
       "    <tr>\n",
       "      <th>2070</th>\n",
       "      <td>23.000000</td>\n",
       "      <td>48272.000000</td>\n",
       "    </tr>\n",
       "    <tr>\n",
       "      <th>3010</th>\n",
       "      <td>45.750000</td>\n",
       "      <td>80930.250000</td>\n",
       "    </tr>\n",
       "    <tr>\n",
       "      <th>3020</th>\n",
       "      <td>52.500000</td>\n",
       "      <td>100167.500000</td>\n",
       "    </tr>\n",
       "    <tr>\n",
       "      <th>3021</th>\n",
       "      <td>94.818182</td>\n",
       "      <td>170320.000000</td>\n",
       "    </tr>\n",
       "    <tr>\n",
       "      <th>3110</th>\n",
       "      <td>36.000000</td>\n",
       "      <td>63713.142857</td>\n",
       "    </tr>\n",
       "    <tr>\n",
       "      <th>3120</th>\n",
       "      <td>55.500000</td>\n",
       "      <td>103459.000000</td>\n",
       "    </tr>\n",
       "    <tr>\n",
       "      <th>3121</th>\n",
       "      <td>97.454545</td>\n",
       "      <td>174197.454545</td>\n",
       "    </tr>\n",
       "    <tr>\n",
       "      <th>4010</th>\n",
       "      <td>2.000000</td>\n",
       "      <td>10502.000000</td>\n",
       "    </tr>\n",
       "    <tr>\n",
       "      <th>4020</th>\n",
       "      <td>83.083333</td>\n",
       "      <td>151581.916667</td>\n",
       "    </tr>\n",
       "    <tr>\n",
       "      <th>4030</th>\n",
       "      <td>79.000000</td>\n",
       "      <td>141749.928571</td>\n",
       "    </tr>\n",
       "    <tr>\n",
       "      <th>4031</th>\n",
       "      <td>78.461538</td>\n",
       "      <td>141307.846154</td>\n",
       "    </tr>\n",
       "    <tr>\n",
       "      <th>4070</th>\n",
       "      <td>67.901961</td>\n",
       "      <td>121348.470588</td>\n",
       "    </tr>\n",
       "    <tr>\n",
       "      <th rowspan=\"9\" valign=\"top\">0848ef14a8dc6892</th>\n",
       "      <th>2000</th>\n",
       "      <td>1.000000</td>\n",
       "      <td>0.000000</td>\n",
       "    </tr>\n",
       "    <tr>\n",
       "      <th>3010</th>\n",
       "      <td>166.818182</td>\n",
       "      <td>104212.000000</td>\n",
       "    </tr>\n",
       "    <tr>\n",
       "      <th>3110</th>\n",
       "      <td>169.000000</td>\n",
       "      <td>106150.272727</td>\n",
       "    </tr>\n",
       "    <tr>\n",
       "      <th>4020</th>\n",
       "      <td>213.428571</td>\n",
       "      <td>135221.571429</td>\n",
       "    </tr>\n",
       "    <tr>\n",
       "      <th>4021</th>\n",
       "      <td>205.800000</td>\n",
       "      <td>127657.533333</td>\n",
       "    </tr>\n",
       "    <tr>\n",
       "      <th>4030</th>\n",
       "      <td>152.867647</td>\n",
       "      <td>88193.632353</td>\n",
       "    </tr>\n",
       "    <tr>\n",
       "      <th>4035</th>\n",
       "      <td>126.733333</td>\n",
       "      <td>68320.022222</td>\n",
       "    </tr>\n",
       "    <tr>\n",
       "      <th>4070</th>\n",
       "      <td>89.116279</td>\n",
       "      <td>52846.790698</td>\n",
       "    </tr>\n",
       "    <tr>\n",
       "      <th>4090</th>\n",
       "      <td>46.000000</td>\n",
       "      <td>29685.000000</td>\n",
       "    </tr>\n",
       "    <tr>\n",
       "      <th>091587ed87b9637c</th>\n",
       "      <th>2000</th>\n",
       "      <td>1.000000</td>\n",
       "      <td>0.000000</td>\n",
       "    </tr>\n",
       "    <tr>\n",
       "      <th>17eeb7f223665f53</th>\n",
       "      <th>2000</th>\n",
       "      <td>1.000000</td>\n",
       "      <td>0.000000</td>\n",
       "    </tr>\n",
       "    <tr>\n",
       "      <th>3fce4f09769ff0b7</th>\n",
       "      <th>2000</th>\n",
       "      <td>1.000000</td>\n",
       "      <td>0.000000</td>\n",
       "    </tr>\n",
       "    <tr>\n",
       "      <th>45bb1e1b6b50c07b</th>\n",
       "      <th>2000</th>\n",
       "      <td>1.000000</td>\n",
       "      <td>0.000000</td>\n",
       "    </tr>\n",
       "    <tr>\n",
       "      <th>...</th>\n",
       "      <th>...</th>\n",
       "      <th>...</th>\n",
       "      <td>...</td>\n",
       "      <td>...</td>\n",
       "    </tr>\n",
       "    <tr>\n",
       "      <th rowspan=\"30\" valign=\"top\">fffc0583</th>\n",
       "      <th rowspan=\"5\" valign=\"top\">b4d864e5a2e0ce13</th>\n",
       "      <th>3010</th>\n",
       "      <td>16.200000</td>\n",
       "      <td>15060.800000</td>\n",
       "    </tr>\n",
       "    <tr>\n",
       "      <th>3110</th>\n",
       "      <td>17.400000</td>\n",
       "      <td>17409.000000</td>\n",
       "    </tr>\n",
       "    <tr>\n",
       "      <th>4020</th>\n",
       "      <td>20.285714</td>\n",
       "      <td>18792.285714</td>\n",
       "    </tr>\n",
       "    <tr>\n",
       "      <th>4030</th>\n",
       "      <td>19.000000</td>\n",
       "      <td>17919.714286</td>\n",
       "    </tr>\n",
       "    <tr>\n",
       "      <th>4070</th>\n",
       "      <td>24.000000</td>\n",
       "      <td>23054.428571</td>\n",
       "    </tr>\n",
       "    <tr>\n",
       "      <th rowspan=\"12\" valign=\"top\">b5812175588a247c</th>\n",
       "      <th>2000</th>\n",
       "      <td>1.000000</td>\n",
       "      <td>0.000000</td>\n",
       "    </tr>\n",
       "    <tr>\n",
       "      <th>2020</th>\n",
       "      <td>5.000000</td>\n",
       "      <td>5903.000000</td>\n",
       "    </tr>\n",
       "    <tr>\n",
       "      <th>3010</th>\n",
       "      <td>28.000000</td>\n",
       "      <td>28436.500000</td>\n",
       "    </tr>\n",
       "    <tr>\n",
       "      <th>3020</th>\n",
       "      <td>28.666667</td>\n",
       "      <td>30250.333333</td>\n",
       "    </tr>\n",
       "    <tr>\n",
       "      <th>3110</th>\n",
       "      <td>4.000000</td>\n",
       "      <td>5903.000000</td>\n",
       "    </tr>\n",
       "    <tr>\n",
       "      <th>3120</th>\n",
       "      <td>32.666667</td>\n",
       "      <td>34226.333333</td>\n",
       "    </tr>\n",
       "    <tr>\n",
       "      <th>4010</th>\n",
       "      <td>2.000000</td>\n",
       "      <td>2536.000000</td>\n",
       "    </tr>\n",
       "    <tr>\n",
       "      <th>4020</th>\n",
       "      <td>19.000000</td>\n",
       "      <td>22687.000000</td>\n",
       "    </tr>\n",
       "    <tr>\n",
       "      <th>4030</th>\n",
       "      <td>28.909091</td>\n",
       "      <td>30543.363636</td>\n",
       "    </tr>\n",
       "    <tr>\n",
       "      <th>4035</th>\n",
       "      <td>34.625000</td>\n",
       "      <td>35103.875000</td>\n",
       "    </tr>\n",
       "    <tr>\n",
       "      <th>4070</th>\n",
       "      <td>24.250000</td>\n",
       "      <td>23963.333333</td>\n",
       "    </tr>\n",
       "    <tr>\n",
       "      <th>4090</th>\n",
       "      <td>52.000000</td>\n",
       "      <td>52138.000000</td>\n",
       "    </tr>\n",
       "    <tr>\n",
       "      <th rowspan=\"9\" valign=\"top\">c09b94eebfdf50a6</th>\n",
       "      <th>2000</th>\n",
       "      <td>1.000000</td>\n",
       "      <td>0.000000</td>\n",
       "    </tr>\n",
       "    <tr>\n",
       "      <th>2060</th>\n",
       "      <td>7.000000</td>\n",
       "      <td>11026.000000</td>\n",
       "    </tr>\n",
       "    <tr>\n",
       "      <th>3010</th>\n",
       "      <td>27.166667</td>\n",
       "      <td>34049.333333</td>\n",
       "    </tr>\n",
       "    <tr>\n",
       "      <th>3021</th>\n",
       "      <td>17.000000</td>\n",
       "      <td>18643.000000</td>\n",
       "    </tr>\n",
       "    <tr>\n",
       "      <th>3110</th>\n",
       "      <td>29.166667</td>\n",
       "      <td>36466.333333</td>\n",
       "    </tr>\n",
       "    <tr>\n",
       "      <th>3121</th>\n",
       "      <td>23.000000</td>\n",
       "      <td>23393.000000</td>\n",
       "    </tr>\n",
       "    <tr>\n",
       "      <th>4010</th>\n",
       "      <td>2.000000</td>\n",
       "      <td>2327.000000</td>\n",
       "    </tr>\n",
       "    <tr>\n",
       "      <th>4070</th>\n",
       "      <td>36.645833</td>\n",
       "      <td>29293.979167</td>\n",
       "    </tr>\n",
       "    <tr>\n",
       "      <th>4090</th>\n",
       "      <td>64.000000</td>\n",
       "      <td>117165.000000</td>\n",
       "    </tr>\n",
       "    <tr>\n",
       "      <th>da9cabb5cb123df1</th>\n",
       "      <th>2000</th>\n",
       "      <td>1.000000</td>\n",
       "      <td>0.000000</td>\n",
       "    </tr>\n",
       "    <tr>\n",
       "      <th>e131c218f77fbeab</th>\n",
       "      <th>2000</th>\n",
       "      <td>1.000000</td>\n",
       "      <td>0.000000</td>\n",
       "    </tr>\n",
       "    <tr>\n",
       "      <th>e6b760e8f9e40ebf</th>\n",
       "      <th>2000</th>\n",
       "      <td>1.000000</td>\n",
       "      <td>0.000000</td>\n",
       "    </tr>\n",
       "    <tr>\n",
       "      <th>f31950f549d7c242</th>\n",
       "      <th>2000</th>\n",
       "      <td>1.000000</td>\n",
       "      <td>0.000000</td>\n",
       "    </tr>\n",
       "  </tbody>\n",
       "</table>\n",
       "<p>1446847 rows × 2 columns</p>\n",
       "</div>"
      ],
      "text/plain": [
       "                                             event_count      game_time\n",
       "installation_id game_session     event_code                            \n",
       "0001e90f        04168b61c0650977 2000           1.000000       0.000000\n",
       "                07bacda7f9437b38 2000           1.000000       0.000000\n",
       "                                 2020          77.750000  139249.250000\n",
       "                                 2030          92.666667  165658.000000\n",
       "                                 2060           3.000000   12552.000000\n",
       "                                 2070          23.000000   48272.000000\n",
       "                                 3010          45.750000   80930.250000\n",
       "                                 3020          52.500000  100167.500000\n",
       "                                 3021          94.818182  170320.000000\n",
       "                                 3110          36.000000   63713.142857\n",
       "                                 3120          55.500000  103459.000000\n",
       "                                 3121          97.454545  174197.454545\n",
       "                                 4010           2.000000   10502.000000\n",
       "                                 4020          83.083333  151581.916667\n",
       "                                 4030          79.000000  141749.928571\n",
       "                                 4031          78.461538  141307.846154\n",
       "                                 4070          67.901961  121348.470588\n",
       "                0848ef14a8dc6892 2000           1.000000       0.000000\n",
       "                                 3010         166.818182  104212.000000\n",
       "                                 3110         169.000000  106150.272727\n",
       "                                 4020         213.428571  135221.571429\n",
       "                                 4021         205.800000  127657.533333\n",
       "                                 4030         152.867647   88193.632353\n",
       "                                 4035         126.733333   68320.022222\n",
       "                                 4070          89.116279   52846.790698\n",
       "                                 4090          46.000000   29685.000000\n",
       "                091587ed87b9637c 2000           1.000000       0.000000\n",
       "                17eeb7f223665f53 2000           1.000000       0.000000\n",
       "                3fce4f09769ff0b7 2000           1.000000       0.000000\n",
       "                45bb1e1b6b50c07b 2000           1.000000       0.000000\n",
       "...                                                  ...            ...\n",
       "fffc0583        b4d864e5a2e0ce13 3010          16.200000   15060.800000\n",
       "                                 3110          17.400000   17409.000000\n",
       "                                 4020          20.285714   18792.285714\n",
       "                                 4030          19.000000   17919.714286\n",
       "                                 4070          24.000000   23054.428571\n",
       "                b5812175588a247c 2000           1.000000       0.000000\n",
       "                                 2020           5.000000    5903.000000\n",
       "                                 3010          28.000000   28436.500000\n",
       "                                 3020          28.666667   30250.333333\n",
       "                                 3110           4.000000    5903.000000\n",
       "                                 3120          32.666667   34226.333333\n",
       "                                 4010           2.000000    2536.000000\n",
       "                                 4020          19.000000   22687.000000\n",
       "                                 4030          28.909091   30543.363636\n",
       "                                 4035          34.625000   35103.875000\n",
       "                                 4070          24.250000   23963.333333\n",
       "                                 4090          52.000000   52138.000000\n",
       "                c09b94eebfdf50a6 2000           1.000000       0.000000\n",
       "                                 2060           7.000000   11026.000000\n",
       "                                 3010          27.166667   34049.333333\n",
       "                                 3021          17.000000   18643.000000\n",
       "                                 3110          29.166667   36466.333333\n",
       "                                 3121          23.000000   23393.000000\n",
       "                                 4010           2.000000    2327.000000\n",
       "                                 4070          36.645833   29293.979167\n",
       "                                 4090          64.000000  117165.000000\n",
       "                da9cabb5cb123df1 2000           1.000000       0.000000\n",
       "                e131c218f77fbeab 2000           1.000000       0.000000\n",
       "                e6b760e8f9e40ebf 2000           1.000000       0.000000\n",
       "                f31950f549d7c242 2000           1.000000       0.000000\n",
       "\n",
       "[1446847 rows x 2 columns]"
      ]
     },
     "execution_count": 131,
     "metadata": {},
     "output_type": "execute_result"
    }
   ],
   "source": [
    "train.groupby(['installation_id', 'game_session', 'event_code']).mean()"
   ]
  },
  {
   "cell_type": "code",
   "execution_count": 16,
   "metadata": {},
   "outputs": [
    {
     "data": {
      "image/png": "[encoded data removed]",
      "text/plain": [
       "<Figure size 1440x720 with 1 Axes>"
      ]
     },
     "metadata": {},
     "output_type": "display_data"
    }
   ],
   "source": [
    "sns.set_style(style='darkgrid')\n",
    "plt.figure(figsize = (20, 10))\n",
    "train.groupby('installation_id')['event_id'].count().plot(c=my_pal[2])\n",
    "\n",
    "plt.title('Count of Installation ID by Event ID')\n",
    "plt.show()"
   ]
  },
  {
   "cell_type": "code",
   "execution_count": null,
   "metadata": {},
   "outputs": [],
   "source": []
  },
  {
   "cell_type": "code",
   "execution_count": 18,
   "metadata": {},
   "outputs": [
    {
     "name": "stdout",
     "output_type": "stream",
     "text": [
      "<class 'pandas.core.frame.DataFrame'>\n",
      "Int64Index: 1000000 entries, 3072009 to 6775899\n",
      "Data columns (total 11 columns):\n",
      "event_id           1000000 non-null object\n",
      "game_session       1000000 non-null object\n",
      "timestamp          1000000 non-null object\n",
      "event_data         1000000 non-null object\n",
      "installation_id    1000000 non-null object\n",
      "event_count        1000000 non-null int64\n",
      "event_code         1000000 non-null int64\n",
      "game_time          1000000 non-null int64\n",
      "title              1000000 non-null object\n",
      "type               1000000 non-null object\n",
      "world              1000000 non-null object\n",
      "dtypes: int64(3), object(8)\n",
      "memory usage: 91.6+ MB\n"
     ]
    }
   ],
   "source": [
    "train_.info()"
   ]
  },
  {
   "cell_type": "code",
   "execution_count": 17,
   "metadata": {},
   "outputs": [
    {
     "name": "stdout",
     "output_type": "stream",
     "text": [
      "The train df has 17000 unique installation_id values and no nulls.\n",
      "The train_ df has 13291 unique installation_id values and no nulls.\n"
     ]
    }
   ],
   "source": [
    "print(f\"The train df has {train['installation_id'].nunique()} unique installation_id values and no nulls.\")\n",
    "print(f\"The train_ df has {train_['installation_id'].nunique()} unique installation_id values and no nulls.\")"
   ]
  },
  {
   "cell_type": "code",
   "execution_count": 18,
   "metadata": {},
   "outputs": [
    {
     "data": {
      "text/plain": [
       "event_id           0\n",
       "game_session       0\n",
       "timestamp          0\n",
       "event_data         0\n",
       "installation_id    0\n",
       "event_count        0\n",
       "event_code         0\n",
       "game_time          0\n",
       "title              0\n",
       "type               0\n",
       "world              0\n",
       "dtype: int64"
      ]
     },
     "execution_count": 18,
     "metadata": {},
     "output_type": "execute_result"
    }
   ],
   "source": [
    "train_.isnull().sum()"
   ]
  },
  {
   "cell_type": "code",
   "execution_count": 19,
   "metadata": {},
   "outputs": [
    {
     "data": {
      "text/plain": [
       "event_id              374\n",
       "game_session       124299\n",
       "timestamp          995165\n",
       "event_data         967738\n",
       "installation_id     13291\n",
       "title                  44\n",
       "type                    4\n",
       "world                   4\n",
       "dtype: int64"
      ]
     },
     "execution_count": 19,
     "metadata": {},
     "output_type": "execute_result"
    }
   ],
   "source": [
    "train_.select_dtypes('object').apply(pd.Series.nunique, axis = 0)"
   ]
  },
  {
   "cell_type": "code",
   "execution_count": null,
   "metadata": {},
   "outputs": [],
   "source": []
  },
  {
   "cell_type": "markdown",
   "metadata": {},
   "source": [
    "# Summarize train_labels df"
   ]
  },
  {
   "cell_type": "code",
   "execution_count": 20,
   "metadata": {},
   "outputs": [
    {
     "name": "stdout",
     "output_type": "stream",
     "text": [
      "The train_labels df has 17690 rows and 7 columns.\n"
     ]
    }
   ],
   "source": [
    "print(f'The train_labels df has {train_labels.shape[0]} rows and {train_labels.shape[1]} columns.')"
   ]
  },
  {
   "cell_type": "code",
   "execution_count": 21,
   "metadata": {},
   "outputs": [
    {
     "name": "stdout",
     "output_type": "stream",
     "text": [
      "The train_label df has 3614 unique installation_id values and no nulls.\n"
     ]
    }
   ],
   "source": [
    "print(f\"The train_label df has {train_labels['installation_id'].nunique()} unique installation_id values and no nulls.\")"
   ]
  },
  {
   "cell_type": "code",
   "execution_count": 22,
   "metadata": {},
   "outputs": [
    {
     "data": {
      "text/plain": [
       "game_session       0\n",
       "installation_id    0\n",
       "title              0\n",
       "num_correct        0\n",
       "num_incorrect      0\n",
       "accuracy           0\n",
       "accuracy_group     0\n",
       "dtype: int64"
      ]
     },
     "execution_count": 22,
     "metadata": {},
     "output_type": "execute_result"
    }
   ],
   "source": [
    "train_labels.isnull().sum()"
   ]
  },
  {
   "cell_type": "code",
   "execution_count": 134,
   "metadata": {},
   "outputs": [
    {
     "data": {
      "text/html": [
       "<div>\n",
       "<style scoped>\n",
       "    .dataframe tbody tr th:only-of-type {\n",
       "        vertical-align: middle;\n",
       "    }\n",
       "\n",
       "    .dataframe tbody tr th {\n",
       "        vertical-align: top;\n",
       "    }\n",
       "\n",
       "    .dataframe thead th {\n",
       "        text-align: right;\n",
       "    }\n",
       "</style>\n",
       "<table border=\"1\" class=\"dataframe\">\n",
       "  <thead>\n",
       "    <tr style=\"text-align: right;\">\n",
       "      <th></th>\n",
       "      <th>game_session</th>\n",
       "      <th>installation_id</th>\n",
       "      <th>title</th>\n",
       "      <th>num_correct</th>\n",
       "      <th>num_incorrect</th>\n",
       "      <th>accuracy</th>\n",
       "      <th>accuracy_group</th>\n",
       "    </tr>\n",
       "  </thead>\n",
       "  <tbody>\n",
       "    <tr>\n",
       "      <th>0</th>\n",
       "      <td>6bdf9623adc94d89</td>\n",
       "      <td>0006a69f</td>\n",
       "      <td>Mushroom Sorter (Assessment)</td>\n",
       "      <td>1</td>\n",
       "      <td>0</td>\n",
       "      <td>1.0</td>\n",
       "      <td>3</td>\n",
       "    </tr>\n",
       "    <tr>\n",
       "      <th>1</th>\n",
       "      <td>77b8ee947eb84b4e</td>\n",
       "      <td>0006a69f</td>\n",
       "      <td>Bird Measurer (Assessment)</td>\n",
       "      <td>0</td>\n",
       "      <td>11</td>\n",
       "      <td>0.0</td>\n",
       "      <td>0</td>\n",
       "    </tr>\n",
       "  </tbody>\n",
       "</table>\n",
       "</div>"
      ],
      "text/plain": [
       "       game_session installation_id                         title  \\\n",
       "0  6bdf9623adc94d89        0006a69f  Mushroom Sorter (Assessment)   \n",
       "1  77b8ee947eb84b4e        0006a69f    Bird Measurer (Assessment)   \n",
       "\n",
       "   num_correct  num_incorrect  accuracy  accuracy_group  \n",
       "0            1              0       1.0               3  \n",
       "1            0             11       0.0               0  "
      ]
     },
     "execution_count": 134,
     "metadata": {},
     "output_type": "execute_result"
    }
   ],
   "source": [
    "train_labels.head(2)"
   ]
  },
  {
   "cell_type": "code",
   "execution_count": 26,
   "metadata": {},
   "outputs": [
    {
     "data": {
      "text/plain": [
       "game_session       17690\n",
       "installation_id     3614\n",
       "title                  5\n",
       "dtype: int64"
      ]
     },
     "execution_count": 26,
     "metadata": {},
     "output_type": "execute_result"
    }
   ],
   "source": [
    "train_labels.select_dtypes('object').apply(pd.Series.nunique, axis = 0)\n"
   ]
  },
  {
   "cell_type": "markdown",
   "metadata": {},
   "source": [
    "## 50% of users pass the assessments on the first try"
   ]
  },
  {
   "cell_type": "code",
   "execution_count": 27,
   "metadata": {},
   "outputs": [
    {
     "data": {
      "text/plain": [
       "accuracy_group\n",
       "0    4229\n",
       "1    2411\n",
       "2    2205\n",
       "3    8845\n",
       "Name: installation_id, dtype: int64"
      ]
     },
     "execution_count": 27,
     "metadata": {},
     "output_type": "execute_result"
    }
   ],
   "source": [
    "train_labels.groupby('accuracy_group')['installation_id'].count()"
   ]
  },
  {
   "cell_type": "code",
   "execution_count": 28,
   "metadata": {},
   "outputs": [],
   "source": [
    "values = pd.DataFrame()"
   ]
  },
  {
   "cell_type": "code",
   "execution_count": 29,
   "metadata": {},
   "outputs": [],
   "source": [
    "values['percent'] = train_labels.accuracy_group.value_counts(normalize=True)"
   ]
  },
  {
   "cell_type": "code",
   "execution_count": 30,
   "metadata": {},
   "outputs": [
    {
     "data": {
      "text/html": [
       "<div>\n",
       "<style scoped>\n",
       "    .dataframe tbody tr th:only-of-type {\n",
       "        vertical-align: middle;\n",
       "    }\n",
       "\n",
       "    .dataframe tbody tr th {\n",
       "        vertical-align: top;\n",
       "    }\n",
       "\n",
       "    .dataframe thead th {\n",
       "        text-align: right;\n",
       "    }\n",
       "</style>\n",
       "<table border=\"1\" class=\"dataframe\">\n",
       "  <thead>\n",
       "    <tr style=\"text-align: right;\">\n",
       "      <th></th>\n",
       "      <th>percent</th>\n",
       "      <th>count</th>\n",
       "    </tr>\n",
       "  </thead>\n",
       "  <tbody>\n",
       "    <tr>\n",
       "      <th>3</th>\n",
       "      <td>0.500000</td>\n",
       "      <td>8845</td>\n",
       "    </tr>\n",
       "    <tr>\n",
       "      <th>0</th>\n",
       "      <td>0.239062</td>\n",
       "      <td>4229</td>\n",
       "    </tr>\n",
       "    <tr>\n",
       "      <th>1</th>\n",
       "      <td>0.136292</td>\n",
       "      <td>2411</td>\n",
       "    </tr>\n",
       "    <tr>\n",
       "      <th>2</th>\n",
       "      <td>0.124647</td>\n",
       "      <td>2205</td>\n",
       "    </tr>\n",
       "  </tbody>\n",
       "</table>\n",
       "</div>"
      ],
      "text/plain": [
       "    percent  count\n",
       "3  0.500000   8845\n",
       "0  0.239062   4229\n",
       "1  0.136292   2411\n",
       "2  0.124647   2205"
      ]
     },
     "execution_count": 30,
     "metadata": {},
     "output_type": "execute_result"
    }
   ],
   "source": [
    "values['count'] = train_labels.accuracy_group.value_counts()\n",
    "values"
   ]
  },
  {
   "cell_type": "markdown",
   "metadata": {},
   "source": [
    "# Summarize spec data"
   ]
  },
  {
   "cell_type": "code",
   "execution_count": 31,
   "metadata": {},
   "outputs": [
    {
     "name": "stdout",
     "output_type": "stream",
     "text": [
      "The specs df has 386 rows and 3 columns.\n"
     ]
    }
   ],
   "source": [
    "print(f'The specs df has {specs.shape[0]} rows and {specs.shape[1]} columns.')"
   ]
  },
  {
   "cell_type": "code",
   "execution_count": 32,
   "metadata": {},
   "outputs": [
    {
     "data": {
      "text/html": [
       "<div>\n",
       "<style scoped>\n",
       "    .dataframe tbody tr th:only-of-type {\n",
       "        vertical-align: middle;\n",
       "    }\n",
       "\n",
       "    .dataframe tbody tr th {\n",
       "        vertical-align: top;\n",
       "    }\n",
       "\n",
       "    .dataframe thead th {\n",
       "        text-align: right;\n",
       "    }\n",
       "</style>\n",
       "<table border=\"1\" class=\"dataframe\">\n",
       "  <thead>\n",
       "    <tr style=\"text-align: right;\">\n",
       "      <th></th>\n",
       "      <th>event_id</th>\n",
       "      <th>info</th>\n",
       "      <th>args</th>\n",
       "    </tr>\n",
       "  </thead>\n",
       "  <tbody>\n",
       "    <tr>\n",
       "      <th>0</th>\n",
       "      <td>2b9272f4</td>\n",
       "      <td>The end of system-initiated feedback (Correct)...</td>\n",
       "      <td>[{\"name\":\"game_time\",\"type\":\"int\",\"info\":\"mill...</td>\n",
       "    </tr>\n",
       "    <tr>\n",
       "      <th>1</th>\n",
       "      <td>df4fe8b6</td>\n",
       "      <td>The end of system-initiated feedback (Incorrec...</td>\n",
       "      <td>[{\"name\":\"game_time\",\"type\":\"int\",\"info\":\"mill...</td>\n",
       "    </tr>\n",
       "    <tr>\n",
       "      <th>2</th>\n",
       "      <td>3babcb9b</td>\n",
       "      <td>The end of system-initiated instruction event ...</td>\n",
       "      <td>[{\"name\":\"game_time\",\"type\":\"int\",\"info\":\"mill...</td>\n",
       "    </tr>\n",
       "    <tr>\n",
       "      <th>3</th>\n",
       "      <td>7f0836bf</td>\n",
       "      <td>The end of system-initiated instruction event ...</td>\n",
       "      <td>[{\"name\":\"game_time\",\"type\":\"int\",\"info\":\"mill...</td>\n",
       "    </tr>\n",
       "    <tr>\n",
       "      <th>4</th>\n",
       "      <td>ab3136ba</td>\n",
       "      <td>The end of system-initiated instruction event ...</td>\n",
       "      <td>[{\"name\":\"game_time\",\"type\":\"int\",\"info\":\"mill...</td>\n",
       "    </tr>\n",
       "  </tbody>\n",
       "</table>\n",
       "</div>"
      ],
      "text/plain": [
       "   event_id                                               info  \\\n",
       "0  2b9272f4  The end of system-initiated feedback (Correct)...   \n",
       "1  df4fe8b6  The end of system-initiated feedback (Incorrec...   \n",
       "2  3babcb9b  The end of system-initiated instruction event ...   \n",
       "3  7f0836bf  The end of system-initiated instruction event ...   \n",
       "4  ab3136ba  The end of system-initiated instruction event ...   \n",
       "\n",
       "                                                args  \n",
       "0  [{\"name\":\"game_time\",\"type\":\"int\",\"info\":\"mill...  \n",
       "1  [{\"name\":\"game_time\",\"type\":\"int\",\"info\":\"mill...  \n",
       "2  [{\"name\":\"game_time\",\"type\":\"int\",\"info\":\"mill...  \n",
       "3  [{\"name\":\"game_time\",\"type\":\"int\",\"info\":\"mill...  \n",
       "4  [{\"name\":\"game_time\",\"type\":\"int\",\"info\":\"mill...  "
      ]
     },
     "execution_count": 32,
     "metadata": {},
     "output_type": "execute_result"
    }
   ],
   "source": [
    "specs.head()"
   ]
  },
  {
   "cell_type": "code",
   "execution_count": 33,
   "metadata": {},
   "outputs": [
    {
     "data": {
      "text/plain": [
       "event_id    386\n",
       "info        168\n",
       "args        191\n",
       "dtype: int64"
      ]
     },
     "execution_count": 33,
     "metadata": {},
     "output_type": "execute_result"
    }
   ],
   "source": [
    "specs.select_dtypes('object').apply(pd.Series.nunique, axis = 0)"
   ]
  },
  {
   "cell_type": "code",
   "execution_count": null,
   "metadata": {},
   "outputs": [],
   "source": []
  },
  {
   "cell_type": "code",
   "execution_count": null,
   "metadata": {},
   "outputs": [],
   "source": []
  },
  {
   "cell_type": "markdown",
   "metadata": {},
   "source": [
    "# Explore train_ df"
   ]
  },
  {
   "cell_type": "code",
   "execution_count": 132,
   "metadata": {},
   "outputs": [
    {
     "data": {
      "text/plain": [
       "(          event_count      event_code     game_time\n",
       " count  1000000.000000  1000000.000000  1.000000e+06\n",
       " mean       105.436747     3513.852980  1.980681e+05\n",
       " std        147.643788      681.717893  1.860275e+06\n",
       " min          1.000000     2000.000000  0.000000e+00\n",
       " 25%         25.000000     3021.000000  3.057200e+04\n",
       " 50%         60.000000     4020.000000  7.254400e+04\n",
       " 75%        128.000000     4035.000000  1.574625e+05\n",
       " max       3352.000000     5010.000000  3.069097e+08,\n",
       "         event_count    event_code     game_time\n",
       " count  1.134104e+07  1.134104e+07  1.134104e+07\n",
       " mean   1.056642e+02  3.513838e+03  1.976236e+05\n",
       " std    1.483477e+02  6.816470e+02  1.803968e+06\n",
       " min    1.000000e+00  2.000000e+03  0.000000e+00\n",
       " 25%    2.500000e+01  3.021000e+03  3.061800e+04\n",
       " 50%    6.100000e+01  4.020000e+03  7.276100e+04\n",
       " 75%    1.290000e+02  4.035000e+03  1.574460e+05\n",
       " max    3.368000e+03  5.010000e+03  3.069102e+08)"
      ]
     },
     "execution_count": 132,
     "metadata": {},
     "output_type": "execute_result"
    }
   ],
   "source": [
    "# train sample df representative of train df\n",
    "\n",
    "train_.describe(), train.describe()"
   ]
  },
  {
   "cell_type": "code",
   "execution_count": 34,
   "metadata": {},
   "outputs": [
    {
     "data": {
      "text/html": [
       "<div>\n",
       "<style scoped>\n",
       "    .dataframe tbody tr th:only-of-type {\n",
       "        vertical-align: middle;\n",
       "    }\n",
       "\n",
       "    .dataframe tbody tr th {\n",
       "        vertical-align: top;\n",
       "    }\n",
       "\n",
       "    .dataframe thead th {\n",
       "        text-align: right;\n",
       "    }\n",
       "</style>\n",
       "<table border=\"1\" class=\"dataframe\">\n",
       "  <thead>\n",
       "    <tr style=\"text-align: right;\">\n",
       "      <th></th>\n",
       "      <th>event_count</th>\n",
       "      <th>event_code</th>\n",
       "      <th>game_time</th>\n",
       "    </tr>\n",
       "  </thead>\n",
       "  <tbody>\n",
       "    <tr>\n",
       "      <th>event_count</th>\n",
       "      <td>1.000000</td>\n",
       "      <td>0.043400</td>\n",
       "      <td>0.137767</td>\n",
       "    </tr>\n",
       "    <tr>\n",
       "      <th>event_code</th>\n",
       "      <td>0.043400</td>\n",
       "      <td>1.000000</td>\n",
       "      <td>0.005341</td>\n",
       "    </tr>\n",
       "    <tr>\n",
       "      <th>game_time</th>\n",
       "      <td>0.137767</td>\n",
       "      <td>0.005341</td>\n",
       "      <td>1.000000</td>\n",
       "    </tr>\n",
       "  </tbody>\n",
       "</table>\n",
       "</div>"
      ],
      "text/plain": [
       "             event_count  event_code  game_time\n",
       "event_count     1.000000    0.043400   0.137767\n",
       "event_code      0.043400    1.000000   0.005341\n",
       "game_time       0.137767    0.005341   1.000000"
      ]
     },
     "execution_count": 34,
     "metadata": {},
     "output_type": "execute_result"
    }
   ],
   "source": [
    "corrs = train_.corr()\n",
    "corrs"
   ]
  },
  {
   "cell_type": "code",
   "execution_count": 35,
   "metadata": {},
   "outputs": [
    {
     "data": {
      "image/png": "[encoded data removed]",
      "text/plain": [
       "<Figure size 1440x720 with 2 Axes>"
      ]
     },
     "metadata": {},
     "output_type": "display_data"
    }
   ],
   "source": [
    "plt.figure(figsize = (20, 10))\n",
    "\n",
    "sns.heatmap(corrs, cmap = my_pal, annot = True)\n",
    "plt.title('Correlation Heatmap');"
   ]
  },
  {
   "cell_type": "code",
   "execution_count": 36,
   "metadata": {},
   "outputs": [
    {
     "data": {
      "image/png": "[encoded data removed]",
      "text/plain": [
       "<Figure size 1080x360 with 1 Axes>"
      ]
     },
     "metadata": {},
     "output_type": "display_data"
    }
   ],
   "source": [
    "train.groupby('installation_id') \\\n",
    "    .count()['event_id'] \\\n",
    "    .apply(np.log1p) \\\n",
    "    .plot(kind='hist',\n",
    "          bins=40,\n",
    "          color=my_pal[2],\n",
    "         figsize=(15, 5),\n",
    "         title='Log(Count) of Observations by installation_id')\n",
    "plt.show()"
   ]
  },
  {
   "cell_type": "code",
   "execution_count": 37,
   "metadata": {},
   "outputs": [
    {
     "data": {
      "text/html": [
       "<div>\n",
       "<style scoped>\n",
       "    .dataframe tbody tr th:only-of-type {\n",
       "        vertical-align: middle;\n",
       "    }\n",
       "\n",
       "    .dataframe tbody tr th {\n",
       "        vertical-align: top;\n",
       "    }\n",
       "\n",
       "    .dataframe thead th {\n",
       "        text-align: right;\n",
       "    }\n",
       "</style>\n",
       "<table border=\"1\" class=\"dataframe\">\n",
       "  <thead>\n",
       "    <tr style=\"text-align: right;\">\n",
       "      <th></th>\n",
       "      <th>event_id</th>\n",
       "      <th>game_session</th>\n",
       "      <th>timestamp</th>\n",
       "      <th>event_data</th>\n",
       "      <th>installation_id</th>\n",
       "      <th>event_count</th>\n",
       "      <th>event_code</th>\n",
       "      <th>game_time</th>\n",
       "      <th>title</th>\n",
       "      <th>type</th>\n",
       "      <th>world</th>\n",
       "    </tr>\n",
       "  </thead>\n",
       "  <tbody>\n",
       "    <tr>\n",
       "      <th>2200714</th>\n",
       "      <td>69fdac0a</td>\n",
       "      <td>47fe9a06a5b6fe3a</td>\n",
       "      <td>2019-09-25T13:53:03.256Z</td>\n",
       "      <td>{\"description\":\"When one side tips down… that ...</td>\n",
       "      <td>31142574</td>\n",
       "      <td>74</td>\n",
       "      <td>3110</td>\n",
       "      <td>99080</td>\n",
       "      <td>Happy Camel</td>\n",
       "      <td>Game</td>\n",
       "      <td>CRYSTALCAVES</td>\n",
       "    </tr>\n",
       "  </tbody>\n",
       "</table>\n",
       "</div>"
      ],
      "text/plain": [
       "         event_id      game_session                 timestamp  \\\n",
       "2200714  69fdac0a  47fe9a06a5b6fe3a  2019-09-25T13:53:03.256Z   \n",
       "\n",
       "                                                event_data installation_id  \\\n",
       "2200714  {\"description\":\"When one side tips down… that ...        31142574   \n",
       "\n",
       "         event_count  event_code  game_time        title  type         world  \n",
       "2200714           74        3110      99080  Happy Camel  Game  CRYSTALCAVES  "
      ]
     },
     "execution_count": 37,
     "metadata": {},
     "output_type": "execute_result"
    }
   ],
   "source": [
    "train_.head(1)"
   ]
  },
  {
   "cell_type": "code",
   "execution_count": 38,
   "metadata": {},
   "outputs": [
    {
     "data": {
      "text/html": [
       "<div>\n",
       "<style scoped>\n",
       "    .dataframe tbody tr th:only-of-type {\n",
       "        vertical-align: middle;\n",
       "    }\n",
       "\n",
       "    .dataframe tbody tr th {\n",
       "        vertical-align: top;\n",
       "    }\n",
       "\n",
       "    .dataframe thead th {\n",
       "        text-align: right;\n",
       "    }\n",
       "</style>\n",
       "<table border=\"1\" class=\"dataframe\">\n",
       "  <thead>\n",
       "    <tr style=\"text-align: right;\">\n",
       "      <th></th>\n",
       "      <th>game_session</th>\n",
       "      <th>installation_id</th>\n",
       "      <th>title</th>\n",
       "      <th>num_correct</th>\n",
       "      <th>num_incorrect</th>\n",
       "      <th>accuracy</th>\n",
       "      <th>accuracy_group</th>\n",
       "    </tr>\n",
       "  </thead>\n",
       "  <tbody>\n",
       "    <tr>\n",
       "      <th>0</th>\n",
       "      <td>6bdf9623adc94d89</td>\n",
       "      <td>0006a69f</td>\n",
       "      <td>Mushroom Sorter (Assessment)</td>\n",
       "      <td>1</td>\n",
       "      <td>0</td>\n",
       "      <td>1.0</td>\n",
       "      <td>3</td>\n",
       "    </tr>\n",
       "  </tbody>\n",
       "</table>\n",
       "</div>"
      ],
      "text/plain": [
       "       game_session installation_id                         title  \\\n",
       "0  6bdf9623adc94d89        0006a69f  Mushroom Sorter (Assessment)   \n",
       "\n",
       "   num_correct  num_incorrect  accuracy  accuracy_group  \n",
       "0            1              0       1.0               3  "
      ]
     },
     "execution_count": 38,
     "metadata": {},
     "output_type": "execute_result"
    }
   ],
   "source": [
    "train_labels.head(1)"
   ]
  },
  {
   "cell_type": "code",
   "execution_count": 39,
   "metadata": {},
   "outputs": [
    {
     "data": {
      "text/html": [
       "<div>\n",
       "<style scoped>\n",
       "    .dataframe tbody tr th:only-of-type {\n",
       "        vertical-align: middle;\n",
       "    }\n",
       "\n",
       "    .dataframe tbody tr th {\n",
       "        vertical-align: top;\n",
       "    }\n",
       "\n",
       "    .dataframe thead th {\n",
       "        text-align: right;\n",
       "    }\n",
       "</style>\n",
       "<table border=\"1\" class=\"dataframe\">\n",
       "  <thead>\n",
       "    <tr style=\"text-align: right;\">\n",
       "      <th></th>\n",
       "      <th>event_id</th>\n",
       "      <th>game_session</th>\n",
       "      <th>timestamp</th>\n",
       "      <th>event_data</th>\n",
       "      <th>installation_id</th>\n",
       "      <th>event_count</th>\n",
       "      <th>event_code</th>\n",
       "      <th>game_time</th>\n",
       "      <th>title_x</th>\n",
       "      <th>type</th>\n",
       "      <th>world</th>\n",
       "      <th>title_y</th>\n",
       "      <th>num_correct</th>\n",
       "      <th>num_incorrect</th>\n",
       "      <th>accuracy</th>\n",
       "      <th>accuracy_group</th>\n",
       "    </tr>\n",
       "  </thead>\n",
       "  <tbody>\n",
       "    <tr>\n",
       "      <th>0</th>\n",
       "      <td>3bfd1a65</td>\n",
       "      <td>901acc108f55a5a1</td>\n",
       "      <td>2019-08-06T05:22:01.344Z</td>\n",
       "      <td>{\"version\":\"1.0\",\"event_count\":1,\"game_time\":0...</td>\n",
       "      <td>0006a69f</td>\n",
       "      <td>1</td>\n",
       "      <td>2000</td>\n",
       "      <td>0</td>\n",
       "      <td>Mushroom Sorter (Assessment)</td>\n",
       "      <td>Assessment</td>\n",
       "      <td>TREETOPCITY</td>\n",
       "      <td>Mushroom Sorter (Assessment)</td>\n",
       "      <td>1</td>\n",
       "      <td>0</td>\n",
       "      <td>1.0</td>\n",
       "      <td>3</td>\n",
       "    </tr>\n",
       "  </tbody>\n",
       "</table>\n",
       "</div>"
      ],
      "text/plain": [
       "   event_id      game_session                 timestamp  \\\n",
       "0  3bfd1a65  901acc108f55a5a1  2019-08-06T05:22:01.344Z   \n",
       "\n",
       "                                          event_data installation_id  \\\n",
       "0  {\"version\":\"1.0\",\"event_count\":1,\"game_time\":0...        0006a69f   \n",
       "\n",
       "   event_count  event_code  game_time                       title_x  \\\n",
       "0            1        2000          0  Mushroom Sorter (Assessment)   \n",
       "\n",
       "         type        world                       title_y  num_correct  \\\n",
       "0  Assessment  TREETOPCITY  Mushroom Sorter (Assessment)            1   \n",
       "\n",
       "   num_incorrect  accuracy  accuracy_group  \n",
       "0              0       1.0               3  "
      ]
     },
     "execution_count": 39,
     "metadata": {},
     "output_type": "execute_result"
    }
   ],
   "source": [
    "merge.head(1)"
   ]
  },
  {
   "cell_type": "code",
   "execution_count": 40,
   "metadata": {},
   "outputs": [
    {
     "data": {
      "image/png": "[encoded data removed]",
      "text/plain": [
       "<Figure size 1440x1080 with 1 Axes>"
      ]
     },
     "metadata": {},
     "output_type": "display_data"
    }
   ],
   "source": [
    "train['title'].value_counts().plot(kind='barh', figsize=(20, 15), title='Count by Title', color=my_pal[2])\n",
    "\n",
    "plt.show()"
   ]
  },
  {
   "cell_type": "code",
   "execution_count": 41,
   "metadata": {},
   "outputs": [
    {
     "data": {
      "text/plain": [
       "MAGMAPEAK       5023687\n",
       "CRYSTALCAVES    3232546\n",
       "TREETOPCITY     3061231\n",
       "NONE              23578\n",
       "Name: world, dtype: int64"
      ]
     },
     "execution_count": 41,
     "metadata": {},
     "output_type": "execute_result"
    }
   ],
   "source": [
    "train.world.value_counts()"
   ]
  },
  {
   "cell_type": "markdown",
   "metadata": {},
   "source": [
    "- Convert timestamp to datetime object and extract hour time parts for exploration"
   ]
  },
  {
   "cell_type": "code",
   "execution_count": 98,
   "metadata": {},
   "outputs": [],
   "source": [
    "# Format and make date / hour features\n",
    "train['timestamp'] = pd.to_datetime(train['timestamp'])\n",
    "train['date'] = train['timestamp'].dt.date\n",
    "train['hour'] = train['timestamp'].dt.hour\n",
    "train['weekday_name'] = train['timestamp'].dt.weekday_name\n",
    "# Same for test\n",
    "test['timestamp'] = pd.to_datetime(test['timestamp'])\n",
    "test['date'] = test['timestamp'].dt.date\n",
    "test['hour'] = test['timestamp'].dt.hour\n",
    "test['weekday_name'] = test['timestamp'].dt.weekday_name"
   ]
  },
  {
   "cell_type": "code",
   "execution_count": 43,
   "metadata": {},
   "outputs": [
    {
     "data": {
      "text/html": [
       "<div>\n",
       "<style scoped>\n",
       "    .dataframe tbody tr th:only-of-type {\n",
       "        vertical-align: middle;\n",
       "    }\n",
       "\n",
       "    .dataframe tbody tr th {\n",
       "        vertical-align: top;\n",
       "    }\n",
       "\n",
       "    .dataframe thead th {\n",
       "        text-align: right;\n",
       "    }\n",
       "</style>\n",
       "<table border=\"1\" class=\"dataframe\">\n",
       "  <thead>\n",
       "    <tr style=\"text-align: right;\">\n",
       "      <th></th>\n",
       "      <th>event_id</th>\n",
       "      <th>game_session</th>\n",
       "      <th>timestamp</th>\n",
       "      <th>event_data</th>\n",
       "      <th>installation_id</th>\n",
       "      <th>event_count</th>\n",
       "      <th>event_code</th>\n",
       "      <th>game_time</th>\n",
       "      <th>title_x</th>\n",
       "      <th>type</th>\n",
       "      <th>world</th>\n",
       "      <th>title_y</th>\n",
       "      <th>num_correct</th>\n",
       "      <th>num_incorrect</th>\n",
       "      <th>accuracy</th>\n",
       "      <th>accuracy_group</th>\n",
       "      <th>date</th>\n",
       "      <th>hour</th>\n",
       "      <th>weekday_name</th>\n",
       "    </tr>\n",
       "  </thead>\n",
       "  <tbody>\n",
       "    <tr>\n",
       "      <th>0</th>\n",
       "      <td>3bfd1a65</td>\n",
       "      <td>901acc108f55a5a1</td>\n",
       "      <td>2019-08-06 05:22:01.344000+00:00</td>\n",
       "      <td>{\"version\":\"1.0\",\"event_count\":1,\"game_time\":0...</td>\n",
       "      <td>0006a69f</td>\n",
       "      <td>1</td>\n",
       "      <td>2000</td>\n",
       "      <td>0</td>\n",
       "      <td>Mushroom Sorter (Assessment)</td>\n",
       "      <td>Assessment</td>\n",
       "      <td>TREETOPCITY</td>\n",
       "      <td>Mushroom Sorter (Assessment)</td>\n",
       "      <td>1</td>\n",
       "      <td>0</td>\n",
       "      <td>1.0</td>\n",
       "      <td>3</td>\n",
       "      <td>2019-08-06</td>\n",
       "      <td>5</td>\n",
       "      <td>Tuesday</td>\n",
       "    </tr>\n",
       "  </tbody>\n",
       "</table>\n",
       "</div>"
      ],
      "text/plain": [
       "   event_id      game_session                        timestamp  \\\n",
       "0  3bfd1a65  901acc108f55a5a1 2019-08-06 05:22:01.344000+00:00   \n",
       "\n",
       "                                          event_data installation_id  \\\n",
       "0  {\"version\":\"1.0\",\"event_count\":1,\"game_time\":0...        0006a69f   \n",
       "\n",
       "   event_count  event_code  game_time                       title_x  \\\n",
       "0            1        2000          0  Mushroom Sorter (Assessment)   \n",
       "\n",
       "         type        world                       title_y  num_correct  \\\n",
       "0  Assessment  TREETOPCITY  Mushroom Sorter (Assessment)            1   \n",
       "\n",
       "   num_incorrect  accuracy  accuracy_group        date  hour weekday_name  \n",
       "0              0       1.0               3  2019-08-06     5      Tuesday  "
      ]
     },
     "execution_count": 43,
     "metadata": {},
     "output_type": "execute_result"
    }
   ],
   "source": [
    "train.head(1)"
   ]
  },
  {
   "cell_type": "code",
   "execution_count": 44,
   "metadata": {},
   "outputs": [
    {
     "data": {
      "text/plain": [
       "Saturday     133969\n",
       "Thursday     127503\n",
       "Friday       127255\n",
       "Sunday       125414\n",
       "Monday       120935\n",
       "Tuesday      115423\n",
       "Wednesday    114948\n",
       "Name: weekday_name, dtype: int64"
      ]
     },
     "execution_count": 44,
     "metadata": {},
     "output_type": "execute_result"
    }
   ],
   "source": [
    "train.weekday_name.value_counts()"
   ]
  },
  {
   "cell_type": "code",
   "execution_count": null,
   "metadata": {},
   "outputs": [],
   "source": []
  },
  {
   "cell_type": "code",
   "execution_count": 99,
   "metadata": {},
   "outputs": [
    {
     "data": {
      "image/png": "[encoded data removed]",
      "text/plain": [
       "<Figure size 1080x216 with 1 Axes>"
      ]
     },
     "metadata": {},
     "output_type": "display_data"
    },
    {
     "data": {
      "image/png": "[encoded data removed]",
      "text/plain": [
       "<Figure size 1080x216 with 1 Axes>"
      ]
     },
     "metadata": {},
     "output_type": "display_data"
    },
    {
     "data": {
      "image/png": "[encoded data removed]",
      "text/plain": [
       "<Figure size 1080x216 with 1 Axes>"
      ]
     },
     "metadata": {},
     "output_type": "display_data"
    }
   ],
   "source": [
    "train.groupby('date')['event_id'] \\\n",
    "    .agg('count') \\\n",
    "    .plot(figsize=(15, 3),\n",
    "         title='Numer of Event Observations by Date',\n",
    "         color=my_pal[2])\n",
    "plt.show()\n",
    "train.groupby('hour')['event_id'] \\\n",
    "    .agg('count') \\\n",
    "    .plot(figsize=(15, 3),\n",
    "         title='Numer of Event Observations by Hour',\n",
    "         color=my_pal[3])\n",
    "plt.show()\n",
    "train.groupby('weekday_name')['event_id'] \\\n",
    "    .agg('count').T[['Monday','Tuesday','Wednesday',\n",
    "                     'Thursday','Friday','Saturday',\n",
    "                     'Sunday']].T.plot(figsize=(15, 3),\n",
    "                                       title='Numer of Event Observations by Day of Week',\n",
    "                                       color=my_pal[4])\n",
    "plt.show()"
   ]
  },
  {
   "cell_type": "code",
   "execution_count": null,
   "metadata": {},
   "outputs": [],
   "source": []
  },
  {
   "cell_type": "markdown",
   "metadata": {},
   "source": [
    "# Explore train_labels df"
   ]
  },
  {
   "cell_type": "code",
   "execution_count": 19,
   "metadata": {},
   "outputs": [
    {
     "data": {
      "text/html": [
       "<div>\n",
       "<style scoped>\n",
       "    .dataframe tbody tr th:only-of-type {\n",
       "        vertical-align: middle;\n",
       "    }\n",
       "\n",
       "    .dataframe tbody tr th {\n",
       "        vertical-align: top;\n",
       "    }\n",
       "\n",
       "    .dataframe thead th {\n",
       "        text-align: right;\n",
       "    }\n",
       "</style>\n",
       "<table border=\"1\" class=\"dataframe\">\n",
       "  <thead>\n",
       "    <tr style=\"text-align: right;\">\n",
       "      <th></th>\n",
       "      <th>game_session</th>\n",
       "      <th>installation_id</th>\n",
       "      <th>title</th>\n",
       "      <th>num_correct</th>\n",
       "      <th>num_incorrect</th>\n",
       "      <th>accuracy</th>\n",
       "      <th>accuracy_group</th>\n",
       "    </tr>\n",
       "  </thead>\n",
       "  <tbody>\n",
       "    <tr>\n",
       "      <th>0</th>\n",
       "      <td>6bdf9623adc94d89</td>\n",
       "      <td>0006a69f</td>\n",
       "      <td>Mushroom Sorter (Assessment)</td>\n",
       "      <td>1</td>\n",
       "      <td>0</td>\n",
       "      <td>1.0</td>\n",
       "      <td>3</td>\n",
       "    </tr>\n",
       "    <tr>\n",
       "      <th>1</th>\n",
       "      <td>77b8ee947eb84b4e</td>\n",
       "      <td>0006a69f</td>\n",
       "      <td>Bird Measurer (Assessment)</td>\n",
       "      <td>0</td>\n",
       "      <td>11</td>\n",
       "      <td>0.0</td>\n",
       "      <td>0</td>\n",
       "    </tr>\n",
       "    <tr>\n",
       "      <th>2</th>\n",
       "      <td>901acc108f55a5a1</td>\n",
       "      <td>0006a69f</td>\n",
       "      <td>Mushroom Sorter (Assessment)</td>\n",
       "      <td>1</td>\n",
       "      <td>0</td>\n",
       "      <td>1.0</td>\n",
       "      <td>3</td>\n",
       "    </tr>\n",
       "    <tr>\n",
       "      <th>3</th>\n",
       "      <td>9501794defd84e4d</td>\n",
       "      <td>0006a69f</td>\n",
       "      <td>Mushroom Sorter (Assessment)</td>\n",
       "      <td>1</td>\n",
       "      <td>1</td>\n",
       "      <td>0.5</td>\n",
       "      <td>2</td>\n",
       "    </tr>\n",
       "    <tr>\n",
       "      <th>4</th>\n",
       "      <td>a9ef3ecb3d1acc6a</td>\n",
       "      <td>0006a69f</td>\n",
       "      <td>Bird Measurer (Assessment)</td>\n",
       "      <td>1</td>\n",
       "      <td>0</td>\n",
       "      <td>1.0</td>\n",
       "      <td>3</td>\n",
       "    </tr>\n",
       "  </tbody>\n",
       "</table>\n",
       "</div>"
      ],
      "text/plain": [
       "       game_session installation_id                         title  \\\n",
       "0  6bdf9623adc94d89        0006a69f  Mushroom Sorter (Assessment)   \n",
       "1  77b8ee947eb84b4e        0006a69f    Bird Measurer (Assessment)   \n",
       "2  901acc108f55a5a1        0006a69f  Mushroom Sorter (Assessment)   \n",
       "3  9501794defd84e4d        0006a69f  Mushroom Sorter (Assessment)   \n",
       "4  a9ef3ecb3d1acc6a        0006a69f    Bird Measurer (Assessment)   \n",
       "\n",
       "   num_correct  num_incorrect  accuracy  accuracy_group  \n",
       "0            1              0       1.0               3  \n",
       "1            0             11       0.0               0  \n",
       "2            1              0       1.0               3  \n",
       "3            1              1       0.5               2  \n",
       "4            1              0       1.0               3  "
      ]
     },
     "execution_count": 19,
     "metadata": {},
     "output_type": "execute_result"
    }
   ],
   "source": [
    "train_labels.head()"
   ]
  },
  {
   "cell_type": "code",
   "execution_count": 75,
   "metadata": {},
   "outputs": [
    {
     "data": {
      "image/png": "[encoded data removed]",
      "text/plain": [
       "<Figure size 576x432 with 1 Axes>"
      ]
     },
     "metadata": {},
     "output_type": "display_data"
    }
   ],
   "source": [
    "plt.figure(figsize=(8, 6))\n",
    "\n",
    "sns.countplot(x=\"accuracy_group\",data=train_labels, order = train_labels['accuracy_group'].value_counts().index, palette=my_pal)\n",
    "\n",
    "plt.title('Accuracy Group Count')\n",
    "plt.tight_layout()\n",
    "plt.show()"
   ]
  },
  {
   "cell_type": "code",
   "execution_count": 76,
   "metadata": {},
   "outputs": [
    {
     "data": {
      "text/html": [
       "<div>\n",
       "<style scoped>\n",
       "    .dataframe tbody tr th:only-of-type {\n",
       "        vertical-align: middle;\n",
       "    }\n",
       "\n",
       "    .dataframe tbody tr th {\n",
       "        vertical-align: top;\n",
       "    }\n",
       "\n",
       "    .dataframe thead th {\n",
       "        text-align: right;\n",
       "    }\n",
       "</style>\n",
       "<table border=\"1\" class=\"dataframe\">\n",
       "  <thead>\n",
       "    <tr style=\"text-align: right;\">\n",
       "      <th></th>\n",
       "      <th>event_count</th>\n",
       "      <th>event_code</th>\n",
       "      <th>game_time</th>\n",
       "      <th>num_correct</th>\n",
       "      <th>num_incorrect</th>\n",
       "      <th>accuracy</th>\n",
       "      <th>accuracy_group</th>\n",
       "    </tr>\n",
       "  </thead>\n",
       "  <tbody>\n",
       "    <tr>\n",
       "      <th>event_count</th>\n",
       "      <td>1.000000</td>\n",
       "      <td>0.043830</td>\n",
       "      <td>0.142553</td>\n",
       "      <td>-0.126638</td>\n",
       "      <td>0.472223</td>\n",
       "      <td>-0.277291</td>\n",
       "      <td>-0.256580</td>\n",
       "    </tr>\n",
       "    <tr>\n",
       "      <th>event_code</th>\n",
       "      <td>0.043830</td>\n",
       "      <td>1.000000</td>\n",
       "      <td>0.005257</td>\n",
       "      <td>-0.142874</td>\n",
       "      <td>0.108351</td>\n",
       "      <td>-0.200408</td>\n",
       "      <td>-0.197680</td>\n",
       "    </tr>\n",
       "    <tr>\n",
       "      <th>game_time</th>\n",
       "      <td>0.142553</td>\n",
       "      <td>0.005257</td>\n",
       "      <td>1.000000</td>\n",
       "      <td>-0.002159</td>\n",
       "      <td>0.043026</td>\n",
       "      <td>-0.032363</td>\n",
       "      <td>-0.026637</td>\n",
       "    </tr>\n",
       "    <tr>\n",
       "      <th>num_correct</th>\n",
       "      <td>-0.126638</td>\n",
       "      <td>-0.142874</td>\n",
       "      <td>-0.002159</td>\n",
       "      <td>1.000000</td>\n",
       "      <td>-0.341030</td>\n",
       "      <td>0.708417</td>\n",
       "      <td>0.798787</td>\n",
       "    </tr>\n",
       "    <tr>\n",
       "      <th>num_incorrect</th>\n",
       "      <td>0.472223</td>\n",
       "      <td>0.108351</td>\n",
       "      <td>0.043026</td>\n",
       "      <td>-0.341030</td>\n",
       "      <td>1.000000</td>\n",
       "      <td>-0.482449</td>\n",
       "      <td>-0.460427</td>\n",
       "    </tr>\n",
       "    <tr>\n",
       "      <th>accuracy</th>\n",
       "      <td>-0.277291</td>\n",
       "      <td>-0.200408</td>\n",
       "      <td>-0.032363</td>\n",
       "      <td>0.708417</td>\n",
       "      <td>-0.482449</td>\n",
       "      <td>1.000000</td>\n",
       "      <td>0.982790</td>\n",
       "    </tr>\n",
       "    <tr>\n",
       "      <th>accuracy_group</th>\n",
       "      <td>-0.256580</td>\n",
       "      <td>-0.197680</td>\n",
       "      <td>-0.026637</td>\n",
       "      <td>0.798787</td>\n",
       "      <td>-0.460427</td>\n",
       "      <td>0.982790</td>\n",
       "      <td>1.000000</td>\n",
       "    </tr>\n",
       "  </tbody>\n",
       "</table>\n",
       "</div>"
      ],
      "text/plain": [
       "                event_count  event_code  game_time  num_correct  \\\n",
       "event_count        1.000000    0.043830   0.142553    -0.126638   \n",
       "event_code         0.043830    1.000000   0.005257    -0.142874   \n",
       "game_time          0.142553    0.005257   1.000000    -0.002159   \n",
       "num_correct       -0.126638   -0.142874  -0.002159     1.000000   \n",
       "num_incorrect      0.472223    0.108351   0.043026    -0.341030   \n",
       "accuracy          -0.277291   -0.200408  -0.032363     0.708417   \n",
       "accuracy_group    -0.256580   -0.197680  -0.026637     0.798787   \n",
       "\n",
       "                num_incorrect  accuracy  accuracy_group  \n",
       "event_count          0.472223 -0.277291       -0.256580  \n",
       "event_code           0.108351 -0.200408       -0.197680  \n",
       "game_time            0.043026 -0.032363       -0.026637  \n",
       "num_correct         -0.341030  0.708417        0.798787  \n",
       "num_incorrect        1.000000 -0.482449       -0.460427  \n",
       "accuracy            -0.482449  1.000000        0.982790  \n",
       "accuracy_group      -0.460427  0.982790        1.000000  "
      ]
     },
     "execution_count": 76,
     "metadata": {},
     "output_type": "execute_result"
    }
   ],
   "source": [
    "corrs = merge.corr()\n",
    "corrs"
   ]
  },
  {
   "cell_type": "code",
   "execution_count": 77,
   "metadata": {},
   "outputs": [
    {
     "data": {
      "image/png": "[encoded data removed]",
      "text/plain": [
       "<Figure size 1728x1440 with 2 Axes>"
      ]
     },
     "metadata": {},
     "output_type": "display_data"
    }
   ],
   "source": [
    "plt.figure(figsize = (24, 20))\n",
    "\n",
    "sns.heatmap(corrs, cmap = my_pal, annot = True)\n",
    "plt.title('Correlation Heatmap');"
   ]
  },
  {
   "cell_type": "code",
   "execution_count": 49,
   "metadata": {},
   "outputs": [
    {
     "data": {
      "text/plain": [
       "Cart Balancer (Assessment)      2752\n",
       "Cauldron Filler (Assessment)    2545\n",
       "Mushroom Sorter (Assessment)    2348\n",
       "Bird Measurer (Assessment)       693\n",
       "Chest Sorter (Assessment)        507\n",
       "Name: title, dtype: int64"
      ]
     },
     "execution_count": 49,
     "metadata": {},
     "output_type": "execute_result"
    }
   ],
   "source": [
    "train_labels[train_labels['accuracy_group'] == 3]['title'].value_counts()"
   ]
  },
  {
   "cell_type": "code",
   "execution_count": 50,
   "metadata": {},
   "outputs": [
    {
     "data": {
      "image/png": "[encoded data removed]",
      "text/plain": [
       "<Figure size 576x864 with 5 Axes>"
      ]
     },
     "metadata": {},
     "output_type": "display_data"
    }
   ],
   "source": [
    "g = sns.FacetGrid(data=train_labels, col=\"title\", col_wrap=2,height=4)\n",
    "\n",
    "g = (g.map(plt.hist, \"accuracy_group\"))\n",
    "\n",
    "plt.show()"
   ]
  },
  {
   "cell_type": "code",
   "execution_count": 51,
   "metadata": {},
   "outputs": [
    {
     "data": {
      "text/plain": [
       "Cauldron Filler (Assessment)    630\n",
       "Cart Balancer (Assessment)      470\n",
       "Mushroom Sorter (Assessment)    460\n",
       "Bird Measurer (Assessment)      389\n",
       "Chest Sorter (Assessment)       256\n",
       "Name: title, dtype: int64"
      ]
     },
     "execution_count": 51,
     "metadata": {},
     "output_type": "execute_result"
    }
   ],
   "source": [
    "train_labels[train_labels['accuracy_group'] == 2]['title'].value_counts()"
   ]
  },
  {
   "cell_type": "code",
   "execution_count": 52,
   "metadata": {},
   "outputs": [
    {
     "data": {
      "text/plain": [
       "Bird Measurer (Assessment)      778\n",
       "Chest Sorter (Assessment)       466\n",
       "Cauldron Filler (Assessment)    459\n",
       "Mushroom Sorter (Assessment)    355\n",
       "Cart Balancer (Assessment)      353\n",
       "Name: title, dtype: int64"
      ]
     },
     "execution_count": 52,
     "metadata": {},
     "output_type": "execute_result"
    }
   ],
   "source": [
    "train_labels[train_labels['accuracy_group'] == 1]['title'].value_counts()"
   ]
  },
  {
   "cell_type": "code",
   "execution_count": 53,
   "metadata": {},
   "outputs": [
    {
     "data": {
      "text/plain": [
       "Chest Sorter (Assessment)       1752\n",
       "Bird Measurer (Assessment)       886\n",
       "Mushroom Sorter (Assessment)     594\n",
       "Cart Balancer (Assessment)       576\n",
       "Cauldron Filler (Assessment)     421\n",
       "Name: title, dtype: int64"
      ]
     },
     "execution_count": 53,
     "metadata": {},
     "output_type": "execute_result"
    }
   ],
   "source": [
    "train_labels[train_labels['accuracy_group'] == 0]['title'].value_counts()"
   ]
  },
  {
   "cell_type": "code",
   "execution_count": 54,
   "metadata": {},
   "outputs": [
    {
     "data": {
      "image/png": "[encoded data removed]",
      "text/plain": [
       "<Figure size 799.625x720 with 20 Axes>"
      ]
     },
     "metadata": {},
     "output_type": "display_data"
    }
   ],
   "source": [
    "sns.pairplot(train_labels, hue='accuracy_group', palette=my_pal)\n",
    "plt.show()"
   ]
  },
  {
   "cell_type": "code",
   "execution_count": 79,
   "metadata": {},
   "outputs": [
    {
     "data": {
      "text/html": [
       "<div>\n",
       "<style scoped>\n",
       "    .dataframe tbody tr th:only-of-type {\n",
       "        vertical-align: middle;\n",
       "    }\n",
       "\n",
       "    .dataframe tbody tr th {\n",
       "        vertical-align: top;\n",
       "    }\n",
       "\n",
       "    .dataframe thead th {\n",
       "        text-align: right;\n",
       "    }\n",
       "</style>\n",
       "<table border=\"1\" class=\"dataframe\">\n",
       "  <thead>\n",
       "    <tr style=\"text-align: right;\">\n",
       "      <th></th>\n",
       "      <th>event_id</th>\n",
       "      <th>game_session</th>\n",
       "      <th>timestamp</th>\n",
       "      <th>event_data</th>\n",
       "      <th>installation_id</th>\n",
       "      <th>event_count</th>\n",
       "      <th>event_code</th>\n",
       "      <th>game_time</th>\n",
       "      <th>title</th>\n",
       "      <th>type</th>\n",
       "      <th>world</th>\n",
       "    </tr>\n",
       "  </thead>\n",
       "  <tbody>\n",
       "    <tr>\n",
       "      <th>0</th>\n",
       "      <td>27253bdc</td>\n",
       "      <td>45bb1e1b6b50c07b</td>\n",
       "      <td>2019-09-06T17:53:46.937Z</td>\n",
       "      <td>{\"event_code\": 2000, \"event_count\": 1}</td>\n",
       "      <td>0001e90f</td>\n",
       "      <td>1</td>\n",
       "      <td>2000</td>\n",
       "      <td>0</td>\n",
       "      <td>Welcome to Lost Lagoon!</td>\n",
       "      <td>Clip</td>\n",
       "      <td>NONE</td>\n",
       "    </tr>\n",
       "  </tbody>\n",
       "</table>\n",
       "</div>"
      ],
      "text/plain": [
       "   event_id      game_session                 timestamp  \\\n",
       "0  27253bdc  45bb1e1b6b50c07b  2019-09-06T17:53:46.937Z   \n",
       "\n",
       "                               event_data installation_id  event_count  \\\n",
       "0  {\"event_code\": 2000, \"event_count\": 1}        0001e90f            1   \n",
       "\n",
       "   event_code  game_time                    title  type world  \n",
       "0        2000          0  Welcome to Lost Lagoon!  Clip  NONE  "
      ]
     },
     "execution_count": 79,
     "metadata": {},
     "output_type": "execute_result"
    }
   ],
   "source": [
    "train.head(1)"
   ]
  },
  {
   "cell_type": "code",
   "execution_count": 80,
   "metadata": {},
   "outputs": [
    {
     "data": {
      "text/plain": [
       "Game          5795293\n",
       "Activity      4436728\n",
       "Assessment     925345\n",
       "Clip           183676\n",
       "Name: type, dtype: int64"
      ]
     },
     "execution_count": 80,
     "metadata": {},
     "output_type": "execute_result"
    }
   ],
   "source": [
    "train['type'].value_counts()"
   ]
  },
  {
   "cell_type": "code",
   "execution_count": 82,
   "metadata": {},
   "outputs": [
    {
     "data": {
      "text/plain": [
       "384"
      ]
     },
     "execution_count": 82,
     "metadata": {},
     "output_type": "execute_result"
    }
   ],
   "source": [
    "train['event_id'].nunique()"
   ]
  },
  {
   "cell_type": "markdown",
   "metadata": {},
   "source": [
    "# Explore specs df"
   ]
  },
  {
   "cell_type": "code",
   "execution_count": 83,
   "metadata": {},
   "outputs": [
    {
     "data": {
      "text/html": [
       "<div>\n",
       "<style scoped>\n",
       "    .dataframe tbody tr th:only-of-type {\n",
       "        vertical-align: middle;\n",
       "    }\n",
       "\n",
       "    .dataframe tbody tr th {\n",
       "        vertical-align: top;\n",
       "    }\n",
       "\n",
       "    .dataframe thead th {\n",
       "        text-align: right;\n",
       "    }\n",
       "</style>\n",
       "<table border=\"1\" class=\"dataframe\">\n",
       "  <thead>\n",
       "    <tr style=\"text-align: right;\">\n",
       "      <th></th>\n",
       "      <th>event_id</th>\n",
       "      <th>info</th>\n",
       "      <th>args</th>\n",
       "    </tr>\n",
       "  </thead>\n",
       "  <tbody>\n",
       "    <tr>\n",
       "      <th>0</th>\n",
       "      <td>2b9272f4</td>\n",
       "      <td>The end of system-initiated feedback (Correct)...</td>\n",
       "      <td>[{\"name\":\"game_time\",\"type\":\"int\",\"info\":\"mill...</td>\n",
       "    </tr>\n",
       "  </tbody>\n",
       "</table>\n",
       "</div>"
      ],
      "text/plain": [
       "   event_id                                               info  \\\n",
       "0  2b9272f4  The end of system-initiated feedback (Correct)...   \n",
       "\n",
       "                                                args  \n",
       "0  [{\"name\":\"game_time\",\"type\":\"int\",\"info\":\"mill...  "
      ]
     },
     "execution_count": 83,
     "metadata": {},
     "output_type": "execute_result"
    }
   ],
   "source": [
    "specs.head(1)"
   ]
  },
  {
   "cell_type": "code",
   "execution_count": 92,
   "metadata": {},
   "outputs": [
    {
     "data": {
      "text/plain": [
       "'[{\"name\":\"game_time\",\"type\":\"int\",\"info\":\"millisecond count since start of game\"},{\"name\":\"round\",\"type\":\"int\",\"info\":\"number of the current round when the event takes place or 0 if no round\"},{\"name\":\"level\",\"type\":\"int\",\"info\":\"number of the current level when the event takes place or 0 if no level\"},{\"name\":\"description\",\"type\":\"string\",\"info\":\"the text or description of the instruction\"},{\"name\":\"identifier\",\"type\":\"string\",\"info\":\"a unique identifier for this piece of instruction\"},{\"name\":\"media_type\",\"type\":\"string\",\"info\":\"the type of media that has just played:\\\\n\\'audio\\' || \\'animation\\' || \\'other\\'\"},{\"name\":\"duration\",\"type\":\"int\",\"info\":\"the duration of the media playback in milliseconds\"},{\"name\":\"event_count\",\"type\":\"int\",\"info\":\"session event counter\"},{\"name\":\"event_code\",\"type\":\"int\",\"info\":\"event class identifier\"}]'"
      ]
     },
     "execution_count": 92,
     "metadata": {},
     "output_type": "execute_result"
    }
   ],
   "source": [
    "specs.args[0]"
   ]
  },
  {
   "cell_type": "code",
   "execution_count": 97,
   "metadata": {},
   "outputs": [
    {
     "data": {
      "text/plain": [
       "This event occurs when the player clicks on the help button. It contains information about the state of the game that caused the player to seek help. This event is usually followed by a 3010 (system-initiated instruction) event. It helps identify points that players feel are too difficult.                                                                                                                                                                                                                                     17\n",
       "The start game event is triggered at the very beginning of the level (after the game finishes loading, don't wait for intro movie to finish). This is used to compute things like time spent in game.                                                                                                                                                                                                                                                                                                                                  16\n",
       "This event occurs when the player hovers the mouse over an interactive object. It contains information about the object under the mouse, and the duration of the hover. This event can be used to diagnose things like planning (are they hovering the mouse over tiles for long periods before they use those tiles), and determine which objects the player thinks are important.                                                                                                                                                    16\n",
       "The end of system-initiated instruction event occurs when the game finishes delivering instructions to the player. It contains information that describes the content of the instruction including duration. These events are used to determine the effectiveness of the instructions and the amount of time they consume. We can answer questions like, \"how much time elapsed while the game was presenting instruction?\"                                                                                                            15\n",
       "The system-initiated instruction event occurs when the game delivers instructions to the player. It contains information that describes the content of the instruction. This event differs from events 3020 and 3021 as it captures instructions that are not given in response to player action. These events are used to determine the effectiveness of the instructions. We can answer questions like, \"did players who received instruction X do better than those who did not?\"                                                   15\n",
       "This event occurs when the player clicks on something that isn’t covered elsewhere. It can be useful in determining if there are attractive distractions (things the player think should do something, but don’t) in the game, or diagnosing players who are having mechanical difficulties (near misses).                                                                                                                                                                                                                             14\n",
       "This event occurs when the player clicks to start the game from the starting screen.                                                                                                                                                                                                                                                                                                                                                                                                                                                   11\n",
       "The exit game event is triggered when the game is quit. This is used to compute things like time spent in game. Depending on platform this may / may not be possible. NOTE: “quit” also means navigating away from game.                                                                                                                                                                                                                                                                                                                9\n",
       "The end of system-initiated feedback (Incorrect) event occurs when the game finishes delivering feedback to the player in response to an incorrect round attempt (pressing the go button with the incorrect answer). It contains information that describes the content of the instruction. These events are used to determine the effectiveness of the feedback. We can answer questions like, \"how much time elapsed while the game was presenting feedback?\"                                                                         7\n",
       "The system-initiated feedback (Correct) event occurs when the game starts delivering feedback to the player in response to a correct round attempt (pressing the go button with the correct answer). It contains information that describes the content of the instruction, and will likely occur in conjunction with a beat round event. These events are used to determine the effectiveness of the feedback. We can answer questions like, \"did players who received feedback X do better than those who did not?\"                   7\n",
       "The system-initiated feedback (Incorrect) event occurs when the game starts delivering feedback to the player in response to an incorrect round attempt (pressing the go button with the incorrect answer). It contains information that describes the content of the instruction. These events are used to determine the effectiveness of the feedback. We can answer questions like, \"did players who received feedback X do better than those who did not?\"                                                                          7\n",
       "The end of system-initiated feedback (Correct) event occurs when the game finishes delivering feedback to the player in response to a correct round attempt (pressing the go button with the correct answer). It contains information that describes the duration and content of the instruction, and will likely occur in conjunction with a beat round event. These events are used to determine the effectiveness of the feedback. We can answer questions like, \"how much time elapsed while the game was presenting feedback?\"     7\n",
       "The system-initiated feedback (Correct) event occurs when the game starts delivering feedback to the player in response to a correct round attempt (pressing the go button with the correct answer). It contains information that describes the content of the instruction and will likely occur in conjunction with a beat round event. These events are used to determine the effectiveness of the feedback. We can answer questions like \"did players who received feedback X do better than those who did not?\"                     6\n",
       "The system-initiated feedback (Incorrect) event occurs when the game starts delivering feedback to the player in response to an incorrect round attempt (pressing the go button with the incorrect answer). It contains information that describes the content of the instruction. These events are used to determine the effectiveness of the feedback. We can answer questions like \"did players who received feedback X do better than those who did not?\"                                                                           6\n",
       "The end of system-initiated feedback (Incorrect) event occurs when the game finishes delivering feedback to the player in response to an incorrect round attempt (pressing the go button with the incorrect answer). It contains information that describes the content of the instruction. These events are used to determine the effectiveness of the feedback. We can answer questions like \"how much time elapsed while the game was presenting feedback?\"                                                                          6\n",
       "The system-initiated instruction event occurs when the game delivers instructions to the player. It contains information that describes the content of the instruction. This event differs from events 3020 and 3021 as it captures instructions that are not given in response to player action. These events are used to determine the effectiveness of the instructions. We can answer questions like \"did players who received instruction X do better than those who did not?\"                                                     6\n",
       "The end of system-initiated instruction event occurs when the game finishes delivering instructions to the player. It contains information that describes the content of the instruction including duration. These events are used to determine the effectiveness of the instructions and the amount of time they consume. We can answer questions like \"how much time elapsed while the game was presenting instruction?\"                                                                                                              6\n",
       "The end of system-initiated feedback (Correct) event occurs when the game finishes delivering feedback to the player in response to a correct round attempt (pressing the go button with the correct answer). It contains information that describes the duration and content of the instruction and will likely occur in conjunction with a beat round event. These events are used to determine the effectiveness of the feedback. We can answer questions like \"how much time elapsed while the game was presenting feedback?\"       6\n",
       "The start game event is triggered at the very beginning of the level (after the game finishes loading don't wait for intro movie to finish). This is used to compute things like time spent in game.                                                                                                                                                                                                                                                                                                                                    6\n",
       "This event occurs when the player hovers the mouse over an interactive object. It contains information about the object under the mouse and the duration of the hover. This event can be used to diagnose things like planning (are they hovering the mouse over tiles for long periods before they use those tiles) and determine which objects the player thinks are important.                                                                                                                                                       6\n",
       "This event occurs when the player clicks on something that isn't covered elsewhere. It can be useful in determining if there are attractive distractions (things the player think should do something but don't) in the game or diagnosing players who are having mechanical difficulties (near misses).                                                                                                                                                                                                                                6\n",
       "The start round event is triggered at the start of a round. This event provides information about the game characteristics of the round (i.e. resources objectives setup). It is used in calculating things like time spent in a round (for speed and accuracy) attempts at solving a round and the number of rounds the player has visited (exposures).                                                                                                                                                                                5\n",
       "The beat round event is triggered when the player finishes a round. This event is used for calculating time spent in a round (for speed and accuracy) attempts at solving a round and the number of rounds the player has completed (completion).                                                                                                                                                                                                                                                                                       5\n",
       "This event occurs when the player clicks on the play again button.                                                                                                                                                                                                                                                                                                                                                                                                                                                                      4\n",
       "The start round event is triggered at the start of a round. This event provides information about the game characteristics of the round (i.e. resources, objectives, setup). It is used in calculating things like time spent in a round (for speed and accuracy), attempts at solving a round, and the number of rounds the player has visited (exposures).                                                                                                                                                                            4\n",
       "The beat round event is triggered when the player finishes a round. This event is used for calculating time spent in a round (for speed and accuracy), attempts at solving a round, and the number of rounds the player has completed (completion).                                                                                                                                                                                                                                                                                     4\n",
       "This event occurs when the player clicks on the character that provides a hint (Sorry, I don't know his name). It contains information about the state of the game when the player chooses to seek help. This event is usually followed by a 3010 (system-initiated instruction) event. It helps identify points that players feel are too difficult.                                                                                                                                                                                   4\n",
       "This event occurs when the player clicks on something that isn't covered elsewhere. It can be useful in determining if there are attractive distractions (things the player think should do something, but don't) in the game, or diagnosing players who are having mechanical difficulties (near misses).                                                                                                                                                                                                                              4\n",
       "The movie started event triggers when an intro or outro movie starts to play. It identifies the movie being played. This is used to determine how long players spend watching the movies (more relevant after the first play through when the skip option is available).                                                                                                                                                                                                                                                                3\n",
       "The movie ended event triggers when an intro or outro movie ends. It identifies the movie being played. This is used to determine how long players spend watching the movies (more relevant after the first play through when the skip option is available).                                                                                                                                                                                                                                                                            3\n",
       "                                                                                                                                                                                                                                                                                                                                                                                                                                                                                                                                       ..\n",
       "This event occurs when the player drags a bowl from the scale to the resources. It contains information about the bowl being moved and the state of the game area. This event is used to diagnose player strategies and understanding.                                                                                                                                                                                                                                                                                                  1\n",
       "This event occurs when the player picks up a chicken or pig by clicking on it, or begins dragging a chicken or pig. It contains information about the object that was picked up and the position of the click.                                                                                                                                                                                                                                                                                                                          1\n",
       "This event occurs when the player clicks on one of the dinosaurs. It contains information about the the state of the game and the correctness of the action. This event is used to diagnose player strategies and understanding.                                                                                                                                                                                                                                                                                                        1\n",
       "The end of system-initiated instruction event occurs when the game finishes delivering instructions to the player. It contains information that describes the content of the instruction including duration. These events are used to determine the effectiveness of the instructions and the amount of time they consume. We can answer questions like, “how much time elapsed while the game was presenting instruction?”                                                                                                             1\n",
       "This event occurs when the player picks up a hat or caterpillar by clicking on it, or begins dragging a hat or caterpillar. It contains information about the hat or caterpillar that was picked up and the position of the click.                                                                                                                                                                                                                                                                                                      1\n",
       "This event occurs when the player drags a line from a rocket. It contains information about the rocket that was dragged and the height of the drag.                                                                                                                                                                                                                                                                                                                                                                                     1\n",
       "This event occurs when the player clicks a group of objects. It contains information about the group clicked, the state of the game, and the correctness of the action. This event is used to diagnose player strategies and understanding.                                                                                                                                                                                                                                                                                             1\n",
       "The beat round event is triggered when the player finishes a round by successfully placing the cauldrons and submitting the solution and when the player finishes a round by successfully selecting the specified cauldron. This event is used for calculating time spent in a round (for speed and accuracy), attempts at solving a round, and the number of rounds the player has completed (completion).                                                                                                                             1\n",
       "This event occurs when the player picks up a crystal by clicking on it, or begins dragging a crystal. It contains information about the chest that was picked up and the position of the chest. This event is used to calculate accuracy and to diagnose player strategies and understanding.                                                                                                                                                                                                                                           1\n",
       "This event occurs when the player clicks a rock on one of the gates. It contains information about the rock that was clicked and where the click occurred.                                                                                                                                                                                                                                                                                                                                                                              1\n",
       "The end of system-initiated feedback (Correct) event occurs when the game finishes delivering feedback to the player in response to a correct round attempt (pressing the go button with the correct answer). It contains information that describes the duration and content of the instruction, and will likely occur in conjunction with a beat round event. These events are used to determine the effectiveness of the feedback. We can answer questions like, “how much time elapsed while the game was presenting feedback?”     1\n",
       "This event occurs when the player finishes dragging a toy to a new location. It contains information about the toy being moved and the destination.                                                                                                                                                                                                                                                                                                                                                                                     1\n",
       "This event occurs when the player clicks on the bird to trigger dropping an egg. It contains information about where the click occurred.                                                                                                                                                                                                                                                                                                                                                                                                1\n",
       "The skip tutorial event is triggered when the player skips the tutorial by clicking on the skip button. This event is used for calculating time spent in the tutorial.                                                                                                                                                                                                                                                                                                                                                                  1\n",
       "The start round event is triggered at the start of the game. It contains information about the layout of the activity.                                                                                                                                                                                                                                                                                                                                                                                                                  1\n",
       "The start round event is triggered at the start of each round. There is only one round per playthrough. This event provides information about the game characteristics of the round (i.e. resources, objectives, setup). It is used in calculating things like time spent in a round (for speed and accuracy), attempts at solving a round, and the number of rounds the player has visited (exposures).                                                                                                                                1\n",
       "This event occurs when the player drags a bucket to someplace other than an acceptable destination for the bucket. It contains information about the bucket being moved and the destination. The event should occur when the drag is released and the bucket is placed. These events are used to diagnose player strategies and understanding.                                                                                                                                                                                          1\n",
       "The finished round event is triggered when the player finishes drawing a shape that is detected as matching the prompt. This event is used for calculating time spent drawing a shape (for speed and accuracy), attempts at drawing a shape, and the number of shapes the player has completed (completion).                                                                                                                                                                                                                            1\n",
       "The beat round event is triggered when the player finishes picking mushrooms. This event indicates a section of gameplay separate from the arranging section of gameplay.                                                                                                                                                                                                                                                                                                                                                               1\n",
       "This event occurs when the player drags a bottle to someplace other than an acceptable destination for the bottle. It contains information about the bottle being moved and the destination. The event should occur when the drag is released and the bottle is placed.                                                                                                                                                                                                                                                                 1\n",
       "This event occurs when the player drags a castle or the shovel to someplace other than an acceptable destination for the castle or shovel. It contains information about the castle being moved and the destination. The event should occur when the drag is released and the castle or shovel is placed.                                                                                                                                                                                                                               1\n",
       "The beat round event is triggered when the player finishes a round by correctly arranging the mushrooms and submitting the solution. This event is used for calculating time spent in a round (for speed and accuracy), attempts at solving a round, and the number of rounds the player has completed (completion).                                                                                                                                                                                                                    1\n",
       "This event occurs when the player chooses a number of containers from the options. It contains information about the choice, and the correctness of the action. This event is used to diagnose player strategies and understanding.                                                                                                                                                                                                                                                                                                     1\n",
       "This event occurs when the player begins dragging from rocket. It contains information about the rocket that was dragged from and the position of the click.                                                                                                                                                                                                                                                                                                                                                                            1\n",
       "This event occurs when the player clicks on an item on the shelf of items. It contains information about the item that was clicked, the correctness of the action, and where the action occurred. This event is used to calculate accuracy and to diagnose player strategies and understanding.                                                                                                                                                                                                                                         1\n",
       "This event occurs when the player picks up a weight from the table. It contains information about the weight being picked. This event is used to diagnose player strategies and understanding.                                                                                                                                                                                                                                                                                                                                          1\n",
       "This event occurs when the player clicks on the green check button. It contains information about the weights on the scale the state of the game and the correctness of the action. This event is used to diagnose player strategies and understanding.                                                                                                                                                                                                                                                                                 1\n",
       "This event occurs when the player drags a hat to the resource area. It contains information about the hat being moved. The event should occur when the drag is released and the hat is placed. These events are used to diagnose player strategies and understanding.                                                                                                                                                                                                                                                                   1\n",
       "This event occurs when the player drags a bowl to someplace other than the scale or plate in the play area. It contains information about the bowl being moved the destination and the state of the game area. This event is used to diagnose player strategies and understanding.                                                                                                                                                                                                                                                      1\n",
       "This event occurs when the player drags a bowl to the scale. It contains information about the bowl being moved the destination and the state of the game area. This event is used to diagnose player strategies and understanding.                                                                                                                                                                                                                                                                                                     1\n",
       "Name: info, Length: 168, dtype: int64"
      ]
     },
     "execution_count": 97,
     "metadata": {},
     "output_type": "execute_result"
    }
   ],
   "source": [
    "specs['info'].value_counts()"
   ]
  },
  {
   "cell_type": "code",
   "execution_count": null,
   "metadata": {},
   "outputs": [],
   "source": []
  }
 ],
 "metadata": {
  "kernelspec": {
   "display_name": "Python 3",
   "language": "python",
   "name": "python3"
  },
  "language_info": {
   "codemirror_mode": {
    "name": "ipython",
    "version": 3
   },
   "file_extension": ".py",
   "mimetype": "text/x-python",
   "name": "python",
   "nbconvert_exporter": "python",
   "pygments_lexer": "ipython3",
   "version": "3.7.3"
  },
  "toc": {
   "base_numbering": 1,
   "nav_menu": {},
   "number_sections": true,
   "sideBar": true,
   "skip_h1_title": false,
   "title_cell": "Table of Contents",
   "title_sidebar": "Contents",
   "toc_cell": false,
   "toc_position": {
    "height": "calc(100% - 180px)",
    "left": "10px",
    "top": "150px",
    "width": "267.188px"
   },
   "toc_section_display": true,
   "toc_window_display": true
  }
 },
 "nbformat": 4,
 "nbformat_minor": 2
}
