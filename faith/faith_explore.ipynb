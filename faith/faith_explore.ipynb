{
 "cells": [
  {
   "cell_type": "code",
   "execution_count": 3,
   "metadata": {},
   "outputs": [],
   "source": [
    "import pandas as pd\n",
    "import numpy as np\n",
    "\n",
    "import seaborn as sns\n",
    "from matplotlib import pyplot as plt\n",
    "from pylab import rcParams\n",
    "%matplotlib inline\n",
    "import plotly.offline as py\n",
    "import plotly.graph_objects as go\n",
    "\n",
    "import warnings\n",
    "warnings.filterwarnings('ignore')"
   ]
  },
  {
   "cell_type": "code",
   "execution_count": 4,
   "metadata": {},
   "outputs": [
    {
     "data": {
      "image/png": "[encoded data removed]",
      "text/plain": [
       "<Figure size 360x72 with 1 Axes>"
      ]
     },
     "metadata": {
      "needs_background": "light"
     },
     "output_type": "display_data"
    }
   ],
   "source": [
    "# Create an array with the colors you want to use\n",
    "heat = [ 'pink', 'gold', 'darkturquoise', 'red', 'black']\n",
    "\n",
    "# Set your custom color palette\n",
    "my_pal = sns.color_palette(heat)\n",
    "\n",
    "sns.palplot(my_pal)"
   ]
  },
  {
   "cell_type": "code",
   "execution_count": 86,
   "metadata": {},
   "outputs": [],
   "source": [
    "#train = pd.read_csv('train.csv')"
   ]
  },
  {
   "cell_type": "code",
   "execution_count": 87,
   "metadata": {},
   "outputs": [
    {
     "data": {
      "text/plain": [
       "array(['Welcome to Lost Lagoon!', 'Magma Peak - Level 1',\n",
       "       'Sandcastle Builder (Activity)', 'Scrub-A-Dub',\n",
       "       'Magma Peak - Level 2', 'Dino Drink', 'Tree Top City - Level 1',\n",
       "       'Ordering Spheres', 'Watering Hole (Activity)', 'Slop Problem',\n",
       "       'All Star Sorting', 'Costume Box', 'Fireworks (Activity)',\n",
       "       '12 Monkeys', 'Tree Top City - Level 2',\n",
       "       'Flower Waterer (Activity)', \"Pirate's Tale\",\n",
       "       'Mushroom Sorter (Assessment)', 'Air Show', 'Treasure Map',\n",
       "       'Tree Top City - Level 3', 'Crystals Rule', 'Rulers',\n",
       "       'Bug Measurer (Activity)', 'Bird Measurer (Assessment)',\n",
       "       'Bubble Bath', 'Bottle Filler (Activity)', 'Dino Dive',\n",
       "       'Crystal Caves - Level 1', 'Chow Time',\n",
       "       'Cauldron Filler (Assessment)', 'Balancing Act',\n",
       "       'Crystal Caves - Level 2', 'Crystal Caves - Level 3',\n",
       "       'Chicken Balancer (Activity)', 'Lifting Heavy Things',\n",
       "       'Pan Balance', 'Happy Camel', 'Honey Cake',\n",
       "       'Cart Balancer (Assessment)', 'Heavy, Heavier, Heaviest',\n",
       "       'Egg Dropper (Activity)', 'Chest Sorter (Assessment)',\n",
       "       'Leaf Leader'], dtype=object)"
      ]
     },
     "execution_count": 87,
     "metadata": {},
     "output_type": "execute_result"
    }
   ],
   "source": [
    "train.title.unique()"
   ]
  },
  {
   "cell_type": "code",
   "execution_count": 88,
   "metadata": {},
   "outputs": [],
   "source": [
    "#train_labels = pd.read_csv('train_labels.csv')"
   ]
  },
  {
   "cell_type": "code",
   "execution_count": 89,
   "metadata": {},
   "outputs": [
    {
     "data": {
      "text/plain": [
       "array(['Mushroom Sorter (Assessment)', 'Bird Measurer (Assessment)',\n",
       "       'Cauldron Filler (Assessment)', 'Chest Sorter (Assessment)',\n",
       "       'Cart Balancer (Assessment)'], dtype=object)"
      ]
     },
     "execution_count": 89,
     "metadata": {},
     "output_type": "execute_result"
    }
   ],
   "source": [
    "train_labels.title.unique()"
   ]
  },
  {
   "cell_type": "markdown",
   "metadata": {},
   "source": [
    "# Merge train and train_labels into explore df"
   ]
  },
  {
   "cell_type": "code",
   "execution_count": 90,
   "metadata": {},
   "outputs": [],
   "source": [
    "#explore = pd.merge(train, train_labels, how='left', on='game_session')"
   ]
  },
  {
   "cell_type": "code",
   "execution_count": 91,
   "metadata": {},
   "outputs": [],
   "source": [
    "# explore = explore.drop(columns=['installation_id_y', 'title_y'])\n",
    "# explore = explore.rename(columns={'installation_id_x': 'installation_id', 'game_session': 'session', 'title_x': 'title'})\n"
   ]
  },
  {
   "cell_type": "code",
   "execution_count": 92,
   "metadata": {},
   "outputs": [
    {
     "data": {
      "text/plain": [
       "(11341042, 15)"
      ]
     },
     "execution_count": 92,
     "metadata": {},
     "output_type": "execute_result"
    }
   ],
   "source": [
    "explore.shape"
   ]
  },
  {
   "cell_type": "code",
   "execution_count": 93,
   "metadata": {},
   "outputs": [
    {
     "name": "stdout",
     "output_type": "stream",
     "text": [
      "<class 'pandas.core.frame.DataFrame'>\n",
      "Int64Index: 11341042 entries, 0 to 11341041\n",
      "Data columns (total 15 columns):\n",
      "event_id           object\n",
      "session            object\n",
      "timestamp          object\n",
      "event_data         object\n",
      "installation_id    object\n",
      "event_count        int64\n",
      "event_code         int64\n",
      "game_time          int64\n",
      "title              object\n",
      "type               object\n",
      "world              object\n",
      "num_correct        float64\n",
      "num_incorrect      float64\n",
      "accuracy           float64\n",
      "accuracy_group     float64\n",
      "dtypes: float64(4), int64(3), object(8)\n",
      "memory usage: 1.4+ GB\n"
     ]
    }
   ],
   "source": [
    "explore.info()"
   ]
  },
  {
   "cell_type": "code",
   "execution_count": 95,
   "metadata": {},
   "outputs": [
    {
     "data": {
      "text/plain": [
       "event_id                  0\n",
       "session                   0\n",
       "timestamp                 0\n",
       "event_data                0\n",
       "installation_id           0\n",
       "event_count               0\n",
       "event_code                0\n",
       "game_time                 0\n",
       "title                     0\n",
       "type                      0\n",
       "world                     0\n",
       "num_correct        10475595\n",
       "num_incorrect      10475595\n",
       "accuracy           10475595\n",
       "accuracy_group     10475595\n",
       "dtype: int64"
      ]
     },
     "execution_count": 95,
     "metadata": {},
     "output_type": "execute_result"
    }
   ],
   "source": [
    "explore.isnull().sum()"
   ]
  },
  {
   "cell_type": "markdown",
   "metadata": {},
   "source": [
    "# Save explore df to csv file"
   ]
  },
  {
   "cell_type": "code",
   "execution_count": 96,
   "metadata": {},
   "outputs": [],
   "source": [
    "#explore.to_csv('explore.csv')"
   ]
  },
  {
   "cell_type": "code",
   "execution_count": 5,
   "metadata": {},
   "outputs": [],
   "source": [
    "explore = pd.read_csv('explore.csv').drop(columns='Unnamed: 0')"
   ]
  },
  {
   "cell_type": "code",
   "execution_count": 6,
   "metadata": {},
   "outputs": [
    {
     "data": {
      "text/plain": [
       "(11341042, 15)"
      ]
     },
     "execution_count": 6,
     "metadata": {},
     "output_type": "execute_result"
    }
   ],
   "source": [
    "explore.shape"
   ]
  },
  {
   "cell_type": "code",
   "execution_count": 7,
   "metadata": {},
   "outputs": [
    {
     "name": "stdout",
     "output_type": "stream",
     "text": [
      "<class 'pandas.core.frame.DataFrame'>\n",
      "RangeIndex: 11341042 entries, 0 to 11341041\n",
      "Data columns (total 15 columns):\n",
      "event_id           object\n",
      "session            object\n",
      "timestamp          object\n",
      "event_data         object\n",
      "installation_id    object\n",
      "event_count        int64\n",
      "event_code         int64\n",
      "game_time          int64\n",
      "title              object\n",
      "type               object\n",
      "world              object\n",
      "num_correct        float64\n",
      "num_incorrect      float64\n",
      "accuracy           float64\n",
      "accuracy_group     float64\n",
      "dtypes: float64(4), int64(3), object(8)\n",
      "memory usage: 1.3+ GB\n"
     ]
    }
   ],
   "source": [
    "explore.info()"
   ]
  },
  {
   "cell_type": "code",
   "execution_count": 8,
   "metadata": {},
   "outputs": [
    {
     "data": {
      "text/html": [
       "<div>\n",
       "<style scoped>\n",
       "    .dataframe tbody tr th:only-of-type {\n",
       "        vertical-align: middle;\n",
       "    }\n",
       "\n",
       "    .dataframe tbody tr th {\n",
       "        vertical-align: top;\n",
       "    }\n",
       "\n",
       "    .dataframe thead th {\n",
       "        text-align: right;\n",
       "    }\n",
       "</style>\n",
       "<table border=\"1\" class=\"dataframe\">\n",
       "  <thead>\n",
       "    <tr style=\"text-align: right;\">\n",
       "      <th></th>\n",
       "      <th>event_id</th>\n",
       "      <th>session</th>\n",
       "      <th>timestamp</th>\n",
       "      <th>event_data</th>\n",
       "      <th>installation_id</th>\n",
       "      <th>event_count</th>\n",
       "      <th>event_code</th>\n",
       "      <th>game_time</th>\n",
       "      <th>title</th>\n",
       "      <th>type</th>\n",
       "      <th>world</th>\n",
       "      <th>num_correct</th>\n",
       "      <th>num_incorrect</th>\n",
       "      <th>accuracy</th>\n",
       "      <th>accuracy_group</th>\n",
       "    </tr>\n",
       "  </thead>\n",
       "  <tbody>\n",
       "    <tr>\n",
       "      <th>0</th>\n",
       "      <td>27253bdc</td>\n",
       "      <td>45bb1e1b6b50c07b</td>\n",
       "      <td>2019-09-06T17:53:46.937Z</td>\n",
       "      <td>{\"event_code\": 2000, \"event_count\": 1}</td>\n",
       "      <td>0001e90f</td>\n",
       "      <td>1</td>\n",
       "      <td>2000</td>\n",
       "      <td>0</td>\n",
       "      <td>Welcome to Lost Lagoon!</td>\n",
       "      <td>Clip</td>\n",
       "      <td>NONE</td>\n",
       "      <td>NaN</td>\n",
       "      <td>NaN</td>\n",
       "      <td>NaN</td>\n",
       "      <td>NaN</td>\n",
       "    </tr>\n",
       "    <tr>\n",
       "      <th>1</th>\n",
       "      <td>27253bdc</td>\n",
       "      <td>17eeb7f223665f53</td>\n",
       "      <td>2019-09-06T17:54:17.519Z</td>\n",
       "      <td>{\"event_code\": 2000, \"event_count\": 1}</td>\n",
       "      <td>0001e90f</td>\n",
       "      <td>1</td>\n",
       "      <td>2000</td>\n",
       "      <td>0</td>\n",
       "      <td>Magma Peak - Level 1</td>\n",
       "      <td>Clip</td>\n",
       "      <td>MAGMAPEAK</td>\n",
       "      <td>NaN</td>\n",
       "      <td>NaN</td>\n",
       "      <td>NaN</td>\n",
       "      <td>NaN</td>\n",
       "    </tr>\n",
       "    <tr>\n",
       "      <th>2</th>\n",
       "      <td>77261ab5</td>\n",
       "      <td>0848ef14a8dc6892</td>\n",
       "      <td>2019-09-06T17:54:56.302Z</td>\n",
       "      <td>{\"version\":\"1.0\",\"event_count\":1,\"game_time\":0...</td>\n",
       "      <td>0001e90f</td>\n",
       "      <td>1</td>\n",
       "      <td>2000</td>\n",
       "      <td>0</td>\n",
       "      <td>Sandcastle Builder (Activity)</td>\n",
       "      <td>Activity</td>\n",
       "      <td>MAGMAPEAK</td>\n",
       "      <td>NaN</td>\n",
       "      <td>NaN</td>\n",
       "      <td>NaN</td>\n",
       "      <td>NaN</td>\n",
       "    </tr>\n",
       "    <tr>\n",
       "      <th>3</th>\n",
       "      <td>b2dba42b</td>\n",
       "      <td>0848ef14a8dc6892</td>\n",
       "      <td>2019-09-06T17:54:56.387Z</td>\n",
       "      <td>{\"description\":\"Let's build a sandcastle! Firs...</td>\n",
       "      <td>0001e90f</td>\n",
       "      <td>2</td>\n",
       "      <td>3010</td>\n",
       "      <td>53</td>\n",
       "      <td>Sandcastle Builder (Activity)</td>\n",
       "      <td>Activity</td>\n",
       "      <td>MAGMAPEAK</td>\n",
       "      <td>NaN</td>\n",
       "      <td>NaN</td>\n",
       "      <td>NaN</td>\n",
       "      <td>NaN</td>\n",
       "    </tr>\n",
       "    <tr>\n",
       "      <th>4</th>\n",
       "      <td>1bb5fbdb</td>\n",
       "      <td>0848ef14a8dc6892</td>\n",
       "      <td>2019-09-06T17:55:03.253Z</td>\n",
       "      <td>{\"description\":\"Let's build a sandcastle! Firs...</td>\n",
       "      <td>0001e90f</td>\n",
       "      <td>3</td>\n",
       "      <td>3110</td>\n",
       "      <td>6972</td>\n",
       "      <td>Sandcastle Builder (Activity)</td>\n",
       "      <td>Activity</td>\n",
       "      <td>MAGMAPEAK</td>\n",
       "      <td>NaN</td>\n",
       "      <td>NaN</td>\n",
       "      <td>NaN</td>\n",
       "      <td>NaN</td>\n",
       "    </tr>\n",
       "    <tr>\n",
       "      <th>5</th>\n",
       "      <td>1325467d</td>\n",
       "      <td>0848ef14a8dc6892</td>\n",
       "      <td>2019-09-06T17:55:06.279Z</td>\n",
       "      <td>{\"coordinates\":{\"x\":583,\"y\":605,\"stage_width\":...</td>\n",
       "      <td>0001e90f</td>\n",
       "      <td>4</td>\n",
       "      <td>4070</td>\n",
       "      <td>9991</td>\n",
       "      <td>Sandcastle Builder (Activity)</td>\n",
       "      <td>Activity</td>\n",
       "      <td>MAGMAPEAK</td>\n",
       "      <td>NaN</td>\n",
       "      <td>NaN</td>\n",
       "      <td>NaN</td>\n",
       "      <td>NaN</td>\n",
       "    </tr>\n",
       "    <tr>\n",
       "      <th>6</th>\n",
       "      <td>1325467d</td>\n",
       "      <td>0848ef14a8dc6892</td>\n",
       "      <td>2019-09-06T17:55:06.913Z</td>\n",
       "      <td>{\"coordinates\":{\"x\":601,\"y\":570,\"stage_width\":...</td>\n",
       "      <td>0001e90f</td>\n",
       "      <td>5</td>\n",
       "      <td>4070</td>\n",
       "      <td>10622</td>\n",
       "      <td>Sandcastle Builder (Activity)</td>\n",
       "      <td>Activity</td>\n",
       "      <td>MAGMAPEAK</td>\n",
       "      <td>NaN</td>\n",
       "      <td>NaN</td>\n",
       "      <td>NaN</td>\n",
       "      <td>NaN</td>\n",
       "    </tr>\n",
       "    <tr>\n",
       "      <th>7</th>\n",
       "      <td>1325467d</td>\n",
       "      <td>0848ef14a8dc6892</td>\n",
       "      <td>2019-09-06T17:55:07.546Z</td>\n",
       "      <td>{\"coordinates\":{\"x\":250,\"y\":665,\"stage_width\":...</td>\n",
       "      <td>0001e90f</td>\n",
       "      <td>6</td>\n",
       "      <td>4070</td>\n",
       "      <td>11255</td>\n",
       "      <td>Sandcastle Builder (Activity)</td>\n",
       "      <td>Activity</td>\n",
       "      <td>MAGMAPEAK</td>\n",
       "      <td>NaN</td>\n",
       "      <td>NaN</td>\n",
       "      <td>NaN</td>\n",
       "      <td>NaN</td>\n",
       "    </tr>\n",
       "    <tr>\n",
       "      <th>8</th>\n",
       "      <td>1325467d</td>\n",
       "      <td>0848ef14a8dc6892</td>\n",
       "      <td>2019-09-06T17:55:07.979Z</td>\n",
       "      <td>{\"coordinates\":{\"x\":279,\"y\":629,\"stage_width\":...</td>\n",
       "      <td>0001e90f</td>\n",
       "      <td>7</td>\n",
       "      <td>4070</td>\n",
       "      <td>11689</td>\n",
       "      <td>Sandcastle Builder (Activity)</td>\n",
       "      <td>Activity</td>\n",
       "      <td>MAGMAPEAK</td>\n",
       "      <td>NaN</td>\n",
       "      <td>NaN</td>\n",
       "      <td>NaN</td>\n",
       "      <td>NaN</td>\n",
       "    </tr>\n",
       "    <tr>\n",
       "      <th>9</th>\n",
       "      <td>1325467d</td>\n",
       "      <td>0848ef14a8dc6892</td>\n",
       "      <td>2019-09-06T17:55:08.566Z</td>\n",
       "      <td>{\"coordinates\":{\"x\":839,\"y\":654,\"stage_width\":...</td>\n",
       "      <td>0001e90f</td>\n",
       "      <td>8</td>\n",
       "      <td>4070</td>\n",
       "      <td>12272</td>\n",
       "      <td>Sandcastle Builder (Activity)</td>\n",
       "      <td>Activity</td>\n",
       "      <td>MAGMAPEAK</td>\n",
       "      <td>NaN</td>\n",
       "      <td>NaN</td>\n",
       "      <td>NaN</td>\n",
       "      <td>NaN</td>\n",
       "    </tr>\n",
       "  </tbody>\n",
       "</table>\n",
       "</div>"
      ],
      "text/plain": [
       "   event_id           session                 timestamp  \\\n",
       "0  27253bdc  45bb1e1b6b50c07b  2019-09-06T17:53:46.937Z   \n",
       "1  27253bdc  17eeb7f223665f53  2019-09-06T17:54:17.519Z   \n",
       "2  77261ab5  0848ef14a8dc6892  2019-09-06T17:54:56.302Z   \n",
       "3  b2dba42b  0848ef14a8dc6892  2019-09-06T17:54:56.387Z   \n",
       "4  1bb5fbdb  0848ef14a8dc6892  2019-09-06T17:55:03.253Z   \n",
       "5  1325467d  0848ef14a8dc6892  2019-09-06T17:55:06.279Z   \n",
       "6  1325467d  0848ef14a8dc6892  2019-09-06T17:55:06.913Z   \n",
       "7  1325467d  0848ef14a8dc6892  2019-09-06T17:55:07.546Z   \n",
       "8  1325467d  0848ef14a8dc6892  2019-09-06T17:55:07.979Z   \n",
       "9  1325467d  0848ef14a8dc6892  2019-09-06T17:55:08.566Z   \n",
       "\n",
       "                                          event_data installation_id  \\\n",
       "0             {\"event_code\": 2000, \"event_count\": 1}        0001e90f   \n",
       "1             {\"event_code\": 2000, \"event_count\": 1}        0001e90f   \n",
       "2  {\"version\":\"1.0\",\"event_count\":1,\"game_time\":0...        0001e90f   \n",
       "3  {\"description\":\"Let's build a sandcastle! Firs...        0001e90f   \n",
       "4  {\"description\":\"Let's build a sandcastle! Firs...        0001e90f   \n",
       "5  {\"coordinates\":{\"x\":583,\"y\":605,\"stage_width\":...        0001e90f   \n",
       "6  {\"coordinates\":{\"x\":601,\"y\":570,\"stage_width\":...        0001e90f   \n",
       "7  {\"coordinates\":{\"x\":250,\"y\":665,\"stage_width\":...        0001e90f   \n",
       "8  {\"coordinates\":{\"x\":279,\"y\":629,\"stage_width\":...        0001e90f   \n",
       "9  {\"coordinates\":{\"x\":839,\"y\":654,\"stage_width\":...        0001e90f   \n",
       "\n",
       "   event_count  event_code  game_time                          title  \\\n",
       "0            1        2000          0        Welcome to Lost Lagoon!   \n",
       "1            1        2000          0           Magma Peak - Level 1   \n",
       "2            1        2000          0  Sandcastle Builder (Activity)   \n",
       "3            2        3010         53  Sandcastle Builder (Activity)   \n",
       "4            3        3110       6972  Sandcastle Builder (Activity)   \n",
       "5            4        4070       9991  Sandcastle Builder (Activity)   \n",
       "6            5        4070      10622  Sandcastle Builder (Activity)   \n",
       "7            6        4070      11255  Sandcastle Builder (Activity)   \n",
       "8            7        4070      11689  Sandcastle Builder (Activity)   \n",
       "9            8        4070      12272  Sandcastle Builder (Activity)   \n",
       "\n",
       "       type      world  num_correct  num_incorrect  accuracy  accuracy_group  \n",
       "0      Clip       NONE          NaN            NaN       NaN             NaN  \n",
       "1      Clip  MAGMAPEAK          NaN            NaN       NaN             NaN  \n",
       "2  Activity  MAGMAPEAK          NaN            NaN       NaN             NaN  \n",
       "3  Activity  MAGMAPEAK          NaN            NaN       NaN             NaN  \n",
       "4  Activity  MAGMAPEAK          NaN            NaN       NaN             NaN  \n",
       "5  Activity  MAGMAPEAK          NaN            NaN       NaN             NaN  \n",
       "6  Activity  MAGMAPEAK          NaN            NaN       NaN             NaN  \n",
       "7  Activity  MAGMAPEAK          NaN            NaN       NaN             NaN  \n",
       "8  Activity  MAGMAPEAK          NaN            NaN       NaN             NaN  \n",
       "9  Activity  MAGMAPEAK          NaN            NaN       NaN             NaN  "
      ]
     },
     "execution_count": 8,
     "metadata": {},
     "output_type": "execute_result"
    }
   ],
   "source": [
    "explore.head(10)"
   ]
  },
  {
   "cell_type": "code",
   "execution_count": null,
   "metadata": {},
   "outputs": [],
   "source": []
  },
  {
   "cell_type": "markdown",
   "metadata": {},
   "source": [
    "# Explore explore df"
   ]
  },
  {
   "cell_type": "code",
   "execution_count": 9,
   "metadata": {},
   "outputs": [
    {
     "data": {
      "text/plain": [
       "Index(['event_id', 'session', 'timestamp', 'event_data', 'installation_id',\n",
       "       'event_count', 'event_code', 'game_time', 'title', 'type', 'world',\n",
       "       'num_correct', 'num_incorrect', 'accuracy', 'accuracy_group'],\n",
       "      dtype='object')"
      ]
     },
     "execution_count": 9,
     "metadata": {},
     "output_type": "execute_result"
    }
   ],
   "source": [
    "explore.columns"
   ]
  },
  {
   "cell_type": "code",
   "execution_count": 10,
   "metadata": {
    "scrolled": true
   },
   "outputs": [
    {
     "data": {
      "text/plain": [
       "installation_id  session           type  timestamp               \n",
       "0001e90f         04168b61c0650977  Clip  2019-09-06T18:18:42.392Z    1\n",
       "                 07bacda7f9437b38  Game  2019-09-06T18:11:28.381Z    1\n",
       "                                         2019-09-06T18:11:38.858Z    1\n",
       "                                         2019-09-06T18:11:40.967Z    1\n",
       "                                         2019-09-06T18:11:40.970Z    1\n",
       "                                         2019-09-06T18:11:44.434Z    1\n",
       "                                         2019-09-06T18:11:44.825Z    1\n",
       "                                         2019-09-06T18:11:45.065Z    1\n",
       "                                         2019-09-06T18:11:45.332Z    1\n",
       "                                         2019-09-06T18:11:45.888Z    1\n",
       "                                         2019-09-06T18:11:46.076Z    1\n",
       "                                         2019-09-06T18:11:46.309Z    1\n",
       "                                         2019-09-06T18:11:46.540Z    1\n",
       "                                         2019-09-06T18:11:46.819Z    1\n",
       "                                         2019-09-06T18:11:47.273Z    1\n",
       "                                         2019-09-06T18:11:47.275Z    1\n",
       "                                         2019-09-06T18:11:49.252Z    1\n",
       "                                         2019-09-06T18:11:49.516Z    1\n",
       "                                         2019-09-06T18:11:52.911Z    1\n",
       "                                         2019-09-06T18:11:53.894Z    1\n",
       "                                         2019-09-06T18:11:58.809Z    1\n",
       "                                         2019-09-06T18:12:01.799Z    1\n",
       "                                         2019-09-06T18:12:16.627Z    1\n",
       "                                         2019-09-06T18:12:16.628Z    1\n",
       "                                         2019-09-06T18:12:16.630Z    1\n",
       "                                         2019-09-06T18:12:16.647Z    1\n",
       "                                         2019-09-06T18:12:22.927Z    1\n",
       "                                         2019-09-06T18:12:23.505Z    1\n",
       "                                         2019-09-06T18:12:24.910Z    1\n",
       "                                         2019-09-06T18:12:25.871Z    1\n",
       "                                                                    ..\n",
       "fffc0583         c09b94eebfdf50a6  Game  2019-10-10T15:09:47.976Z    1\n",
       "                                         2019-10-10T15:09:49.375Z    1\n",
       "                                         2019-10-10T15:09:50.282Z    1\n",
       "                                         2019-10-10T15:09:50.576Z    1\n",
       "                                         2019-10-10T15:09:50.885Z    1\n",
       "                                         2019-10-10T15:09:51.243Z    1\n",
       "                                         2019-10-10T15:09:51.677Z    1\n",
       "                                         2019-10-10T15:09:51.927Z    1\n",
       "                                         2019-10-10T15:09:52.641Z    1\n",
       "                                         2019-10-10T15:09:53.177Z    1\n",
       "                                         2019-10-10T15:09:54.177Z    1\n",
       "                                         2019-10-10T15:09:54.477Z    1\n",
       "                                         2019-10-10T15:09:54.752Z    1\n",
       "                                         2019-10-10T15:09:55.036Z    1\n",
       "                                         2019-10-10T15:09:55.486Z    1\n",
       "                                         2019-10-10T15:09:55.885Z    1\n",
       "                                         2019-10-10T15:09:56.545Z    1\n",
       "                                         2019-10-10T15:09:56.832Z    1\n",
       "                                         2019-10-10T15:09:57.654Z    1\n",
       "                                         2019-10-10T15:09:58.052Z    1\n",
       "                                         2019-10-10T15:09:58.263Z    1\n",
       "                                         2019-10-10T15:09:58.687Z    1\n",
       "                                         2019-10-10T15:09:59.385Z    1\n",
       "                                         2019-10-10T15:11:14.147Z    1\n",
       "                                         2019-10-10T15:11:14.148Z    1\n",
       "                                         2019-10-10T15:11:15.584Z    1\n",
       "                 da9cabb5cb123df1  Clip  2019-10-10T14:54:59.701Z    1\n",
       "                 e131c218f77fbeab  Clip  2019-10-10T15:08:23.374Z    1\n",
       "                 e6b760e8f9e40ebf  Clip  2019-10-10T14:53:57.436Z    1\n",
       "                 f31950f549d7c242  Clip  2019-10-10T15:15:12.483Z    1\n",
       "Name: type, Length: 10797916, dtype: int64"
      ]
     },
     "execution_count": 10,
     "metadata": {},
     "output_type": "execute_result"
    }
   ],
   "source": [
    "explore.groupby(['installation_id', 'session', 'type', 'timestamp']).type.count()"
   ]
  },
  {
   "cell_type": "code",
   "execution_count": 11,
   "metadata": {},
   "outputs": [
    {
     "data": {
      "text/plain": [
       "Game        883\n",
       "Activity    469\n",
       "Clip          5\n",
       "Name: type, dtype: int64"
      ]
     },
     "execution_count": 11,
     "metadata": {},
     "output_type": "execute_result"
    }
   ],
   "source": [
    "explore[explore.installation_id == '0001e90f'].type.value_counts()"
   ]
  },
  {
   "cell_type": "code",
   "execution_count": 12,
   "metadata": {},
   "outputs": [
    {
     "data": {
      "text/plain": [
       "array(['Clip', 'Activity', 'Game', 'Assessment'], dtype=object)"
      ]
     },
     "execution_count": 12,
     "metadata": {},
     "output_type": "execute_result"
    }
   ],
   "source": [
    "explore.type.unique()"
   ]
  },
  {
   "cell_type": "markdown",
   "metadata": {},
   "source": [
    "<font color=green>**Assessment Title Names: Mushroom Sorter, Bird Measurer, Cauldron Filler, Cart Balancer, Chest Sorter.**</font>"
   ]
  },
  {
   "cell_type": "code",
   "execution_count": 13,
   "metadata": {},
   "outputs": [
    {
     "data": {
      "text/plain": [
       "array(['Mushroom Sorter (Assessment)', 'Bird Measurer (Assessment)',\n",
       "       'Cauldron Filler (Assessment)', 'Cart Balancer (Assessment)',\n",
       "       'Chest Sorter (Assessment)'], dtype=object)"
      ]
     },
     "execution_count": 13,
     "metadata": {},
     "output_type": "execute_result"
    }
   ],
   "source": [
    "explore[explore.type == 'Assessment'].title.unique()"
   ]
  },
  {
   "cell_type": "markdown",
   "metadata": {},
   "source": [
    "### Visualize Accuracy Groups by Assessment Title"
   ]
  },
  {
   "cell_type": "code",
   "execution_count": 14,
   "metadata": {},
   "outputs": [],
   "source": [
    "temp_df = explore.groupby(['title', 'accuracy_group'])['accuracy_group'].agg(['count']).reset_index()\n",
    "temp_df.columns = ['title', 'accuracy_group', 'Count']"
   ]
  },
  {
   "cell_type": "code",
   "execution_count": 15,
   "metadata": {},
   "outputs": [
    {
     "data": {
      "image/png": "[encoded data removed]",
      "text/plain": [
       "<Figure size 360x360 with 1 Axes>"
      ]
     },
     "metadata": {},
     "output_type": "display_data"
    }
   ],
   "source": [
    "sns.set_style(style='dark')\n",
    "plt.figure(figsize=(5,5))\n",
    "fig = sns.scatterplot(data=temp_df, x='accuracy_group', y='title', hue='accuracy_group', size='Count', palette='hot', legend=False)\n",
    "\n",
    "plt.title('Accuracy Groups')\n",
    "plt.show()"
   ]
  },
  {
   "cell_type": "code",
   "execution_count": 16,
   "metadata": {},
   "outputs": [
    {
     "data": {
      "text/plain": [
       "accuracy_group\n",
       "0.0    255079\n",
       "1.0    197291\n",
       "2.0    109502\n",
       "3.0    303575\n",
       "Name: installation_id, dtype: int64"
      ]
     },
     "execution_count": 16,
     "metadata": {},
     "output_type": "execute_result"
    }
   ],
   "source": [
    "explore.groupby('accuracy_group')['installation_id'].count()"
   ]
  },
  {
   "cell_type": "code",
   "execution_count": 17,
   "metadata": {},
   "outputs": [
    {
     "data": {
      "text/html": [
       "        <script type=\"text/javascript\">\n",
       "        window.PlotlyConfig = {MathJaxConfig: 'local'};\n",
       "        if (window.MathJax) {MathJax.Hub.Config({SVG: {font: \"STIX-Web\"}});}\n",
       "        if (typeof require !== 'undefined') {\n",
       "        require.undef(\"plotly\");\n",
       "        requirejs.config({\n",
       "            paths: {\n",
       "                'plotly': ['https://cdn.plot.ly/plotly-latest.min']\n",
       "            }\n",
       "        });\n",
       "        require(['plotly'], function(Plotly) {\n",
       "            window._Plotly = Plotly;\n",
       "        });\n",
       "        }\n",
       "        </script>\n",
       "        "
      ]
     },
     "metadata": {},
     "output_type": "display_data"
    },
    {
     "data": {
      "application/vnd.plotly.v1+json": {
       "config": {
        "plotlyServerURL": "https://plot.ly"
       },
       "data": [
        {
         "hole": 0.2,
         "labels": [
          3,
          0,
          1,
          2
         ],
         "type": "pie",
         "values": [
          303575,
          255079,
          197291,
          109502
         ]
        }
       ],
       "layout": {
        "template": {
         "data": {
          "bar": [
           {
            "error_x": {
             "color": "#2a3f5f"
            },
            "error_y": {
             "color": "#2a3f5f"
            },
            "marker": {
             "line": {
              "color": "#E5ECF6",
              "width": 0.5
             }
            },
            "type": "bar"
           }
          ],
          "barpolar": [
           {
            "marker": {
             "line": {
              "color": "#E5ECF6",
              "width": 0.5
             }
            },
            "type": "barpolar"
           }
          ],
          "carpet": [
           {
            "aaxis": {
             "endlinecolor": "#2a3f5f",
             "gridcolor": "white",
             "linecolor": "white",
             "minorgridcolor": "white",
             "startlinecolor": "#2a3f5f"
            },
            "baxis": {
             "endlinecolor": "#2a3f5f",
             "gridcolor": "white",
             "linecolor": "white",
             "minorgridcolor": "white",
             "startlinecolor": "#2a3f5f"
            },
            "type": "carpet"
           }
          ],
          "choropleth": [
           {
            "colorbar": {
             "outlinewidth": 0,
             "ticks": ""
            },
            "type": "choropleth"
           }
          ],
          "contour": [
           {
            "colorbar": {
             "outlinewidth": 0,
             "ticks": ""
            },
            "colorscale": [
             [
              0,
              "#0d0887"
             ],
             [
              0.1111111111111111,
              "#46039f"
             ],
             [
              0.2222222222222222,
              "#7201a8"
             ],
             [
              0.3333333333333333,
              "#9c179e"
             ],
             [
              0.4444444444444444,
              "#bd3786"
             ],
             [
              0.5555555555555556,
              "#d8576b"
             ],
             [
              0.6666666666666666,
              "#ed7953"
             ],
             [
              0.7777777777777778,
              "#fb9f3a"
             ],
             [
              0.8888888888888888,
              "#fdca26"
             ],
             [
              1,
              "#f0f921"
             ]
            ],
            "type": "contour"
           }
          ],
          "contourcarpet": [
           {
            "colorbar": {
             "outlinewidth": 0,
             "ticks": ""
            },
            "type": "contourcarpet"
           }
          ],
          "heatmap": [
           {
            "colorbar": {
             "outlinewidth": 0,
             "ticks": ""
            },
            "colorscale": [
             [
              0,
              "#0d0887"
             ],
             [
              0.1111111111111111,
              "#46039f"
             ],
             [
              0.2222222222222222,
              "#7201a8"
             ],
             [
              0.3333333333333333,
              "#9c179e"
             ],
             [
              0.4444444444444444,
              "#bd3786"
             ],
             [
              0.5555555555555556,
              "#d8576b"
             ],
             [
              0.6666666666666666,
              "#ed7953"
             ],
             [
              0.7777777777777778,
              "#fb9f3a"
             ],
             [
              0.8888888888888888,
              "#fdca26"
             ],
             [
              1,
              "#f0f921"
             ]
            ],
            "type": "heatmap"
           }
          ],
          "heatmapgl": [
           {
            "colorbar": {
             "outlinewidth": 0,
             "ticks": ""
            },
            "colorscale": [
             [
              0,
              "#0d0887"
             ],
             [
              0.1111111111111111,
              "#46039f"
             ],
             [
              0.2222222222222222,
              "#7201a8"
             ],
             [
              0.3333333333333333,
              "#9c179e"
             ],
             [
              0.4444444444444444,
              "#bd3786"
             ],
             [
              0.5555555555555556,
              "#d8576b"
             ],
             [
              0.6666666666666666,
              "#ed7953"
             ],
             [
              0.7777777777777778,
              "#fb9f3a"
             ],
             [
              0.8888888888888888,
              "#fdca26"
             ],
             [
              1,
              "#f0f921"
             ]
            ],
            "type": "heatmapgl"
           }
          ],
          "histogram": [
           {
            "marker": {
             "colorbar": {
              "outlinewidth": 0,
              "ticks": ""
             }
            },
            "type": "histogram"
           }
          ],
          "histogram2d": [
           {
            "colorbar": {
             "outlinewidth": 0,
             "ticks": ""
            },
            "colorscale": [
             [
              0,
              "#0d0887"
             ],
             [
              0.1111111111111111,
              "#46039f"
             ],
             [
              0.2222222222222222,
              "#7201a8"
             ],
             [
              0.3333333333333333,
              "#9c179e"
             ],
             [
              0.4444444444444444,
              "#bd3786"
             ],
             [
              0.5555555555555556,
              "#d8576b"
             ],
             [
              0.6666666666666666,
              "#ed7953"
             ],
             [
              0.7777777777777778,
              "#fb9f3a"
             ],
             [
              0.8888888888888888,
              "#fdca26"
             ],
             [
              1,
              "#f0f921"
             ]
            ],
            "type": "histogram2d"
           }
          ],
          "histogram2dcontour": [
           {
            "colorbar": {
             "outlinewidth": 0,
             "ticks": ""
            },
            "colorscale": [
             [
              0,
              "#0d0887"
             ],
             [
              0.1111111111111111,
              "#46039f"
             ],
             [
              0.2222222222222222,
              "#7201a8"
             ],
             [
              0.3333333333333333,
              "#9c179e"
             ],
             [
              0.4444444444444444,
              "#bd3786"
             ],
             [
              0.5555555555555556,
              "#d8576b"
             ],
             [
              0.6666666666666666,
              "#ed7953"
             ],
             [
              0.7777777777777778,
              "#fb9f3a"
             ],
             [
              0.8888888888888888,
              "#fdca26"
             ],
             [
              1,
              "#f0f921"
             ]
            ],
            "type": "histogram2dcontour"
           }
          ],
          "mesh3d": [
           {
            "colorbar": {
             "outlinewidth": 0,
             "ticks": ""
            },
            "type": "mesh3d"
           }
          ],
          "parcoords": [
           {
            "line": {
             "colorbar": {
              "outlinewidth": 0,
              "ticks": ""
             }
            },
            "type": "parcoords"
           }
          ],
          "pie": [
           {
            "automargin": true,
            "type": "pie"
           }
          ],
          "scatter": [
           {
            "marker": {
             "colorbar": {
              "outlinewidth": 0,
              "ticks": ""
             }
            },
            "type": "scatter"
           }
          ],
          "scatter3d": [
           {
            "line": {
             "colorbar": {
              "outlinewidth": 0,
              "ticks": ""
             }
            },
            "marker": {
             "colorbar": {
              "outlinewidth": 0,
              "ticks": ""
             }
            },
            "type": "scatter3d"
           }
          ],
          "scattercarpet": [
           {
            "marker": {
             "colorbar": {
              "outlinewidth": 0,
              "ticks": ""
             }
            },
            "type": "scattercarpet"
           }
          ],
          "scattergeo": [
           {
            "marker": {
             "colorbar": {
              "outlinewidth": 0,
              "ticks": ""
             }
            },
            "type": "scattergeo"
           }
          ],
          "scattergl": [
           {
            "marker": {
             "colorbar": {
              "outlinewidth": 0,
              "ticks": ""
             }
            },
            "type": "scattergl"
           }
          ],
          "scattermapbox": [
           {
            "marker": {
             "colorbar": {
              "outlinewidth": 0,
              "ticks": ""
             }
            },
            "type": "scattermapbox"
           }
          ],
          "scatterpolar": [
           {
            "marker": {
             "colorbar": {
              "outlinewidth": 0,
              "ticks": ""
             }
            },
            "type": "scatterpolar"
           }
          ],
          "scatterpolargl": [
           {
            "marker": {
             "colorbar": {
              "outlinewidth": 0,
              "ticks": ""
             }
            },
            "type": "scatterpolargl"
           }
          ],
          "scatterternary": [
           {
            "marker": {
             "colorbar": {
              "outlinewidth": 0,
              "ticks": ""
             }
            },
            "type": "scatterternary"
           }
          ],
          "surface": [
           {
            "colorbar": {
             "outlinewidth": 0,
             "ticks": ""
            },
            "colorscale": [
             [
              0,
              "#0d0887"
             ],
             [
              0.1111111111111111,
              "#46039f"
             ],
             [
              0.2222222222222222,
              "#7201a8"
             ],
             [
              0.3333333333333333,
              "#9c179e"
             ],
             [
              0.4444444444444444,
              "#bd3786"
             ],
             [
              0.5555555555555556,
              "#d8576b"
             ],
             [
              0.6666666666666666,
              "#ed7953"
             ],
             [
              0.7777777777777778,
              "#fb9f3a"
             ],
             [
              0.8888888888888888,
              "#fdca26"
             ],
             [
              1,
              "#f0f921"
             ]
            ],
            "type": "surface"
           }
          ],
          "table": [
           {
            "cells": {
             "fill": {
              "color": "#EBF0F8"
             },
             "line": {
              "color": "white"
             }
            },
            "header": {
             "fill": {
              "color": "#C8D4E3"
             },
             "line": {
              "color": "white"
             }
            },
            "type": "table"
           }
          ]
         },
         "layout": {
          "annotationdefaults": {
           "arrowcolor": "#2a3f5f",
           "arrowhead": 0,
           "arrowwidth": 1
          },
          "coloraxis": {
           "colorbar": {
            "outlinewidth": 0,
            "ticks": ""
           }
          },
          "colorscale": {
           "diverging": [
            [
             0,
             "#8e0152"
            ],
            [
             0.1,
             "#c51b7d"
            ],
            [
             0.2,
             "#de77ae"
            ],
            [
             0.3,
             "#f1b6da"
            ],
            [
             0.4,
             "#fde0ef"
            ],
            [
             0.5,
             "#f7f7f7"
            ],
            [
             0.6,
             "#e6f5d0"
            ],
            [
             0.7,
             "#b8e186"
            ],
            [
             0.8,
             "#7fbc41"
            ],
            [
             0.9,
             "#4d9221"
            ],
            [
             1,
             "#276419"
            ]
           ],
           "sequential": [
            [
             0,
             "#0d0887"
            ],
            [
             0.1111111111111111,
             "#46039f"
            ],
            [
             0.2222222222222222,
             "#7201a8"
            ],
            [
             0.3333333333333333,
             "#9c179e"
            ],
            [
             0.4444444444444444,
             "#bd3786"
            ],
            [
             0.5555555555555556,
             "#d8576b"
            ],
            [
             0.6666666666666666,
             "#ed7953"
            ],
            [
             0.7777777777777778,
             "#fb9f3a"
            ],
            [
             0.8888888888888888,
             "#fdca26"
            ],
            [
             1,
             "#f0f921"
            ]
           ],
           "sequentialminus": [
            [
             0,
             "#0d0887"
            ],
            [
             0.1111111111111111,
             "#46039f"
            ],
            [
             0.2222222222222222,
             "#7201a8"
            ],
            [
             0.3333333333333333,
             "#9c179e"
            ],
            [
             0.4444444444444444,
             "#bd3786"
            ],
            [
             0.5555555555555556,
             "#d8576b"
            ],
            [
             0.6666666666666666,
             "#ed7953"
            ],
            [
             0.7777777777777778,
             "#fb9f3a"
            ],
            [
             0.8888888888888888,
             "#fdca26"
            ],
            [
             1,
             "#f0f921"
            ]
           ]
          },
          "colorway": [
           "#636efa",
           "#EF553B",
           "#00cc96",
           "#ab63fa",
           "#FFA15A",
           "#19d3f3",
           "#FF6692",
           "#B6E880",
           "#FF97FF",
           "#FECB52"
          ],
          "font": {
           "color": "#2a3f5f"
          },
          "geo": {
           "bgcolor": "white",
           "lakecolor": "white",
           "landcolor": "#E5ECF6",
           "showlakes": true,
           "showland": true,
           "subunitcolor": "white"
          },
          "hoverlabel": {
           "align": "left"
          },
          "hovermode": "closest",
          "mapbox": {
           "style": "light"
          },
          "paper_bgcolor": "white",
          "plot_bgcolor": "#E5ECF6",
          "polar": {
           "angularaxis": {
            "gridcolor": "white",
            "linecolor": "white",
            "ticks": ""
           },
           "bgcolor": "#E5ECF6",
           "radialaxis": {
            "gridcolor": "white",
            "linecolor": "white",
            "ticks": ""
           }
          },
          "scene": {
           "xaxis": {
            "backgroundcolor": "#E5ECF6",
            "gridcolor": "white",
            "gridwidth": 2,
            "linecolor": "white",
            "showbackground": true,
            "ticks": "",
            "zerolinecolor": "white"
           },
           "yaxis": {
            "backgroundcolor": "#E5ECF6",
            "gridcolor": "white",
            "gridwidth": 2,
            "linecolor": "white",
            "showbackground": true,
            "ticks": "",
            "zerolinecolor": "white"
           },
           "zaxis": {
            "backgroundcolor": "#E5ECF6",
            "gridcolor": "white",
            "gridwidth": 2,
            "linecolor": "white",
            "showbackground": true,
            "ticks": "",
            "zerolinecolor": "white"
           }
          },
          "shapedefaults": {
           "line": {
            "color": "#2a3f5f"
           }
          },
          "ternary": {
           "aaxis": {
            "gridcolor": "white",
            "linecolor": "white",
            "ticks": ""
           },
           "baxis": {
            "gridcolor": "white",
            "linecolor": "white",
            "ticks": ""
           },
           "bgcolor": "#E5ECF6",
           "caxis": {
            "gridcolor": "white",
            "linecolor": "white",
            "ticks": ""
           }
          },
          "title": {
           "x": 0.05
          },
          "xaxis": {
           "automargin": true,
           "gridcolor": "white",
           "linecolor": "white",
           "ticks": "",
           "title": {
            "standoff": 15
           },
           "zerolinecolor": "white",
           "zerolinewidth": 2
          },
          "yaxis": {
           "automargin": true,
           "gridcolor": "white",
           "linecolor": "white",
           "ticks": "",
           "title": {
            "standoff": 15
           },
           "zerolinecolor": "white",
           "zerolinewidth": 2
          }
         }
        }
       }
      },
      "text/html": [
       "<div>\n",
       "        \n",
       "        \n",
       "            <div id=\"fe058b40-da5e-46b9-964c-05bdd2499f84\" class=\"plotly-graph-div\" style=\"height:525px; width:100%;\"></div>\n",
       "            <script type=\"text/javascript\">\n",
       "                require([\"plotly\"], function(Plotly) {\n",
       "                    window.PLOTLYENV=window.PLOTLYENV || {};\n",
       "                    \n",
       "                if (document.getElementById(\"fe058b40-da5e-46b9-964c-05bdd2499f84\")) {\n",
       "                    Plotly.newPlot(\n",
       "                        'fe058b40-da5e-46b9-964c-05bdd2499f84',\n",
       "                        [{\"hole\": 0.2, \"labels\": [3.0, 0.0, 1.0, 2.0], \"type\": \"pie\", \"values\": [303575, 255079, 197291, 109502]}],\n",
       "                        {\"template\": {\"data\": {\"bar\": [{\"error_x\": {\"color\": \"#2a3f5f\"}, \"error_y\": {\"color\": \"#2a3f5f\"}, \"marker\": {\"line\": {\"color\": \"#E5ECF6\", \"width\": 0.5}}, \"type\": \"bar\"}], \"barpolar\": [{\"marker\": {\"line\": {\"color\": \"#E5ECF6\", \"width\": 0.5}}, \"type\": \"barpolar\"}], \"carpet\": [{\"aaxis\": {\"endlinecolor\": \"#2a3f5f\", \"gridcolor\": \"white\", \"linecolor\": \"white\", \"minorgridcolor\": \"white\", \"startlinecolor\": \"#2a3f5f\"}, \"baxis\": {\"endlinecolor\": \"#2a3f5f\", \"gridcolor\": \"white\", \"linecolor\": \"white\", \"minorgridcolor\": \"white\", \"startlinecolor\": \"#2a3f5f\"}, \"type\": \"carpet\"}], \"choropleth\": [{\"colorbar\": {\"outlinewidth\": 0, \"ticks\": \"\"}, \"type\": \"choropleth\"}], \"contour\": [{\"colorbar\": {\"outlinewidth\": 0, \"ticks\": \"\"}, \"colorscale\": [[0.0, \"#0d0887\"], [0.1111111111111111, \"#46039f\"], [0.2222222222222222, \"#7201a8\"], [0.3333333333333333, \"#9c179e\"], [0.4444444444444444, \"#bd3786\"], [0.5555555555555556, \"#d8576b\"], [0.6666666666666666, \"#ed7953\"], [0.7777777777777778, \"#fb9f3a\"], [0.8888888888888888, \"#fdca26\"], [1.0, \"#f0f921\"]], \"type\": \"contour\"}], \"contourcarpet\": [{\"colorbar\": {\"outlinewidth\": 0, \"ticks\": \"\"}, \"type\": \"contourcarpet\"}], \"heatmap\": [{\"colorbar\": {\"outlinewidth\": 0, \"ticks\": \"\"}, \"colorscale\": [[0.0, \"#0d0887\"], [0.1111111111111111, \"#46039f\"], [0.2222222222222222, \"#7201a8\"], [0.3333333333333333, \"#9c179e\"], [0.4444444444444444, \"#bd3786\"], [0.5555555555555556, \"#d8576b\"], [0.6666666666666666, \"#ed7953\"], [0.7777777777777778, \"#fb9f3a\"], [0.8888888888888888, \"#fdca26\"], [1.0, \"#f0f921\"]], \"type\": \"heatmap\"}], \"heatmapgl\": [{\"colorbar\": {\"outlinewidth\": 0, \"ticks\": \"\"}, \"colorscale\": [[0.0, \"#0d0887\"], [0.1111111111111111, \"#46039f\"], [0.2222222222222222, \"#7201a8\"], [0.3333333333333333, \"#9c179e\"], [0.4444444444444444, \"#bd3786\"], [0.5555555555555556, \"#d8576b\"], [0.6666666666666666, \"#ed7953\"], [0.7777777777777778, \"#fb9f3a\"], [0.8888888888888888, \"#fdca26\"], [1.0, \"#f0f921\"]], \"type\": \"heatmapgl\"}], \"histogram\": [{\"marker\": {\"colorbar\": {\"outlinewidth\": 0, \"ticks\": \"\"}}, \"type\": \"histogram\"}], \"histogram2d\": [{\"colorbar\": {\"outlinewidth\": 0, \"ticks\": \"\"}, \"colorscale\": [[0.0, \"#0d0887\"], [0.1111111111111111, \"#46039f\"], [0.2222222222222222, \"#7201a8\"], [0.3333333333333333, \"#9c179e\"], [0.4444444444444444, \"#bd3786\"], [0.5555555555555556, \"#d8576b\"], [0.6666666666666666, \"#ed7953\"], [0.7777777777777778, \"#fb9f3a\"], [0.8888888888888888, \"#fdca26\"], [1.0, \"#f0f921\"]], \"type\": \"histogram2d\"}], \"histogram2dcontour\": [{\"colorbar\": {\"outlinewidth\": 0, \"ticks\": \"\"}, \"colorscale\": [[0.0, \"#0d0887\"], [0.1111111111111111, \"#46039f\"], [0.2222222222222222, \"#7201a8\"], [0.3333333333333333, \"#9c179e\"], [0.4444444444444444, \"#bd3786\"], [0.5555555555555556, \"#d8576b\"], [0.6666666666666666, \"#ed7953\"], [0.7777777777777778, \"#fb9f3a\"], [0.8888888888888888, \"#fdca26\"], [1.0, \"#f0f921\"]], \"type\": \"histogram2dcontour\"}], \"mesh3d\": [{\"colorbar\": {\"outlinewidth\": 0, \"ticks\": \"\"}, \"type\": \"mesh3d\"}], \"parcoords\": [{\"line\": {\"colorbar\": {\"outlinewidth\": 0, \"ticks\": \"\"}}, \"type\": \"parcoords\"}], \"pie\": [{\"automargin\": true, \"type\": \"pie\"}], \"scatter\": [{\"marker\": {\"colorbar\": {\"outlinewidth\": 0, \"ticks\": \"\"}}, \"type\": \"scatter\"}], \"scatter3d\": [{\"line\": {\"colorbar\": {\"outlinewidth\": 0, \"ticks\": \"\"}}, \"marker\": {\"colorbar\": {\"outlinewidth\": 0, \"ticks\": \"\"}}, \"type\": \"scatter3d\"}], \"scattercarpet\": [{\"marker\": {\"colorbar\": {\"outlinewidth\": 0, \"ticks\": \"\"}}, \"type\": \"scattercarpet\"}], \"scattergeo\": [{\"marker\": {\"colorbar\": {\"outlinewidth\": 0, \"ticks\": \"\"}}, \"type\": \"scattergeo\"}], \"scattergl\": [{\"marker\": {\"colorbar\": {\"outlinewidth\": 0, \"ticks\": \"\"}}, \"type\": \"scattergl\"}], \"scattermapbox\": [{\"marker\": {\"colorbar\": {\"outlinewidth\": 0, \"ticks\": \"\"}}, \"type\": \"scattermapbox\"}], \"scatterpolar\": [{\"marker\": {\"colorbar\": {\"outlinewidth\": 0, \"ticks\": \"\"}}, \"type\": \"scatterpolar\"}], \"scatterpolargl\": [{\"marker\": {\"colorbar\": {\"outlinewidth\": 0, \"ticks\": \"\"}}, \"type\": \"scatterpolargl\"}], \"scatterternary\": [{\"marker\": {\"colorbar\": {\"outlinewidth\": 0, \"ticks\": \"\"}}, \"type\": \"scatterternary\"}], \"surface\": [{\"colorbar\": {\"outlinewidth\": 0, \"ticks\": \"\"}, \"colorscale\": [[0.0, \"#0d0887\"], [0.1111111111111111, \"#46039f\"], [0.2222222222222222, \"#7201a8\"], [0.3333333333333333, \"#9c179e\"], [0.4444444444444444, \"#bd3786\"], [0.5555555555555556, \"#d8576b\"], [0.6666666666666666, \"#ed7953\"], [0.7777777777777778, \"#fb9f3a\"], [0.8888888888888888, \"#fdca26\"], [1.0, \"#f0f921\"]], \"type\": \"surface\"}], \"table\": [{\"cells\": {\"fill\": {\"color\": \"#EBF0F8\"}, \"line\": {\"color\": \"white\"}}, \"header\": {\"fill\": {\"color\": \"#C8D4E3\"}, \"line\": {\"color\": \"white\"}}, \"type\": \"table\"}]}, \"layout\": {\"annotationdefaults\": {\"arrowcolor\": \"#2a3f5f\", \"arrowhead\": 0, \"arrowwidth\": 1}, \"coloraxis\": {\"colorbar\": {\"outlinewidth\": 0, \"ticks\": \"\"}}, \"colorscale\": {\"diverging\": [[0, \"#8e0152\"], [0.1, \"#c51b7d\"], [0.2, \"#de77ae\"], [0.3, \"#f1b6da\"], [0.4, \"#fde0ef\"], [0.5, \"#f7f7f7\"], [0.6, \"#e6f5d0\"], [0.7, \"#b8e186\"], [0.8, \"#7fbc41\"], [0.9, \"#4d9221\"], [1, \"#276419\"]], \"sequential\": [[0.0, \"#0d0887\"], [0.1111111111111111, \"#46039f\"], [0.2222222222222222, \"#7201a8\"], [0.3333333333333333, \"#9c179e\"], [0.4444444444444444, \"#bd3786\"], [0.5555555555555556, \"#d8576b\"], [0.6666666666666666, \"#ed7953\"], [0.7777777777777778, \"#fb9f3a\"], [0.8888888888888888, \"#fdca26\"], [1.0, \"#f0f921\"]], \"sequentialminus\": [[0.0, \"#0d0887\"], [0.1111111111111111, \"#46039f\"], [0.2222222222222222, \"#7201a8\"], [0.3333333333333333, \"#9c179e\"], [0.4444444444444444, \"#bd3786\"], [0.5555555555555556, \"#d8576b\"], [0.6666666666666666, \"#ed7953\"], [0.7777777777777778, \"#fb9f3a\"], [0.8888888888888888, \"#fdca26\"], [1.0, \"#f0f921\"]]}, \"colorway\": [\"#636efa\", \"#EF553B\", \"#00cc96\", \"#ab63fa\", \"#FFA15A\", \"#19d3f3\", \"#FF6692\", \"#B6E880\", \"#FF97FF\", \"#FECB52\"], \"font\": {\"color\": \"#2a3f5f\"}, \"geo\": {\"bgcolor\": \"white\", \"lakecolor\": \"white\", \"landcolor\": \"#E5ECF6\", \"showlakes\": true, \"showland\": true, \"subunitcolor\": \"white\"}, \"hoverlabel\": {\"align\": \"left\"}, \"hovermode\": \"closest\", \"mapbox\": {\"style\": \"light\"}, \"paper_bgcolor\": \"white\", \"plot_bgcolor\": \"#E5ECF6\", \"polar\": {\"angularaxis\": {\"gridcolor\": \"white\", \"linecolor\": \"white\", \"ticks\": \"\"}, \"bgcolor\": \"#E5ECF6\", \"radialaxis\": {\"gridcolor\": \"white\", \"linecolor\": \"white\", \"ticks\": \"\"}}, \"scene\": {\"xaxis\": {\"backgroundcolor\": \"#E5ECF6\", \"gridcolor\": \"white\", \"gridwidth\": 2, \"linecolor\": \"white\", \"showbackground\": true, \"ticks\": \"\", \"zerolinecolor\": \"white\"}, \"yaxis\": {\"backgroundcolor\": \"#E5ECF6\", \"gridcolor\": \"white\", \"gridwidth\": 2, \"linecolor\": \"white\", \"showbackground\": true, \"ticks\": \"\", \"zerolinecolor\": \"white\"}, \"zaxis\": {\"backgroundcolor\": \"#E5ECF6\", \"gridcolor\": \"white\", \"gridwidth\": 2, \"linecolor\": \"white\", \"showbackground\": true, \"ticks\": \"\", \"zerolinecolor\": \"white\"}}, \"shapedefaults\": {\"line\": {\"color\": \"#2a3f5f\"}}, \"ternary\": {\"aaxis\": {\"gridcolor\": \"white\", \"linecolor\": \"white\", \"ticks\": \"\"}, \"baxis\": {\"gridcolor\": \"white\", \"linecolor\": \"white\", \"ticks\": \"\"}, \"bgcolor\": \"#E5ECF6\", \"caxis\": {\"gridcolor\": \"white\", \"linecolor\": \"white\", \"ticks\": \"\"}}, \"title\": {\"x\": 0.05}, \"xaxis\": {\"automargin\": true, \"gridcolor\": \"white\", \"linecolor\": \"white\", \"ticks\": \"\", \"title\": {\"standoff\": 15}, \"zerolinecolor\": \"white\", \"zerolinewidth\": 2}, \"yaxis\": {\"automargin\": true, \"gridcolor\": \"white\", \"linecolor\": \"white\", \"ticks\": \"\", \"title\": {\"standoff\": 15}, \"zerolinecolor\": \"white\", \"zerolinewidth\": 2}}}},\n",
       "                        {\"responsive\": true}\n",
       "                    ).then(function(){\n",
       "                            \n",
       "var gd = document.getElementById('fe058b40-da5e-46b9-964c-05bdd2499f84');\n",
       "var x = new MutationObserver(function (mutations, observer) {{\n",
       "        var display = window.getComputedStyle(gd).display;\n",
       "        if (!display || display === 'none') {{\n",
       "            console.log([gd, 'removed!']);\n",
       "            Plotly.purge(gd);\n",
       "            observer.disconnect();\n",
       "        }}\n",
       "}});\n",
       "\n",
       "// Listen for the removal of the full notebook cells\n",
       "var notebookContainer = gd.closest('#notebook-container');\n",
       "if (notebookContainer) {{\n",
       "    x.observe(notebookContainer, {childList: true});\n",
       "}}\n",
       "\n",
       "// Listen for the clearing of the current output cell\n",
       "var outputEl = gd.closest('.output');\n",
       "if (outputEl) {{\n",
       "    x.observe(outputEl, {childList: true});\n",
       "}}\n",
       "\n",
       "                        })\n",
       "                };\n",
       "                });\n",
       "            </script>\n",
       "        </div>"
      ]
     },
     "metadata": {},
     "output_type": "display_data"
    }
   ],
   "source": [
    "Accuracy=pd.DataFrame()\n",
    "Accuracy['Type']=explore.accuracy_group.value_counts().index\n",
    "Accuracy['Count']=explore.accuracy_group.value_counts().values\n",
    "\n",
    "py.init_notebook_mode(connected=True)\n",
    "fig = go.Figure(data=[go.Pie(labels=Accuracy['Type'], values=Accuracy['Count'],hole=0.2)])\n",
    "fig.show()"
   ]
  },
  {
   "cell_type": "markdown",
   "metadata": {},
   "source": [
    "### What is going on here?"
   ]
  },
  {
   "cell_type": "code",
   "execution_count": 18,
   "metadata": {},
   "outputs": [
    {
     "data": {
      "text/plain": [
       "39350"
      ]
     },
     "execution_count": 18,
     "metadata": {},
     "output_type": "execute_result"
    }
   ],
   "source": [
    "explore[(explore.event_code == 4100)  | (explore.event_code == 4110)].accuracy_group.isnull().sum()"
   ]
  },
  {
   "cell_type": "code",
   "execution_count": 19,
   "metadata": {
    "scrolled": true
   },
   "outputs": [
    {
     "data": {
      "text/plain": [
       "2228        {\"correct\":true,\"stumps\":[1,2,4],\"event_count\"...\n",
       "2308        {\"distance\":10,\"target_distances\":[5,6,7,8,9,1...\n",
       "2335        {\"distance\":9,\"target_distances\":[5,6,7],\"corr...\n",
       "2375        {\"distance\":3,\"target_distances\":[5,6,7],\"corr...\n",
       "2409        {\"distance\":8,\"target_distances\":[5,6,7],\"corr...\n",
       "2797        {\"correct\":true,\"stumps\":[1,2,4],\"event_count\"...\n",
       "3725        {\"correct\":false,\"stumps\":[3,2,5],\"event_count...\n",
       "3734        {\"correct\":true,\"stumps\":[2,3,5],\"event_count\"...\n",
       "3773        {\"distance\":10,\"target_distances\":[6,7,8,9,10]...\n",
       "3809        {\"distance\":9,\"target_distances\":[4,5,6,7,8,9,...\n",
       "3842        {\"distance\":10,\"target_distances\":[1,2,3],\"cor...\n",
       "3850        {\"distance\":4,\"target_distances\":[1,2,3],\"corr...\n",
       "4153        {\"correct\":true,\"hats\":[4,8,5],\"event_count\":3...\n",
       "6900        {\"buckets\":[0,0,0],\"correct\":true,\"buckets_pla...\n",
       "7279        {\"correct\":false,\"stumps\":[0,0,0],\"event_count...\n",
       "7292        {\"correct\":false,\"stumps\":[0,0,0],\"event_count...\n",
       "7312        {\"correct\":false,\"stumps\":[2,5,3],\"event_count...\n",
       "7341        {\"correct\":false,\"stumps\":[3,5,2],\"event_count...\n",
       "7414        {\"correct\":false,\"hats\":[5,4,8],\"event_count\":...\n",
       "8078        {\"correct\":true,\"hats\":[4,8,5],\"event_count\":3...\n",
       "10098       {\"correct\":false,\"stumps\":[0,0,0],\"event_count...\n",
       "10124       {\"correct\":true,\"stumps\":[1,2,4],\"event_count\"...\n",
       "10164       {\"correct\":true,\"stumps\":[1,2,4],\"event_count\"...\n",
       "10352       {\"correct\":true,\"left\":[{\"id\":\"gem07\",\"weight\"...\n",
       "10379       {\"scale_weights\":2,\"target_weight\":1,\"table_we...\n",
       "10384       {\"scale_weights\":3,\"target_weight\":1,\"table_we...\n",
       "10390       {\"scale_weights\":4,\"target_weight\":1,\"table_we...\n",
       "10428       {\"scale_weights\":3,\"target_weight\":1,\"table_we...\n",
       "10467       {\"correct\":false,\"pillars\":[1],\"event_count\":2...\n",
       "13343       {\"distance\":10,\"target_distances\":[1,2,3],\"cor...\n",
       "                                  ...                        \n",
       "11330558    {\"correct\":true,\"left\":[{\"id\":\"gem07\",\"weight\"...\n",
       "11330617    {\"scale_weights\":3,\"target_weight\":3,\"table_we...\n",
       "11330626    {\"scale_weights\":2,\"target_weight\":2,\"table_we...\n",
       "11330651    {\"scale_weights\":1,\"target_weight\":1,\"table_we...\n",
       "11330665    {\"scale_weights\":4,\"target_weight\":4,\"table_we...\n",
       "11330675    {\"scale_weights\":3,\"target_weight\":3,\"table_we...\n",
       "11330685    {\"scale_weights\":2,\"target_weight\":2,\"table_we...\n",
       "11330704    {\"scale_weights\":1,\"target_weight\":1,\"table_we...\n",
       "11330722    {\"scale_weights\":5,\"target_weight\":5,\"table_we...\n",
       "11330803    {\"correct\":true,\"pillars\":[1,2,3],\"event_count...\n",
       "11333391    {\"buckets\":[0,0,0],\"correct\":true,\"buckets_pla...\n",
       "11333767    {\"scale_weights\":6,\"target_weight\":3,\"table_we...\n",
       "11337187    {\"buckets\":[0,0,0],\"correct\":false,\"buckets_pl...\n",
       "11337213    {\"buckets\":[0,0,0],\"correct\":false,\"buckets_pl...\n",
       "11337238    {\"buckets\":[0,0,0],\"correct\":true,\"buckets_pla...\n",
       "11337675    {\"correct\":false,\"stumps\":[0,0,0],\"event_count...\n",
       "11337779    {\"buckets\":[0,0,0],\"correct\":false,\"buckets_pl...\n",
       "11337794    {\"buckets\":[0,0,0],\"correct\":false,\"buckets_pl...\n",
       "11337808    {\"buckets\":[0,0,0],\"correct\":true,\"buckets_pla...\n",
       "11338666    {\"distance\":7,\"target_distances\":[1,2,3,4],\"co...\n",
       "11338675    {\"distance\":5,\"target_distances\":[1,2,3,4],\"co...\n",
       "11338684    {\"distance\":4,\"target_distances\":[1,2,3,4],\"co...\n",
       "11338697    {\"distance\":4,\"target_distances\":[1,2,3],\"corr...\n",
       "11338705    {\"distance\":5,\"target_distances\":[1,2,3],\"corr...\n",
       "11338713    {\"distance\":2,\"target_distances\":[1,2,3],\"corr...\n",
       "11338726    {\"distance\":9,\"target_distances\":[6,7,8],\"corr...\n",
       "11338735    {\"distance\":9,\"target_distances\":[6,7,8],\"corr...\n",
       "11338744    {\"distance\":4,\"target_distances\":[6,7,8],\"corr...\n",
       "11338753    {\"distance\":5,\"target_distances\":[6,7,8],\"corr...\n",
       "11338761    {\"distance\":3,\"target_distances\":[6,7,8],\"corr...\n",
       "Name: event_data, Length: 69640, dtype: object"
      ]
     },
     "execution_count": 19,
     "metadata": {},
     "output_type": "execute_result"
    }
   ],
   "source": [
    "explore[explore.event_code == 4100].event_data"
   ]
  },
  {
   "cell_type": "markdown",
   "metadata": {},
   "source": [
    "### Convert timestamp column to datetime object"
   ]
  },
  {
   "cell_type": "code",
   "execution_count": 20,
   "metadata": {},
   "outputs": [],
   "source": [
    "explore.timestamp = pd.to_datetime(explore.timestamp)"
   ]
  },
  {
   "cell_type": "code",
   "execution_count": 21,
   "metadata": {},
   "outputs": [
    {
     "name": "stdout",
     "output_type": "stream",
     "text": [
      "<class 'pandas.core.frame.DataFrame'>\n",
      "RangeIndex: 11341042 entries, 0 to 11341041\n",
      "Data columns (total 15 columns):\n",
      "event_id           object\n",
      "session            object\n",
      "timestamp          datetime64[ns, UTC]\n",
      "event_data         object\n",
      "installation_id    object\n",
      "event_count        int64\n",
      "event_code         int64\n",
      "game_time          int64\n",
      "title              object\n",
      "type               object\n",
      "world              object\n",
      "num_correct        float64\n",
      "num_incorrect      float64\n",
      "accuracy           float64\n",
      "accuracy_group     float64\n",
      "dtypes: datetime64[ns, UTC](1), float64(4), int64(3), object(7)\n",
      "memory usage: 1.3+ GB\n"
     ]
    }
   ],
   "source": [
    "explore.info()"
   ]
  },
  {
   "cell_type": "code",
   "execution_count": 22,
   "metadata": {},
   "outputs": [],
   "source": [
    "explore['date'] = explore['timestamp'].dt.date"
   ]
  },
  {
   "cell_type": "code",
   "execution_count": 23,
   "metadata": {},
   "outputs": [],
   "source": [
    "explore['hour'] = explore['timestamp'].dt.hour"
   ]
  },
  {
   "cell_type": "code",
   "execution_count": 24,
   "metadata": {},
   "outputs": [],
   "source": [
    "explore['weekday'] = explore['timestamp'].dt.weekday_name"
   ]
  },
  {
   "cell_type": "code",
   "execution_count": 25,
   "metadata": {},
   "outputs": [
    {
     "data": {
      "text/html": [
       "<div>\n",
       "<style scoped>\n",
       "    .dataframe tbody tr th:only-of-type {\n",
       "        vertical-align: middle;\n",
       "    }\n",
       "\n",
       "    .dataframe tbody tr th {\n",
       "        vertical-align: top;\n",
       "    }\n",
       "\n",
       "    .dataframe thead th {\n",
       "        text-align: right;\n",
       "    }\n",
       "</style>\n",
       "<table border=\"1\" class=\"dataframe\">\n",
       "  <thead>\n",
       "    <tr style=\"text-align: right;\">\n",
       "      <th></th>\n",
       "      <th>event_id</th>\n",
       "      <th>session</th>\n",
       "      <th>timestamp</th>\n",
       "      <th>event_data</th>\n",
       "      <th>installation_id</th>\n",
       "      <th>event_count</th>\n",
       "      <th>event_code</th>\n",
       "      <th>game_time</th>\n",
       "      <th>title</th>\n",
       "      <th>type</th>\n",
       "      <th>world</th>\n",
       "      <th>num_correct</th>\n",
       "      <th>num_incorrect</th>\n",
       "      <th>accuracy</th>\n",
       "      <th>accuracy_group</th>\n",
       "      <th>date</th>\n",
       "      <th>hour</th>\n",
       "      <th>weekday</th>\n",
       "    </tr>\n",
       "  </thead>\n",
       "  <tbody>\n",
       "    <tr>\n",
       "      <th>0</th>\n",
       "      <td>27253bdc</td>\n",
       "      <td>45bb1e1b6b50c07b</td>\n",
       "      <td>2019-09-06 17:53:46.937000+00:00</td>\n",
       "      <td>{\"event_code\": 2000, \"event_count\": 1}</td>\n",
       "      <td>0001e90f</td>\n",
       "      <td>1</td>\n",
       "      <td>2000</td>\n",
       "      <td>0</td>\n",
       "      <td>Welcome to Lost Lagoon!</td>\n",
       "      <td>Clip</td>\n",
       "      <td>NONE</td>\n",
       "      <td>NaN</td>\n",
       "      <td>NaN</td>\n",
       "      <td>NaN</td>\n",
       "      <td>NaN</td>\n",
       "      <td>2019-09-06</td>\n",
       "      <td>17</td>\n",
       "      <td>Friday</td>\n",
       "    </tr>\n",
       "    <tr>\n",
       "      <th>1</th>\n",
       "      <td>27253bdc</td>\n",
       "      <td>17eeb7f223665f53</td>\n",
       "      <td>2019-09-06 17:54:17.519000+00:00</td>\n",
       "      <td>{\"event_code\": 2000, \"event_count\": 1}</td>\n",
       "      <td>0001e90f</td>\n",
       "      <td>1</td>\n",
       "      <td>2000</td>\n",
       "      <td>0</td>\n",
       "      <td>Magma Peak - Level 1</td>\n",
       "      <td>Clip</td>\n",
       "      <td>MAGMAPEAK</td>\n",
       "      <td>NaN</td>\n",
       "      <td>NaN</td>\n",
       "      <td>NaN</td>\n",
       "      <td>NaN</td>\n",
       "      <td>2019-09-06</td>\n",
       "      <td>17</td>\n",
       "      <td>Friday</td>\n",
       "    </tr>\n",
       "    <tr>\n",
       "      <th>2</th>\n",
       "      <td>77261ab5</td>\n",
       "      <td>0848ef14a8dc6892</td>\n",
       "      <td>2019-09-06 17:54:56.302000+00:00</td>\n",
       "      <td>{\"version\":\"1.0\",\"event_count\":1,\"game_time\":0...</td>\n",
       "      <td>0001e90f</td>\n",
       "      <td>1</td>\n",
       "      <td>2000</td>\n",
       "      <td>0</td>\n",
       "      <td>Sandcastle Builder (Activity)</td>\n",
       "      <td>Activity</td>\n",
       "      <td>MAGMAPEAK</td>\n",
       "      <td>NaN</td>\n",
       "      <td>NaN</td>\n",
       "      <td>NaN</td>\n",
       "      <td>NaN</td>\n",
       "      <td>2019-09-06</td>\n",
       "      <td>17</td>\n",
       "      <td>Friday</td>\n",
       "    </tr>\n",
       "    <tr>\n",
       "      <th>3</th>\n",
       "      <td>b2dba42b</td>\n",
       "      <td>0848ef14a8dc6892</td>\n",
       "      <td>2019-09-06 17:54:56.387000+00:00</td>\n",
       "      <td>{\"description\":\"Let's build a sandcastle! Firs...</td>\n",
       "      <td>0001e90f</td>\n",
       "      <td>2</td>\n",
       "      <td>3010</td>\n",
       "      <td>53</td>\n",
       "      <td>Sandcastle Builder (Activity)</td>\n",
       "      <td>Activity</td>\n",
       "      <td>MAGMAPEAK</td>\n",
       "      <td>NaN</td>\n",
       "      <td>NaN</td>\n",
       "      <td>NaN</td>\n",
       "      <td>NaN</td>\n",
       "      <td>2019-09-06</td>\n",
       "      <td>17</td>\n",
       "      <td>Friday</td>\n",
       "    </tr>\n",
       "    <tr>\n",
       "      <th>4</th>\n",
       "      <td>1bb5fbdb</td>\n",
       "      <td>0848ef14a8dc6892</td>\n",
       "      <td>2019-09-06 17:55:03.253000+00:00</td>\n",
       "      <td>{\"description\":\"Let's build a sandcastle! Firs...</td>\n",
       "      <td>0001e90f</td>\n",
       "      <td>3</td>\n",
       "      <td>3110</td>\n",
       "      <td>6972</td>\n",
       "      <td>Sandcastle Builder (Activity)</td>\n",
       "      <td>Activity</td>\n",
       "      <td>MAGMAPEAK</td>\n",
       "      <td>NaN</td>\n",
       "      <td>NaN</td>\n",
       "      <td>NaN</td>\n",
       "      <td>NaN</td>\n",
       "      <td>2019-09-06</td>\n",
       "      <td>17</td>\n",
       "      <td>Friday</td>\n",
       "    </tr>\n",
       "  </tbody>\n",
       "</table>\n",
       "</div>"
      ],
      "text/plain": [
       "   event_id           session                        timestamp  \\\n",
       "0  27253bdc  45bb1e1b6b50c07b 2019-09-06 17:53:46.937000+00:00   \n",
       "1  27253bdc  17eeb7f223665f53 2019-09-06 17:54:17.519000+00:00   \n",
       "2  77261ab5  0848ef14a8dc6892 2019-09-06 17:54:56.302000+00:00   \n",
       "3  b2dba42b  0848ef14a8dc6892 2019-09-06 17:54:56.387000+00:00   \n",
       "4  1bb5fbdb  0848ef14a8dc6892 2019-09-06 17:55:03.253000+00:00   \n",
       "\n",
       "                                          event_data installation_id  \\\n",
       "0             {\"event_code\": 2000, \"event_count\": 1}        0001e90f   \n",
       "1             {\"event_code\": 2000, \"event_count\": 1}        0001e90f   \n",
       "2  {\"version\":\"1.0\",\"event_count\":1,\"game_time\":0...        0001e90f   \n",
       "3  {\"description\":\"Let's build a sandcastle! Firs...        0001e90f   \n",
       "4  {\"description\":\"Let's build a sandcastle! Firs...        0001e90f   \n",
       "\n",
       "   event_count  event_code  game_time                          title  \\\n",
       "0            1        2000          0        Welcome to Lost Lagoon!   \n",
       "1            1        2000          0           Magma Peak - Level 1   \n",
       "2            1        2000          0  Sandcastle Builder (Activity)   \n",
       "3            2        3010         53  Sandcastle Builder (Activity)   \n",
       "4            3        3110       6972  Sandcastle Builder (Activity)   \n",
       "\n",
       "       type      world  num_correct  num_incorrect  accuracy  accuracy_group  \\\n",
       "0      Clip       NONE          NaN            NaN       NaN             NaN   \n",
       "1      Clip  MAGMAPEAK          NaN            NaN       NaN             NaN   \n",
       "2  Activity  MAGMAPEAK          NaN            NaN       NaN             NaN   \n",
       "3  Activity  MAGMAPEAK          NaN            NaN       NaN             NaN   \n",
       "4  Activity  MAGMAPEAK          NaN            NaN       NaN             NaN   \n",
       "\n",
       "         date  hour weekday  \n",
       "0  2019-09-06    17  Friday  \n",
       "1  2019-09-06    17  Friday  \n",
       "2  2019-09-06    17  Friday  \n",
       "3  2019-09-06    17  Friday  \n",
       "4  2019-09-06    17  Friday  "
      ]
     },
     "execution_count": 25,
     "metadata": {},
     "output_type": "execute_result"
    }
   ],
   "source": [
    "explore.head()"
   ]
  },
  {
   "cell_type": "markdown",
   "metadata": {},
   "source": [
    "### Create time_series df"
   ]
  },
  {
   "cell_type": "code",
   "execution_count": 26,
   "metadata": {},
   "outputs": [],
   "source": [
    "import statsmodels.api as sm"
   ]
  },
  {
   "cell_type": "code",
   "execution_count": 27,
   "metadata": {},
   "outputs": [],
   "source": [
    "time_series = explore.set_index(keys='timestamp')"
   ]
  },
  {
   "cell_type": "code",
   "execution_count": 28,
   "metadata": {},
   "outputs": [],
   "source": [
    "time_series = time_series.sort_values(by='date')"
   ]
  },
  {
   "cell_type": "code",
   "execution_count": 29,
   "metadata": {},
   "outputs": [
    {
     "data": {
      "text/html": [
       "<div>\n",
       "<style scoped>\n",
       "    .dataframe tbody tr th:only-of-type {\n",
       "        vertical-align: middle;\n",
       "    }\n",
       "\n",
       "    .dataframe tbody tr th {\n",
       "        vertical-align: top;\n",
       "    }\n",
       "\n",
       "    .dataframe thead th {\n",
       "        text-align: right;\n",
       "    }\n",
       "</style>\n",
       "<table border=\"1\" class=\"dataframe\">\n",
       "  <thead>\n",
       "    <tr style=\"text-align: right;\">\n",
       "      <th></th>\n",
       "      <th>event_id</th>\n",
       "      <th>session</th>\n",
       "      <th>event_data</th>\n",
       "      <th>installation_id</th>\n",
       "      <th>event_count</th>\n",
       "      <th>event_code</th>\n",
       "      <th>game_time</th>\n",
       "      <th>title</th>\n",
       "      <th>type</th>\n",
       "      <th>world</th>\n",
       "      <th>num_correct</th>\n",
       "      <th>num_incorrect</th>\n",
       "      <th>accuracy</th>\n",
       "      <th>accuracy_group</th>\n",
       "      <th>date</th>\n",
       "      <th>hour</th>\n",
       "      <th>weekday</th>\n",
       "    </tr>\n",
       "    <tr>\n",
       "      <th>timestamp</th>\n",
       "      <th></th>\n",
       "      <th></th>\n",
       "      <th></th>\n",
       "      <th></th>\n",
       "      <th></th>\n",
       "      <th></th>\n",
       "      <th></th>\n",
       "      <th></th>\n",
       "      <th></th>\n",
       "      <th></th>\n",
       "      <th></th>\n",
       "      <th></th>\n",
       "      <th></th>\n",
       "      <th></th>\n",
       "      <th></th>\n",
       "      <th></th>\n",
       "      <th></th>\n",
       "    </tr>\n",
       "  </thead>\n",
       "  <tbody>\n",
       "    <tr>\n",
       "      <th>2019-07-23 20:15:54.572000+00:00</th>\n",
       "      <td>27253bdc</td>\n",
       "      <td>8ccd2f13dddb47c4</td>\n",
       "      <td>{\"event_code\": 2000, \"event_count\": 1}</td>\n",
       "      <td>dc1ab98d</td>\n",
       "      <td>1</td>\n",
       "      <td>2000</td>\n",
       "      <td>0</td>\n",
       "      <td>Tree Top City - Level 2</td>\n",
       "      <td>Clip</td>\n",
       "      <td>TREETOPCITY</td>\n",
       "      <td>NaN</td>\n",
       "      <td>NaN</td>\n",
       "      <td>NaN</td>\n",
       "      <td>NaN</td>\n",
       "      <td>2019-07-23</td>\n",
       "      <td>20</td>\n",
       "      <td>Tuesday</td>\n",
       "    </tr>\n",
       "    <tr>\n",
       "      <th>2019-07-23 17:14:00.736000+00:00</th>\n",
       "      <td>1bb5fbdb</td>\n",
       "      <td>2862d3addb63bb21</td>\n",
       "      <td>{\"description\":\"Try making a long wall.\",\"iden...</td>\n",
       "      <td>554fc65a</td>\n",
       "      <td>51</td>\n",
       "      <td>3110</td>\n",
       "      <td>60154</td>\n",
       "      <td>Sandcastle Builder (Activity)</td>\n",
       "      <td>Activity</td>\n",
       "      <td>MAGMAPEAK</td>\n",
       "      <td>NaN</td>\n",
       "      <td>NaN</td>\n",
       "      <td>NaN</td>\n",
       "      <td>NaN</td>\n",
       "      <td>2019-07-23</td>\n",
       "      <td>17</td>\n",
       "      <td>Tuesday</td>\n",
       "    </tr>\n",
       "  </tbody>\n",
       "</table>\n",
       "</div>"
      ],
      "text/plain": [
       "                                  event_id           session  \\\n",
       "timestamp                                                      \n",
       "2019-07-23 20:15:54.572000+00:00  27253bdc  8ccd2f13dddb47c4   \n",
       "2019-07-23 17:14:00.736000+00:00  1bb5fbdb  2862d3addb63bb21   \n",
       "\n",
       "                                                                         event_data  \\\n",
       "timestamp                                                                             \n",
       "2019-07-23 20:15:54.572000+00:00             {\"event_code\": 2000, \"event_count\": 1}   \n",
       "2019-07-23 17:14:00.736000+00:00  {\"description\":\"Try making a long wall.\",\"iden...   \n",
       "\n",
       "                                 installation_id  event_count  event_code  \\\n",
       "timestamp                                                                   \n",
       "2019-07-23 20:15:54.572000+00:00        dc1ab98d            1        2000   \n",
       "2019-07-23 17:14:00.736000+00:00        554fc65a           51        3110   \n",
       "\n",
       "                                  game_time                          title  \\\n",
       "timestamp                                                                    \n",
       "2019-07-23 20:15:54.572000+00:00          0        Tree Top City - Level 2   \n",
       "2019-07-23 17:14:00.736000+00:00      60154  Sandcastle Builder (Activity)   \n",
       "\n",
       "                                      type        world  num_correct  \\\n",
       "timestamp                                                              \n",
       "2019-07-23 20:15:54.572000+00:00      Clip  TREETOPCITY          NaN   \n",
       "2019-07-23 17:14:00.736000+00:00  Activity    MAGMAPEAK          NaN   \n",
       "\n",
       "                                  num_incorrect  accuracy  accuracy_group  \\\n",
       "timestamp                                                                   \n",
       "2019-07-23 20:15:54.572000+00:00            NaN       NaN             NaN   \n",
       "2019-07-23 17:14:00.736000+00:00            NaN       NaN             NaN   \n",
       "\n",
       "                                        date  hour  weekday  \n",
       "timestamp                                                    \n",
       "2019-07-23 20:15:54.572000+00:00  2019-07-23    20  Tuesday  \n",
       "2019-07-23 17:14:00.736000+00:00  2019-07-23    17  Tuesday  "
      ]
     },
     "execution_count": 29,
     "metadata": {},
     "output_type": "execute_result"
    }
   ],
   "source": [
    "time_series.head(2)"
   ]
  },
  {
   "cell_type": "markdown",
   "metadata": {},
   "source": [
    "### What 'types' are kids doing each weekday?"
   ]
  },
  {
   "cell_type": "code",
   "execution_count": null,
   "metadata": {},
   "outputs": [],
   "source": [
    "time_series.groupby(['weekday', 'session', 'type'])['type'].count().plot(kind='bar', figsize=(12,4))\n",
    "\n",
    "plt.title('Type by Weekday')\n",
    "plt.show()"
   ]
  },
  {
   "cell_type": "code",
   "execution_count": 31,
   "metadata": {},
   "outputs": [
    {
     "data": {
      "image/png": "[encoded data removed]",
      "text/plain": [
       "<Figure size 432x288 with 1 Axes>"
      ]
     },
     "metadata": {},
     "output_type": "display_data"
    }
   ],
   "source": [
    "time_series.groupby('weekday').game_time.mean().plot()\n",
    "\n",
    "plt.show()"
   ]
  },
  {
   "cell_type": "code",
   "execution_count": 32,
   "metadata": {},
   "outputs": [
    {
     "data": {
      "image/png": "[encoded data removed]",
      "text/plain": [
       "<Figure size 432x288 with 1 Axes>"
      ]
     },
     "metadata": {},
     "output_type": "display_data"
    }
   ],
   "source": [
    "time_series.groupby('weekday').game_time.sum().plot(kind='bar')\n",
    "\n",
    "plt.show()"
   ]
  },
  {
   "cell_type": "markdown",
   "metadata": {},
   "source": [
    "### set dates"
   ]
  },
  {
   "cell_type": "code",
   "execution_count": 33,
   "metadata": {
    "scrolled": true
   },
   "outputs": [
    {
     "data": {
      "text/html": [
       "<div>\n",
       "<style scoped>\n",
       "    .dataframe tbody tr th:only-of-type {\n",
       "        vertical-align: middle;\n",
       "    }\n",
       "\n",
       "    .dataframe tbody tr th {\n",
       "        vertical-align: top;\n",
       "    }\n",
       "\n",
       "    .dataframe thead th {\n",
       "        text-align: right;\n",
       "    }\n",
       "</style>\n",
       "<table border=\"1\" class=\"dataframe\">\n",
       "  <thead>\n",
       "    <tr style=\"text-align: right;\">\n",
       "      <th></th>\n",
       "      <th>event_count</th>\n",
       "      <th>event_code</th>\n",
       "      <th>game_time</th>\n",
       "      <th>num_correct</th>\n",
       "      <th>num_incorrect</th>\n",
       "      <th>accuracy</th>\n",
       "      <th>accuracy_group</th>\n",
       "      <th>hour</th>\n",
       "    </tr>\n",
       "    <tr>\n",
       "      <th>timestamp</th>\n",
       "      <th></th>\n",
       "      <th></th>\n",
       "      <th></th>\n",
       "      <th></th>\n",
       "      <th></th>\n",
       "      <th></th>\n",
       "      <th></th>\n",
       "      <th></th>\n",
       "    </tr>\n",
       "  </thead>\n",
       "  <tbody>\n",
       "    <tr>\n",
       "      <th>2019-07-23 00:00:00+00:00</th>\n",
       "      <td>455594</td>\n",
       "      <td>19503025</td>\n",
       "      <td>586851516</td>\n",
       "      <td>313.0</td>\n",
       "      <td>440.0</td>\n",
       "      <td>201.000000</td>\n",
       "      <td>672.0</td>\n",
       "      <td>112326</td>\n",
       "    </tr>\n",
       "    <tr>\n",
       "      <th>2019-07-24 00:00:00+00:00</th>\n",
       "      <td>5773318</td>\n",
       "      <td>171946803</td>\n",
       "      <td>7811866938</td>\n",
       "      <td>2096.0</td>\n",
       "      <td>18908.0</td>\n",
       "      <td>1318.533333</td>\n",
       "      <td>4334.0</td>\n",
       "      <td>788647</td>\n",
       "    </tr>\n",
       "    <tr>\n",
       "      <th>2019-07-25 00:00:00+00:00</th>\n",
       "      <td>7441189</td>\n",
       "      <td>255413263</td>\n",
       "      <td>10639721868</td>\n",
       "      <td>3821.0</td>\n",
       "      <td>19903.0</td>\n",
       "      <td>2538.686905</td>\n",
       "      <td>8226.0</td>\n",
       "      <td>1116080</td>\n",
       "    </tr>\n",
       "    <tr>\n",
       "      <th>2019-07-26 00:00:00+00:00</th>\n",
       "      <td>11392176</td>\n",
       "      <td>323486535</td>\n",
       "      <td>26068092440</td>\n",
       "      <td>4999.0</td>\n",
       "      <td>15530.0</td>\n",
       "      <td>3116.489899</td>\n",
       "      <td>10464.0</td>\n",
       "      <td>1317198</td>\n",
       "    </tr>\n",
       "    <tr>\n",
       "      <th>2019-07-27 00:00:00+00:00</th>\n",
       "      <td>7191794</td>\n",
       "      <td>293758847</td>\n",
       "      <td>10161972264</td>\n",
       "      <td>6041.0</td>\n",
       "      <td>21004.0</td>\n",
       "      <td>3868.279899</td>\n",
       "      <td>12896.0</td>\n",
       "      <td>1216453</td>\n",
       "    </tr>\n",
       "    <tr>\n",
       "      <th>2019-07-28 00:00:00+00:00</th>\n",
       "      <td>8729333</td>\n",
       "      <td>297038604</td>\n",
       "      <td>13062362204</td>\n",
       "      <td>5566.0</td>\n",
       "      <td>33400.0</td>\n",
       "      <td>3981.334848</td>\n",
       "      <td>13097.0</td>\n",
       "      <td>1158422</td>\n",
       "    </tr>\n",
       "    <tr>\n",
       "      <th>2019-07-29 00:00:00+00:00</th>\n",
       "      <td>8545572</td>\n",
       "      <td>336438561</td>\n",
       "      <td>13127300213</td>\n",
       "      <td>6444.0</td>\n",
       "      <td>20259.0</td>\n",
       "      <td>4508.291667</td>\n",
       "      <td>14453.0</td>\n",
       "      <td>1457246</td>\n",
       "    </tr>\n",
       "    <tr>\n",
       "      <th>2019-07-30 00:00:00+00:00</th>\n",
       "      <td>11862740</td>\n",
       "      <td>377550079</td>\n",
       "      <td>19553598890</td>\n",
       "      <td>5771.0</td>\n",
       "      <td>46196.0</td>\n",
       "      <td>3359.111024</td>\n",
       "      <td>11574.0</td>\n",
       "      <td>1576091</td>\n",
       "    </tr>\n",
       "    <tr>\n",
       "      <th>2019-07-31 00:00:00+00:00</th>\n",
       "      <td>14160763</td>\n",
       "      <td>425286871</td>\n",
       "      <td>20560143941</td>\n",
       "      <td>8032.0</td>\n",
       "      <td>34166.0</td>\n",
       "      <td>5356.894643</td>\n",
       "      <td>17735.0</td>\n",
       "      <td>1791000</td>\n",
       "    </tr>\n",
       "    <tr>\n",
       "      <th>2019-08-01 00:00:00+00:00</th>\n",
       "      <td>14398956</td>\n",
       "      <td>428832763</td>\n",
       "      <td>17355340704</td>\n",
       "      <td>6943.0</td>\n",
       "      <td>26533.0</td>\n",
       "      <td>4730.733333</td>\n",
       "      <td>15592.0</td>\n",
       "      <td>1621246</td>\n",
       "    </tr>\n",
       "    <tr>\n",
       "      <th>2019-08-02 00:00:00+00:00</th>\n",
       "      <td>11473357</td>\n",
       "      <td>430716299</td>\n",
       "      <td>19732998158</td>\n",
       "      <td>7472.0</td>\n",
       "      <td>20733.0</td>\n",
       "      <td>4979.228571</td>\n",
       "      <td>16342.0</td>\n",
       "      <td>1650212</td>\n",
       "    </tr>\n",
       "    <tr>\n",
       "      <th>2019-08-03 00:00:00+00:00</th>\n",
       "      <td>12925697</td>\n",
       "      <td>422664815</td>\n",
       "      <td>26758708576</td>\n",
       "      <td>7120.0</td>\n",
       "      <td>26001.0</td>\n",
       "      <td>4861.853409</td>\n",
       "      <td>16034.0</td>\n",
       "      <td>1597513</td>\n",
       "    </tr>\n",
       "    <tr>\n",
       "      <th>2019-08-04 00:00:00+00:00</th>\n",
       "      <td>10386406</td>\n",
       "      <td>371146811</td>\n",
       "      <td>17837031542</td>\n",
       "      <td>6387.0</td>\n",
       "      <td>28945.0</td>\n",
       "      <td>3891.100794</td>\n",
       "      <td>13057.0</td>\n",
       "      <td>1493589</td>\n",
       "    </tr>\n",
       "    <tr>\n",
       "      <th>2019-08-05 00:00:00+00:00</th>\n",
       "      <td>15244879</td>\n",
       "      <td>434678773</td>\n",
       "      <td>21709361851</td>\n",
       "      <td>7159.0</td>\n",
       "      <td>54891.0</td>\n",
       "      <td>3719.922619</td>\n",
       "      <td>13362.0</td>\n",
       "      <td>1795078</td>\n",
       "    </tr>\n",
       "    <tr>\n",
       "      <th>2019-08-06 00:00:00+00:00</th>\n",
       "      <td>12976728</td>\n",
       "      <td>445292030</td>\n",
       "      <td>22452152639</td>\n",
       "      <td>6289.0</td>\n",
       "      <td>29591.0</td>\n",
       "      <td>4190.191667</td>\n",
       "      <td>13795.0</td>\n",
       "      <td>1775575</td>\n",
       "    </tr>\n",
       "    <tr>\n",
       "      <th>2019-08-07 00:00:00+00:00</th>\n",
       "      <td>10906297</td>\n",
       "      <td>398171259</td>\n",
       "      <td>15671093959</td>\n",
       "      <td>6767.0</td>\n",
       "      <td>22365.0</td>\n",
       "      <td>4583.131061</td>\n",
       "      <td>14990.0</td>\n",
       "      <td>1604852</td>\n",
       "    </tr>\n",
       "    <tr>\n",
       "      <th>2019-08-08 00:00:00+00:00</th>\n",
       "      <td>16982685</td>\n",
       "      <td>479914486</td>\n",
       "      <td>31919981437</td>\n",
       "      <td>8607.0</td>\n",
       "      <td>37737.0</td>\n",
       "      <td>5455.364286</td>\n",
       "      <td>18367.0</td>\n",
       "      <td>2077840</td>\n",
       "    </tr>\n",
       "    <tr>\n",
       "      <th>2019-08-09 00:00:00+00:00</th>\n",
       "      <td>13668328</td>\n",
       "      <td>433394378</td>\n",
       "      <td>17312302698</td>\n",
       "      <td>6368.0</td>\n",
       "      <td>22458.0</td>\n",
       "      <td>4183.451551</td>\n",
       "      <td>13773.0</td>\n",
       "      <td>1750640</td>\n",
       "    </tr>\n",
       "    <tr>\n",
       "      <th>2019-08-10 00:00:00+00:00</th>\n",
       "      <td>9427196</td>\n",
       "      <td>375262862</td>\n",
       "      <td>13820014427</td>\n",
       "      <td>6685.0</td>\n",
       "      <td>33211.0</td>\n",
       "      <td>4302.833766</td>\n",
       "      <td>14128.0</td>\n",
       "      <td>1477245</td>\n",
       "    </tr>\n",
       "    <tr>\n",
       "      <th>2019-08-11 00:00:00+00:00</th>\n",
       "      <td>14083890</td>\n",
       "      <td>423215144</td>\n",
       "      <td>19529318506</td>\n",
       "      <td>7617.0</td>\n",
       "      <td>36031.0</td>\n",
       "      <td>4566.801893</td>\n",
       "      <td>15660.0</td>\n",
       "      <td>1825228</td>\n",
       "    </tr>\n",
       "    <tr>\n",
       "      <th>2019-08-12 00:00:00+00:00</th>\n",
       "      <td>16921873</td>\n",
       "      <td>407986574</td>\n",
       "      <td>28123237907</td>\n",
       "      <td>6140.0</td>\n",
       "      <td>24961.0</td>\n",
       "      <td>4036.635714</td>\n",
       "      <td>13259.0</td>\n",
       "      <td>1721599</td>\n",
       "    </tr>\n",
       "    <tr>\n",
       "      <th>2019-08-13 00:00:00+00:00</th>\n",
       "      <td>15428573</td>\n",
       "      <td>451062381</td>\n",
       "      <td>30592950707</td>\n",
       "      <td>6485.0</td>\n",
       "      <td>29390.0</td>\n",
       "      <td>4286.335256</td>\n",
       "      <td>14109.0</td>\n",
       "      <td>1885829</td>\n",
       "    </tr>\n",
       "    <tr>\n",
       "      <th>2019-08-14 00:00:00+00:00</th>\n",
       "      <td>13187627</td>\n",
       "      <td>383819090</td>\n",
       "      <td>17330637088</td>\n",
       "      <td>6161.0</td>\n",
       "      <td>25675.0</td>\n",
       "      <td>3962.546537</td>\n",
       "      <td>13257.0</td>\n",
       "      <td>1567992</td>\n",
       "    </tr>\n",
       "    <tr>\n",
       "      <th>2019-08-15 00:00:00+00:00</th>\n",
       "      <td>11274570</td>\n",
       "      <td>380277279</td>\n",
       "      <td>18782160974</td>\n",
       "      <td>7765.0</td>\n",
       "      <td>64162.0</td>\n",
       "      <td>4132.382460</td>\n",
       "      <td>14668.0</td>\n",
       "      <td>1578771</td>\n",
       "    </tr>\n",
       "    <tr>\n",
       "      <th>2019-08-16 00:00:00+00:00</th>\n",
       "      <td>12436314</td>\n",
       "      <td>415079254</td>\n",
       "      <td>18976864692</td>\n",
       "      <td>6067.0</td>\n",
       "      <td>20890.0</td>\n",
       "      <td>4137.175000</td>\n",
       "      <td>13682.0</td>\n",
       "      <td>1676156</td>\n",
       "    </tr>\n",
       "    <tr>\n",
       "      <th>2019-08-17 00:00:00+00:00</th>\n",
       "      <td>14976002</td>\n",
       "      <td>475525575</td>\n",
       "      <td>21349906401</td>\n",
       "      <td>7989.0</td>\n",
       "      <td>32294.0</td>\n",
       "      <td>4953.058009</td>\n",
       "      <td>16542.0</td>\n",
       "      <td>2012584</td>\n",
       "    </tr>\n",
       "    <tr>\n",
       "      <th>2019-08-18 00:00:00+00:00</th>\n",
       "      <td>13386105</td>\n",
       "      <td>469198779</td>\n",
       "      <td>21335241051</td>\n",
       "      <td>7010.0</td>\n",
       "      <td>29725.0</td>\n",
       "      <td>4653.485714</td>\n",
       "      <td>15315.0</td>\n",
       "      <td>1904259</td>\n",
       "    </tr>\n",
       "    <tr>\n",
       "      <th>2019-08-19 00:00:00+00:00</th>\n",
       "      <td>13243033</td>\n",
       "      <td>402753189</td>\n",
       "      <td>28860942589</td>\n",
       "      <td>5408.0</td>\n",
       "      <td>25939.0</td>\n",
       "      <td>3478.572222</td>\n",
       "      <td>11470.0</td>\n",
       "      <td>1637632</td>\n",
       "    </tr>\n",
       "    <tr>\n",
       "      <th>2019-08-20 00:00:00+00:00</th>\n",
       "      <td>11040165</td>\n",
       "      <td>417935847</td>\n",
       "      <td>18273503155</td>\n",
       "      <td>6226.0</td>\n",
       "      <td>18886.0</td>\n",
       "      <td>4244.883333</td>\n",
       "      <td>13799.0</td>\n",
       "      <td>1894020</td>\n",
       "    </tr>\n",
       "    <tr>\n",
       "      <th>2019-08-21 00:00:00+00:00</th>\n",
       "      <td>8798581</td>\n",
       "      <td>349786849</td>\n",
       "      <td>15091163565</td>\n",
       "      <td>4663.0</td>\n",
       "      <td>16183.0</td>\n",
       "      <td>3249.038004</td>\n",
       "      <td>10652.0</td>\n",
       "      <td>1539223</td>\n",
       "    </tr>\n",
       "    <tr>\n",
       "      <th>...</th>\n",
       "      <td>...</td>\n",
       "      <td>...</td>\n",
       "      <td>...</td>\n",
       "      <td>...</td>\n",
       "      <td>...</td>\n",
       "      <td>...</td>\n",
       "      <td>...</td>\n",
       "      <td>...</td>\n",
       "    </tr>\n",
       "    <tr>\n",
       "      <th>2019-09-23 00:00:00+00:00</th>\n",
       "      <td>17441016</td>\n",
       "      <td>544421760</td>\n",
       "      <td>109247158853</td>\n",
       "      <td>6269.0</td>\n",
       "      <td>22913.0</td>\n",
       "      <td>4633.786111</td>\n",
       "      <td>14740.0</td>\n",
       "      <td>2482276</td>\n",
       "    </tr>\n",
       "    <tr>\n",
       "      <th>2019-09-24 00:00:00+00:00</th>\n",
       "      <td>19276673</td>\n",
       "      <td>650643942</td>\n",
       "      <td>30054453589</td>\n",
       "      <td>9958.0</td>\n",
       "      <td>33740.0</td>\n",
       "      <td>6874.935714</td>\n",
       "      <td>22152.0</td>\n",
       "      <td>2739581</td>\n",
       "    </tr>\n",
       "    <tr>\n",
       "      <th>2019-09-25 00:00:00+00:00</th>\n",
       "      <td>16093202</td>\n",
       "      <td>506791202</td>\n",
       "      <td>40226631777</td>\n",
       "      <td>6438.0</td>\n",
       "      <td>21634.0</td>\n",
       "      <td>4075.848160</td>\n",
       "      <td>13552.0</td>\n",
       "      <td>2248793</td>\n",
       "    </tr>\n",
       "    <tr>\n",
       "      <th>2019-09-26 00:00:00+00:00</th>\n",
       "      <td>16990056</td>\n",
       "      <td>605767243</td>\n",
       "      <td>32888742307</td>\n",
       "      <td>7332.0</td>\n",
       "      <td>40083.0</td>\n",
       "      <td>4544.872712</td>\n",
       "      <td>15354.0</td>\n",
       "      <td>2547226</td>\n",
       "    </tr>\n",
       "    <tr>\n",
       "      <th>2019-09-27 00:00:00+00:00</th>\n",
       "      <td>19966651</td>\n",
       "      <td>703270073</td>\n",
       "      <td>76793063693</td>\n",
       "      <td>8710.0</td>\n",
       "      <td>38698.0</td>\n",
       "      <td>6425.336706</td>\n",
       "      <td>20602.0</td>\n",
       "      <td>3113235</td>\n",
       "    </tr>\n",
       "    <tr>\n",
       "      <th>2019-09-28 00:00:00+00:00</th>\n",
       "      <td>16996268</td>\n",
       "      <td>550660996</td>\n",
       "      <td>27719247252</td>\n",
       "      <td>7421.0</td>\n",
       "      <td>28190.0</td>\n",
       "      <td>4911.773573</td>\n",
       "      <td>16368.0</td>\n",
       "      <td>2200135</td>\n",
       "    </tr>\n",
       "    <tr>\n",
       "      <th>2019-09-29 00:00:00+00:00</th>\n",
       "      <td>17400139</td>\n",
       "      <td>551711233</td>\n",
       "      <td>39016629507</td>\n",
       "      <td>7974.0</td>\n",
       "      <td>27003.0</td>\n",
       "      <td>5392.497024</td>\n",
       "      <td>17594.0</td>\n",
       "      <td>2300089</td>\n",
       "    </tr>\n",
       "    <tr>\n",
       "      <th>2019-09-30 00:00:00+00:00</th>\n",
       "      <td>18718174</td>\n",
       "      <td>641396778</td>\n",
       "      <td>43791652350</td>\n",
       "      <td>9286.0</td>\n",
       "      <td>83963.0</td>\n",
       "      <td>5683.411214</td>\n",
       "      <td>18832.0</td>\n",
       "      <td>2570582</td>\n",
       "    </tr>\n",
       "    <tr>\n",
       "      <th>2019-10-01 00:00:00+00:00</th>\n",
       "      <td>16953133</td>\n",
       "      <td>585113927</td>\n",
       "      <td>28023856730</td>\n",
       "      <td>8935.0</td>\n",
       "      <td>31953.0</td>\n",
       "      <td>5785.955952</td>\n",
       "      <td>19253.0</td>\n",
       "      <td>2464334</td>\n",
       "    </tr>\n",
       "    <tr>\n",
       "      <th>2019-10-02 00:00:00+00:00</th>\n",
       "      <td>17157631</td>\n",
       "      <td>610435541</td>\n",
       "      <td>29472995787</td>\n",
       "      <td>9695.0</td>\n",
       "      <td>44685.0</td>\n",
       "      <td>6159.533550</td>\n",
       "      <td>20724.0</td>\n",
       "      <td>2694722</td>\n",
       "    </tr>\n",
       "    <tr>\n",
       "      <th>2019-10-03 00:00:00+00:00</th>\n",
       "      <td>17070346</td>\n",
       "      <td>614066037</td>\n",
       "      <td>36841022572</td>\n",
       "      <td>7792.0</td>\n",
       "      <td>21040.0</td>\n",
       "      <td>5627.350000</td>\n",
       "      <td>18067.0</td>\n",
       "      <td>2717069</td>\n",
       "    </tr>\n",
       "    <tr>\n",
       "      <th>2019-10-04 00:00:00+00:00</th>\n",
       "      <td>21283921</td>\n",
       "      <td>661291476</td>\n",
       "      <td>33607495303</td>\n",
       "      <td>9634.0</td>\n",
       "      <td>33503.0</td>\n",
       "      <td>6323.754990</td>\n",
       "      <td>20982.0</td>\n",
       "      <td>2887152</td>\n",
       "    </tr>\n",
       "    <tr>\n",
       "      <th>2019-10-05 00:00:00+00:00</th>\n",
       "      <td>15275527</td>\n",
       "      <td>487787155</td>\n",
       "      <td>27345371353</td>\n",
       "      <td>7077.0</td>\n",
       "      <td>32325.0</td>\n",
       "      <td>4235.299839</td>\n",
       "      <td>14389.0</td>\n",
       "      <td>2000602</td>\n",
       "    </tr>\n",
       "    <tr>\n",
       "      <th>2019-10-06 00:00:00+00:00</th>\n",
       "      <td>18130655</td>\n",
       "      <td>549867783</td>\n",
       "      <td>25572922044</td>\n",
       "      <td>8813.0</td>\n",
       "      <td>40712.0</td>\n",
       "      <td>5907.923016</td>\n",
       "      <td>19332.0</td>\n",
       "      <td>2342813</td>\n",
       "    </tr>\n",
       "    <tr>\n",
       "      <th>2019-10-07 00:00:00+00:00</th>\n",
       "      <td>20088445</td>\n",
       "      <td>561138847</td>\n",
       "      <td>31880211192</td>\n",
       "      <td>6852.0</td>\n",
       "      <td>28652.0</td>\n",
       "      <td>4504.571520</td>\n",
       "      <td>14991.0</td>\n",
       "      <td>2468125</td>\n",
       "    </tr>\n",
       "    <tr>\n",
       "      <th>2019-10-08 00:00:00+00:00</th>\n",
       "      <td>16167542</td>\n",
       "      <td>548389640</td>\n",
       "      <td>27954696669</td>\n",
       "      <td>5888.0</td>\n",
       "      <td>28115.0</td>\n",
       "      <td>4310.237302</td>\n",
       "      <td>13912.0</td>\n",
       "      <td>2404903</td>\n",
       "    </tr>\n",
       "    <tr>\n",
       "      <th>2019-10-09 00:00:00+00:00</th>\n",
       "      <td>12745267</td>\n",
       "      <td>486656936</td>\n",
       "      <td>28082081709</td>\n",
       "      <td>6163.0</td>\n",
       "      <td>17078.0</td>\n",
       "      <td>4659.966667</td>\n",
       "      <td>14713.0</td>\n",
       "      <td>2071829</td>\n",
       "    </tr>\n",
       "    <tr>\n",
       "      <th>2019-10-10 00:00:00+00:00</th>\n",
       "      <td>17316486</td>\n",
       "      <td>593758357</td>\n",
       "      <td>62890100334</td>\n",
       "      <td>8551.0</td>\n",
       "      <td>21551.0</td>\n",
       "      <td>5771.391667</td>\n",
       "      <td>18988.0</td>\n",
       "      <td>2631168</td>\n",
       "    </tr>\n",
       "    <tr>\n",
       "      <th>2019-10-11 00:00:00+00:00</th>\n",
       "      <td>19154459</td>\n",
       "      <td>613979055</td>\n",
       "      <td>43957610276</td>\n",
       "      <td>9062.0</td>\n",
       "      <td>32346.0</td>\n",
       "      <td>5973.224206</td>\n",
       "      <td>19515.0</td>\n",
       "      <td>2613485</td>\n",
       "    </tr>\n",
       "    <tr>\n",
       "      <th>2019-10-12 00:00:00+00:00</th>\n",
       "      <td>13867392</td>\n",
       "      <td>467166316</td>\n",
       "      <td>19843950573</td>\n",
       "      <td>9049.0</td>\n",
       "      <td>39660.0</td>\n",
       "      <td>5982.069362</td>\n",
       "      <td>20140.0</td>\n",
       "      <td>1858529</td>\n",
       "    </tr>\n",
       "    <tr>\n",
       "      <th>2019-10-13 00:00:00+00:00</th>\n",
       "      <td>12606761</td>\n",
       "      <td>418610167</td>\n",
       "      <td>24619956463</td>\n",
       "      <td>7683.0</td>\n",
       "      <td>26243.0</td>\n",
       "      <td>4970.473088</td>\n",
       "      <td>16517.0</td>\n",
       "      <td>1759437</td>\n",
       "    </tr>\n",
       "    <tr>\n",
       "      <th>2019-10-14 00:00:00+00:00</th>\n",
       "      <td>12791861</td>\n",
       "      <td>506252689</td>\n",
       "      <td>27138338679</td>\n",
       "      <td>7760.0</td>\n",
       "      <td>27722.0</td>\n",
       "      <td>5117.309829</td>\n",
       "      <td>16951.0</td>\n",
       "      <td>1829879</td>\n",
       "    </tr>\n",
       "    <tr>\n",
       "      <th>2019-10-15 00:00:00+00:00</th>\n",
       "      <td>0</td>\n",
       "      <td>0</td>\n",
       "      <td>0</td>\n",
       "      <td>0.0</td>\n",
       "      <td>0.0</td>\n",
       "      <td>0.000000</td>\n",
       "      <td>0.0</td>\n",
       "      <td>0</td>\n",
       "    </tr>\n",
       "    <tr>\n",
       "      <th>2019-10-16 00:00:00+00:00</th>\n",
       "      <td>0</td>\n",
       "      <td>0</td>\n",
       "      <td>0</td>\n",
       "      <td>0.0</td>\n",
       "      <td>0.0</td>\n",
       "      <td>0.000000</td>\n",
       "      <td>0.0</td>\n",
       "      <td>0</td>\n",
       "    </tr>\n",
       "    <tr>\n",
       "      <th>2019-10-17 00:00:00+00:00</th>\n",
       "      <td>0</td>\n",
       "      <td>0</td>\n",
       "      <td>0</td>\n",
       "      <td>0.0</td>\n",
       "      <td>0.0</td>\n",
       "      <td>0.000000</td>\n",
       "      <td>0.0</td>\n",
       "      <td>0</td>\n",
       "    </tr>\n",
       "    <tr>\n",
       "      <th>2019-10-18 00:00:00+00:00</th>\n",
       "      <td>0</td>\n",
       "      <td>0</td>\n",
       "      <td>0</td>\n",
       "      <td>0.0</td>\n",
       "      <td>0.0</td>\n",
       "      <td>0.000000</td>\n",
       "      <td>0.0</td>\n",
       "      <td>0</td>\n",
       "    </tr>\n",
       "    <tr>\n",
       "      <th>2019-10-19 00:00:00+00:00</th>\n",
       "      <td>0</td>\n",
       "      <td>0</td>\n",
       "      <td>0</td>\n",
       "      <td>0.0</td>\n",
       "      <td>0.0</td>\n",
       "      <td>0.000000</td>\n",
       "      <td>0.0</td>\n",
       "      <td>0</td>\n",
       "    </tr>\n",
       "    <tr>\n",
       "      <th>2019-10-20 00:00:00+00:00</th>\n",
       "      <td>0</td>\n",
       "      <td>0</td>\n",
       "      <td>0</td>\n",
       "      <td>0.0</td>\n",
       "      <td>0.0</td>\n",
       "      <td>0.000000</td>\n",
       "      <td>0.0</td>\n",
       "      <td>0</td>\n",
       "    </tr>\n",
       "    <tr>\n",
       "      <th>2019-10-21 00:00:00+00:00</th>\n",
       "      <td>0</td>\n",
       "      <td>0</td>\n",
       "      <td>0</td>\n",
       "      <td>0.0</td>\n",
       "      <td>0.0</td>\n",
       "      <td>0.000000</td>\n",
       "      <td>0.0</td>\n",
       "      <td>0</td>\n",
       "    </tr>\n",
       "    <tr>\n",
       "      <th>2019-10-22 00:00:00+00:00</th>\n",
       "      <td>861</td>\n",
       "      <td>143990</td>\n",
       "      <td>863423</td>\n",
       "      <td>0.0</td>\n",
       "      <td>0.0</td>\n",
       "      <td>0.000000</td>\n",
       "      <td>0.0</td>\n",
       "      <td>697</td>\n",
       "    </tr>\n",
       "  </tbody>\n",
       "</table>\n",
       "<p>92 rows × 8 columns</p>\n",
       "</div>"
      ],
      "text/plain": [
       "                           event_count  event_code     game_time  num_correct  \\\n",
       "timestamp                                                                       \n",
       "2019-07-23 00:00:00+00:00       455594    19503025     586851516        313.0   \n",
       "2019-07-24 00:00:00+00:00      5773318   171946803    7811866938       2096.0   \n",
       "2019-07-25 00:00:00+00:00      7441189   255413263   10639721868       3821.0   \n",
       "2019-07-26 00:00:00+00:00     11392176   323486535   26068092440       4999.0   \n",
       "2019-07-27 00:00:00+00:00      7191794   293758847   10161972264       6041.0   \n",
       "2019-07-28 00:00:00+00:00      8729333   297038604   13062362204       5566.0   \n",
       "2019-07-29 00:00:00+00:00      8545572   336438561   13127300213       6444.0   \n",
       "2019-07-30 00:00:00+00:00     11862740   377550079   19553598890       5771.0   \n",
       "2019-07-31 00:00:00+00:00     14160763   425286871   20560143941       8032.0   \n",
       "2019-08-01 00:00:00+00:00     14398956   428832763   17355340704       6943.0   \n",
       "2019-08-02 00:00:00+00:00     11473357   430716299   19732998158       7472.0   \n",
       "2019-08-03 00:00:00+00:00     12925697   422664815   26758708576       7120.0   \n",
       "2019-08-04 00:00:00+00:00     10386406   371146811   17837031542       6387.0   \n",
       "2019-08-05 00:00:00+00:00     15244879   434678773   21709361851       7159.0   \n",
       "2019-08-06 00:00:00+00:00     12976728   445292030   22452152639       6289.0   \n",
       "2019-08-07 00:00:00+00:00     10906297   398171259   15671093959       6767.0   \n",
       "2019-08-08 00:00:00+00:00     16982685   479914486   31919981437       8607.0   \n",
       "2019-08-09 00:00:00+00:00     13668328   433394378   17312302698       6368.0   \n",
       "2019-08-10 00:00:00+00:00      9427196   375262862   13820014427       6685.0   \n",
       "2019-08-11 00:00:00+00:00     14083890   423215144   19529318506       7617.0   \n",
       "2019-08-12 00:00:00+00:00     16921873   407986574   28123237907       6140.0   \n",
       "2019-08-13 00:00:00+00:00     15428573   451062381   30592950707       6485.0   \n",
       "2019-08-14 00:00:00+00:00     13187627   383819090   17330637088       6161.0   \n",
       "2019-08-15 00:00:00+00:00     11274570   380277279   18782160974       7765.0   \n",
       "2019-08-16 00:00:00+00:00     12436314   415079254   18976864692       6067.0   \n",
       "2019-08-17 00:00:00+00:00     14976002   475525575   21349906401       7989.0   \n",
       "2019-08-18 00:00:00+00:00     13386105   469198779   21335241051       7010.0   \n",
       "2019-08-19 00:00:00+00:00     13243033   402753189   28860942589       5408.0   \n",
       "2019-08-20 00:00:00+00:00     11040165   417935847   18273503155       6226.0   \n",
       "2019-08-21 00:00:00+00:00      8798581   349786849   15091163565       4663.0   \n",
       "...                                ...         ...           ...          ...   \n",
       "2019-09-23 00:00:00+00:00     17441016   544421760  109247158853       6269.0   \n",
       "2019-09-24 00:00:00+00:00     19276673   650643942   30054453589       9958.0   \n",
       "2019-09-25 00:00:00+00:00     16093202   506791202   40226631777       6438.0   \n",
       "2019-09-26 00:00:00+00:00     16990056   605767243   32888742307       7332.0   \n",
       "2019-09-27 00:00:00+00:00     19966651   703270073   76793063693       8710.0   \n",
       "2019-09-28 00:00:00+00:00     16996268   550660996   27719247252       7421.0   \n",
       "2019-09-29 00:00:00+00:00     17400139   551711233   39016629507       7974.0   \n",
       "2019-09-30 00:00:00+00:00     18718174   641396778   43791652350       9286.0   \n",
       "2019-10-01 00:00:00+00:00     16953133   585113927   28023856730       8935.0   \n",
       "2019-10-02 00:00:00+00:00     17157631   610435541   29472995787       9695.0   \n",
       "2019-10-03 00:00:00+00:00     17070346   614066037   36841022572       7792.0   \n",
       "2019-10-04 00:00:00+00:00     21283921   661291476   33607495303       9634.0   \n",
       "2019-10-05 00:00:00+00:00     15275527   487787155   27345371353       7077.0   \n",
       "2019-10-06 00:00:00+00:00     18130655   549867783   25572922044       8813.0   \n",
       "2019-10-07 00:00:00+00:00     20088445   561138847   31880211192       6852.0   \n",
       "2019-10-08 00:00:00+00:00     16167542   548389640   27954696669       5888.0   \n",
       "2019-10-09 00:00:00+00:00     12745267   486656936   28082081709       6163.0   \n",
       "2019-10-10 00:00:00+00:00     17316486   593758357   62890100334       8551.0   \n",
       "2019-10-11 00:00:00+00:00     19154459   613979055   43957610276       9062.0   \n",
       "2019-10-12 00:00:00+00:00     13867392   467166316   19843950573       9049.0   \n",
       "2019-10-13 00:00:00+00:00     12606761   418610167   24619956463       7683.0   \n",
       "2019-10-14 00:00:00+00:00     12791861   506252689   27138338679       7760.0   \n",
       "2019-10-15 00:00:00+00:00            0           0             0          0.0   \n",
       "2019-10-16 00:00:00+00:00            0           0             0          0.0   \n",
       "2019-10-17 00:00:00+00:00            0           0             0          0.0   \n",
       "2019-10-18 00:00:00+00:00            0           0             0          0.0   \n",
       "2019-10-19 00:00:00+00:00            0           0             0          0.0   \n",
       "2019-10-20 00:00:00+00:00            0           0             0          0.0   \n",
       "2019-10-21 00:00:00+00:00            0           0             0          0.0   \n",
       "2019-10-22 00:00:00+00:00          861      143990        863423          0.0   \n",
       "\n",
       "                           num_incorrect     accuracy  accuracy_group     hour  \n",
       "timestamp                                                                       \n",
       "2019-07-23 00:00:00+00:00          440.0   201.000000           672.0   112326  \n",
       "2019-07-24 00:00:00+00:00        18908.0  1318.533333          4334.0   788647  \n",
       "2019-07-25 00:00:00+00:00        19903.0  2538.686905          8226.0  1116080  \n",
       "2019-07-26 00:00:00+00:00        15530.0  3116.489899         10464.0  1317198  \n",
       "2019-07-27 00:00:00+00:00        21004.0  3868.279899         12896.0  1216453  \n",
       "2019-07-28 00:00:00+00:00        33400.0  3981.334848         13097.0  1158422  \n",
       "2019-07-29 00:00:00+00:00        20259.0  4508.291667         14453.0  1457246  \n",
       "2019-07-30 00:00:00+00:00        46196.0  3359.111024         11574.0  1576091  \n",
       "2019-07-31 00:00:00+00:00        34166.0  5356.894643         17735.0  1791000  \n",
       "2019-08-01 00:00:00+00:00        26533.0  4730.733333         15592.0  1621246  \n",
       "2019-08-02 00:00:00+00:00        20733.0  4979.228571         16342.0  1650212  \n",
       "2019-08-03 00:00:00+00:00        26001.0  4861.853409         16034.0  1597513  \n",
       "2019-08-04 00:00:00+00:00        28945.0  3891.100794         13057.0  1493589  \n",
       "2019-08-05 00:00:00+00:00        54891.0  3719.922619         13362.0  1795078  \n",
       "2019-08-06 00:00:00+00:00        29591.0  4190.191667         13795.0  1775575  \n",
       "2019-08-07 00:00:00+00:00        22365.0  4583.131061         14990.0  1604852  \n",
       "2019-08-08 00:00:00+00:00        37737.0  5455.364286         18367.0  2077840  \n",
       "2019-08-09 00:00:00+00:00        22458.0  4183.451551         13773.0  1750640  \n",
       "2019-08-10 00:00:00+00:00        33211.0  4302.833766         14128.0  1477245  \n",
       "2019-08-11 00:00:00+00:00        36031.0  4566.801893         15660.0  1825228  \n",
       "2019-08-12 00:00:00+00:00        24961.0  4036.635714         13259.0  1721599  \n",
       "2019-08-13 00:00:00+00:00        29390.0  4286.335256         14109.0  1885829  \n",
       "2019-08-14 00:00:00+00:00        25675.0  3962.546537         13257.0  1567992  \n",
       "2019-08-15 00:00:00+00:00        64162.0  4132.382460         14668.0  1578771  \n",
       "2019-08-16 00:00:00+00:00        20890.0  4137.175000         13682.0  1676156  \n",
       "2019-08-17 00:00:00+00:00        32294.0  4953.058009         16542.0  2012584  \n",
       "2019-08-18 00:00:00+00:00        29725.0  4653.485714         15315.0  1904259  \n",
       "2019-08-19 00:00:00+00:00        25939.0  3478.572222         11470.0  1637632  \n",
       "2019-08-20 00:00:00+00:00        18886.0  4244.883333         13799.0  1894020  \n",
       "2019-08-21 00:00:00+00:00        16183.0  3249.038004         10652.0  1539223  \n",
       "...                                  ...          ...             ...      ...  \n",
       "2019-09-23 00:00:00+00:00        22913.0  4633.786111         14740.0  2482276  \n",
       "2019-09-24 00:00:00+00:00        33740.0  6874.935714         22152.0  2739581  \n",
       "2019-09-25 00:00:00+00:00        21634.0  4075.848160         13552.0  2248793  \n",
       "2019-09-26 00:00:00+00:00        40083.0  4544.872712         15354.0  2547226  \n",
       "2019-09-27 00:00:00+00:00        38698.0  6425.336706         20602.0  3113235  \n",
       "2019-09-28 00:00:00+00:00        28190.0  4911.773573         16368.0  2200135  \n",
       "2019-09-29 00:00:00+00:00        27003.0  5392.497024         17594.0  2300089  \n",
       "2019-09-30 00:00:00+00:00        83963.0  5683.411214         18832.0  2570582  \n",
       "2019-10-01 00:00:00+00:00        31953.0  5785.955952         19253.0  2464334  \n",
       "2019-10-02 00:00:00+00:00        44685.0  6159.533550         20724.0  2694722  \n",
       "2019-10-03 00:00:00+00:00        21040.0  5627.350000         18067.0  2717069  \n",
       "2019-10-04 00:00:00+00:00        33503.0  6323.754990         20982.0  2887152  \n",
       "2019-10-05 00:00:00+00:00        32325.0  4235.299839         14389.0  2000602  \n",
       "2019-10-06 00:00:00+00:00        40712.0  5907.923016         19332.0  2342813  \n",
       "2019-10-07 00:00:00+00:00        28652.0  4504.571520         14991.0  2468125  \n",
       "2019-10-08 00:00:00+00:00        28115.0  4310.237302         13912.0  2404903  \n",
       "2019-10-09 00:00:00+00:00        17078.0  4659.966667         14713.0  2071829  \n",
       "2019-10-10 00:00:00+00:00        21551.0  5771.391667         18988.0  2631168  \n",
       "2019-10-11 00:00:00+00:00        32346.0  5973.224206         19515.0  2613485  \n",
       "2019-10-12 00:00:00+00:00        39660.0  5982.069362         20140.0  1858529  \n",
       "2019-10-13 00:00:00+00:00        26243.0  4970.473088         16517.0  1759437  \n",
       "2019-10-14 00:00:00+00:00        27722.0  5117.309829         16951.0  1829879  \n",
       "2019-10-15 00:00:00+00:00            0.0     0.000000             0.0        0  \n",
       "2019-10-16 00:00:00+00:00            0.0     0.000000             0.0        0  \n",
       "2019-10-17 00:00:00+00:00            0.0     0.000000             0.0        0  \n",
       "2019-10-18 00:00:00+00:00            0.0     0.000000             0.0        0  \n",
       "2019-10-19 00:00:00+00:00            0.0     0.000000             0.0        0  \n",
       "2019-10-20 00:00:00+00:00            0.0     0.000000             0.0        0  \n",
       "2019-10-21 00:00:00+00:00            0.0     0.000000             0.0        0  \n",
       "2019-10-22 00:00:00+00:00            0.0     0.000000             0.0      697  \n",
       "\n",
       "[92 rows x 8 columns]"
      ]
     },
     "execution_count": 33,
     "metadata": {},
     "output_type": "execute_result"
    }
   ],
   "source": [
    "time_series.resample('D').sum()"
   ]
  },
  {
   "cell_type": "markdown",
   "metadata": {},
   "source": [
    "### Sampled by day looking at time spent in the app."
   ]
  },
  {
   "cell_type": "code",
   "execution_count": 34,
   "metadata": {},
   "outputs": [
    {
     "data": {
      "image/png": "[encoded data removed]",
      "text/plain": [
       "<Figure size 864x288 with 1 Axes>"
      ]
     },
     "metadata": {},
     "output_type": "display_data"
    }
   ],
   "source": [
    "time_series.resample('D').game_time.sum().plot(kind='bar', figsize=(12,4))\n",
    "\n",
    "plt.show()"
   ]
  },
  {
   "cell_type": "code",
   "execution_count": 35,
   "metadata": {},
   "outputs": [
    {
     "data": {
      "text/plain": [
       "weekday\n",
       "Monday       412552974828\n",
       "Friday       387656124511\n",
       "Thursday     351300695313\n",
       "Wednesday    279609001674\n",
       "Sunday       276251066879\n",
       "Tuesday      271928155127\n",
       "Saturday     261959139080\n",
       "Name: game_time, dtype: int64"
      ]
     },
     "execution_count": 35,
     "metadata": {},
     "output_type": "execute_result"
    }
   ],
   "source": [
    "time_series.groupby('weekday').game_time.sum().sort_values(ascending=False)\n"
   ]
  },
  {
   "cell_type": "code",
   "execution_count": 36,
   "metadata": {},
   "outputs": [
    {
     "data": {
      "text/plain": [
       "Timestamp('2019-09-30 16:48:47.707000+0000', tz='UTC')"
      ]
     },
     "execution_count": 36,
     "metadata": {},
     "output_type": "execute_result"
    }
   ],
   "source": [
    "time_series[time_series.weekday == 'Monday'].game_time.idxmax()"
   ]
  },
  {
   "cell_type": "code",
   "execution_count": 37,
   "metadata": {},
   "outputs": [
    {
     "data": {
      "text/plain": [
       "event_id                                                    1f19558b\n",
       "session                                             ae69051432368227\n",
       "event_data         {\"media_type\":\"animation\",\"duration\":2967,\"des...\n",
       "installation_id                                             86a712b8\n",
       "event_count                                                       48\n",
       "event_code                                                      3121\n",
       "game_time                                                  265357457\n",
       "title                                               All Star Sorting\n",
       "type                                                            Game\n",
       "world                                                    TREETOPCITY\n",
       "num_correct                                                      NaN\n",
       "num_incorrect                                                    NaN\n",
       "accuracy                                                         NaN\n",
       "accuracy_group                                                   NaN\n",
       "date                                                      2019-09-30\n",
       "hour                                                              16\n",
       "weekday                                                       Monday\n",
       "Name: 2019-09-30 16:48:47.706000+00:00, dtype: object"
      ]
     },
     "execution_count": 37,
     "metadata": {},
     "output_type": "execute_result"
    }
   ],
   "source": [
    "time_series.loc['2019-09-30 16:48:47.706000+0000']"
   ]
  },
  {
   "cell_type": "markdown",
   "metadata": {},
   "source": [
    "### What is the time of day distribution on Mondays and Fridays?"
   ]
  },
  {
   "cell_type": "code",
   "execution_count": 38,
   "metadata": {},
   "outputs": [
    {
     "data": {
      "image/png": "[encoded data removed]",
      "text/plain": [
       "<Figure size 432x288 with 1 Axes>"
      ]
     },
     "metadata": {},
     "output_type": "display_data"
    }
   ],
   "source": [
    "monday = explore[explore.weekday == 'Monday'].hour\n",
    "monday.hist()\n",
    "\n",
    "plt.title('Monday Hour of Day Distribution')\n",
    "plt.show()"
   ]
  },
  {
   "cell_type": "code",
   "execution_count": 39,
   "metadata": {},
   "outputs": [
    {
     "data": {
      "image/png": "[encoded data removed]",
      "text/plain": [
       "<Figure size 432x288 with 1 Axes>"
      ]
     },
     "metadata": {},
     "output_type": "display_data"
    }
   ],
   "source": [
    "friday = explore[explore.weekday == 'Friday'].hour\n",
    "friday.hist()\n",
    "\n",
    "plt.title('Friday Hour of Day Distribution')\n",
    "plt.show()"
   ]
  },
  {
   "cell_type": "code",
   "execution_count": 40,
   "metadata": {},
   "outputs": [
    {
     "data": {
      "image/png": "[encoded data removed]",
      "text/plain": [
       "<Figure size 432x288 with 1 Axes>"
      ]
     },
     "metadata": {},
     "output_type": "display_data"
    }
   ],
   "source": [
    "saturday = explore[explore.weekday == 'Saturday'].hour\n",
    "saturday.hist()\n",
    "\n",
    "plt.title('Saturday Hour of Day Distribution')\n",
    "plt.show()"
   ]
  },
  {
   "cell_type": "code",
   "execution_count": 41,
   "metadata": {},
   "outputs": [
    {
     "data": {
      "image/png": "[encoded data removed]",
      "text/plain": [
       "<Figure size 432x288 with 1 Axes>"
      ]
     },
     "metadata": {},
     "output_type": "display_data"
    }
   ],
   "source": [
    "sunday = explore[explore.weekday == 'Sunday'].hour\n",
    "sunday.hist()\n",
    "\n",
    "plt.title('Sunday Hour of Day Distribution')\n",
    "plt.show()"
   ]
  },
  {
   "cell_type": "markdown",
   "metadata": {},
   "source": [
    "### Overall, there is an upward trend in app use."
   ]
  },
  {
   "cell_type": "code",
   "execution_count": 42,
   "metadata": {},
   "outputs": [
    {
     "data": {
      "image/png": "[encoded data removed]",
      "text/plain": [
       "<Figure size 864x288 with 1 Axes>"
      ]
     },
     "metadata": {},
     "output_type": "display_data"
    }
   ],
   "source": [
    "time_series.installation_id.resample('D').count().plot(figsize=(12,4))\n",
    "\n",
    "plt.show()"
   ]
  },
  {
   "cell_type": "code",
   "execution_count": 43,
   "metadata": {},
   "outputs": [],
   "source": [
    "decomp = time_series[['installation_id', 'game_time', 'weekday']]"
   ]
  },
  {
   "cell_type": "code",
   "execution_count": 44,
   "metadata": {},
   "outputs": [
    {
     "data": {
      "text/html": [
       "<div>\n",
       "<style scoped>\n",
       "    .dataframe tbody tr th:only-of-type {\n",
       "        vertical-align: middle;\n",
       "    }\n",
       "\n",
       "    .dataframe tbody tr th {\n",
       "        vertical-align: top;\n",
       "    }\n",
       "\n",
       "    .dataframe thead th {\n",
       "        text-align: right;\n",
       "    }\n",
       "</style>\n",
       "<table border=\"1\" class=\"dataframe\">\n",
       "  <thead>\n",
       "    <tr style=\"text-align: right;\">\n",
       "      <th></th>\n",
       "      <th>installation_id</th>\n",
       "      <th>game_time</th>\n",
       "      <th>weekday</th>\n",
       "    </tr>\n",
       "    <tr>\n",
       "      <th>timestamp</th>\n",
       "      <th></th>\n",
       "      <th></th>\n",
       "      <th></th>\n",
       "    </tr>\n",
       "  </thead>\n",
       "  <tbody>\n",
       "    <tr>\n",
       "      <th>2019-07-23 20:15:54.572000+00:00</th>\n",
       "      <td>dc1ab98d</td>\n",
       "      <td>0</td>\n",
       "      <td>Tuesday</td>\n",
       "    </tr>\n",
       "    <tr>\n",
       "      <th>2019-07-23 17:14:00.736000+00:00</th>\n",
       "      <td>554fc65a</td>\n",
       "      <td>60154</td>\n",
       "      <td>Tuesday</td>\n",
       "    </tr>\n",
       "  </tbody>\n",
       "</table>\n",
       "</div>"
      ],
      "text/plain": [
       "                                 installation_id  game_time  weekday\n",
       "timestamp                                                           \n",
       "2019-07-23 20:15:54.572000+00:00        dc1ab98d          0  Tuesday\n",
       "2019-07-23 17:14:00.736000+00:00        554fc65a      60154  Tuesday"
      ]
     },
     "execution_count": 44,
     "metadata": {},
     "output_type": "execute_result"
    }
   ],
   "source": [
    "decomp.head(2)"
   ]
  },
  {
   "cell_type": "code",
   "execution_count": 45,
   "metadata": {},
   "outputs": [
    {
     "data": {
      "text/plain": [
       "(11341042, 3)"
      ]
     },
     "execution_count": 45,
     "metadata": {},
     "output_type": "execute_result"
    }
   ],
   "source": [
    "decomp.shape"
   ]
  },
  {
   "cell_type": "markdown",
   "metadata": {},
   "source": [
    "###  How much time are users spending with different Types?"
   ]
  },
  {
   "cell_type": "code",
   "execution_count": 46,
   "metadata": {},
   "outputs": [
    {
     "data": {
      "text/html": [
       "<div>\n",
       "<style scoped>\n",
       "    .dataframe tbody tr th:only-of-type {\n",
       "        vertical-align: middle;\n",
       "    }\n",
       "\n",
       "    .dataframe tbody tr th {\n",
       "        vertical-align: top;\n",
       "    }\n",
       "\n",
       "    .dataframe thead th {\n",
       "        text-align: right;\n",
       "    }\n",
       "</style>\n",
       "<table border=\"1\" class=\"dataframe\">\n",
       "  <thead>\n",
       "    <tr style=\"text-align: right;\">\n",
       "      <th></th>\n",
       "      <th>event_id</th>\n",
       "      <th>session</th>\n",
       "      <th>timestamp</th>\n",
       "      <th>event_data</th>\n",
       "      <th>installation_id</th>\n",
       "      <th>event_count</th>\n",
       "      <th>event_code</th>\n",
       "      <th>game_time</th>\n",
       "      <th>title</th>\n",
       "      <th>type</th>\n",
       "      <th>world</th>\n",
       "      <th>num_correct</th>\n",
       "      <th>num_incorrect</th>\n",
       "      <th>accuracy</th>\n",
       "      <th>accuracy_group</th>\n",
       "      <th>date</th>\n",
       "      <th>hour</th>\n",
       "      <th>weekday</th>\n",
       "    </tr>\n",
       "  </thead>\n",
       "  <tbody>\n",
       "    <tr>\n",
       "      <th>0</th>\n",
       "      <td>27253bdc</td>\n",
       "      <td>45bb1e1b6b50c07b</td>\n",
       "      <td>2019-09-06 17:53:46.937000+00:00</td>\n",
       "      <td>{\"event_code\": 2000, \"event_count\": 1}</td>\n",
       "      <td>0001e90f</td>\n",
       "      <td>1</td>\n",
       "      <td>2000</td>\n",
       "      <td>0</td>\n",
       "      <td>Welcome to Lost Lagoon!</td>\n",
       "      <td>Clip</td>\n",
       "      <td>NONE</td>\n",
       "      <td>NaN</td>\n",
       "      <td>NaN</td>\n",
       "      <td>NaN</td>\n",
       "      <td>NaN</td>\n",
       "      <td>2019-09-06</td>\n",
       "      <td>17</td>\n",
       "      <td>Friday</td>\n",
       "    </tr>\n",
       "  </tbody>\n",
       "</table>\n",
       "</div>"
      ],
      "text/plain": [
       "   event_id           session                        timestamp  \\\n",
       "0  27253bdc  45bb1e1b6b50c07b 2019-09-06 17:53:46.937000+00:00   \n",
       "\n",
       "                               event_data installation_id  event_count  \\\n",
       "0  {\"event_code\": 2000, \"event_count\": 1}        0001e90f            1   \n",
       "\n",
       "   event_code  game_time                    title  type world  num_correct  \\\n",
       "0        2000          0  Welcome to Lost Lagoon!  Clip  NONE          NaN   \n",
       "\n",
       "   num_incorrect  accuracy  accuracy_group        date  hour weekday  \n",
       "0            NaN       NaN             NaN  2019-09-06    17  Friday  "
      ]
     },
     "execution_count": 46,
     "metadata": {},
     "output_type": "execute_result"
    }
   ],
   "source": [
    "explore.head(1)"
   ]
  },
  {
   "cell_type": "code",
   "execution_count": 47,
   "metadata": {},
   "outputs": [],
   "source": [
    "clips = explore[explore.type == 'Clip']"
   ]
  },
  {
   "cell_type": "code",
   "execution_count": 48,
   "metadata": {},
   "outputs": [],
   "source": [
    "activities = explore[explore.type == 'Activity']"
   ]
  },
  {
   "cell_type": "code",
   "execution_count": 49,
   "metadata": {},
   "outputs": [],
   "source": [
    "games = explore[explore.type == 'Game']"
   ]
  },
  {
   "cell_type": "code",
   "execution_count": 50,
   "metadata": {},
   "outputs": [],
   "source": [
    "assessments = explore[explore.type == 'Assessment']"
   ]
  },
  {
   "cell_type": "markdown",
   "metadata": {},
   "source": [
    "<font color=green>**Average user time in clips by installation_id:**</font>"
   ]
  },
  {
   "cell_type": "code",
   "execution_count": 51,
   "metadata": {},
   "outputs": [
    {
     "name": "stdout",
     "output_type": "stream",
     "text": [
      "Average user time in clips by installation_id: 0.0 hours.\n"
     ]
    }
   ],
   "source": [
    "total_clip_time = clips.game_time.sum()\n",
    "clip_users = clips.installation_id.nunique() \n",
    "\n",
    "print(f'Average user time in clips by installation_id: {round(((total_clip_time / clip_users)/60000)/60)} hours.')"
   ]
  },
  {
   "cell_type": "code",
   "execution_count": 52,
   "metadata": {},
   "outputs": [
    {
     "name": "stdout",
     "output_type": "stream",
     "text": [
      "There are 16522 uesrs spending time viewing clips.\n",
      "Users are spending a total of 0 milliseconds viewing clips\n"
     ]
    }
   ],
   "source": [
    "print(f'There are {clip_users} uesrs spending time viewing clips.')\n",
    "print(f'Users are spending a total of {total_clip_time} milliseconds viewing clips')"
   ]
  },
  {
   "cell_type": "code",
   "execution_count": 54,
   "metadata": {},
   "outputs": [
    {
     "data": {
      "text/plain": [
       "0          323152\n",
       "388           804\n",
       "391           801\n",
       "395           799\n",
       "390           763\n",
       "389           746\n",
       "396           746\n",
       "394           738\n",
       "392           730\n",
       "393           723\n",
       "398           720\n",
       "26993         717\n",
       "386           708\n",
       "399           702\n",
       "387           684\n",
       "397           678\n",
       "385           659\n",
       "384           619\n",
       "15335         536\n",
       "58            476\n",
       "60            455\n",
       "57            451\n",
       "383           441\n",
       "62            425\n",
       "61            421\n",
       "65            413\n",
       "70            409\n",
       "56            406\n",
       "59            405\n",
       "66            403\n",
       "            ...  \n",
       "438032          1\n",
       "429844          1\n",
       "446236          1\n",
       "462628          1\n",
       "487208          1\n",
       "1232284         1\n",
       "1412468         1\n",
       "1420656         1\n",
       "3762408         1\n",
       "634609          1\n",
       "651001          1\n",
       "454425          1\n",
       "470817          1\n",
       "462629          1\n",
       "495413          1\n",
       "519993          1\n",
       "380797          1\n",
       "4155432         1\n",
       "7823657         1\n",
       "1371480         1\n",
       "2976360         1\n",
       "2812568         1\n",
       "2059304         1\n",
       "2075696         1\n",
       "1748112         1\n",
       "1666280         1\n",
       "1518880         1\n",
       "1322304         1\n",
       "1355088         1\n",
       "585450          1\n",
       "Name: game_time, Length: 834048, dtype: int64"
      ]
     },
     "execution_count": 54,
     "metadata": {},
     "output_type": "execute_result"
    }
   ],
   "source": []
  },
  {
   "cell_type": "markdown",
   "metadata": {},
   "source": [
    "<font color=green>**Average user time in activities by installation_id:**</font>"
   ]
  },
  {
   "cell_type": "code",
   "execution_count": 100,
   "metadata": {},
   "outputs": [
    {
     "name": "stdout",
     "output_type": "stream",
     "text": [
      "Average user time in activities by installation_id: 25.0 hours.\n"
     ]
    }
   ],
   "source": [
    "total_activity_time = activities.game_time.sum()\n",
    "activity_users = activities.installation_id.nunique() \n",
    "\n",
    "print(f'Average user time in activities by installation_id: {round(((total_activity_time / activity_users) / 60000)/60)} hours.')"
   ]
  },
  {
   "cell_type": "code",
   "execution_count": 90,
   "metadata": {},
   "outputs": [
    {
     "name": "stdout",
     "output_type": "stream",
     "text": [
      "There are 9593 users spending time viewing clips.\n"
     ]
    }
   ],
   "source": [
    "print(f'There are {activity_users} users spending time viewing clips.')"
   ]
  },
  {
   "cell_type": "markdown",
   "metadata": {},
   "source": [
    "<font color=green>**Average user time in games by installation_id:**</font>"
   ]
  },
  {
   "cell_type": "code",
   "execution_count": 99,
   "metadata": {},
   "outputs": [
    {
     "name": "stdout",
     "output_type": "stream",
     "text": [
      "Average user time in games by installation_id: 37.0 hours.\n"
     ]
    }
   ],
   "source": [
    "total_game_time = games.game_time.sum()\n",
    "game_users = games.installation_id.nunique()\n",
    "\n",
    "print(f'Average user time in games by installation_id: {round(((total_game_time / game_users) / 60000)/60)} hours.')"
   ]
  },
  {
   "cell_type": "code",
   "execution_count": 96,
   "metadata": {},
   "outputs": [
    {
     "name": "stdout",
     "output_type": "stream",
     "text": [
      "There are 9971 users spending time viewing clips.\n"
     ]
    }
   ],
   "source": [
    "print(f'There are {game_users} users spending time viewing clips.')"
   ]
  },
  {
   "cell_type": "markdown",
   "metadata": {},
   "source": [
    "<font color=green>**Average user assessments in clips by installation_id:**</font>"
   ]
  },
  {
   "cell_type": "code",
   "execution_count": 103,
   "metadata": {},
   "outputs": [
    {
     "name": "stdout",
     "output_type": "stream",
     "text": [
      "Average user time in games by installation_id: 4.0 hours.\n"
     ]
    }
   ],
   "source": [
    "total_assessment_time = assessments.game_time.sum()\n",
    "assessment_users = assessments.installation_id.nunique()\n",
    "\n",
    "print(f'Average user time in games by installation_id: {round(((total_assessment_time / assessment_users)/60000)/60)} hours.')\n",
    "                                                        "
   ]
  },
  {
   "cell_type": "code",
   "execution_count": 104,
   "metadata": {},
   "outputs": [
    {
     "name": "stdout",
     "output_type": "stream",
     "text": [
      "There are 4242 users spending time taking assessments.\n"
     ]
    }
   ],
   "source": [
    "print(f'There are {assessment_users} users spending time taking assessments.')"
   ]
  },
  {
   "cell_type": "markdown",
   "metadata": {},
   "source": [
    "### How many users are present at the start of the data compared to the end?"
   ]
  },
  {
   "cell_type": "code",
   "execution_count": 118,
   "metadata": {},
   "outputs": [
    {
     "name": "stdout",
     "output_type": "stream",
     "text": [
      "The first date in the logs is 2019-07-23 02:12:17.279000+00:00\n"
     ]
    }
   ],
   "source": [
    "print(f'The first date in the logs is {time_series.index.min()}.')"
   ]
  },
  {
   "cell_type": "code",
   "execution_count": 120,
   "metadata": {},
   "outputs": [
    {
     "name": "stdout",
     "output_type": "stream",
     "text": [
      "The last date in the logs is 2019-10-22 17:41:45.983000+00:00.\n"
     ]
    }
   ],
   "source": [
    "print(f'The last date in the logs is {time_series.index.max()}.')"
   ]
  },
  {
   "cell_type": "code",
   "execution_count": 122,
   "metadata": {},
   "outputs": [],
   "source": []
  },
  {
   "cell_type": "code",
   "execution_count": null,
   "metadata": {},
   "outputs": [],
   "source": []
  }
 ],
 "metadata": {
  "kernelspec": {
   "display_name": "Python 3",
   "language": "python",
   "name": "python3"
  },
  "language_info": {
   "codemirror_mode": {
    "name": "ipython",
    "version": 3
   },
   "file_extension": ".py",
   "mimetype": "text/x-python",
   "name": "python",
   "nbconvert_exporter": "python",
   "pygments_lexer": "ipython3",
   "version": "3.7.3"
  },
  "toc": {
   "base_numbering": 1,
   "nav_menu": {},
   "number_sections": true,
   "sideBar": true,
   "skip_h1_title": false,
   "title_cell": "Table of Contents",
   "title_sidebar": "Contents",
   "toc_cell": false,
   "toc_position": {},
   "toc_section_display": true,
   "toc_window_display": false
  }
 },
 "nbformat": 4,
 "nbformat_minor": 2
}
