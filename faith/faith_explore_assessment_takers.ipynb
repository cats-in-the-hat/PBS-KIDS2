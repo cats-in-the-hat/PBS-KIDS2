{
 "cells": [
  {
   "cell_type": "code",
   "execution_count": 23,
   "metadata": {},
   "outputs": [],
   "source": [
    "import pandas as pd\n",
    "import numpy as np\n",
    "\n",
    "import seaborn as sns\n",
    "from matplotlib import pyplot as plt\n",
    "from pylab import rcParams\n",
    "%matplotlib inline\n",
    "import plotly.offline as py\n",
    "import plotly.graph_objects as go\n",
    "\n",
    "import warnings\n",
    "warnings.filterwarnings('ignore')\n",
    "\n",
    "from wrangle import get_assessment_users\n",
    "\n",
    "pd.set_option('display.max_columns', 18)\n",
    "pd.set_option('display.max_rows', 18)"
   ]
  },
  {
   "cell_type": "code",
   "execution_count": 2,
   "metadata": {},
   "outputs": [
    {
     "data": {
      "image/png": "[encoded data removed]",
      "text/plain": [
       "<Figure size 360x72 with 1 Axes>"
      ]
     },
     "metadata": {
      "needs_background": "light"
     },
     "output_type": "display_data"
    }
   ],
   "source": [
    "# Create an array with the colors you want to use\n",
    "heat = [ 'pink', 'gold', 'darkturquoise', 'red', 'black']\n",
    "\n",
    "# Set your custom color palette\n",
    "my_pal = sns.color_palette(heat)\n",
    "\n",
    "sns.palplot(my_pal)"
   ]
  },
  {
   "cell_type": "markdown",
   "metadata": {},
   "source": [
    "# Create df using wrangle.py\n",
    "\n",
    "- df contains all user logs IF they have taken an assessment."
   ]
  },
  {
   "cell_type": "code",
   "execution_count": 3,
   "metadata": {},
   "outputs": [],
   "source": [
    "df = get_assessment_users()"
   ]
  },
  {
   "cell_type": "code",
   "execution_count": 5,
   "metadata": {},
   "outputs": [
    {
     "data": {
      "text/html": [
       "<div>\n",
       "<style scoped>\n",
       "    .dataframe tbody tr th:only-of-type {\n",
       "        vertical-align: middle;\n",
       "    }\n",
       "\n",
       "    .dataframe tbody tr th {\n",
       "        vertical-align: top;\n",
       "    }\n",
       "\n",
       "    .dataframe thead th {\n",
       "        text-align: right;\n",
       "    }\n",
       "</style>\n",
       "<table border=\"1\" class=\"dataframe\">\n",
       "  <thead>\n",
       "    <tr style=\"text-align: right;\">\n",
       "      <th></th>\n",
       "      <th>event_id</th>\n",
       "      <th>game_session</th>\n",
       "      <th>timestamp</th>\n",
       "      <th>event_data</th>\n",
       "      <th>installation_id</th>\n",
       "      <th>event_count</th>\n",
       "      <th>event_code</th>\n",
       "      <th>game_time</th>\n",
       "      <th>title</th>\n",
       "      <th>type</th>\n",
       "      <th>world</th>\n",
       "      <th>num_correct</th>\n",
       "      <th>num_incorrect</th>\n",
       "      <th>accuracy</th>\n",
       "      <th>accuracy_group</th>\n",
       "      <th>date</th>\n",
       "      <th>hour</th>\n",
       "      <th>weekday</th>\n",
       "    </tr>\n",
       "  </thead>\n",
       "  <tbody>\n",
       "    <tr>\n",
       "      <th>1538</th>\n",
       "      <td>27253bdc</td>\n",
       "      <td>34ba1a28d02ba8ba</td>\n",
       "      <td>2019-08-06 04:57:18.904000+00:00</td>\n",
       "      <td>{\"event_code\": 2000, \"event_count\": 1}</td>\n",
       "      <td>0006a69f</td>\n",
       "      <td>1</td>\n",
       "      <td>2000</td>\n",
       "      <td>0</td>\n",
       "      <td>Welcome to Lost Lagoon!</td>\n",
       "      <td>Clip</td>\n",
       "      <td>NONE</td>\n",
       "      <td>NaN</td>\n",
       "      <td>NaN</td>\n",
       "      <td>NaN</td>\n",
       "      <td>NaN</td>\n",
       "      <td>2019-08-06</td>\n",
       "      <td>4</td>\n",
       "      <td>Tuesday</td>\n",
       "    </tr>\n",
       "    <tr>\n",
       "      <th>1539</th>\n",
       "      <td>27253bdc</td>\n",
       "      <td>4b57c9a59474a1b9</td>\n",
       "      <td>2019-08-06 04:57:45.301000+00:00</td>\n",
       "      <td>{\"event_code\": 2000, \"event_count\": 1}</td>\n",
       "      <td>0006a69f</td>\n",
       "      <td>1</td>\n",
       "      <td>2000</td>\n",
       "      <td>0</td>\n",
       "      <td>Magma Peak - Level 1</td>\n",
       "      <td>Clip</td>\n",
       "      <td>MAGMAPEAK</td>\n",
       "      <td>NaN</td>\n",
       "      <td>NaN</td>\n",
       "      <td>NaN</td>\n",
       "      <td>NaN</td>\n",
       "      <td>2019-08-06</td>\n",
       "      <td>4</td>\n",
       "      <td>Tuesday</td>\n",
       "    </tr>\n",
       "  </tbody>\n",
       "</table>\n",
       "</div>"
      ],
      "text/plain": [
       "      event_id      game_session                        timestamp  \\\n",
       "1538  27253bdc  34ba1a28d02ba8ba 2019-08-06 04:57:18.904000+00:00   \n",
       "1539  27253bdc  4b57c9a59474a1b9 2019-08-06 04:57:45.301000+00:00   \n",
       "\n",
       "                                  event_data installation_id  event_count  \\\n",
       "1538  {\"event_code\": 2000, \"event_count\": 1}        0006a69f            1   \n",
       "1539  {\"event_code\": 2000, \"event_count\": 1}        0006a69f            1   \n",
       "\n",
       "      event_code  game_time                    title  type      world  \\\n",
       "1538        2000          0  Welcome to Lost Lagoon!  Clip       NONE   \n",
       "1539        2000          0     Magma Peak - Level 1  Clip  MAGMAPEAK   \n",
       "\n",
       "      num_correct  num_incorrect  accuracy  accuracy_group        date  hour  \\\n",
       "1538          NaN            NaN       NaN             NaN  2019-08-06     4   \n",
       "1539          NaN            NaN       NaN             NaN  2019-08-06     4   \n",
       "\n",
       "      weekday  \n",
       "1538  Tuesday  \n",
       "1539  Tuesday  "
      ]
     },
     "execution_count": 5,
     "metadata": {},
     "output_type": "execute_result"
    }
   ],
   "source": [
    "df.head(2)"
   ]
  },
  {
   "cell_type": "code",
   "execution_count": 22,
   "metadata": {},
   "outputs": [
    {
     "name": "stdout",
     "output_type": "stream",
     "text": [
      "<class 'pandas.core.frame.DataFrame'>\n",
      "Int64Index: 7734558 entries, 1538 to 11337825\n",
      "Data columns (total 18 columns):\n",
      "event_id           object\n",
      "game_session       object\n",
      "timestamp          datetime64[ns, UTC]\n",
      "event_data         object\n",
      "installation_id    object\n",
      "event_count        int64\n",
      "event_code         int64\n",
      "game_time          int64\n",
      "title              object\n",
      "type               object\n",
      "world              object\n",
      "num_correct        float64\n",
      "num_incorrect      float64\n",
      "accuracy           float64\n",
      "accuracy_group     float64\n",
      "date               object\n",
      "hour               int64\n",
      "weekday            object\n",
      "dtypes: datetime64[ns, UTC](1), float64(4), int64(4), object(9)\n",
      "memory usage: 1.4+ GB\n"
     ]
    }
   ],
   "source": [
    "df.info()"
   ]
  },
  {
   "cell_type": "markdown",
   "metadata": {},
   "source": [
    "# Explore df"
   ]
  },
  {
   "cell_type": "code",
   "execution_count": 9,
   "metadata": {},
   "outputs": [
    {
     "data": {
      "text/plain": [
       "Index(['event_id', 'game_session', 'timestamp', 'event_data',\n",
       "       'installation_id', 'event_count', 'event_code', 'game_time', 'title',\n",
       "       'type', 'world', 'num_correct', 'num_incorrect', 'accuracy',\n",
       "       'accuracy_group', 'date', 'hour', 'weekday'],\n",
       "      dtype='object')"
      ]
     },
     "execution_count": 9,
     "metadata": {},
     "output_type": "execute_result"
    }
   ],
   "source": [
    "df.columns"
   ]
  },
  {
   "cell_type": "markdown",
   "metadata": {},
   "source": [
    "### Explore Types"
   ]
  },
  {
   "cell_type": "code",
   "execution_count": 10,
   "metadata": {},
   "outputs": [
    {
     "data": {
      "text/plain": [
       "array(['Clip', 'Activity', 'Game', 'Assessment'], dtype=object)"
      ]
     },
     "execution_count": 10,
     "metadata": {},
     "output_type": "execute_result"
    }
   ],
   "source": [
    "df.type.unique()"
   ]
  },
  {
   "cell_type": "markdown",
   "metadata": {},
   "source": [
    "<font color=green>**Assessment Title Names:** Mushroom Sorter, Bird Measurer, Cauldron Filler, Cart Balancer, Chest Sorter.</font>"
   ]
  },
  {
   "cell_type": "code",
   "execution_count": 11,
   "metadata": {},
   "outputs": [
    {
     "data": {
      "text/plain": [
       "array(['Mushroom Sorter (Assessment)', 'Bird Measurer (Assessment)',\n",
       "       'Cauldron Filler (Assessment)', 'Cart Balancer (Assessment)',\n",
       "       'Chest Sorter (Assessment)'], dtype=object)"
      ]
     },
     "execution_count": 11,
     "metadata": {},
     "output_type": "execute_result"
    }
   ],
   "source": [
    "df[df.type == 'Assessment'].title.unique()"
   ]
  },
  {
   "cell_type": "markdown",
   "metadata": {},
   "source": [
    "<font color=green>**Game Title Names:** 'Scrub-A-Dub', 'All Star Sorting', 'Air Show', 'Crystals Rule','Dino Drink', 'Bubble Bath', 'Dino Dive', 'Chow Time', 'Pan Balance', 'Happy Camel', 'Leaf Leader'.</font>"
   ]
  },
  {
   "cell_type": "code",
   "execution_count": 12,
   "metadata": {},
   "outputs": [
    {
     "data": {
      "text/plain": [
       "array(['Scrub-A-Dub', 'All Star Sorting', 'Air Show', 'Crystals Rule',\n",
       "       'Dino Drink', 'Bubble Bath', 'Dino Dive', 'Chow Time',\n",
       "       'Pan Balance', 'Happy Camel', 'Leaf Leader'], dtype=object)"
      ]
     },
     "execution_count": 12,
     "metadata": {},
     "output_type": "execute_result"
    }
   ],
   "source": [
    "df[df.type == 'Game'].title.unique()"
   ]
  },
  {
   "cell_type": "markdown",
   "metadata": {},
   "source": [
    "<font color=green>**Activity Title Names:** 'Sandcastle Builder (Activity)', 'Fireworks (Activity)','Flower Waterer (Activity)', 'Bug Measurer (Activity)', 'Watering Hole (Activity)', 'Bottle Filler (Activity)', 'Chicken Balancer (Activity)', 'Egg Dropper (Activity)'.</font>"
   ]
  },
  {
   "cell_type": "code",
   "execution_count": 13,
   "metadata": {},
   "outputs": [
    {
     "data": {
      "text/plain": [
       "array(['Sandcastle Builder (Activity)', 'Fireworks (Activity)',\n",
       "       'Flower Waterer (Activity)', 'Bug Measurer (Activity)',\n",
       "       'Watering Hole (Activity)', 'Bottle Filler (Activity)',\n",
       "       'Chicken Balancer (Activity)', 'Egg Dropper (Activity)'],\n",
       "      dtype=object)"
      ]
     },
     "execution_count": 13,
     "metadata": {},
     "output_type": "execute_result"
    }
   ],
   "source": [
    "df[df.type == 'Activity'].title.unique()"
   ]
  },
  {
   "cell_type": "markdown",
   "metadata": {},
   "source": [
    "<font color=green>**Clip Title Names:** 'Welcome to Lost Lagoon!', 'Magma Peak - Level 1', 'Slop Problem', 'Tree Top City - Level 1', 'Ordering Spheres', 'Costume Box', '12 Monkeys', 'Tree Top City - Level 2', \"Pirate's Tale\", 'Treasure Map', 'Tree Top City - Level 3', 'Rulers', 'Magma Peak - Level 2', 'Crystal Caves - Level 1', 'Balancing Act', 'Crystal Caves - Level 2', 'Crystal Caves - Level 3', 'Lifting Heavy Things', 'Honey Cake', 'Heavy, Heavier, Heaviest'.</font>"
   ]
  },
  {
   "cell_type": "code",
   "execution_count": 14,
   "metadata": {},
   "outputs": [
    {
     "data": {
      "text/plain": [
       "array(['Welcome to Lost Lagoon!', 'Magma Peak - Level 1', 'Slop Problem',\n",
       "       'Tree Top City - Level 1', 'Ordering Spheres', 'Costume Box',\n",
       "       '12 Monkeys', 'Tree Top City - Level 2', \"Pirate's Tale\",\n",
       "       'Treasure Map', 'Tree Top City - Level 3', 'Rulers',\n",
       "       'Magma Peak - Level 2', 'Crystal Caves - Level 1', 'Balancing Act',\n",
       "       'Crystal Caves - Level 2', 'Crystal Caves - Level 3',\n",
       "       'Lifting Heavy Things', 'Honey Cake', 'Heavy, Heavier, Heaviest'],\n",
       "      dtype=object)"
      ]
     },
     "execution_count": 14,
     "metadata": {},
     "output_type": "execute_result"
    }
   ],
   "source": [
    "df[df.type == 'Clip'].title.unique()"
   ]
  },
  {
   "cell_type": "code",
   "execution_count": null,
   "metadata": {},
   "outputs": [],
   "source": []
  },
  {
   "cell_type": "markdown",
   "metadata": {},
   "source": [
    "### Visualize Accuracy Groups by Assessment Title"
   ]
  },
  {
   "cell_type": "code",
   "execution_count": 15,
   "metadata": {},
   "outputs": [],
   "source": [
    "temp_df = df.groupby(['title', 'accuracy_group'])['accuracy_group'].agg(['count']).reset_index()\n",
    "temp_df.columns = ['title', 'accuracy_group', 'Count']"
   ]
  },
  {
   "cell_type": "code",
   "execution_count": 16,
   "metadata": {},
   "outputs": [
    {
     "data": {
      "image/png": "[encoded data removed]",
      "text/plain": [
       "<Figure size 360x360 with 1 Axes>"
      ]
     },
     "metadata": {},
     "output_type": "display_data"
    }
   ],
   "source": [
    "sns.set_style(style='dark')\n",
    "plt.figure(figsize=(5,5))\n",
    "fig = sns.scatterplot(data=temp_df, x='accuracy_group', y='title', hue='accuracy_group', size='Count', palette='hot', legend=False)\n",
    "\n",
    "plt.title('Accuracy Groups')\n",
    "plt.show()"
   ]
  },
  {
   "cell_type": "code",
   "execution_count": 17,
   "metadata": {},
   "outputs": [
    {
     "data": {
      "text/plain": [
       "accuracy_group\n",
       "0.0    255079\n",
       "1.0    197291\n",
       "2.0    109502\n",
       "3.0    303575\n",
       "Name: installation_id, dtype: int64"
      ]
     },
     "execution_count": 17,
     "metadata": {},
     "output_type": "execute_result"
    }
   ],
   "source": [
    "df.groupby('accuracy_group')['installation_id'].count()"
   ]
  },
  {
   "cell_type": "code",
   "execution_count": 18,
   "metadata": {},
   "outputs": [
    {
     "data": {
      "text/html": [
       "        <script type=\"text/javascript\">\n",
       "        window.PlotlyConfig = {MathJaxConfig: 'local'};\n",
       "        if (window.MathJax) {MathJax.Hub.Config({SVG: {font: \"STIX-Web\"}});}\n",
       "        if (typeof require !== 'undefined') {\n",
       "        require.undef(\"plotly\");\n",
       "        requirejs.config({\n",
       "            paths: {\n",
       "                'plotly': ['https://cdn.plot.ly/plotly-latest.min']\n",
       "            }\n",
       "        });\n",
       "        require(['plotly'], function(Plotly) {\n",
       "            window._Plotly = Plotly;\n",
       "        });\n",
       "        }\n",
       "        </script>\n",
       "        "
      ]
     },
     "metadata": {},
     "output_type": "display_data"
    },
    {
     "data": {
      "application/vnd.plotly.v1+json": {
       "config": {
        "plotlyServerURL": "https://plot.ly"
       },
       "data": [
        {
         "hole": 0.2,
         "labels": [
          3,
          0,
          1,
          2
         ],
         "type": "pie",
         "values": [
          303575,
          255079,
          197291,
          109502
         ]
        }
       ],
       "layout": {
        "template": {
         "data": {
          "bar": [
           {
            "error_x": {
             "color": "#2a3f5f"
            },
            "error_y": {
             "color": "#2a3f5f"
            },
            "marker": {
             "line": {
              "color": "#E5ECF6",
              "width": 0.5
             }
            },
            "type": "bar"
           }
          ],
          "barpolar": [
           {
            "marker": {
             "line": {
              "color": "#E5ECF6",
              "width": 0.5
             }
            },
            "type": "barpolar"
           }
          ],
          "carpet": [
           {
            "aaxis": {
             "endlinecolor": "#2a3f5f",
             "gridcolor": "white",
             "linecolor": "white",
             "minorgridcolor": "white",
             "startlinecolor": "#2a3f5f"
            },
            "baxis": {
             "endlinecolor": "#2a3f5f",
             "gridcolor": "white",
             "linecolor": "white",
             "minorgridcolor": "white",
             "startlinecolor": "#2a3f5f"
            },
            "type": "carpet"
           }
          ],
          "choropleth": [
           {
            "colorbar": {
             "outlinewidth": 0,
             "ticks": ""
            },
            "type": "choropleth"
           }
          ],
          "contour": [
           {
            "colorbar": {
             "outlinewidth": 0,
             "ticks": ""
            },
            "colorscale": [
             [
              0,
              "#0d0887"
             ],
             [
              0.1111111111111111,
              "#46039f"
             ],
             [
              0.2222222222222222,
              "#7201a8"
             ],
             [
              0.3333333333333333,
              "#9c179e"
             ],
             [
              0.4444444444444444,
              "#bd3786"
             ],
             [
              0.5555555555555556,
              "#d8576b"
             ],
             [
              0.6666666666666666,
              "#ed7953"
             ],
             [
              0.7777777777777778,
              "#fb9f3a"
             ],
             [
              0.8888888888888888,
              "#fdca26"
             ],
             [
              1,
              "#f0f921"
             ]
            ],
            "type": "contour"
           }
          ],
          "contourcarpet": [
           {
            "colorbar": {
             "outlinewidth": 0,
             "ticks": ""
            },
            "type": "contourcarpet"
           }
          ],
          "heatmap": [
           {
            "colorbar": {
             "outlinewidth": 0,
             "ticks": ""
            },
            "colorscale": [
             [
              0,
              "#0d0887"
             ],
             [
              0.1111111111111111,
              "#46039f"
             ],
             [
              0.2222222222222222,
              "#7201a8"
             ],
             [
              0.3333333333333333,
              "#9c179e"
             ],
             [
              0.4444444444444444,
              "#bd3786"
             ],
             [
              0.5555555555555556,
              "#d8576b"
             ],
             [
              0.6666666666666666,
              "#ed7953"
             ],
             [
              0.7777777777777778,
              "#fb9f3a"
             ],
             [
              0.8888888888888888,
              "#fdca26"
             ],
             [
              1,
              "#f0f921"
             ]
            ],
            "type": "heatmap"
           }
          ],
          "heatmapgl": [
           {
            "colorbar": {
             "outlinewidth": 0,
             "ticks": ""
            },
            "colorscale": [
             [
              0,
              "#0d0887"
             ],
             [
              0.1111111111111111,
              "#46039f"
             ],
             [
              0.2222222222222222,
              "#7201a8"
             ],
             [
              0.3333333333333333,
              "#9c179e"
             ],
             [
              0.4444444444444444,
              "#bd3786"
             ],
             [
              0.5555555555555556,
              "#d8576b"
             ],
             [
              0.6666666666666666,
              "#ed7953"
             ],
             [
              0.7777777777777778,
              "#fb9f3a"
             ],
             [
              0.8888888888888888,
              "#fdca26"
             ],
             [
              1,
              "#f0f921"
             ]
            ],
            "type": "heatmapgl"
           }
          ],
          "histogram": [
           {
            "marker": {
             "colorbar": {
              "outlinewidth": 0,
              "ticks": ""
             }
            },
            "type": "histogram"
           }
          ],
          "histogram2d": [
           {
            "colorbar": {
             "outlinewidth": 0,
             "ticks": ""
            },
            "colorscale": [
             [
              0,
              "#0d0887"
             ],
             [
              0.1111111111111111,
              "#46039f"
             ],
             [
              0.2222222222222222,
              "#7201a8"
             ],
             [
              0.3333333333333333,
              "#9c179e"
             ],
             [
              0.4444444444444444,
              "#bd3786"
             ],
             [
              0.5555555555555556,
              "#d8576b"
             ],
             [
              0.6666666666666666,
              "#ed7953"
             ],
             [
              0.7777777777777778,
              "#fb9f3a"
             ],
             [
              0.8888888888888888,
              "#fdca26"
             ],
             [
              1,
              "#f0f921"
             ]
            ],
            "type": "histogram2d"
           }
          ],
          "histogram2dcontour": [
           {
            "colorbar": {
             "outlinewidth": 0,
             "ticks": ""
            },
            "colorscale": [
             [
              0,
              "#0d0887"
             ],
             [
              0.1111111111111111,
              "#46039f"
             ],
             [
              0.2222222222222222,
              "#7201a8"
             ],
             [
              0.3333333333333333,
              "#9c179e"
             ],
             [
              0.4444444444444444,
              "#bd3786"
             ],
             [
              0.5555555555555556,
              "#d8576b"
             ],
             [
              0.6666666666666666,
              "#ed7953"
             ],
             [
              0.7777777777777778,
              "#fb9f3a"
             ],
             [
              0.8888888888888888,
              "#fdca26"
             ],
             [
              1,
              "#f0f921"
             ]
            ],
            "type": "histogram2dcontour"
           }
          ],
          "mesh3d": [
           {
            "colorbar": {
             "outlinewidth": 0,
             "ticks": ""
            },
            "type": "mesh3d"
           }
          ],
          "parcoords": [
           {
            "line": {
             "colorbar": {
              "outlinewidth": 0,
              "ticks": ""
             }
            },
            "type": "parcoords"
           }
          ],
          "pie": [
           {
            "automargin": true,
            "type": "pie"
           }
          ],
          "scatter": [
           {
            "marker": {
             "colorbar": {
              "outlinewidth": 0,
              "ticks": ""
             }
            },
            "type": "scatter"
           }
          ],
          "scatter3d": [
           {
            "line": {
             "colorbar": {
              "outlinewidth": 0,
              "ticks": ""
             }
            },
            "marker": {
             "colorbar": {
              "outlinewidth": 0,
              "ticks": ""
             }
            },
            "type": "scatter3d"
           }
          ],
          "scattercarpet": [
           {
            "marker": {
             "colorbar": {
              "outlinewidth": 0,
              "ticks": ""
             }
            },
            "type": "scattercarpet"
           }
          ],
          "scattergeo": [
           {
            "marker": {
             "colorbar": {
              "outlinewidth": 0,
              "ticks": ""
             }
            },
            "type": "scattergeo"
           }
          ],
          "scattergl": [
           {
            "marker": {
             "colorbar": {
              "outlinewidth": 0,
              "ticks": ""
             }
            },
            "type": "scattergl"
           }
          ],
          "scattermapbox": [
           {
            "marker": {
             "colorbar": {
              "outlinewidth": 0,
              "ticks": ""
             }
            },
            "type": "scattermapbox"
           }
          ],
          "scatterpolar": [
           {
            "marker": {
             "colorbar": {
              "outlinewidth": 0,
              "ticks": ""
             }
            },
            "type": "scatterpolar"
           }
          ],
          "scatterpolargl": [
           {
            "marker": {
             "colorbar": {
              "outlinewidth": 0,
              "ticks": ""
             }
            },
            "type": "scatterpolargl"
           }
          ],
          "scatterternary": [
           {
            "marker": {
             "colorbar": {
              "outlinewidth": 0,
              "ticks": ""
             }
            },
            "type": "scatterternary"
           }
          ],
          "surface": [
           {
            "colorbar": {
             "outlinewidth": 0,
             "ticks": ""
            },
            "colorscale": [
             [
              0,
              "#0d0887"
             ],
             [
              0.1111111111111111,
              "#46039f"
             ],
             [
              0.2222222222222222,
              "#7201a8"
             ],
             [
              0.3333333333333333,
              "#9c179e"
             ],
             [
              0.4444444444444444,
              "#bd3786"
             ],
             [
              0.5555555555555556,
              "#d8576b"
             ],
             [
              0.6666666666666666,
              "#ed7953"
             ],
             [
              0.7777777777777778,
              "#fb9f3a"
             ],
             [
              0.8888888888888888,
              "#fdca26"
             ],
             [
              1,
              "#f0f921"
             ]
            ],
            "type": "surface"
           }
          ],
          "table": [
           {
            "cells": {
             "fill": {
              "color": "#EBF0F8"
             },
             "line": {
              "color": "white"
             }
            },
            "header": {
             "fill": {
              "color": "#C8D4E3"
             },
             "line": {
              "color": "white"
             }
            },
            "type": "table"
           }
          ]
         },
         "layout": {
          "annotationdefaults": {
           "arrowcolor": "#2a3f5f",
           "arrowhead": 0,
           "arrowwidth": 1
          },
          "coloraxis": {
           "colorbar": {
            "outlinewidth": 0,
            "ticks": ""
           }
          },
          "colorscale": {
           "diverging": [
            [
             0,
             "#8e0152"
            ],
            [
             0.1,
             "#c51b7d"
            ],
            [
             0.2,
             "#de77ae"
            ],
            [
             0.3,
             "#f1b6da"
            ],
            [
             0.4,
             "#fde0ef"
            ],
            [
             0.5,
             "#f7f7f7"
            ],
            [
             0.6,
             "#e6f5d0"
            ],
            [
             0.7,
             "#b8e186"
            ],
            [
             0.8,
             "#7fbc41"
            ],
            [
             0.9,
             "#4d9221"
            ],
            [
             1,
             "#276419"
            ]
           ],
           "sequential": [
            [
             0,
             "#0d0887"
            ],
            [
             0.1111111111111111,
             "#46039f"
            ],
            [
             0.2222222222222222,
             "#7201a8"
            ],
            [
             0.3333333333333333,
             "#9c179e"
            ],
            [
             0.4444444444444444,
             "#bd3786"
            ],
            [
             0.5555555555555556,
             "#d8576b"
            ],
            [
             0.6666666666666666,
             "#ed7953"
            ],
            [
             0.7777777777777778,
             "#fb9f3a"
            ],
            [
             0.8888888888888888,
             "#fdca26"
            ],
            [
             1,
             "#f0f921"
            ]
           ],
           "sequentialminus": [
            [
             0,
             "#0d0887"
            ],
            [
             0.1111111111111111,
             "#46039f"
            ],
            [
             0.2222222222222222,
             "#7201a8"
            ],
            [
             0.3333333333333333,
             "#9c179e"
            ],
            [
             0.4444444444444444,
             "#bd3786"
            ],
            [
             0.5555555555555556,
             "#d8576b"
            ],
            [
             0.6666666666666666,
             "#ed7953"
            ],
            [
             0.7777777777777778,
             "#fb9f3a"
            ],
            [
             0.8888888888888888,
             "#fdca26"
            ],
            [
             1,
             "#f0f921"
            ]
           ]
          },
          "colorway": [
           "#636efa",
           "#EF553B",
           "#00cc96",
           "#ab63fa",
           "#FFA15A",
           "#19d3f3",
           "#FF6692",
           "#B6E880",
           "#FF97FF",
           "#FECB52"
          ],
          "font": {
           "color": "#2a3f5f"
          },
          "geo": {
           "bgcolor": "white",
           "lakecolor": "white",
           "landcolor": "#E5ECF6",
           "showlakes": true,
           "showland": true,
           "subunitcolor": "white"
          },
          "hoverlabel": {
           "align": "left"
          },
          "hovermode": "closest",
          "mapbox": {
           "style": "light"
          },
          "paper_bgcolor": "white",
          "plot_bgcolor": "#E5ECF6",
          "polar": {
           "angularaxis": {
            "gridcolor": "white",
            "linecolor": "white",
            "ticks": ""
           },
           "bgcolor": "#E5ECF6",
           "radialaxis": {
            "gridcolor": "white",
            "linecolor": "white",
            "ticks": ""
           }
          },
          "scene": {
           "xaxis": {
            "backgroundcolor": "#E5ECF6",
            "gridcolor": "white",
            "gridwidth": 2,
            "linecolor": "white",
            "showbackground": true,
            "ticks": "",
            "zerolinecolor": "white"
           },
           "yaxis": {
            "backgroundcolor": "#E5ECF6",
            "gridcolor": "white",
            "gridwidth": 2,
            "linecolor": "white",
            "showbackground": true,
            "ticks": "",
            "zerolinecolor": "white"
           },
           "zaxis": {
            "backgroundcolor": "#E5ECF6",
            "gridcolor": "white",
            "gridwidth": 2,
            "linecolor": "white",
            "showbackground": true,
            "ticks": "",
            "zerolinecolor": "white"
           }
          },
          "shapedefaults": {
           "line": {
            "color": "#2a3f5f"
           }
          },
          "ternary": {
           "aaxis": {
            "gridcolor": "white",
            "linecolor": "white",
            "ticks": ""
           },
           "baxis": {
            "gridcolor": "white",
            "linecolor": "white",
            "ticks": ""
           },
           "bgcolor": "#E5ECF6",
           "caxis": {
            "gridcolor": "white",
            "linecolor": "white",
            "ticks": ""
           }
          },
          "title": {
           "x": 0.05
          },
          "xaxis": {
           "automargin": true,
           "gridcolor": "white",
           "linecolor": "white",
           "ticks": "",
           "title": {
            "standoff": 15
           },
           "zerolinecolor": "white",
           "zerolinewidth": 2
          },
          "yaxis": {
           "automargin": true,
           "gridcolor": "white",
           "linecolor": "white",
           "ticks": "",
           "title": {
            "standoff": 15
           },
           "zerolinecolor": "white",
           "zerolinewidth": 2
          }
         }
        }
       }
      },
      "text/html": [
       "<div>\n",
       "        \n",
       "        \n",
       "            <div id=\"d8fa51c9-f859-4fbd-b14e-60088ca23e12\" class=\"plotly-graph-div\" style=\"height:525px; width:100%;\"></div>\n",
       "            <script type=\"text/javascript\">\n",
       "                require([\"plotly\"], function(Plotly) {\n",
       "                    window.PLOTLYENV=window.PLOTLYENV || {};\n",
       "                    \n",
       "                if (document.getElementById(\"d8fa51c9-f859-4fbd-b14e-60088ca23e12\")) {\n",
       "                    Plotly.newPlot(\n",
       "                        'd8fa51c9-f859-4fbd-b14e-60088ca23e12',\n",
       "                        [{\"hole\": 0.2, \"labels\": [3.0, 0.0, 1.0, 2.0], \"type\": \"pie\", \"values\": [303575, 255079, 197291, 109502]}],\n",
       "                        {\"template\": {\"data\": {\"bar\": [{\"error_x\": {\"color\": \"#2a3f5f\"}, \"error_y\": {\"color\": \"#2a3f5f\"}, \"marker\": {\"line\": {\"color\": \"#E5ECF6\", \"width\": 0.5}}, \"type\": \"bar\"}], \"barpolar\": [{\"marker\": {\"line\": {\"color\": \"#E5ECF6\", \"width\": 0.5}}, \"type\": \"barpolar\"}], \"carpet\": [{\"aaxis\": {\"endlinecolor\": \"#2a3f5f\", \"gridcolor\": \"white\", \"linecolor\": \"white\", \"minorgridcolor\": \"white\", \"startlinecolor\": \"#2a3f5f\"}, \"baxis\": {\"endlinecolor\": \"#2a3f5f\", \"gridcolor\": \"white\", \"linecolor\": \"white\", \"minorgridcolor\": \"white\", \"startlinecolor\": \"#2a3f5f\"}, \"type\": \"carpet\"}], \"choropleth\": [{\"colorbar\": {\"outlinewidth\": 0, \"ticks\": \"\"}, \"type\": \"choropleth\"}], \"contour\": [{\"colorbar\": {\"outlinewidth\": 0, \"ticks\": \"\"}, \"colorscale\": [[0.0, \"#0d0887\"], [0.1111111111111111, \"#46039f\"], [0.2222222222222222, \"#7201a8\"], [0.3333333333333333, \"#9c179e\"], [0.4444444444444444, \"#bd3786\"], [0.5555555555555556, \"#d8576b\"], [0.6666666666666666, \"#ed7953\"], [0.7777777777777778, \"#fb9f3a\"], [0.8888888888888888, \"#fdca26\"], [1.0, \"#f0f921\"]], \"type\": \"contour\"}], \"contourcarpet\": [{\"colorbar\": {\"outlinewidth\": 0, \"ticks\": \"\"}, \"type\": \"contourcarpet\"}], \"heatmap\": [{\"colorbar\": {\"outlinewidth\": 0, \"ticks\": \"\"}, \"colorscale\": [[0.0, \"#0d0887\"], [0.1111111111111111, \"#46039f\"], [0.2222222222222222, \"#7201a8\"], [0.3333333333333333, \"#9c179e\"], [0.4444444444444444, \"#bd3786\"], [0.5555555555555556, \"#d8576b\"], [0.6666666666666666, \"#ed7953\"], [0.7777777777777778, \"#fb9f3a\"], [0.8888888888888888, \"#fdca26\"], [1.0, \"#f0f921\"]], \"type\": \"heatmap\"}], \"heatmapgl\": [{\"colorbar\": {\"outlinewidth\": 0, \"ticks\": \"\"}, \"colorscale\": [[0.0, \"#0d0887\"], [0.1111111111111111, \"#46039f\"], [0.2222222222222222, \"#7201a8\"], [0.3333333333333333, \"#9c179e\"], [0.4444444444444444, \"#bd3786\"], [0.5555555555555556, \"#d8576b\"], [0.6666666666666666, \"#ed7953\"], [0.7777777777777778, \"#fb9f3a\"], [0.8888888888888888, \"#fdca26\"], [1.0, \"#f0f921\"]], \"type\": \"heatmapgl\"}], \"histogram\": [{\"marker\": {\"colorbar\": {\"outlinewidth\": 0, \"ticks\": \"\"}}, \"type\": \"histogram\"}], \"histogram2d\": [{\"colorbar\": {\"outlinewidth\": 0, \"ticks\": \"\"}, \"colorscale\": [[0.0, \"#0d0887\"], [0.1111111111111111, \"#46039f\"], [0.2222222222222222, \"#7201a8\"], [0.3333333333333333, \"#9c179e\"], [0.4444444444444444, \"#bd3786\"], [0.5555555555555556, \"#d8576b\"], [0.6666666666666666, \"#ed7953\"], [0.7777777777777778, \"#fb9f3a\"], [0.8888888888888888, \"#fdca26\"], [1.0, \"#f0f921\"]], \"type\": \"histogram2d\"}], \"histogram2dcontour\": [{\"colorbar\": {\"outlinewidth\": 0, \"ticks\": \"\"}, \"colorscale\": [[0.0, \"#0d0887\"], [0.1111111111111111, \"#46039f\"], [0.2222222222222222, \"#7201a8\"], [0.3333333333333333, \"#9c179e\"], [0.4444444444444444, \"#bd3786\"], [0.5555555555555556, \"#d8576b\"], [0.6666666666666666, \"#ed7953\"], [0.7777777777777778, \"#fb9f3a\"], [0.8888888888888888, \"#fdca26\"], [1.0, \"#f0f921\"]], \"type\": \"histogram2dcontour\"}], \"mesh3d\": [{\"colorbar\": {\"outlinewidth\": 0, \"ticks\": \"\"}, \"type\": \"mesh3d\"}], \"parcoords\": [{\"line\": {\"colorbar\": {\"outlinewidth\": 0, \"ticks\": \"\"}}, \"type\": \"parcoords\"}], \"pie\": [{\"automargin\": true, \"type\": \"pie\"}], \"scatter\": [{\"marker\": {\"colorbar\": {\"outlinewidth\": 0, \"ticks\": \"\"}}, \"type\": \"scatter\"}], \"scatter3d\": [{\"line\": {\"colorbar\": {\"outlinewidth\": 0, \"ticks\": \"\"}}, \"marker\": {\"colorbar\": {\"outlinewidth\": 0, \"ticks\": \"\"}}, \"type\": \"scatter3d\"}], \"scattercarpet\": [{\"marker\": {\"colorbar\": {\"outlinewidth\": 0, \"ticks\": \"\"}}, \"type\": \"scattercarpet\"}], \"scattergeo\": [{\"marker\": {\"colorbar\": {\"outlinewidth\": 0, \"ticks\": \"\"}}, \"type\": \"scattergeo\"}], \"scattergl\": [{\"marker\": {\"colorbar\": {\"outlinewidth\": 0, \"ticks\": \"\"}}, \"type\": \"scattergl\"}], \"scattermapbox\": [{\"marker\": {\"colorbar\": {\"outlinewidth\": 0, \"ticks\": \"\"}}, \"type\": \"scattermapbox\"}], \"scatterpolar\": [{\"marker\": {\"colorbar\": {\"outlinewidth\": 0, \"ticks\": \"\"}}, \"type\": \"scatterpolar\"}], \"scatterpolargl\": [{\"marker\": {\"colorbar\": {\"outlinewidth\": 0, \"ticks\": \"\"}}, \"type\": \"scatterpolargl\"}], \"scatterternary\": [{\"marker\": {\"colorbar\": {\"outlinewidth\": 0, \"ticks\": \"\"}}, \"type\": \"scatterternary\"}], \"surface\": [{\"colorbar\": {\"outlinewidth\": 0, \"ticks\": \"\"}, \"colorscale\": [[0.0, \"#0d0887\"], [0.1111111111111111, \"#46039f\"], [0.2222222222222222, \"#7201a8\"], [0.3333333333333333, \"#9c179e\"], [0.4444444444444444, \"#bd3786\"], [0.5555555555555556, \"#d8576b\"], [0.6666666666666666, \"#ed7953\"], [0.7777777777777778, \"#fb9f3a\"], [0.8888888888888888, \"#fdca26\"], [1.0, \"#f0f921\"]], \"type\": \"surface\"}], \"table\": [{\"cells\": {\"fill\": {\"color\": \"#EBF0F8\"}, \"line\": {\"color\": \"white\"}}, \"header\": {\"fill\": {\"color\": \"#C8D4E3\"}, \"line\": {\"color\": \"white\"}}, \"type\": \"table\"}]}, \"layout\": {\"annotationdefaults\": {\"arrowcolor\": \"#2a3f5f\", \"arrowhead\": 0, \"arrowwidth\": 1}, \"coloraxis\": {\"colorbar\": {\"outlinewidth\": 0, \"ticks\": \"\"}}, \"colorscale\": {\"diverging\": [[0, \"#8e0152\"], [0.1, \"#c51b7d\"], [0.2, \"#de77ae\"], [0.3, \"#f1b6da\"], [0.4, \"#fde0ef\"], [0.5, \"#f7f7f7\"], [0.6, \"#e6f5d0\"], [0.7, \"#b8e186\"], [0.8, \"#7fbc41\"], [0.9, \"#4d9221\"], [1, \"#276419\"]], \"sequential\": [[0.0, \"#0d0887\"], [0.1111111111111111, \"#46039f\"], [0.2222222222222222, \"#7201a8\"], [0.3333333333333333, \"#9c179e\"], [0.4444444444444444, \"#bd3786\"], [0.5555555555555556, \"#d8576b\"], [0.6666666666666666, \"#ed7953\"], [0.7777777777777778, \"#fb9f3a\"], [0.8888888888888888, \"#fdca26\"], [1.0, \"#f0f921\"]], \"sequentialminus\": [[0.0, \"#0d0887\"], [0.1111111111111111, \"#46039f\"], [0.2222222222222222, \"#7201a8\"], [0.3333333333333333, \"#9c179e\"], [0.4444444444444444, \"#bd3786\"], [0.5555555555555556, \"#d8576b\"], [0.6666666666666666, \"#ed7953\"], [0.7777777777777778, \"#fb9f3a\"], [0.8888888888888888, \"#fdca26\"], [1.0, \"#f0f921\"]]}, \"colorway\": [\"#636efa\", \"#EF553B\", \"#00cc96\", \"#ab63fa\", \"#FFA15A\", \"#19d3f3\", \"#FF6692\", \"#B6E880\", \"#FF97FF\", \"#FECB52\"], \"font\": {\"color\": \"#2a3f5f\"}, \"geo\": {\"bgcolor\": \"white\", \"lakecolor\": \"white\", \"landcolor\": \"#E5ECF6\", \"showlakes\": true, \"showland\": true, \"subunitcolor\": \"white\"}, \"hoverlabel\": {\"align\": \"left\"}, \"hovermode\": \"closest\", \"mapbox\": {\"style\": \"light\"}, \"paper_bgcolor\": \"white\", \"plot_bgcolor\": \"#E5ECF6\", \"polar\": {\"angularaxis\": {\"gridcolor\": \"white\", \"linecolor\": \"white\", \"ticks\": \"\"}, \"bgcolor\": \"#E5ECF6\", \"radialaxis\": {\"gridcolor\": \"white\", \"linecolor\": \"white\", \"ticks\": \"\"}}, \"scene\": {\"xaxis\": {\"backgroundcolor\": \"#E5ECF6\", \"gridcolor\": \"white\", \"gridwidth\": 2, \"linecolor\": \"white\", \"showbackground\": true, \"ticks\": \"\", \"zerolinecolor\": \"white\"}, \"yaxis\": {\"backgroundcolor\": \"#E5ECF6\", \"gridcolor\": \"white\", \"gridwidth\": 2, \"linecolor\": \"white\", \"showbackground\": true, \"ticks\": \"\", \"zerolinecolor\": \"white\"}, \"zaxis\": {\"backgroundcolor\": \"#E5ECF6\", \"gridcolor\": \"white\", \"gridwidth\": 2, \"linecolor\": \"white\", \"showbackground\": true, \"ticks\": \"\", \"zerolinecolor\": \"white\"}}, \"shapedefaults\": {\"line\": {\"color\": \"#2a3f5f\"}}, \"ternary\": {\"aaxis\": {\"gridcolor\": \"white\", \"linecolor\": \"white\", \"ticks\": \"\"}, \"baxis\": {\"gridcolor\": \"white\", \"linecolor\": \"white\", \"ticks\": \"\"}, \"bgcolor\": \"#E5ECF6\", \"caxis\": {\"gridcolor\": \"white\", \"linecolor\": \"white\", \"ticks\": \"\"}}, \"title\": {\"x\": 0.05}, \"xaxis\": {\"automargin\": true, \"gridcolor\": \"white\", \"linecolor\": \"white\", \"ticks\": \"\", \"title\": {\"standoff\": 15}, \"zerolinecolor\": \"white\", \"zerolinewidth\": 2}, \"yaxis\": {\"automargin\": true, \"gridcolor\": \"white\", \"linecolor\": \"white\", \"ticks\": \"\", \"title\": {\"standoff\": 15}, \"zerolinecolor\": \"white\", \"zerolinewidth\": 2}}}},\n",
       "                        {\"responsive\": true}\n",
       "                    ).then(function(){\n",
       "                            \n",
       "var gd = document.getElementById('d8fa51c9-f859-4fbd-b14e-60088ca23e12');\n",
       "var x = new MutationObserver(function (mutations, observer) {{\n",
       "        var display = window.getComputedStyle(gd).display;\n",
       "        if (!display || display === 'none') {{\n",
       "            console.log([gd, 'removed!']);\n",
       "            Plotly.purge(gd);\n",
       "            observer.disconnect();\n",
       "        }}\n",
       "}});\n",
       "\n",
       "// Listen for the removal of the full notebook cells\n",
       "var notebookContainer = gd.closest('#notebook-container');\n",
       "if (notebookContainer) {{\n",
       "    x.observe(notebookContainer, {childList: true});\n",
       "}}\n",
       "\n",
       "// Listen for the clearing of the current output cell\n",
       "var outputEl = gd.closest('.output');\n",
       "if (outputEl) {{\n",
       "    x.observe(outputEl, {childList: true});\n",
       "}}\n",
       "\n",
       "                        })\n",
       "                };\n",
       "                });\n",
       "            </script>\n",
       "        </div>"
      ]
     },
     "metadata": {},
     "output_type": "display_data"
    }
   ],
   "source": [
    "Accuracy=pd.DataFrame()\n",
    "Accuracy['Type']=df.accuracy_group.value_counts().index\n",
    "Accuracy['Count']=df.accuracy_group.value_counts().values\n",
    "\n",
    "py.init_notebook_mode(connected=True)\n",
    "fig = go.Figure(data=[go.Pie(labels=Accuracy['Type'], values=Accuracy['Count'],hole=0.2)])\n",
    "fig.show()"
   ]
  },
  {
   "cell_type": "markdown",
   "metadata": {},
   "source": [
    "### Some installation_ids have some assessments they didn't finish"
   ]
  },
  {
   "cell_type": "code",
   "execution_count": 236,
   "metadata": {},
   "outputs": [
    {
     "data": {
      "text/plain": [
       "type        accuracy_group\n",
       "Activity    NaN               2905496\n",
       "Assessment  3.0                303575\n",
       "            0.0                255079\n",
       "            1.0                197291\n",
       "            2.0                109502\n",
       "            NaN                 38158\n",
       "Clip        NaN                 90707\n",
       "Game        NaN               3834750\n",
       "Name: accuracy_group, dtype: int64"
      ]
     },
     "execution_count": 236,
     "metadata": {},
     "output_type": "execute_result"
    }
   ],
   "source": [
    "df.groupby('type').accuracy_group.value_counts(dropna=False)"
   ]
  },
  {
   "cell_type": "markdown",
   "metadata": {},
   "source": [
    "### How many users have event_codes 4100 and/or 4110?"
   ]
  },
  {
   "cell_type": "code",
   "execution_count": 32,
   "metadata": {
    "scrolled": true
   },
   "outputs": [],
   "source": [
    "users_4100 = list(df[df.event_code == 4100].installation_id.unique())"
   ]
  },
  {
   "cell_type": "code",
   "execution_count": 88,
   "metadata": {},
   "outputs": [
    {
     "name": "stdout",
     "output_type": "stream",
     "text": [
      "There are 3570 unique users with event_code 4100.\n"
     ]
    }
   ],
   "source": [
    "print(f'There are {len(users_4100)} unique users with event_code 4100.')"
   ]
  },
  {
   "cell_type": "code",
   "execution_count": 29,
   "metadata": {
    "scrolled": true
   },
   "outputs": [],
   "source": [
    "users_4110 = list(df[df.event_code == 4110].installation_id.unique())"
   ]
  },
  {
   "cell_type": "code",
   "execution_count": 89,
   "metadata": {},
   "outputs": [
    {
     "name": "stdout",
     "output_type": "stream",
     "text": [
      "There are 1836 unique users with event_code 4110.\n"
     ]
    }
   ],
   "source": [
    "print(f'There are {len(users_4110)} unique users with event_code 4110.')"
   ]
  },
  {
   "cell_type": "code",
   "execution_count": 80,
   "metadata": {},
   "outputs": [],
   "source": [
    "users_in_both = list(set(users_4100).intersection(users_4110))"
   ]
  },
  {
   "cell_type": "code",
   "execution_count": 90,
   "metadata": {},
   "outputs": [
    {
     "name": "stdout",
     "output_type": "stream",
     "text": [
      "There are 1792 unique users with both event_code 4100 and 4110.\n"
     ]
    }
   ],
   "source": [
    "print(f'There are {len(users_in_both)} unique users with both event_code 4100 and 4110.')"
   ]
  },
  {
   "cell_type": "code",
   "execution_count": 82,
   "metadata": {},
   "outputs": [],
   "source": [
    "either_or = users_4100 + users_4110"
   ]
  },
  {
   "cell_type": "code",
   "execution_count": 91,
   "metadata": {},
   "outputs": [
    {
     "name": "stdout",
     "output_type": "stream",
     "text": [
      "There are 5406 unique users with either 4100 or 4110 event_code.\n"
     ]
    }
   ],
   "source": [
    "print(f'There are {len(either_or)} unique users with either 4100 or 4110 event_code.')"
   ]
  },
  {
   "cell_type": "markdown",
   "metadata": {},
   "source": [
    "### Convert timestamp column to datetime object"
   ]
  },
  {
   "cell_type": "code",
   "execution_count": 94,
   "metadata": {},
   "outputs": [],
   "source": [
    "df.timestamp = pd.to_datetime(df.timestamp)"
   ]
  },
  {
   "cell_type": "code",
   "execution_count": 95,
   "metadata": {},
   "outputs": [
    {
     "name": "stdout",
     "output_type": "stream",
     "text": [
      "<class 'pandas.core.frame.DataFrame'>\n",
      "Int64Index: 7734558 entries, 1538 to 11337825\n",
      "Data columns (total 18 columns):\n",
      "event_id           object\n",
      "game_session       object\n",
      "timestamp          datetime64[ns, UTC]\n",
      "event_data         object\n",
      "installation_id    object\n",
      "event_count        int64\n",
      "event_code         int64\n",
      "game_time          int64\n",
      "title              object\n",
      "type               object\n",
      "world              object\n",
      "num_correct        float64\n",
      "num_incorrect      float64\n",
      "accuracy           float64\n",
      "accuracy_group     float64\n",
      "date               object\n",
      "hour               int64\n",
      "weekday            object\n",
      "dtypes: datetime64[ns, UTC](1), float64(4), int64(4), object(9)\n",
      "memory usage: 1.4+ GB\n"
     ]
    }
   ],
   "source": [
    "df.info()"
   ]
  },
  {
   "cell_type": "code",
   "execution_count": 96,
   "metadata": {},
   "outputs": [],
   "source": [
    "df['date'] = df['timestamp'].dt.date"
   ]
  },
  {
   "cell_type": "code",
   "execution_count": 97,
   "metadata": {},
   "outputs": [],
   "source": [
    "df['hour'] = df['timestamp'].dt.hour"
   ]
  },
  {
   "cell_type": "code",
   "execution_count": 23,
   "metadata": {},
   "outputs": [],
   "source": [
    "df['weekday'] = df['timestamp'].dt.weekday_name"
   ]
  },
  {
   "cell_type": "code",
   "execution_count": 98,
   "metadata": {},
   "outputs": [
    {
     "data": {
      "text/html": [
       "<div>\n",
       "<style scoped>\n",
       "    .dataframe tbody tr th:only-of-type {\n",
       "        vertical-align: middle;\n",
       "    }\n",
       "\n",
       "    .dataframe tbody tr th {\n",
       "        vertical-align: top;\n",
       "    }\n",
       "\n",
       "    .dataframe thead th {\n",
       "        text-align: right;\n",
       "    }\n",
       "</style>\n",
       "<table border=\"1\" class=\"dataframe\">\n",
       "  <thead>\n",
       "    <tr style=\"text-align: right;\">\n",
       "      <th></th>\n",
       "      <th>event_id</th>\n",
       "      <th>game_session</th>\n",
       "      <th>timestamp</th>\n",
       "      <th>event_data</th>\n",
       "      <th>installation_id</th>\n",
       "      <th>event_count</th>\n",
       "      <th>event_code</th>\n",
       "      <th>game_time</th>\n",
       "      <th>title</th>\n",
       "      <th>type</th>\n",
       "      <th>world</th>\n",
       "      <th>num_correct</th>\n",
       "      <th>num_incorrect</th>\n",
       "      <th>accuracy</th>\n",
       "      <th>accuracy_group</th>\n",
       "      <th>date</th>\n",
       "      <th>hour</th>\n",
       "      <th>weekday</th>\n",
       "    </tr>\n",
       "  </thead>\n",
       "  <tbody>\n",
       "    <tr>\n",
       "      <th>1538</th>\n",
       "      <td>27253bdc</td>\n",
       "      <td>34ba1a28d02ba8ba</td>\n",
       "      <td>2019-08-06 04:57:18.904000+00:00</td>\n",
       "      <td>{\"event_code\": 2000, \"event_count\": 1}</td>\n",
       "      <td>0006a69f</td>\n",
       "      <td>1</td>\n",
       "      <td>2000</td>\n",
       "      <td>0</td>\n",
       "      <td>Welcome to Lost Lagoon!</td>\n",
       "      <td>Clip</td>\n",
       "      <td>NONE</td>\n",
       "      <td>NaN</td>\n",
       "      <td>NaN</td>\n",
       "      <td>NaN</td>\n",
       "      <td>NaN</td>\n",
       "      <td>2019-08-06</td>\n",
       "      <td>4</td>\n",
       "      <td>Tuesday</td>\n",
       "    </tr>\n",
       "    <tr>\n",
       "      <th>1539</th>\n",
       "      <td>27253bdc</td>\n",
       "      <td>4b57c9a59474a1b9</td>\n",
       "      <td>2019-08-06 04:57:45.301000+00:00</td>\n",
       "      <td>{\"event_code\": 2000, \"event_count\": 1}</td>\n",
       "      <td>0006a69f</td>\n",
       "      <td>1</td>\n",
       "      <td>2000</td>\n",
       "      <td>0</td>\n",
       "      <td>Magma Peak - Level 1</td>\n",
       "      <td>Clip</td>\n",
       "      <td>MAGMAPEAK</td>\n",
       "      <td>NaN</td>\n",
       "      <td>NaN</td>\n",
       "      <td>NaN</td>\n",
       "      <td>NaN</td>\n",
       "      <td>2019-08-06</td>\n",
       "      <td>4</td>\n",
       "      <td>Tuesday</td>\n",
       "    </tr>\n",
       "    <tr>\n",
       "      <th>1540</th>\n",
       "      <td>77261ab5</td>\n",
       "      <td>2b9d5af79bcdb79f</td>\n",
       "      <td>2019-08-06 04:58:14.538000+00:00</td>\n",
       "      <td>{\"version\":\"1.0\",\"event_count\":1,\"game_time\":0...</td>\n",
       "      <td>0006a69f</td>\n",
       "      <td>1</td>\n",
       "      <td>2000</td>\n",
       "      <td>0</td>\n",
       "      <td>Sandcastle Builder (Activity)</td>\n",
       "      <td>Activity</td>\n",
       "      <td>MAGMAPEAK</td>\n",
       "      <td>NaN</td>\n",
       "      <td>NaN</td>\n",
       "      <td>NaN</td>\n",
       "      <td>NaN</td>\n",
       "      <td>2019-08-06</td>\n",
       "      <td>4</td>\n",
       "      <td>Tuesday</td>\n",
       "    </tr>\n",
       "    <tr>\n",
       "      <th>1541</th>\n",
       "      <td>b2dba42b</td>\n",
       "      <td>2b9d5af79bcdb79f</td>\n",
       "      <td>2019-08-06 04:58:14.615000+00:00</td>\n",
       "      <td>{\"description\":\"Let's build a sandcastle! Firs...</td>\n",
       "      <td>0006a69f</td>\n",
       "      <td>2</td>\n",
       "      <td>3010</td>\n",
       "      <td>29</td>\n",
       "      <td>Sandcastle Builder (Activity)</td>\n",
       "      <td>Activity</td>\n",
       "      <td>MAGMAPEAK</td>\n",
       "      <td>NaN</td>\n",
       "      <td>NaN</td>\n",
       "      <td>NaN</td>\n",
       "      <td>NaN</td>\n",
       "      <td>2019-08-06</td>\n",
       "      <td>4</td>\n",
       "      <td>Tuesday</td>\n",
       "    </tr>\n",
       "    <tr>\n",
       "      <th>1542</th>\n",
       "      <td>1325467d</td>\n",
       "      <td>2b9d5af79bcdb79f</td>\n",
       "      <td>2019-08-06 04:58:16.680000+00:00</td>\n",
       "      <td>{\"coordinates\":{\"x\":273,\"y\":650,\"stage_width\":...</td>\n",
       "      <td>0006a69f</td>\n",
       "      <td>3</td>\n",
       "      <td>4070</td>\n",
       "      <td>2137</td>\n",
       "      <td>Sandcastle Builder (Activity)</td>\n",
       "      <td>Activity</td>\n",
       "      <td>MAGMAPEAK</td>\n",
       "      <td>NaN</td>\n",
       "      <td>NaN</td>\n",
       "      <td>NaN</td>\n",
       "      <td>NaN</td>\n",
       "      <td>2019-08-06</td>\n",
       "      <td>4</td>\n",
       "      <td>Tuesday</td>\n",
       "    </tr>\n",
       "  </tbody>\n",
       "</table>\n",
       "</div>"
      ],
      "text/plain": [
       "      event_id      game_session                        timestamp  \\\n",
       "1538  27253bdc  34ba1a28d02ba8ba 2019-08-06 04:57:18.904000+00:00   \n",
       "1539  27253bdc  4b57c9a59474a1b9 2019-08-06 04:57:45.301000+00:00   \n",
       "1540  77261ab5  2b9d5af79bcdb79f 2019-08-06 04:58:14.538000+00:00   \n",
       "1541  b2dba42b  2b9d5af79bcdb79f 2019-08-06 04:58:14.615000+00:00   \n",
       "1542  1325467d  2b9d5af79bcdb79f 2019-08-06 04:58:16.680000+00:00   \n",
       "\n",
       "                                             event_data installation_id  \\\n",
       "1538             {\"event_code\": 2000, \"event_count\": 1}        0006a69f   \n",
       "1539             {\"event_code\": 2000, \"event_count\": 1}        0006a69f   \n",
       "1540  {\"version\":\"1.0\",\"event_count\":1,\"game_time\":0...        0006a69f   \n",
       "1541  {\"description\":\"Let's build a sandcastle! Firs...        0006a69f   \n",
       "1542  {\"coordinates\":{\"x\":273,\"y\":650,\"stage_width\":...        0006a69f   \n",
       "\n",
       "      event_count  event_code  game_time                          title  \\\n",
       "1538            1        2000          0        Welcome to Lost Lagoon!   \n",
       "1539            1        2000          0           Magma Peak - Level 1   \n",
       "1540            1        2000          0  Sandcastle Builder (Activity)   \n",
       "1541            2        3010         29  Sandcastle Builder (Activity)   \n",
       "1542            3        4070       2137  Sandcastle Builder (Activity)   \n",
       "\n",
       "          type      world  num_correct  num_incorrect  accuracy  \\\n",
       "1538      Clip       NONE          NaN            NaN       NaN   \n",
       "1539      Clip  MAGMAPEAK          NaN            NaN       NaN   \n",
       "1540  Activity  MAGMAPEAK          NaN            NaN       NaN   \n",
       "1541  Activity  MAGMAPEAK          NaN            NaN       NaN   \n",
       "1542  Activity  MAGMAPEAK          NaN            NaN       NaN   \n",
       "\n",
       "      accuracy_group        date  hour  weekday  \n",
       "1538             NaN  2019-08-06     4  Tuesday  \n",
       "1539             NaN  2019-08-06     4  Tuesday  \n",
       "1540             NaN  2019-08-06     4  Tuesday  \n",
       "1541             NaN  2019-08-06     4  Tuesday  \n",
       "1542             NaN  2019-08-06     4  Tuesday  "
      ]
     },
     "execution_count": 98,
     "metadata": {},
     "output_type": "execute_result"
    }
   ],
   "source": [
    "df.head()"
   ]
  },
  {
   "cell_type": "markdown",
   "metadata": {},
   "source": [
    "## Create time_series df"
   ]
  },
  {
   "cell_type": "code",
   "execution_count": 42,
   "metadata": {},
   "outputs": [],
   "source": [
    "import statsmodels.api as sm"
   ]
  },
  {
   "cell_type": "code",
   "execution_count": 99,
   "metadata": {},
   "outputs": [],
   "source": [
    "time_series = df.set_index(keys='timestamp')"
   ]
  },
  {
   "cell_type": "code",
   "execution_count": 100,
   "metadata": {},
   "outputs": [],
   "source": [
    "time_series = time_series.sort_values(by='date')"
   ]
  },
  {
   "cell_type": "code",
   "execution_count": 101,
   "metadata": {},
   "outputs": [
    {
     "data": {
      "text/html": [
       "<div>\n",
       "<style scoped>\n",
       "    .dataframe tbody tr th:only-of-type {\n",
       "        vertical-align: middle;\n",
       "    }\n",
       "\n",
       "    .dataframe tbody tr th {\n",
       "        vertical-align: top;\n",
       "    }\n",
       "\n",
       "    .dataframe thead th {\n",
       "        text-align: right;\n",
       "    }\n",
       "</style>\n",
       "<table border=\"1\" class=\"dataframe\">\n",
       "  <thead>\n",
       "    <tr style=\"text-align: right;\">\n",
       "      <th></th>\n",
       "      <th>event_id</th>\n",
       "      <th>game_session</th>\n",
       "      <th>event_data</th>\n",
       "      <th>installation_id</th>\n",
       "      <th>event_count</th>\n",
       "      <th>event_code</th>\n",
       "      <th>game_time</th>\n",
       "      <th>title</th>\n",
       "      <th>type</th>\n",
       "      <th>world</th>\n",
       "      <th>num_correct</th>\n",
       "      <th>num_incorrect</th>\n",
       "      <th>accuracy</th>\n",
       "      <th>accuracy_group</th>\n",
       "      <th>date</th>\n",
       "      <th>hour</th>\n",
       "      <th>weekday</th>\n",
       "    </tr>\n",
       "    <tr>\n",
       "      <th>timestamp</th>\n",
       "      <th></th>\n",
       "      <th></th>\n",
       "      <th></th>\n",
       "      <th></th>\n",
       "      <th></th>\n",
       "      <th></th>\n",
       "      <th></th>\n",
       "      <th></th>\n",
       "      <th></th>\n",
       "      <th></th>\n",
       "      <th></th>\n",
       "      <th></th>\n",
       "      <th></th>\n",
       "      <th></th>\n",
       "      <th></th>\n",
       "      <th></th>\n",
       "      <th></th>\n",
       "    </tr>\n",
       "  </thead>\n",
       "  <tbody>\n",
       "    <tr>\n",
       "      <th>2019-07-23 22:52:29.757000+00:00</th>\n",
       "      <td>93b353f2</td>\n",
       "      <td>50628b132a6ebb2d</td>\n",
       "      <td>{\"correct\":false,\"pillars\":[1,3,2],\"event_coun...</td>\n",
       "      <td>8123bc13</td>\n",
       "      <td>34</td>\n",
       "      <td>4100</td>\n",
       "      <td>28878</td>\n",
       "      <td>Chest Sorter (Assessment)</td>\n",
       "      <td>Assessment</td>\n",
       "      <td>CRYSTALCAVES</td>\n",
       "      <td>1.0</td>\n",
       "      <td>1.0</td>\n",
       "      <td>0.5</td>\n",
       "      <td>2.0</td>\n",
       "      <td>2019-07-23</td>\n",
       "      <td>22</td>\n",
       "      <td>Tuesday</td>\n",
       "    </tr>\n",
       "    <tr>\n",
       "      <th>2019-07-23 23:07:01.042000+00:00</th>\n",
       "      <td>76babcde</td>\n",
       "      <td>9b425d845c833e87</td>\n",
       "      <td>{\"coordinates\":{\"x\":565,\"y\":135,\"stage_width\":...</td>\n",
       "      <td>8182dff8</td>\n",
       "      <td>123</td>\n",
       "      <td>4070</td>\n",
       "      <td>177984</td>\n",
       "      <td>Dino Dive</td>\n",
       "      <td>Game</td>\n",
       "      <td>MAGMAPEAK</td>\n",
       "      <td>NaN</td>\n",
       "      <td>NaN</td>\n",
       "      <td>NaN</td>\n",
       "      <td>NaN</td>\n",
       "      <td>2019-07-23</td>\n",
       "      <td>23</td>\n",
       "      <td>Tuesday</td>\n",
       "    </tr>\n",
       "  </tbody>\n",
       "</table>\n",
       "</div>"
      ],
      "text/plain": [
       "                                  event_id      game_session  \\\n",
       "timestamp                                                      \n",
       "2019-07-23 22:52:29.757000+00:00  93b353f2  50628b132a6ebb2d   \n",
       "2019-07-23 23:07:01.042000+00:00  76babcde  9b425d845c833e87   \n",
       "\n",
       "                                                                         event_data  \\\n",
       "timestamp                                                                             \n",
       "2019-07-23 22:52:29.757000+00:00  {\"correct\":false,\"pillars\":[1,3,2],\"event_coun...   \n",
       "2019-07-23 23:07:01.042000+00:00  {\"coordinates\":{\"x\":565,\"y\":135,\"stage_width\":...   \n",
       "\n",
       "                                 installation_id  event_count  event_code  \\\n",
       "timestamp                                                                   \n",
       "2019-07-23 22:52:29.757000+00:00        8123bc13           34        4100   \n",
       "2019-07-23 23:07:01.042000+00:00        8182dff8          123        4070   \n",
       "\n",
       "                                  game_time                      title  \\\n",
       "timestamp                                                                \n",
       "2019-07-23 22:52:29.757000+00:00      28878  Chest Sorter (Assessment)   \n",
       "2019-07-23 23:07:01.042000+00:00     177984                  Dino Dive   \n",
       "\n",
       "                                        type         world  num_correct  \\\n",
       "timestamp                                                                 \n",
       "2019-07-23 22:52:29.757000+00:00  Assessment  CRYSTALCAVES          1.0   \n",
       "2019-07-23 23:07:01.042000+00:00        Game     MAGMAPEAK          NaN   \n",
       "\n",
       "                                  num_incorrect  accuracy  accuracy_group  \\\n",
       "timestamp                                                                   \n",
       "2019-07-23 22:52:29.757000+00:00            1.0       0.5             2.0   \n",
       "2019-07-23 23:07:01.042000+00:00            NaN       NaN             NaN   \n",
       "\n",
       "                                        date  hour  weekday  \n",
       "timestamp                                                    \n",
       "2019-07-23 22:52:29.757000+00:00  2019-07-23    22  Tuesday  \n",
       "2019-07-23 23:07:01.042000+00:00  2019-07-23    23  Tuesday  "
      ]
     },
     "execution_count": 101,
     "metadata": {},
     "output_type": "execute_result"
    }
   ],
   "source": [
    "time_series.head(2)"
   ]
  },
  {
   "cell_type": "markdown",
   "metadata": {},
   "source": [
    "### What 'types' are kids doing each weekday?"
   ]
  },
  {
   "cell_type": "code",
   "execution_count": 102,
   "metadata": {},
   "outputs": [
    {
     "data": {
      "image/png": "[encoded data removed]",
      "text/plain": [
       "<Figure size 864x288 with 1 Axes>"
      ]
     },
     "metadata": {
      "needs_background": "light"
     },
     "output_type": "display_data"
    }
   ],
   "source": [
    "time_series.groupby(['weekday', 'type'])['type'].count().plot(kind='bar', figsize=(12,4))\n",
    "\n",
    "plt.title('Type by Weekday')\n",
    "plt.show()"
   ]
  },
  {
   "cell_type": "markdown",
   "metadata": {},
   "source": [
    "### Avg game_time vs Median game_time by weekday\n",
    "\n",
    "- Using the mean or median change the day with highest times per game"
   ]
  },
  {
   "cell_type": "code",
   "execution_count": 108,
   "metadata": {},
   "outputs": [
    {
     "data": {
      "image/png": "[encoded data removed]",
      "text/plain": [
       "<Figure size 432x288 with 1 Axes>"
      ]
     },
     "metadata": {
      "needs_background": "light"
     },
     "output_type": "display_data"
    }
   ],
   "source": [
    "time_series.groupby('weekday').game_time.mean().plot()\n",
    "\n",
    "plt.show()"
   ]
  },
  {
   "cell_type": "code",
   "execution_count": 107,
   "metadata": {},
   "outputs": [
    {
     "data": {
      "image/png": "[encoded data removed]",
      "text/plain": [
       "<Figure size 432x288 with 1 Axes>"
      ]
     },
     "metadata": {
      "needs_background": "light"
     },
     "output_type": "display_data"
    }
   ],
   "source": [
    "time_series.groupby('weekday').game_time.median().plot()\n",
    "\n",
    "plt.show()"
   ]
  },
  {
   "cell_type": "markdown",
   "metadata": {},
   "source": [
    "### game_time using total by weekday"
   ]
  },
  {
   "cell_type": "code",
   "execution_count": 127,
   "metadata": {},
   "outputs": [
    {
     "data": {
      "image/png": "[encoded data removed]",
      "text/plain": [
       "<Figure size 432x288 with 1 Axes>"
      ]
     },
     "metadata": {
      "needs_background": "light"
     },
     "output_type": "display_data"
    }
   ],
   "source": [
    "time_series.groupby('weekday').game_time.sum().plot()\n",
    "\n",
    "plt.show()"
   ]
  },
  {
   "cell_type": "code",
   "execution_count": 128,
   "metadata": {},
   "outputs": [
    {
     "data": {
      "text/html": [
       "<div>\n",
       "<style scoped>\n",
       "    .dataframe tbody tr th:only-of-type {\n",
       "        vertical-align: middle;\n",
       "    }\n",
       "\n",
       "    .dataframe tbody tr th {\n",
       "        vertical-align: top;\n",
       "    }\n",
       "\n",
       "    .dataframe thead th {\n",
       "        text-align: right;\n",
       "    }\n",
       "</style>\n",
       "<table border=\"1\" class=\"dataframe\">\n",
       "  <thead>\n",
       "    <tr style=\"text-align: right;\">\n",
       "      <th></th>\n",
       "      <th>mean</th>\n",
       "      <th>median</th>\n",
       "      <th>sum</th>\n",
       "    </tr>\n",
       "    <tr>\n",
       "      <th>weekday</th>\n",
       "      <th></th>\n",
       "      <th></th>\n",
       "      <th></th>\n",
       "    </tr>\n",
       "  </thead>\n",
       "  <tbody>\n",
       "    <tr>\n",
       "      <th>Friday</th>\n",
       "      <td>174605.467935</td>\n",
       "      <td>68279</td>\n",
       "      <td>205908736226</td>\n",
       "    </tr>\n",
       "    <tr>\n",
       "      <th>Monday</th>\n",
       "      <td>188016.239648</td>\n",
       "      <td>70568</td>\n",
       "      <td>204565617078</td>\n",
       "    </tr>\n",
       "    <tr>\n",
       "      <th>Thursday</th>\n",
       "      <td>164942.590083</td>\n",
       "      <td>68133</td>\n",
       "      <td>185376172970</td>\n",
       "    </tr>\n",
       "    <tr>\n",
       "      <th>Wednesday</th>\n",
       "      <td>176122.697120</td>\n",
       "      <td>68665</td>\n",
       "      <td>182145212748</td>\n",
       "    </tr>\n",
       "    <tr>\n",
       "      <th>Saturday</th>\n",
       "      <td>156012.089910</td>\n",
       "      <td>70649</td>\n",
       "      <td>178931201990</td>\n",
       "    </tr>\n",
       "    <tr>\n",
       "      <th>Sunday</th>\n",
       "      <td>159851.300320</td>\n",
       "      <td>71208</td>\n",
       "      <td>175495147826</td>\n",
       "    </tr>\n",
       "    <tr>\n",
       "      <th>Tuesday</th>\n",
       "      <td>154733.086500</td>\n",
       "      <td>68424</td>\n",
       "      <td>164699135135</td>\n",
       "    </tr>\n",
       "  </tbody>\n",
       "</table>\n",
       "</div>"
      ],
      "text/plain": [
       "                    mean  median           sum\n",
       "weekday                                       \n",
       "Friday     174605.467935   68279  205908736226\n",
       "Monday     188016.239648   70568  204565617078\n",
       "Thursday   164942.590083   68133  185376172970\n",
       "Wednesday  176122.697120   68665  182145212748\n",
       "Saturday   156012.089910   70649  178931201990\n",
       "Sunday     159851.300320   71208  175495147826\n",
       "Tuesday    154733.086500   68424  164699135135"
      ]
     },
     "execution_count": 128,
     "metadata": {},
     "output_type": "execute_result"
    }
   ],
   "source": [
    "time_series.groupby('weekday').game_time.agg(['mean','median','sum']).sort_values(by='sum',ascending=False)\n"
   ]
  },
  {
   "cell_type": "markdown",
   "metadata": {},
   "source": [
    "### Check game_time for anomalies"
   ]
  },
  {
   "cell_type": "markdown",
   "metadata": {},
   "source": [
    "### Something's up with game_time and installation_id 86a712b8\n",
    "\n",
    "- This id has the max game_time of 73 hours, and it's on a Monday. It is skewing the entire distribution by weekday when using mean."
   ]
  },
  {
   "cell_type": "code",
   "execution_count": 227,
   "metadata": {},
   "outputs": [
    {
     "data": {
      "text/plain": [
       "installation_id\n",
       "0006a69f    AxesSubplot(0.125,0.125;0.775x0.755)\n",
       "0006c192    AxesSubplot(0.125,0.125;0.775x0.755)\n",
       "00129856    AxesSubplot(0.125,0.125;0.775x0.755)\n",
       "001d0ed0    AxesSubplot(0.125,0.125;0.775x0.755)\n",
       "00225f67    AxesSubplot(0.125,0.125;0.775x0.755)\n",
       "00279ac5    AxesSubplot(0.125,0.125;0.775x0.755)\n",
       "002db7e3    AxesSubplot(0.125,0.125;0.775x0.755)\n",
       "003372b0    AxesSubplot(0.125,0.125;0.775x0.755)\n",
       "004c2091    AxesSubplot(0.125,0.125;0.775x0.755)\n",
       "                            ...                 \n",
       "ff3e1e35    AxesSubplot(0.125,0.125;0.775x0.755)\n",
       "ff7fb595    AxesSubplot(0.125,0.125;0.775x0.755)\n",
       "ff882868    AxesSubplot(0.125,0.125;0.775x0.755)\n",
       "ff90db99    AxesSubplot(0.125,0.125;0.775x0.755)\n",
       "ff9305d7    AxesSubplot(0.125,0.125;0.775x0.755)\n",
       "ff9715db    AxesSubplot(0.125,0.125;0.775x0.755)\n",
       "ffc90c32    AxesSubplot(0.125,0.125;0.775x0.755)\n",
       "ffd2871d    AxesSubplot(0.125,0.125;0.775x0.755)\n",
       "ffeb0b1b    AxesSubplot(0.125,0.125;0.775x0.755)\n",
       "Name: game_time, Length: 3614, dtype: object"
      ]
     },
     "execution_count": 227,
     "metadata": {},
     "output_type": "execute_result"
    },
    {
     "data": {
      "image/png": "[encoded data removed]",
      "text/plain": [
       "<Figure size 432x288 with 1 Axes>"
      ]
     },
     "metadata": {
      "needs_background": "light"
     },
     "output_type": "display_data"
    }
   ],
   "source": [
    "# Is there more than one installation_id anomaly in game_time?\n",
    "\n",
    "df.groupby('installation_id').game_time.plot()"
   ]
  },
  {
   "cell_type": "code",
   "execution_count": 232,
   "metadata": {},
   "outputs": [
    {
     "data": {
      "text/html": [
       "<div>\n",
       "<style scoped>\n",
       "    .dataframe tbody tr th:only-of-type {\n",
       "        vertical-align: middle;\n",
       "    }\n",
       "\n",
       "    .dataframe tbody tr th {\n",
       "        vertical-align: top;\n",
       "    }\n",
       "\n",
       "    .dataframe thead th {\n",
       "        text-align: right;\n",
       "    }\n",
       "</style>\n",
       "<table border=\"1\" class=\"dataframe\">\n",
       "  <thead>\n",
       "    <tr style=\"text-align: right;\">\n",
       "      <th></th>\n",
       "      <th>installation_id</th>\n",
       "      <th>game_time</th>\n",
       "    </tr>\n",
       "  </thead>\n",
       "  <tbody>\n",
       "    <tr>\n",
       "      <th>2479711</th>\n",
       "      <td>36bd989b</td>\n",
       "      <td>306910249</td>\n",
       "    </tr>\n",
       "    <tr>\n",
       "      <th>2479710</th>\n",
       "      <td>36bd989b</td>\n",
       "      <td>306909710</td>\n",
       "    </tr>\n",
       "    <tr>\n",
       "      <th>2479709</th>\n",
       "      <td>36bd989b</td>\n",
       "      <td>306899928</td>\n",
       "    </tr>\n",
       "    <tr>\n",
       "      <th>6082037</th>\n",
       "      <td>86a712b8</td>\n",
       "      <td>265357457</td>\n",
       "    </tr>\n",
       "    <tr>\n",
       "      <th>6082038</th>\n",
       "      <td>86a712b8</td>\n",
       "      <td>265357457</td>\n",
       "    </tr>\n",
       "    <tr>\n",
       "      <th>6082036</th>\n",
       "      <td>86a712b8</td>\n",
       "      <td>265357457</td>\n",
       "    </tr>\n",
       "    <tr>\n",
       "      <th>6082035</th>\n",
       "      <td>86a712b8</td>\n",
       "      <td>265354490</td>\n",
       "    </tr>\n",
       "    <tr>\n",
       "      <th>6082034</th>\n",
       "      <td>86a712b8</td>\n",
       "      <td>265351007</td>\n",
       "    </tr>\n",
       "    <tr>\n",
       "      <th>6082033</th>\n",
       "      <td>86a712b8</td>\n",
       "      <td>265350508</td>\n",
       "    </tr>\n",
       "    <tr>\n",
       "      <th>...</th>\n",
       "      <td>...</td>\n",
       "      <td>...</td>\n",
       "    </tr>\n",
       "    <tr>\n",
       "      <th>6082000</th>\n",
       "      <td>86a712b8</td>\n",
       "      <td>265286203</td>\n",
       "    </tr>\n",
       "    <tr>\n",
       "      <th>6081999</th>\n",
       "      <td>86a712b8</td>\n",
       "      <td>265280252</td>\n",
       "    </tr>\n",
       "    <tr>\n",
       "      <th>6377894</th>\n",
       "      <td>8d91042a</td>\n",
       "      <td>181107214</td>\n",
       "    </tr>\n",
       "    <tr>\n",
       "      <th>6377898</th>\n",
       "      <td>8d91042a</td>\n",
       "      <td>181107214</td>\n",
       "    </tr>\n",
       "    <tr>\n",
       "      <th>6377897</th>\n",
       "      <td>8d91042a</td>\n",
       "      <td>181107214</td>\n",
       "    </tr>\n",
       "    <tr>\n",
       "      <th>6377893</th>\n",
       "      <td>8d91042a</td>\n",
       "      <td>181107214</td>\n",
       "    </tr>\n",
       "    <tr>\n",
       "      <th>6377896</th>\n",
       "      <td>8d91042a</td>\n",
       "      <td>181107214</td>\n",
       "    </tr>\n",
       "    <tr>\n",
       "      <th>6377895</th>\n",
       "      <td>8d91042a</td>\n",
       "      <td>181107214</td>\n",
       "    </tr>\n",
       "    <tr>\n",
       "      <th>7334277</th>\n",
       "      <td>a31288d6</td>\n",
       "      <td>177239447</td>\n",
       "    </tr>\n",
       "  </tbody>\n",
       "</table>\n",
       "<p>50 rows × 2 columns</p>\n",
       "</div>"
      ],
      "text/plain": [
       "        installation_id  game_time\n",
       "2479711        36bd989b  306910249\n",
       "2479710        36bd989b  306909710\n",
       "2479709        36bd989b  306899928\n",
       "6082037        86a712b8  265357457\n",
       "6082038        86a712b8  265357457\n",
       "6082036        86a712b8  265357457\n",
       "6082035        86a712b8  265354490\n",
       "6082034        86a712b8  265351007\n",
       "6082033        86a712b8  265350508\n",
       "...                 ...        ...\n",
       "6082000        86a712b8  265286203\n",
       "6081999        86a712b8  265280252\n",
       "6377894        8d91042a  181107214\n",
       "6377898        8d91042a  181107214\n",
       "6377897        8d91042a  181107214\n",
       "6377893        8d91042a  181107214\n",
       "6377896        8d91042a  181107214\n",
       "6377895        8d91042a  181107214\n",
       "7334277        a31288d6  177239447\n",
       "\n",
       "[50 rows x 2 columns]"
      ]
     },
     "execution_count": 232,
     "metadata": {},
     "output_type": "execute_result"
    }
   ],
   "source": [
    "df[['installation_id', 'game_time']].sort_values('game_time', ascending=False).head(50)"
   ]
  },
  {
   "cell_type": "code",
   "execution_count": 245,
   "metadata": {},
   "outputs": [],
   "source": [
    "Q1 = df['game_time'].quantile(q=.25)\n",
    "Q3 = df['game_time'].quantile(q=.75)\n",
    "IQR = Q3 - Q1"
   ]
  },
  {
   "cell_type": "code",
   "execution_count": 252,
   "metadata": {},
   "outputs": [
    {
     "data": {
      "text/plain": [
       "118640.0"
      ]
     },
     "execution_count": 252,
     "metadata": {},
     "output_type": "execute_result"
    }
   ],
   "source": [
    "IQR"
   ]
  },
  {
   "cell_type": "code",
   "execution_count": 265,
   "metadata": {},
   "outputs": [
    {
     "data": {
      "text/plain": [
       "(-306910.25, 38363781.125]       7733960\n",
       "(38363781.125, 76727562.25]          544\n",
       "(230182686.75, 268546467.875]         40\n",
       "(153455124.5, 191818905.625]          11\n",
       "(268546467.875, 306910249.0]           3\n",
       "(191818905.625, 230182686.75]          0\n",
       "(115091343.375, 153455124.5]           0\n",
       "(76727562.25, 115091343.375]           0\n",
       "Name: game_time, dtype: int64"
      ]
     },
     "execution_count": 265,
     "metadata": {},
     "output_type": "execute_result"
    }
   ],
   "source": [
    "df.game_time.value_counts(bins=8)"
   ]
  },
  {
   "cell_type": "code",
   "execution_count": 242,
   "metadata": {},
   "outputs": [
    {
     "data": {
      "image/png": "[encoded data removed]",
      "text/plain": [
       "<Figure size 432x288 with 1 Axes>"
      ]
     },
     "metadata": {
      "needs_background": "light"
     },
     "output_type": "display_data"
    }
   ],
   "source": [
    "df.game_time.plot.box()\n",
    "\n",
    "plt.title('Boxplot of game_time')\n",
    "plt.show()"
   ]
  },
  {
   "cell_type": "code",
   "execution_count": 259,
   "metadata": {},
   "outputs": [
    {
     "data": {
      "text/plain": [
       "<matplotlib.axes._subplots.AxesSubplot at 0x1a3e53ac88>"
      ]
     },
     "execution_count": 259,
     "metadata": {},
     "output_type": "execute_result"
    },
    {
     "data": {
      "image/png": "[encoded data removed]",
      "text/plain": [
       "<Figure size 432x288 with 1 Axes>"
      ]
     },
     "metadata": {
      "needs_background": "light"
     },
     "output_type": "display_data"
    }
   ],
   "source": [
    "df.game_time.plot.hist()"
   ]
  },
  {
   "cell_type": "code",
   "execution_count": 251,
   "metadata": {},
   "outputs": [
    {
     "data": {
      "text/plain": [
       "-148689.0"
      ]
     },
     "execution_count": 251,
     "metadata": {},
     "output_type": "execute_result"
    }
   ],
   "source": [
    "lower = Q1 - (1.5*IQR)\n",
    "lower"
   ]
  },
  {
   "cell_type": "code",
   "execution_count": 266,
   "metadata": {},
   "outputs": [
    {
     "data": {
      "text/plain": [
       "325871.0"
      ]
     },
     "execution_count": 266,
     "metadata": {},
     "output_type": "execute_result"
    }
   ],
   "source": [
    "upper = Q3 + (1.5*IQR)\n",
    "upper"
   ]
  },
  {
   "cell_type": "code",
   "execution_count": 267,
   "metadata": {},
   "outputs": [],
   "source": [
    "no_out = df[(df['game_time'] <= upper) & (df['game_time'] > 0)]"
   ]
  },
  {
   "cell_type": "code",
   "execution_count": 268,
   "metadata": {},
   "outputs": [
    {
     "data": {
      "text/plain": [
       "(-321.868, 32590.7]     1936150\n",
       "(32590.7, 65177.4]      1578472\n",
       "(65177.4, 97764.1]      1052775\n",
       "(97764.1, 130350.8]      738165\n",
       "(130350.8, 162937.5]     515186\n",
       "(162937.5, 195524.2]     355715\n",
       "(195524.2, 228110.9]     261265\n",
       "(228110.9, 260697.6]     195367\n",
       "(260697.6, 293284.3]     150433\n",
       "(293284.3, 325871.0]     118489\n",
       "Name: game_time, dtype: int64"
      ]
     },
     "execution_count": 268,
     "metadata": {},
     "output_type": "execute_result"
    }
   ],
   "source": [
    "no_out.game_time.value_counts(bins=10)"
   ]
  },
  {
   "cell_type": "code",
   "execution_count": 269,
   "metadata": {},
   "outputs": [
    {
     "data": {
      "image/png": "[encoded data removed]",
      "text/plain": [
       "<Figure size 432x288 with 1 Axes>"
      ]
     },
     "metadata": {
      "needs_background": "light"
     },
     "output_type": "display_data"
    }
   ],
   "source": [
    "no_out.game_time.plot.box()\n",
    "\n",
    "plt.title('Boxplot of game_time No Outliers')\n",
    "plt.show()"
   ]
  },
  {
   "cell_type": "code",
   "execution_count": 270,
   "metadata": {},
   "outputs": [
    {
     "data": {
      "text/plain": [
       "<matplotlib.axes._subplots.AxesSubplot at 0x1a3b5c7f60>"
      ]
     },
     "execution_count": 270,
     "metadata": {},
     "output_type": "execute_result"
    },
    {
     "data": {
      "image/png": "[encoded data removed]",
      "text/plain": [
       "<Figure size 432x288 with 1 Axes>"
      ]
     },
     "metadata": {
      "needs_background": "light"
     },
     "output_type": "display_data"
    }
   ],
   "source": [
    "no_out.game_time.plot.hist()"
   ]
  },
  {
   "cell_type": "code",
   "execution_count": 271,
   "metadata": {},
   "outputs": [
    {
     "data": {
      "text/plain": [
       "installation_id\n",
       "0006a69f    AxesSubplot(0.125,0.125;0.775x0.755)\n",
       "0006c192    AxesSubplot(0.125,0.125;0.775x0.755)\n",
       "00129856    AxesSubplot(0.125,0.125;0.775x0.755)\n",
       "001d0ed0    AxesSubplot(0.125,0.125;0.775x0.755)\n",
       "00225f67    AxesSubplot(0.125,0.125;0.775x0.755)\n",
       "00279ac5    AxesSubplot(0.125,0.125;0.775x0.755)\n",
       "002db7e3    AxesSubplot(0.125,0.125;0.775x0.755)\n",
       "003372b0    AxesSubplot(0.125,0.125;0.775x0.755)\n",
       "004c2091    AxesSubplot(0.125,0.125;0.775x0.755)\n",
       "                            ...                 \n",
       "ff3e1e35    AxesSubplot(0.125,0.125;0.775x0.755)\n",
       "ff7fb595    AxesSubplot(0.125,0.125;0.775x0.755)\n",
       "ff882868    AxesSubplot(0.125,0.125;0.775x0.755)\n",
       "ff90db99    AxesSubplot(0.125,0.125;0.775x0.755)\n",
       "ff9305d7    AxesSubplot(0.125,0.125;0.775x0.755)\n",
       "ff9715db    AxesSubplot(0.125,0.125;0.775x0.755)\n",
       "ffc90c32    AxesSubplot(0.125,0.125;0.775x0.755)\n",
       "ffd2871d    AxesSubplot(0.125,0.125;0.775x0.755)\n",
       "ffeb0b1b    AxesSubplot(0.125,0.125;0.775x0.755)\n",
       "Name: game_time, Length: 3614, dtype: object"
      ]
     },
     "execution_count": 271,
     "metadata": {},
     "output_type": "execute_result"
    },
    {
     "data": {
      "image/png": "[encoded data removed]",
      "text/plain": [
       "<Figure size 432x288 with 1 Axes>"
      ]
     },
     "metadata": {
      "needs_background": "light"
     },
     "output_type": "display_data"
    }
   ],
   "source": [
    "no_out.groupby('installation_id').game_time.plot()"
   ]
  },
  {
   "cell_type": "markdown",
   "metadata": {},
   "source": [
    "### How many installation_ids are lost by removing game_time outliers?"
   ]
  },
  {
   "cell_type": "code",
   "execution_count": 276,
   "metadata": {},
   "outputs": [
    {
     "data": {
      "text/plain": [
       "3614"
      ]
     },
     "execution_count": 276,
     "metadata": {},
     "output_type": "execute_result"
    }
   ],
   "source": [
    "df.installation_id.nunique()"
   ]
  },
  {
   "cell_type": "code",
   "execution_count": 279,
   "metadata": {},
   "outputs": [
    {
     "data": {
      "text/plain": [
       "(7734558, 18)"
      ]
     },
     "execution_count": 279,
     "metadata": {},
     "output_type": "execute_result"
    }
   ],
   "source": [
    "df.shape"
   ]
  },
  {
   "cell_type": "code",
   "execution_count": 277,
   "metadata": {},
   "outputs": [
    {
     "data": {
      "text/plain": [
       "3614"
      ]
     },
     "execution_count": 277,
     "metadata": {},
     "output_type": "execute_result"
    }
   ],
   "source": [
    "no_out.installation_id.nunique()"
   ]
  },
  {
   "cell_type": "code",
   "execution_count": 280,
   "metadata": {},
   "outputs": [
    {
     "data": {
      "text/plain": [
       "(7734558, 18)"
      ]
     },
     "execution_count": 280,
     "metadata": {},
     "output_type": "execute_result"
    }
   ],
   "source": [
    "df.shape"
   ]
  },
  {
   "cell_type": "markdown",
   "metadata": {},
   "source": [
    "### Avg event_count vs Median event_count by weekday"
   ]
  },
  {
   "cell_type": "code",
   "execution_count": 109,
   "metadata": {},
   "outputs": [
    {
     "data": {
      "image/png": "[encoded data removed]",
      "text/plain": [
       "<Figure size 432x288 with 1 Axes>"
      ]
     },
     "metadata": {
      "needs_background": "light"
     },
     "output_type": "display_data"
    }
   ],
   "source": [
    "time_series.groupby('weekday').event_count.mean().plot()\n",
    "\n",
    "plt.show()"
   ]
  },
  {
   "cell_type": "code",
   "execution_count": 110,
   "metadata": {},
   "outputs": [
    {
     "data": {
      "image/png": "[encoded data removed]",
      "text/plain": [
       "<Figure size 432x288 with 1 Axes>"
      ]
     },
     "metadata": {
      "needs_background": "light"
     },
     "output_type": "display_data"
    }
   ],
   "source": [
    "time_series.groupby('weekday').event_count.median().plot()\n",
    "\n",
    "plt.show()"
   ]
  },
  {
   "cell_type": "markdown",
   "metadata": {},
   "source": [
    "### What day of the week are the most users logging in?"
   ]
  },
  {
   "cell_type": "code",
   "execution_count": 126,
   "metadata": {},
   "outputs": [
    {
     "name": "stdout",
     "output_type": "stream",
     "text": [
      "weekday\n",
      "Friday       1587\n",
      "Monday       1455\n",
      "Saturday     1287\n",
      "Sunday       1256\n",
      "Thursday     1526\n",
      "Tuesday      1450\n",
      "Wednesday    1434\n",
      "Name: installation_id, dtype: int64\n"
     ]
    },
    {
     "data": {
      "text/plain": [
       "<matplotlib.axes._subplots.AxesSubplot at 0x1a57d34400>"
      ]
     },
     "execution_count": 126,
     "metadata": {},
     "output_type": "execute_result"
    },
    {
     "data": {
      "image/png": "[encoded data removed]",
      "text/plain": [
       "<Figure size 432x288 with 1 Axes>"
      ]
     },
     "metadata": {
      "needs_background": "light"
     },
     "output_type": "display_data"
    }
   ],
   "source": [
    "print(time_series.groupby('weekday').installation_id.nunique())\n",
    "time_series.groupby('weekday').installation_id.nunique().plot()"
   ]
  },
  {
   "cell_type": "markdown",
   "metadata": {},
   "source": [
    "### set dates"
   ]
  },
  {
   "cell_type": "code",
   "execution_count": 112,
   "metadata": {
    "scrolled": true
   },
   "outputs": [
    {
     "data": {
      "text/html": [
       "<div>\n",
       "<style scoped>\n",
       "    .dataframe tbody tr th:only-of-type {\n",
       "        vertical-align: middle;\n",
       "    }\n",
       "\n",
       "    .dataframe tbody tr th {\n",
       "        vertical-align: top;\n",
       "    }\n",
       "\n",
       "    .dataframe thead th {\n",
       "        text-align: right;\n",
       "    }\n",
       "</style>\n",
       "<table border=\"1\" class=\"dataframe\">\n",
       "  <thead>\n",
       "    <tr style=\"text-align: right;\">\n",
       "      <th></th>\n",
       "      <th>event_count</th>\n",
       "      <th>event_code</th>\n",
       "      <th>game_time</th>\n",
       "      <th>num_correct</th>\n",
       "      <th>num_incorrect</th>\n",
       "      <th>accuracy</th>\n",
       "      <th>accuracy_group</th>\n",
       "      <th>hour</th>\n",
       "    </tr>\n",
       "    <tr>\n",
       "      <th>timestamp</th>\n",
       "      <th></th>\n",
       "      <th></th>\n",
       "      <th></th>\n",
       "      <th></th>\n",
       "      <th></th>\n",
       "      <th></th>\n",
       "      <th></th>\n",
       "      <th></th>\n",
       "    </tr>\n",
       "  </thead>\n",
       "  <tbody>\n",
       "    <tr>\n",
       "      <th>2019-07-23 00:00:00+00:00</th>\n",
       "      <td>371152</td>\n",
       "      <td>15662703</td>\n",
       "      <td>527801810</td>\n",
       "      <td>313.0</td>\n",
       "      <td>440.0</td>\n",
       "      <td>201.000000</td>\n",
       "      <td>672.0</td>\n",
       "      <td>91487</td>\n",
       "    </tr>\n",
       "    <tr>\n",
       "      <th>2019-07-24 00:00:00+00:00</th>\n",
       "      <td>3355907</td>\n",
       "      <td>113570024</td>\n",
       "      <td>4908459666</td>\n",
       "      <td>2096.0</td>\n",
       "      <td>18908.0</td>\n",
       "      <td>1318.533333</td>\n",
       "      <td>4334.0</td>\n",
       "      <td>522313</td>\n",
       "    </tr>\n",
       "    <tr>\n",
       "      <th>2019-07-25 00:00:00+00:00</th>\n",
       "      <td>4799653</td>\n",
       "      <td>188146846</td>\n",
       "      <td>7416147892</td>\n",
       "      <td>3821.0</td>\n",
       "      <td>19903.0</td>\n",
       "      <td>2538.686905</td>\n",
       "      <td>8226.0</td>\n",
       "      <td>862135</td>\n",
       "    </tr>\n",
       "    <tr>\n",
       "      <th>2019-07-26 00:00:00+00:00</th>\n",
       "      <td>8940006</td>\n",
       "      <td>231620910</td>\n",
       "      <td>22206818085</td>\n",
       "      <td>4999.0</td>\n",
       "      <td>15530.0</td>\n",
       "      <td>3116.489899</td>\n",
       "      <td>10464.0</td>\n",
       "      <td>960669</td>\n",
       "    </tr>\n",
       "    <tr>\n",
       "      <th>2019-07-27 00:00:00+00:00</th>\n",
       "      <td>5205807</td>\n",
       "      <td>227338904</td>\n",
       "      <td>6931591045</td>\n",
       "      <td>6041.0</td>\n",
       "      <td>21004.0</td>\n",
       "      <td>3868.279899</td>\n",
       "      <td>12896.0</td>\n",
       "      <td>931022</td>\n",
       "    </tr>\n",
       "    <tr>\n",
       "      <th>2019-07-28 00:00:00+00:00</th>\n",
       "      <td>6474188</td>\n",
       "      <td>219518243</td>\n",
       "      <td>9923308147</td>\n",
       "      <td>5566.0</td>\n",
       "      <td>33400.0</td>\n",
       "      <td>3981.334848</td>\n",
       "      <td>13097.0</td>\n",
       "      <td>807390</td>\n",
       "    </tr>\n",
       "    <tr>\n",
       "      <th>2019-07-29 00:00:00+00:00</th>\n",
       "      <td>7190925</td>\n",
       "      <td>277434597</td>\n",
       "      <td>10475641969</td>\n",
       "      <td>6444.0</td>\n",
       "      <td>20259.0</td>\n",
       "      <td>4508.291667</td>\n",
       "      <td>14453.0</td>\n",
       "      <td>1218313</td>\n",
       "    </tr>\n",
       "    <tr>\n",
       "      <th>2019-07-30 00:00:00+00:00</th>\n",
       "      <td>8785234</td>\n",
       "      <td>286094226</td>\n",
       "      <td>12052788186</td>\n",
       "      <td>5771.0</td>\n",
       "      <td>46196.0</td>\n",
       "      <td>3359.111024</td>\n",
       "      <td>11574.0</td>\n",
       "      <td>1192114</td>\n",
       "    </tr>\n",
       "    <tr>\n",
       "      <th>2019-07-31 00:00:00+00:00</th>\n",
       "      <td>8932944</td>\n",
       "      <td>332316776</td>\n",
       "      <td>15347178407</td>\n",
       "      <td>8032.0</td>\n",
       "      <td>34166.0</td>\n",
       "      <td>5356.894643</td>\n",
       "      <td>17735.0</td>\n",
       "      <td>1390049</td>\n",
       "    </tr>\n",
       "    <tr>\n",
       "      <th>...</th>\n",
       "      <td>...</td>\n",
       "      <td>...</td>\n",
       "      <td>...</td>\n",
       "      <td>...</td>\n",
       "      <td>...</td>\n",
       "      <td>...</td>\n",
       "      <td>...</td>\n",
       "      <td>...</td>\n",
       "    </tr>\n",
       "    <tr>\n",
       "      <th>2019-10-06 00:00:00+00:00</th>\n",
       "      <td>13110428</td>\n",
       "      <td>418638562</td>\n",
       "      <td>19248181472</td>\n",
       "      <td>8813.0</td>\n",
       "      <td>40712.0</td>\n",
       "      <td>5907.923016</td>\n",
       "      <td>19332.0</td>\n",
       "      <td>1791814</td>\n",
       "    </tr>\n",
       "    <tr>\n",
       "      <th>2019-10-07 00:00:00+00:00</th>\n",
       "      <td>13071553</td>\n",
       "      <td>343620564</td>\n",
       "      <td>17096095124</td>\n",
       "      <td>6852.0</td>\n",
       "      <td>28652.0</td>\n",
       "      <td>4504.571520</td>\n",
       "      <td>14991.0</td>\n",
       "      <td>1550732</td>\n",
       "    </tr>\n",
       "    <tr>\n",
       "      <th>2019-10-08 00:00:00+00:00</th>\n",
       "      <td>10304915</td>\n",
       "      <td>357718352</td>\n",
       "      <td>15037271295</td>\n",
       "      <td>5888.0</td>\n",
       "      <td>28115.0</td>\n",
       "      <td>4310.237302</td>\n",
       "      <td>13912.0</td>\n",
       "      <td>1570346</td>\n",
       "    </tr>\n",
       "    <tr>\n",
       "      <th>2019-10-09 00:00:00+00:00</th>\n",
       "      <td>6968997</td>\n",
       "      <td>281766678</td>\n",
       "      <td>13052712593</td>\n",
       "      <td>6163.0</td>\n",
       "      <td>17078.0</td>\n",
       "      <td>4659.966667</td>\n",
       "      <td>14713.0</td>\n",
       "      <td>1174348</td>\n",
       "    </tr>\n",
       "    <tr>\n",
       "      <th>2019-10-10 00:00:00+00:00</th>\n",
       "      <td>7296053</td>\n",
       "      <td>321975996</td>\n",
       "      <td>11469385964</td>\n",
       "      <td>8551.0</td>\n",
       "      <td>21551.0</td>\n",
       "      <td>5771.391667</td>\n",
       "      <td>18988.0</td>\n",
       "      <td>1331183</td>\n",
       "    </tr>\n",
       "    <tr>\n",
       "      <th>2019-10-11 00:00:00+00:00</th>\n",
       "      <td>8293280</td>\n",
       "      <td>344642568</td>\n",
       "      <td>15540174432</td>\n",
       "      <td>9062.0</td>\n",
       "      <td>32346.0</td>\n",
       "      <td>5973.224206</td>\n",
       "      <td>19515.0</td>\n",
       "      <td>1462775</td>\n",
       "    </tr>\n",
       "    <tr>\n",
       "      <th>2019-10-12 00:00:00+00:00</th>\n",
       "      <td>7593674</td>\n",
       "      <td>302907456</td>\n",
       "      <td>11649140899</td>\n",
       "      <td>9049.0</td>\n",
       "      <td>39660.0</td>\n",
       "      <td>5982.069362</td>\n",
       "      <td>20140.0</td>\n",
       "      <td>1269147</td>\n",
       "    </tr>\n",
       "    <tr>\n",
       "      <th>2019-10-13 00:00:00+00:00</th>\n",
       "      <td>5848078</td>\n",
       "      <td>257735845</td>\n",
       "      <td>9440544423</td>\n",
       "      <td>7683.0</td>\n",
       "      <td>26243.0</td>\n",
       "      <td>4970.473088</td>\n",
       "      <td>16517.0</td>\n",
       "      <td>1049559</td>\n",
       "    </tr>\n",
       "    <tr>\n",
       "      <th>2019-10-14 00:00:00+00:00</th>\n",
       "      <td>7350461</td>\n",
       "      <td>318486574</td>\n",
       "      <td>15744453821</td>\n",
       "      <td>7760.0</td>\n",
       "      <td>27722.0</td>\n",
       "      <td>5117.309829</td>\n",
       "      <td>16951.0</td>\n",
       "      <td>1140804</td>\n",
       "    </tr>\n",
       "  </tbody>\n",
       "</table>\n",
       "<p>84 rows × 8 columns</p>\n",
       "</div>"
      ],
      "text/plain": [
       "                           event_count  event_code    game_time  num_correct  \\\n",
       "timestamp                                                                      \n",
       "2019-07-23 00:00:00+00:00       371152    15662703    527801810        313.0   \n",
       "2019-07-24 00:00:00+00:00      3355907   113570024   4908459666       2096.0   \n",
       "2019-07-25 00:00:00+00:00      4799653   188146846   7416147892       3821.0   \n",
       "2019-07-26 00:00:00+00:00      8940006   231620910  22206818085       4999.0   \n",
       "2019-07-27 00:00:00+00:00      5205807   227338904   6931591045       6041.0   \n",
       "2019-07-28 00:00:00+00:00      6474188   219518243   9923308147       5566.0   \n",
       "2019-07-29 00:00:00+00:00      7190925   277434597  10475641969       6444.0   \n",
       "2019-07-30 00:00:00+00:00      8785234   286094226  12052788186       5771.0   \n",
       "2019-07-31 00:00:00+00:00      8932944   332316776  15347178407       8032.0   \n",
       "...                                ...         ...          ...          ...   \n",
       "2019-10-06 00:00:00+00:00     13110428   418638562  19248181472       8813.0   \n",
       "2019-10-07 00:00:00+00:00     13071553   343620564  17096095124       6852.0   \n",
       "2019-10-08 00:00:00+00:00     10304915   357718352  15037271295       5888.0   \n",
       "2019-10-09 00:00:00+00:00      6968997   281766678  13052712593       6163.0   \n",
       "2019-10-10 00:00:00+00:00      7296053   321975996  11469385964       8551.0   \n",
       "2019-10-11 00:00:00+00:00      8293280   344642568  15540174432       9062.0   \n",
       "2019-10-12 00:00:00+00:00      7593674   302907456  11649140899       9049.0   \n",
       "2019-10-13 00:00:00+00:00      5848078   257735845   9440544423       7683.0   \n",
       "2019-10-14 00:00:00+00:00      7350461   318486574  15744453821       7760.0   \n",
       "\n",
       "                           num_incorrect     accuracy  accuracy_group     hour  \n",
       "timestamp                                                                       \n",
       "2019-07-23 00:00:00+00:00          440.0   201.000000           672.0    91487  \n",
       "2019-07-24 00:00:00+00:00        18908.0  1318.533333          4334.0   522313  \n",
       "2019-07-25 00:00:00+00:00        19903.0  2538.686905          8226.0   862135  \n",
       "2019-07-26 00:00:00+00:00        15530.0  3116.489899         10464.0   960669  \n",
       "2019-07-27 00:00:00+00:00        21004.0  3868.279899         12896.0   931022  \n",
       "2019-07-28 00:00:00+00:00        33400.0  3981.334848         13097.0   807390  \n",
       "2019-07-29 00:00:00+00:00        20259.0  4508.291667         14453.0  1218313  \n",
       "2019-07-30 00:00:00+00:00        46196.0  3359.111024         11574.0  1192114  \n",
       "2019-07-31 00:00:00+00:00        34166.0  5356.894643         17735.0  1390049  \n",
       "...                                  ...          ...             ...      ...  \n",
       "2019-10-06 00:00:00+00:00        40712.0  5907.923016         19332.0  1791814  \n",
       "2019-10-07 00:00:00+00:00        28652.0  4504.571520         14991.0  1550732  \n",
       "2019-10-08 00:00:00+00:00        28115.0  4310.237302         13912.0  1570346  \n",
       "2019-10-09 00:00:00+00:00        17078.0  4659.966667         14713.0  1174348  \n",
       "2019-10-10 00:00:00+00:00        21551.0  5771.391667         18988.0  1331183  \n",
       "2019-10-11 00:00:00+00:00        32346.0  5973.224206         19515.0  1462775  \n",
       "2019-10-12 00:00:00+00:00        39660.0  5982.069362         20140.0  1269147  \n",
       "2019-10-13 00:00:00+00:00        26243.0  4970.473088         16517.0  1049559  \n",
       "2019-10-14 00:00:00+00:00        27722.0  5117.309829         16951.0  1140804  \n",
       "\n",
       "[84 rows x 8 columns]"
      ]
     },
     "execution_count": 112,
     "metadata": {},
     "output_type": "execute_result"
    }
   ],
   "source": [
    "time_series.resample('D').sum()"
   ]
  },
  {
   "cell_type": "markdown",
   "metadata": {},
   "source": [
    "### Sampled by day looking at time spent in the app."
   ]
  },
  {
   "cell_type": "code",
   "execution_count": 113,
   "metadata": {},
   "outputs": [
    {
     "data": {
      "image/png": "[encoded data removed]",
      "text/plain": [
       "<Figure size 864x288 with 1 Axes>"
      ]
     },
     "metadata": {
      "needs_background": "light"
     },
     "output_type": "display_data"
    }
   ],
   "source": [
    "time_series.resample('D').game_time.sum().plot(kind='bar', figsize=(12,4))\n",
    "\n",
    "plt.title('Total Time Spent in App by Day')\n",
    "plt.show()"
   ]
  },
  {
   "cell_type": "code",
   "execution_count": 34,
   "metadata": {},
   "outputs": [
    {
     "data": {
      "text/plain": [
       "Timestamp('2019-09-30 16:48:47.706000+0000', tz='UTC')"
      ]
     },
     "execution_count": 34,
     "metadata": {},
     "output_type": "execute_result"
    }
   ],
   "source": [
    "time_series[time_series.weekday == 'Monday'].game_time.idxmax()"
   ]
  },
  {
   "cell_type": "code",
   "execution_count": 35,
   "metadata": {},
   "outputs": [
    {
     "data": {
      "text/plain": [
       "event_id                                                    1f19558b\n",
       "session                                             ae69051432368227\n",
       "event_data         {\"media_type\":\"animation\",\"duration\":2967,\"des...\n",
       "installation_id                                             86a712b8\n",
       "event_count                                                       48\n",
       "event_code                                                      3121\n",
       "game_time                                                  265357457\n",
       "title                                               All Star Sorting\n",
       "type                                                            Game\n",
       "world                                                    TREETOPCITY\n",
       "num_correct                                                      NaN\n",
       "num_incorrect                                                    NaN\n",
       "accuracy                                                         NaN\n",
       "accuracy_group                                                   NaN\n",
       "date                                                      2019-09-30\n",
       "hour                                                              16\n",
       "weekday                                                       Monday\n",
       "Name: 2019-09-30 16:48:47.706000+00:00, dtype: object"
      ]
     },
     "execution_count": 35,
     "metadata": {},
     "output_type": "execute_result"
    }
   ],
   "source": [
    "time_series.loc['2019-09-30 16:48:47.706000+0000']"
   ]
  },
  {
   "cell_type": "markdown",
   "metadata": {},
   "source": [
    "## What is the time of day distribution by weekday?\n",
    "\n",
    "- The distributions look similar"
   ]
  },
  {
   "cell_type": "code",
   "execution_count": 129,
   "metadata": {},
   "outputs": [
    {
     "data": {
      "image/png": "[encoded data removed]",
      "text/plain": [
       "<Figure size 432x288 with 1 Axes>"
      ]
     },
     "metadata": {
      "needs_background": "light"
     },
     "output_type": "display_data"
    }
   ],
   "source": [
    "df.hour.hist()\n",
    "\n",
    "plt.title('Hour of the day by Weekday')\n",
    "plt.show()"
   ]
  },
  {
   "cell_type": "code",
   "execution_count": 66,
   "metadata": {},
   "outputs": [
    {
     "data": {
      "image/png": "[encoded data removed]",
      "text/plain": [
       "<Figure size 432x288 with 1 Axes>"
      ]
     },
     "metadata": {},
     "output_type": "display_data"
    }
   ],
   "source": [
    "monday = df[df.weekday == 'Monday'].hour\n",
    "monday.hist()\n",
    "\n",
    "plt.title('Monday Hour of Day Distribution')\n",
    "plt.show()"
   ]
  },
  {
   "cell_type": "code",
   "execution_count": 130,
   "metadata": {},
   "outputs": [
    {
     "data": {
      "image/png": "[encoded data removed]",
      "text/plain": [
       "<Figure size 432x288 with 1 Axes>"
      ]
     },
     "metadata": {
      "needs_background": "light"
     },
     "output_type": "display_data"
    }
   ],
   "source": [
    "friday = df[df.weekday == 'Friday'].hour\n",
    "friday.hist()\n",
    "\n",
    "plt.title('Friday Hour of Day Distribution')\n",
    "plt.show()"
   ]
  },
  {
   "cell_type": "code",
   "execution_count": 131,
   "metadata": {},
   "outputs": [
    {
     "data": {
      "image/png": "[encoded data removed]",
      "text/plain": [
       "<Figure size 432x288 with 1 Axes>"
      ]
     },
     "metadata": {
      "needs_background": "light"
     },
     "output_type": "display_data"
    }
   ],
   "source": [
    "saturday = df[df.weekday == 'Saturday'].hour\n",
    "saturday.hist()\n",
    "\n",
    "plt.title('Saturday Hour of Day Distribution')\n",
    "plt.show()"
   ]
  },
  {
   "cell_type": "code",
   "execution_count": 132,
   "metadata": {},
   "outputs": [
    {
     "data": {
      "image/png": "[encoded data removed]",
      "text/plain": [
       "<Figure size 432x288 with 1 Axes>"
      ]
     },
     "metadata": {
      "needs_background": "light"
     },
     "output_type": "display_data"
    }
   ],
   "source": [
    "sunday = df[df.weekday == 'Sunday'].hour\n",
    "sunday.hist()\n",
    "\n",
    "plt.title('Sunday Hour of Day Distribution')\n",
    "plt.show()"
   ]
  },
  {
   "cell_type": "markdown",
   "metadata": {},
   "source": [
    "### Overall, there is an upward trend in app use."
   ]
  },
  {
   "cell_type": "code",
   "execution_count": 133,
   "metadata": {},
   "outputs": [
    {
     "data": {
      "image/png": "[encoded data removed]",
      "text/plain": [
       "<Figure size 864x288 with 1 Axes>"
      ]
     },
     "metadata": {
      "needs_background": "light"
     },
     "output_type": "display_data"
    }
   ],
   "source": [
    "time_series.installation_id.resample('D').count().plot(figsize=(12,4))\n",
    "\n",
    "plt.show()"
   ]
  },
  {
   "cell_type": "markdown",
   "metadata": {},
   "source": [
    "##  How much time are users spending with different Types?"
   ]
  },
  {
   "cell_type": "code",
   "execution_count": 351,
   "metadata": {},
   "outputs": [],
   "source": [
    "user = df[df.installation_id == '0006a69f']"
   ]
  },
  {
   "cell_type": "code",
   "execution_count": 355,
   "metadata": {},
   "outputs": [
    {
     "data": {
      "text/html": [
       "<div>\n",
       "<style scoped>\n",
       "    .dataframe tbody tr th:only-of-type {\n",
       "        vertical-align: middle;\n",
       "    }\n",
       "\n",
       "    .dataframe tbody tr th {\n",
       "        vertical-align: top;\n",
       "    }\n",
       "\n",
       "    .dataframe thead th {\n",
       "        text-align: right;\n",
       "    }\n",
       "</style>\n",
       "<table border=\"1\" class=\"dataframe\">\n",
       "  <thead>\n",
       "    <tr style=\"text-align: right;\">\n",
       "      <th></th>\n",
       "      <th>event_id</th>\n",
       "      <th>game_session</th>\n",
       "      <th>timestamp</th>\n",
       "      <th>event_data</th>\n",
       "      <th>installation_id</th>\n",
       "      <th>event_count</th>\n",
       "      <th>event_code</th>\n",
       "      <th>game_time</th>\n",
       "      <th>title</th>\n",
       "      <th>type</th>\n",
       "      <th>world</th>\n",
       "      <th>num_correct</th>\n",
       "      <th>num_incorrect</th>\n",
       "      <th>accuracy</th>\n",
       "      <th>accuracy_group</th>\n",
       "      <th>date</th>\n",
       "      <th>hour</th>\n",
       "      <th>weekday</th>\n",
       "    </tr>\n",
       "  </thead>\n",
       "  <tbody>\n",
       "    <tr>\n",
       "      <th>1538</th>\n",
       "      <td>27253bdc</td>\n",
       "      <td>34ba1a28d02ba8ba</td>\n",
       "      <td>2019-08-06 04:57:18.904000+00:00</td>\n",
       "      <td>{\"event_code\": 2000, \"event_count\": 1}</td>\n",
       "      <td>0006a69f</td>\n",
       "      <td>1</td>\n",
       "      <td>2000</td>\n",
       "      <td>0</td>\n",
       "      <td>Welcome to Lost Lagoon!</td>\n",
       "      <td>Clip</td>\n",
       "      <td>NONE</td>\n",
       "      <td>NaN</td>\n",
       "      <td>NaN</td>\n",
       "      <td>NaN</td>\n",
       "      <td>NaN</td>\n",
       "      <td>2019-08-06</td>\n",
       "      <td>4</td>\n",
       "      <td>Tuesday</td>\n",
       "    </tr>\n",
       "    <tr>\n",
       "      <th>1539</th>\n",
       "      <td>27253bdc</td>\n",
       "      <td>4b57c9a59474a1b9</td>\n",
       "      <td>2019-08-06 04:57:45.301000+00:00</td>\n",
       "      <td>{\"event_code\": 2000, \"event_count\": 1}</td>\n",
       "      <td>0006a69f</td>\n",
       "      <td>1</td>\n",
       "      <td>2000</td>\n",
       "      <td>0</td>\n",
       "      <td>Magma Peak - Level 1</td>\n",
       "      <td>Clip</td>\n",
       "      <td>MAGMAPEAK</td>\n",
       "      <td>NaN</td>\n",
       "      <td>NaN</td>\n",
       "      <td>NaN</td>\n",
       "      <td>NaN</td>\n",
       "      <td>2019-08-06</td>\n",
       "      <td>4</td>\n",
       "      <td>Tuesday</td>\n",
       "    </tr>\n",
       "    <tr>\n",
       "      <th>1540</th>\n",
       "      <td>77261ab5</td>\n",
       "      <td>2b9d5af79bcdb79f</td>\n",
       "      <td>2019-08-06 04:58:14.538000+00:00</td>\n",
       "      <td>{\"version\":\"1.0\",\"event_count\":1,\"game_time\":0...</td>\n",
       "      <td>0006a69f</td>\n",
       "      <td>1</td>\n",
       "      <td>2000</td>\n",
       "      <td>0</td>\n",
       "      <td>Sandcastle Builder (Activity)</td>\n",
       "      <td>Activity</td>\n",
       "      <td>MAGMAPEAK</td>\n",
       "      <td>NaN</td>\n",
       "      <td>NaN</td>\n",
       "      <td>NaN</td>\n",
       "      <td>NaN</td>\n",
       "      <td>2019-08-06</td>\n",
       "      <td>4</td>\n",
       "      <td>Tuesday</td>\n",
       "    </tr>\n",
       "    <tr>\n",
       "      <th>1541</th>\n",
       "      <td>b2dba42b</td>\n",
       "      <td>2b9d5af79bcdb79f</td>\n",
       "      <td>2019-08-06 04:58:14.615000+00:00</td>\n",
       "      <td>{\"description\":\"Let's build a sandcastle! Firs...</td>\n",
       "      <td>0006a69f</td>\n",
       "      <td>2</td>\n",
       "      <td>3010</td>\n",
       "      <td>29</td>\n",
       "      <td>Sandcastle Builder (Activity)</td>\n",
       "      <td>Activity</td>\n",
       "      <td>MAGMAPEAK</td>\n",
       "      <td>NaN</td>\n",
       "      <td>NaN</td>\n",
       "      <td>NaN</td>\n",
       "      <td>NaN</td>\n",
       "      <td>2019-08-06</td>\n",
       "      <td>4</td>\n",
       "      <td>Tuesday</td>\n",
       "    </tr>\n",
       "    <tr>\n",
       "      <th>1542</th>\n",
       "      <td>1325467d</td>\n",
       "      <td>2b9d5af79bcdb79f</td>\n",
       "      <td>2019-08-06 04:58:16.680000+00:00</td>\n",
       "      <td>{\"coordinates\":{\"x\":273,\"y\":650,\"stage_width\":...</td>\n",
       "      <td>0006a69f</td>\n",
       "      <td>3</td>\n",
       "      <td>4070</td>\n",
       "      <td>2137</td>\n",
       "      <td>Sandcastle Builder (Activity)</td>\n",
       "      <td>Activity</td>\n",
       "      <td>MAGMAPEAK</td>\n",
       "      <td>NaN</td>\n",
       "      <td>NaN</td>\n",
       "      <td>NaN</td>\n",
       "      <td>NaN</td>\n",
       "      <td>2019-08-06</td>\n",
       "      <td>4</td>\n",
       "      <td>Tuesday</td>\n",
       "    </tr>\n",
       "    <tr>\n",
       "      <th>1543</th>\n",
       "      <td>1325467d</td>\n",
       "      <td>2b9d5af79bcdb79f</td>\n",
       "      <td>2019-08-06 04:58:18.474000+00:00</td>\n",
       "      <td>{\"coordinates\":{\"x\":863,\"y\":237,\"stage_width\":...</td>\n",
       "      <td>0006a69f</td>\n",
       "      <td>4</td>\n",
       "      <td>4070</td>\n",
       "      <td>3937</td>\n",
       "      <td>Sandcastle Builder (Activity)</td>\n",
       "      <td>Activity</td>\n",
       "      <td>MAGMAPEAK</td>\n",
       "      <td>NaN</td>\n",
       "      <td>NaN</td>\n",
       "      <td>NaN</td>\n",
       "      <td>NaN</td>\n",
       "      <td>2019-08-06</td>\n",
       "      <td>4</td>\n",
       "      <td>Tuesday</td>\n",
       "    </tr>\n",
       "    <tr>\n",
       "      <th>1544</th>\n",
       "      <td>1325467d</td>\n",
       "      <td>2b9d5af79bcdb79f</td>\n",
       "      <td>2019-08-06 04:58:19.365000+00:00</td>\n",
       "      <td>{\"coordinates\":{\"x\":817,\"y\":617,\"stage_width\":...</td>\n",
       "      <td>0006a69f</td>\n",
       "      <td>5</td>\n",
       "      <td>4070</td>\n",
       "      <td>4820</td>\n",
       "      <td>Sandcastle Builder (Activity)</td>\n",
       "      <td>Activity</td>\n",
       "      <td>MAGMAPEAK</td>\n",
       "      <td>NaN</td>\n",
       "      <td>NaN</td>\n",
       "      <td>NaN</td>\n",
       "      <td>NaN</td>\n",
       "      <td>2019-08-06</td>\n",
       "      <td>4</td>\n",
       "      <td>Tuesday</td>\n",
       "    </tr>\n",
       "    <tr>\n",
       "      <th>1545</th>\n",
       "      <td>1bb5fbdb</td>\n",
       "      <td>2b9d5af79bcdb79f</td>\n",
       "      <td>2019-08-06 04:58:21.490000+00:00</td>\n",
       "      <td>{\"description\":\"Let's build a sandcastle! Firs...</td>\n",
       "      <td>0006a69f</td>\n",
       "      <td>6</td>\n",
       "      <td>3110</td>\n",
       "      <td>6954</td>\n",
       "      <td>Sandcastle Builder (Activity)</td>\n",
       "      <td>Activity</td>\n",
       "      <td>MAGMAPEAK</td>\n",
       "      <td>NaN</td>\n",
       "      <td>NaN</td>\n",
       "      <td>NaN</td>\n",
       "      <td>NaN</td>\n",
       "      <td>2019-08-06</td>\n",
       "      <td>4</td>\n",
       "      <td>Tuesday</td>\n",
       "    </tr>\n",
       "    <tr>\n",
       "      <th>1546</th>\n",
       "      <td>1325467d</td>\n",
       "      <td>2b9d5af79bcdb79f</td>\n",
       "      <td>2019-08-06 04:58:22.732000+00:00</td>\n",
       "      <td>{\"coordinates\":{\"x\":809,\"y\":180,\"stage_width\":...</td>\n",
       "      <td>0006a69f</td>\n",
       "      <td>7</td>\n",
       "      <td>4070</td>\n",
       "      <td>8187</td>\n",
       "      <td>Sandcastle Builder (Activity)</td>\n",
       "      <td>Activity</td>\n",
       "      <td>MAGMAPEAK</td>\n",
       "      <td>NaN</td>\n",
       "      <td>NaN</td>\n",
       "      <td>NaN</td>\n",
       "      <td>NaN</td>\n",
       "      <td>2019-08-06</td>\n",
       "      <td>4</td>\n",
       "      <td>Tuesday</td>\n",
       "    </tr>\n",
       "    <tr>\n",
       "      <th>...</th>\n",
       "      <td>...</td>\n",
       "      <td>...</td>\n",
       "      <td>...</td>\n",
       "      <td>...</td>\n",
       "      <td>...</td>\n",
       "      <td>...</td>\n",
       "      <td>...</td>\n",
       "      <td>...</td>\n",
       "      <td>...</td>\n",
       "      <td>...</td>\n",
       "      <td>...</td>\n",
       "      <td>...</td>\n",
       "      <td>...</td>\n",
       "      <td>...</td>\n",
       "      <td>...</td>\n",
       "      <td>...</td>\n",
       "      <td>...</td>\n",
       "      <td>...</td>\n",
       "    </tr>\n",
       "    <tr>\n",
       "      <th>4248</th>\n",
       "      <td>5e812b27</td>\n",
       "      <td>fbe9d0c5478ecfc6</td>\n",
       "      <td>2019-08-06 20:53:47.755000+00:00</td>\n",
       "      <td>{\"size\":1,\"coordinates\":{\"x\":820,\"y\":629,\"stag...</td>\n",
       "      <td>0006a69f</td>\n",
       "      <td>92</td>\n",
       "      <td>4030</td>\n",
       "      <td>133545</td>\n",
       "      <td>Sandcastle Builder (Activity)</td>\n",
       "      <td>Activity</td>\n",
       "      <td>MAGMAPEAK</td>\n",
       "      <td>NaN</td>\n",
       "      <td>NaN</td>\n",
       "      <td>NaN</td>\n",
       "      <td>NaN</td>\n",
       "      <td>2019-08-06</td>\n",
       "      <td>20</td>\n",
       "      <td>Tuesday</td>\n",
       "    </tr>\n",
       "    <tr>\n",
       "      <th>4249</th>\n",
       "      <td>84538528</td>\n",
       "      <td>fbe9d0c5478ecfc6</td>\n",
       "      <td>2019-08-06 20:53:48.599000+00:00</td>\n",
       "      <td>{\"size\":1,\"castles_placed\":[{\"size\":1,\"positio...</td>\n",
       "      <td>0006a69f</td>\n",
       "      <td>93</td>\n",
       "      <td>4020</td>\n",
       "      <td>134396</td>\n",
       "      <td>Sandcastle Builder (Activity)</td>\n",
       "      <td>Activity</td>\n",
       "      <td>MAGMAPEAK</td>\n",
       "      <td>NaN</td>\n",
       "      <td>NaN</td>\n",
       "      <td>NaN</td>\n",
       "      <td>NaN</td>\n",
       "      <td>2019-08-06</td>\n",
       "      <td>20</td>\n",
       "      <td>Tuesday</td>\n",
       "    </tr>\n",
       "    <tr>\n",
       "      <th>4250</th>\n",
       "      <td>1bb5fbdb</td>\n",
       "      <td>fbe9d0c5478ecfc6</td>\n",
       "      <td>2019-08-06 20:53:48.601000+00:00</td>\n",
       "      <td>{\"description\":\"Great job! You did it!\",\"ident...</td>\n",
       "      <td>0006a69f</td>\n",
       "      <td>94</td>\n",
       "      <td>3110</td>\n",
       "      <td>134396</td>\n",
       "      <td>Sandcastle Builder (Activity)</td>\n",
       "      <td>Activity</td>\n",
       "      <td>MAGMAPEAK</td>\n",
       "      <td>NaN</td>\n",
       "      <td>NaN</td>\n",
       "      <td>NaN</td>\n",
       "      <td>NaN</td>\n",
       "      <td>2019-08-06</td>\n",
       "      <td>20</td>\n",
       "      <td>Tuesday</td>\n",
       "    </tr>\n",
       "    <tr>\n",
       "      <th>4251</th>\n",
       "      <td>b2dba42b</td>\n",
       "      <td>fbe9d0c5478ecfc6</td>\n",
       "      <td>2019-08-06 20:53:48.601000+00:00</td>\n",
       "      <td>{\"description\":\"So cool!\",\"identifier\":\"Dot_So...</td>\n",
       "      <td>0006a69f</td>\n",
       "      <td>95</td>\n",
       "      <td>3010</td>\n",
       "      <td>134396</td>\n",
       "      <td>Sandcastle Builder (Activity)</td>\n",
       "      <td>Activity</td>\n",
       "      <td>MAGMAPEAK</td>\n",
       "      <td>NaN</td>\n",
       "      <td>NaN</td>\n",
       "      <td>NaN</td>\n",
       "      <td>NaN</td>\n",
       "      <td>2019-08-06</td>\n",
       "      <td>20</td>\n",
       "      <td>Tuesday</td>\n",
       "    </tr>\n",
       "    <tr>\n",
       "      <th>4252</th>\n",
       "      <td>1bb5fbdb</td>\n",
       "      <td>fbe9d0c5478ecfc6</td>\n",
       "      <td>2019-08-06 20:53:49.812000+00:00</td>\n",
       "      <td>{\"description\":\"So cool!\",\"identifier\":\"Dot_So...</td>\n",
       "      <td>0006a69f</td>\n",
       "      <td>96</td>\n",
       "      <td>3110</td>\n",
       "      <td>135604</td>\n",
       "      <td>Sandcastle Builder (Activity)</td>\n",
       "      <td>Activity</td>\n",
       "      <td>MAGMAPEAK</td>\n",
       "      <td>NaN</td>\n",
       "      <td>NaN</td>\n",
       "      <td>NaN</td>\n",
       "      <td>NaN</td>\n",
       "      <td>2019-08-06</td>\n",
       "      <td>20</td>\n",
       "      <td>Tuesday</td>\n",
       "    </tr>\n",
       "    <tr>\n",
       "      <th>4253</th>\n",
       "      <td>1325467d</td>\n",
       "      <td>fbe9d0c5478ecfc6</td>\n",
       "      <td>2019-08-06 20:53:50.428000+00:00</td>\n",
       "      <td>{\"coordinates\":{\"x\":786,\"y\":592,\"stage_width\":...</td>\n",
       "      <td>0006a69f</td>\n",
       "      <td>97</td>\n",
       "      <td>4070</td>\n",
       "      <td>136221</td>\n",
       "      <td>Sandcastle Builder (Activity)</td>\n",
       "      <td>Activity</td>\n",
       "      <td>MAGMAPEAK</td>\n",
       "      <td>NaN</td>\n",
       "      <td>NaN</td>\n",
       "      <td>NaN</td>\n",
       "      <td>NaN</td>\n",
       "      <td>2019-08-06</td>\n",
       "      <td>20</td>\n",
       "      <td>Tuesday</td>\n",
       "    </tr>\n",
       "    <tr>\n",
       "      <th>4254</th>\n",
       "      <td>5e812b27</td>\n",
       "      <td>fbe9d0c5478ecfc6</td>\n",
       "      <td>2019-08-06 20:53:50.849000+00:00</td>\n",
       "      <td>{\"size\":0,\"coordinates\":{\"x\":782,\"y\":207,\"stag...</td>\n",
       "      <td>0006a69f</td>\n",
       "      <td>98</td>\n",
       "      <td>4030</td>\n",
       "      <td>136629</td>\n",
       "      <td>Sandcastle Builder (Activity)</td>\n",
       "      <td>Activity</td>\n",
       "      <td>MAGMAPEAK</td>\n",
       "      <td>NaN</td>\n",
       "      <td>NaN</td>\n",
       "      <td>NaN</td>\n",
       "      <td>NaN</td>\n",
       "      <td>2019-08-06</td>\n",
       "      <td>20</td>\n",
       "      <td>Tuesday</td>\n",
       "    </tr>\n",
       "    <tr>\n",
       "      <th>4255</th>\n",
       "      <td>9ee1c98c</td>\n",
       "      <td>fbe9d0c5478ecfc6</td>\n",
       "      <td>2019-08-06 20:53:51.796000+00:00</td>\n",
       "      <td>{\"size\":1,\"sand\":1,\"duration\":567,\"coordinates...</td>\n",
       "      <td>0006a69f</td>\n",
       "      <td>99</td>\n",
       "      <td>4021</td>\n",
       "      <td>137588</td>\n",
       "      <td>Sandcastle Builder (Activity)</td>\n",
       "      <td>Activity</td>\n",
       "      <td>MAGMAPEAK</td>\n",
       "      <td>NaN</td>\n",
       "      <td>NaN</td>\n",
       "      <td>NaN</td>\n",
       "      <td>NaN</td>\n",
       "      <td>2019-08-06</td>\n",
       "      <td>20</td>\n",
       "      <td>Tuesday</td>\n",
       "    </tr>\n",
       "    <tr>\n",
       "      <th>4256</th>\n",
       "      <td>5e812b27</td>\n",
       "      <td>fbe9d0c5478ecfc6</td>\n",
       "      <td>2019-08-06 20:53:52.621000+00:00</td>\n",
       "      <td>{\"size\":1,\"coordinates\":{\"x\":820,\"y\":629,\"stag...</td>\n",
       "      <td>0006a69f</td>\n",
       "      <td>100</td>\n",
       "      <td>4030</td>\n",
       "      <td>138404</td>\n",
       "      <td>Sandcastle Builder (Activity)</td>\n",
       "      <td>Activity</td>\n",
       "      <td>MAGMAPEAK</td>\n",
       "      <td>NaN</td>\n",
       "      <td>NaN</td>\n",
       "      <td>NaN</td>\n",
       "      <td>NaN</td>\n",
       "      <td>2019-08-06</td>\n",
       "      <td>20</td>\n",
       "      <td>Tuesday</td>\n",
       "    </tr>\n",
       "  </tbody>\n",
       "</table>\n",
       "<p>2719 rows × 18 columns</p>\n",
       "</div>"
      ],
      "text/plain": [
       "      event_id      game_session                        timestamp  \\\n",
       "1538  27253bdc  34ba1a28d02ba8ba 2019-08-06 04:57:18.904000+00:00   \n",
       "1539  27253bdc  4b57c9a59474a1b9 2019-08-06 04:57:45.301000+00:00   \n",
       "1540  77261ab5  2b9d5af79bcdb79f 2019-08-06 04:58:14.538000+00:00   \n",
       "1541  b2dba42b  2b9d5af79bcdb79f 2019-08-06 04:58:14.615000+00:00   \n",
       "1542  1325467d  2b9d5af79bcdb79f 2019-08-06 04:58:16.680000+00:00   \n",
       "1543  1325467d  2b9d5af79bcdb79f 2019-08-06 04:58:18.474000+00:00   \n",
       "1544  1325467d  2b9d5af79bcdb79f 2019-08-06 04:58:19.365000+00:00   \n",
       "1545  1bb5fbdb  2b9d5af79bcdb79f 2019-08-06 04:58:21.490000+00:00   \n",
       "1546  1325467d  2b9d5af79bcdb79f 2019-08-06 04:58:22.732000+00:00   \n",
       "...        ...               ...                              ...   \n",
       "4248  5e812b27  fbe9d0c5478ecfc6 2019-08-06 20:53:47.755000+00:00   \n",
       "4249  84538528  fbe9d0c5478ecfc6 2019-08-06 20:53:48.599000+00:00   \n",
       "4250  1bb5fbdb  fbe9d0c5478ecfc6 2019-08-06 20:53:48.601000+00:00   \n",
       "4251  b2dba42b  fbe9d0c5478ecfc6 2019-08-06 20:53:48.601000+00:00   \n",
       "4252  1bb5fbdb  fbe9d0c5478ecfc6 2019-08-06 20:53:49.812000+00:00   \n",
       "4253  1325467d  fbe9d0c5478ecfc6 2019-08-06 20:53:50.428000+00:00   \n",
       "4254  5e812b27  fbe9d0c5478ecfc6 2019-08-06 20:53:50.849000+00:00   \n",
       "4255  9ee1c98c  fbe9d0c5478ecfc6 2019-08-06 20:53:51.796000+00:00   \n",
       "4256  5e812b27  fbe9d0c5478ecfc6 2019-08-06 20:53:52.621000+00:00   \n",
       "\n",
       "                                             event_data installation_id  \\\n",
       "1538             {\"event_code\": 2000, \"event_count\": 1}        0006a69f   \n",
       "1539             {\"event_code\": 2000, \"event_count\": 1}        0006a69f   \n",
       "1540  {\"version\":\"1.0\",\"event_count\":1,\"game_time\":0...        0006a69f   \n",
       "1541  {\"description\":\"Let's build a sandcastle! Firs...        0006a69f   \n",
       "1542  {\"coordinates\":{\"x\":273,\"y\":650,\"stage_width\":...        0006a69f   \n",
       "1543  {\"coordinates\":{\"x\":863,\"y\":237,\"stage_width\":...        0006a69f   \n",
       "1544  {\"coordinates\":{\"x\":817,\"y\":617,\"stage_width\":...        0006a69f   \n",
       "1545  {\"description\":\"Let's build a sandcastle! Firs...        0006a69f   \n",
       "1546  {\"coordinates\":{\"x\":809,\"y\":180,\"stage_width\":...        0006a69f   \n",
       "...                                                 ...             ...   \n",
       "4248  {\"size\":1,\"coordinates\":{\"x\":820,\"y\":629,\"stag...        0006a69f   \n",
       "4249  {\"size\":1,\"castles_placed\":[{\"size\":1,\"positio...        0006a69f   \n",
       "4250  {\"description\":\"Great job! You did it!\",\"ident...        0006a69f   \n",
       "4251  {\"description\":\"So cool!\",\"identifier\":\"Dot_So...        0006a69f   \n",
       "4252  {\"description\":\"So cool!\",\"identifier\":\"Dot_So...        0006a69f   \n",
       "4253  {\"coordinates\":{\"x\":786,\"y\":592,\"stage_width\":...        0006a69f   \n",
       "4254  {\"size\":0,\"coordinates\":{\"x\":782,\"y\":207,\"stag...        0006a69f   \n",
       "4255  {\"size\":1,\"sand\":1,\"duration\":567,\"coordinates...        0006a69f   \n",
       "4256  {\"size\":1,\"coordinates\":{\"x\":820,\"y\":629,\"stag...        0006a69f   \n",
       "\n",
       "      event_count  event_code  game_time                          title  \\\n",
       "1538            1        2000          0        Welcome to Lost Lagoon!   \n",
       "1539            1        2000          0           Magma Peak - Level 1   \n",
       "1540            1        2000          0  Sandcastle Builder (Activity)   \n",
       "1541            2        3010         29  Sandcastle Builder (Activity)   \n",
       "1542            3        4070       2137  Sandcastle Builder (Activity)   \n",
       "1543            4        4070       3937  Sandcastle Builder (Activity)   \n",
       "1544            5        4070       4820  Sandcastle Builder (Activity)   \n",
       "1545            6        3110       6954  Sandcastle Builder (Activity)   \n",
       "1546            7        4070       8187  Sandcastle Builder (Activity)   \n",
       "...           ...         ...        ...                            ...   \n",
       "4248           92        4030     133545  Sandcastle Builder (Activity)   \n",
       "4249           93        4020     134396  Sandcastle Builder (Activity)   \n",
       "4250           94        3110     134396  Sandcastle Builder (Activity)   \n",
       "4251           95        3010     134396  Sandcastle Builder (Activity)   \n",
       "4252           96        3110     135604  Sandcastle Builder (Activity)   \n",
       "4253           97        4070     136221  Sandcastle Builder (Activity)   \n",
       "4254           98        4030     136629  Sandcastle Builder (Activity)   \n",
       "4255           99        4021     137588  Sandcastle Builder (Activity)   \n",
       "4256          100        4030     138404  Sandcastle Builder (Activity)   \n",
       "\n",
       "          type      world  num_correct  num_incorrect  accuracy  \\\n",
       "1538      Clip       NONE          NaN            NaN       NaN   \n",
       "1539      Clip  MAGMAPEAK          NaN            NaN       NaN   \n",
       "1540  Activity  MAGMAPEAK          NaN            NaN       NaN   \n",
       "1541  Activity  MAGMAPEAK          NaN            NaN       NaN   \n",
       "1542  Activity  MAGMAPEAK          NaN            NaN       NaN   \n",
       "1543  Activity  MAGMAPEAK          NaN            NaN       NaN   \n",
       "1544  Activity  MAGMAPEAK          NaN            NaN       NaN   \n",
       "1545  Activity  MAGMAPEAK          NaN            NaN       NaN   \n",
       "1546  Activity  MAGMAPEAK          NaN            NaN       NaN   \n",
       "...        ...        ...          ...            ...       ...   \n",
       "4248  Activity  MAGMAPEAK          NaN            NaN       NaN   \n",
       "4249  Activity  MAGMAPEAK          NaN            NaN       NaN   \n",
       "4250  Activity  MAGMAPEAK          NaN            NaN       NaN   \n",
       "4251  Activity  MAGMAPEAK          NaN            NaN       NaN   \n",
       "4252  Activity  MAGMAPEAK          NaN            NaN       NaN   \n",
       "4253  Activity  MAGMAPEAK          NaN            NaN       NaN   \n",
       "4254  Activity  MAGMAPEAK          NaN            NaN       NaN   \n",
       "4255  Activity  MAGMAPEAK          NaN            NaN       NaN   \n",
       "4256  Activity  MAGMAPEAK          NaN            NaN       NaN   \n",
       "\n",
       "      accuracy_group        date  hour  weekday  \n",
       "1538             NaN  2019-08-06     4  Tuesday  \n",
       "1539             NaN  2019-08-06     4  Tuesday  \n",
       "1540             NaN  2019-08-06     4  Tuesday  \n",
       "1541             NaN  2019-08-06     4  Tuesday  \n",
       "1542             NaN  2019-08-06     4  Tuesday  \n",
       "1543             NaN  2019-08-06     4  Tuesday  \n",
       "1544             NaN  2019-08-06     4  Tuesday  \n",
       "1545             NaN  2019-08-06     4  Tuesday  \n",
       "1546             NaN  2019-08-06     4  Tuesday  \n",
       "...              ...         ...   ...      ...  \n",
       "4248             NaN  2019-08-06    20  Tuesday  \n",
       "4249             NaN  2019-08-06    20  Tuesday  \n",
       "4250             NaN  2019-08-06    20  Tuesday  \n",
       "4251             NaN  2019-08-06    20  Tuesday  \n",
       "4252             NaN  2019-08-06    20  Tuesday  \n",
       "4253             NaN  2019-08-06    20  Tuesday  \n",
       "4254             NaN  2019-08-06    20  Tuesday  \n",
       "4255             NaN  2019-08-06    20  Tuesday  \n",
       "4256             NaN  2019-08-06    20  Tuesday  \n",
       "\n",
       "[2719 rows x 18 columns]"
      ]
     },
     "execution_count": 355,
     "metadata": {},
     "output_type": "execute_result"
    }
   ],
   "source": [
    "user[user.weekday == 'Tuesday']"
   ]
  },
  {
   "cell_type": "markdown",
   "metadata": {},
   "source": [
    "# game_time max by session"
   ]
  },
  {
   "cell_type": "code",
   "execution_count": 377,
   "metadata": {},
   "outputs": [],
   "source": [
    "game_time_group = df.groupby(['installation_id', 'game_session','type','date'])[['game_time']].max().reset_index()\n"
   ]
  },
  {
   "cell_type": "code",
   "execution_count": 373,
   "metadata": {},
   "outputs": [],
   "source": [
    "activity_time = game_time_group[game_time_group.type != 'Clip']"
   ]
  },
  {
   "cell_type": "code",
   "execution_count": 376,
   "metadata": {},
   "outputs": [
    {
     "data": {
      "text/plain": [
       "(85425, 5)"
      ]
     },
     "execution_count": 376,
     "metadata": {},
     "output_type": "execute_result"
    }
   ],
   "source": [
    "activity_time.shape"
   ]
  },
  {
   "cell_type": "code",
   "execution_count": 374,
   "metadata": {},
   "outputs": [
    {
     "data": {
      "text/plain": [
       "count    8.542500e+04\n",
       "mean     1.880693e+05\n",
       "std      1.930431e+06\n",
       "min      0.000000e+00\n",
       "25%      3.693100e+04\n",
       "50%      7.730900e+04\n",
       "75%      1.493270e+05\n",
       "max      3.069102e+08\n",
       "Name: game_time, dtype: float64"
      ]
     },
     "execution_count": 374,
     "metadata": {},
     "output_type": "execute_result"
    }
   ],
   "source": [
    "activity_time.game_time.describe()"
   ]
  },
  {
   "cell_type": "code",
   "execution_count": 370,
   "metadata": {},
   "outputs": [
    {
     "data": {
      "text/plain": [
       "count    1.761320e+05\n",
       "mean     9.121465e+04\n",
       "std      1.347675e+06\n",
       "min      0.000000e+00\n",
       "25%      0.000000e+00\n",
       "50%      0.000000e+00\n",
       "75%      7.427250e+04\n",
       "max      3.069102e+08\n",
       "Name: game_time, dtype: float64"
      ]
     },
     "execution_count": 370,
     "metadata": {},
     "output_type": "execute_result"
    }
   ],
   "source": [
    "game_time_group.game_time.describe()"
   ]
  },
  {
   "cell_type": "code",
   "execution_count": null,
   "metadata": {},
   "outputs": [],
   "source": []
  },
  {
   "cell_type": "code",
   "execution_count": null,
   "metadata": {},
   "outputs": [],
   "source": []
  },
  {
   "cell_type": "code",
   "execution_count": null,
   "metadata": {},
   "outputs": [],
   "source": []
  },
  {
   "cell_type": "code",
   "execution_count": 141,
   "metadata": {},
   "outputs": [],
   "source": [
    "clips = df[df.type == 'Clip']"
   ]
  },
  {
   "cell_type": "code",
   "execution_count": 224,
   "metadata": {},
   "outputs": [
    {
     "data": {
      "text/plain": [
       "0    90707\n",
       "Name: game_time, dtype: int64"
      ]
     },
     "execution_count": 224,
     "metadata": {},
     "output_type": "execute_result"
    }
   ],
   "source": [
    "clips.game_time.value_counts()"
   ]
  },
  {
   "cell_type": "code",
   "execution_count": 151,
   "metadata": {},
   "outputs": [],
   "source": [
    "activities = df[df.type == 'Activity']"
   ]
  },
  {
   "cell_type": "code",
   "execution_count": 152,
   "metadata": {},
   "outputs": [],
   "source": [
    "games = df[df.type == 'Game']"
   ]
  },
  {
   "cell_type": "code",
   "execution_count": 153,
   "metadata": {},
   "outputs": [],
   "source": [
    "assessments = df[df.type == 'Assessment']"
   ]
  },
  {
   "cell_type": "markdown",
   "metadata": {},
   "source": [
    "<font color=green>**Average user time in clips by installation_id:**</font>"
   ]
  },
  {
   "cell_type": "code",
   "execution_count": 154,
   "metadata": {},
   "outputs": [
    {
     "name": "stdout",
     "output_type": "stream",
     "text": [
      "Average user time in clips by installation_id: 0.0 hours.\n"
     ]
    }
   ],
   "source": [
    "total_clip_time = clips.game_time.sum()\n",
    "clip_users = clips.installation_id.nunique() \n",
    "\n",
    "print(f'Average user time in clips by installation_id: {round(((total_clip_time / clip_users)/60000)/60)} hours.')"
   ]
  },
  {
   "cell_type": "code",
   "execution_count": 155,
   "metadata": {
    "collapsed": true
   },
   "outputs": [
    {
     "data": {
      "text/plain": [
       "1538        0\n",
       "1539        0\n",
       "1642        0\n",
       "1774        0\n",
       "1775        0\n",
       "1776        0\n",
       "1930        0\n",
       "1931        0\n",
       "2016        0\n",
       "           ..\n",
       "11337583    0\n",
       "11337584    0\n",
       "11337585    0\n",
       "11337586    0\n",
       "11337587    0\n",
       "11337588    0\n",
       "11337589    0\n",
       "11337590    0\n",
       "11337688    0\n",
       "Name: game_time, Length: 90707, dtype: int64"
      ]
     },
     "execution_count": 155,
     "metadata": {},
     "output_type": "execute_result"
    }
   ],
   "source": [
    "clips.game_time"
   ]
  },
  {
   "cell_type": "code",
   "execution_count": 156,
   "metadata": {},
   "outputs": [
    {
     "name": "stdout",
     "output_type": "stream",
     "text": [
      "There are 3584 uesrs spending time viewing clips.\n",
      "Users are spending a total of 0 milliseconds viewing clips\n"
     ]
    }
   ],
   "source": [
    "print(f'There are {clip_users} uesrs spending time viewing clips.')\n",
    "print(f'Users are spending a total of {total_clip_time} milliseconds viewing clips')"
   ]
  },
  {
   "cell_type": "markdown",
   "metadata": {},
   "source": [
    "<font color=green>**Average user time in activities by installation_id:**</font>"
   ]
  },
  {
   "cell_type": "code",
   "execution_count": 157,
   "metadata": {},
   "outputs": [
    {
     "name": "stdout",
     "output_type": "stream",
     "text": [
      "Average user time in activities by installation_id: 41.0 hours.\n"
     ]
    }
   ],
   "source": [
    "total_activity_time = activities.game_time.sum()\n",
    "activity_users = activities.installation_id.nunique() \n",
    "\n",
    "print(f'Average user time in activities by installation_id: {round(((total_activity_time / activity_users) / 60000)/60)} hours.')"
   ]
  },
  {
   "cell_type": "code",
   "execution_count": 158,
   "metadata": {},
   "outputs": [
    {
     "name": "stdout",
     "output_type": "stream",
     "text": [
      "There are 3351 users spending time viewing clips.\n"
     ]
    }
   ],
   "source": [
    "print(f'There are {activity_users} users spending time viewing clips.')"
   ]
  },
  {
   "cell_type": "markdown",
   "metadata": {},
   "source": [
    "<font color=green>**Average user time in games by installation_id:**</font>"
   ]
  },
  {
   "cell_type": "code",
   "execution_count": 159,
   "metadata": {},
   "outputs": [
    {
     "name": "stdout",
     "output_type": "stream",
     "text": [
      "Average user time in games by installation_id: 62.0 hours.\n"
     ]
    }
   ],
   "source": [
    "total_game_time = games.game_time.sum()\n",
    "game_users = games.installation_id.nunique()\n",
    "\n",
    "print(f'Average user time in games by installation_id: {round(((total_game_time / game_users) / 60000)/60)} hours.')"
   ]
  },
  {
   "cell_type": "code",
   "execution_count": 160,
   "metadata": {},
   "outputs": [
    {
     "name": "stdout",
     "output_type": "stream",
     "text": [
      "There are 3368 users spending time viewing clips.\n"
     ]
    }
   ],
   "source": [
    "print(f'There are {game_users} users spending time viewing clips.')"
   ]
  },
  {
   "cell_type": "code",
   "execution_count": 176,
   "metadata": {},
   "outputs": [
    {
     "data": {
      "text/plain": [
       "194853.65704048504"
      ]
     },
     "execution_count": 176,
     "metadata": {},
     "output_type": "execute_result"
    }
   ],
   "source": [
    "games.game_time.mean()"
   ]
  },
  {
   "cell_type": "code",
   "execution_count": 175,
   "metadata": {},
   "outputs": [
    {
     "data": {
      "text/plain": [
       "95884.0"
      ]
     },
     "execution_count": 175,
     "metadata": {},
     "output_type": "execute_result"
    }
   ],
   "source": [
    "games.game_time.median()"
   ]
  },
  {
   "cell_type": "code",
   "execution_count": 177,
   "metadata": {},
   "outputs": [
    {
     "data": {
      "text/plain": [
       "0"
      ]
     },
     "execution_count": 177,
     "metadata": {},
     "output_type": "execute_result"
    }
   ],
   "source": [
    "games.game_time.min()"
   ]
  },
  {
   "cell_type": "code",
   "execution_count": 189,
   "metadata": {},
   "outputs": [
    {
     "name": "stdout",
     "output_type": "stream",
     "text": [
      "There are 34527 with game_time of 0\n"
     ]
    }
   ],
   "source": [
    "print(f'There are {len(games[games.game_time == 0])} with game_time of 0')"
   ]
  },
  {
   "cell_type": "code",
   "execution_count": 185,
   "metadata": {},
   "outputs": [
    {
     "name": "stdout",
     "output_type": "stream",
     "text": [
      "73.71040472222222 hours\n"
     ]
    }
   ],
   "source": [
    "print(f'{(games.game_time.max() / 60_000) / 60} hours')"
   ]
  },
  {
   "cell_type": "code",
   "execution_count": 183,
   "metadata": {},
   "outputs": [
    {
     "data": {
      "text/html": [
       "<div>\n",
       "<style scoped>\n",
       "    .dataframe tbody tr th:only-of-type {\n",
       "        vertical-align: middle;\n",
       "    }\n",
       "\n",
       "    .dataframe tbody tr th {\n",
       "        vertical-align: top;\n",
       "    }\n",
       "\n",
       "    .dataframe thead th {\n",
       "        text-align: right;\n",
       "    }\n",
       "</style>\n",
       "<table border=\"1\" class=\"dataframe\">\n",
       "  <thead>\n",
       "    <tr style=\"text-align: right;\">\n",
       "      <th></th>\n",
       "      <th>event_id</th>\n",
       "      <th>game_session</th>\n",
       "      <th>timestamp</th>\n",
       "      <th>event_data</th>\n",
       "      <th>installation_id</th>\n",
       "      <th>event_count</th>\n",
       "      <th>event_code</th>\n",
       "      <th>game_time</th>\n",
       "      <th>title</th>\n",
       "      <th>type</th>\n",
       "      <th>world</th>\n",
       "      <th>num_correct</th>\n",
       "      <th>num_incorrect</th>\n",
       "      <th>accuracy</th>\n",
       "      <th>accuracy_group</th>\n",
       "      <th>date</th>\n",
       "      <th>hour</th>\n",
       "      <th>weekday</th>\n",
       "    </tr>\n",
       "  </thead>\n",
       "  <tbody>\n",
       "    <tr>\n",
       "      <th>6082036</th>\n",
       "      <td>1f19558b</td>\n",
       "      <td>ae69051432368227</td>\n",
       "      <td>2019-09-30 16:48:47.706000+00:00</td>\n",
       "      <td>{\"media_type\":\"animation\",\"duration\":2967,\"des...</td>\n",
       "      <td>86a712b8</td>\n",
       "      <td>48</td>\n",
       "      <td>3121</td>\n",
       "      <td>265357457</td>\n",
       "      <td>All Star Sorting</td>\n",
       "      <td>Game</td>\n",
       "      <td>TREETOPCITY</td>\n",
       "      <td>NaN</td>\n",
       "      <td>NaN</td>\n",
       "      <td>NaN</td>\n",
       "      <td>NaN</td>\n",
       "      <td>2019-09-30</td>\n",
       "      <td>16</td>\n",
       "      <td>Monday</td>\n",
       "    </tr>\n",
       "    <tr>\n",
       "      <th>6082037</th>\n",
       "      <td>2c4e6db0</td>\n",
       "      <td>ae69051432368227</td>\n",
       "      <td>2019-09-30 16:48:47.707000+00:00</td>\n",
       "      <td>{\"houses\":[5,4,3,2,1],\"dinosaurs\":[{\"name\":\"mi...</td>\n",
       "      <td>86a712b8</td>\n",
       "      <td>49</td>\n",
       "      <td>2020</td>\n",
       "      <td>265357457</td>\n",
       "      <td>All Star Sorting</td>\n",
       "      <td>Game</td>\n",
       "      <td>TREETOPCITY</td>\n",
       "      <td>NaN</td>\n",
       "      <td>NaN</td>\n",
       "      <td>NaN</td>\n",
       "      <td>NaN</td>\n",
       "      <td>2019-09-30</td>\n",
       "      <td>16</td>\n",
       "      <td>Monday</td>\n",
       "    </tr>\n",
       "    <tr>\n",
       "      <th>6082038</th>\n",
       "      <td>363d3849</td>\n",
       "      <td>ae69051432368227</td>\n",
       "      <td>2019-09-30 16:48:47.707000+00:00</td>\n",
       "      <td>{\"media_type\":\"animation\",\"total_duration\":400...</td>\n",
       "      <td>86a712b8</td>\n",
       "      <td>50</td>\n",
       "      <td>3010</td>\n",
       "      <td>265357457</td>\n",
       "      <td>All Star Sorting</td>\n",
       "      <td>Game</td>\n",
       "      <td>TREETOPCITY</td>\n",
       "      <td>NaN</td>\n",
       "      <td>NaN</td>\n",
       "      <td>NaN</td>\n",
       "      <td>NaN</td>\n",
       "      <td>2019-09-30</td>\n",
       "      <td>16</td>\n",
       "      <td>Monday</td>\n",
       "    </tr>\n",
       "  </tbody>\n",
       "</table>\n",
       "</div>"
      ],
      "text/plain": [
       "         event_id      game_session                        timestamp  \\\n",
       "6082036  1f19558b  ae69051432368227 2019-09-30 16:48:47.706000+00:00   \n",
       "6082037  2c4e6db0  ae69051432368227 2019-09-30 16:48:47.707000+00:00   \n",
       "6082038  363d3849  ae69051432368227 2019-09-30 16:48:47.707000+00:00   \n",
       "\n",
       "                                                event_data installation_id  \\\n",
       "6082036  {\"media_type\":\"animation\",\"duration\":2967,\"des...        86a712b8   \n",
       "6082037  {\"houses\":[5,4,3,2,1],\"dinosaurs\":[{\"name\":\"mi...        86a712b8   \n",
       "6082038  {\"media_type\":\"animation\",\"total_duration\":400...        86a712b8   \n",
       "\n",
       "         event_count  event_code  game_time             title  type  \\\n",
       "6082036           48        3121  265357457  All Star Sorting  Game   \n",
       "6082037           49        2020  265357457  All Star Sorting  Game   \n",
       "6082038           50        3010  265357457  All Star Sorting  Game   \n",
       "\n",
       "               world  num_correct  num_incorrect  accuracy  accuracy_group  \\\n",
       "6082036  TREETOPCITY          NaN            NaN       NaN             NaN   \n",
       "6082037  TREETOPCITY          NaN            NaN       NaN             NaN   \n",
       "6082038  TREETOPCITY          NaN            NaN       NaN             NaN   \n",
       "\n",
       "               date  hour weekday  \n",
       "6082036  2019-09-30    16  Monday  \n",
       "6082037  2019-09-30    16  Monday  \n",
       "6082038  2019-09-30    16  Monday  "
      ]
     },
     "execution_count": 183,
     "metadata": {},
     "output_type": "execute_result"
    }
   ],
   "source": [
    "games[games.game_time == 265357457]"
   ]
  },
  {
   "cell_type": "code",
   "execution_count": 197,
   "metadata": {},
   "outputs": [
    {
     "data": {
      "text/plain": [
       "<matplotlib.axes._subplots.AxesSubplot at 0x1a2a78f358>"
      ]
     },
     "execution_count": 197,
     "metadata": {},
     "output_type": "execute_result"
    },
    {
     "data": {
      "image/png": "[encoded data removed]",
      "text/plain": [
       "<Figure size 432x288 with 1 Axes>"
      ]
     },
     "metadata": {
      "needs_background": "light"
     },
     "output_type": "display_data"
    }
   ],
   "source": [
    "time_series[time_series.installation_id == '86a712b8'].plot()"
   ]
  },
  {
   "cell_type": "markdown",
   "metadata": {},
   "source": [
    "<font color=green>**Average user assessments in clips by installation_id:**</font>"
   ]
  },
  {
   "cell_type": "code",
   "execution_count": 198,
   "metadata": {},
   "outputs": [
    {
     "name": "stdout",
     "output_type": "stream",
     "text": [
      "Average user time in games by installation_id: 4.0 hours.\n"
     ]
    }
   ],
   "source": [
    "total_assessment_time = assessments.game_time.sum()\n",
    "assessment_users = assessments.installation_id.nunique()\n",
    "\n",
    "print(f'Average user time in games by installation_id: {round(((total_assessment_time / assessment_users)/60000)/60)} hours.')\n",
    "                                                        "
   ]
  },
  {
   "cell_type": "code",
   "execution_count": 199,
   "metadata": {},
   "outputs": [
    {
     "name": "stdout",
     "output_type": "stream",
     "text": [
      "There are 3614 users spending time taking assessments.\n"
     ]
    }
   ],
   "source": [
    "print(f'There are {assessment_users} users spending time taking assessments.')"
   ]
  },
  {
   "cell_type": "markdown",
   "metadata": {},
   "source": [
    "### How many users are present at the start of the data compared to the end?"
   ]
  },
  {
   "cell_type": "code",
   "execution_count": 200,
   "metadata": {},
   "outputs": [
    {
     "name": "stdout",
     "output_type": "stream",
     "text": [
      "The first date in the logs is 2019-07-23 14:38:25.256000+00:00.\n"
     ]
    }
   ],
   "source": [
    "print(f'The first date in the logs is {time_series.index.min()}.')"
   ]
  },
  {
   "cell_type": "code",
   "execution_count": 201,
   "metadata": {},
   "outputs": [
    {
     "name": "stdout",
     "output_type": "stream",
     "text": [
      "The last date in the logs is 2019-10-14 21:57:26.930000+00:00.\n"
     ]
    }
   ],
   "source": [
    "print(f'The last date in the logs is {time_series.index.max()}.')"
   ]
  },
  {
   "cell_type": "code",
   "execution_count": 122,
   "metadata": {},
   "outputs": [],
   "source": []
  },
  {
   "cell_type": "markdown",
   "metadata": {},
   "source": [
    "### Titles"
   ]
  },
  {
   "cell_type": "code",
   "execution_count": 209,
   "metadata": {},
   "outputs": [],
   "source": [
    "from wordcloud import WordCloud"
   ]
  },
  {
   "cell_type": "code",
   "execution_count": 208,
   "metadata": {},
   "outputs": [],
   "source": [
    "types = ' '.join(df.type)"
   ]
  },
  {
   "cell_type": "code",
   "execution_count": 221,
   "metadata": {},
   "outputs": [
    {
     "data": {
      "image/png": "[encoded data removed]",
      "text/plain": [
       "<Figure size 432x288 with 1 Axes>"
      ]
     },
     "metadata": {
      "needs_background": "light"
     },
     "output_type": "display_data"
    }
   ],
   "source": [
    "img = WordCloud(background_color='white', scale=4).generate(types)\n",
    "\n",
    "plt.imshow(img)\n",
    "plt.axis('off')\n",
    "plt.show()"
   ]
  },
  {
   "cell_type": "markdown",
   "metadata": {},
   "source": [
    "## Feature Engineering"
   ]
  },
  {
   "cell_type": "markdown",
   "metadata": {},
   "source": [
    "### Create first_access, last_access, and duration cols"
   ]
  },
  {
   "cell_type": "code",
   "execution_count": 293,
   "metadata": {},
   "outputs": [],
   "source": [
    "dates_df = time_series.groupby('installation_id').date.agg(['min', 'max']).reset_index()"
   ]
  },
  {
   "cell_type": "markdown",
   "metadata": {},
   "source": [
    "#### Convert first and last access cols to datetime"
   ]
  },
  {
   "cell_type": "code",
   "execution_count": 296,
   "metadata": {},
   "outputs": [],
   "source": [
    "dates_df['min'] = pd.to_datetime(dates_df['min'])"
   ]
  },
  {
   "cell_type": "code",
   "execution_count": 297,
   "metadata": {},
   "outputs": [],
   "source": [
    "dates_df['max'] = pd.to_datetime(dates_df['max'])"
   ]
  },
  {
   "cell_type": "markdown",
   "metadata": {},
   "source": [
    "### Create date_diff col"
   ]
  },
  {
   "cell_type": "code",
   "execution_count": 299,
   "metadata": {},
   "outputs": [],
   "source": [
    "dates_df['duration'] = dates_df['max'] - dates_df['min']"
   ]
  },
  {
   "cell_type": "code",
   "execution_count": 312,
   "metadata": {},
   "outputs": [],
   "source": [
    "dates_df['days'] = dates_df.duration.dt.days"
   ]
  },
  {
   "cell_type": "code",
   "execution_count": 313,
   "metadata": {},
   "outputs": [
    {
     "name": "stdout",
     "output_type": "stream",
     "text": [
      "<class 'pandas.core.frame.DataFrame'>\n",
      "RangeIndex: 3614 entries, 0 to 3613\n",
      "Data columns (total 5 columns):\n",
      "installation_id    3614 non-null object\n",
      "min                3614 non-null datetime64[ns]\n",
      "max                3614 non-null datetime64[ns]\n",
      "duration           3614 non-null timedelta64[ns]\n",
      "days               3614 non-null int64\n",
      "dtypes: datetime64[ns](2), int64(1), object(1), timedelta64[ns](1)\n",
      "memory usage: 141.2+ KB\n"
     ]
    }
   ],
   "source": [
    "dates_df.info()"
   ]
  },
  {
   "cell_type": "code",
   "execution_count": null,
   "metadata": {},
   "outputs": [],
   "source": []
  },
  {
   "cell_type": "code",
   "execution_count": 338,
   "metadata": {},
   "outputs": [],
   "source": [
    "dur_0 = list(dates_df[dates_df.days == 0].installation_id)"
   ]
  },
  {
   "cell_type": "code",
   "execution_count": 339,
   "metadata": {},
   "outputs": [
    {
     "data": {
      "text/plain": [
       "['00634433',\n",
       " '00a53963',\n",
       " '00b9d8e6',\n",
       " '01d5e1f5',\n",
       " '02490b06',\n",
       " '026e3733',\n",
       " '027b3c4c',\n",
       " '02875dc2',\n",
       " '0293ae74',\n",
       " '02cdd48e',\n",
       " '02e76f43',\n",
       " '03d15b59',\n",
       " '03e38765',\n",
       " '040dbdbe',\n",
       " '0413ae4a',\n",
       " '0478b042',\n",
       " '04d77ef2',\n",
       " '04de2aae',\n",
       " '04f2cf8f',\n",
       " '04f8b246',\n",
       " '04fbee62',\n",
       " '051bc5a5',\n",
       " '053e6353',\n",
       " '0607efb8',\n",
       " '063405ff',\n",
       " '0688471f',\n",
       " '06e6a3e3',\n",
       " '077173b2',\n",
       " '07921f07',\n",
       " '07be824e',\n",
       " '07c25408',\n",
       " '08062502',\n",
       " '0864d9a2',\n",
       " '088caf6e',\n",
       " '08a47256',\n",
       " '0938a8eb',\n",
       " '099a3ab8',\n",
       " '09bbf58e',\n",
       " '0a0b1178',\n",
       " '0b51fa75',\n",
       " '0b6d68e5',\n",
       " '0b80b297',\n",
       " '0b9885aa',\n",
       " '0bb3bb7f',\n",
       " '0bbdf324',\n",
       " '0be4126e',\n",
       " '0bf95a69',\n",
       " '0c11e6a6',\n",
       " '0cb56246',\n",
       " '0cc2a247',\n",
       " '0cd05f81',\n",
       " '0d09ed83',\n",
       " '0d230220',\n",
       " '0d5a0603',\n",
       " '0db380b1',\n",
       " '0e02f80d',\n",
       " '0e1506ef',\n",
       " '0ed88e7d',\n",
       " '0f07e13a',\n",
       " '0fa3edde',\n",
       " '0fbc47c6',\n",
       " '1001b649',\n",
       " '1091d87b',\n",
       " '10ac4a88',\n",
       " '110da640',\n",
       " '114a661c',\n",
       " '117a6053',\n",
       " '11bde99b',\n",
       " '11c7b926',\n",
       " '11ec8e57',\n",
       " '12356ffe',\n",
       " '12887b75',\n",
       " '12a9a35e',\n",
       " '12c8ca47',\n",
       " '13655d9a',\n",
       " '1365c3d1',\n",
       " '13e4f56d',\n",
       " '1420bbcf',\n",
       " '143192eb',\n",
       " '1435f85e',\n",
       " '153d137c',\n",
       " '15dc3a59',\n",
       " '16218a6d',\n",
       " '16342c61',\n",
       " '16e07456',\n",
       " '16f08e23',\n",
       " '1711805c',\n",
       " '1752d7f9',\n",
       " '17b3c2ba',\n",
       " '17d0baa0',\n",
       " '17d6833a',\n",
       " '17e0d33c',\n",
       " '18310132',\n",
       " '1850d3ca',\n",
       " '18c880c3',\n",
       " '191884de',\n",
       " '19219fcc',\n",
       " '19a49ad4',\n",
       " '19e3c8b7',\n",
       " '1a1c88f7',\n",
       " '1a1ed230',\n",
       " '1a641f93',\n",
       " '1ab42a64',\n",
       " '1ae140f6',\n",
       " '1aec05d4',\n",
       " '1af82d0c',\n",
       " '1b4ff2dc',\n",
       " '1bfc9ff2',\n",
       " '1d10c898',\n",
       " '1d1bf90e',\n",
       " '1d40ffac',\n",
       " '1d62a6b5',\n",
       " '1d9eefc1',\n",
       " '1df1f92f',\n",
       " '1e234323',\n",
       " '1e4ec97f',\n",
       " '1e7731ca',\n",
       " '1e992f25',\n",
       " '1edecf49',\n",
       " '1f3b5454',\n",
       " '21007a23',\n",
       " '212da6c0',\n",
       " '21691319',\n",
       " '21ad5f50',\n",
       " '21b9f1ed',\n",
       " '21e1d6a4',\n",
       " '2204b983',\n",
       " '221d1857',\n",
       " '22c227cc',\n",
       " '22ea7daf',\n",
       " '230b4b6e',\n",
       " '232e7bd4',\n",
       " '23612836',\n",
       " '238c9dd2',\n",
       " '23bec3a2',\n",
       " '241a0a60',\n",
       " '24b7cbeb',\n",
       " '25016398',\n",
       " '259dbafb',\n",
       " '25eefcc6',\n",
       " '2655d95e',\n",
       " '26d524bb',\n",
       " '27418ceb',\n",
       " '281e0b40',\n",
       " '281f09d5',\n",
       " '28bf9492',\n",
       " '28c61280',\n",
       " '28ff0400',\n",
       " '292f912b',\n",
       " '293b1825',\n",
       " '296f8e73',\n",
       " '29a8065d',\n",
       " '29fdbcc5',\n",
       " '2a222143',\n",
       " '2b025506',\n",
       " '2b1e900f',\n",
       " '2b2ba346',\n",
       " '2b381903',\n",
       " '2b64115c',\n",
       " '2bcbf99b',\n",
       " '2bda292e',\n",
       " '2c3756c3',\n",
       " '2c445570',\n",
       " '2c676054',\n",
       " '2c85420f',\n",
       " '2c8998a6',\n",
       " '2cb3f01f',\n",
       " '2cb958cf',\n",
       " '2cd0e982',\n",
       " '2cdf2ff1',\n",
       " '2d08cc18',\n",
       " '2d0a6638',\n",
       " '2d4a9118',\n",
       " '2d569b6d',\n",
       " '2e17f66c',\n",
       " '2e716b10',\n",
       " '2eb7fd3a',\n",
       " '2eea0b01',\n",
       " '2f252c6d',\n",
       " '2f2ab766',\n",
       " '2f607e24',\n",
       " '2fef95e7',\n",
       " '3009466e',\n",
       " '30671559',\n",
       " '30899e57',\n",
       " '30eb551d',\n",
       " '30fc94a9',\n",
       " '315861e9',\n",
       " '31701a28',\n",
       " '317a9387',\n",
       " '31aea1fe',\n",
       " '31dbb558',\n",
       " '31f89b19',\n",
       " '322f7ea1',\n",
       " '3254c82c',\n",
       " '326c5547',\n",
       " '32bc358e',\n",
       " '32c2b121',\n",
       " '33cd1301',\n",
       " '33e41b33',\n",
       " '34217050',\n",
       " '344fd656',\n",
       " '3470ed15',\n",
       " '349ecc0e',\n",
       " '35bf830c',\n",
       " '3614c8eb',\n",
       " '3677d381',\n",
       " '36a50492',\n",
       " '36f3e789',\n",
       " '370e92d3',\n",
       " '3738f1cd',\n",
       " '37795aab',\n",
       " '37892700',\n",
       " '37990ff7',\n",
       " '37acf253',\n",
       " '37f5416d',\n",
       " '380dfa02',\n",
       " '3812b497',\n",
       " '38509434',\n",
       " '3853cc65',\n",
       " '38d2d438',\n",
       " '38d4594d',\n",
       " '3910f0a9',\n",
       " '39f23d50',\n",
       " '3a3c4fb5',\n",
       " '3ac7783f',\n",
       " '3b05218e',\n",
       " '3b06140b',\n",
       " '3b2a487c',\n",
       " '3bb33286',\n",
       " '3bb92342',\n",
       " '3c098a20',\n",
       " '3c2dfeae',\n",
       " '3c7a8e1e',\n",
       " '3ca5193d',\n",
       " '3caf9db4',\n",
       " '3d2812a5',\n",
       " '3d953af1',\n",
       " '3dbbde1a',\n",
       " '3dbdfa87',\n",
       " '3e1be597',\n",
       " '3e4d6151',\n",
       " '3e5db1f7',\n",
       " '3e6e65d9',\n",
       " '3e7f4479',\n",
       " '3f0f2fed',\n",
       " '3f11dd13',\n",
       " '3f1abed4',\n",
       " '3f2a92e1',\n",
       " '3f367311',\n",
       " '3f5ca606',\n",
       " '3f7849e3',\n",
       " '4026e5d9',\n",
       " '410acfec',\n",
       " '41178d5e',\n",
       " '424232fc',\n",
       " '42f03245',\n",
       " '435a9b05',\n",
       " '436d5ed2',\n",
       " '43ccecc0',\n",
       " '43f41153',\n",
       " '4443cd88',\n",
       " '445b1749',\n",
       " '44e93571',\n",
       " '453b2148',\n",
       " '45e6e334',\n",
       " '45f35b9a',\n",
       " '45feea5e',\n",
       " '4615ab1b',\n",
       " '4675113c',\n",
       " '469855bf',\n",
       " '46d3e867',\n",
       " '46ff1c39',\n",
       " '47143042',\n",
       " '47748670',\n",
       " '47af5391',\n",
       " '484af773',\n",
       " '484c8d04',\n",
       " '4871d839',\n",
       " '48784801',\n",
       " '48c3d7aa',\n",
       " '48fc4ec4',\n",
       " '494eec4b',\n",
       " '4957364e',\n",
       " '4972cc53',\n",
       " '49d447b4',\n",
       " '49d78969',\n",
       " '49ee3af8',\n",
       " '4a35a542',\n",
       " '4a426091',\n",
       " '4b17d428',\n",
       " '4b5b02f0',\n",
       " '4b85deb2',\n",
       " '4b8d46fb',\n",
       " '4ba08ec6',\n",
       " '4ba37cbb',\n",
       " '4be4c96c',\n",
       " '4be6d22f',\n",
       " '4c5f57f8',\n",
       " '4c8acb25',\n",
       " '4d20ca97',\n",
       " '4d54c694',\n",
       " '4da2e262',\n",
       " '4daf4f50',\n",
       " '4dd5cf19',\n",
       " '4e7f77fd',\n",
       " '4e82897e',\n",
       " '4e9c6979',\n",
       " '4ed5a555',\n",
       " '4efa8dca',\n",
       " '4ffca9fc',\n",
       " '4ffde700',\n",
       " '50a5f350',\n",
       " '50c49551',\n",
       " '50c57027',\n",
       " '50e767ea',\n",
       " '50f3b41e',\n",
       " '51150989',\n",
       " '5115d8a9',\n",
       " '515be301',\n",
       " '518d2509',\n",
       " '51aefc79',\n",
       " '51c8c346',\n",
       " '52719bfa',\n",
       " '52761bad',\n",
       " '5276b288',\n",
       " '52a67a5d',\n",
       " '52abfc62',\n",
       " '52f3688e',\n",
       " '534a7944',\n",
       " '53c44c05',\n",
       " '54413e4a',\n",
       " '5471f682',\n",
       " '549cd3e0',\n",
       " '54d91d26',\n",
       " '54dbc8c7',\n",
       " '550ea542',\n",
       " '55438529',\n",
       " '5560bc97',\n",
       " '55617f16',\n",
       " '55a040e7',\n",
       " '55bea02b',\n",
       " '55ed3f08',\n",
       " '55fc4929',\n",
       " '564d99f7',\n",
       " '56565567',\n",
       " '56766fb1',\n",
       " '56983028',\n",
       " '56f61a2e',\n",
       " '571db614',\n",
       " '571e1cfc',\n",
       " '576a5247',\n",
       " '57bdbda7',\n",
       " '57ee528d',\n",
       " '57fd310d',\n",
       " '58798492',\n",
       " '588786c9',\n",
       " '58f970fb',\n",
       " '5917d93e',\n",
       " '593936dd',\n",
       " '59a6b942',\n",
       " '59b27a13',\n",
       " '59d30bfa',\n",
       " '5a217c74',\n",
       " '5a275704',\n",
       " '5a72d32d',\n",
       " '5afa9cef',\n",
       " '5afef704',\n",
       " '5b19c8d2',\n",
       " '5b2645e3',\n",
       " '5b3cb08e',\n",
       " '5b5226bd',\n",
       " '5b884149',\n",
       " '5bb1a567',\n",
       " '5ca281b6',\n",
       " '5cef8ee5',\n",
       " '5d583c6b',\n",
       " '5d7c762f',\n",
       " '5e088963',\n",
       " '5e7aaf29',\n",
       " '5eda8452',\n",
       " '5f99269c',\n",
       " '5fe2e727',\n",
       " '60283b63',\n",
       " '6042663e',\n",
       " '60496d03',\n",
       " '608e5654',\n",
       " '61af4807',\n",
       " '62063ae3',\n",
       " '62a54ecb',\n",
       " '62b1fa70',\n",
       " '62c4909e',\n",
       " '6374cc6c',\n",
       " '639b9091',\n",
       " '639e98d0',\n",
       " '63b0b750',\n",
       " '63c22d1c',\n",
       " '6482e546',\n",
       " '65185e9e',\n",
       " '6523b94b',\n",
       " '6570dabb',\n",
       " '65e940b5',\n",
       " '664b49db',\n",
       " '665796bd',\n",
       " '66a0b4b1',\n",
       " '66d8c823',\n",
       " '66e2adb0',\n",
       " '67d16378',\n",
       " '67f82f44',\n",
       " '68055d28',\n",
       " '685d9ac8',\n",
       " '68a6828f',\n",
       " '68d82eb4',\n",
       " '68f346e9',\n",
       " '69152899',\n",
       " '691d465a',\n",
       " '696dcabe',\n",
       " '698543eb',\n",
       " '69a2ad34',\n",
       " '69ffa407',\n",
       " '6a5285db',\n",
       " '6a6c35f8',\n",
       " '6a7b1b7a',\n",
       " '6b609511',\n",
       " '6b809261',\n",
       " '6b9e91ba',\n",
       " '6c2b0e3c',\n",
       " '6c84fb8b',\n",
       " '6c91d4d5',\n",
       " '6cb73e9a',\n",
       " '6cc7ae2e',\n",
       " '6cdac1d9',\n",
       " '6d16b11a',\n",
       " '6d1d56f5',\n",
       " '6d24ed40',\n",
       " '6d394bf9',\n",
       " '6d7c3893',\n",
       " '6df25e1b',\n",
       " '6df38079',\n",
       " '6e3b8bc5',\n",
       " '6e6ff2ad',\n",
       " '6ea498d4',\n",
       " '6eba02ec',\n",
       " '6eecfc63',\n",
       " '6f24dba2',\n",
       " '6f49cb7a',\n",
       " '6fa808ad',\n",
       " '6fbc5ee2',\n",
       " '6fd1f864',\n",
       " '6fdb3384',\n",
       " '705510ca',\n",
       " '706b422b',\n",
       " '71226edb',\n",
       " '7172e2d5',\n",
       " '71b1a837',\n",
       " '7217511f',\n",
       " '722676d4',\n",
       " '72c418b0',\n",
       " '7312a92f',\n",
       " '73466673',\n",
       " '73bcfbe9',\n",
       " '73e66858',\n",
       " '7436b7b6',\n",
       " '753b0a47',\n",
       " '7564d459',\n",
       " '75713c5d',\n",
       " '7585b0b6',\n",
       " '758bc502',\n",
       " '75a9369d',\n",
       " '75db014c',\n",
       " '75eea838',\n",
       " '75efcf65',\n",
       " '763ac0d2',\n",
       " '76647218',\n",
       " '76ed11ab',\n",
       " '772c4301',\n",
       " '7742c958',\n",
       " '77d6364d',\n",
       " '77f87dfb',\n",
       " '78092129',\n",
       " '78533e66',\n",
       " '78dbdfef',\n",
       " '78ffd4cf',\n",
       " '7903cda1',\n",
       " '79b416a4',\n",
       " '79b96c91',\n",
       " '79e757f1',\n",
       " '7a220a9f',\n",
       " '7a32add3',\n",
       " '7a4f71d0',\n",
       " '7aa5b557',\n",
       " '7ac179e0',\n",
       " '7b1205ca',\n",
       " '7b4a6f51',\n",
       " '7b9e1808',\n",
       " '7bcaaa71',\n",
       " '7bd17edf',\n",
       " '7bf09350',\n",
       " '7bff2707',\n",
       " '7c14c8c2',\n",
       " '7c2166a6',\n",
       " '7caa81d8',\n",
       " '7d5d107f',\n",
       " '7dcda0ea',\n",
       " '7e2499bc',\n",
       " '7e47c64d',\n",
       " '7e6964ce',\n",
       " '7f806609',\n",
       " '7ff12100',\n",
       " '8015e006',\n",
       " '80bbca3a',\n",
       " '80f37251',\n",
       " '81179dd0',\n",
       " '81a15267',\n",
       " '81b1f135',\n",
       " '831b7697',\n",
       " '83c0c067',\n",
       " '83c16842',\n",
       " '83dc2d72',\n",
       " '8440941f',\n",
       " '84450571',\n",
       " '846f6443',\n",
       " '84c277b4',\n",
       " '85221de8',\n",
       " '866da084',\n",
       " '86a5f419',\n",
       " '86a9b9cf',\n",
       " '86e75de1',\n",
       " '876f4411',\n",
       " '877b8977',\n",
       " '87a45840',\n",
       " '882c832c',\n",
       " '8833c392',\n",
       " '88bc9bbd',\n",
       " '89754278',\n",
       " '8a0ef860',\n",
       " '8a34fb0a',\n",
       " '8a530ffd',\n",
       " '8a71d796',\n",
       " '8b2e60f3',\n",
       " '8b81b203',\n",
       " '8badd2ee',\n",
       " '8c02d02b',\n",
       " '8c20d205',\n",
       " '8c347aaa',\n",
       " '8c67aca8',\n",
       " '8c736b61',\n",
       " '8e852635',\n",
       " '8ed93525',\n",
       " '8ef357ec',\n",
       " '8f2b8c82',\n",
       " '8f3da782',\n",
       " '8f4c404c',\n",
       " '8f8bad94',\n",
       " '8f9f91c6',\n",
       " '8ff4386b',\n",
       " '8ffbc480',\n",
       " '901ecfe3',\n",
       " '90228ec2',\n",
       " '9045746c',\n",
       " '904c325c',\n",
       " '90576156',\n",
       " '906b5d01',\n",
       " '908db0dc',\n",
       " '90986846',\n",
       " '91052f2a',\n",
       " '912c157c',\n",
       " '91455758',\n",
       " '915f355f',\n",
       " '91654768',\n",
       " '917de017',\n",
       " '91957f60',\n",
       " '91cafce7',\n",
       " '91f083ab',\n",
       " '922ddbd6',\n",
       " '925782e3',\n",
       " '925a1e53',\n",
       " '92eafa1a',\n",
       " '9351f85f',\n",
       " '93d145fc',\n",
       " '93f5d648',\n",
       " '941dba20',\n",
       " '94634a47',\n",
       " '94682551',\n",
       " '947a7ffb',\n",
       " '9499c085',\n",
       " '94a457e0',\n",
       " '94c4ed61',\n",
       " '9500bc63',\n",
       " '9510fa41',\n",
       " '95395a66',\n",
       " '9591b4ea',\n",
       " '95c42468',\n",
       " '95f19f02',\n",
       " '9652dc9c',\n",
       " '97175e1e',\n",
       " '974f3d6e',\n",
       " '976d0410',\n",
       " '977a152f',\n",
       " '978fc68f',\n",
       " '97a67a5a',\n",
       " '97c6d02f',\n",
       " '98102e27',\n",
       " '9851f635',\n",
       " '98c28220',\n",
       " '98c8e99a',\n",
       " '9918fb8d',\n",
       " '9933bbf5',\n",
       " '99af1ce6',\n",
       " '99b13494',\n",
       " '9b55ca4a',\n",
       " '9b7d6baa',\n",
       " '9b9dad66',\n",
       " '9bc1bbb2',\n",
       " '9cce8259',\n",
       " '9ce2d074',\n",
       " '9d37b73d',\n",
       " '9d570bf2',\n",
       " '9dbfa4da',\n",
       " '9dfc3ebb',\n",
       " '9f70bc9e',\n",
       " '9f9ec591',\n",
       " '9fc54908',\n",
       " 'a07fb570',\n",
       " 'a1017fc7',\n",
       " 'a166602b',\n",
       " 'a183bb88',\n",
       " 'a2170e35',\n",
       " 'a22dc96c',\n",
       " 'a236c419',\n",
       " 'a2f74850',\n",
       " 'a3008e81',\n",
       " 'a3079715',\n",
       " 'a30c574e',\n",
       " 'a3865e2d',\n",
       " 'a3bb1750',\n",
       " 'a417c47b',\n",
       " 'a48ca5b6',\n",
       " 'a4e62501',\n",
       " 'a573af0f',\n",
       " 'a573da46',\n",
       " 'a5a89708',\n",
       " 'a5ef5a46',\n",
       " 'a6139da4',\n",
       " 'a7058606',\n",
       " 'a72ece94',\n",
       " 'a7537ec4',\n",
       " 'a7f3c978',\n",
       " 'a802b501',\n",
       " 'a8744969',\n",
       " 'a8daefad',\n",
       " 'a8f32777',\n",
       " 'a8fcabff',\n",
       " 'a9157cbc',\n",
       " 'a929c6de',\n",
       " 'a9405bbf',\n",
       " 'a9d4a8a7',\n",
       " 'aa1deea9',\n",
       " 'aa38f420',\n",
       " 'aa619097',\n",
       " 'aa9b5a05',\n",
       " 'ab003782',\n",
       " 'abaadb4c',\n",
       " 'abbc7b07',\n",
       " 'ac0958c1',\n",
       " 'ac5e1aca',\n",
       " 'acbaf3f2',\n",
       " 'ad0c2a41',\n",
       " 'ad3f6c28',\n",
       " 'ad638efa',\n",
       " 'ad754238',\n",
       " 'ad9d07d6',\n",
       " 'adc9de7f',\n",
       " 'ae207f64',\n",
       " 'ae4685c7',\n",
       " 'ae736213',\n",
       " 'aef2232d',\n",
       " 'af038715',\n",
       " 'afa80e96',\n",
       " 'aff2929d',\n",
       " 'b021eb99',\n",
       " 'b09b988c',\n",
       " 'b0f13ef1',\n",
       " 'b10c00e0',\n",
       " 'b1463850',\n",
       " 'b15450e4',\n",
       " 'b1c3c6a9',\n",
       " 'b1d58078',\n",
       " 'b1f7ca9b',\n",
       " 'b20748ca',\n",
       " 'b26bb86f',\n",
       " 'b27716b8',\n",
       " 'b29fa2e9',\n",
       " 'b3343829',\n",
       " 'b37e2b2d',\n",
       " 'b406112e',\n",
       " 'b4373bbc',\n",
       " 'b45ed384',\n",
       " 'b472a991',\n",
       " 'b48f90a2',\n",
       " 'b4d9137f',\n",
       " 'b4e8876a',\n",
       " 'b4fb5dfb',\n",
       " 'b5562c57',\n",
       " 'b5cec608',\n",
       " 'b5d959ff',\n",
       " 'b5dc1346',\n",
       " 'b5f2a931',\n",
       " 'b6065b2e',\n",
       " 'b6a5d024',\n",
       " 'b6db3e5b',\n",
       " 'b715f8e6',\n",
       " 'b73240bf',\n",
       " 'b780f63b',\n",
       " 'b82e4aa0',\n",
       " 'b84be4dd',\n",
       " 'b8e96319',\n",
       " 'b8f288a2',\n",
       " 'b957961f',\n",
       " 'b9a85e97',\n",
       " 'b9aed3bc',\n",
       " 'b9e2a585',\n",
       " 'b9fb9125',\n",
       " 'baab1dd8',\n",
       " 'baef013a',\n",
       " 'bb0b701d',\n",
       " 'bb1489a2',\n",
       " 'bb2f73a9',\n",
       " 'bb617bfb',\n",
       " 'bba914f4',\n",
       " 'bbb8a727',\n",
       " 'bbea0590',\n",
       " 'bc47c2bf',\n",
       " 'bcd0fa07',\n",
       " 'bcecdefe',\n",
       " 'be17bf06',\n",
       " 'be549423',\n",
       " 'be98dafa',\n",
       " 'beec2ad7',\n",
       " 'bf59e248',\n",
       " 'c03c8bd1',\n",
       " 'c0aee69b',\n",
       " 'c0e52312',\n",
       " 'c0ef85c7',\n",
       " 'c1db85a0',\n",
       " 'c2003847',\n",
       " 'c23d6178',\n",
       " 'c2442b9e',\n",
       " 'c297f881',\n",
       " 'c3157adb',\n",
       " 'c390c9f9',\n",
       " 'c4144758',\n",
       " 'c435119e',\n",
       " 'c4517391',\n",
       " 'c466849a',\n",
       " 'c551acf3',\n",
       " 'c5583010',\n",
       " 'c5db423d',\n",
       " 'c61171f5',\n",
       " 'c658a11d',\n",
       " 'c6819da6',\n",
       " 'c69a028a',\n",
       " 'c6dbed0c',\n",
       " 'c6ddded3',\n",
       " 'c70744f9',\n",
       " 'c7c68f00',\n",
       " 'c7c7197b',\n",
       " 'c7ec85d2',\n",
       " 'c7fc935e',\n",
       " 'c7fcf68c',\n",
       " 'c8483153',\n",
       " 'c8ec52c1',\n",
       " 'c8f13a56',\n",
       " 'c970188e',\n",
       " 'c99769e8',\n",
       " 'ca2b577e',\n",
       " 'ca2cddd1',\n",
       " 'ca454cd1',\n",
       " 'cabdfee5',\n",
       " 'cae712b2',\n",
       " 'caf8d99b',\n",
       " 'cb4d8688',\n",
       " 'cb586bd7',\n",
       " 'cb761f5f',\n",
       " 'cb9576e3',\n",
       " 'cc1f941f',\n",
       " 'cc7f890b',\n",
       " 'cc84422d',\n",
       " 'ccbbf5e4',\n",
       " 'ccc19537',\n",
       " 'cccf3bec',\n",
       " 'ccd3f15f',\n",
       " 'cd23cdb7',\n",
       " 'cdde38dd',\n",
       " 'ce4eb68c',\n",
       " 'ceb09157',\n",
       " 'd021b283',\n",
       " 'd047c626',\n",
       " 'd04adc67',\n",
       " 'd07a1df9',\n",
       " 'd082ec77',\n",
       " 'd0f34f44',\n",
       " 'd1a16d03',\n",
       " 'd267cde7',\n",
       " 'd2803718',\n",
       " 'd28885da',\n",
       " 'd2926707',\n",
       " 'd2d60c62',\n",
       " 'd343cb7a',\n",
       " 'd3552f0a',\n",
       " 'd3790c81',\n",
       " 'd3946ce0',\n",
       " 'd3f3a66d',\n",
       " 'd4332996',\n",
       " 'd4db7ff5',\n",
       " 'd4ded596',\n",
       " 'd4e209a4',\n",
       " 'd525f381',\n",
       " 'd528a9ed',\n",
       " 'd54da8a4',\n",
       " 'd559bf42',\n",
       " 'd596f097',\n",
       " 'd62d3ec6',\n",
       " 'd6652692',\n",
       " 'd76752ab',\n",
       " 'd768e092',\n",
       " 'd7f0d1f0',\n",
       " 'd84dc580',\n",
       " 'd8503f45',\n",
       " 'd898495e',\n",
       " 'd8a75898',\n",
       " 'd9a5da1e',\n",
       " 'd9bdef64',\n",
       " 'd9dc24f8',\n",
       " 'da4f7f4a',\n",
       " 'da59e22e',\n",
       " 'daacf9a9',\n",
       " 'db2ab253',\n",
       " 'db5452a9',\n",
       " 'db54d00d',\n",
       " 'db5af314',\n",
       " 'dbc27a36',\n",
       " 'dc135773',\n",
       " 'dc220be1',\n",
       " 'dc99f858',\n",
       " 'dc9c4ca5',\n",
       " 'dce08303',\n",
       " 'dcf0d150',\n",
       " 'dcfd93b6',\n",
       " 'dd4cc774',\n",
       " 'dd598630',\n",
       " 'ddc2abf5',\n",
       " 'ddd7486f',\n",
       " 'de0a0baf',\n",
       " 'de8e952a',\n",
       " 'decd4413',\n",
       " 'ded5df29',\n",
       " 'df18c892',\n",
       " 'df3b1933',\n",
       " 'df4e4a67',\n",
       " 'df56fc52',\n",
       " 'dfc6d778',\n",
       " 'dfca2f03',\n",
       " 'e0e03cbf',\n",
       " 'e1821de7',\n",
       " 'e1de0f0a',\n",
       " 'e20fadd5',\n",
       " 'e21c0833',\n",
       " 'e2382f89',\n",
       " 'e2d7188c',\n",
       " 'e3082d91',\n",
       " 'e3612d10',\n",
       " 'e37d480a',\n",
       " 'e3836659',\n",
       " 'e389ef05',\n",
       " 'e3d520fc',\n",
       " 'e3df1794',\n",
       " 'e3e2cd85',\n",
       " 'e4701fc9',\n",
       " 'e48333cc',\n",
       " 'e53f6051',\n",
       " 'e567dee1',\n",
       " 'e5b67876',\n",
       " 'e69ae425',\n",
       " 'e6ee06c8',\n",
       " 'e78c1ae6',\n",
       " 'e7f87673',\n",
       " 'e807f0e6',\n",
       " 'e8b2f586',\n",
       " 'e904fe7f',\n",
       " 'e93716dc',\n",
       " 'e95d2e94',\n",
       " 'e968228e',\n",
       " 'e96f8e66',\n",
       " 'e9a48984',\n",
       " 'ea161ccc',\n",
       " 'ea234cf3',\n",
       " 'ea9e5eb7',\n",
       " 'eaf94a5f',\n",
       " 'eb007cfb',\n",
       " 'eb036a10',\n",
       " 'eb6ecf25',\n",
       " 'ebc72f77',\n",
       " 'ebe68401',\n",
       " 'ebfe25dd',\n",
       " 'ec1739d2',\n",
       " 'eca4705a',\n",
       " 'eca8c9af',\n",
       " 'ecba71de',\n",
       " 'ed637686',\n",
       " 'ed9e9efa',\n",
       " 'edba93a2',\n",
       " 'ee0a8206',\n",
       " 'eea13247',\n",
       " 'eed88942',\n",
       " 'efadc70c',\n",
       " 'efc0a91f',\n",
       " 'efd5967f',\n",
       " 'eff9abaa',\n",
       " 'f0102f91',\n",
       " 'f070430e',\n",
       " 'f0779cb6',\n",
       " 'f09a8269',\n",
       " 'f0b74d78',\n",
       " 'f0ec68a7',\n",
       " 'f130b3b5',\n",
       " 'f1464e0d',\n",
       " 'f18cb3e8',\n",
       " 'f1befae2',\n",
       " 'f225addd',\n",
       " 'f22c542f',\n",
       " 'f247e3d0',\n",
       " 'f2a08d73',\n",
       " 'f2f89fa6',\n",
       " 'f32a1540',\n",
       " 'f34adda8',\n",
       " 'f35fb7aa',\n",
       " 'f3e9744a',\n",
       " 'f427161a',\n",
       " 'f4352807',\n",
       " 'f4363897',\n",
       " 'f4a7aa55',\n",
       " 'f5b609e7',\n",
       " 'f61e217c',\n",
       " 'f63eaa63',\n",
       " 'f7462cd8',\n",
       " 'f767c1db',\n",
       " 'f77917c4',\n",
       " 'f80821d2',\n",
       " 'f825af75',\n",
       " 'f83f0250',\n",
       " 'f8c01999',\n",
       " 'f9415873',\n",
       " 'f9eaa385',\n",
       " 'f9ee8e22',\n",
       " 'fa338e78',\n",
       " 'fa3d2498',\n",
       " 'fa980b6a',\n",
       " 'fada669c',\n",
       " 'fb2d7ebc',\n",
       " 'fb759fb6',\n",
       " 'fc32e3cc',\n",
       " 'fc771ea3',\n",
       " 'fca01871',\n",
       " 'fcb077e7',\n",
       " 'fccdeaaf',\n",
       " 'fcecab06',\n",
       " 'fcfefae3',\n",
       " 'fd02a7e0',\n",
       " 'fd1c8d0b',\n",
       " 'fd242541',\n",
       " 'fe1a1d3f',\n",
       " 'fe4a63a7',\n",
       " 'ff107709',\n",
       " 'ff7fb595',\n",
       " 'ffd2871d']"
      ]
     },
     "execution_count": 339,
     "metadata": {},
     "output_type": "execute_result"
    }
   ],
   "source": [
    "dur_0"
   ]
  },
  {
   "cell_type": "code",
   "execution_count": 348,
   "metadata": {},
   "outputs": [
    {
     "data": {
      "text/html": [
       "<div>\n",
       "<style scoped>\n",
       "    .dataframe tbody tr th:only-of-type {\n",
       "        vertical-align: middle;\n",
       "    }\n",
       "\n",
       "    .dataframe tbody tr th {\n",
       "        vertical-align: top;\n",
       "    }\n",
       "\n",
       "    .dataframe thead th {\n",
       "        text-align: right;\n",
       "    }\n",
       "</style>\n",
       "<table border=\"1\" class=\"dataframe\">\n",
       "  <thead>\n",
       "    <tr style=\"text-align: right;\">\n",
       "      <th></th>\n",
       "      <th>event_id</th>\n",
       "      <th>game_session</th>\n",
       "      <th>timestamp</th>\n",
       "      <th>event_data</th>\n",
       "      <th>installation_id</th>\n",
       "      <th>event_count</th>\n",
       "      <th>event_code</th>\n",
       "      <th>game_time</th>\n",
       "      <th>title</th>\n",
       "      <th>type</th>\n",
       "      <th>world</th>\n",
       "      <th>num_correct</th>\n",
       "      <th>num_incorrect</th>\n",
       "      <th>accuracy</th>\n",
       "      <th>accuracy_group</th>\n",
       "      <th>date</th>\n",
       "      <th>hour</th>\n",
       "      <th>weekday</th>\n",
       "    </tr>\n",
       "  </thead>\n",
       "  <tbody>\n",
       "    <tr>\n",
       "      <th>25274</th>\n",
       "      <td>f93fc684</td>\n",
       "      <td>aed1a0caf9bfcdb3</td>\n",
       "      <td>2019-10-09 20:30:17.513000+00:00</td>\n",
       "      <td>{\"coordinates\":{\"x\":532,\"y\":682,\"stage_width\":...</td>\n",
       "      <td>00634433</td>\n",
       "      <td>2</td>\n",
       "      <td>4010</td>\n",
       "      <td>2278</td>\n",
       "      <td>Chow Time</td>\n",
       "      <td>Game</td>\n",
       "      <td>CRYSTALCAVES</td>\n",
       "      <td>NaN</td>\n",
       "      <td>NaN</td>\n",
       "      <td>NaN</td>\n",
       "      <td>NaN</td>\n",
       "      <td>2019-10-09</td>\n",
       "      <td>20</td>\n",
       "      <td>Wednesday</td>\n",
       "    </tr>\n",
       "    <tr>\n",
       "      <th>25275</th>\n",
       "      <td>7ec0c298</td>\n",
       "      <td>aed1a0caf9bfcdb3</td>\n",
       "      <td>2019-10-09 20:30:19.778000+00:00</td>\n",
       "      <td>{\"description\":\"It's Chow Time! We have some V...</td>\n",
       "      <td>00634433</td>\n",
       "      <td>3</td>\n",
       "      <td>3010</td>\n",
       "      <td>4545</td>\n",
       "      <td>Chow Time</td>\n",
       "      <td>Game</td>\n",
       "      <td>CRYSTALCAVES</td>\n",
       "      <td>NaN</td>\n",
       "      <td>NaN</td>\n",
       "      <td>NaN</td>\n",
       "      <td>NaN</td>\n",
       "      <td>2019-10-09</td>\n",
       "      <td>20</td>\n",
       "      <td>Wednesday</td>\n",
       "    </tr>\n",
       "    <tr>\n",
       "      <th>25276</th>\n",
       "      <td>0d1da71f</td>\n",
       "      <td>aed1a0caf9bfcdb3</td>\n",
       "      <td>2019-10-09 20:30:30.155000+00:00</td>\n",
       "      <td>{\"description\":\"It's Chow Time! We have some V...</td>\n",
       "      <td>00634433</td>\n",
       "      <td>4</td>\n",
       "      <td>3110</td>\n",
       "      <td>14930</td>\n",
       "      <td>Chow Time</td>\n",
       "      <td>Game</td>\n",
       "      <td>CRYSTALCAVES</td>\n",
       "      <td>NaN</td>\n",
       "      <td>NaN</td>\n",
       "      <td>NaN</td>\n",
       "      <td>NaN</td>\n",
       "      <td>2019-10-09</td>\n",
       "      <td>20</td>\n",
       "      <td>Wednesday</td>\n",
       "    </tr>\n",
       "    <tr>\n",
       "      <th>25277</th>\n",
       "      <td>63f13dd7</td>\n",
       "      <td>aed1a0caf9bfcdb3</td>\n",
       "      <td>2019-10-09 20:30:30.161000+00:00</td>\n",
       "      <td>{\"dinosaur\":\"leslie\",\"diet\":\"herbivore\",\"targe...</td>\n",
       "      <td>00634433</td>\n",
       "      <td>5</td>\n",
       "      <td>2020</td>\n",
       "      <td>14930</td>\n",
       "      <td>Chow Time</td>\n",
       "      <td>Game</td>\n",
       "      <td>CRYSTALCAVES</td>\n",
       "      <td>NaN</td>\n",
       "      <td>NaN</td>\n",
       "      <td>NaN</td>\n",
       "      <td>NaN</td>\n",
       "      <td>2019-10-09</td>\n",
       "      <td>20</td>\n",
       "      <td>Wednesday</td>\n",
       "    </tr>\n",
       "    <tr>\n",
       "      <th>25278</th>\n",
       "      <td>7ec0c298</td>\n",
       "      <td>aed1a0caf9bfcdb3</td>\n",
       "      <td>2019-10-09 20:30:30.163000+00:00</td>\n",
       "      <td>{\"description\":\"To make the sure dinosaur eats...</td>\n",
       "      <td>00634433</td>\n",
       "      <td>6</td>\n",
       "      <td>3010</td>\n",
       "      <td>14930</td>\n",
       "      <td>Chow Time</td>\n",
       "      <td>Game</td>\n",
       "      <td>CRYSTALCAVES</td>\n",
       "      <td>NaN</td>\n",
       "      <td>NaN</td>\n",
       "      <td>NaN</td>\n",
       "      <td>NaN</td>\n",
       "      <td>2019-10-09</td>\n",
       "      <td>20</td>\n",
       "      <td>Wednesday</td>\n",
       "    </tr>\n",
       "  </tbody>\n",
       "</table>\n",
       "</div>"
      ],
      "text/plain": [
       "       event_id      game_session                        timestamp  \\\n",
       "25274  f93fc684  aed1a0caf9bfcdb3 2019-10-09 20:30:17.513000+00:00   \n",
       "25275  7ec0c298  aed1a0caf9bfcdb3 2019-10-09 20:30:19.778000+00:00   \n",
       "25276  0d1da71f  aed1a0caf9bfcdb3 2019-10-09 20:30:30.155000+00:00   \n",
       "25277  63f13dd7  aed1a0caf9bfcdb3 2019-10-09 20:30:30.161000+00:00   \n",
       "25278  7ec0c298  aed1a0caf9bfcdb3 2019-10-09 20:30:30.163000+00:00   \n",
       "\n",
       "                                              event_data installation_id  \\\n",
       "25274  {\"coordinates\":{\"x\":532,\"y\":682,\"stage_width\":...        00634433   \n",
       "25275  {\"description\":\"It's Chow Time! We have some V...        00634433   \n",
       "25276  {\"description\":\"It's Chow Time! We have some V...        00634433   \n",
       "25277  {\"dinosaur\":\"leslie\",\"diet\":\"herbivore\",\"targe...        00634433   \n",
       "25278  {\"description\":\"To make the sure dinosaur eats...        00634433   \n",
       "\n",
       "       event_count  event_code  game_time      title  type         world  \\\n",
       "25274            2        4010       2278  Chow Time  Game  CRYSTALCAVES   \n",
       "25275            3        3010       4545  Chow Time  Game  CRYSTALCAVES   \n",
       "25276            4        3110      14930  Chow Time  Game  CRYSTALCAVES   \n",
       "25277            5        2020      14930  Chow Time  Game  CRYSTALCAVES   \n",
       "25278            6        3010      14930  Chow Time  Game  CRYSTALCAVES   \n",
       "\n",
       "       num_correct  num_incorrect  accuracy  accuracy_group        date  hour  \\\n",
       "25274          NaN            NaN       NaN             NaN  2019-10-09    20   \n",
       "25275          NaN            NaN       NaN             NaN  2019-10-09    20   \n",
       "25276          NaN            NaN       NaN             NaN  2019-10-09    20   \n",
       "25277          NaN            NaN       NaN             NaN  2019-10-09    20   \n",
       "25278          NaN            NaN       NaN             NaN  2019-10-09    20   \n",
       "\n",
       "         weekday  \n",
       "25274  Wednesday  \n",
       "25275  Wednesday  \n",
       "25276  Wednesday  \n",
       "25277  Wednesday  \n",
       "25278  Wednesday  "
      ]
     },
     "execution_count": 348,
     "metadata": {},
     "output_type": "execute_result"
    }
   ],
   "source": [
    "no_out[no_out.installation_id == '00634433'].head()"
   ]
  },
  {
   "cell_type": "code",
   "execution_count": 334,
   "metadata": {},
   "outputs": [
    {
     "data": {
      "image/png": "[encoded data removed]",
      "text/plain": [
       "<Figure size 4320x1800 with 1 Axes>"
      ]
     },
     "metadata": {},
     "output_type": "display_data"
    }
   ],
   "source": [
    "plt.figure(figsize=(60,25))\n",
    "\n",
    "sns.countplot(data=dates_df, x='days', palette=my_pal)\n",
    "\n",
    "plt.tick_params(axis='x', labelsize=25)\n",
    "plt.tick_params(axis='y', labelsize=25)\n",
    "plt.xticks(rotation=45)\n",
    "sns.set(font_scale=5)\n",
    "\n",
    "plt.xlabel('Days')\n",
    "plt.ylabel('Number of Users')\n",
    "plt.title('Distribution of Usage Duration by User')\n",
    "plt.show()"
   ]
  },
  {
   "cell_type": "code",
   "execution_count": 343,
   "metadata": {},
   "outputs": [],
   "source": [
    "dur_0_df = time_series[time_series.installation_id.isin(dur_0)]"
   ]
  },
  {
   "cell_type": "code",
   "execution_count": 347,
   "metadata": {},
   "outputs": [
    {
     "data": {
      "text/plain": [
       "Game          305930\n",
       "Activity      241487\n",
       "Assessment    107406\n",
       "Clip            7836\n",
       "Name: type, dtype: int64"
      ]
     },
     "execution_count": 347,
     "metadata": {},
     "output_type": "execute_result"
    }
   ],
   "source": [
    "dur_0_df.type.value_counts(dropna=False)"
   ]
  },
  {
   "cell_type": "code",
   "execution_count": null,
   "metadata": {},
   "outputs": [],
   "source": []
  }
 ],
 "metadata": {
  "kernelspec": {
   "display_name": "Python 3",
   "language": "python",
   "name": "python3"
  },
  "language_info": {
   "codemirror_mode": {
    "name": "ipython",
    "version": 3
   },
   "file_extension": ".py",
   "mimetype": "text/x-python",
   "name": "python",
   "nbconvert_exporter": "python",
   "pygments_lexer": "ipython3",
   "version": "3.7.3"
  },
  "toc": {
   "base_numbering": 1,
   "nav_menu": {},
   "number_sections": true,
   "sideBar": true,
   "skip_h1_title": false,
   "title_cell": "Table of Contents",
   "title_sidebar": "Contents",
   "toc_cell": false,
   "toc_position": {},
   "toc_section_display": true,
   "toc_window_display": true
  }
 },
 "nbformat": 4,
 "nbformat_minor": 2
}
