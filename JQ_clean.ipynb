{
 "cells": [
  {
   "cell_type": "code",
   "execution_count": 340,
   "metadata": {},
   "outputs": [],
   "source": [
    "# Packages\n",
    "import pandas as pd\n",
    "import numpy as np\n",
    "from scipy import stats\n",
    "\n",
    "import matplotlib.pyplot as plt\n",
    "%matplotlib inline\n",
    "import seaborn as sns\n",
    "sns.set(style=\"whitegrid\")\n",
    "\n",
    "import matplotlib as mpl\n",
    "# label_size = 24\n",
    "# mpl.rcParams['xtick.labelsize'] = label_size \n",
    "# plt.rcParams['xtick.labelsize']=24\n",
    "# plt.rcParams['ytick.labelsize']=24\n",
    "\n",
    "import matplotlib.pyplot as plt\n",
    "\n",
    "SMALL_SIZE = 24\n",
    "MEDIUM_SIZE = 24\n",
    "BIGGER_SIZE = 24\n",
    "\n",
    "plt.rc('font', size=SMALL_SIZE)          # controls default text sizes\n",
    "plt.rc('axes', titlesize=SMALL_SIZE)     # fontsize of the axes title\n",
    "plt.rc('axes', labelsize=MEDIUM_SIZE)    # fontsize of the x and y labels\n",
    "plt.rc('xtick', labelsize=SMALL_SIZE)    # fontsize of the tick labels\n",
    "plt.rc('ytick', labelsize=SMALL_SIZE)    # fontsize of the tick labels\n",
    "plt.rc('legend', fontsize=SMALL_SIZE)    # legend fontsize\n",
    "plt.rc('figure', titlesize=BIGGER_SIZE)  # fontsize of the figure title\n",
    "\n",
    "import wrangle\n",
    "import linear_random"
   ]
  },
  {
   "cell_type": "code",
   "execution_count": 2,
   "metadata": {},
   "outputs": [
    {
     "data": {
      "image/png": "[encoded data removed]",
      "text/plain": [
       "<Figure size 360x72 with 1 Axes>"
      ]
     },
     "metadata": {},
     "output_type": "display_data"
    }
   ],
   "source": [
    "# Create an array with the colors you want to use\n",
    "heat = [ 'pink', 'gold', 'darkturquoise', 'red', 'black']\n",
    "# Set your custom color palette\n",
    "my_pal = sns.color_palette(heat)\n",
    "sns.palplot(my_pal)"
   ]
  },
  {
   "cell_type": "code",
   "execution_count": 3,
   "metadata": {},
   "outputs": [],
   "source": [
    "# acquire data\n",
    "df = pd.read_csv(\"train_maybe_final.csv\")"
   ]
  },
  {
   "cell_type": "code",
   "execution_count": 3,
   "metadata": {},
   "outputs": [
    {
     "data": {
      "text/plain": [
       "Game          2652615\n",
       "Activity      2059975\n",
       "Assessment     534494\n",
       "Clip            63522\n",
       "Name: type, dtype: int64"
      ]
     },
     "execution_count": 3,
     "metadata": {},
     "output_type": "execute_result"
    }
   ],
   "source": [
    "df.type.value_counts()"
   ]
  },
  {
   "cell_type": "code",
   "execution_count": 4,
   "metadata": {},
   "outputs": [
    {
     "data": {
      "text/plain": [
       "(5310606, 19)"
      ]
     },
     "execution_count": 4,
     "metadata": {},
     "output_type": "execute_result"
    }
   ],
   "source": [
    "df.shape"
   ]
  },
  {
   "cell_type": "code",
   "execution_count": 8,
   "metadata": {},
   "outputs": [
    {
     "data": {
      "text/plain": [
       "3485"
      ]
     },
     "execution_count": 8,
     "metadata": {},
     "output_type": "execute_result"
    }
   ],
   "source": [
    "df.installation_id.nunique()"
   ]
  },
  {
   "cell_type": "code",
   "execution_count": 6,
   "metadata": {},
   "outputs": [
    {
     "name": "stdout",
     "output_type": "stream",
     "text": [
      "<class 'pandas.core.frame.DataFrame'>\n",
      "RangeIndex: 5310606 entries, 0 to 5310605\n",
      "Data columns (total 19 columns):\n",
      "Unnamed: 0         int64\n",
      "event_id           object\n",
      "game_session       object\n",
      "timestamp          object\n",
      "event_data         object\n",
      "installation_id    object\n",
      "event_count        int64\n",
      "event_code         int64\n",
      "game_time          int64\n",
      "title              object\n",
      "type               object\n",
      "world              object\n",
      "num_correct        float64\n",
      "num_incorrect      float64\n",
      "accuracy           float64\n",
      "accuracy_group     float64\n",
      "date               object\n",
      "hour               int64\n",
      "weekday            object\n",
      "dtypes: float64(4), int64(5), object(10)\n",
      "memory usage: 769.8+ MB\n"
     ]
    }
   ],
   "source": [
    "df.info()"
   ]
  },
  {
   "cell_type": "code",
   "execution_count": 7,
   "metadata": {},
   "outputs": [
    {
     "data": {
      "text/html": [
       "<div>\n",
       "<style scoped>\n",
       "    .dataframe tbody tr th:only-of-type {\n",
       "        vertical-align: middle;\n",
       "    }\n",
       "\n",
       "    .dataframe tbody tr th {\n",
       "        vertical-align: top;\n",
       "    }\n",
       "\n",
       "    .dataframe thead th {\n",
       "        text-align: right;\n",
       "    }\n",
       "</style>\n",
       "<table border=\"1\" class=\"dataframe\">\n",
       "  <thead>\n",
       "    <tr style=\"text-align: right;\">\n",
       "      <th></th>\n",
       "      <th>Unnamed: 0</th>\n",
       "      <th>event_id</th>\n",
       "      <th>game_session</th>\n",
       "      <th>timestamp</th>\n",
       "      <th>event_data</th>\n",
       "      <th>installation_id</th>\n",
       "      <th>event_count</th>\n",
       "      <th>event_code</th>\n",
       "      <th>game_time</th>\n",
       "      <th>title</th>\n",
       "      <th>type</th>\n",
       "      <th>world</th>\n",
       "      <th>num_correct</th>\n",
       "      <th>num_incorrect</th>\n",
       "      <th>accuracy</th>\n",
       "      <th>accuracy_group</th>\n",
       "      <th>date</th>\n",
       "      <th>hour</th>\n",
       "      <th>weekday</th>\n",
       "    </tr>\n",
       "  </thead>\n",
       "  <tbody>\n",
       "    <tr>\n",
       "      <th>0</th>\n",
       "      <td>0</td>\n",
       "      <td>27253bdc</td>\n",
       "      <td>34ba1a28d02ba8ba</td>\n",
       "      <td>2019-08-06 04:57:18.904000+00:00</td>\n",
       "      <td>{\"event_code\": 2000, \"event_count\": 1}</td>\n",
       "      <td>0006a69f</td>\n",
       "      <td>1</td>\n",
       "      <td>2000</td>\n",
       "      <td>0</td>\n",
       "      <td>Welcome to Lost Lagoon!</td>\n",
       "      <td>Clip</td>\n",
       "      <td>NONE</td>\n",
       "      <td>NaN</td>\n",
       "      <td>NaN</td>\n",
       "      <td>NaN</td>\n",
       "      <td>NaN</td>\n",
       "      <td>2019-08-06</td>\n",
       "      <td>4</td>\n",
       "      <td>Tuesday</td>\n",
       "    </tr>\n",
       "    <tr>\n",
       "      <th>1</th>\n",
       "      <td>1</td>\n",
       "      <td>27253bdc</td>\n",
       "      <td>4b57c9a59474a1b9</td>\n",
       "      <td>2019-08-06 04:57:45.301000+00:00</td>\n",
       "      <td>{\"event_code\": 2000, \"event_count\": 1}</td>\n",
       "      <td>0006a69f</td>\n",
       "      <td>1</td>\n",
       "      <td>2000</td>\n",
       "      <td>0</td>\n",
       "      <td>Magma Peak - Level 1</td>\n",
       "      <td>Clip</td>\n",
       "      <td>MAGMAPEAK</td>\n",
       "      <td>NaN</td>\n",
       "      <td>NaN</td>\n",
       "      <td>NaN</td>\n",
       "      <td>NaN</td>\n",
       "      <td>2019-08-06</td>\n",
       "      <td>4</td>\n",
       "      <td>Tuesday</td>\n",
       "    </tr>\n",
       "    <tr>\n",
       "      <th>2</th>\n",
       "      <td>2</td>\n",
       "      <td>77261ab5</td>\n",
       "      <td>2b9d5af79bcdb79f</td>\n",
       "      <td>2019-08-06 04:58:14.538000+00:00</td>\n",
       "      <td>{\"version\":\"1.0\",\"event_count\":1,\"game_time\":0...</td>\n",
       "      <td>0006a69f</td>\n",
       "      <td>1</td>\n",
       "      <td>2000</td>\n",
       "      <td>0</td>\n",
       "      <td>Sandcastle Builder (Activity)</td>\n",
       "      <td>Activity</td>\n",
       "      <td>MAGMAPEAK</td>\n",
       "      <td>NaN</td>\n",
       "      <td>NaN</td>\n",
       "      <td>NaN</td>\n",
       "      <td>NaN</td>\n",
       "      <td>2019-08-06</td>\n",
       "      <td>4</td>\n",
       "      <td>Tuesday</td>\n",
       "    </tr>\n",
       "    <tr>\n",
       "      <th>3</th>\n",
       "      <td>3</td>\n",
       "      <td>b2dba42b</td>\n",
       "      <td>2b9d5af79bcdb79f</td>\n",
       "      <td>2019-08-06 04:58:14.615000+00:00</td>\n",
       "      <td>{\"description\":\"Let's build a sandcastle! Firs...</td>\n",
       "      <td>0006a69f</td>\n",
       "      <td>2</td>\n",
       "      <td>3010</td>\n",
       "      <td>29</td>\n",
       "      <td>Sandcastle Builder (Activity)</td>\n",
       "      <td>Activity</td>\n",
       "      <td>MAGMAPEAK</td>\n",
       "      <td>NaN</td>\n",
       "      <td>NaN</td>\n",
       "      <td>NaN</td>\n",
       "      <td>NaN</td>\n",
       "      <td>2019-08-06</td>\n",
       "      <td>4</td>\n",
       "      <td>Tuesday</td>\n",
       "    </tr>\n",
       "    <tr>\n",
       "      <th>4</th>\n",
       "      <td>4</td>\n",
       "      <td>1325467d</td>\n",
       "      <td>2b9d5af79bcdb79f</td>\n",
       "      <td>2019-08-06 04:58:16.680000+00:00</td>\n",
       "      <td>{\"coordinates\":{\"x\":273,\"y\":650,\"stage_width\":...</td>\n",
       "      <td>0006a69f</td>\n",
       "      <td>3</td>\n",
       "      <td>4070</td>\n",
       "      <td>2137</td>\n",
       "      <td>Sandcastle Builder (Activity)</td>\n",
       "      <td>Activity</td>\n",
       "      <td>MAGMAPEAK</td>\n",
       "      <td>NaN</td>\n",
       "      <td>NaN</td>\n",
       "      <td>NaN</td>\n",
       "      <td>NaN</td>\n",
       "      <td>2019-08-06</td>\n",
       "      <td>4</td>\n",
       "      <td>Tuesday</td>\n",
       "    </tr>\n",
       "  </tbody>\n",
       "</table>\n",
       "</div>"
      ],
      "text/plain": [
       "   Unnamed: 0  event_id      game_session                         timestamp  \\\n",
       "0           0  27253bdc  34ba1a28d02ba8ba  2019-08-06 04:57:18.904000+00:00   \n",
       "1           1  27253bdc  4b57c9a59474a1b9  2019-08-06 04:57:45.301000+00:00   \n",
       "2           2  77261ab5  2b9d5af79bcdb79f  2019-08-06 04:58:14.538000+00:00   \n",
       "3           3  b2dba42b  2b9d5af79bcdb79f  2019-08-06 04:58:14.615000+00:00   \n",
       "4           4  1325467d  2b9d5af79bcdb79f  2019-08-06 04:58:16.680000+00:00   \n",
       "\n",
       "                                          event_data installation_id  \\\n",
       "0             {\"event_code\": 2000, \"event_count\": 1}        0006a69f   \n",
       "1             {\"event_code\": 2000, \"event_count\": 1}        0006a69f   \n",
       "2  {\"version\":\"1.0\",\"event_count\":1,\"game_time\":0...        0006a69f   \n",
       "3  {\"description\":\"Let's build a sandcastle! Firs...        0006a69f   \n",
       "4  {\"coordinates\":{\"x\":273,\"y\":650,\"stage_width\":...        0006a69f   \n",
       "\n",
       "   event_count  event_code  game_time                          title  \\\n",
       "0            1        2000          0        Welcome to Lost Lagoon!   \n",
       "1            1        2000          0           Magma Peak - Level 1   \n",
       "2            1        2000          0  Sandcastle Builder (Activity)   \n",
       "3            2        3010         29  Sandcastle Builder (Activity)   \n",
       "4            3        4070       2137  Sandcastle Builder (Activity)   \n",
       "\n",
       "       type      world  num_correct  num_incorrect  accuracy  accuracy_group  \\\n",
       "0      Clip       NONE          NaN            NaN       NaN             NaN   \n",
       "1      Clip  MAGMAPEAK          NaN            NaN       NaN             NaN   \n",
       "2  Activity  MAGMAPEAK          NaN            NaN       NaN             NaN   \n",
       "3  Activity  MAGMAPEAK          NaN            NaN       NaN             NaN   \n",
       "4  Activity  MAGMAPEAK          NaN            NaN       NaN             NaN   \n",
       "\n",
       "         date  hour  weekday  \n",
       "0  2019-08-06     4  Tuesday  \n",
       "1  2019-08-06     4  Tuesday  \n",
       "2  2019-08-06     4  Tuesday  \n",
       "3  2019-08-06     4  Tuesday  \n",
       "4  2019-08-06     4  Tuesday  "
      ]
     },
     "execution_count": 7,
     "metadata": {},
     "output_type": "execute_result"
    }
   ],
   "source": [
    "df.head(5)"
   ]
  },
  {
   "cell_type": "code",
   "execution_count": 157,
   "metadata": {},
   "outputs": [
    {
     "data": {
      "text/plain": [
       "installation_id  world        type      game_session    \n",
       "0006a69f         MAGMAPEAK    Activity  2b9d5af79bcdb79f    102\n",
       "                                        7a4ee0624abb5ef8    110\n",
       "                                        a63e30931510b96b     59\n",
       "                                        aba85d9249eb9189     51\n",
       "                              Clip      343d01f40e4616dc      1\n",
       "                                                           ... \n",
       "ffeb0b1b         TREETOPCITY  Clip      ccc7fd9606733f83      1\n",
       "                                        cd4fd86f2c34b139      1\n",
       "                                        ead68f52fcce38ff      1\n",
       "                                        ee35ad382b29b3e0      1\n",
       "                                        fafc3deda44d80dc      1\n",
       "Name: event_code, Length: 120041, dtype: int64"
      ]
     },
     "execution_count": 157,
     "metadata": {},
     "output_type": "execute_result"
    }
   ],
   "source": [
    "df.groupby(['installation_id','world','type','game_session']).event_code.count()"
   ]
  },
  {
   "cell_type": "code",
   "execution_count": 154,
   "metadata": {},
   "outputs": [
    {
     "data": {
      "text/plain": [
       "installation_id  game_session    \n",
       "0006a69f         0336db4dee65ad4b    131\n",
       "                 05921a6eb858eeba     84\n",
       "                 09fd0cc02e6ee5f4      1\n",
       "                 1623f262016185e4     64\n",
       "                 1dd51df3dd28e7e0      1\n",
       "                                    ... \n",
       "ffeb0b1b         e96910064986ea78     76\n",
       "                 ead68f52fcce38ff      1\n",
       "                 ee35ad382b29b3e0      1\n",
       "                 f88dc29664b912a3    604\n",
       "                 fafc3deda44d80dc      1\n",
       "Name: world, Length: 120041, dtype: int64"
      ]
     },
     "execution_count": 154,
     "metadata": {},
     "output_type": "execute_result"
    }
   ],
   "source": [
    "df.groupby(['installation_id','game_session']).world.count()"
   ]
  },
  {
   "cell_type": "markdown",
   "metadata": {},
   "source": [
    "# Re-count frequency for each engagement types"
   ]
  },
  {
   "cell_type": "code",
   "execution_count": 336,
   "metadata": {},
   "outputs": [],
   "source": [
    "df = df[df.world != 'None']"
   ]
  },
  {
   "cell_type": "code",
   "execution_count": 208,
   "metadata": {},
   "outputs": [
    {
     "data": {
      "text/plain": [
       "array(['Clip', 'Activity', 'Game', 'Assessment'], dtype=object)"
      ]
     },
     "execution_count": 208,
     "metadata": {},
     "output_type": "execute_result"
    }
   ],
   "source": [
    "df.type.unique()"
   ]
  },
  {
   "cell_type": "code",
   "execution_count": 268,
   "metadata": {},
   "outputs": [
    {
     "data": {
      "text/html": [
       "<div>\n",
       "<style scoped>\n",
       "    .dataframe tbody tr th:only-of-type {\n",
       "        vertical-align: middle;\n",
       "    }\n",
       "\n",
       "    .dataframe tbody tr th {\n",
       "        vertical-align: top;\n",
       "    }\n",
       "\n",
       "    .dataframe thead th {\n",
       "        text-align: right;\n",
       "    }\n",
       "</style>\n",
       "<table border=\"1\" class=\"dataframe\">\n",
       "  <thead>\n",
       "    <tr style=\"text-align: right;\">\n",
       "      <th></th>\n",
       "      <th></th>\n",
       "      <th></th>\n",
       "      <th></th>\n",
       "      <th></th>\n",
       "      <th>event_id</th>\n",
       "    </tr>\n",
       "    <tr>\n",
       "      <th>installation_id</th>\n",
       "      <th>game_session</th>\n",
       "      <th>world</th>\n",
       "      <th>type</th>\n",
       "      <th>title</th>\n",
       "      <th></th>\n",
       "    </tr>\n",
       "  </thead>\n",
       "  <tbody>\n",
       "    <tr>\n",
       "      <th rowspan=\"5\" valign=\"top\">0006a69f</th>\n",
       "      <th>0336db4dee65ad4b</th>\n",
       "      <th>MAGMAPEAK</th>\n",
       "      <th>Game</th>\n",
       "      <th>Scrub-A-Dub</th>\n",
       "      <td>131</td>\n",
       "    </tr>\n",
       "    <tr>\n",
       "      <th>05921a6eb858eeba</th>\n",
       "      <th>TREETOPCITY</th>\n",
       "      <th>Activity</th>\n",
       "      <th>Fireworks (Activity)</th>\n",
       "      <td>84</td>\n",
       "    </tr>\n",
       "    <tr>\n",
       "      <th>09fd0cc02e6ee5f4</th>\n",
       "      <th>TREETOPCITY</th>\n",
       "      <th>Clip</th>\n",
       "      <th>Pirate's Tale</th>\n",
       "      <td>1</td>\n",
       "    </tr>\n",
       "    <tr>\n",
       "      <th>1623f262016185e4</th>\n",
       "      <th>MAGMAPEAK</th>\n",
       "      <th>Game</th>\n",
       "      <th>Scrub-A-Dub</th>\n",
       "      <td>64</td>\n",
       "    </tr>\n",
       "    <tr>\n",
       "      <th>1dd51df3dd28e7e0</th>\n",
       "      <th>TREETOPCITY</th>\n",
       "      <th>Clip</th>\n",
       "      <th>Costume Box</th>\n",
       "      <td>1</td>\n",
       "    </tr>\n",
       "    <tr>\n",
       "      <th>...</th>\n",
       "      <th>...</th>\n",
       "      <th>...</th>\n",
       "      <th>...</th>\n",
       "      <th>...</th>\n",
       "      <td>...</td>\n",
       "    </tr>\n",
       "    <tr>\n",
       "      <th rowspan=\"5\" valign=\"top\">ffeb0b1b</th>\n",
       "      <th>e96910064986ea78</th>\n",
       "      <th>MAGMAPEAK</th>\n",
       "      <th>Activity</th>\n",
       "      <th>Sandcastle Builder (Activity)</th>\n",
       "      <td>76</td>\n",
       "    </tr>\n",
       "    <tr>\n",
       "      <th>ead68f52fcce38ff</th>\n",
       "      <th>TREETOPCITY</th>\n",
       "      <th>Clip</th>\n",
       "      <th>Tree Top City - Level 1</th>\n",
       "      <td>1</td>\n",
       "    </tr>\n",
       "    <tr>\n",
       "      <th>ee35ad382b29b3e0</th>\n",
       "      <th>TREETOPCITY</th>\n",
       "      <th>Clip</th>\n",
       "      <th>Ordering Spheres</th>\n",
       "      <td>1</td>\n",
       "    </tr>\n",
       "    <tr>\n",
       "      <th>f88dc29664b912a3</th>\n",
       "      <th>CRYSTALCAVES</th>\n",
       "      <th>Game</th>\n",
       "      <th>Chow Time</th>\n",
       "      <td>604</td>\n",
       "    </tr>\n",
       "    <tr>\n",
       "      <th>fafc3deda44d80dc</th>\n",
       "      <th>TREETOPCITY</th>\n",
       "      <th>Clip</th>\n",
       "      <th>Ordering Spheres</th>\n",
       "      <td>1</td>\n",
       "    </tr>\n",
       "  </tbody>\n",
       "</table>\n",
       "<p>120041 rows × 1 columns</p>\n",
       "</div>"
      ],
      "text/plain": [
       "                                                                                      event_id\n",
       "installation_id game_session     world        type     title                                  \n",
       "0006a69f        0336db4dee65ad4b MAGMAPEAK    Game     Scrub-A-Dub                         131\n",
       "                05921a6eb858eeba TREETOPCITY  Activity Fireworks (Activity)                 84\n",
       "                09fd0cc02e6ee5f4 TREETOPCITY  Clip     Pirate's Tale                         1\n",
       "                1623f262016185e4 MAGMAPEAK    Game     Scrub-A-Dub                          64\n",
       "                1dd51df3dd28e7e0 TREETOPCITY  Clip     Costume Box                           1\n",
       "...                                                                                        ...\n",
       "ffeb0b1b        e96910064986ea78 MAGMAPEAK    Activity Sandcastle Builder (Activity)        76\n",
       "                ead68f52fcce38ff TREETOPCITY  Clip     Tree Top City - Level 1               1\n",
       "                ee35ad382b29b3e0 TREETOPCITY  Clip     Ordering Spheres                      1\n",
       "                f88dc29664b912a3 CRYSTALCAVES Game     Chow Time                           604\n",
       "                fafc3deda44d80dc TREETOPCITY  Clip     Ordering Spheres                      1\n",
       "\n",
       "[120041 rows x 1 columns]"
      ]
     },
     "execution_count": 268,
     "metadata": {},
     "output_type": "execute_result"
    }
   ],
   "source": [
    "clip2 = df.groupby(['installation_id','game_session','world','type','title'])[['event_id']].count()\n",
    "clip2"
   ]
  },
  {
   "cell_type": "code",
   "execution_count": 270,
   "metadata": {},
   "outputs": [
    {
     "data": {
      "text/html": [
       "<div>\n",
       "<style scoped>\n",
       "    .dataframe tbody tr th:only-of-type {\n",
       "        vertical-align: middle;\n",
       "    }\n",
       "\n",
       "    .dataframe tbody tr th {\n",
       "        vertical-align: top;\n",
       "    }\n",
       "\n",
       "    .dataframe thead th {\n",
       "        text-align: right;\n",
       "    }\n",
       "</style>\n",
       "<table border=\"1\" class=\"dataframe\">\n",
       "  <thead>\n",
       "    <tr style=\"text-align: right;\">\n",
       "      <th></th>\n",
       "      <th>installation_id</th>\n",
       "      <th>game_session</th>\n",
       "      <th>world</th>\n",
       "      <th>type</th>\n",
       "      <th>title</th>\n",
       "    </tr>\n",
       "  </thead>\n",
       "  <tbody>\n",
       "    <tr>\n",
       "      <th>0</th>\n",
       "      <td>0006a69f</td>\n",
       "      <td>0336db4dee65ad4b</td>\n",
       "      <td>MAGMAPEAK</td>\n",
       "      <td>Game</td>\n",
       "      <td>Scrub-A-Dub</td>\n",
       "    </tr>\n",
       "    <tr>\n",
       "      <th>1</th>\n",
       "      <td>0006a69f</td>\n",
       "      <td>05921a6eb858eeba</td>\n",
       "      <td>TREETOPCITY</td>\n",
       "      <td>Activity</td>\n",
       "      <td>Fireworks (Activity)</td>\n",
       "    </tr>\n",
       "    <tr>\n",
       "      <th>2</th>\n",
       "      <td>0006a69f</td>\n",
       "      <td>09fd0cc02e6ee5f4</td>\n",
       "      <td>TREETOPCITY</td>\n",
       "      <td>Clip</td>\n",
       "      <td>Pirate's Tale</td>\n",
       "    </tr>\n",
       "    <tr>\n",
       "      <th>3</th>\n",
       "      <td>0006a69f</td>\n",
       "      <td>1623f262016185e4</td>\n",
       "      <td>MAGMAPEAK</td>\n",
       "      <td>Game</td>\n",
       "      <td>Scrub-A-Dub</td>\n",
       "    </tr>\n",
       "    <tr>\n",
       "      <th>4</th>\n",
       "      <td>0006a69f</td>\n",
       "      <td>1dd51df3dd28e7e0</td>\n",
       "      <td>TREETOPCITY</td>\n",
       "      <td>Clip</td>\n",
       "      <td>Costume Box</td>\n",
       "    </tr>\n",
       "    <tr>\n",
       "      <th>...</th>\n",
       "      <td>...</td>\n",
       "      <td>...</td>\n",
       "      <td>...</td>\n",
       "      <td>...</td>\n",
       "      <td>...</td>\n",
       "    </tr>\n",
       "    <tr>\n",
       "      <th>120036</th>\n",
       "      <td>ffeb0b1b</td>\n",
       "      <td>e96910064986ea78</td>\n",
       "      <td>MAGMAPEAK</td>\n",
       "      <td>Activity</td>\n",
       "      <td>Sandcastle Builder (Activity)</td>\n",
       "    </tr>\n",
       "    <tr>\n",
       "      <th>120037</th>\n",
       "      <td>ffeb0b1b</td>\n",
       "      <td>ead68f52fcce38ff</td>\n",
       "      <td>TREETOPCITY</td>\n",
       "      <td>Clip</td>\n",
       "      <td>Tree Top City - Level 1</td>\n",
       "    </tr>\n",
       "    <tr>\n",
       "      <th>120038</th>\n",
       "      <td>ffeb0b1b</td>\n",
       "      <td>ee35ad382b29b3e0</td>\n",
       "      <td>TREETOPCITY</td>\n",
       "      <td>Clip</td>\n",
       "      <td>Ordering Spheres</td>\n",
       "    </tr>\n",
       "    <tr>\n",
       "      <th>120039</th>\n",
       "      <td>ffeb0b1b</td>\n",
       "      <td>f88dc29664b912a3</td>\n",
       "      <td>CRYSTALCAVES</td>\n",
       "      <td>Game</td>\n",
       "      <td>Chow Time</td>\n",
       "    </tr>\n",
       "    <tr>\n",
       "      <th>120040</th>\n",
       "      <td>ffeb0b1b</td>\n",
       "      <td>fafc3deda44d80dc</td>\n",
       "      <td>TREETOPCITY</td>\n",
       "      <td>Clip</td>\n",
       "      <td>Ordering Spheres</td>\n",
       "    </tr>\n",
       "  </tbody>\n",
       "</table>\n",
       "<p>120041 rows × 5 columns</p>\n",
       "</div>"
      ],
      "text/plain": [
       "       installation_id      game_session         world      type  \\\n",
       "0             0006a69f  0336db4dee65ad4b     MAGMAPEAK      Game   \n",
       "1             0006a69f  05921a6eb858eeba   TREETOPCITY  Activity   \n",
       "2             0006a69f  09fd0cc02e6ee5f4   TREETOPCITY      Clip   \n",
       "3             0006a69f  1623f262016185e4     MAGMAPEAK      Game   \n",
       "4             0006a69f  1dd51df3dd28e7e0   TREETOPCITY      Clip   \n",
       "...                ...               ...           ...       ...   \n",
       "120036        ffeb0b1b  e96910064986ea78     MAGMAPEAK  Activity   \n",
       "120037        ffeb0b1b  ead68f52fcce38ff   TREETOPCITY      Clip   \n",
       "120038        ffeb0b1b  ee35ad382b29b3e0   TREETOPCITY      Clip   \n",
       "120039        ffeb0b1b  f88dc29664b912a3  CRYSTALCAVES      Game   \n",
       "120040        ffeb0b1b  fafc3deda44d80dc   TREETOPCITY      Clip   \n",
       "\n",
       "                                title  \n",
       "0                         Scrub-A-Dub  \n",
       "1                Fireworks (Activity)  \n",
       "2                       Pirate's Tale  \n",
       "3                         Scrub-A-Dub  \n",
       "4                         Costume Box  \n",
       "...                               ...  \n",
       "120036  Sandcastle Builder (Activity)  \n",
       "120037        Tree Top City - Level 1  \n",
       "120038               Ordering Spheres  \n",
       "120039                      Chow Time  \n",
       "120040               Ordering Spheres  \n",
       "\n",
       "[120041 rows x 5 columns]"
      ]
     },
     "execution_count": 270,
     "metadata": {},
     "output_type": "execute_result"
    }
   ],
   "source": [
    "clip2 = clip2.drop(columns = 'event_id').reset_index()\n",
    "clip2"
   ]
  },
  {
   "cell_type": "code",
   "execution_count": 271,
   "metadata": {},
   "outputs": [
    {
     "data": {
      "text/html": [
       "<div>\n",
       "<style scoped>\n",
       "    .dataframe tbody tr th:only-of-type {\n",
       "        vertical-align: middle;\n",
       "    }\n",
       "\n",
       "    .dataframe tbody tr th {\n",
       "        vertical-align: top;\n",
       "    }\n",
       "\n",
       "    .dataframe thead th {\n",
       "        text-align: right;\n",
       "    }\n",
       "</style>\n",
       "<table border=\"1\" class=\"dataframe\">\n",
       "  <thead>\n",
       "    <tr style=\"text-align: right;\">\n",
       "      <th></th>\n",
       "      <th></th>\n",
       "      <th>title</th>\n",
       "    </tr>\n",
       "    <tr>\n",
       "      <th>installation_id</th>\n",
       "      <th>type</th>\n",
       "      <th></th>\n",
       "    </tr>\n",
       "  </thead>\n",
       "  <tbody>\n",
       "    <tr>\n",
       "      <th rowspan=\"4\" valign=\"top\">0006a69f</th>\n",
       "      <th>Activity</th>\n",
       "      <td>10</td>\n",
       "    </tr>\n",
       "    <tr>\n",
       "      <th>Assessment</th>\n",
       "      <td>4</td>\n",
       "    </tr>\n",
       "    <tr>\n",
       "      <th>Clip</th>\n",
       "      <td>28</td>\n",
       "    </tr>\n",
       "    <tr>\n",
       "      <th>Game</th>\n",
       "      <td>13</td>\n",
       "    </tr>\n",
       "    <tr>\n",
       "      <th>0006c192</th>\n",
       "      <th>Activity</th>\n",
       "      <td>8</td>\n",
       "    </tr>\n",
       "    <tr>\n",
       "      <th>...</th>\n",
       "      <th>...</th>\n",
       "      <td>...</td>\n",
       "    </tr>\n",
       "    <tr>\n",
       "      <th>ffd2871d</th>\n",
       "      <th>Game</th>\n",
       "      <td>3</td>\n",
       "    </tr>\n",
       "    <tr>\n",
       "      <th rowspan=\"4\" valign=\"top\">ffeb0b1b</th>\n",
       "      <th>Activity</th>\n",
       "      <td>4</td>\n",
       "    </tr>\n",
       "    <tr>\n",
       "      <th>Assessment</th>\n",
       "      <td>2</td>\n",
       "    </tr>\n",
       "    <tr>\n",
       "      <th>Clip</th>\n",
       "      <td>24</td>\n",
       "    </tr>\n",
       "    <tr>\n",
       "      <th>Game</th>\n",
       "      <td>6</td>\n",
       "    </tr>\n",
       "  </tbody>\n",
       "</table>\n",
       "<p>12051 rows × 1 columns</p>\n",
       "</div>"
      ],
      "text/plain": [
       "                            title\n",
       "installation_id type             \n",
       "0006a69f        Activity       10\n",
       "                Assessment      4\n",
       "                Clip           28\n",
       "                Game           13\n",
       "0006c192        Activity        8\n",
       "...                           ...\n",
       "ffd2871d        Game            3\n",
       "ffeb0b1b        Activity        4\n",
       "                Assessment      2\n",
       "                Clip           24\n",
       "                Game            6\n",
       "\n",
       "[12051 rows x 1 columns]"
      ]
     },
     "execution_count": 271,
     "metadata": {},
     "output_type": "execute_result"
    }
   ],
   "source": [
    "clip2 = clip2.groupby(['installation_id','type'])[['title']].count()\n",
    "clip2"
   ]
  },
  {
   "cell_type": "code",
   "execution_count": 298,
   "metadata": {},
   "outputs": [
    {
     "data": {
      "text/html": [
       "<div>\n",
       "<style scoped>\n",
       "    .dataframe tbody tr th:only-of-type {\n",
       "        vertical-align: middle;\n",
       "    }\n",
       "\n",
       "    .dataframe tbody tr th {\n",
       "        vertical-align: top;\n",
       "    }\n",
       "\n",
       "    .dataframe thead th {\n",
       "        text-align: right;\n",
       "    }\n",
       "</style>\n",
       "<table border=\"1\" class=\"dataframe\">\n",
       "  <thead>\n",
       "    <tr style=\"text-align: right;\">\n",
       "      <th></th>\n",
       "      <th></th>\n",
       "      <th>title</th>\n",
       "    </tr>\n",
       "    <tr>\n",
       "      <th>installation_id</th>\n",
       "      <th>type</th>\n",
       "      <th></th>\n",
       "    </tr>\n",
       "  </thead>\n",
       "  <tbody>\n",
       "    <tr>\n",
       "      <th rowspan=\"4\" valign=\"top\">0006a69f</th>\n",
       "      <th>Activity</th>\n",
       "      <td>10</td>\n",
       "    </tr>\n",
       "    <tr>\n",
       "      <th>Assessment</th>\n",
       "      <td>4</td>\n",
       "    </tr>\n",
       "    <tr>\n",
       "      <th>Clip</th>\n",
       "      <td>28</td>\n",
       "    </tr>\n",
       "    <tr>\n",
       "      <th>Game</th>\n",
       "      <td>13</td>\n",
       "    </tr>\n",
       "    <tr>\n",
       "      <th>0006c192</th>\n",
       "      <th>Activity</th>\n",
       "      <td>8</td>\n",
       "    </tr>\n",
       "    <tr>\n",
       "      <th>...</th>\n",
       "      <th>...</th>\n",
       "      <td>...</td>\n",
       "    </tr>\n",
       "    <tr>\n",
       "      <th rowspan=\"3\" valign=\"top\">01825124</th>\n",
       "      <th>Assessment</th>\n",
       "      <td>2</td>\n",
       "    </tr>\n",
       "    <tr>\n",
       "      <th>Clip</th>\n",
       "      <td>11</td>\n",
       "    </tr>\n",
       "    <tr>\n",
       "      <th>Game</th>\n",
       "      <td>4</td>\n",
       "    </tr>\n",
       "    <tr>\n",
       "      <th rowspan=\"2\" valign=\"top\">01bdd720</th>\n",
       "      <th>Activity</th>\n",
       "      <td>8</td>\n",
       "    </tr>\n",
       "    <tr>\n",
       "      <th>Assessment</th>\n",
       "      <td>4</td>\n",
       "    </tr>\n",
       "  </tbody>\n",
       "</table>\n",
       "<p>100 rows × 1 columns</p>\n",
       "</div>"
      ],
      "text/plain": [
       "                            title\n",
       "installation_id type             \n",
       "0006a69f        Activity       10\n",
       "                Assessment      4\n",
       "                Clip           28\n",
       "                Game           13\n",
       "0006c192        Activity        8\n",
       "...                           ...\n",
       "01825124        Assessment      2\n",
       "                Clip           11\n",
       "                Game            4\n",
       "01bdd720        Activity        8\n",
       "                Assessment      4\n",
       "\n",
       "[100 rows x 1 columns]"
      ]
     },
     "execution_count": 298,
     "metadata": {},
     "output_type": "execute_result"
    }
   ],
   "source": [
    "clip2."
   ]
  },
  {
   "cell_type": "code",
   "execution_count": 272,
   "metadata": {},
   "outputs": [],
   "source": [
    "clip_pivot2 = (clip2\n",
    "       .pivot_table(\n",
    "           values = 'title', \n",
    "           index = ['installation_id'], \n",
    "           columns = ['type'], \n",
    "           aggfunc=np.sum\n",
    "       ).fillna(0).reset_index())\n"
   ]
  },
  {
   "cell_type": "code",
   "execution_count": 273,
   "metadata": {},
   "outputs": [
    {
     "data": {
      "text/html": [
       "<div>\n",
       "<style scoped>\n",
       "    .dataframe tbody tr th:only-of-type {\n",
       "        vertical-align: middle;\n",
       "    }\n",
       "\n",
       "    .dataframe tbody tr th {\n",
       "        vertical-align: top;\n",
       "    }\n",
       "\n",
       "    .dataframe thead th {\n",
       "        text-align: right;\n",
       "    }\n",
       "</style>\n",
       "<table border=\"1\" class=\"dataframe\">\n",
       "  <thead>\n",
       "    <tr style=\"text-align: right;\">\n",
       "      <th>type</th>\n",
       "      <th>installation_id</th>\n",
       "      <th>Activity</th>\n",
       "      <th>Assessment</th>\n",
       "      <th>Clip</th>\n",
       "      <th>Game</th>\n",
       "    </tr>\n",
       "  </thead>\n",
       "  <tbody>\n",
       "    <tr>\n",
       "      <th>0</th>\n",
       "      <td>0006a69f</td>\n",
       "      <td>10.0</td>\n",
       "      <td>4.0</td>\n",
       "      <td>28.0</td>\n",
       "      <td>13.0</td>\n",
       "    </tr>\n",
       "    <tr>\n",
       "      <th>1</th>\n",
       "      <td>0006c192</td>\n",
       "      <td>8.0</td>\n",
       "      <td>2.0</td>\n",
       "      <td>30.0</td>\n",
       "      <td>6.0</td>\n",
       "    </tr>\n",
       "    <tr>\n",
       "      <th>2</th>\n",
       "      <td>001d0ed0</td>\n",
       "      <td>1.0</td>\n",
       "      <td>4.0</td>\n",
       "      <td>19.0</td>\n",
       "      <td>3.0</td>\n",
       "    </tr>\n",
       "    <tr>\n",
       "      <th>3</th>\n",
       "      <td>00225f67</td>\n",
       "      <td>3.0</td>\n",
       "      <td>0.0</td>\n",
       "      <td>10.0</td>\n",
       "      <td>3.0</td>\n",
       "    </tr>\n",
       "    <tr>\n",
       "      <th>4</th>\n",
       "      <td>00279ac5</td>\n",
       "      <td>10.0</td>\n",
       "      <td>0.0</td>\n",
       "      <td>21.0</td>\n",
       "      <td>11.0</td>\n",
       "    </tr>\n",
       "    <tr>\n",
       "      <th>...</th>\n",
       "      <td>...</td>\n",
       "      <td>...</td>\n",
       "      <td>...</td>\n",
       "      <td>...</td>\n",
       "      <td>...</td>\n",
       "    </tr>\n",
       "    <tr>\n",
       "      <th>3480</th>\n",
       "      <td>ff9305d7</td>\n",
       "      <td>7.0</td>\n",
       "      <td>3.0</td>\n",
       "      <td>11.0</td>\n",
       "      <td>5.0</td>\n",
       "    </tr>\n",
       "    <tr>\n",
       "      <th>3481</th>\n",
       "      <td>ff9715db</td>\n",
       "      <td>11.0</td>\n",
       "      <td>8.0</td>\n",
       "      <td>16.0</td>\n",
       "      <td>6.0</td>\n",
       "    </tr>\n",
       "    <tr>\n",
       "      <th>3482</th>\n",
       "      <td>ffc90c32</td>\n",
       "      <td>7.0</td>\n",
       "      <td>5.0</td>\n",
       "      <td>26.0</td>\n",
       "      <td>11.0</td>\n",
       "    </tr>\n",
       "    <tr>\n",
       "      <th>3483</th>\n",
       "      <td>ffd2871d</td>\n",
       "      <td>2.0</td>\n",
       "      <td>0.0</td>\n",
       "      <td>3.0</td>\n",
       "      <td>3.0</td>\n",
       "    </tr>\n",
       "    <tr>\n",
       "      <th>3484</th>\n",
       "      <td>ffeb0b1b</td>\n",
       "      <td>4.0</td>\n",
       "      <td>2.0</td>\n",
       "      <td>24.0</td>\n",
       "      <td>6.0</td>\n",
       "    </tr>\n",
       "  </tbody>\n",
       "</table>\n",
       "<p>3485 rows × 5 columns</p>\n",
       "</div>"
      ],
      "text/plain": [
       "type installation_id  Activity  Assessment  Clip  Game\n",
       "0           0006a69f      10.0         4.0  28.0  13.0\n",
       "1           0006c192       8.0         2.0  30.0   6.0\n",
       "2           001d0ed0       1.0         4.0  19.0   3.0\n",
       "3           00225f67       3.0         0.0  10.0   3.0\n",
       "4           00279ac5      10.0         0.0  21.0  11.0\n",
       "...              ...       ...         ...   ...   ...\n",
       "3480        ff9305d7       7.0         3.0  11.0   5.0\n",
       "3481        ff9715db      11.0         8.0  16.0   6.0\n",
       "3482        ffc90c32       7.0         5.0  26.0  11.0\n",
       "3483        ffd2871d       2.0         0.0   3.0   3.0\n",
       "3484        ffeb0b1b       4.0         2.0  24.0   6.0\n",
       "\n",
       "[3485 rows x 5 columns]"
      ]
     },
     "execution_count": 273,
     "metadata": {},
     "output_type": "execute_result"
    }
   ],
   "source": [
    "clip_pivot2"
   ]
  },
  {
   "cell_type": "code",
   "execution_count": 284,
   "metadata": {},
   "outputs": [
    {
     "data": {
      "text/plain": [
       "type\n",
       "Activity      3074\n",
       "Assessment    2496\n",
       "Clip          3428\n",
       "Game          3053\n",
       "Name: title, dtype: int64"
      ]
     },
     "execution_count": 284,
     "metadata": {},
     "output_type": "execute_result"
    }
   ],
   "source": [
    "clip2.groupby('type').title.count()"
   ]
  },
  {
   "cell_type": "markdown",
   "metadata": {},
   "source": [
    "# What are the usage distributions (ratio) for each item in the game?"
   ]
  },
  {
   "cell_type": "code",
   "execution_count": 295,
   "metadata": {
    "scrolled": false
   },
   "outputs": [
    {
     "data": {
      "image/png": "[encoded data removed]",
      "text/plain": [
       "<Figure size 1152x864 with 1 Axes>"
      ]
     },
     "metadata": {},
     "output_type": "display_data"
    }
   ],
   "source": [
    "plt.figure(figsize=(16,12))\n",
    "\n",
    "c = (clip2.groupby(\"type\")[\"title\"].count())\n",
    "pcts = c.groupby(level=0).apply(lambda x: 100 * x / float(c.sum())).to_frame().reset_index()\n",
    "#plt.legend(title='Color', loc='center left', bbox_to_anchor=(1, 0.5))\n",
    "(sns.barplot(x = \"type\" , y=\"title\", data=pcts, palette=my_pal))\n",
    "\n",
    "plt.title(\"What are the usage distributions (ratio) for each item in the game?\")\n",
    "plt.savefig('engagement_type_freq.pdf')\n",
    "\n",
    "# overall, games and activities are much more used than assessments"
   ]
  },
  {
   "cell_type": "code",
   "execution_count": 213,
   "metadata": {},
   "outputs": [
    {
     "data": {
      "text/html": [
       "<div>\n",
       "<style scoped>\n",
       "    .dataframe tbody tr th:only-of-type {\n",
       "        vertical-align: middle;\n",
       "    }\n",
       "\n",
       "    .dataframe tbody tr th {\n",
       "        vertical-align: top;\n",
       "    }\n",
       "\n",
       "    .dataframe thead th {\n",
       "        text-align: right;\n",
       "    }\n",
       "</style>\n",
       "<table border=\"1\" class=\"dataframe\">\n",
       "  <thead>\n",
       "    <tr style=\"text-align: right;\">\n",
       "      <th></th>\n",
       "      <th>installation_id</th>\n",
       "      <th>world</th>\n",
       "      <th>type</th>\n",
       "      <th>title</th>\n",
       "    </tr>\n",
       "  </thead>\n",
       "  <tbody>\n",
       "    <tr>\n",
       "      <th>64207</th>\n",
       "      <td>ffeb0b1b</td>\n",
       "      <td>CRYSTALCAVES</td>\n",
       "      <td>Clip</td>\n",
       "      <td>Crystal Caves - Level 1</td>\n",
       "    </tr>\n",
       "    <tr>\n",
       "      <th>64208</th>\n",
       "      <td>ffeb0b1b</td>\n",
       "      <td>CRYSTALCAVES</td>\n",
       "      <td>Game</td>\n",
       "      <td>Chow Time</td>\n",
       "    </tr>\n",
       "    <tr>\n",
       "      <th>64209</th>\n",
       "      <td>ffeb0b1b</td>\n",
       "      <td>MAGMAPEAK</td>\n",
       "      <td>Activity</td>\n",
       "      <td>Sandcastle Builder (Activity)</td>\n",
       "    </tr>\n",
       "    <tr>\n",
       "      <th>64210</th>\n",
       "      <td>ffeb0b1b</td>\n",
       "      <td>MAGMAPEAK</td>\n",
       "      <td>Assessment</td>\n",
       "      <td>Cauldron Filler (Assessment)</td>\n",
       "    </tr>\n",
       "    <tr>\n",
       "      <th>64211</th>\n",
       "      <td>ffeb0b1b</td>\n",
       "      <td>MAGMAPEAK</td>\n",
       "      <td>Clip</td>\n",
       "      <td>Magma Peak - Level 1</td>\n",
       "    </tr>\n",
       "    <tr>\n",
       "      <th>64212</th>\n",
       "      <td>ffeb0b1b</td>\n",
       "      <td>NONE</td>\n",
       "      <td>Clip</td>\n",
       "      <td>Welcome to Lost Lagoon!</td>\n",
       "    </tr>\n",
       "    <tr>\n",
       "      <th>64213</th>\n",
       "      <td>ffeb0b1b</td>\n",
       "      <td>TREETOPCITY</td>\n",
       "      <td>Assessment</td>\n",
       "      <td>Mushroom Sorter (Assessment)</td>\n",
       "    </tr>\n",
       "    <tr>\n",
       "      <th>64214</th>\n",
       "      <td>ffeb0b1b</td>\n",
       "      <td>TREETOPCITY</td>\n",
       "      <td>Clip</td>\n",
       "      <td>Ordering Spheres</td>\n",
       "    </tr>\n",
       "    <tr>\n",
       "      <th>64215</th>\n",
       "      <td>ffeb0b1b</td>\n",
       "      <td>TREETOPCITY</td>\n",
       "      <td>Clip</td>\n",
       "      <td>Tree Top City - Level 1</td>\n",
       "    </tr>\n",
       "  </tbody>\n",
       "</table>\n",
       "</div>"
      ],
      "text/plain": [
       "      installation_id         world        type                          title\n",
       "64207        ffeb0b1b  CRYSTALCAVES        Clip        Crystal Caves - Level 1\n",
       "64208        ffeb0b1b  CRYSTALCAVES        Game                      Chow Time\n",
       "64209        ffeb0b1b     MAGMAPEAK    Activity  Sandcastle Builder (Activity)\n",
       "64210        ffeb0b1b     MAGMAPEAK  Assessment   Cauldron Filler (Assessment)\n",
       "64211        ffeb0b1b     MAGMAPEAK        Clip           Magma Peak - Level 1\n",
       "64212        ffeb0b1b          NONE        Clip        Welcome to Lost Lagoon!\n",
       "64213        ffeb0b1b   TREETOPCITY  Assessment   Mushroom Sorter (Assessment)\n",
       "64214        ffeb0b1b   TREETOPCITY        Clip               Ordering Spheres\n",
       "64215        ffeb0b1b   TREETOPCITY        Clip        Tree Top City - Level 1"
      ]
     },
     "execution_count": 213,
     "metadata": {},
     "output_type": "execute_result"
    }
   ],
   "source": [
    "clip2[clip2.installation_id == 'ffeb0b1b']"
   ]
  },
  {
   "cell_type": "markdown",
   "metadata": {},
   "source": [
    "# correlation: clips watched versus accuracy in assessment"
   ]
  },
  {
   "cell_type": "code",
   "execution_count": 275,
   "metadata": {},
   "outputs": [],
   "source": [
    "clip_pivot2 = (clip_pivot2\n",
    "             .merge(median, how = \"left\", left_on = \"installation_id\", right_on = \"installation_id\")\n",
    "             .set_index([\"installation_id\"]))"
   ]
  },
  {
   "cell_type": "code",
   "execution_count": 276,
   "metadata": {},
   "outputs": [
    {
     "data": {
      "text/html": [
       "<div>\n",
       "<style scoped>\n",
       "    .dataframe tbody tr th:only-of-type {\n",
       "        vertical-align: middle;\n",
       "    }\n",
       "\n",
       "    .dataframe tbody tr th {\n",
       "        vertical-align: top;\n",
       "    }\n",
       "\n",
       "    .dataframe thead th {\n",
       "        text-align: right;\n",
       "    }\n",
       "</style>\n",
       "<table border=\"1\" class=\"dataframe\">\n",
       "  <thead>\n",
       "    <tr style=\"text-align: right;\">\n",
       "      <th></th>\n",
       "      <th>Activity</th>\n",
       "      <th>Assessment</th>\n",
       "      <th>Clip</th>\n",
       "      <th>Game</th>\n",
       "      <th>accuracy</th>\n",
       "    </tr>\n",
       "    <tr>\n",
       "      <th>installation_id</th>\n",
       "      <th></th>\n",
       "      <th></th>\n",
       "      <th></th>\n",
       "      <th></th>\n",
       "      <th></th>\n",
       "    </tr>\n",
       "  </thead>\n",
       "  <tbody>\n",
       "    <tr>\n",
       "      <th>0006a69f</th>\n",
       "      <td>10.0</td>\n",
       "      <td>4.0</td>\n",
       "      <td>28.0</td>\n",
       "      <td>13.0</td>\n",
       "      <td>0.500000</td>\n",
       "    </tr>\n",
       "    <tr>\n",
       "      <th>0006c192</th>\n",
       "      <td>8.0</td>\n",
       "      <td>2.0</td>\n",
       "      <td>30.0</td>\n",
       "      <td>6.0</td>\n",
       "      <td>0.000000</td>\n",
       "    </tr>\n",
       "    <tr>\n",
       "      <th>001d0ed0</th>\n",
       "      <td>1.0</td>\n",
       "      <td>4.0</td>\n",
       "      <td>19.0</td>\n",
       "      <td>3.0</td>\n",
       "      <td>0.500000</td>\n",
       "    </tr>\n",
       "    <tr>\n",
       "      <th>00225f67</th>\n",
       "      <td>3.0</td>\n",
       "      <td>0.0</td>\n",
       "      <td>10.0</td>\n",
       "      <td>3.0</td>\n",
       "      <td>NaN</td>\n",
       "    </tr>\n",
       "    <tr>\n",
       "      <th>00279ac5</th>\n",
       "      <td>10.0</td>\n",
       "      <td>0.0</td>\n",
       "      <td>21.0</td>\n",
       "      <td>11.0</td>\n",
       "      <td>NaN</td>\n",
       "    </tr>\n",
       "    <tr>\n",
       "      <th>...</th>\n",
       "      <td>...</td>\n",
       "      <td>...</td>\n",
       "      <td>...</td>\n",
       "      <td>...</td>\n",
       "      <td>...</td>\n",
       "    </tr>\n",
       "    <tr>\n",
       "      <th>ff9305d7</th>\n",
       "      <td>7.0</td>\n",
       "      <td>3.0</td>\n",
       "      <td>11.0</td>\n",
       "      <td>5.0</td>\n",
       "      <td>0.076923</td>\n",
       "    </tr>\n",
       "    <tr>\n",
       "      <th>ff9715db</th>\n",
       "      <td>11.0</td>\n",
       "      <td>8.0</td>\n",
       "      <td>16.0</td>\n",
       "      <td>6.0</td>\n",
       "      <td>1.000000</td>\n",
       "    </tr>\n",
       "    <tr>\n",
       "      <th>ffc90c32</th>\n",
       "      <td>7.0</td>\n",
       "      <td>5.0</td>\n",
       "      <td>26.0</td>\n",
       "      <td>11.0</td>\n",
       "      <td>1.000000</td>\n",
       "    </tr>\n",
       "    <tr>\n",
       "      <th>ffd2871d</th>\n",
       "      <td>2.0</td>\n",
       "      <td>0.0</td>\n",
       "      <td>3.0</td>\n",
       "      <td>3.0</td>\n",
       "      <td>NaN</td>\n",
       "    </tr>\n",
       "    <tr>\n",
       "      <th>ffeb0b1b</th>\n",
       "      <td>4.0</td>\n",
       "      <td>2.0</td>\n",
       "      <td>24.0</td>\n",
       "      <td>6.0</td>\n",
       "      <td>0.000000</td>\n",
       "    </tr>\n",
       "  </tbody>\n",
       "</table>\n",
       "<p>3485 rows × 5 columns</p>\n",
       "</div>"
      ],
      "text/plain": [
       "                 Activity  Assessment  Clip  Game  accuracy\n",
       "installation_id                                            \n",
       "0006a69f             10.0         4.0  28.0  13.0  0.500000\n",
       "0006c192              8.0         2.0  30.0   6.0  0.000000\n",
       "001d0ed0              1.0         4.0  19.0   3.0  0.500000\n",
       "00225f67              3.0         0.0  10.0   3.0       NaN\n",
       "00279ac5             10.0         0.0  21.0  11.0       NaN\n",
       "...                   ...         ...   ...   ...       ...\n",
       "ff9305d7              7.0         3.0  11.0   5.0  0.076923\n",
       "ff9715db             11.0         8.0  16.0   6.0  1.000000\n",
       "ffc90c32              7.0         5.0  26.0  11.0  1.000000\n",
       "ffd2871d              2.0         0.0   3.0   3.0       NaN\n",
       "ffeb0b1b              4.0         2.0  24.0   6.0  0.000000\n",
       "\n",
       "[3485 rows x 5 columns]"
      ]
     },
     "execution_count": 276,
     "metadata": {},
     "output_type": "execute_result"
    }
   ],
   "source": [
    "clip_pivot2"
   ]
  },
  {
   "cell_type": "code",
   "execution_count": 277,
   "metadata": {},
   "outputs": [
    {
     "data": {
      "text/plain": [
       "18.22725968436155"
      ]
     },
     "execution_count": 277,
     "metadata": {},
     "output_type": "execute_result"
    }
   ],
   "source": [
    "clip_pivot2.Clip.mean()"
   ]
  },
  {
   "cell_type": "code",
   "execution_count": 278,
   "metadata": {},
   "outputs": [
    {
     "data": {
      "text/plain": [
       "11.0"
      ]
     },
     "execution_count": 278,
     "metadata": {},
     "output_type": "execute_result"
    }
   ],
   "source": [
    "clip_pivot2.Clip.median()"
   ]
  },
  {
   "cell_type": "code",
   "execution_count": 279,
   "metadata": {},
   "outputs": [
    {
     "data": {
      "text/plain": [
       "<matplotlib.axes._subplots.AxesSubplot at 0x132a5bf28>"
      ]
     },
     "execution_count": 279,
     "metadata": {},
     "output_type": "execute_result"
    },
    {
     "data": {
      "image/png": "[encoded data removed]",
      "text/plain": [
       "<Figure size 432x288 with 1 Axes>"
      ]
     },
     "metadata": {},
     "output_type": "display_data"
    }
   ],
   "source": [
    "sns.distplot(clip_pivot2.Clip)"
   ]
  },
  {
   "cell_type": "code",
   "execution_count": 297,
   "metadata": {},
   "outputs": [],
   "source": [
    "# if a kid ever watches clip > 1\n",
    "# if a kid never watches clip > 0\n",
    "clip_pivot2[\"clip_or_no\"] = np.where(clip_pivot2.Clip <= 11 , \"Low Clip Watching\", \"High Clip Watching\")\n",
    "# merge this df with median.accuracy on installation\n",
    "# compare"
   ]
  },
  {
   "cell_type": "markdown",
   "metadata": {},
   "source": [
    "## swarm plot"
   ]
  },
  {
   "cell_type": "code",
   "execution_count": 301,
   "metadata": {},
   "outputs": [
    {
     "data": {
      "image/png": "[encoded data removed]",
      "text/plain": [
       "<Figure size 1152x864 with 1 Axes>"
      ]
     },
     "metadata": {},
     "output_type": "display_data"
    }
   ],
   "source": [
    "plt.figure(figsize=(16,12))\n",
    "sns.swarmplot(x=\"clip_or_no\", y=\"accuracy\", data=clip_pivot2, palette = my_pal[2:4])\n",
    "\n",
    "plt.xlabel('Watch clips or not')\n",
    "#plt.xticks((''))\n",
    "plt.title(\"Is there a different accuracy distribution between watching less or more clips?\")\n",
    "plt.savefig(\"clip_accuracy.pdf\")"
   ]
  },
  {
   "cell_type": "markdown",
   "metadata": {},
   "source": [
    "## scatter plot"
   ]
  },
  {
   "cell_type": "code",
   "execution_count": 313,
   "metadata": {},
   "outputs": [
    {
     "data": {
      "image/png": "[encoded data removed]",
      "text/plain": [
       "<Figure size 1152x864 with 1 Axes>"
      ]
     },
     "metadata": {},
     "output_type": "display_data"
    }
   ],
   "source": [
    "plt.figure(figsize=(16,12))\n",
    "sns.scatterplot(x = 'Clip', y = 'accuracy', data =clip_pivot2, color = my_pal[2])\n",
    "plt.title(\"Is there a different accuracy distribution between watching less or more clips?\")\n",
    "plt.savefig(\"clip_accuracy_scatter.pdf\")"
   ]
  },
  {
   "cell_type": "code",
   "execution_count": 326,
   "metadata": {},
   "outputs": [
    {
     "data": {
      "image/png": "[encoded data removed]",
      "text/plain": [
       "<Figure size 1152x864 with 1 Axes>"
      ]
     },
     "metadata": {},
     "output_type": "display_data"
    }
   ],
   "source": [
    "plt.figure(figsize=(16,12))\n",
    "\n",
    "# Sort the dataframe by target\n",
    "target_0 = clip_pivot2.loc[clip_pivot2['clip_or_no'] == 'Low Clip Watching']\n",
    "target_1 = clip_pivot2.loc[clip_pivot2['clip_or_no'] == 'High Clip Watching']\n",
    "\n",
    "sns.distplot(target_0[['accuracy']], hist=False, rug=True, color = my_pal[2])\n",
    "sns.distplot(target_1[['accuracy']], hist=False, rug=True, color = my_pal[3])\n",
    "\n",
    "plt.legend(title='Clip watched (count)', labels = [\"Low\", \"High\"],loc='center left', bbox_to_anchor=(1, 0.5))\n",
    "#plt.title(\"What're the score distributions for different kid learning bahavior: linear versus non-linear?\")\n",
    "\n",
    "#plt.show()\n",
    "\n",
    "plt.title(\"Is there a different accuracy distribution between watching less or more clips?\")\n",
    "plt.savefig(\"clip_accuracy_distplot.pdf\")"
   ]
  },
  {
   "cell_type": "markdown",
   "metadata": {},
   "source": [
    "## Mann-Whitney u & correlation test\n",
    "- need to resample to make sure sample size same\n",
    "- mann-whitney u > because the distribution isn't gaussian/ normal"
   ]
  },
  {
   "cell_type": "code",
   "execution_count": 317,
   "metadata": {},
   "outputs": [],
   "source": [
    "from scipy import stats as stats\n",
    "from scipy.stats import mannwhitneyu"
   ]
  },
  {
   "cell_type": "code",
   "execution_count": 303,
   "metadata": {},
   "outputs": [],
   "source": [
    "clip_pivot2[\"clip_or_no_num\"] = np.where(clip_pivot2.Clip <= 11 , 0, 1)"
   ]
  },
  {
   "cell_type": "code",
   "execution_count": 304,
   "metadata": {},
   "outputs": [],
   "source": [
    "clip_pivot2 = clip_pivot2.dropna()"
   ]
  },
  {
   "cell_type": "code",
   "execution_count": 305,
   "metadata": {},
   "outputs": [],
   "source": [
    "r, p = stats.pearsonr(clip_pivot2.clip_or_no_num, clip_pivot2.accuracy)"
   ]
  },
  {
   "cell_type": "code",
   "execution_count": 306,
   "metadata": {},
   "outputs": [
    {
     "data": {
      "text/plain": [
       "-0.16267271857558982"
      ]
     },
     "execution_count": 306,
     "metadata": {},
     "output_type": "execute_result"
    }
   ],
   "source": [
    "r"
   ]
  },
  {
   "cell_type": "code",
   "execution_count": 307,
   "metadata": {},
   "outputs": [
    {
     "data": {
      "text/plain": [
       "2.8960013214258836e-16"
      ]
     },
     "execution_count": 307,
     "metadata": {},
     "output_type": "execute_result"
    }
   ],
   "source": [
    "p"
   ]
  },
  {
   "cell_type": "code",
   "execution_count": 318,
   "metadata": {},
   "outputs": [
    {
     "data": {
      "text/plain": [
       "High Clip Watching    1534\n",
       "Low Clip Watching      962\n",
       "Name: clip_or_no, dtype: int64"
      ]
     },
     "execution_count": 318,
     "metadata": {},
     "output_type": "execute_result"
    }
   ],
   "source": [
    "clip_pivot2.clip_or_no.value_counts()"
   ]
  },
  {
   "cell_type": "code",
   "execution_count": 321,
   "metadata": {},
   "outputs": [],
   "source": [
    "high = clip_pivot2[clip_pivot2.clip_or_no == \"High Clip Watching\"].sample(n=962).accuracy"
   ]
  },
  {
   "cell_type": "code",
   "execution_count": 322,
   "metadata": {},
   "outputs": [],
   "source": [
    "low = clip_pivot2[clip_pivot2.clip_or_no == \"Low Clip Watching\"].accuracy"
   ]
  },
  {
   "cell_type": "code",
   "execution_count": 324,
   "metadata": {},
   "outputs": [
    {
     "name": "stdout",
     "output_type": "stream",
     "text": [
      "Statistics=375962.500, p=0.000\n",
      "Different distribution (reject H0)\n"
     ]
    }
   ],
   "source": [
    "# compare samples\n",
    "stat, p = mannwhitneyu(high, low)\n",
    "print('Statistics=%.3f, p=%.3f' % (stat, p))\n",
    "# interpret\n",
    "alpha = 0.05\n",
    "if p > alpha:\n",
    "    print('Same distribution (fail to reject H0)')\n",
    "else:\n",
    "    print('Different distribution (reject H0)')"
   ]
  },
  {
   "cell_type": "markdown",
   "metadata": {},
   "source": [
    "# Learning behavior: Linear versus Random"
   ]
  },
  {
   "cell_type": "code",
   "execution_count": 327,
   "metadata": {},
   "outputs": [],
   "source": [
    "syllabus = pd.read_csv(\"media_sequence.csv\")"
   ]
  },
  {
   "cell_type": "code",
   "execution_count": 328,
   "metadata": {},
   "outputs": [],
   "source": [
    "syllabus[\"order\"] = range(1, 45)"
   ]
  },
  {
   "cell_type": "code",
   "execution_count": 329,
   "metadata": {},
   "outputs": [
    {
     "data": {
      "text/html": [
       "<div>\n",
       "<style scoped>\n",
       "    .dataframe tbody tr th:only-of-type {\n",
       "        vertical-align: middle;\n",
       "    }\n",
       "\n",
       "    .dataframe tbody tr th {\n",
       "        vertical-align: top;\n",
       "    }\n",
       "\n",
       "    .dataframe thead th {\n",
       "        text-align: right;\n",
       "    }\n",
       "</style>\n",
       "<table border=\"1\" class=\"dataframe\">\n",
       "  <thead>\n",
       "    <tr style=\"text-align: right;\">\n",
       "      <th></th>\n",
       "      <th>title</th>\n",
       "      <th>type</th>\n",
       "      <th>duration (same as df)</th>\n",
       "      <th>duration (s)</th>\n",
       "      <th>order</th>\n",
       "    </tr>\n",
       "  </thead>\n",
       "  <tbody>\n",
       "    <tr>\n",
       "      <th>0</th>\n",
       "      <td>Welcome to Lost Lagoon!</td>\n",
       "      <td>Clip</td>\n",
       "      <td>19000</td>\n",
       "      <td>19.0</td>\n",
       "      <td>1</td>\n",
       "    </tr>\n",
       "    <tr>\n",
       "      <th>1</th>\n",
       "      <td>Tree Top City - Level 1</td>\n",
       "      <td>Clip</td>\n",
       "      <td>17000</td>\n",
       "      <td>17.0</td>\n",
       "      <td>2</td>\n",
       "    </tr>\n",
       "    <tr>\n",
       "      <th>2</th>\n",
       "      <td>Ordering Spheres</td>\n",
       "      <td>Clip</td>\n",
       "      <td>61000</td>\n",
       "      <td>61.0</td>\n",
       "      <td>3</td>\n",
       "    </tr>\n",
       "    <tr>\n",
       "      <th>3</th>\n",
       "      <td>All Star Sorting</td>\n",
       "      <td>Game</td>\n",
       "      <td>0</td>\n",
       "      <td>NaN</td>\n",
       "      <td>4</td>\n",
       "    </tr>\n",
       "    <tr>\n",
       "      <th>4</th>\n",
       "      <td>Costume Box</td>\n",
       "      <td>Clip</td>\n",
       "      <td>61000</td>\n",
       "      <td>61.0</td>\n",
       "      <td>5</td>\n",
       "    </tr>\n",
       "  </tbody>\n",
       "</table>\n",
       "</div>"
      ],
      "text/plain": [
       "                     title  type  duration (same as df)  duration (s)  order\n",
       "0  Welcome to Lost Lagoon!  Clip                  19000          19.0      1\n",
       "1  Tree Top City - Level 1  Clip                  17000          17.0      2\n",
       "2         Ordering Spheres  Clip                  61000          61.0      3\n",
       "3         All Star Sorting  Game                      0           NaN      4\n",
       "4              Costume Box  Clip                  61000          61.0      5"
      ]
     },
     "execution_count": 329,
     "metadata": {},
     "output_type": "execute_result"
    }
   ],
   "source": [
    "syllabus.head()"
   ]
  },
  {
   "cell_type": "code",
   "execution_count": 331,
   "metadata": {},
   "outputs": [],
   "source": [
    "df.drop(columns = 'Unnamed: 0', inplace = True)"
   ]
  },
  {
   "cell_type": "code",
   "execution_count": 337,
   "metadata": {},
   "outputs": [],
   "source": [
    "# merge main dataframe with \"syllabus\"\n",
    "exp_eepd2 =  (df\n",
    "              .merge(syllabus, how = 'left', left_on = \"title\", right_on = \"title\")\n",
    "              .set_index([\"installation_id\", \"timestamp\"]))"
   ]
  },
  {
   "cell_type": "code",
   "execution_count": 338,
   "metadata": {},
   "outputs": [
    {
     "data": {
      "text/html": [
       "<div>\n",
       "<style scoped>\n",
       "    .dataframe tbody tr th:only-of-type {\n",
       "        vertical-align: middle;\n",
       "    }\n",
       "\n",
       "    .dataframe tbody tr th {\n",
       "        vertical-align: top;\n",
       "    }\n",
       "\n",
       "    .dataframe thead th {\n",
       "        text-align: right;\n",
       "    }\n",
       "</style>\n",
       "<table border=\"1\" class=\"dataframe\">\n",
       "  <thead>\n",
       "    <tr style=\"text-align: right;\">\n",
       "      <th></th>\n",
       "      <th></th>\n",
       "      <th>event_id</th>\n",
       "      <th>game_session</th>\n",
       "      <th>event_data</th>\n",
       "      <th>event_count</th>\n",
       "      <th>event_code</th>\n",
       "      <th>game_time</th>\n",
       "      <th>title</th>\n",
       "      <th>type_x</th>\n",
       "      <th>world</th>\n",
       "      <th>num_correct</th>\n",
       "      <th>num_incorrect</th>\n",
       "      <th>accuracy</th>\n",
       "      <th>accuracy_group</th>\n",
       "      <th>date</th>\n",
       "      <th>hour</th>\n",
       "      <th>weekday</th>\n",
       "      <th>type_y</th>\n",
       "      <th>duration (same as df)</th>\n",
       "      <th>duration (s)</th>\n",
       "      <th>order</th>\n",
       "    </tr>\n",
       "    <tr>\n",
       "      <th>installation_id</th>\n",
       "      <th>timestamp</th>\n",
       "      <th></th>\n",
       "      <th></th>\n",
       "      <th></th>\n",
       "      <th></th>\n",
       "      <th></th>\n",
       "      <th></th>\n",
       "      <th></th>\n",
       "      <th></th>\n",
       "      <th></th>\n",
       "      <th></th>\n",
       "      <th></th>\n",
       "      <th></th>\n",
       "      <th></th>\n",
       "      <th></th>\n",
       "      <th></th>\n",
       "      <th></th>\n",
       "      <th></th>\n",
       "      <th></th>\n",
       "      <th></th>\n",
       "      <th></th>\n",
       "    </tr>\n",
       "  </thead>\n",
       "  <tbody>\n",
       "    <tr>\n",
       "      <th rowspan=\"5\" valign=\"top\">0006a69f</th>\n",
       "      <th>2019-08-06 04:57:18.904000+00:00</th>\n",
       "      <td>27253bdc</td>\n",
       "      <td>34ba1a28d02ba8ba</td>\n",
       "      <td>{\"event_code\": 2000, \"event_count\": 1}</td>\n",
       "      <td>1</td>\n",
       "      <td>2000</td>\n",
       "      <td>0</td>\n",
       "      <td>Welcome to Lost Lagoon!</td>\n",
       "      <td>Clip</td>\n",
       "      <td>NONE</td>\n",
       "      <td>NaN</td>\n",
       "      <td>NaN</td>\n",
       "      <td>NaN</td>\n",
       "      <td>NaN</td>\n",
       "      <td>2019-08-06</td>\n",
       "      <td>4</td>\n",
       "      <td>Tuesday</td>\n",
       "      <td>Clip</td>\n",
       "      <td>19000</td>\n",
       "      <td>19.0</td>\n",
       "      <td>1</td>\n",
       "    </tr>\n",
       "    <tr>\n",
       "      <th>2019-08-06 04:57:45.301000+00:00</th>\n",
       "      <td>27253bdc</td>\n",
       "      <td>4b57c9a59474a1b9</td>\n",
       "      <td>{\"event_code\": 2000, \"event_count\": 1}</td>\n",
       "      <td>1</td>\n",
       "      <td>2000</td>\n",
       "      <td>0</td>\n",
       "      <td>Magma Peak - Level 1</td>\n",
       "      <td>Clip</td>\n",
       "      <td>MAGMAPEAK</td>\n",
       "      <td>NaN</td>\n",
       "      <td>NaN</td>\n",
       "      <td>NaN</td>\n",
       "      <td>NaN</td>\n",
       "      <td>2019-08-06</td>\n",
       "      <td>4</td>\n",
       "      <td>Tuesday</td>\n",
       "      <td>Clip</td>\n",
       "      <td>20000</td>\n",
       "      <td>20.0</td>\n",
       "      <td>19</td>\n",
       "    </tr>\n",
       "    <tr>\n",
       "      <th>2019-08-06 04:58:14.538000+00:00</th>\n",
       "      <td>77261ab5</td>\n",
       "      <td>2b9d5af79bcdb79f</td>\n",
       "      <td>{\"version\":\"1.0\",\"event_count\":1,\"game_time\":0...</td>\n",
       "      <td>1</td>\n",
       "      <td>2000</td>\n",
       "      <td>0</td>\n",
       "      <td>Sandcastle Builder (Activity)</td>\n",
       "      <td>Activity</td>\n",
       "      <td>MAGMAPEAK</td>\n",
       "      <td>NaN</td>\n",
       "      <td>NaN</td>\n",
       "      <td>NaN</td>\n",
       "      <td>NaN</td>\n",
       "      <td>2019-08-06</td>\n",
       "      <td>4</td>\n",
       "      <td>Tuesday</td>\n",
       "      <td>Activity</td>\n",
       "      <td>0</td>\n",
       "      <td>NaN</td>\n",
       "      <td>20</td>\n",
       "    </tr>\n",
       "    <tr>\n",
       "      <th>2019-08-06 04:58:14.615000+00:00</th>\n",
       "      <td>b2dba42b</td>\n",
       "      <td>2b9d5af79bcdb79f</td>\n",
       "      <td>{\"description\":\"Let's build a sandcastle! Firs...</td>\n",
       "      <td>2</td>\n",
       "      <td>3010</td>\n",
       "      <td>29</td>\n",
       "      <td>Sandcastle Builder (Activity)</td>\n",
       "      <td>Activity</td>\n",
       "      <td>MAGMAPEAK</td>\n",
       "      <td>NaN</td>\n",
       "      <td>NaN</td>\n",
       "      <td>NaN</td>\n",
       "      <td>NaN</td>\n",
       "      <td>2019-08-06</td>\n",
       "      <td>4</td>\n",
       "      <td>Tuesday</td>\n",
       "      <td>Activity</td>\n",
       "      <td>0</td>\n",
       "      <td>NaN</td>\n",
       "      <td>20</td>\n",
       "    </tr>\n",
       "    <tr>\n",
       "      <th>2019-08-06 04:58:16.680000+00:00</th>\n",
       "      <td>1325467d</td>\n",
       "      <td>2b9d5af79bcdb79f</td>\n",
       "      <td>{\"coordinates\":{\"x\":273,\"y\":650,\"stage_width\":...</td>\n",
       "      <td>3</td>\n",
       "      <td>4070</td>\n",
       "      <td>2137</td>\n",
       "      <td>Sandcastle Builder (Activity)</td>\n",
       "      <td>Activity</td>\n",
       "      <td>MAGMAPEAK</td>\n",
       "      <td>NaN</td>\n",
       "      <td>NaN</td>\n",
       "      <td>NaN</td>\n",
       "      <td>NaN</td>\n",
       "      <td>2019-08-06</td>\n",
       "      <td>4</td>\n",
       "      <td>Tuesday</td>\n",
       "      <td>Activity</td>\n",
       "      <td>0</td>\n",
       "      <td>NaN</td>\n",
       "      <td>20</td>\n",
       "    </tr>\n",
       "  </tbody>\n",
       "</table>\n",
       "</div>"
      ],
      "text/plain": [
       "                                                  event_id      game_session  \\\n",
       "installation_id timestamp                                                      \n",
       "0006a69f        2019-08-06 04:57:18.904000+00:00  27253bdc  34ba1a28d02ba8ba   \n",
       "                2019-08-06 04:57:45.301000+00:00  27253bdc  4b57c9a59474a1b9   \n",
       "                2019-08-06 04:58:14.538000+00:00  77261ab5  2b9d5af79bcdb79f   \n",
       "                2019-08-06 04:58:14.615000+00:00  b2dba42b  2b9d5af79bcdb79f   \n",
       "                2019-08-06 04:58:16.680000+00:00  1325467d  2b9d5af79bcdb79f   \n",
       "\n",
       "                                                                                         event_data  \\\n",
       "installation_id timestamp                                                                             \n",
       "0006a69f        2019-08-06 04:57:18.904000+00:00             {\"event_code\": 2000, \"event_count\": 1}   \n",
       "                2019-08-06 04:57:45.301000+00:00             {\"event_code\": 2000, \"event_count\": 1}   \n",
       "                2019-08-06 04:58:14.538000+00:00  {\"version\":\"1.0\",\"event_count\":1,\"game_time\":0...   \n",
       "                2019-08-06 04:58:14.615000+00:00  {\"description\":\"Let's build a sandcastle! Firs...   \n",
       "                2019-08-06 04:58:16.680000+00:00  {\"coordinates\":{\"x\":273,\"y\":650,\"stage_width\":...   \n",
       "\n",
       "                                                  event_count  event_code  \\\n",
       "installation_id timestamp                                                   \n",
       "0006a69f        2019-08-06 04:57:18.904000+00:00            1        2000   \n",
       "                2019-08-06 04:57:45.301000+00:00            1        2000   \n",
       "                2019-08-06 04:58:14.538000+00:00            1        2000   \n",
       "                2019-08-06 04:58:14.615000+00:00            2        3010   \n",
       "                2019-08-06 04:58:16.680000+00:00            3        4070   \n",
       "\n",
       "                                                  game_time  \\\n",
       "installation_id timestamp                                     \n",
       "0006a69f        2019-08-06 04:57:18.904000+00:00          0   \n",
       "                2019-08-06 04:57:45.301000+00:00          0   \n",
       "                2019-08-06 04:58:14.538000+00:00          0   \n",
       "                2019-08-06 04:58:14.615000+00:00         29   \n",
       "                2019-08-06 04:58:16.680000+00:00       2137   \n",
       "\n",
       "                                                                          title  \\\n",
       "installation_id timestamp                                                         \n",
       "0006a69f        2019-08-06 04:57:18.904000+00:00        Welcome to Lost Lagoon!   \n",
       "                2019-08-06 04:57:45.301000+00:00           Magma Peak - Level 1   \n",
       "                2019-08-06 04:58:14.538000+00:00  Sandcastle Builder (Activity)   \n",
       "                2019-08-06 04:58:14.615000+00:00  Sandcastle Builder (Activity)   \n",
       "                2019-08-06 04:58:16.680000+00:00  Sandcastle Builder (Activity)   \n",
       "\n",
       "                                                    type_x      world  \\\n",
       "installation_id timestamp                                               \n",
       "0006a69f        2019-08-06 04:57:18.904000+00:00      Clip       NONE   \n",
       "                2019-08-06 04:57:45.301000+00:00      Clip  MAGMAPEAK   \n",
       "                2019-08-06 04:58:14.538000+00:00  Activity  MAGMAPEAK   \n",
       "                2019-08-06 04:58:14.615000+00:00  Activity  MAGMAPEAK   \n",
       "                2019-08-06 04:58:16.680000+00:00  Activity  MAGMAPEAK   \n",
       "\n",
       "                                                  num_correct  num_incorrect  \\\n",
       "installation_id timestamp                                                      \n",
       "0006a69f        2019-08-06 04:57:18.904000+00:00          NaN            NaN   \n",
       "                2019-08-06 04:57:45.301000+00:00          NaN            NaN   \n",
       "                2019-08-06 04:58:14.538000+00:00          NaN            NaN   \n",
       "                2019-08-06 04:58:14.615000+00:00          NaN            NaN   \n",
       "                2019-08-06 04:58:16.680000+00:00          NaN            NaN   \n",
       "\n",
       "                                                  accuracy  accuracy_group  \\\n",
       "installation_id timestamp                                                    \n",
       "0006a69f        2019-08-06 04:57:18.904000+00:00       NaN             NaN   \n",
       "                2019-08-06 04:57:45.301000+00:00       NaN             NaN   \n",
       "                2019-08-06 04:58:14.538000+00:00       NaN             NaN   \n",
       "                2019-08-06 04:58:14.615000+00:00       NaN             NaN   \n",
       "                2019-08-06 04:58:16.680000+00:00       NaN             NaN   \n",
       "\n",
       "                                                        date  hour  weekday  \\\n",
       "installation_id timestamp                                                     \n",
       "0006a69f        2019-08-06 04:57:18.904000+00:00  2019-08-06     4  Tuesday   \n",
       "                2019-08-06 04:57:45.301000+00:00  2019-08-06     4  Tuesday   \n",
       "                2019-08-06 04:58:14.538000+00:00  2019-08-06     4  Tuesday   \n",
       "                2019-08-06 04:58:14.615000+00:00  2019-08-06     4  Tuesday   \n",
       "                2019-08-06 04:58:16.680000+00:00  2019-08-06     4  Tuesday   \n",
       "\n",
       "                                                    type_y  \\\n",
       "installation_id timestamp                                    \n",
       "0006a69f        2019-08-06 04:57:18.904000+00:00      Clip   \n",
       "                2019-08-06 04:57:45.301000+00:00      Clip   \n",
       "                2019-08-06 04:58:14.538000+00:00  Activity   \n",
       "                2019-08-06 04:58:14.615000+00:00  Activity   \n",
       "                2019-08-06 04:58:16.680000+00:00  Activity   \n",
       "\n",
       "                                                  duration (same as df)  \\\n",
       "installation_id timestamp                                                 \n",
       "0006a69f        2019-08-06 04:57:18.904000+00:00                  19000   \n",
       "                2019-08-06 04:57:45.301000+00:00                  20000   \n",
       "                2019-08-06 04:58:14.538000+00:00                      0   \n",
       "                2019-08-06 04:58:14.615000+00:00                      0   \n",
       "                2019-08-06 04:58:16.680000+00:00                      0   \n",
       "\n",
       "                                                  duration (s)  order  \n",
       "installation_id timestamp                                              \n",
       "0006a69f        2019-08-06 04:57:18.904000+00:00          19.0      1  \n",
       "                2019-08-06 04:57:45.301000+00:00          20.0     19  \n",
       "                2019-08-06 04:58:14.538000+00:00           NaN     20  \n",
       "                2019-08-06 04:58:14.615000+00:00           NaN     20  \n",
       "                2019-08-06 04:58:16.680000+00:00           NaN     20  "
      ]
     },
     "execution_count": 338,
     "metadata": {},
     "output_type": "execute_result"
    }
   ],
   "source": [
    "exp_eepd2.head()"
   ]
  },
  {
   "cell_type": "code",
   "execution_count": 339,
   "metadata": {},
   "outputs": [
    {
     "data": {
      "text/plain": [
       "array(['NONE', 'MAGMAPEAK', 'TREETOPCITY', 'CRYSTALCAVES'], dtype=object)"
      ]
     },
     "execution_count": 339,
     "metadata": {},
     "output_type": "execute_result"
    }
   ],
   "source": [
    "exp_eepd2.world.unique()"
   ]
  },
  {
   "cell_type": "code",
   "execution_count": 341,
   "metadata": {},
   "outputs": [],
   "source": [
    "median = exp_eepd2.groupby([\"installation_id\"]).accuracy.median().reset_index()"
   ]
  },
  {
   "cell_type": "code",
   "execution_count": 342,
   "metadata": {},
   "outputs": [],
   "source": [
    "exp_eepd2 = (exp_eepd2\n",
    "             .reset_index()\n",
    "             .merge(median, how = \"left\", left_on = \"installation_id\", right_on = \"installation_id\")\n",
    "             .set_index([\"installation_id\", \"timestamp\"]))"
   ]
  },
  {
   "cell_type": "code",
   "execution_count": 343,
   "metadata": {},
   "outputs": [],
   "source": [
    "exp_eepd2[\"accuracy\"] = np.where(exp_eepd2.accuracy_x.isna(), exp_eepd2.accuracy_y, exp_eepd2.accuracy_x)\n",
    "#df['c2'] = np.where(df.c1 == 8,'X',df.c3)"
   ]
  },
  {
   "cell_type": "code",
   "execution_count": 344,
   "metadata": {},
   "outputs": [
    {
     "data": {
      "text/html": [
       "<div>\n",
       "<style scoped>\n",
       "    .dataframe tbody tr th:only-of-type {\n",
       "        vertical-align: middle;\n",
       "    }\n",
       "\n",
       "    .dataframe tbody tr th {\n",
       "        vertical-align: top;\n",
       "    }\n",
       "\n",
       "    .dataframe thead th {\n",
       "        text-align: right;\n",
       "    }\n",
       "</style>\n",
       "<table border=\"1\" class=\"dataframe\">\n",
       "  <thead>\n",
       "    <tr style=\"text-align: right;\">\n",
       "      <th></th>\n",
       "      <th></th>\n",
       "      <th>event_id</th>\n",
       "      <th>game_session</th>\n",
       "      <th>event_data</th>\n",
       "      <th>event_count</th>\n",
       "      <th>event_code</th>\n",
       "      <th>game_time</th>\n",
       "      <th>title</th>\n",
       "      <th>type_x</th>\n",
       "      <th>world</th>\n",
       "      <th>num_correct</th>\n",
       "      <th>...</th>\n",
       "      <th>accuracy_group</th>\n",
       "      <th>date</th>\n",
       "      <th>hour</th>\n",
       "      <th>weekday</th>\n",
       "      <th>type_y</th>\n",
       "      <th>duration (same as df)</th>\n",
       "      <th>duration (s)</th>\n",
       "      <th>order</th>\n",
       "      <th>accuracy_y</th>\n",
       "      <th>accuracy</th>\n",
       "    </tr>\n",
       "    <tr>\n",
       "      <th>installation_id</th>\n",
       "      <th>timestamp</th>\n",
       "      <th></th>\n",
       "      <th></th>\n",
       "      <th></th>\n",
       "      <th></th>\n",
       "      <th></th>\n",
       "      <th></th>\n",
       "      <th></th>\n",
       "      <th></th>\n",
       "      <th></th>\n",
       "      <th></th>\n",
       "      <th></th>\n",
       "      <th></th>\n",
       "      <th></th>\n",
       "      <th></th>\n",
       "      <th></th>\n",
       "      <th></th>\n",
       "      <th></th>\n",
       "      <th></th>\n",
       "      <th></th>\n",
       "      <th></th>\n",
       "      <th></th>\n",
       "    </tr>\n",
       "  </thead>\n",
       "  <tbody>\n",
       "    <tr>\n",
       "      <th rowspan=\"5\" valign=\"top\">0006a69f</th>\n",
       "      <th>2019-08-06 04:57:18.904000+00:00</th>\n",
       "      <td>27253bdc</td>\n",
       "      <td>34ba1a28d02ba8ba</td>\n",
       "      <td>{\"event_code\": 2000, \"event_count\": 1}</td>\n",
       "      <td>1</td>\n",
       "      <td>2000</td>\n",
       "      <td>0</td>\n",
       "      <td>Welcome to Lost Lagoon!</td>\n",
       "      <td>Clip</td>\n",
       "      <td>NONE</td>\n",
       "      <td>NaN</td>\n",
       "      <td>...</td>\n",
       "      <td>NaN</td>\n",
       "      <td>2019-08-06</td>\n",
       "      <td>4</td>\n",
       "      <td>Tuesday</td>\n",
       "      <td>Clip</td>\n",
       "      <td>19000</td>\n",
       "      <td>19.0</td>\n",
       "      <td>1</td>\n",
       "      <td>0.5</td>\n",
       "      <td>0.5</td>\n",
       "    </tr>\n",
       "    <tr>\n",
       "      <th>2019-08-06 04:57:45.301000+00:00</th>\n",
       "      <td>27253bdc</td>\n",
       "      <td>4b57c9a59474a1b9</td>\n",
       "      <td>{\"event_code\": 2000, \"event_count\": 1}</td>\n",
       "      <td>1</td>\n",
       "      <td>2000</td>\n",
       "      <td>0</td>\n",
       "      <td>Magma Peak - Level 1</td>\n",
       "      <td>Clip</td>\n",
       "      <td>MAGMAPEAK</td>\n",
       "      <td>NaN</td>\n",
       "      <td>...</td>\n",
       "      <td>NaN</td>\n",
       "      <td>2019-08-06</td>\n",
       "      <td>4</td>\n",
       "      <td>Tuesday</td>\n",
       "      <td>Clip</td>\n",
       "      <td>20000</td>\n",
       "      <td>20.0</td>\n",
       "      <td>19</td>\n",
       "      <td>0.5</td>\n",
       "      <td>0.5</td>\n",
       "    </tr>\n",
       "    <tr>\n",
       "      <th>2019-08-06 04:58:14.538000+00:00</th>\n",
       "      <td>77261ab5</td>\n",
       "      <td>2b9d5af79bcdb79f</td>\n",
       "      <td>{\"version\":\"1.0\",\"event_count\":1,\"game_time\":0,\"event_code\":2000}</td>\n",
       "      <td>1</td>\n",
       "      <td>2000</td>\n",
       "      <td>0</td>\n",
       "      <td>Sandcastle Builder (Activity)</td>\n",
       "      <td>Activity</td>\n",
       "      <td>MAGMAPEAK</td>\n",
       "      <td>NaN</td>\n",
       "      <td>...</td>\n",
       "      <td>NaN</td>\n",
       "      <td>2019-08-06</td>\n",
       "      <td>4</td>\n",
       "      <td>Tuesday</td>\n",
       "      <td>Activity</td>\n",
       "      <td>0</td>\n",
       "      <td>NaN</td>\n",
       "      <td>20</td>\n",
       "      <td>0.5</td>\n",
       "      <td>0.5</td>\n",
       "    </tr>\n",
       "    <tr>\n",
       "      <th>2019-08-06 04:58:14.615000+00:00</th>\n",
       "      <td>b2dba42b</td>\n",
       "      <td>2b9d5af79bcdb79f</td>\n",
       "      <td>{\"description\":\"Let's build a sandcastle! First, fill up your mold with sand! You can ...</td>\n",
       "      <td>2</td>\n",
       "      <td>3010</td>\n",
       "      <td>29</td>\n",
       "      <td>Sandcastle Builder (Activity)</td>\n",
       "      <td>Activity</td>\n",
       "      <td>MAGMAPEAK</td>\n",
       "      <td>NaN</td>\n",
       "      <td>...</td>\n",
       "      <td>NaN</td>\n",
       "      <td>2019-08-06</td>\n",
       "      <td>4</td>\n",
       "      <td>Tuesday</td>\n",
       "      <td>Activity</td>\n",
       "      <td>0</td>\n",
       "      <td>NaN</td>\n",
       "      <td>20</td>\n",
       "      <td>0.5</td>\n",
       "      <td>0.5</td>\n",
       "    </tr>\n",
       "    <tr>\n",
       "      <th>2019-08-06 04:58:16.680000+00:00</th>\n",
       "      <td>1325467d</td>\n",
       "      <td>2b9d5af79bcdb79f</td>\n",
       "      <td>{\"coordinates\":{\"x\":273,\"y\":650,\"stage_width\":1015,\"stage_height\":762},\"event_count\":3...</td>\n",
       "      <td>3</td>\n",
       "      <td>4070</td>\n",
       "      <td>2137</td>\n",
       "      <td>Sandcastle Builder (Activity)</td>\n",
       "      <td>Activity</td>\n",
       "      <td>MAGMAPEAK</td>\n",
       "      <td>NaN</td>\n",
       "      <td>...</td>\n",
       "      <td>NaN</td>\n",
       "      <td>2019-08-06</td>\n",
       "      <td>4</td>\n",
       "      <td>Tuesday</td>\n",
       "      <td>Activity</td>\n",
       "      <td>0</td>\n",
       "      <td>NaN</td>\n",
       "      <td>20</td>\n",
       "      <td>0.5</td>\n",
       "      <td>0.5</td>\n",
       "    </tr>\n",
       "    <tr>\n",
       "      <th>...</th>\n",
       "      <th>...</th>\n",
       "      <td>...</td>\n",
       "      <td>...</td>\n",
       "      <td>...</td>\n",
       "      <td>...</td>\n",
       "      <td>...</td>\n",
       "      <td>...</td>\n",
       "      <td>...</td>\n",
       "      <td>...</td>\n",
       "      <td>...</td>\n",
       "      <td>...</td>\n",
       "      <td>...</td>\n",
       "      <td>...</td>\n",
       "      <td>...</td>\n",
       "      <td>...</td>\n",
       "      <td>...</td>\n",
       "      <td>...</td>\n",
       "      <td>...</td>\n",
       "      <td>...</td>\n",
       "      <td>...</td>\n",
       "      <td>...</td>\n",
       "      <td>...</td>\n",
       "    </tr>\n",
       "    <tr>\n",
       "      <th rowspan=\"5\" valign=\"top\">ffeb0b1b</th>\n",
       "      <th>2019-09-22 02:04:30.868000+00:00</th>\n",
       "      <td>5e812b27</td>\n",
       "      <td>e96910064986ea78</td>\n",
       "      <td>{\"size\":2,\"coordinates\":{\"x\":253,\"y\":623,\"stage_width\":1015,\"stage_height\":762},\"event...</td>\n",
       "      <td>72</td>\n",
       "      <td>4030</td>\n",
       "      <td>169306</td>\n",
       "      <td>Sandcastle Builder (Activity)</td>\n",
       "      <td>Activity</td>\n",
       "      <td>MAGMAPEAK</td>\n",
       "      <td>NaN</td>\n",
       "      <td>...</td>\n",
       "      <td>NaN</td>\n",
       "      <td>2019-09-22</td>\n",
       "      <td>2</td>\n",
       "      <td>Sunday</td>\n",
       "      <td>Activity</td>\n",
       "      <td>0</td>\n",
       "      <td>NaN</td>\n",
       "      <td>20</td>\n",
       "      <td>0.0</td>\n",
       "      <td>0.0</td>\n",
       "    </tr>\n",
       "    <tr>\n",
       "      <th>2019-09-22 02:04:31.846000+00:00</th>\n",
       "      <td>1bb5fbdb</td>\n",
       "      <td>e96910064986ea78</td>\n",
       "      <td>{\"description\":\"Great job! You did it!\",\"identifier\":\"Dot_GreatJob\",\"media_type\":\"audi...</td>\n",
       "      <td>73</td>\n",
       "      <td>3110</td>\n",
       "      <td>170331</td>\n",
       "      <td>Sandcastle Builder (Activity)</td>\n",
       "      <td>Activity</td>\n",
       "      <td>MAGMAPEAK</td>\n",
       "      <td>NaN</td>\n",
       "      <td>...</td>\n",
       "      <td>NaN</td>\n",
       "      <td>2019-09-22</td>\n",
       "      <td>2</td>\n",
       "      <td>Sunday</td>\n",
       "      <td>Activity</td>\n",
       "      <td>0</td>\n",
       "      <td>NaN</td>\n",
       "      <td>20</td>\n",
       "      <td>0.0</td>\n",
       "      <td>0.0</td>\n",
       "    </tr>\n",
       "    <tr>\n",
       "      <th>2019-09-22 02:04:32.427000+00:00</th>\n",
       "      <td>84538528</td>\n",
       "      <td>e96910064986ea78</td>\n",
       "      <td>{\"size\":2,\"castles_placed\":[{\"size\":3,\"position\":{\"x\":479,\"y\":122,\"stage_width\":1015,\"...</td>\n",
       "      <td>74</td>\n",
       "      <td>4020</td>\n",
       "      <td>170901</td>\n",
       "      <td>Sandcastle Builder (Activity)</td>\n",
       "      <td>Activity</td>\n",
       "      <td>MAGMAPEAK</td>\n",
       "      <td>NaN</td>\n",
       "      <td>...</td>\n",
       "      <td>NaN</td>\n",
       "      <td>2019-09-22</td>\n",
       "      <td>2</td>\n",
       "      <td>Sunday</td>\n",
       "      <td>Activity</td>\n",
       "      <td>0</td>\n",
       "      <td>NaN</td>\n",
       "      <td>20</td>\n",
       "      <td>0.0</td>\n",
       "      <td>0.0</td>\n",
       "    </tr>\n",
       "    <tr>\n",
       "      <th>2019-09-22 02:04:32.428000+00:00</th>\n",
       "      <td>b2dba42b</td>\n",
       "      <td>e96910064986ea78</td>\n",
       "      <td>{\"description\":\"So cool!\",\"identifier\":\"Dot_SoCool\",\"media_type\":\"audio\",\"total_durati...</td>\n",
       "      <td>75</td>\n",
       "      <td>3010</td>\n",
       "      <td>170901</td>\n",
       "      <td>Sandcastle Builder (Activity)</td>\n",
       "      <td>Activity</td>\n",
       "      <td>MAGMAPEAK</td>\n",
       "      <td>NaN</td>\n",
       "      <td>...</td>\n",
       "      <td>NaN</td>\n",
       "      <td>2019-09-22</td>\n",
       "      <td>2</td>\n",
       "      <td>Sunday</td>\n",
       "      <td>Activity</td>\n",
       "      <td>0</td>\n",
       "      <td>NaN</td>\n",
       "      <td>20</td>\n",
       "      <td>0.0</td>\n",
       "      <td>0.0</td>\n",
       "    </tr>\n",
       "    <tr>\n",
       "      <th>2019-09-22 02:04:33.648000+00:00</th>\n",
       "      <td>1bb5fbdb</td>\n",
       "      <td>e96910064986ea78</td>\n",
       "      <td>{\"description\":\"So cool!\",\"identifier\":\"Dot_SoCool\",\"media_type\":\"audio\",\"duration\":12...</td>\n",
       "      <td>76</td>\n",
       "      <td>3110</td>\n",
       "      <td>172123</td>\n",
       "      <td>Sandcastle Builder (Activity)</td>\n",
       "      <td>Activity</td>\n",
       "      <td>MAGMAPEAK</td>\n",
       "      <td>NaN</td>\n",
       "      <td>...</td>\n",
       "      <td>NaN</td>\n",
       "      <td>2019-09-22</td>\n",
       "      <td>2</td>\n",
       "      <td>Sunday</td>\n",
       "      <td>Activity</td>\n",
       "      <td>0</td>\n",
       "      <td>NaN</td>\n",
       "      <td>20</td>\n",
       "      <td>0.0</td>\n",
       "      <td>0.0</td>\n",
       "    </tr>\n",
       "  </tbody>\n",
       "</table>\n",
       "<p>5310606 rows × 22 columns</p>\n",
       "</div>"
      ],
      "text/plain": [
       "                                                  event_id      game_session  \\\n",
       "installation_id timestamp                                                      \n",
       "0006a69f        2019-08-06 04:57:18.904000+00:00  27253bdc  34ba1a28d02ba8ba   \n",
       "                2019-08-06 04:57:45.301000+00:00  27253bdc  4b57c9a59474a1b9   \n",
       "                2019-08-06 04:58:14.538000+00:00  77261ab5  2b9d5af79bcdb79f   \n",
       "                2019-08-06 04:58:14.615000+00:00  b2dba42b  2b9d5af79bcdb79f   \n",
       "                2019-08-06 04:58:16.680000+00:00  1325467d  2b9d5af79bcdb79f   \n",
       "...                                                    ...               ...   \n",
       "ffeb0b1b        2019-09-22 02:04:30.868000+00:00  5e812b27  e96910064986ea78   \n",
       "                2019-09-22 02:04:31.846000+00:00  1bb5fbdb  e96910064986ea78   \n",
       "                2019-09-22 02:04:32.427000+00:00  84538528  e96910064986ea78   \n",
       "                2019-09-22 02:04:32.428000+00:00  b2dba42b  e96910064986ea78   \n",
       "                2019-09-22 02:04:33.648000+00:00  1bb5fbdb  e96910064986ea78   \n",
       "\n",
       "                                                                                                                                 event_data  \\\n",
       "installation_id timestamp                                                                                                                     \n",
       "0006a69f        2019-08-06 04:57:18.904000+00:00                                                     {\"event_code\": 2000, \"event_count\": 1}   \n",
       "                2019-08-06 04:57:45.301000+00:00                                                     {\"event_code\": 2000, \"event_count\": 1}   \n",
       "                2019-08-06 04:58:14.538000+00:00                          {\"version\":\"1.0\",\"event_count\":1,\"game_time\":0,\"event_code\":2000}   \n",
       "                2019-08-06 04:58:14.615000+00:00  {\"description\":\"Let's build a sandcastle! First, fill up your mold with sand! You can ...   \n",
       "                2019-08-06 04:58:16.680000+00:00  {\"coordinates\":{\"x\":273,\"y\":650,\"stage_width\":1015,\"stage_height\":762},\"event_count\":3...   \n",
       "...                                                                                                                                     ...   \n",
       "ffeb0b1b        2019-09-22 02:04:30.868000+00:00  {\"size\":2,\"coordinates\":{\"x\":253,\"y\":623,\"stage_width\":1015,\"stage_height\":762},\"event...   \n",
       "                2019-09-22 02:04:31.846000+00:00  {\"description\":\"Great job! You did it!\",\"identifier\":\"Dot_GreatJob\",\"media_type\":\"audi...   \n",
       "                2019-09-22 02:04:32.427000+00:00  {\"size\":2,\"castles_placed\":[{\"size\":3,\"position\":{\"x\":479,\"y\":122,\"stage_width\":1015,\"...   \n",
       "                2019-09-22 02:04:32.428000+00:00  {\"description\":\"So cool!\",\"identifier\":\"Dot_SoCool\",\"media_type\":\"audio\",\"total_durati...   \n",
       "                2019-09-22 02:04:33.648000+00:00  {\"description\":\"So cool!\",\"identifier\":\"Dot_SoCool\",\"media_type\":\"audio\",\"duration\":12...   \n",
       "\n",
       "                                                  event_count  event_code  \\\n",
       "installation_id timestamp                                                   \n",
       "0006a69f        2019-08-06 04:57:18.904000+00:00            1        2000   \n",
       "                2019-08-06 04:57:45.301000+00:00            1        2000   \n",
       "                2019-08-06 04:58:14.538000+00:00            1        2000   \n",
       "                2019-08-06 04:58:14.615000+00:00            2        3010   \n",
       "                2019-08-06 04:58:16.680000+00:00            3        4070   \n",
       "...                                                       ...         ...   \n",
       "ffeb0b1b        2019-09-22 02:04:30.868000+00:00           72        4030   \n",
       "                2019-09-22 02:04:31.846000+00:00           73        3110   \n",
       "                2019-09-22 02:04:32.427000+00:00           74        4020   \n",
       "                2019-09-22 02:04:32.428000+00:00           75        3010   \n",
       "                2019-09-22 02:04:33.648000+00:00           76        3110   \n",
       "\n",
       "                                                  game_time  \\\n",
       "installation_id timestamp                                     \n",
       "0006a69f        2019-08-06 04:57:18.904000+00:00          0   \n",
       "                2019-08-06 04:57:45.301000+00:00          0   \n",
       "                2019-08-06 04:58:14.538000+00:00          0   \n",
       "                2019-08-06 04:58:14.615000+00:00         29   \n",
       "                2019-08-06 04:58:16.680000+00:00       2137   \n",
       "...                                                     ...   \n",
       "ffeb0b1b        2019-09-22 02:04:30.868000+00:00     169306   \n",
       "                2019-09-22 02:04:31.846000+00:00     170331   \n",
       "                2019-09-22 02:04:32.427000+00:00     170901   \n",
       "                2019-09-22 02:04:32.428000+00:00     170901   \n",
       "                2019-09-22 02:04:33.648000+00:00     172123   \n",
       "\n",
       "                                                                          title  \\\n",
       "installation_id timestamp                                                         \n",
       "0006a69f        2019-08-06 04:57:18.904000+00:00        Welcome to Lost Lagoon!   \n",
       "                2019-08-06 04:57:45.301000+00:00           Magma Peak - Level 1   \n",
       "                2019-08-06 04:58:14.538000+00:00  Sandcastle Builder (Activity)   \n",
       "                2019-08-06 04:58:14.615000+00:00  Sandcastle Builder (Activity)   \n",
       "                2019-08-06 04:58:16.680000+00:00  Sandcastle Builder (Activity)   \n",
       "...                                                                         ...   \n",
       "ffeb0b1b        2019-09-22 02:04:30.868000+00:00  Sandcastle Builder (Activity)   \n",
       "                2019-09-22 02:04:31.846000+00:00  Sandcastle Builder (Activity)   \n",
       "                2019-09-22 02:04:32.427000+00:00  Sandcastle Builder (Activity)   \n",
       "                2019-09-22 02:04:32.428000+00:00  Sandcastle Builder (Activity)   \n",
       "                2019-09-22 02:04:33.648000+00:00  Sandcastle Builder (Activity)   \n",
       "\n",
       "                                                    type_x      world  \\\n",
       "installation_id timestamp                                               \n",
       "0006a69f        2019-08-06 04:57:18.904000+00:00      Clip       NONE   \n",
       "                2019-08-06 04:57:45.301000+00:00      Clip  MAGMAPEAK   \n",
       "                2019-08-06 04:58:14.538000+00:00  Activity  MAGMAPEAK   \n",
       "                2019-08-06 04:58:14.615000+00:00  Activity  MAGMAPEAK   \n",
       "                2019-08-06 04:58:16.680000+00:00  Activity  MAGMAPEAK   \n",
       "...                                                    ...        ...   \n",
       "ffeb0b1b        2019-09-22 02:04:30.868000+00:00  Activity  MAGMAPEAK   \n",
       "                2019-09-22 02:04:31.846000+00:00  Activity  MAGMAPEAK   \n",
       "                2019-09-22 02:04:32.427000+00:00  Activity  MAGMAPEAK   \n",
       "                2019-09-22 02:04:32.428000+00:00  Activity  MAGMAPEAK   \n",
       "                2019-09-22 02:04:33.648000+00:00  Activity  MAGMAPEAK   \n",
       "\n",
       "                                                  num_correct  ...  \\\n",
       "installation_id timestamp                                      ...   \n",
       "0006a69f        2019-08-06 04:57:18.904000+00:00          NaN  ...   \n",
       "                2019-08-06 04:57:45.301000+00:00          NaN  ...   \n",
       "                2019-08-06 04:58:14.538000+00:00          NaN  ...   \n",
       "                2019-08-06 04:58:14.615000+00:00          NaN  ...   \n",
       "                2019-08-06 04:58:16.680000+00:00          NaN  ...   \n",
       "...                                                       ...  ...   \n",
       "ffeb0b1b        2019-09-22 02:04:30.868000+00:00          NaN  ...   \n",
       "                2019-09-22 02:04:31.846000+00:00          NaN  ...   \n",
       "                2019-09-22 02:04:32.427000+00:00          NaN  ...   \n",
       "                2019-09-22 02:04:32.428000+00:00          NaN  ...   \n",
       "                2019-09-22 02:04:33.648000+00:00          NaN  ...   \n",
       "\n",
       "                                                  accuracy_group        date  \\\n",
       "installation_id timestamp                                                      \n",
       "0006a69f        2019-08-06 04:57:18.904000+00:00             NaN  2019-08-06   \n",
       "                2019-08-06 04:57:45.301000+00:00             NaN  2019-08-06   \n",
       "                2019-08-06 04:58:14.538000+00:00             NaN  2019-08-06   \n",
       "                2019-08-06 04:58:14.615000+00:00             NaN  2019-08-06   \n",
       "                2019-08-06 04:58:16.680000+00:00             NaN  2019-08-06   \n",
       "...                                                          ...         ...   \n",
       "ffeb0b1b        2019-09-22 02:04:30.868000+00:00             NaN  2019-09-22   \n",
       "                2019-09-22 02:04:31.846000+00:00             NaN  2019-09-22   \n",
       "                2019-09-22 02:04:32.427000+00:00             NaN  2019-09-22   \n",
       "                2019-09-22 02:04:32.428000+00:00             NaN  2019-09-22   \n",
       "                2019-09-22 02:04:33.648000+00:00             NaN  2019-09-22   \n",
       "\n",
       "                                                  hour  weekday    type_y  \\\n",
       "installation_id timestamp                                                   \n",
       "0006a69f        2019-08-06 04:57:18.904000+00:00     4  Tuesday      Clip   \n",
       "                2019-08-06 04:57:45.301000+00:00     4  Tuesday      Clip   \n",
       "                2019-08-06 04:58:14.538000+00:00     4  Tuesday  Activity   \n",
       "                2019-08-06 04:58:14.615000+00:00     4  Tuesday  Activity   \n",
       "                2019-08-06 04:58:16.680000+00:00     4  Tuesday  Activity   \n",
       "...                                                ...      ...       ...   \n",
       "ffeb0b1b        2019-09-22 02:04:30.868000+00:00     2   Sunday  Activity   \n",
       "                2019-09-22 02:04:31.846000+00:00     2   Sunday  Activity   \n",
       "                2019-09-22 02:04:32.427000+00:00     2   Sunday  Activity   \n",
       "                2019-09-22 02:04:32.428000+00:00     2   Sunday  Activity   \n",
       "                2019-09-22 02:04:33.648000+00:00     2   Sunday  Activity   \n",
       "\n",
       "                                                 duration (same as df)  \\\n",
       "installation_id timestamp                                                \n",
       "0006a69f        2019-08-06 04:57:18.904000+00:00                 19000   \n",
       "                2019-08-06 04:57:45.301000+00:00                 20000   \n",
       "                2019-08-06 04:58:14.538000+00:00                     0   \n",
       "                2019-08-06 04:58:14.615000+00:00                     0   \n",
       "                2019-08-06 04:58:16.680000+00:00                     0   \n",
       "...                                                                ...   \n",
       "ffeb0b1b        2019-09-22 02:04:30.868000+00:00                     0   \n",
       "                2019-09-22 02:04:31.846000+00:00                     0   \n",
       "                2019-09-22 02:04:32.427000+00:00                     0   \n",
       "                2019-09-22 02:04:32.428000+00:00                     0   \n",
       "                2019-09-22 02:04:33.648000+00:00                     0   \n",
       "\n",
       "                                                 duration (s)  order  \\\n",
       "installation_id timestamp                                              \n",
       "0006a69f        2019-08-06 04:57:18.904000+00:00         19.0      1   \n",
       "                2019-08-06 04:57:45.301000+00:00         20.0     19   \n",
       "                2019-08-06 04:58:14.538000+00:00          NaN     20   \n",
       "                2019-08-06 04:58:14.615000+00:00          NaN     20   \n",
       "                2019-08-06 04:58:16.680000+00:00          NaN     20   \n",
       "...                                                       ...    ...   \n",
       "ffeb0b1b        2019-09-22 02:04:30.868000+00:00          NaN     20   \n",
       "                2019-09-22 02:04:31.846000+00:00          NaN     20   \n",
       "                2019-09-22 02:04:32.427000+00:00          NaN     20   \n",
       "                2019-09-22 02:04:32.428000+00:00          NaN     20   \n",
       "                2019-09-22 02:04:33.648000+00:00          NaN     20   \n",
       "\n",
       "                                                  accuracy_y  accuracy  \n",
       "installation_id timestamp                                               \n",
       "0006a69f        2019-08-06 04:57:18.904000+00:00         0.5       0.5  \n",
       "                2019-08-06 04:57:45.301000+00:00         0.5       0.5  \n",
       "                2019-08-06 04:58:14.538000+00:00         0.5       0.5  \n",
       "                2019-08-06 04:58:14.615000+00:00         0.5       0.5  \n",
       "                2019-08-06 04:58:16.680000+00:00         0.5       0.5  \n",
       "...                                                      ...       ...  \n",
       "ffeb0b1b        2019-09-22 02:04:30.868000+00:00         0.0       0.0  \n",
       "                2019-09-22 02:04:31.846000+00:00         0.0       0.0  \n",
       "                2019-09-22 02:04:32.427000+00:00         0.0       0.0  \n",
       "                2019-09-22 02:04:32.428000+00:00         0.0       0.0  \n",
       "                2019-09-22 02:04:33.648000+00:00         0.0       0.0  \n",
       "\n",
       "[5310606 rows x 22 columns]"
      ]
     },
     "execution_count": 344,
     "metadata": {},
     "output_type": "execute_result"
    }
   ],
   "source": [
    "exp_eepd2"
   ]
  },
  {
   "cell_type": "code",
   "execution_count": 348,
   "metadata": {},
   "outputs": [],
   "source": [
    "path = exp_eepd2.groupby('installation_id').order.apply(linear_random.is_list_sorted).reset_index()"
   ]
  },
  {
   "cell_type": "code",
   "execution_count": 349,
   "metadata": {},
   "outputs": [
    {
     "data": {
      "text/html": [
       "<div>\n",
       "<style scoped>\n",
       "    .dataframe tbody tr th:only-of-type {\n",
       "        vertical-align: middle;\n",
       "    }\n",
       "\n",
       "    .dataframe tbody tr th {\n",
       "        vertical-align: top;\n",
       "    }\n",
       "\n",
       "    .dataframe thead th {\n",
       "        text-align: right;\n",
       "    }\n",
       "</style>\n",
       "<table border=\"1\" class=\"dataframe\">\n",
       "  <thead>\n",
       "    <tr style=\"text-align: right;\">\n",
       "      <th></th>\n",
       "      <th>installation_id</th>\n",
       "      <th>order</th>\n",
       "    </tr>\n",
       "  </thead>\n",
       "  <tbody>\n",
       "    <tr>\n",
       "      <th>0</th>\n",
       "      <td>0006a69f</td>\n",
       "      <td>False</td>\n",
       "    </tr>\n",
       "    <tr>\n",
       "      <th>1</th>\n",
       "      <td>0006c192</td>\n",
       "      <td>False</td>\n",
       "    </tr>\n",
       "    <tr>\n",
       "      <th>2</th>\n",
       "      <td>001d0ed0</td>\n",
       "      <td>True</td>\n",
       "    </tr>\n",
       "    <tr>\n",
       "      <th>3</th>\n",
       "      <td>00225f67</td>\n",
       "      <td>True</td>\n",
       "    </tr>\n",
       "    <tr>\n",
       "      <th>4</th>\n",
       "      <td>00279ac5</td>\n",
       "      <td>False</td>\n",
       "    </tr>\n",
       "    <tr>\n",
       "      <th>...</th>\n",
       "      <td>...</td>\n",
       "      <td>...</td>\n",
       "    </tr>\n",
       "    <tr>\n",
       "      <th>3480</th>\n",
       "      <td>ff9305d7</td>\n",
       "      <td>False</td>\n",
       "    </tr>\n",
       "    <tr>\n",
       "      <th>3481</th>\n",
       "      <td>ff9715db</td>\n",
       "      <td>False</td>\n",
       "    </tr>\n",
       "    <tr>\n",
       "      <th>3482</th>\n",
       "      <td>ffc90c32</td>\n",
       "      <td>True</td>\n",
       "    </tr>\n",
       "    <tr>\n",
       "      <th>3483</th>\n",
       "      <td>ffd2871d</td>\n",
       "      <td>True</td>\n",
       "    </tr>\n",
       "    <tr>\n",
       "      <th>3484</th>\n",
       "      <td>ffeb0b1b</td>\n",
       "      <td>False</td>\n",
       "    </tr>\n",
       "  </tbody>\n",
       "</table>\n",
       "<p>3485 rows × 2 columns</p>\n",
       "</div>"
      ],
      "text/plain": [
       "     installation_id  order\n",
       "0           0006a69f  False\n",
       "1           0006c192  False\n",
       "2           001d0ed0   True\n",
       "3           00225f67   True\n",
       "4           00279ac5  False\n",
       "...              ...    ...\n",
       "3480        ff9305d7  False\n",
       "3481        ff9715db  False\n",
       "3482        ffc90c32   True\n",
       "3483        ffd2871d   True\n",
       "3484        ffeb0b1b  False\n",
       "\n",
       "[3485 rows x 2 columns]"
      ]
     },
     "execution_count": 349,
     "metadata": {},
     "output_type": "execute_result"
    }
   ],
   "source": [
    "path"
   ]
  },
  {
   "cell_type": "code",
   "execution_count": 351,
   "metadata": {},
   "outputs": [
    {
     "name": "stdout",
     "output_type": "stream",
     "text": [
      "The percentage of kids who follow linear learning path: order    26.0\n",
      "dtype: float64%\n"
     ]
    }
   ],
   "source": [
    "print(f\"The percentage of kids who follow linear learning path: {round(path.mean(),2)*100}%\")"
   ]
  },
  {
   "cell_type": "code",
   "execution_count": 352,
   "metadata": {},
   "outputs": [],
   "source": [
    "path = path.merge(exp_eepd2.accuracy, how = \"left\", left_on = \"installation_id\", right_on = \"installation_id\")"
   ]
  },
  {
   "cell_type": "code",
   "execution_count": 353,
   "metadata": {},
   "outputs": [],
   "source": [
    "path[\"order_\"] = np.where(path.order == True, \"Linear\", \"Non-linear\")"
   ]
  },
  {
   "cell_type": "code",
   "execution_count": null,
   "metadata": {},
   "outputs": [],
   "source": [
    "sns.swarmplot(x=\"order_\", y=\"accuracy\", data=path)"
   ]
  },
  {
   "cell_type": "code",
   "execution_count": null,
   "metadata": {},
   "outputs": [],
   "source": [
    "path.order_.value_counts()"
   ]
  },
  {
   "cell_type": "code",
   "execution_count": null,
   "metadata": {},
   "outputs": [],
   "source": [
    "high = clip_pivot2[clip_pivot2.clip_or_no == \"High Clip Watching\"].sample(n=962).accuracy\n",
    "low = clip_pivot2[clip_pivot2.clip_or_no == \"Low Clip Watching\"].accuracy"
   ]
  },
  {
   "cell_type": "code",
   "execution_count": null,
   "metadata": {},
   "outputs": [],
   "source": [
    "# compare samples\n",
    "stat, p = mannwhitneyu(high, low)\n",
    "print('Statistics=%.3f, p=%.3f' % (stat, p))\n",
    "# interpret\n",
    "alpha = 0.05\n",
    "if p > alpha:\n",
    "    print('Same distribution (fail to reject H0)')\n",
    "else:\n",
    "    print('Different distribution (reject H0)')"
   ]
  },
  {
   "cell_type": "code",
   "execution_count": null,
   "metadata": {},
   "outputs": [],
   "source": []
  },
  {
   "cell_type": "code",
   "execution_count": null,
   "metadata": {},
   "outputs": [],
   "source": []
  },
  {
   "cell_type": "code",
   "execution_count": null,
   "metadata": {},
   "outputs": [],
   "source": []
  },
  {
   "cell_type": "code",
   "execution_count": null,
   "metadata": {},
   "outputs": [],
   "source": []
  },
  {
   "cell_type": "code",
   "execution_count": null,
   "metadata": {},
   "outputs": [],
   "source": [
    "clip = df.groupby(['installation_id','world','type','title'])[['game_session']].count().reset_index()"
   ]
  },
  {
   "cell_type": "code",
   "execution_count": 178,
   "metadata": {},
   "outputs": [],
   "source": [
    "clip_pivot = (clip\n",
    "       .pivot_table(\n",
    "           #values = 'title', \n",
    "           index = ['installation_id'], \n",
    "           columns = ['type'], \n",
    "           #aggfunc=np.sum\n",
    "       ).fillna(0).reset_index())\n"
   ]
  },
  {
   "cell_type": "code",
   "execution_count": 179,
   "metadata": {},
   "outputs": [
    {
     "data": {
      "text/html": [
       "<div>\n",
       "<style scoped>\n",
       "    .dataframe tbody tr th:only-of-type {\n",
       "        vertical-align: middle;\n",
       "    }\n",
       "\n",
       "    .dataframe tbody tr th {\n",
       "        vertical-align: top;\n",
       "    }\n",
       "\n",
       "    .dataframe thead tr th {\n",
       "        text-align: left;\n",
       "    }\n",
       "</style>\n",
       "<table border=\"1\" class=\"dataframe\">\n",
       "  <thead>\n",
       "    <tr>\n",
       "      <th></th>\n",
       "      <th>installation_id</th>\n",
       "      <th colspan=\"4\" halign=\"left\">game_session</th>\n",
       "    </tr>\n",
       "    <tr>\n",
       "      <th>type</th>\n",
       "      <th></th>\n",
       "      <th>Activity</th>\n",
       "      <th>Assessment</th>\n",
       "      <th>Clip</th>\n",
       "      <th>Game</th>\n",
       "    </tr>\n",
       "  </thead>\n",
       "  <tbody>\n",
       "    <tr>\n",
       "      <th>0</th>\n",
       "      <td>0006a69f</td>\n",
       "      <td>203.000000</td>\n",
       "      <td>106.00</td>\n",
       "      <td>2.153846</td>\n",
       "      <td>185.166667</td>\n",
       "    </tr>\n",
       "    <tr>\n",
       "      <th>1</th>\n",
       "      <td>0006c192</td>\n",
       "      <td>201.000000</td>\n",
       "      <td>70.00</td>\n",
       "      <td>1.875000</td>\n",
       "      <td>107.166667</td>\n",
       "    </tr>\n",
       "    <tr>\n",
       "      <th>2</th>\n",
       "      <td>001d0ed0</td>\n",
       "      <td>12.000000</td>\n",
       "      <td>55.00</td>\n",
       "      <td>1.266667</td>\n",
       "      <td>58.666667</td>\n",
       "    </tr>\n",
       "    <tr>\n",
       "      <th>3</th>\n",
       "      <td>00225f67</td>\n",
       "      <td>70.333333</td>\n",
       "      <td>0.00</td>\n",
       "      <td>1.000000</td>\n",
       "      <td>118.333333</td>\n",
       "    </tr>\n",
       "    <tr>\n",
       "      <th>4</th>\n",
       "      <td>00279ac5</td>\n",
       "      <td>188.166667</td>\n",
       "      <td>0.00</td>\n",
       "      <td>1.909091</td>\n",
       "      <td>135.000000</td>\n",
       "    </tr>\n",
       "    <tr>\n",
       "      <th>...</th>\n",
       "      <td>...</td>\n",
       "      <td>...</td>\n",
       "      <td>...</td>\n",
       "      <td>...</td>\n",
       "      <td>...</td>\n",
       "    </tr>\n",
       "    <tr>\n",
       "      <th>3480</th>\n",
       "      <td>ff9305d7</td>\n",
       "      <td>134.000000</td>\n",
       "      <td>165.00</td>\n",
       "      <td>1.222222</td>\n",
       "      <td>182.000000</td>\n",
       "    </tr>\n",
       "    <tr>\n",
       "      <th>3481</th>\n",
       "      <td>ff9715db</td>\n",
       "      <td>151.500000</td>\n",
       "      <td>82.25</td>\n",
       "      <td>2.000000</td>\n",
       "      <td>108.833333</td>\n",
       "    </tr>\n",
       "    <tr>\n",
       "      <th>3482</th>\n",
       "      <td>ffc90c32</td>\n",
       "      <td>68.428571</td>\n",
       "      <td>51.00</td>\n",
       "      <td>1.300000</td>\n",
       "      <td>114.000000</td>\n",
       "    </tr>\n",
       "    <tr>\n",
       "      <th>3483</th>\n",
       "      <td>ffd2871d</td>\n",
       "      <td>280.500000</td>\n",
       "      <td>0.00</td>\n",
       "      <td>1.000000</td>\n",
       "      <td>108.000000</td>\n",
       "    </tr>\n",
       "    <tr>\n",
       "      <th>3484</th>\n",
       "      <td>ffeb0b1b</td>\n",
       "      <td>381.000000</td>\n",
       "      <td>93.00</td>\n",
       "      <td>4.800000</td>\n",
       "      <td>941.000000</td>\n",
       "    </tr>\n",
       "  </tbody>\n",
       "</table>\n",
       "<p>3485 rows × 5 columns</p>\n",
       "</div>"
      ],
      "text/plain": [
       "     installation_id game_session                                 \n",
       "type                     Activity Assessment      Clip        Game\n",
       "0           0006a69f   203.000000     106.00  2.153846  185.166667\n",
       "1           0006c192   201.000000      70.00  1.875000  107.166667\n",
       "2           001d0ed0    12.000000      55.00  1.266667   58.666667\n",
       "3           00225f67    70.333333       0.00  1.000000  118.333333\n",
       "4           00279ac5   188.166667       0.00  1.909091  135.000000\n",
       "...              ...          ...        ...       ...         ...\n",
       "3480        ff9305d7   134.000000     165.00  1.222222  182.000000\n",
       "3481        ff9715db   151.500000      82.25  2.000000  108.833333\n",
       "3482        ffc90c32    68.428571      51.00  1.300000  114.000000\n",
       "3483        ffd2871d   280.500000       0.00  1.000000  108.000000\n",
       "3484        ffeb0b1b   381.000000      93.00  4.800000  941.000000\n",
       "\n",
       "[3485 rows x 5 columns]"
      ]
     },
     "execution_count": 179,
     "metadata": {},
     "output_type": "execute_result"
    }
   ],
   "source": [
    "clip_pivot"
   ]
  },
  {
   "cell_type": "code",
   "execution_count": 160,
   "metadata": {},
   "outputs": [
    {
     "data": {
      "text/plain": [
       "installation_id  game_session      world         type      title                        \n",
       "0006a69f         0336db4dee65ad4b  MAGMAPEAK     Game      Scrub-A-Dub                      131\n",
       "                 05921a6eb858eeba  TREETOPCITY   Activity  Fireworks (Activity)              84\n",
       "                 09fd0cc02e6ee5f4  TREETOPCITY   Clip      Pirate's Tale                      1\n",
       "                 1623f262016185e4  MAGMAPEAK     Game      Scrub-A-Dub                       64\n",
       "                 1dd51df3dd28e7e0  TREETOPCITY   Clip      Costume Box                        1\n",
       "                                                                                           ... \n",
       "ffeb0b1b         e96910064986ea78  MAGMAPEAK     Activity  Sandcastle Builder (Activity)     76\n",
       "                 ead68f52fcce38ff  TREETOPCITY   Clip      Tree Top City - Level 1            1\n",
       "                 ee35ad382b29b3e0  TREETOPCITY   Clip      Ordering Spheres                   1\n",
       "                 f88dc29664b912a3  CRYSTALCAVES  Game      Chow Time                        604\n",
       "                 fafc3deda44d80dc  TREETOPCITY   Clip      Ordering Spheres                   1\n",
       "Name: event_id, Length: 120041, dtype: int64"
      ]
     },
     "execution_count": 160,
     "metadata": {},
     "output_type": "execute_result"
    }
   ],
   "source": [
    "df.groupby(['installation_id','game_session','world','type','title']).event_id.count()"
   ]
  },
  {
   "cell_type": "code",
   "execution_count": 5,
   "metadata": {},
   "outputs": [],
   "source": [
    "df.drop(columns = ['Unnamed: 0'], inplace = True)"
   ]
  },
  {
   "cell_type": "code",
   "execution_count": 6,
   "metadata": {},
   "outputs": [],
   "source": [
    "df = df[df.world != \"NONE\"]"
   ]
  },
  {
   "cell_type": "code",
   "execution_count": 7,
   "metadata": {},
   "outputs": [
    {
     "data": {
      "text/plain": [
       "(5305297, 18)"
      ]
     },
     "execution_count": 7,
     "metadata": {},
     "output_type": "execute_result"
    }
   ],
   "source": [
    "df.shape"
   ]
  },
  {
   "cell_type": "code",
   "execution_count": 86,
   "metadata": {},
   "outputs": [],
   "source": [
    "agg = df.groupby(['installation_id','world'])[['game_session']].count()"
   ]
  },
  {
   "cell_type": "code",
   "execution_count": 87,
   "metadata": {},
   "outputs": [
    {
     "data": {
      "text/html": [
       "<div>\n",
       "<style scoped>\n",
       "    .dataframe tbody tr th:only-of-type {\n",
       "        vertical-align: middle;\n",
       "    }\n",
       "\n",
       "    .dataframe tbody tr th {\n",
       "        vertical-align: top;\n",
       "    }\n",
       "\n",
       "    .dataframe thead th {\n",
       "        text-align: right;\n",
       "    }\n",
       "</style>\n",
       "<table border=\"1\" class=\"dataframe\">\n",
       "  <thead>\n",
       "    <tr style=\"text-align: right;\">\n",
       "      <th></th>\n",
       "      <th></th>\n",
       "      <th>game_session</th>\n",
       "    </tr>\n",
       "    <tr>\n",
       "      <th>installation_id</th>\n",
       "      <th>world</th>\n",
       "      <th></th>\n",
       "    </tr>\n",
       "  </thead>\n",
       "  <tbody>\n",
       "    <tr>\n",
       "      <th rowspan=\"2\" valign=\"top\">0006a69f</th>\n",
       "      <th>MAGMAPEAK</th>\n",
       "      <td>725</td>\n",
       "    </tr>\n",
       "    <tr>\n",
       "      <th>TREETOPCITY</th>\n",
       "      <td>1878</td>\n",
       "    </tr>\n",
       "    <tr>\n",
       "      <th rowspan=\"3\" valign=\"top\">0006c192</th>\n",
       "      <th>CRYSTALCAVES</th>\n",
       "      <td>204</td>\n",
       "    </tr>\n",
       "    <tr>\n",
       "      <th>MAGMAPEAK</th>\n",
       "      <td>1336</td>\n",
       "    </tr>\n",
       "    <tr>\n",
       "      <th>TREETOPCITY</th>\n",
       "      <td>664</td>\n",
       "    </tr>\n",
       "    <tr>\n",
       "      <th>...</th>\n",
       "      <th>...</th>\n",
       "      <td>...</td>\n",
       "    </tr>\n",
       "    <tr>\n",
       "      <th>ffc90c32</th>\n",
       "      <th>TREETOPCITY</th>\n",
       "      <td>684</td>\n",
       "    </tr>\n",
       "    <tr>\n",
       "      <th>ffd2871d</th>\n",
       "      <th>MAGMAPEAK</th>\n",
       "      <td>927</td>\n",
       "    </tr>\n",
       "    <tr>\n",
       "      <th rowspan=\"3\" valign=\"top\">ffeb0b1b</th>\n",
       "      <th>CRYSTALCAVES</th>\n",
       "      <td>944</td>\n",
       "    </tr>\n",
       "    <tr>\n",
       "      <th>MAGMAPEAK</th>\n",
       "      <td>534</td>\n",
       "    </tr>\n",
       "    <tr>\n",
       "      <th>TREETOPCITY</th>\n",
       "      <td>112</td>\n",
       "    </tr>\n",
       "  </tbody>\n",
       "</table>\n",
       "<p>8185 rows × 1 columns</p>\n",
       "</div>"
      ],
      "text/plain": [
       "                              game_session\n",
       "installation_id world                     \n",
       "0006a69f        MAGMAPEAK              725\n",
       "                TREETOPCITY           1878\n",
       "0006c192        CRYSTALCAVES           204\n",
       "                MAGMAPEAK             1336\n",
       "                TREETOPCITY            664\n",
       "...                                    ...\n",
       "ffc90c32        TREETOPCITY            684\n",
       "ffd2871d        MAGMAPEAK              927\n",
       "ffeb0b1b        CRYSTALCAVES           944\n",
       "                MAGMAPEAK              534\n",
       "                TREETOPCITY            112\n",
       "\n",
       "[8185 rows x 1 columns]"
      ]
     },
     "execution_count": 87,
     "metadata": {},
     "output_type": "execute_result"
    }
   ],
   "source": [
    "agg"
   ]
  },
  {
   "cell_type": "code",
   "execution_count": 88,
   "metadata": {},
   "outputs": [],
   "source": [
    "agg = agg.reset_index()"
   ]
  },
  {
   "cell_type": "code",
   "execution_count": 89,
   "metadata": {},
   "outputs": [
    {
     "data": {
      "text/html": [
       "<div>\n",
       "<style scoped>\n",
       "    .dataframe tbody tr th:only-of-type {\n",
       "        vertical-align: middle;\n",
       "    }\n",
       "\n",
       "    .dataframe tbody tr th {\n",
       "        vertical-align: top;\n",
       "    }\n",
       "\n",
       "    .dataframe thead th {\n",
       "        text-align: right;\n",
       "    }\n",
       "</style>\n",
       "<table border=\"1\" class=\"dataframe\">\n",
       "  <thead>\n",
       "    <tr style=\"text-align: right;\">\n",
       "      <th></th>\n",
       "      <th>installation_id</th>\n",
       "      <th>world</th>\n",
       "      <th>game_session</th>\n",
       "    </tr>\n",
       "  </thead>\n",
       "  <tbody>\n",
       "    <tr>\n",
       "      <th>0</th>\n",
       "      <td>0006a69f</td>\n",
       "      <td>MAGMAPEAK</td>\n",
       "      <td>725</td>\n",
       "    </tr>\n",
       "    <tr>\n",
       "      <th>1</th>\n",
       "      <td>0006a69f</td>\n",
       "      <td>TREETOPCITY</td>\n",
       "      <td>1878</td>\n",
       "    </tr>\n",
       "    <tr>\n",
       "      <th>2</th>\n",
       "      <td>0006c192</td>\n",
       "      <td>CRYSTALCAVES</td>\n",
       "      <td>204</td>\n",
       "    </tr>\n",
       "    <tr>\n",
       "      <th>3</th>\n",
       "      <td>0006c192</td>\n",
       "      <td>MAGMAPEAK</td>\n",
       "      <td>1336</td>\n",
       "    </tr>\n",
       "    <tr>\n",
       "      <th>4</th>\n",
       "      <td>0006c192</td>\n",
       "      <td>TREETOPCITY</td>\n",
       "      <td>664</td>\n",
       "    </tr>\n",
       "    <tr>\n",
       "      <th>...</th>\n",
       "      <td>...</td>\n",
       "      <td>...</td>\n",
       "      <td>...</td>\n",
       "    </tr>\n",
       "    <tr>\n",
       "      <th>8180</th>\n",
       "      <td>ffc90c32</td>\n",
       "      <td>TREETOPCITY</td>\n",
       "      <td>684</td>\n",
       "    </tr>\n",
       "    <tr>\n",
       "      <th>8181</th>\n",
       "      <td>ffd2871d</td>\n",
       "      <td>MAGMAPEAK</td>\n",
       "      <td>927</td>\n",
       "    </tr>\n",
       "    <tr>\n",
       "      <th>8182</th>\n",
       "      <td>ffeb0b1b</td>\n",
       "      <td>CRYSTALCAVES</td>\n",
       "      <td>944</td>\n",
       "    </tr>\n",
       "    <tr>\n",
       "      <th>8183</th>\n",
       "      <td>ffeb0b1b</td>\n",
       "      <td>MAGMAPEAK</td>\n",
       "      <td>534</td>\n",
       "    </tr>\n",
       "    <tr>\n",
       "      <th>8184</th>\n",
       "      <td>ffeb0b1b</td>\n",
       "      <td>TREETOPCITY</td>\n",
       "      <td>112</td>\n",
       "    </tr>\n",
       "  </tbody>\n",
       "</table>\n",
       "<p>8185 rows × 3 columns</p>\n",
       "</div>"
      ],
      "text/plain": [
       "     installation_id         world  game_session\n",
       "0           0006a69f     MAGMAPEAK           725\n",
       "1           0006a69f   TREETOPCITY          1878\n",
       "2           0006c192  CRYSTALCAVES           204\n",
       "3           0006c192     MAGMAPEAK          1336\n",
       "4           0006c192   TREETOPCITY           664\n",
       "...              ...           ...           ...\n",
       "8180        ffc90c32   TREETOPCITY           684\n",
       "8181        ffd2871d     MAGMAPEAK           927\n",
       "8182        ffeb0b1b  CRYSTALCAVES           944\n",
       "8183        ffeb0b1b     MAGMAPEAK           534\n",
       "8184        ffeb0b1b   TREETOPCITY           112\n",
       "\n",
       "[8185 rows x 3 columns]"
      ]
     },
     "execution_count": 89,
     "metadata": {},
     "output_type": "execute_result"
    }
   ],
   "source": [
    "agg"
   ]
  },
  {
   "cell_type": "code",
   "execution_count": 90,
   "metadata": {},
   "outputs": [],
   "source": [
    "agg = agg.pivot(index = 'installation_id', columns = 'world').fillna(0).reset_index()"
   ]
  },
  {
   "cell_type": "code",
   "execution_count": 91,
   "metadata": {},
   "outputs": [
    {
     "data": {
      "text/html": [
       "<div>\n",
       "<style scoped>\n",
       "    .dataframe tbody tr th:only-of-type {\n",
       "        vertical-align: middle;\n",
       "    }\n",
       "\n",
       "    .dataframe tbody tr th {\n",
       "        vertical-align: top;\n",
       "    }\n",
       "\n",
       "    .dataframe thead tr th {\n",
       "        text-align: left;\n",
       "    }\n",
       "</style>\n",
       "<table border=\"1\" class=\"dataframe\">\n",
       "  <thead>\n",
       "    <tr>\n",
       "      <th></th>\n",
       "      <th>installation_id</th>\n",
       "      <th colspan=\"3\" halign=\"left\">game_session</th>\n",
       "    </tr>\n",
       "    <tr>\n",
       "      <th>world</th>\n",
       "      <th></th>\n",
       "      <th>CRYSTALCAVES</th>\n",
       "      <th>MAGMAPEAK</th>\n",
       "      <th>TREETOPCITY</th>\n",
       "    </tr>\n",
       "  </thead>\n",
       "  <tbody>\n",
       "    <tr>\n",
       "      <th>0</th>\n",
       "      <td>0006a69f</td>\n",
       "      <td>0.0</td>\n",
       "      <td>725.0</td>\n",
       "      <td>1878.0</td>\n",
       "    </tr>\n",
       "    <tr>\n",
       "      <th>1</th>\n",
       "      <td>0006c192</td>\n",
       "      <td>204.0</td>\n",
       "      <td>1336.0</td>\n",
       "      <td>664.0</td>\n",
       "    </tr>\n",
       "    <tr>\n",
       "      <th>2</th>\n",
       "      <td>00129856</td>\n",
       "      <td>0.0</td>\n",
       "      <td>0.0</td>\n",
       "      <td>43.0</td>\n",
       "    </tr>\n",
       "    <tr>\n",
       "      <th>3</th>\n",
       "      <td>001d0ed0</td>\n",
       "      <td>246.0</td>\n",
       "      <td>0.0</td>\n",
       "      <td>159.0</td>\n",
       "    </tr>\n",
       "    <tr>\n",
       "      <th>4</th>\n",
       "      <td>00225f67</td>\n",
       "      <td>0.0</td>\n",
       "      <td>0.0</td>\n",
       "      <td>636.0</td>\n",
       "    </tr>\n",
       "    <tr>\n",
       "      <th>...</th>\n",
       "      <td>...</td>\n",
       "      <td>...</td>\n",
       "      <td>...</td>\n",
       "      <td>...</td>\n",
       "    </tr>\n",
       "    <tr>\n",
       "      <th>3518</th>\n",
       "      <td>ff9305d7</td>\n",
       "      <td>344.0</td>\n",
       "      <td>680.0</td>\n",
       "      <td>1030.0</td>\n",
       "    </tr>\n",
       "    <tr>\n",
       "      <th>3519</th>\n",
       "      <td>ff9715db</td>\n",
       "      <td>464.0</td>\n",
       "      <td>928.0</td>\n",
       "      <td>544.0</td>\n",
       "    </tr>\n",
       "    <tr>\n",
       "      <th>3520</th>\n",
       "      <td>ffc90c32</td>\n",
       "      <td>489.0</td>\n",
       "      <td>827.0</td>\n",
       "      <td>684.0</td>\n",
       "    </tr>\n",
       "    <tr>\n",
       "      <th>3521</th>\n",
       "      <td>ffd2871d</td>\n",
       "      <td>0.0</td>\n",
       "      <td>927.0</td>\n",
       "      <td>0.0</td>\n",
       "    </tr>\n",
       "    <tr>\n",
       "      <th>3522</th>\n",
       "      <td>ffeb0b1b</td>\n",
       "      <td>944.0</td>\n",
       "      <td>534.0</td>\n",
       "      <td>112.0</td>\n",
       "    </tr>\n",
       "  </tbody>\n",
       "</table>\n",
       "<p>3523 rows × 4 columns</p>\n",
       "</div>"
      ],
      "text/plain": [
       "      installation_id game_session                      \n",
       "world                 CRYSTALCAVES MAGMAPEAK TREETOPCITY\n",
       "0            0006a69f          0.0     725.0      1878.0\n",
       "1            0006c192        204.0    1336.0       664.0\n",
       "2            00129856          0.0       0.0        43.0\n",
       "3            001d0ed0        246.0       0.0       159.0\n",
       "4            00225f67          0.0       0.0       636.0\n",
       "...               ...          ...       ...         ...\n",
       "3518         ff9305d7        344.0     680.0      1030.0\n",
       "3519         ff9715db        464.0     928.0       544.0\n",
       "3520         ffc90c32        489.0     827.0       684.0\n",
       "3521         ffd2871d          0.0     927.0         0.0\n",
       "3522         ffeb0b1b        944.0     534.0       112.0\n",
       "\n",
       "[3523 rows x 4 columns]"
      ]
     },
     "execution_count": 91,
     "metadata": {},
     "output_type": "execute_result"
    }
   ],
   "source": [
    "agg"
   ]
  },
  {
   "cell_type": "code",
   "execution_count": 92,
   "metadata": {},
   "outputs": [],
   "source": [
    "agg.columns = ['installation_id', 'Crystalcaves', 'Magamapeak', 'Treetopcity']"
   ]
  },
  {
   "cell_type": "code",
   "execution_count": 93,
   "metadata": {},
   "outputs": [],
   "source": [
    "agg.set_index('installation_id', inplace = True)"
   ]
  },
  {
   "cell_type": "code",
   "execution_count": 15,
   "metadata": {},
   "outputs": [],
   "source": [
    "agg.to_csv('practice_counts.csv')"
   ]
  },
  {
   "cell_type": "code",
   "execution_count": 16,
   "metadata": {},
   "outputs": [
    {
     "data": {
      "text/plain": [
       "Text(0.5, 1.0, 'What are the usage distributions (ratio) for each world?')"
      ]
     },
     "execution_count": 16,
     "metadata": {},
     "output_type": "execute_result"
    },
    {
     "data": {
      "image/png": "[encoded data removed]",
      "text/plain": [
       "<Figure size 576x432 with 1 Axes>"
      ]
     },
     "metadata": {},
     "output_type": "display_data"
    }
   ],
   "source": [
    "plt.figure(figsize=(8,6))\n",
    "\n",
    "c = agg.sum(axis = 0)\n",
    "pcts = c.groupby(level=0).apply(lambda x: 100 * x / float(c.sum())).to_frame().reset_index()\n",
    "pcts.columns = ['world', 'percentage']\n",
    "(sns.barplot(x = \"world\" , y=\"percentage\", data=pcts, palette=my_pal))\n",
    "#plt.legend(title='World', loc='center left', bbox_to_anchor=(1, 0.5))\n",
    "plt.title(\"What are the usage distributions (ratio) for each world?\")\n",
    "\n",
    "# Magamapeak > most frequently visited world "
   ]
  },
  {
   "cell_type": "code",
   "execution_count": 17,
   "metadata": {},
   "outputs": [],
   "source": [
    "agg.sort_values(by = ['Magamapeak','Treetopcity','Crystalcaves'], ascending = False, inplace = True)"
   ]
  },
  {
   "cell_type": "code",
   "execution_count": 18,
   "metadata": {},
   "outputs": [],
   "source": [
    "agg = agg.reset_index()"
   ]
  },
  {
   "cell_type": "code",
   "execution_count": 19,
   "metadata": {},
   "outputs": [
    {
     "data": {
      "text/plain": [
       "<matplotlib.axes._subplots.AxesSubplot at 0x10965aa58>"
      ]
     },
     "execution_count": 19,
     "metadata": {},
     "output_type": "execute_result"
    },
    {
     "data": {
      "image/png": "[encoded data removed]",
      "text/plain": [
       "<Figure size 432x288 with 1 Axes>"
      ]
     },
     "metadata": {},
     "output_type": "display_data"
    }
   ],
   "source": [
    "sns.boxplot(agg.Magamapeak)"
   ]
  },
  {
   "cell_type": "code",
   "execution_count": 20,
   "metadata": {},
   "outputs": [
    {
     "data": {
      "text/plain": [
       "<matplotlib.axes._subplots.AxesSubplot at 0x119dbd6d8>"
      ]
     },
     "execution_count": 20,
     "metadata": {},
     "output_type": "execute_result"
    },
    {
     "data": {
      "image/png": "[encoded data removed]",
      "text/plain": [
       "<Figure size 432x288 with 1 Axes>"
      ]
     },
     "metadata": {},
     "output_type": "display_data"
    }
   ],
   "source": [
    "sns.boxplot(agg.Crystalcaves)"
   ]
  },
  {
   "cell_type": "code",
   "execution_count": 21,
   "metadata": {},
   "outputs": [
    {
     "data": {
      "text/plain": [
       "<matplotlib.axes._subplots.AxesSubplot at 0x11a073f98>"
      ]
     },
     "execution_count": 21,
     "metadata": {},
     "output_type": "execute_result"
    },
    {
     "data": {
      "image/png": "[encoded data removed]",
      "text/plain": [
       "<Figure size 432x288 with 1 Axes>"
      ]
     },
     "metadata": {},
     "output_type": "display_data"
    }
   ],
   "source": [
    "sns.boxplot(agg.Treetopcity)"
   ]
  },
  {
   "cell_type": "code",
   "execution_count": 22,
   "metadata": {},
   "outputs": [
    {
     "data": {
      "text/plain": [
       "258.0"
      ]
     },
     "execution_count": 22,
     "metadata": {},
     "output_type": "execute_result"
    }
   ],
   "source": [
    "agg.Crystalcaves.median()"
   ]
  },
  {
   "cell_type": "code",
   "execution_count": 23,
   "metadata": {},
   "outputs": [
    {
     "data": {
      "text/plain": [
       "<matplotlib.axes._subplots.AxesSubplot at 0x10aa99390>"
      ]
     },
     "execution_count": 23,
     "metadata": {},
     "output_type": "execute_result"
    },
    {
     "data": {
      "image/png": "[encoded data removed]",
      "text/plain": [
       "<Figure size 576x432 with 1 Axes>"
      ]
     },
     "metadata": {},
     "output_type": "display_data"
    }
   ],
   "source": [
    "plt.figure(figsize=(8,6))\n",
    "sns.distplot(agg.Magamapeak)"
   ]
  },
  {
   "cell_type": "code",
   "execution_count": 24,
   "metadata": {},
   "outputs": [
    {
     "data": {
      "text/plain": [
       "<matplotlib.axes._subplots.AxesSubplot at 0x11a342898>"
      ]
     },
     "execution_count": 24,
     "metadata": {},
     "output_type": "execute_result"
    },
    {
     "data": {
      "image/png": "[encoded data removed]",
      "text/plain": [
       "<Figure size 432x288 with 1 Axes>"
      ]
     },
     "metadata": {},
     "output_type": "display_data"
    }
   ],
   "source": [
    "sns.distplot(agg.Crystalcaves)"
   ]
  },
  {
   "cell_type": "code",
   "execution_count": 25,
   "metadata": {},
   "outputs": [
    {
     "data": {
      "text/plain": [
       "<matplotlib.axes._subplots.AxesSubplot at 0x11a116f98>"
      ]
     },
     "execution_count": 25,
     "metadata": {},
     "output_type": "execute_result"
    },
    {
     "data": {
      "image/png": "[encoded data removed]",
      "text/plain": [
       "<Figure size 432x288 with 1 Axes>"
      ]
     },
     "metadata": {},
     "output_type": "display_data"
    }
   ],
   "source": [
    "sns.distplot(agg.Treetopcity)"
   ]
  },
  {
   "cell_type": "code",
   "execution_count": 26,
   "metadata": {},
   "outputs": [
    {
     "data": {
      "text/plain": [
       "world         type      \n",
       "CRYSTALCAVES  Activity       358980\n",
       "              Assessment     288231\n",
       "              Clip            21834\n",
       "              Game           944823\n",
       "MAGMAPEAK     Activity       994084\n",
       "              Assessment     143216\n",
       "              Clip            11703\n",
       "              Game          1097999\n",
       "TREETOPCITY   Activity       705527\n",
       "              Assessment     308534\n",
       "              Clip            24635\n",
       "              Game           608150\n",
       "Name: game_session, dtype: int64"
      ]
     },
     "execution_count": 26,
     "metadata": {},
     "output_type": "execute_result"
    }
   ],
   "source": [
    "(df.groupby([\"world\",\"type\"])[\"game_session\"].count())"
   ]
  },
  {
   "cell_type": "code",
   "execution_count": 27,
   "metadata": {},
   "outputs": [
    {
     "data": {
      "text/plain": [
       "Text(0.5, 1.0, 'What are the most visited engagement types in the game?')"
      ]
     },
     "execution_count": 27,
     "metadata": {},
     "output_type": "execute_result"
    },
    {
     "data": {
      "image/png": "[encoded data removed]",
      "text/plain": [
       "<Figure size 576x432 with 1 Axes>"
      ]
     },
     "metadata": {},
     "output_type": "display_data"
    }
   ],
   "source": [
    "plt.figure(figsize=(8,6))\n",
    "\n",
    "c = (df.groupby([\"world\",\"type\"])[\"game_session\"].count())\n",
    "pcts = c.groupby(level=0).apply(lambda x: 100 * x / float(c.sum())).to_frame().reset_index()\n",
    "#plt.legend(title='Color', loc='center left', bbox_to_anchor=(1, 0.5))\n",
    "(sns.barplot(x = \"type\" , y=\"game_session\", data=pcts, palette=my_pal))\n",
    "\n",
    "plt.title(\"What are the most visited engagement types in the game?\")\n",
    "\n",
    "# overall, games and activities are much more used than assessments"
   ]
  },
  {
   "cell_type": "code",
   "execution_count": 28,
   "metadata": {},
   "outputs": [
    {
     "data": {
      "text/html": [
       "<div>\n",
       "<style scoped>\n",
       "    .dataframe tbody tr th:only-of-type {\n",
       "        vertical-align: middle;\n",
       "    }\n",
       "\n",
       "    .dataframe tbody tr th {\n",
       "        vertical-align: top;\n",
       "    }\n",
       "\n",
       "    .dataframe thead th {\n",
       "        text-align: right;\n",
       "    }\n",
       "</style>\n",
       "<table border=\"1\" class=\"dataframe\">\n",
       "  <thead>\n",
       "    <tr style=\"text-align: right;\">\n",
       "      <th></th>\n",
       "      <th>world</th>\n",
       "      <th>type</th>\n",
       "      <th>game_session</th>\n",
       "    </tr>\n",
       "  </thead>\n",
       "  <tbody>\n",
       "    <tr>\n",
       "      <th>7</th>\n",
       "      <td>MAGMAPEAK</td>\n",
       "      <td>Game</td>\n",
       "      <td>19.935650</td>\n",
       "    </tr>\n",
       "    <tr>\n",
       "      <th>4</th>\n",
       "      <td>MAGMAPEAK</td>\n",
       "      <td>Activity</td>\n",
       "      <td>18.048934</td>\n",
       "    </tr>\n",
       "    <tr>\n",
       "      <th>3</th>\n",
       "      <td>CRYSTALCAVES</td>\n",
       "      <td>Game</td>\n",
       "      <td>17.154534</td>\n",
       "    </tr>\n",
       "    <tr>\n",
       "      <th>8</th>\n",
       "      <td>TREETOPCITY</td>\n",
       "      <td>Activity</td>\n",
       "      <td>12.809793</td>\n",
       "    </tr>\n",
       "    <tr>\n",
       "      <th>11</th>\n",
       "      <td>TREETOPCITY</td>\n",
       "      <td>Game</td>\n",
       "      <td>11.041782</td>\n",
       "    </tr>\n",
       "    <tr>\n",
       "      <th>0</th>\n",
       "      <td>CRYSTALCAVES</td>\n",
       "      <td>Activity</td>\n",
       "      <td>6.517765</td>\n",
       "    </tr>\n",
       "    <tr>\n",
       "      <th>9</th>\n",
       "      <td>TREETOPCITY</td>\n",
       "      <td>Assessment</td>\n",
       "      <td>5.601850</td>\n",
       "    </tr>\n",
       "    <tr>\n",
       "      <th>1</th>\n",
       "      <td>CRYSTALCAVES</td>\n",
       "      <td>Assessment</td>\n",
       "      <td>5.233222</td>\n",
       "    </tr>\n",
       "  </tbody>\n",
       "</table>\n",
       "</div>"
      ],
      "text/plain": [
       "           world        type  game_session\n",
       "7      MAGMAPEAK        Game     19.935650\n",
       "4      MAGMAPEAK    Activity     18.048934\n",
       "3   CRYSTALCAVES        Game     17.154534\n",
       "8    TREETOPCITY    Activity     12.809793\n",
       "11   TREETOPCITY        Game     11.041782\n",
       "0   CRYSTALCAVES    Activity      6.517765\n",
       "9    TREETOPCITY  Assessment      5.601850\n",
       "1   CRYSTALCAVES  Assessment      5.233222"
      ]
     },
     "execution_count": 28,
     "metadata": {},
     "output_type": "execute_result"
    }
   ],
   "source": [
    "# top 5 most played missions\n",
    "pcts[pcts.game_session >= 4.5].sort_values('game_session', ascending = False)"
   ]
  },
  {
   "cell_type": "code",
   "execution_count": 29,
   "metadata": {},
   "outputs": [
    {
     "data": {
      "text/plain": [
       "Text(0.5, 1.0, 'The most used missions in each world & engagement type (only showing record of >3.5% usage)?')"
      ]
     },
     "execution_count": 29,
     "metadata": {},
     "output_type": "execute_result"
    },
    {
     "data": {
      "image/png": "[encoded data removed]",
      "text/plain": [
       "<Figure size 1080x576 with 1 Axes>"
      ]
     },
     "metadata": {},
     "output_type": "display_data"
    }
   ],
   "source": [
    "plt.figure(figsize=(15,8))\n",
    "\n",
    "c = (df.groupby([\"world\", \"type\", \"title\"])[\"game_session\"].count())\n",
    "pcts = c.groupby(level=0).apply(lambda x: 100 * x / float(c.sum())).to_frame().reset_index()\n",
    "pcts = pcts[pcts.game_session >= 3.5]\n",
    "#plt.legend(title='Color', loc='center left', bbox_to_anchor=(1, 0.5))\n",
    "(sns.barplot(x = \"world\" , y=\"game_session\", data=pcts,  hue = \"title\",palette=my_pal))\n",
    "plt.legend(title='Mission types within engagement types', loc='upper left', bbox_to_anchor=(1, 0.5))\n",
    "plt.title(\"The most used missions in each world & engagement type (only showing record of >3.5% usage)?\")\n"
   ]
  },
  {
   "cell_type": "code",
   "execution_count": 30,
   "metadata": {},
   "outputs": [],
   "source": [
    "# look at a ratio of total game time:total clicks"
   ]
  },
  {
   "cell_type": "code",
   "execution_count": 36,
   "metadata": {},
   "outputs": [],
   "source": [
    "# import Faith's game time dadaset, note that game_time does not include time for clips\n",
    "game_time = pd.read_csv('game_mins.csv')"
   ]
  },
  {
   "cell_type": "code",
   "execution_count": 40,
   "metadata": {},
   "outputs": [],
   "source": [
    "game_time.drop(columns = 'Unnamed: 0', inplace = True)"
   ]
  },
  {
   "cell_type": "code",
   "execution_count": 41,
   "metadata": {},
   "outputs": [
    {
     "data": {
      "text/html": [
       "<div>\n",
       "<style scoped>\n",
       "    .dataframe tbody tr th:only-of-type {\n",
       "        vertical-align: middle;\n",
       "    }\n",
       "\n",
       "    .dataframe tbody tr th {\n",
       "        vertical-align: top;\n",
       "    }\n",
       "\n",
       "    .dataframe thead th {\n",
       "        text-align: right;\n",
       "    }\n",
       "</style>\n",
       "<table border=\"1\" class=\"dataframe\">\n",
       "  <thead>\n",
       "    <tr style=\"text-align: right;\">\n",
       "      <th></th>\n",
       "      <th>installation_id</th>\n",
       "      <th>activity_mins</th>\n",
       "      <th>assessment_mins</th>\n",
       "      <th>game_mins</th>\n",
       "    </tr>\n",
       "  </thead>\n",
       "  <tbody>\n",
       "    <tr>\n",
       "      <th>0</th>\n",
       "      <td>0006a69f</td>\n",
       "      <td>40.428983</td>\n",
       "      <td>3.940483</td>\n",
       "      <td>21.988250</td>\n",
       "    </tr>\n",
       "    <tr>\n",
       "      <th>1</th>\n",
       "      <td>0006c192</td>\n",
       "      <td>20.175500</td>\n",
       "      <td>5.384350</td>\n",
       "      <td>8.822533</td>\n",
       "    </tr>\n",
       "    <tr>\n",
       "      <th>2</th>\n",
       "      <td>00129856</td>\n",
       "      <td>0.000000</td>\n",
       "      <td>0.662367</td>\n",
       "      <td>0.000000</td>\n",
       "    </tr>\n",
       "    <tr>\n",
       "      <th>3</th>\n",
       "      <td>001d0ed0</td>\n",
       "      <td>0.477983</td>\n",
       "      <td>3.319300</td>\n",
       "      <td>4.459850</td>\n",
       "    </tr>\n",
       "    <tr>\n",
       "      <th>4</th>\n",
       "      <td>00225f67</td>\n",
       "      <td>3.612000</td>\n",
       "      <td>0.593950</td>\n",
       "      <td>5.462883</td>\n",
       "    </tr>\n",
       "  </tbody>\n",
       "</table>\n",
       "</div>"
      ],
      "text/plain": [
       "  installation_id  activity_mins  assessment_mins  game_mins\n",
       "0        0006a69f      40.428983         3.940483  21.988250\n",
       "1        0006c192      20.175500         5.384350   8.822533\n",
       "2        00129856       0.000000         0.662367   0.000000\n",
       "3        001d0ed0       0.477983         3.319300   4.459850\n",
       "4        00225f67       3.612000         0.593950   5.462883"
      ]
     },
     "execution_count": 41,
     "metadata": {},
     "output_type": "execute_result"
    }
   ],
   "source": [
    "game_time.head()"
   ]
  },
  {
   "cell_type": "code",
   "execution_count": 42,
   "metadata": {},
   "outputs": [
    {
     "data": {
      "text/html": [
       "<div>\n",
       "<style scoped>\n",
       "    .dataframe tbody tr th:only-of-type {\n",
       "        vertical-align: middle;\n",
       "    }\n",
       "\n",
       "    .dataframe tbody tr th {\n",
       "        vertical-align: top;\n",
       "    }\n",
       "\n",
       "    .dataframe thead th {\n",
       "        text-align: right;\n",
       "    }\n",
       "</style>\n",
       "<table border=\"1\" class=\"dataframe\">\n",
       "  <thead>\n",
       "    <tr style=\"text-align: right;\">\n",
       "      <th></th>\n",
       "      <th>event_id</th>\n",
       "      <th>game_session</th>\n",
       "      <th>timestamp</th>\n",
       "      <th>event_data</th>\n",
       "      <th>installation_id</th>\n",
       "      <th>event_count</th>\n",
       "      <th>event_code</th>\n",
       "      <th>game_time</th>\n",
       "      <th>title</th>\n",
       "      <th>type</th>\n",
       "      <th>world</th>\n",
       "      <th>num_correct</th>\n",
       "      <th>num_incorrect</th>\n",
       "      <th>accuracy</th>\n",
       "      <th>accuracy_group</th>\n",
       "      <th>date</th>\n",
       "      <th>hour</th>\n",
       "      <th>weekday</th>\n",
       "    </tr>\n",
       "  </thead>\n",
       "  <tbody>\n",
       "    <tr>\n",
       "      <th>1</th>\n",
       "      <td>27253bdc</td>\n",
       "      <td>4b57c9a59474a1b9</td>\n",
       "      <td>2019-08-06 04:57:45.301000+00:00</td>\n",
       "      <td>{\"event_code\": 2000, \"event_count\": 1}</td>\n",
       "      <td>0006a69f</td>\n",
       "      <td>1</td>\n",
       "      <td>2000</td>\n",
       "      <td>0</td>\n",
       "      <td>Magma Peak - Level 1</td>\n",
       "      <td>Clip</td>\n",
       "      <td>MAGMAPEAK</td>\n",
       "      <td>NaN</td>\n",
       "      <td>NaN</td>\n",
       "      <td>NaN</td>\n",
       "      <td>NaN</td>\n",
       "      <td>2019-08-06</td>\n",
       "      <td>4</td>\n",
       "      <td>Tuesday</td>\n",
       "    </tr>\n",
       "    <tr>\n",
       "      <th>2</th>\n",
       "      <td>77261ab5</td>\n",
       "      <td>2b9d5af79bcdb79f</td>\n",
       "      <td>2019-08-06 04:58:14.538000+00:00</td>\n",
       "      <td>{\"version\":\"1.0\",\"event_count\":1,\"game_time\":0...</td>\n",
       "      <td>0006a69f</td>\n",
       "      <td>1</td>\n",
       "      <td>2000</td>\n",
       "      <td>0</td>\n",
       "      <td>Sandcastle Builder (Activity)</td>\n",
       "      <td>Activity</td>\n",
       "      <td>MAGMAPEAK</td>\n",
       "      <td>NaN</td>\n",
       "      <td>NaN</td>\n",
       "      <td>NaN</td>\n",
       "      <td>NaN</td>\n",
       "      <td>2019-08-06</td>\n",
       "      <td>4</td>\n",
       "      <td>Tuesday</td>\n",
       "    </tr>\n",
       "    <tr>\n",
       "      <th>3</th>\n",
       "      <td>b2dba42b</td>\n",
       "      <td>2b9d5af79bcdb79f</td>\n",
       "      <td>2019-08-06 04:58:14.615000+00:00</td>\n",
       "      <td>{\"description\":\"Let's build a sandcastle! Firs...</td>\n",
       "      <td>0006a69f</td>\n",
       "      <td>2</td>\n",
       "      <td>3010</td>\n",
       "      <td>29</td>\n",
       "      <td>Sandcastle Builder (Activity)</td>\n",
       "      <td>Activity</td>\n",
       "      <td>MAGMAPEAK</td>\n",
       "      <td>NaN</td>\n",
       "      <td>NaN</td>\n",
       "      <td>NaN</td>\n",
       "      <td>NaN</td>\n",
       "      <td>2019-08-06</td>\n",
       "      <td>4</td>\n",
       "      <td>Tuesday</td>\n",
       "    </tr>\n",
       "    <tr>\n",
       "      <th>4</th>\n",
       "      <td>1325467d</td>\n",
       "      <td>2b9d5af79bcdb79f</td>\n",
       "      <td>2019-08-06 04:58:16.680000+00:00</td>\n",
       "      <td>{\"coordinates\":{\"x\":273,\"y\":650,\"stage_width\":...</td>\n",
       "      <td>0006a69f</td>\n",
       "      <td>3</td>\n",
       "      <td>4070</td>\n",
       "      <td>2137</td>\n",
       "      <td>Sandcastle Builder (Activity)</td>\n",
       "      <td>Activity</td>\n",
       "      <td>MAGMAPEAK</td>\n",
       "      <td>NaN</td>\n",
       "      <td>NaN</td>\n",
       "      <td>NaN</td>\n",
       "      <td>NaN</td>\n",
       "      <td>2019-08-06</td>\n",
       "      <td>4</td>\n",
       "      <td>Tuesday</td>\n",
       "    </tr>\n",
       "    <tr>\n",
       "      <th>5</th>\n",
       "      <td>1325467d</td>\n",
       "      <td>2b9d5af79bcdb79f</td>\n",
       "      <td>2019-08-06 04:58:18.474000+00:00</td>\n",
       "      <td>{\"coordinates\":{\"x\":863,\"y\":237,\"stage_width\":...</td>\n",
       "      <td>0006a69f</td>\n",
       "      <td>4</td>\n",
       "      <td>4070</td>\n",
       "      <td>3937</td>\n",
       "      <td>Sandcastle Builder (Activity)</td>\n",
       "      <td>Activity</td>\n",
       "      <td>MAGMAPEAK</td>\n",
       "      <td>NaN</td>\n",
       "      <td>NaN</td>\n",
       "      <td>NaN</td>\n",
       "      <td>NaN</td>\n",
       "      <td>2019-08-06</td>\n",
       "      <td>4</td>\n",
       "      <td>Tuesday</td>\n",
       "    </tr>\n",
       "  </tbody>\n",
       "</table>\n",
       "</div>"
      ],
      "text/plain": [
       "   event_id      game_session                         timestamp  \\\n",
       "1  27253bdc  4b57c9a59474a1b9  2019-08-06 04:57:45.301000+00:00   \n",
       "2  77261ab5  2b9d5af79bcdb79f  2019-08-06 04:58:14.538000+00:00   \n",
       "3  b2dba42b  2b9d5af79bcdb79f  2019-08-06 04:58:14.615000+00:00   \n",
       "4  1325467d  2b9d5af79bcdb79f  2019-08-06 04:58:16.680000+00:00   \n",
       "5  1325467d  2b9d5af79bcdb79f  2019-08-06 04:58:18.474000+00:00   \n",
       "\n",
       "                                          event_data installation_id  \\\n",
       "1             {\"event_code\": 2000, \"event_count\": 1}        0006a69f   \n",
       "2  {\"version\":\"1.0\",\"event_count\":1,\"game_time\":0...        0006a69f   \n",
       "3  {\"description\":\"Let's build a sandcastle! Firs...        0006a69f   \n",
       "4  {\"coordinates\":{\"x\":273,\"y\":650,\"stage_width\":...        0006a69f   \n",
       "5  {\"coordinates\":{\"x\":863,\"y\":237,\"stage_width\":...        0006a69f   \n",
       "\n",
       "   event_count  event_code  game_time                          title  \\\n",
       "1            1        2000          0           Magma Peak - Level 1   \n",
       "2            1        2000          0  Sandcastle Builder (Activity)   \n",
       "3            2        3010         29  Sandcastle Builder (Activity)   \n",
       "4            3        4070       2137  Sandcastle Builder (Activity)   \n",
       "5            4        4070       3937  Sandcastle Builder (Activity)   \n",
       "\n",
       "       type      world  num_correct  num_incorrect  accuracy  accuracy_group  \\\n",
       "1      Clip  MAGMAPEAK          NaN            NaN       NaN             NaN   \n",
       "2  Activity  MAGMAPEAK          NaN            NaN       NaN             NaN   \n",
       "3  Activity  MAGMAPEAK          NaN            NaN       NaN             NaN   \n",
       "4  Activity  MAGMAPEAK          NaN            NaN       NaN             NaN   \n",
       "5  Activity  MAGMAPEAK          NaN            NaN       NaN             NaN   \n",
       "\n",
       "         date  hour  weekday  \n",
       "1  2019-08-06     4  Tuesday  \n",
       "2  2019-08-06     4  Tuesday  \n",
       "3  2019-08-06     4  Tuesday  \n",
       "4  2019-08-06     4  Tuesday  \n",
       "5  2019-08-06     4  Tuesday  "
      ]
     },
     "execution_count": 42,
     "metadata": {},
     "output_type": "execute_result"
    }
   ],
   "source": [
    "df.head()"
   ]
  },
  {
   "cell_type": "code",
   "execution_count": 77,
   "metadata": {},
   "outputs": [],
   "source": [
    "# in each user account, how many games did they play, and how many actions did they actually do?\n",
    "action = df.groupby(['installation_id','game_session', 'type']).event_id.count().reset_index()"
   ]
  },
  {
   "cell_type": "code",
   "execution_count": 81,
   "metadata": {},
   "outputs": [],
   "source": [
    "act = action.drop(columns = 'game_session')"
   ]
  },
  {
   "cell_type": "code",
   "execution_count": 95,
   "metadata": {},
   "outputs": [
    {
     "data": {
      "text/html": [
       "<div>\n",
       "<style scoped>\n",
       "    .dataframe tbody tr th:only-of-type {\n",
       "        vertical-align: middle;\n",
       "    }\n",
       "\n",
       "    .dataframe tbody tr th {\n",
       "        vertical-align: top;\n",
       "    }\n",
       "\n",
       "    .dataframe thead th {\n",
       "        text-align: right;\n",
       "    }\n",
       "</style>\n",
       "<table border=\"1\" class=\"dataframe\">\n",
       "  <thead>\n",
       "    <tr style=\"text-align: right;\">\n",
       "      <th></th>\n",
       "      <th>installation_id</th>\n",
       "      <th>type</th>\n",
       "      <th>event_id</th>\n",
       "    </tr>\n",
       "  </thead>\n",
       "  <tbody>\n",
       "    <tr>\n",
       "      <th>0</th>\n",
       "      <td>0006a69f</td>\n",
       "      <td>Game</td>\n",
       "      <td>131</td>\n",
       "    </tr>\n",
       "    <tr>\n",
       "      <th>1</th>\n",
       "      <td>0006a69f</td>\n",
       "      <td>Activity</td>\n",
       "      <td>84</td>\n",
       "    </tr>\n",
       "    <tr>\n",
       "      <th>2</th>\n",
       "      <td>0006a69f</td>\n",
       "      <td>Clip</td>\n",
       "      <td>1</td>\n",
       "    </tr>\n",
       "    <tr>\n",
       "      <th>3</th>\n",
       "      <td>0006a69f</td>\n",
       "      <td>Game</td>\n",
       "      <td>64</td>\n",
       "    </tr>\n",
       "    <tr>\n",
       "      <th>4</th>\n",
       "      <td>0006a69f</td>\n",
       "      <td>Clip</td>\n",
       "      <td>1</td>\n",
       "    </tr>\n",
       "    <tr>\n",
       "      <th>...</th>\n",
       "      <td>...</td>\n",
       "      <td>...</td>\n",
       "      <td>...</td>\n",
       "    </tr>\n",
       "    <tr>\n",
       "      <th>119709</th>\n",
       "      <td>ffeb0b1b</td>\n",
       "      <td>Activity</td>\n",
       "      <td>76</td>\n",
       "    </tr>\n",
       "    <tr>\n",
       "      <th>119710</th>\n",
       "      <td>ffeb0b1b</td>\n",
       "      <td>Clip</td>\n",
       "      <td>1</td>\n",
       "    </tr>\n",
       "    <tr>\n",
       "      <th>119711</th>\n",
       "      <td>ffeb0b1b</td>\n",
       "      <td>Clip</td>\n",
       "      <td>1</td>\n",
       "    </tr>\n",
       "    <tr>\n",
       "      <th>119712</th>\n",
       "      <td>ffeb0b1b</td>\n",
       "      <td>Game</td>\n",
       "      <td>604</td>\n",
       "    </tr>\n",
       "    <tr>\n",
       "      <th>119713</th>\n",
       "      <td>ffeb0b1b</td>\n",
       "      <td>Clip</td>\n",
       "      <td>1</td>\n",
       "    </tr>\n",
       "  </tbody>\n",
       "</table>\n",
       "<p>119714 rows × 3 columns</p>\n",
       "</div>"
      ],
      "text/plain": [
       "       installation_id      type  event_id\n",
       "0             0006a69f      Game       131\n",
       "1             0006a69f  Activity        84\n",
       "2             0006a69f      Clip         1\n",
       "3             0006a69f      Game        64\n",
       "4             0006a69f      Clip         1\n",
       "...                ...       ...       ...\n",
       "119709        ffeb0b1b  Activity        76\n",
       "119710        ffeb0b1b      Clip         1\n",
       "119711        ffeb0b1b      Clip         1\n",
       "119712        ffeb0b1b      Game       604\n",
       "119713        ffeb0b1b      Clip         1\n",
       "\n",
       "[119714 rows x 3 columns]"
      ]
     },
     "execution_count": 95,
     "metadata": {},
     "output_type": "execute_result"
    }
   ],
   "source": [
    "act"
   ]
  },
  {
   "cell_type": "code",
   "execution_count": 94,
   "metadata": {},
   "outputs": [
    {
     "ename": "KeyError",
     "evalue": "'None of [None] are in the columns'",
     "output_type": "error",
     "traceback": [
      "\u001b[0;31m---------------------------------------------------------------------------\u001b[0m",
      "\u001b[0;31mKeyError\u001b[0m                                  Traceback (most recent call last)",
      "\u001b[0;32m<ipython-input-94-4db5cf0c6c56>\u001b[0m in \u001b[0;36m<module>\u001b[0;34m\u001b[0m\n\u001b[0;32m----> 1\u001b[0;31m \u001b[0mact\u001b[0m\u001b[0;34m.\u001b[0m\u001b[0mpivot\u001b[0m\u001b[0;34m(\u001b[0m\u001b[0;34m)\u001b[0m\u001b[0;34m\u001b[0m\u001b[0;34m\u001b[0m\u001b[0m\n\u001b[0m",
      "\u001b[0;32m/usr/local/anaconda3/lib/python3.7/site-packages/pandas/core/frame.py\u001b[0m in \u001b[0;36mpivot\u001b[0;34m(self, index, columns, values)\u001b[0m\n\u001b[1;32m   5932\u001b[0m         \u001b[0;32mfrom\u001b[0m \u001b[0mpandas\u001b[0m\u001b[0;34m.\u001b[0m\u001b[0mcore\u001b[0m\u001b[0;34m.\u001b[0m\u001b[0mreshape\u001b[0m\u001b[0;34m.\u001b[0m\u001b[0mpivot\u001b[0m \u001b[0;32mimport\u001b[0m \u001b[0mpivot\u001b[0m\u001b[0;34m\u001b[0m\u001b[0;34m\u001b[0m\u001b[0m\n\u001b[1;32m   5933\u001b[0m \u001b[0;34m\u001b[0m\u001b[0m\n\u001b[0;32m-> 5934\u001b[0;31m         \u001b[0;32mreturn\u001b[0m \u001b[0mpivot\u001b[0m\u001b[0;34m(\u001b[0m\u001b[0mself\u001b[0m\u001b[0;34m,\u001b[0m \u001b[0mindex\u001b[0m\u001b[0;34m=\u001b[0m\u001b[0mindex\u001b[0m\u001b[0;34m,\u001b[0m \u001b[0mcolumns\u001b[0m\u001b[0;34m=\u001b[0m\u001b[0mcolumns\u001b[0m\u001b[0;34m,\u001b[0m \u001b[0mvalues\u001b[0m\u001b[0;34m=\u001b[0m\u001b[0mvalues\u001b[0m\u001b[0;34m)\u001b[0m\u001b[0;34m\u001b[0m\u001b[0;34m\u001b[0m\u001b[0m\n\u001b[0m\u001b[1;32m   5935\u001b[0m \u001b[0;34m\u001b[0m\u001b[0m\n\u001b[1;32m   5936\u001b[0m     _shared_docs[\n",
      "\u001b[0;32m/usr/local/anaconda3/lib/python3.7/site-packages/pandas/core/reshape/pivot.py\u001b[0m in \u001b[0;36mpivot\u001b[0;34m(data, index, columns, values)\u001b[0m\n\u001b[1;32m    413\u001b[0m         \u001b[0mcols\u001b[0m \u001b[0;34m=\u001b[0m \u001b[0;34m[\u001b[0m\u001b[0mcolumns\u001b[0m\u001b[0;34m]\u001b[0m \u001b[0;32mif\u001b[0m \u001b[0mindex\u001b[0m \u001b[0;32mis\u001b[0m \u001b[0;32mNone\u001b[0m \u001b[0;32melse\u001b[0m \u001b[0;34m[\u001b[0m\u001b[0mindex\u001b[0m\u001b[0;34m,\u001b[0m \u001b[0mcolumns\u001b[0m\u001b[0;34m]\u001b[0m\u001b[0;34m\u001b[0m\u001b[0;34m\u001b[0m\u001b[0m\n\u001b[1;32m    414\u001b[0m         \u001b[0mappend\u001b[0m \u001b[0;34m=\u001b[0m \u001b[0mindex\u001b[0m \u001b[0;32mis\u001b[0m \u001b[0;32mNone\u001b[0m\u001b[0;34m\u001b[0m\u001b[0;34m\u001b[0m\u001b[0m\n\u001b[0;32m--> 415\u001b[0;31m         \u001b[0mindexed\u001b[0m \u001b[0;34m=\u001b[0m \u001b[0mdata\u001b[0m\u001b[0;34m.\u001b[0m\u001b[0mset_index\u001b[0m\u001b[0;34m(\u001b[0m\u001b[0mcols\u001b[0m\u001b[0;34m,\u001b[0m \u001b[0mappend\u001b[0m\u001b[0;34m=\u001b[0m\u001b[0mappend\u001b[0m\u001b[0;34m)\u001b[0m\u001b[0;34m\u001b[0m\u001b[0;34m\u001b[0m\u001b[0m\n\u001b[0m\u001b[1;32m    416\u001b[0m     \u001b[0;32melse\u001b[0m\u001b[0;34m:\u001b[0m\u001b[0;34m\u001b[0m\u001b[0;34m\u001b[0m\u001b[0m\n\u001b[1;32m    417\u001b[0m         \u001b[0;32mif\u001b[0m \u001b[0mindex\u001b[0m \u001b[0;32mis\u001b[0m \u001b[0;32mNone\u001b[0m\u001b[0;34m:\u001b[0m\u001b[0;34m\u001b[0m\u001b[0;34m\u001b[0m\u001b[0m\n",
      "\u001b[0;32m/usr/local/anaconda3/lib/python3.7/site-packages/pandas/core/frame.py\u001b[0m in \u001b[0;36mset_index\u001b[0;34m(self, keys, drop, append, inplace, verify_integrity)\u001b[0m\n\u001b[1;32m   4409\u001b[0m \u001b[0;34m\u001b[0m\u001b[0m\n\u001b[1;32m   4410\u001b[0m         \u001b[0;32mif\u001b[0m \u001b[0mmissing\u001b[0m\u001b[0;34m:\u001b[0m\u001b[0;34m\u001b[0m\u001b[0;34m\u001b[0m\u001b[0m\n\u001b[0;32m-> 4411\u001b[0;31m             \u001b[0;32mraise\u001b[0m \u001b[0mKeyError\u001b[0m\u001b[0;34m(\u001b[0m\u001b[0;34m\"None of {} are in the columns\"\u001b[0m\u001b[0;34m.\u001b[0m\u001b[0mformat\u001b[0m\u001b[0;34m(\u001b[0m\u001b[0mmissing\u001b[0m\u001b[0;34m)\u001b[0m\u001b[0;34m)\u001b[0m\u001b[0;34m\u001b[0m\u001b[0;34m\u001b[0m\u001b[0m\n\u001b[0m\u001b[1;32m   4412\u001b[0m \u001b[0;34m\u001b[0m\u001b[0m\n\u001b[1;32m   4413\u001b[0m         \u001b[0;32mif\u001b[0m \u001b[0minplace\u001b[0m\u001b[0;34m:\u001b[0m\u001b[0;34m\u001b[0m\u001b[0;34m\u001b[0m\u001b[0m\n",
      "\u001b[0;31mKeyError\u001b[0m: 'None of [None] are in the columns'"
     ]
    }
   ],
   "source": [
    "agg = agg.pivot(index = 'installation_id', columns = 'world').fillna(0).reset_index()\n",
    "act.pivot(index = 'installation_id', columns = '')"
   ]
  },
  {
   "cell_type": "code",
   "execution_count": 84,
   "metadata": {},
   "outputs": [],
   "source": [
    "med = act.event_id.median()"
   ]
  },
  {
   "cell_type": "code",
   "execution_count": 85,
   "metadata": {},
   "outputs": [
    {
     "data": {
      "text/plain": [
       "3.0"
      ]
     },
     "execution_count": 85,
     "metadata": {},
     "output_type": "execute_result"
    }
   ],
   "source": [
    "Q1 = "
   ]
  },
  {
   "cell_type": "code",
   "execution_count": 83,
   "metadata": {},
   "outputs": [],
   "source": [
    "action = action.pivot(index = 'installation_id', columns = 'type').fillna(0).reset_index()"
   ]
  },
  {
   "cell_type": "code",
   "execution_count": null,
   "metadata": {},
   "outputs": [],
   "source": [
    "action = agg.reset_index()\n",
    "agg = agg.pivot(index = 'installation_id', columns = 'world').fillna(0).reset_index()\n",
    "agg.columns = ['installation_id', 'Crystalcaves', 'Magamapeak', 'Treetopcity']\n",
    "agg.set_index('installation_id', inplace = True)"
   ]
  },
  {
   "cell_type": "code",
   "execution_count": null,
   "metadata": {},
   "outputs": [],
   "source": [
    "df.groupby(['installation_id','world']).game_session.count()"
   ]
  },
  {
   "cell_type": "code",
   "execution_count": null,
   "metadata": {},
   "outputs": [],
   "source": [
    "df.groupby(['installation_id','world','type']).game_session.count()"
   ]
  },
  {
   "cell_type": "code",
   "execution_count": null,
   "metadata": {},
   "outputs": [],
   "source": [
    "df.groupby(['installation_id','world','type','game_session']).event_id.count()"
   ]
  },
  {
   "cell_type": "code",
   "execution_count": null,
   "metadata": {},
   "outputs": [],
   "source": [
    "df.groupby(['installation_id','world','type','game_session']).event_count.value_counts()"
   ]
  },
  {
   "cell_type": "code",
   "execution_count": null,
   "metadata": {},
   "outputs": [],
   "source": [
    "df.groupby(['installation_id','world','type','game_session']).event_id.value_counts()"
   ]
  },
  {
   "cell_type": "code",
   "execution_count": null,
   "metadata": {},
   "outputs": [],
   "source": [
    "df['game_time_min'] = (df.game_time/60000)"
   ]
  },
  {
   "cell_type": "code",
   "execution_count": null,
   "metadata": {},
   "outputs": [],
   "source": [
    "df_no_clip = df[df.type!= 'Clip']"
   ]
  },
  {
   "cell_type": "code",
   "execution_count": null,
   "metadata": {},
   "outputs": [],
   "source": [
    "df.groupby(['world','type']).title.count().to_frame()"
   ]
  },
  {
   "cell_type": "code",
   "execution_count": null,
   "metadata": {},
   "outputs": [],
   "source": [
    "pd.pivot_table(df_no_clip, values = [\"game_time_min\"], index=[\"world\", \"type\", \"title\"], aggfunc=[np.sum, np.mean, np.median])"
   ]
  },
  {
   "cell_type": "code",
   "execution_count": null,
   "metadata": {},
   "outputs": [],
   "source": [
    "# if game_time << game_time median for particular mission, do something so we don't include click arounds"
   ]
  },
  {
   "cell_type": "code",
   "execution_count": null,
   "metadata": {},
   "outputs": [],
   "source": []
  },
  {
   "cell_type": "code",
   "execution_count": null,
   "metadata": {},
   "outputs": [],
   "source": []
  },
  {
   "cell_type": "code",
   "execution_count": null,
   "metadata": {},
   "outputs": [],
   "source": []
  },
  {
   "cell_type": "code",
   "execution_count": null,
   "metadata": {},
   "outputs": [],
   "source": [
    "user_result = pd.crosstab(df.installation_id, df.accuracy_group)"
   ]
  },
  {
   "cell_type": "code",
   "execution_count": null,
   "metadata": {},
   "outputs": [],
   "source": [
    "user_nail_rate = pd.DataFrame(df.groupby(\"installation_id\")[\"accuracy\"].median())"
   ]
  },
  {
   "cell_type": "code",
   "execution_count": null,
   "metadata": {},
   "outputs": [],
   "source": [
    "user_type = pd.crosstab(df.installation_id, df.type)"
   ]
  },
  {
   "cell_type": "code",
   "execution_count": null,
   "metadata": {},
   "outputs": [],
   "source": [
    "exp_eepd = pd.concat([user_type, user_result, user_nail_rate], axis = 1)"
   ]
  },
  {
   "cell_type": "code",
   "execution_count": null,
   "metadata": {},
   "outputs": [],
   "source": [
    "# filter random:\n",
    "# among all data and the various \"learning\" items of\n",
    "# \"Activity\", \"Clip\", \"Game\"\n",
    "# if  participate in none > \n",
    "# if participate in at least 1/ 2 > then?\n",
    "# how does that compare to participate all three?\n",
    "\n",
    "# next need to consider time component,\n",
    "# finding the order of EEPD\n",
    "exp_eepd"
   ]
  },
  {
   "cell_type": "code",
   "execution_count": null,
   "metadata": {},
   "outputs": [],
   "source": [
    "exp_eepd[\"nActivity\"] = exp_eepd.Activity.apply(lambda x: 1 if x > 0 else 0)\n",
    "exp_eepd[\"nClip\"] = exp_eepd.Clip.apply(lambda x: 1 if x > 0 else 0)\n",
    "exp_eepd[\"nGame\"] = exp_eepd.Game.apply(lambda x: 1 if x > 0 else 0)"
   ]
  },
  {
   "cell_type": "code",
   "execution_count": null,
   "metadata": {},
   "outputs": [],
   "source": [
    "exp_eepd[\"sum_engage\"] = exp_eepd.nActivity + exp_eepd.nClip + exp_eepd.nGame"
   ]
  },
  {
   "cell_type": "code",
   "execution_count": null,
   "metadata": {},
   "outputs": [],
   "source": [
    "plot = exp_eepd.sum_engage.value_counts(normalize = True).to_frame().reset_index()\n",
    "(sns.barplot(x = \"index\" , y=\"sum_engage\", data=plot, palette=my_pal))\n",
    "plt.title(\"Throughout the play-time, how many engagement types did each kid use?\")\n",
    "plt.xlabel(\"Number of engagement types\")"
   ]
  },
  {
   "cell_type": "code",
   "execution_count": null,
   "metadata": {},
   "outputs": [],
   "source": [
    "syllabus = pd.read_csv(\"media_sequence.csv\")"
   ]
  },
  {
   "cell_type": "code",
   "execution_count": null,
   "metadata": {},
   "outputs": [],
   "source": [
    "syllabus.shape"
   ]
  },
  {
   "cell_type": "code",
   "execution_count": null,
   "metadata": {},
   "outputs": [],
   "source": [
    "syllabus[\"order\"] = range(1, 45)"
   ]
  },
  {
   "cell_type": "code",
   "execution_count": null,
   "metadata": {},
   "outputs": [],
   "source": [
    "syllabus.head()"
   ]
  },
  {
   "cell_type": "code",
   "execution_count": null,
   "metadata": {},
   "outputs": [],
   "source": [
    "# merge main dataframe with \"syllabus\"\n",
    "exp_eepd2 =  (df\n",
    "              .merge(syllabus, how = 'left', left_on = \"title\", right_on = \"title\")\n",
    "              .set_index([\"installation_id\", \"timestamp\"]))"
   ]
  },
  {
   "cell_type": "code",
   "execution_count": null,
   "metadata": {},
   "outputs": [],
   "source": [
    "median = exp_eepd2.groupby([\"installation_id\"]).accuracy.median().reset_index()"
   ]
  },
  {
   "cell_type": "code",
   "execution_count": null,
   "metadata": {},
   "outputs": [],
   "source": [
    "exp_eepd2 = (exp_eepd2\n",
    "             .reset_index()\n",
    "             .merge(median, how = \"left\", left_on = \"installation_id\", right_on = \"installation_id\")\n",
    "             .set_index([\"installation_id\", \"timestamp\"]))"
   ]
  },
  {
   "cell_type": "code",
   "execution_count": null,
   "metadata": {},
   "outputs": [],
   "source": [
    "exp_eepd2.head()"
   ]
  },
  {
   "cell_type": "code",
   "execution_count": null,
   "metadata": {},
   "outputs": [],
   "source": [
    "exp_eepd2[\"accuracy\"] = np.where(exp_eepd2.accuracy_x.isna(), exp_eepd2.accuracy_y, exp_eepd2.accuracy_x)\n",
    "#df['c2'] = np.where(df.c1 == 8,'X',df.c3)"
   ]
  },
  {
   "cell_type": "code",
   "execution_count": null,
   "metadata": {},
   "outputs": [],
   "source": [
    "from linear_random import *"
   ]
  },
  {
   "cell_type": "code",
   "execution_count": null,
   "metadata": {},
   "outputs": [],
   "source": [
    "path = exp_eepd2.groupby('installation_id').order.apply(is_list_sorted).reset_index()"
   ]
  },
  {
   "cell_type": "code",
   "execution_count": null,
   "metadata": {},
   "outputs": [],
   "source": [
    "path"
   ]
  },
  {
   "cell_type": "code",
   "execution_count": null,
   "metadata": {},
   "outputs": [],
   "source": [
    "print(f\"The percentage of kids who follow linear learning path: {round(path.mean(),2)*100}%\")"
   ]
  },
  {
   "cell_type": "code",
   "execution_count": null,
   "metadata": {},
   "outputs": [],
   "source": [
    "path = path.merge(exp_eepd2.accuracy, how = \"left\", left_on = \"installation_id\", right_on = \"installation_id\")"
   ]
  },
  {
   "cell_type": "code",
   "execution_count": null,
   "metadata": {},
   "outputs": [],
   "source": [
    "path = path.groupby([\"installation_id\",\"order\"]).median().reset_index()"
   ]
  },
  {
   "cell_type": "code",
   "execution_count": null,
   "metadata": {},
   "outputs": [],
   "source": [
    "path.groupby(\"order\").accuracy.median()"
   ]
  },
  {
   "cell_type": "code",
   "execution_count": null,
   "metadata": {},
   "outputs": [],
   "source": [
    "path[\"order_\"] = np.where(path.order == True, \"Linear\", \"Non-linear\")"
   ]
  },
  {
   "cell_type": "code",
   "execution_count": null,
   "metadata": {},
   "outputs": [],
   "source": [
    "# Sort the dataframe by target\n",
    "target_0 = path.loc[path['order_'] == \"Linear\"]\n",
    "target_1 = path.loc[path['order_'] == \"Non-linear\"]\n",
    "\n",
    "sns.distplot(target_0[['accuracy']], hist=False, rug=True, color = 'red')\n",
    "sns.distplot(target_1[['accuracy']], hist=False, rug=True, color = 'darkturquoise')\n",
    "\n",
    "plt.legend(title='Learning Paths', labels = [\"Linear\", \"Non-linear\"],loc='center left', bbox_to_anchor=(1, 0.5))\n",
    "plt.title(\"What're the score distributions for different kid learning bahavior: linear versus non-linear?\")\n",
    "\n",
    "plt.show()"
   ]
  },
  {
   "cell_type": "code",
   "execution_count": null,
   "metadata": {},
   "outputs": [],
   "source": [
    "path.groupby(\"order\").accuracy.value_counts()"
   ]
  },
  {
   "cell_type": "code",
   "execution_count": null,
   "metadata": {},
   "outputs": [],
   "source": [
    "sns.swarmplot(x=\"order_\", y=\"accuracy\", data=path, palette = my_pal[2:4])\n",
    "plt.xlabel('Learning behaviors')\n",
    "plt.title(\"Is there a different accuracy distribution between kids that demonstrate different learning behavior?\")"
   ]
  },
  {
   "cell_type": "code",
   "execution_count": null,
   "metadata": {},
   "outputs": [],
   "source": [
    "df.type"
   ]
  },
  {
   "cell_type": "code",
   "execution_count": null,
   "metadata": {},
   "outputs": [],
   "source": [
    "df[df.type == 'Assessment'].groupby([\"world\",\"title\"]).accuracy.median()"
   ]
  },
  {
   "cell_type": "code",
   "execution_count": null,
   "metadata": {},
   "outputs": [],
   "source": [
    "df[df.type == 'Assessment'].groupby([\"world\",\"title\"]).accuracy.mean()"
   ]
  },
  {
   "cell_type": "code",
   "execution_count": null,
   "metadata": {},
   "outputs": [],
   "source": [
    "df[df.type == 'Assessment'].groupby([\"world\",\"title\"]).installation_id.count()"
   ]
  },
  {
   "cell_type": "code",
   "execution_count": null,
   "metadata": {},
   "outputs": [],
   "source": []
  },
  {
   "cell_type": "code",
   "execution_count": null,
   "metadata": {},
   "outputs": [],
   "source": []
  },
  {
   "cell_type": "code",
   "execution_count": null,
   "metadata": {},
   "outputs": [],
   "source": []
  },
  {
   "cell_type": "code",
   "execution_count": 237,
   "metadata": {},
   "outputs": [],
   "source": [
    "# fill in the median\n",
    "median = df.groupby([\"installation_id\"]).accuracy.median().reset_index()"
   ]
  },
  {
   "cell_type": "code",
   "execution_count": 238,
   "metadata": {},
   "outputs": [
    {
     "data": {
      "text/html": [
       "<div>\n",
       "<style scoped>\n",
       "    .dataframe tbody tr th:only-of-type {\n",
       "        vertical-align: middle;\n",
       "    }\n",
       "\n",
       "    .dataframe tbody tr th {\n",
       "        vertical-align: top;\n",
       "    }\n",
       "\n",
       "    .dataframe thead th {\n",
       "        text-align: right;\n",
       "    }\n",
       "</style>\n",
       "<table border=\"1\" class=\"dataframe\">\n",
       "  <thead>\n",
       "    <tr style=\"text-align: right;\">\n",
       "      <th></th>\n",
       "      <th>installation_id</th>\n",
       "      <th>accuracy</th>\n",
       "    </tr>\n",
       "  </thead>\n",
       "  <tbody>\n",
       "    <tr>\n",
       "      <th>0</th>\n",
       "      <td>0006a69f</td>\n",
       "      <td>0.500000</td>\n",
       "    </tr>\n",
       "    <tr>\n",
       "      <th>1</th>\n",
       "      <td>0006c192</td>\n",
       "      <td>0.000000</td>\n",
       "    </tr>\n",
       "    <tr>\n",
       "      <th>2</th>\n",
       "      <td>001d0ed0</td>\n",
       "      <td>0.500000</td>\n",
       "    </tr>\n",
       "    <tr>\n",
       "      <th>3</th>\n",
       "      <td>00225f67</td>\n",
       "      <td>NaN</td>\n",
       "    </tr>\n",
       "    <tr>\n",
       "      <th>4</th>\n",
       "      <td>00279ac5</td>\n",
       "      <td>NaN</td>\n",
       "    </tr>\n",
       "    <tr>\n",
       "      <th>...</th>\n",
       "      <td>...</td>\n",
       "      <td>...</td>\n",
       "    </tr>\n",
       "    <tr>\n",
       "      <th>3480</th>\n",
       "      <td>ff9305d7</td>\n",
       "      <td>0.076923</td>\n",
       "    </tr>\n",
       "    <tr>\n",
       "      <th>3481</th>\n",
       "      <td>ff9715db</td>\n",
       "      <td>1.000000</td>\n",
       "    </tr>\n",
       "    <tr>\n",
       "      <th>3482</th>\n",
       "      <td>ffc90c32</td>\n",
       "      <td>1.000000</td>\n",
       "    </tr>\n",
       "    <tr>\n",
       "      <th>3483</th>\n",
       "      <td>ffd2871d</td>\n",
       "      <td>NaN</td>\n",
       "    </tr>\n",
       "    <tr>\n",
       "      <th>3484</th>\n",
       "      <td>ffeb0b1b</td>\n",
       "      <td>0.000000</td>\n",
       "    </tr>\n",
       "  </tbody>\n",
       "</table>\n",
       "<p>3485 rows × 2 columns</p>\n",
       "</div>"
      ],
      "text/plain": [
       "     installation_id  accuracy\n",
       "0           0006a69f  0.500000\n",
       "1           0006c192  0.000000\n",
       "2           001d0ed0  0.500000\n",
       "3           00225f67       NaN\n",
       "4           00279ac5       NaN\n",
       "...              ...       ...\n",
       "3480        ff9305d7  0.076923\n",
       "3481        ff9715db  1.000000\n",
       "3482        ffc90c32  1.000000\n",
       "3483        ffd2871d       NaN\n",
       "3484        ffeb0b1b  0.000000\n",
       "\n",
       "[3485 rows x 2 columns]"
      ]
     },
     "execution_count": 238,
     "metadata": {},
     "output_type": "execute_result"
    }
   ],
   "source": [
    "median"
   ]
  },
  {
   "cell_type": "code",
   "execution_count": 6,
   "metadata": {},
   "outputs": [],
   "source": [
    "test = (df\n",
    "             .reset_index()\n",
    "             .merge(median, how = \"left\", left_on = \"installation_id\", right_on = \"installation_id\")\n",
    "             .set_index([\"installation_id\"]))"
   ]
  },
  {
   "cell_type": "code",
   "execution_count": 11,
   "metadata": {},
   "outputs": [
    {
     "data": {
      "text/plain": [
       "0.8993534824462595"
      ]
     },
     "execution_count": 11,
     "metadata": {},
     "output_type": "execute_result"
    }
   ],
   "source": [
    "test.accuracy_x.isna().mean()"
   ]
  },
  {
   "cell_type": "code",
   "execution_count": 10,
   "metadata": {},
   "outputs": [
    {
     "data": {
      "text/plain": [
       "0.08533527058870494"
      ]
     },
     "execution_count": 10,
     "metadata": {},
     "output_type": "execute_result"
    }
   ],
   "source": [
    "test.accuracy_y.isna().mean()"
   ]
  },
  {
   "cell_type": "code",
   "execution_count": 7,
   "metadata": {},
   "outputs": [],
   "source": [
    "# recreate accuracy by filling in median if there's no accuracy score, else keep original\n",
    "test[\"accuracy_c\"] = np.where(test.accuracy_x.isna(), test.accuracy_y, test.accuracy_x)"
   ]
  },
  {
   "cell_type": "code",
   "execution_count": 16,
   "metadata": {},
   "outputs": [
    {
     "data": {
      "text/plain": [
       "1.000000    1535346\n",
       "0.000000    1123341\n",
       "0.500000     874333\n",
       "0.333333     461508\n",
       "0.250000     313655\n",
       "0.200000     147522\n",
       "0.166667      88458\n",
       "0.125000      60199\n",
       "0.142857      57099\n",
       "0.090909      38303\n",
       "0.100000      29723\n",
       "0.111111      28088\n",
       "0.076923      16888\n",
       "0.083333      15428\n",
       "0.047619      12119\n",
       "0.071429      10757\n",
       "0.066667      10341\n",
       "0.750000       9662\n",
       "0.058824       7827\n",
       "0.034483       3692\n",
       "0.055556       3651\n",
       "0.062500       3568\n",
       "0.024390       2229\n",
       "0.052632       1760\n",
       "0.050000       1019\n",
       "0.040000        328\n",
       "0.045455        247\n",
       "0.037037        180\n",
       "0.041667        153\n",
       "Name: accuracy_c, dtype: int64"
      ]
     },
     "execution_count": 16,
     "metadata": {},
     "output_type": "execute_result"
    }
   ],
   "source": [
    "test.accuracy_c.value_counts()"
   ]
  },
  {
   "cell_type": "code",
   "execution_count": 17,
   "metadata": {},
   "outputs": [
    {
     "data": {
      "text/plain": [
       "array(['Clip', 'Activity', 'Game', 'Assessment'], dtype=object)"
      ]
     },
     "execution_count": 17,
     "metadata": {},
     "output_type": "execute_result"
    }
   ],
   "source": [
    "# what's wrong with my join?\n",
    "test.type.unique()"
   ]
  },
  {
   "cell_type": "code",
   "execution_count": 15,
   "metadata": {},
   "outputs": [],
   "source": [
    "# drop kids who never took assessments\n",
    "#.dropna(inplace = True)"
   ]
  },
  {
   "cell_type": "code",
   "execution_count": 16,
   "metadata": {},
   "outputs": [
    {
     "data": {
      "text/plain": [
       "(534494, 20)"
      ]
     },
     "execution_count": 16,
     "metadata": {},
     "output_type": "execute_result"
    }
   ],
   "source": [
    "#df.shape #(5305297, 18)"
   ]
  },
  {
   "cell_type": "code",
   "execution_count": 8,
   "metadata": {},
   "outputs": [],
   "source": [
    "test.drop(columns = ['accuracy_x', 'accuracy_group', 'date', 'hour', 'weekday', 'accuracy_y'], inplace = True)"
   ]
  },
  {
   "cell_type": "code",
   "execution_count": 9,
   "metadata": {},
   "outputs": [
    {
     "data": {
      "text/plain": [
       "Game          2652615\n",
       "Activity      2059975\n",
       "Assessment     534494\n",
       "Clip            63522\n",
       "Name: type, dtype: int64"
      ]
     },
     "execution_count": 9,
     "metadata": {},
     "output_type": "execute_result"
    }
   ],
   "source": [
    "test.type.value_counts()"
   ]
  },
  {
   "cell_type": "code",
   "execution_count": 22,
   "metadata": {},
   "outputs": [
    {
     "data": {
      "text/plain": [
       "installation_id  type      \n",
       "0006a69f         Activity      1218\n",
       "                 Game          1111\n",
       "                 Assessment     212\n",
       "                 Clip            28\n",
       "0006c192         Activity      1206\n",
       "                               ... \n",
       "ffd2871d         Clip             3\n",
       "ffeb0b1b         Game           941\n",
       "                 Activity       381\n",
       "                 Assessment     186\n",
       "                 Clip            24\n",
       "Name: type, Length: 12051, dtype: int64"
      ]
     },
     "execution_count": 22,
     "metadata": {},
     "output_type": "execute_result"
    }
   ],
   "source": [
    "test.groupby(['installation_id']).type.value_counts()"
   ]
  },
  {
   "cell_type": "code",
   "execution_count": 29,
   "metadata": {},
   "outputs": [],
   "source": [
    "agg = test.groupby(['installation_id','game_session','type'])[['title']].count()"
   ]
  },
  {
   "cell_type": "code",
   "execution_count": 30,
   "metadata": {},
   "outputs": [
    {
     "data": {
      "text/html": [
       "<div>\n",
       "<style scoped>\n",
       "    .dataframe tbody tr th:only-of-type {\n",
       "        vertical-align: middle;\n",
       "    }\n",
       "\n",
       "    .dataframe tbody tr th {\n",
       "        vertical-align: top;\n",
       "    }\n",
       "\n",
       "    .dataframe thead th {\n",
       "        text-align: right;\n",
       "    }\n",
       "</style>\n",
       "<table border=\"1\" class=\"dataframe\">\n",
       "  <thead>\n",
       "    <tr style=\"text-align: right;\">\n",
       "      <th></th>\n",
       "      <th></th>\n",
       "      <th></th>\n",
       "      <th>title</th>\n",
       "    </tr>\n",
       "    <tr>\n",
       "      <th>installation_id</th>\n",
       "      <th>game_session</th>\n",
       "      <th>type</th>\n",
       "      <th></th>\n",
       "    </tr>\n",
       "  </thead>\n",
       "  <tbody>\n",
       "    <tr>\n",
       "      <th rowspan=\"5\" valign=\"top\">0006a69f</th>\n",
       "      <th>0336db4dee65ad4b</th>\n",
       "      <th>Game</th>\n",
       "      <td>131</td>\n",
       "    </tr>\n",
       "    <tr>\n",
       "      <th>05921a6eb858eeba</th>\n",
       "      <th>Activity</th>\n",
       "      <td>84</td>\n",
       "    </tr>\n",
       "    <tr>\n",
       "      <th>09fd0cc02e6ee5f4</th>\n",
       "      <th>Clip</th>\n",
       "      <td>1</td>\n",
       "    </tr>\n",
       "    <tr>\n",
       "      <th>1623f262016185e4</th>\n",
       "      <th>Game</th>\n",
       "      <td>64</td>\n",
       "    </tr>\n",
       "    <tr>\n",
       "      <th>1dd51df3dd28e7e0</th>\n",
       "      <th>Clip</th>\n",
       "      <td>1</td>\n",
       "    </tr>\n",
       "    <tr>\n",
       "      <th>...</th>\n",
       "      <th>...</th>\n",
       "      <th>...</th>\n",
       "      <td>...</td>\n",
       "    </tr>\n",
       "    <tr>\n",
       "      <th rowspan=\"5\" valign=\"top\">ffeb0b1b</th>\n",
       "      <th>e96910064986ea78</th>\n",
       "      <th>Activity</th>\n",
       "      <td>76</td>\n",
       "    </tr>\n",
       "    <tr>\n",
       "      <th>ead68f52fcce38ff</th>\n",
       "      <th>Clip</th>\n",
       "      <td>1</td>\n",
       "    </tr>\n",
       "    <tr>\n",
       "      <th>ee35ad382b29b3e0</th>\n",
       "      <th>Clip</th>\n",
       "      <td>1</td>\n",
       "    </tr>\n",
       "    <tr>\n",
       "      <th>f88dc29664b912a3</th>\n",
       "      <th>Game</th>\n",
       "      <td>604</td>\n",
       "    </tr>\n",
       "    <tr>\n",
       "      <th>fafc3deda44d80dc</th>\n",
       "      <th>Clip</th>\n",
       "      <td>1</td>\n",
       "    </tr>\n",
       "  </tbody>\n",
       "</table>\n",
       "<p>120041 rows × 1 columns</p>\n",
       "</div>"
      ],
      "text/plain": [
       "                                           title\n",
       "installation_id game_session     type           \n",
       "0006a69f        0336db4dee65ad4b Game        131\n",
       "                05921a6eb858eeba Activity     84\n",
       "                09fd0cc02e6ee5f4 Clip          1\n",
       "                1623f262016185e4 Game         64\n",
       "                1dd51df3dd28e7e0 Clip          1\n",
       "...                                          ...\n",
       "ffeb0b1b        e96910064986ea78 Activity     76\n",
       "                ead68f52fcce38ff Clip          1\n",
       "                ee35ad382b29b3e0 Clip          1\n",
       "                f88dc29664b912a3 Game        604\n",
       "                fafc3deda44d80dc Clip          1\n",
       "\n",
       "[120041 rows x 1 columns]"
      ]
     },
     "execution_count": 30,
     "metadata": {},
     "output_type": "execute_result"
    }
   ],
   "source": [
    "agg"
   ]
  },
  {
   "cell_type": "code",
   "execution_count": 11,
   "metadata": {},
   "outputs": [],
   "source": [
    "agg = agg.reset_index()"
   ]
  },
  {
   "cell_type": "code",
   "execution_count": 29,
   "metadata": {},
   "outputs": [
    {
     "data": {
      "text/html": [
       "<div>\n",
       "<style scoped>\n",
       "    .dataframe tbody tr th:only-of-type {\n",
       "        vertical-align: middle;\n",
       "    }\n",
       "\n",
       "    .dataframe tbody tr th {\n",
       "        vertical-align: top;\n",
       "    }\n",
       "\n",
       "    .dataframe thead th {\n",
       "        text-align: right;\n",
       "    }\n",
       "</style>\n",
       "<table border=\"1\" class=\"dataframe\">\n",
       "  <thead>\n",
       "    <tr style=\"text-align: right;\">\n",
       "      <th></th>\n",
       "      <th>installation_id</th>\n",
       "      <th>game_session</th>\n",
       "      <th>type</th>\n",
       "      <th>title</th>\n",
       "    </tr>\n",
       "  </thead>\n",
       "  <tbody>\n",
       "    <tr>\n",
       "      <th>0</th>\n",
       "      <td>0006a69f</td>\n",
       "      <td>0336db4dee65ad4b</td>\n",
       "      <td>Game</td>\n",
       "      <td>131</td>\n",
       "    </tr>\n",
       "    <tr>\n",
       "      <th>1</th>\n",
       "      <td>0006a69f</td>\n",
       "      <td>05921a6eb858eeba</td>\n",
       "      <td>Activity</td>\n",
       "      <td>84</td>\n",
       "    </tr>\n",
       "    <tr>\n",
       "      <th>2</th>\n",
       "      <td>0006a69f</td>\n",
       "      <td>09fd0cc02e6ee5f4</td>\n",
       "      <td>Clip</td>\n",
       "      <td>1</td>\n",
       "    </tr>\n",
       "    <tr>\n",
       "      <th>3</th>\n",
       "      <td>0006a69f</td>\n",
       "      <td>1623f262016185e4</td>\n",
       "      <td>Game</td>\n",
       "      <td>64</td>\n",
       "    </tr>\n",
       "    <tr>\n",
       "      <th>4</th>\n",
       "      <td>0006a69f</td>\n",
       "      <td>1dd51df3dd28e7e0</td>\n",
       "      <td>Clip</td>\n",
       "      <td>1</td>\n",
       "    </tr>\n",
       "    <tr>\n",
       "      <th>...</th>\n",
       "      <td>...</td>\n",
       "      <td>...</td>\n",
       "      <td>...</td>\n",
       "      <td>...</td>\n",
       "    </tr>\n",
       "    <tr>\n",
       "      <th>120036</th>\n",
       "      <td>ffeb0b1b</td>\n",
       "      <td>e96910064986ea78</td>\n",
       "      <td>Activity</td>\n",
       "      <td>76</td>\n",
       "    </tr>\n",
       "    <tr>\n",
       "      <th>120037</th>\n",
       "      <td>ffeb0b1b</td>\n",
       "      <td>ead68f52fcce38ff</td>\n",
       "      <td>Clip</td>\n",
       "      <td>1</td>\n",
       "    </tr>\n",
       "    <tr>\n",
       "      <th>120038</th>\n",
       "      <td>ffeb0b1b</td>\n",
       "      <td>ee35ad382b29b3e0</td>\n",
       "      <td>Clip</td>\n",
       "      <td>1</td>\n",
       "    </tr>\n",
       "    <tr>\n",
       "      <th>120039</th>\n",
       "      <td>ffeb0b1b</td>\n",
       "      <td>f88dc29664b912a3</td>\n",
       "      <td>Game</td>\n",
       "      <td>604</td>\n",
       "    </tr>\n",
       "    <tr>\n",
       "      <th>120040</th>\n",
       "      <td>ffeb0b1b</td>\n",
       "      <td>fafc3deda44d80dc</td>\n",
       "      <td>Clip</td>\n",
       "      <td>1</td>\n",
       "    </tr>\n",
       "  </tbody>\n",
       "</table>\n",
       "<p>120041 rows × 4 columns</p>\n",
       "</div>"
      ],
      "text/plain": [
       "       installation_id      game_session      type  title\n",
       "0             0006a69f  0336db4dee65ad4b      Game    131\n",
       "1             0006a69f  05921a6eb858eeba  Activity     84\n",
       "2             0006a69f  09fd0cc02e6ee5f4      Clip      1\n",
       "3             0006a69f  1623f262016185e4      Game     64\n",
       "4             0006a69f  1dd51df3dd28e7e0      Clip      1\n",
       "...                ...               ...       ...    ...\n",
       "120036        ffeb0b1b  e96910064986ea78  Activity     76\n",
       "120037        ffeb0b1b  ead68f52fcce38ff      Clip      1\n",
       "120038        ffeb0b1b  ee35ad382b29b3e0      Clip      1\n",
       "120039        ffeb0b1b  f88dc29664b912a3      Game    604\n",
       "120040        ffeb0b1b  fafc3deda44d80dc      Clip      1\n",
       "\n",
       "[120041 rows x 4 columns]"
      ]
     },
     "execution_count": 29,
     "metadata": {},
     "output_type": "execute_result"
    }
   ],
   "source": [
    "agg"
   ]
  },
  {
   "cell_type": "code",
   "execution_count": 12,
   "metadata": {},
   "outputs": [],
   "source": [
    "agggg = (agg\n",
    "       .pivot_table(\n",
    "           values = 'title', \n",
    "           index = ['installation_id'], \n",
    "           columns = ['type'], \n",
    "           aggfunc=np.sum).fillna(0).reset_index())\n"
   ]
  },
  {
   "cell_type": "code",
   "execution_count": 41,
   "metadata": {},
   "outputs": [
    {
     "data": {
      "text/plain": [
       "57"
      ]
     },
     "execution_count": 41,
     "metadata": {},
     "output_type": "execute_result"
    }
   ],
   "source": [
    "len(agggg[agggg.Clip == 0])"
   ]
  },
  {
   "cell_type": "code",
   "execution_count": 31,
   "metadata": {},
   "outputs": [
    {
     "data": {
      "text/plain": [
       "18.22725968436155"
      ]
     },
     "execution_count": 31,
     "metadata": {},
     "output_type": "execute_result"
    }
   ],
   "source": [
    "agggg.Clip.mean()"
   ]
  },
  {
   "cell_type": "code",
   "execution_count": 32,
   "metadata": {},
   "outputs": [
    {
     "data": {
      "text/plain": [
       "11.0"
      ]
     },
     "execution_count": 32,
     "metadata": {},
     "output_type": "execute_result"
    }
   ],
   "source": [
    "agggg.Clip.median()"
   ]
  },
  {
   "cell_type": "code",
   "execution_count": 34,
   "metadata": {},
   "outputs": [
    {
     "data": {
      "text/plain": [
       "<matplotlib.axes._subplots.AxesSubplot at 0x11cf60f28>"
      ]
     },
     "execution_count": 34,
     "metadata": {},
     "output_type": "execute_result"
    },
    {
     "data": {
      "image/png": "[encoded data removed]",
      "text/plain": [
       "<Figure size 432x288 with 1 Axes>"
      ]
     },
     "metadata": {},
     "output_type": "display_data"
    }
   ],
   "source": [
    "sns.distplot(agggg.Clip)"
   ]
  },
  {
   "cell_type": "code",
   "execution_count": 33,
   "metadata": {},
   "outputs": [],
   "source": [
    "#agg.columns = ['installation_id', 'Activity', 'Assessment', 'Clip','Game']"
   ]
  },
  {
   "cell_type": "code",
   "execution_count": null,
   "metadata": {},
   "outputs": [],
   "source": [
    "#agg = agg.set_index('installation_id')"
   ]
  },
  {
   "cell_type": "markdown",
   "metadata": {},
   "source": [
    "# tmp2"
   ]
  },
  {
   "cell_type": "code",
   "execution_count": 42,
   "metadata": {},
   "outputs": [
    {
     "data": {
      "text/html": [
       "<div>\n",
       "<style scoped>\n",
       "    .dataframe tbody tr th:only-of-type {\n",
       "        vertical-align: middle;\n",
       "    }\n",
       "\n",
       "    .dataframe tbody tr th {\n",
       "        vertical-align: top;\n",
       "    }\n",
       "\n",
       "    .dataframe thead th {\n",
       "        text-align: right;\n",
       "    }\n",
       "</style>\n",
       "<table border=\"1\" class=\"dataframe\">\n",
       "  <thead>\n",
       "    <tr style=\"text-align: right;\">\n",
       "      <th></th>\n",
       "      <th>installation_id</th>\n",
       "      <th>accuracy</th>\n",
       "    </tr>\n",
       "  </thead>\n",
       "  <tbody>\n",
       "    <tr>\n",
       "      <th>0</th>\n",
       "      <td>0006a69f</td>\n",
       "      <td>0.500000</td>\n",
       "    </tr>\n",
       "    <tr>\n",
       "      <th>1</th>\n",
       "      <td>0006c192</td>\n",
       "      <td>0.000000</td>\n",
       "    </tr>\n",
       "    <tr>\n",
       "      <th>2</th>\n",
       "      <td>001d0ed0</td>\n",
       "      <td>0.500000</td>\n",
       "    </tr>\n",
       "    <tr>\n",
       "      <th>3</th>\n",
       "      <td>00225f67</td>\n",
       "      <td>NaN</td>\n",
       "    </tr>\n",
       "    <tr>\n",
       "      <th>4</th>\n",
       "      <td>00279ac5</td>\n",
       "      <td>NaN</td>\n",
       "    </tr>\n",
       "    <tr>\n",
       "      <th>...</th>\n",
       "      <td>...</td>\n",
       "      <td>...</td>\n",
       "    </tr>\n",
       "    <tr>\n",
       "      <th>3480</th>\n",
       "      <td>ff9305d7</td>\n",
       "      <td>0.076923</td>\n",
       "    </tr>\n",
       "    <tr>\n",
       "      <th>3481</th>\n",
       "      <td>ff9715db</td>\n",
       "      <td>1.000000</td>\n",
       "    </tr>\n",
       "    <tr>\n",
       "      <th>3482</th>\n",
       "      <td>ffc90c32</td>\n",
       "      <td>1.000000</td>\n",
       "    </tr>\n",
       "    <tr>\n",
       "      <th>3483</th>\n",
       "      <td>ffd2871d</td>\n",
       "      <td>NaN</td>\n",
       "    </tr>\n",
       "    <tr>\n",
       "      <th>3484</th>\n",
       "      <td>ffeb0b1b</td>\n",
       "      <td>0.000000</td>\n",
       "    </tr>\n",
       "  </tbody>\n",
       "</table>\n",
       "<p>3485 rows × 2 columns</p>\n",
       "</div>"
      ],
      "text/plain": [
       "     installation_id  accuracy\n",
       "0           0006a69f  0.500000\n",
       "1           0006c192  0.000000\n",
       "2           001d0ed0  0.500000\n",
       "3           00225f67       NaN\n",
       "4           00279ac5       NaN\n",
       "...              ...       ...\n",
       "3480        ff9305d7  0.076923\n",
       "3481        ff9715db  1.000000\n",
       "3482        ffc90c32  1.000000\n",
       "3483        ffd2871d       NaN\n",
       "3484        ffeb0b1b  0.000000\n",
       "\n",
       "[3485 rows x 2 columns]"
      ]
     },
     "execution_count": 42,
     "metadata": {},
     "output_type": "execute_result"
    }
   ],
   "source": [
    "median"
   ]
  },
  {
   "cell_type": "code",
   "execution_count": 43,
   "metadata": {},
   "outputs": [],
   "source": [
    "testttt = (agggg\n",
    "             .merge(median, how = \"left\", left_on = \"installation_id\", right_on = \"installation_id\")\n",
    "             .set_index([\"installation_id\"]))"
   ]
  },
  {
   "cell_type": "code",
   "execution_count": 17,
   "metadata": {},
   "outputs": [],
   "source": [
    "testttt.drop(columns = ['index', 'Unnamed: 0'], inplace = True)"
   ]
  },
  {
   "cell_type": "code",
   "execution_count": 44,
   "metadata": {},
   "outputs": [
    {
     "data": {
      "text/plain": [
       "Index(['Activity', 'Assessment', 'Clip', 'Game', 'accuracy'], dtype='object')"
      ]
     },
     "execution_count": 44,
     "metadata": {},
     "output_type": "execute_result"
    }
   ],
   "source": [
    "testttt.columns"
   ]
  },
  {
   "cell_type": "code",
   "execution_count": 45,
   "metadata": {},
   "outputs": [
    {
     "data": {
      "text/plain": [
       "18.22725968436155"
      ]
     },
     "execution_count": 45,
     "metadata": {},
     "output_type": "execute_result"
    }
   ],
   "source": [
    "testttt.Clip.mean()"
   ]
  },
  {
   "cell_type": "code",
   "execution_count": 46,
   "metadata": {},
   "outputs": [
    {
     "data": {
      "text/plain": [
       "11.0"
      ]
     },
     "execution_count": 46,
     "metadata": {},
     "output_type": "execute_result"
    }
   ],
   "source": [
    "testttt.Clip.median()"
   ]
  },
  {
   "cell_type": "code",
   "execution_count": 47,
   "metadata": {},
   "outputs": [
    {
     "data": {
      "text/plain": [
       "0.0"
      ]
     },
     "execution_count": 47,
     "metadata": {},
     "output_type": "execute_result"
    }
   ],
   "source": [
    "testttt.Clip.min()"
   ]
  },
  {
   "cell_type": "code",
   "execution_count": 54,
   "metadata": {},
   "outputs": [],
   "source": [
    "testttt = testttt.dropna()"
   ]
  },
  {
   "cell_type": "code",
   "execution_count": 92,
   "metadata": {},
   "outputs": [],
   "source": [
    "# if a kid ever watches clip > 1\n",
    "# if a kid never watches clip > 0\n",
    "testttt[\"clip_or_no\"] = np.where(testttt.Clip < 15.5, 'Low', 'High')\n",
    "# merge this df with median.accuracy on installation\n",
    "# compare"
   ]
  },
  {
   "cell_type": "code",
   "execution_count": 93,
   "metadata": {},
   "outputs": [
    {
     "data": {
      "text/plain": [
       "Low     1261\n",
       "High    1235\n",
       "Name: clip_or_no, dtype: int64"
      ]
     },
     "execution_count": 93,
     "metadata": {},
     "output_type": "execute_result"
    }
   ],
   "source": [
    "# this is how \n",
    "testttt['clip_or_no'].value_counts()"
   ]
  },
  {
   "cell_type": "code",
   "execution_count": 132,
   "metadata": {},
   "outputs": [
    {
     "data": {
      "text/plain": [
       "<matplotlib.axes._subplots.AxesSubplot at 0x122786780>"
      ]
     },
     "execution_count": 132,
     "metadata": {},
     "output_type": "execute_result"
    },
    {
     "data": {
      "image/png": "[encoded data removed]",
      "text/plain": [
       "<Figure size 432x288 with 1 Axes>"
      ]
     },
     "metadata": {},
     "output_type": "display_data"
    }
   ],
   "source": [
    "sns.boxplot(testttt.accuracy)"
   ]
  },
  {
   "cell_type": "code",
   "execution_count": 138,
   "metadata": {},
   "outputs": [],
   "source": [
    "x = testttt.accuracy\n",
    "# set conditions\n",
    "# strings contain week, month, year need conversion\n",
    "# strings contain day remain the same\n",
    "condlist = ([\n",
    "    x <= .2,\n",
    "    (x > .2) & (x <= .8),\n",
    "    x > .8\n",
    "            ])\n",
    "# when meeting the quiteria, do these math\n",
    "choicelist = (\"low_score\",\n",
    "              \"mid_score\",\n",
    "              \"high_score\")\n",
    "# store info back into df after conversion\n",
    "testttt['look_accuracy'] = np.select(condlist, choicelist)"
   ]
  },
  {
   "cell_type": "code",
   "execution_count": 143,
   "metadata": {},
   "outputs": [
    {
     "data": {
      "text/plain": [
       "high_score    1035\n",
       "mid_score      732\n",
       "low_score      729\n",
       "Name: look_accuracy, dtype: int64"
      ]
     },
     "execution_count": 143,
     "metadata": {},
     "output_type": "execute_result"
    }
   ],
   "source": [
    "testttt.look_accuracy.value_counts()"
   ]
  },
  {
   "cell_type": "code",
   "execution_count": 146,
   "metadata": {},
   "outputs": [
    {
     "data": {
      "text/html": [
       "<div>\n",
       "<style scoped>\n",
       "    .dataframe tbody tr th:only-of-type {\n",
       "        vertical-align: middle;\n",
       "    }\n",
       "\n",
       "    .dataframe tbody tr th {\n",
       "        vertical-align: top;\n",
       "    }\n",
       "\n",
       "    .dataframe thead th {\n",
       "        text-align: right;\n",
       "    }\n",
       "</style>\n",
       "<table border=\"1\" class=\"dataframe\">\n",
       "  <thead>\n",
       "    <tr style=\"text-align: right;\">\n",
       "      <th></th>\n",
       "      <th>Activity</th>\n",
       "      <th>Assessment</th>\n",
       "      <th>Clip</th>\n",
       "      <th>Game</th>\n",
       "      <th>accuracy</th>\n",
       "      <th>clip_or_no</th>\n",
       "      <th>cat_clip_or_no</th>\n",
       "      <th>look_accuracy</th>\n",
       "    </tr>\n",
       "    <tr>\n",
       "      <th>installation_id</th>\n",
       "      <th></th>\n",
       "      <th></th>\n",
       "      <th></th>\n",
       "      <th></th>\n",
       "      <th></th>\n",
       "      <th></th>\n",
       "      <th></th>\n",
       "      <th></th>\n",
       "    </tr>\n",
       "  </thead>\n",
       "  <tbody>\n",
       "    <tr>\n",
       "      <th>0006a69f</th>\n",
       "      <td>1218.0</td>\n",
       "      <td>212.0</td>\n",
       "      <td>28.0</td>\n",
       "      <td>1111.0</td>\n",
       "      <td>0.500000</td>\n",
       "      <td>High</td>\n",
       "      <td>1</td>\n",
       "      <td>mid_score</td>\n",
       "    </tr>\n",
       "    <tr>\n",
       "      <th>0006c192</th>\n",
       "      <td>1206.0</td>\n",
       "      <td>140.0</td>\n",
       "      <td>30.0</td>\n",
       "      <td>643.0</td>\n",
       "      <td>0.000000</td>\n",
       "      <td>High</td>\n",
       "      <td>1</td>\n",
       "      <td>low_score</td>\n",
       "    </tr>\n",
       "    <tr>\n",
       "      <th>001d0ed0</th>\n",
       "      <td>12.0</td>\n",
       "      <td>165.0</td>\n",
       "      <td>19.0</td>\n",
       "      <td>176.0</td>\n",
       "      <td>0.500000</td>\n",
       "      <td>High</td>\n",
       "      <td>1</td>\n",
       "      <td>mid_score</td>\n",
       "    </tr>\n",
       "    <tr>\n",
       "      <th>002db7e3</th>\n",
       "      <td>1534.0</td>\n",
       "      <td>404.0</td>\n",
       "      <td>39.0</td>\n",
       "      <td>1402.0</td>\n",
       "      <td>0.090909</td>\n",
       "      <td>High</td>\n",
       "      <td>1</td>\n",
       "      <td>low_score</td>\n",
       "    </tr>\n",
       "    <tr>\n",
       "      <th>003372b0</th>\n",
       "      <td>538.0</td>\n",
       "      <td>201.0</td>\n",
       "      <td>27.0</td>\n",
       "      <td>980.0</td>\n",
       "      <td>0.500000</td>\n",
       "      <td>High</td>\n",
       "      <td>1</td>\n",
       "      <td>mid_score</td>\n",
       "    </tr>\n",
       "  </tbody>\n",
       "</table>\n",
       "</div>"
      ],
      "text/plain": [
       "                 Activity  Assessment  Clip    Game  accuracy clip_or_no  \\\n",
       "installation_id                                                            \n",
       "0006a69f           1218.0       212.0  28.0  1111.0  0.500000       High   \n",
       "0006c192           1206.0       140.0  30.0   643.0  0.000000       High   \n",
       "001d0ed0             12.0       165.0  19.0   176.0  0.500000       High   \n",
       "002db7e3           1534.0       404.0  39.0  1402.0  0.090909       High   \n",
       "003372b0            538.0       201.0  27.0   980.0  0.500000       High   \n",
       "\n",
       "                 cat_clip_or_no look_accuracy  \n",
       "installation_id                                \n",
       "0006a69f                      1     mid_score  \n",
       "0006c192                      1     low_score  \n",
       "001d0ed0                      1     mid_score  \n",
       "002db7e3                      1     low_score  \n",
       "003372b0                      1     mid_score  "
      ]
     },
     "execution_count": 146,
     "metadata": {},
     "output_type": "execute_result"
    }
   ],
   "source": [
    "testttt.head()"
   ]
  },
  {
   "cell_type": "code",
   "execution_count": 147,
   "metadata": {},
   "outputs": [
    {
     "data": {
      "text/plain": [
       "27.246913580246915"
      ]
     },
     "execution_count": 147,
     "metadata": {},
     "output_type": "execute_result"
    }
   ],
   "source": [
    "testttt[testttt.look_accuracy == \"low_score\"].Clip.mean()"
   ]
  },
  {
   "cell_type": "code",
   "execution_count": 149,
   "metadata": {},
   "outputs": [
    {
     "data": {
      "text/plain": [
       "887.4348422496571"
      ]
     },
     "execution_count": 149,
     "metadata": {},
     "output_type": "execute_result"
    }
   ],
   "source": [
    "testttt[testttt.look_accuracy == \"low_score\"].Activity.mean()"
   ]
  },
  {
   "cell_type": "code",
   "execution_count": 151,
   "metadata": {},
   "outputs": [
    {
     "data": {
      "text/plain": [
       "1086.432098765432"
      ]
     },
     "execution_count": 151,
     "metadata": {},
     "output_type": "execute_result"
    }
   ],
   "source": [
    "testttt[testttt.look_accuracy == \"low_score\"].Game.mean()"
   ]
  },
  {
   "cell_type": "code",
   "execution_count": 148,
   "metadata": {},
   "outputs": [
    {
     "data": {
      "text/plain": [
       "17.36328502415459"
      ]
     },
     "execution_count": 148,
     "metadata": {},
     "output_type": "execute_result"
    }
   ],
   "source": [
    "testttt[testttt.look_accuracy == \"high_score\"].Clip.mean()"
   ]
  },
  {
   "cell_type": "code",
   "execution_count": 150,
   "metadata": {},
   "outputs": [
    {
     "data": {
      "text/plain": [
       "561.3787439613527"
      ]
     },
     "execution_count": 150,
     "metadata": {},
     "output_type": "execute_result"
    }
   ],
   "source": [
    "testttt[testttt.look_accuracy == \"high_score\"].Activity.mean()"
   ]
  },
  {
   "cell_type": "code",
   "execution_count": 152,
   "metadata": {},
   "outputs": [
    {
     "data": {
      "text/plain": [
       "713.4946859903382"
      ]
     },
     "execution_count": 152,
     "metadata": {},
     "output_type": "execute_result"
    }
   ],
   "source": [
    "testttt[testttt.look_accuracy == \"high_score\"].Game.mean()"
   ]
  },
  {
   "cell_type": "code",
   "execution_count": null,
   "metadata": {},
   "outputs": [],
   "source": [
    "# look at lower accuracy versus high accuracy, what's the clip watching rate looking like\n",
    "look_accuracy = np.where(testttt.accuracy <.2, \"low_score\")"
   ]
  },
  {
   "cell_type": "code",
   "execution_count": 94,
   "metadata": {},
   "outputs": [
    {
     "data": {
      "text/plain": [
       "Text(0.5, 1.0, 'Is there a different accuracy distribution between kids who watch clips or not watch clips?')"
      ]
     },
     "execution_count": 94,
     "metadata": {},
     "output_type": "execute_result"
    },
    {
     "data": {
      "image/png": "[encoded data removed]",
      "text/plain": [
       "<Figure size 432x288 with 1 Axes>"
      ]
     },
     "metadata": {},
     "output_type": "display_data"
    }
   ],
   "source": [
    "sns.swarmplot(x=\"clip_or_no\", y=\"accuracy\", data=testttt, palette = my_pal[2:4])\n",
    "\n",
    "plt.xlabel('Watch clips or not')\n",
    "#plt.xticks((''))\n",
    "plt.title(\"Is there a different accuracy distribution between kids who watch clips or not watch clips?\")"
   ]
  },
  {
   "cell_type": "code",
   "execution_count": 97,
   "metadata": {},
   "outputs": [
    {
     "data": {
      "text/plain": [
       "<matplotlib.legend.Legend at 0x11cccefd0>"
      ]
     },
     "execution_count": 97,
     "metadata": {},
     "output_type": "execute_result"
    },
    {
     "data": {
      "image/png": "[encoded data removed]",
      "text/plain": [
       "<Figure size 432x288 with 1 Axes>"
      ]
     },
     "metadata": {},
     "output_type": "display_data"
    }
   ],
   "source": [
    "# Sort the dataframe by target\n",
    "target_0 = testttt.loc[testttt['clip_or_no'] == 'Low']\n",
    "target_1 = testttt.loc[testttt['clip_or_no'] == 'High']\n",
    "\n",
    "sns.distplot(target_0[['accuracy']], hist=False, rug=True)\n",
    "sns.distplot(target_1[['accuracy']], hist=False, rug=True)\n",
    "\n",
    "plt.legend(title='Clip watched (count)', labels = [\"Low\", \"High\"],loc='center left', bbox_to_anchor=(1, 0.5))\n",
    "#plt.title(\"What're the score distributions for different kid learning bahavior: linear versus non-linear?\")\n",
    "\n",
    "#plt.show()"
   ]
  },
  {
   "cell_type": "code",
   "execution_count": 100,
   "metadata": {},
   "outputs": [],
   "source": [
    "testttt[\"cat_clip_or_no\"] = np.where(testttt.clip_or_no == \"Low\", 0, 1)"
   ]
  },
  {
   "cell_type": "code",
   "execution_count": 98,
   "metadata": {},
   "outputs": [],
   "source": [
    "from scipy import stats as stats"
   ]
  },
  {
   "cell_type": "code",
   "execution_count": 101,
   "metadata": {},
   "outputs": [],
   "source": [
    "r, p = stats.pearsonr(testttt.cat_clip_or_no, testttt.accuracy)"
   ]
  },
  {
   "cell_type": "code",
   "execution_count": 102,
   "metadata": {},
   "outputs": [
    {
     "data": {
      "text/plain": [
       "-0.1608005768913406"
      ]
     },
     "execution_count": 102,
     "metadata": {},
     "output_type": "execute_result"
    }
   ],
   "source": [
    "r"
   ]
  },
  {
   "cell_type": "code",
   "execution_count": null,
   "metadata": {},
   "outputs": [],
   "source": []
  },
  {
   "cell_type": "code",
   "execution_count": 103,
   "metadata": {},
   "outputs": [
    {
     "data": {
      "text/plain": [
       "6.360005313290182e-16"
      ]
     },
     "execution_count": 103,
     "metadata": {},
     "output_type": "execute_result"
    }
   ],
   "source": [
    "p"
   ]
  },
  {
   "cell_type": "markdown",
   "metadata": {},
   "source": [
    "$H0$: There is no difference in accuracy between the kids who watch small amount of clips versus large amount of clips.\n",
    "\n",
    "$Ha$: There is a difference in accuracy between the kids who watch small amount of clips versus large amount of clips."
   ]
  },
  {
   "cell_type": "code",
   "execution_count": 104,
   "metadata": {},
   "outputs": [],
   "source": [
    "low = testttt[testttt.clip_or_no == \"Low\"].accuracy\n",
    "high = testttt[testttt.clip_or_no == \"High\"].accuracy"
   ]
  },
  {
   "cell_type": "code",
   "execution_count": 105,
   "metadata": {},
   "outputs": [],
   "source": [
    "tstat, p = stats.ttest_ind(low, high)"
   ]
  },
  {
   "cell_type": "code",
   "execution_count": 106,
   "metadata": {},
   "outputs": [
    {
     "data": {
      "text/plain": [
       "8.136252745880588"
      ]
     },
     "execution_count": 106,
     "metadata": {},
     "output_type": "execute_result"
    }
   ],
   "source": [
    "tstat"
   ]
  },
  {
   "cell_type": "code",
   "execution_count": 107,
   "metadata": {},
   "outputs": [
    {
     "data": {
      "text/plain": [
       "6.36000531331783e-16"
      ]
     },
     "execution_count": 107,
     "metadata": {},
     "output_type": "execute_result"
    }
   ],
   "source": [
    "p"
   ]
  },
  {
   "cell_type": "code",
   "execution_count": 108,
   "metadata": {},
   "outputs": [],
   "source": [
    "from sklearn.preprocessing import Normalizer"
   ]
  },
  {
   "cell_type": "code",
   "execution_count": 109,
   "metadata": {},
   "outputs": [],
   "source": [
    "low_trans = testttt[testttt.clip_or_no == \"Low\"].reset_index()\n",
    "high_trans = testttt[testttt.clip_or_no == \"High\"].reset_index()"
   ]
  },
  {
   "cell_type": "code",
   "execution_count": 110,
   "metadata": {},
   "outputs": [
    {
     "data": {
      "text/html": [
       "<div>\n",
       "<style scoped>\n",
       "    .dataframe tbody tr th:only-of-type {\n",
       "        vertical-align: middle;\n",
       "    }\n",
       "\n",
       "    .dataframe tbody tr th {\n",
       "        vertical-align: top;\n",
       "    }\n",
       "\n",
       "    .dataframe thead th {\n",
       "        text-align: right;\n",
       "    }\n",
       "</style>\n",
       "<table border=\"1\" class=\"dataframe\">\n",
       "  <thead>\n",
       "    <tr style=\"text-align: right;\">\n",
       "      <th></th>\n",
       "      <th>installation_id</th>\n",
       "      <th>Activity</th>\n",
       "      <th>Assessment</th>\n",
       "      <th>Clip</th>\n",
       "      <th>Game</th>\n",
       "      <th>accuracy</th>\n",
       "      <th>clip_or_no</th>\n",
       "      <th>cat_clip_or_no</th>\n",
       "    </tr>\n",
       "  </thead>\n",
       "  <tbody>\n",
       "    <tr>\n",
       "      <th>0</th>\n",
       "      <td>00634433</td>\n",
       "      <td>0.0</td>\n",
       "      <td>90.0</td>\n",
       "      <td>7.0</td>\n",
       "      <td>99.0</td>\n",
       "      <td>1.000000</td>\n",
       "      <td>Low</td>\n",
       "      <td>0</td>\n",
       "    </tr>\n",
       "    <tr>\n",
       "      <th>1</th>\n",
       "      <td>010bc1d5</td>\n",
       "      <td>236.0</td>\n",
       "      <td>96.0</td>\n",
       "      <td>5.0</td>\n",
       "      <td>167.0</td>\n",
       "      <td>1.000000</td>\n",
       "      <td>Low</td>\n",
       "      <td>0</td>\n",
       "    </tr>\n",
       "    <tr>\n",
       "      <th>2</th>\n",
       "      <td>01825124</td>\n",
       "      <td>499.0</td>\n",
       "      <td>102.0</td>\n",
       "      <td>11.0</td>\n",
       "      <td>518.0</td>\n",
       "      <td>0.250000</td>\n",
       "      <td>Low</td>\n",
       "      <td>0</td>\n",
       "    </tr>\n",
       "    <tr>\n",
       "      <th>3</th>\n",
       "      <td>01cc53f3</td>\n",
       "      <td>348.0</td>\n",
       "      <td>79.0</td>\n",
       "      <td>9.0</td>\n",
       "      <td>535.0</td>\n",
       "      <td>1.000000</td>\n",
       "      <td>Low</td>\n",
       "      <td>0</td>\n",
       "    </tr>\n",
       "    <tr>\n",
       "      <th>4</th>\n",
       "      <td>01faa4bf</td>\n",
       "      <td>235.0</td>\n",
       "      <td>144.0</td>\n",
       "      <td>5.0</td>\n",
       "      <td>710.0</td>\n",
       "      <td>1.000000</td>\n",
       "      <td>Low</td>\n",
       "      <td>0</td>\n",
       "    </tr>\n",
       "    <tr>\n",
       "      <th>...</th>\n",
       "      <td>...</td>\n",
       "      <td>...</td>\n",
       "      <td>...</td>\n",
       "      <td>...</td>\n",
       "      <td>...</td>\n",
       "      <td>...</td>\n",
       "      <td>...</td>\n",
       "      <td>...</td>\n",
       "    </tr>\n",
       "    <tr>\n",
       "      <th>1256</th>\n",
       "      <td>fe488283</td>\n",
       "      <td>549.0</td>\n",
       "      <td>102.0</td>\n",
       "      <td>4.0</td>\n",
       "      <td>3.0</td>\n",
       "      <td>0.250000</td>\n",
       "      <td>Low</td>\n",
       "      <td>0</td>\n",
       "    </tr>\n",
       "    <tr>\n",
       "      <th>1257</th>\n",
       "      <td>fe4d880a</td>\n",
       "      <td>495.0</td>\n",
       "      <td>71.0</td>\n",
       "      <td>9.0</td>\n",
       "      <td>577.0</td>\n",
       "      <td>0.000000</td>\n",
       "      <td>Low</td>\n",
       "      <td>0</td>\n",
       "    </tr>\n",
       "    <tr>\n",
       "      <th>1258</th>\n",
       "      <td>fe73bf4b</td>\n",
       "      <td>697.0</td>\n",
       "      <td>139.0</td>\n",
       "      <td>8.0</td>\n",
       "      <td>348.0</td>\n",
       "      <td>0.333333</td>\n",
       "      <td>Low</td>\n",
       "      <td>0</td>\n",
       "    </tr>\n",
       "    <tr>\n",
       "      <th>1259</th>\n",
       "      <td>ff882868</td>\n",
       "      <td>332.0</td>\n",
       "      <td>76.0</td>\n",
       "      <td>4.0</td>\n",
       "      <td>0.0</td>\n",
       "      <td>0.333333</td>\n",
       "      <td>Low</td>\n",
       "      <td>0</td>\n",
       "    </tr>\n",
       "    <tr>\n",
       "      <th>1260</th>\n",
       "      <td>ff9305d7</td>\n",
       "      <td>670.0</td>\n",
       "      <td>330.0</td>\n",
       "      <td>11.0</td>\n",
       "      <td>910.0</td>\n",
       "      <td>0.076923</td>\n",
       "      <td>Low</td>\n",
       "      <td>0</td>\n",
       "    </tr>\n",
       "  </tbody>\n",
       "</table>\n",
       "<p>1261 rows × 8 columns</p>\n",
       "</div>"
      ],
      "text/plain": [
       "     installation_id  Activity  Assessment  Clip   Game  accuracy clip_or_no  \\\n",
       "0           00634433       0.0        90.0   7.0   99.0  1.000000        Low   \n",
       "1           010bc1d5     236.0        96.0   5.0  167.0  1.000000        Low   \n",
       "2           01825124     499.0       102.0  11.0  518.0  0.250000        Low   \n",
       "3           01cc53f3     348.0        79.0   9.0  535.0  1.000000        Low   \n",
       "4           01faa4bf     235.0       144.0   5.0  710.0  1.000000        Low   \n",
       "...              ...       ...         ...   ...    ...       ...        ...   \n",
       "1256        fe488283     549.0       102.0   4.0    3.0  0.250000        Low   \n",
       "1257        fe4d880a     495.0        71.0   9.0  577.0  0.000000        Low   \n",
       "1258        fe73bf4b     697.0       139.0   8.0  348.0  0.333333        Low   \n",
       "1259        ff882868     332.0        76.0   4.0    0.0  0.333333        Low   \n",
       "1260        ff9305d7     670.0       330.0  11.0  910.0  0.076923        Low   \n",
       "\n",
       "      cat_clip_or_no  \n",
       "0                  0  \n",
       "1                  0  \n",
       "2                  0  \n",
       "3                  0  \n",
       "4                  0  \n",
       "...              ...  \n",
       "1256               0  \n",
       "1257               0  \n",
       "1258               0  \n",
       "1259               0  \n",
       "1260               0  \n",
       "\n",
       "[1261 rows x 8 columns]"
      ]
     },
     "execution_count": 110,
     "metadata": {},
     "output_type": "execute_result"
    }
   ],
   "source": [
    "low_trans"
   ]
  },
  {
   "cell_type": "code",
   "execution_count": 113,
   "metadata": {},
   "outputs": [],
   "source": [
    "transformer = Normalizer()\n",
    "l_transformed = pd.DataFrame(transformer.transform(low_trans[['accuracy']]).flatten())\n",
    "l_transformed = pd.DataFrame(l_transformed)\n",
    "l = pd.concat([l_transformed,low_trans], axis=1)"
   ]
  },
  {
   "cell_type": "code",
   "execution_count": 116,
   "metadata": {},
   "outputs": [],
   "source": [
    "l.columns = ['transformed_accuracy', 'installation_id', 'Activity','Assessment','Clip','Game','accuracy','clip_or_no','cat_clip_or_no']"
   ]
  },
  {
   "cell_type": "code",
   "execution_count": 118,
   "metadata": {},
   "outputs": [],
   "source": [
    "transformer = Normalizer()\n",
    "h_transformed = pd.DataFrame(transformer.transform(high_trans[['accuracy']]).flatten())\n",
    "h_transformed = pd.DataFrame(h_transformed)\n",
    "h = pd.concat([h_transformed,high_trans], axis=1)"
   ]
  },
  {
   "cell_type": "code",
   "execution_count": 120,
   "metadata": {},
   "outputs": [],
   "source": [
    "h.columns = ['transformed_accuracy', 'installation_id', 'Activity','Assessment','Clip','Game','accuracy','clip_or_no','cat_clip_or_no']"
   ]
  },
  {
   "cell_type": "code",
   "execution_count": 124,
   "metadata": {},
   "outputs": [
    {
     "data": {
      "text/plain": [
       "<matplotlib.legend.Legend at 0x1216b1198>"
      ]
     },
     "execution_count": 124,
     "metadata": {},
     "output_type": "execute_result"
    },
    {
     "data": {
      "image/png": "[encoded data removed]",
      "text/plain": [
       "<Figure size 720x576 with 1 Axes>"
      ]
     },
     "metadata": {},
     "output_type": "display_data"
    }
   ],
   "source": [
    "plt.figure(figsize=(10,8))\n",
    "# Sort the dataframe by target\n",
    "target_0 = l.loc[l['clip_or_no'] == 'Low']\n",
    "target_1 = h.loc[h['clip_or_no'] == 'High']\n",
    "\n",
    "sns.distplot(target_0[['transformed_accuracy']], hist=False, rug=True)\n",
    "sns.distplot(target_1[['transformed_accuracy']], hist=False, rug=True)\n",
    "\n",
    "plt.legend(title='Clip watched (count)', labels = [\"Low\", \"High\"],loc='center left', bbox_to_anchor=(1, 0.5))\n",
    "#plt.title(\"What're the score distributions for different kid learning bahavior: linear versus non-linear?\")\n",
    "\n",
    "#plt.show()"
   ]
  },
  {
   "cell_type": "code",
   "execution_count": 125,
   "metadata": {},
   "outputs": [],
   "source": [
    "from sklearn.preprocessing import PowerTransformer,StandardScaler"
   ]
  },
  {
   "cell_type": "code",
   "execution_count": 126,
   "metadata": {},
   "outputs": [],
   "source": [
    "low_trans = testttt[testttt.clip_or_no == \"Low\"].reset_index()\n",
    "high_trans = testttt[testttt.clip_or_no == \"High\"].reset_index()"
   ]
  },
  {
   "cell_type": "code",
   "execution_count": 127,
   "metadata": {},
   "outputs": [
    {
     "data": {
      "text/html": [
       "<div>\n",
       "<style scoped>\n",
       "    .dataframe tbody tr th:only-of-type {\n",
       "        vertical-align: middle;\n",
       "    }\n",
       "\n",
       "    .dataframe tbody tr th {\n",
       "        vertical-align: top;\n",
       "    }\n",
       "\n",
       "    .dataframe thead th {\n",
       "        text-align: right;\n",
       "    }\n",
       "</style>\n",
       "<table border=\"1\" class=\"dataframe\">\n",
       "  <thead>\n",
       "    <tr style=\"text-align: right;\">\n",
       "      <th></th>\n",
       "      <th>0</th>\n",
       "    </tr>\n",
       "  </thead>\n",
       "  <tbody>\n",
       "    <tr>\n",
       "      <th>0</th>\n",
       "      <td>1.304404</td>\n",
       "    </tr>\n",
       "    <tr>\n",
       "      <th>1</th>\n",
       "      <td>1.304404</td>\n",
       "    </tr>\n",
       "    <tr>\n",
       "      <th>2</th>\n",
       "      <td>0.270269</td>\n",
       "    </tr>\n",
       "    <tr>\n",
       "      <th>3</th>\n",
       "      <td>1.304404</td>\n",
       "    </tr>\n",
       "    <tr>\n",
       "      <th>4</th>\n",
       "      <td>1.304404</td>\n",
       "    </tr>\n",
       "  </tbody>\n",
       "</table>\n",
       "</div>"
      ],
      "text/plain": [
       "          0\n",
       "0  1.304404\n",
       "1  1.304404\n",
       "2  0.270269\n",
       "3  1.304404\n",
       "4  1.304404"
      ]
     },
     "execution_count": 127,
     "metadata": {},
     "output_type": "execute_result"
    }
   ],
   "source": [
    "# create scaler object using yeo-johnson method and fit to train\n",
    "l_scaler = PowerTransformer(method='yeo-johnson', standardize=False, copy=True).fit(low_trans[['accuracy']])\n",
    "# fit linear.accuracy\n",
    "l_scaled = pd.DataFrame(l_scaler.transform(low_trans[['accuracy']]))\n",
    "\n",
    "# apply to test\n",
    "#test_scaled = pd.DataFrame(scaler.transform(test), columns=test.columns.values).set_index([test.index.values])\n",
    "\n",
    "l_scaled.head()"
   ]
  },
  {
   "cell_type": "code",
   "execution_count": 129,
   "metadata": {},
   "outputs": [
    {
     "data": {
      "text/plain": [
       "<matplotlib.axes._subplots.AxesSubplot at 0x12181c2b0>"
      ]
     },
     "execution_count": 129,
     "metadata": {},
     "output_type": "execute_result"
    },
    {
     "data": {
      "image/png": "[encoded data removed]",
      "text/plain": [
       "<Figure size 432x288 with 1 Axes>"
      ]
     },
     "metadata": {},
     "output_type": "display_data"
    }
   ],
   "source": [
    "sns.distplot(l_scaled, hist=False, rug=True)"
   ]
  },
  {
   "cell_type": "code",
   "execution_count": 130,
   "metadata": {},
   "outputs": [
    {
     "data": {
      "text/plain": [
       "<matplotlib.axes._subplots.AxesSubplot at 0x11fcdf9e8>"
      ]
     },
     "execution_count": 130,
     "metadata": {},
     "output_type": "execute_result"
    },
    {
     "data": {
      "image/png": "[encoded data removed]",
      "text/plain": [
       "<Figure size 432x288 with 1 Axes>"
      ]
     },
     "metadata": {},
     "output_type": "display_data"
    }
   ],
   "source": [
    "target_0 = testttt.loc[testttt['clip_or_no'] == 'Low']\n",
    "\n",
    "sns.distplot(target_0[['accuracy']], hist=False, rug=True)\n",
    "sns.distplot(l_scaled, hist=False, rug=True)"
   ]
  },
  {
   "cell_type": "code",
   "execution_count": 131,
   "metadata": {},
   "outputs": [
    {
     "data": {
      "text/plain": [
       "<matplotlib.axes._subplots.AxesSubplot at 0x1226df080>"
      ]
     },
     "execution_count": 131,
     "metadata": {},
     "output_type": "execute_result"
    },
    {
     "data": {
      "image/png": "[encoded data removed]",
      "text/plain": [
       "<Figure size 432x288 with 1 Axes>"
      ]
     },
     "metadata": {},
     "output_type": "display_data"
    }
   ],
   "source": [
    "sns.boxplot(l_scaled)"
   ]
  },
  {
   "cell_type": "code",
   "execution_count": null,
   "metadata": {},
   "outputs": [],
   "source": []
  }
 ],
 "metadata": {
  "kernelspec": {
   "display_name": "Python 3",
   "language": "python",
   "name": "python3"
  },
  "language_info": {
   "codemirror_mode": {
    "name": "ipython",
    "version": 3
   },
   "file_extension": ".py",
   "mimetype": "text/x-python",
   "name": "python",
   "nbconvert_exporter": "python",
   "pygments_lexer": "ipython3",
   "version": "3.7.3"
  },
  "toc": {
   "base_numbering": 1,
   "nav_menu": {},
   "number_sections": true,
   "sideBar": true,
   "skip_h1_title": false,
   "title_cell": "Table of Contents",
   "title_sidebar": "Contents",
   "toc_cell": false,
   "toc_position": {},
   "toc_section_display": true,
   "toc_window_display": false
  },
  "varInspector": {
   "cols": {
    "lenName": 16,
    "lenType": 16,
    "lenVar": 40
   },
   "kernels_config": {
    "python": {
     "delete_cmd_postfix": "",
     "delete_cmd_prefix": "del ",
     "library": "var_list.py",
     "varRefreshCmd": "print(var_dic_list())"
    },
    "r": {
     "delete_cmd_postfix": ") ",
     "delete_cmd_prefix": "rm(",
     "library": "var_list.r",
     "varRefreshCmd": "cat(var_dic_list()) "
    }
   },
   "types_to_exclude": [
    "module",
    "function",
    "builtin_function_or_method",
    "instance",
    "_Feature"
   ],
   "window_display": false
  }
 },
 "nbformat": 4,
 "nbformat_minor": 2
}
