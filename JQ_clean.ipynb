{
 "cells": [
  {
   "cell_type": "code",
   "execution_count": 1,
   "metadata": {},
   "outputs": [],
   "source": [
    "# Packages\n",
    "import pandas as pd\n",
    "import numpy as np\n",
    "from scipy import stats\n",
    "\n",
    "import matplotlib.pyplot as plt\n",
    "%matplotlib inline\n",
    "import seaborn as sns\n",
    "sns.set(style=\"whitegrid\")\n",
    "\n",
    "import matplotlib as mpl\n",
    "label_size = 8\n",
    "mpl.rcParams['xtick.labelsize'] = label_size \n",
    "plt.rcParams['xtick.labelsize']=10\n",
    "plt.rcParams['ytick.labelsize']=10\n",
    "\n",
    "import wrangle"
   ]
  },
  {
   "cell_type": "code",
   "execution_count": 2,
   "metadata": {},
   "outputs": [
    {
     "data": {
      "image/png": "[encoded data removed]",
      "text/plain": [
       "<Figure size 360x72 with 1 Axes>"
      ]
     },
     "metadata": {},
     "output_type": "display_data"
    }
   ],
   "source": [
    "# Create an array with the colors you want to use\n",
    "heat = [ 'pink', 'gold', 'darkturquoise', 'red', 'black']\n",
    "# Set your custom color palette\n",
    "my_pal = sns.color_palette(heat)\n",
    "sns.palplot(my_pal)"
   ]
  },
  {
   "cell_type": "code",
   "execution_count": 3,
   "metadata": {},
   "outputs": [],
   "source": [
    "# acquire data\n",
    "df = pd.read_csv(\"train_maybe_final.csv\")"
   ]
  },
  {
   "cell_type": "code",
   "execution_count": 4,
   "metadata": {},
   "outputs": [
    {
     "data": {
      "text/plain": [
       "(5513024, 20)"
      ]
     },
     "execution_count": 4,
     "metadata": {},
     "output_type": "execute_result"
    }
   ],
   "source": [
    "df.shape"
   ]
  },
  {
   "cell_type": "code",
   "execution_count": 5,
   "metadata": {},
   "outputs": [
    {
     "name": "stdout",
     "output_type": "stream",
     "text": [
      "<class 'pandas.core.frame.DataFrame'>\n",
      "RangeIndex: 5513024 entries, 0 to 5513023\n",
      "Data columns (total 20 columns):\n",
      "Unnamed: 0         int64\n",
      "Unnamed: 0.1       int64\n",
      "event_id           object\n",
      "game_session       object\n",
      "timestamp          object\n",
      "event_data         object\n",
      "installation_id    object\n",
      "event_count        int64\n",
      "event_code         int64\n",
      "game_time          int64\n",
      "title              object\n",
      "type               object\n",
      "world              object\n",
      "num_correct        float64\n",
      "num_incorrect      float64\n",
      "accuracy           float64\n",
      "accuracy_group     float64\n",
      "date               object\n",
      "hour               int64\n",
      "weekday            object\n",
      "dtypes: float64(4), int64(6), object(10)\n",
      "memory usage: 841.2+ MB\n"
     ]
    }
   ],
   "source": [
    "df.info()"
   ]
  },
  {
   "cell_type": "code",
   "execution_count": 6,
   "metadata": {},
   "outputs": [
    {
     "data": {
      "text/html": [
       "<div>\n",
       "<style scoped>\n",
       "    .dataframe tbody tr th:only-of-type {\n",
       "        vertical-align: middle;\n",
       "    }\n",
       "\n",
       "    .dataframe tbody tr th {\n",
       "        vertical-align: top;\n",
       "    }\n",
       "\n",
       "    .dataframe thead th {\n",
       "        text-align: right;\n",
       "    }\n",
       "</style>\n",
       "<table border=\"1\" class=\"dataframe\">\n",
       "  <thead>\n",
       "    <tr style=\"text-align: right;\">\n",
       "      <th></th>\n",
       "      <th>Unnamed: 0</th>\n",
       "      <th>Unnamed: 0.1</th>\n",
       "      <th>event_id</th>\n",
       "      <th>game_session</th>\n",
       "      <th>timestamp</th>\n",
       "      <th>event_data</th>\n",
       "      <th>installation_id</th>\n",
       "      <th>event_count</th>\n",
       "      <th>event_code</th>\n",
       "      <th>game_time</th>\n",
       "      <th>title</th>\n",
       "      <th>type</th>\n",
       "      <th>world</th>\n",
       "      <th>num_correct</th>\n",
       "      <th>num_incorrect</th>\n",
       "      <th>accuracy</th>\n",
       "      <th>accuracy_group</th>\n",
       "      <th>date</th>\n",
       "      <th>hour</th>\n",
       "      <th>weekday</th>\n",
       "    </tr>\n",
       "  </thead>\n",
       "  <tbody>\n",
       "    <tr>\n",
       "      <th>0</th>\n",
       "      <td>0</td>\n",
       "      <td>0</td>\n",
       "      <td>27253bdc</td>\n",
       "      <td>34ba1a28d02ba8ba</td>\n",
       "      <td>2019-08-06 04:57:18.904000+00:00</td>\n",
       "      <td>{\"event_code\": 2000, \"event_count\": 1}</td>\n",
       "      <td>0006a69f</td>\n",
       "      <td>1</td>\n",
       "      <td>2000</td>\n",
       "      <td>0</td>\n",
       "      <td>Welcome to Lost Lagoon!</td>\n",
       "      <td>Clip</td>\n",
       "      <td>NONE</td>\n",
       "      <td>NaN</td>\n",
       "      <td>NaN</td>\n",
       "      <td>NaN</td>\n",
       "      <td>NaN</td>\n",
       "      <td>2019-08-06</td>\n",
       "      <td>4</td>\n",
       "      <td>Tuesday</td>\n",
       "    </tr>\n",
       "    <tr>\n",
       "      <th>1</th>\n",
       "      <td>1</td>\n",
       "      <td>1</td>\n",
       "      <td>27253bdc</td>\n",
       "      <td>4b57c9a59474a1b9</td>\n",
       "      <td>2019-08-06 04:57:45.301000+00:00</td>\n",
       "      <td>{\"event_code\": 2000, \"event_count\": 1}</td>\n",
       "      <td>0006a69f</td>\n",
       "      <td>1</td>\n",
       "      <td>2000</td>\n",
       "      <td>0</td>\n",
       "      <td>Magma Peak - Level 1</td>\n",
       "      <td>Clip</td>\n",
       "      <td>MAGMAPEAK</td>\n",
       "      <td>NaN</td>\n",
       "      <td>NaN</td>\n",
       "      <td>NaN</td>\n",
       "      <td>NaN</td>\n",
       "      <td>2019-08-06</td>\n",
       "      <td>4</td>\n",
       "      <td>Tuesday</td>\n",
       "    </tr>\n",
       "    <tr>\n",
       "      <th>2</th>\n",
       "      <td>2</td>\n",
       "      <td>2</td>\n",
       "      <td>77261ab5</td>\n",
       "      <td>2b9d5af79bcdb79f</td>\n",
       "      <td>2019-08-06 04:58:14.538000+00:00</td>\n",
       "      <td>{\"version\":\"1.0\",\"event_count\":1,\"game_time\":0...</td>\n",
       "      <td>0006a69f</td>\n",
       "      <td>1</td>\n",
       "      <td>2000</td>\n",
       "      <td>0</td>\n",
       "      <td>Sandcastle Builder (Activity)</td>\n",
       "      <td>Activity</td>\n",
       "      <td>MAGMAPEAK</td>\n",
       "      <td>NaN</td>\n",
       "      <td>NaN</td>\n",
       "      <td>NaN</td>\n",
       "      <td>NaN</td>\n",
       "      <td>2019-08-06</td>\n",
       "      <td>4</td>\n",
       "      <td>Tuesday</td>\n",
       "    </tr>\n",
       "    <tr>\n",
       "      <th>3</th>\n",
       "      <td>3</td>\n",
       "      <td>3</td>\n",
       "      <td>b2dba42b</td>\n",
       "      <td>2b9d5af79bcdb79f</td>\n",
       "      <td>2019-08-06 04:58:14.615000+00:00</td>\n",
       "      <td>{\"description\":\"Let's build a sandcastle! Firs...</td>\n",
       "      <td>0006a69f</td>\n",
       "      <td>2</td>\n",
       "      <td>3010</td>\n",
       "      <td>29</td>\n",
       "      <td>Sandcastle Builder (Activity)</td>\n",
       "      <td>Activity</td>\n",
       "      <td>MAGMAPEAK</td>\n",
       "      <td>NaN</td>\n",
       "      <td>NaN</td>\n",
       "      <td>NaN</td>\n",
       "      <td>NaN</td>\n",
       "      <td>2019-08-06</td>\n",
       "      <td>4</td>\n",
       "      <td>Tuesday</td>\n",
       "    </tr>\n",
       "    <tr>\n",
       "      <th>4</th>\n",
       "      <td>4</td>\n",
       "      <td>4</td>\n",
       "      <td>1325467d</td>\n",
       "      <td>2b9d5af79bcdb79f</td>\n",
       "      <td>2019-08-06 04:58:16.680000+00:00</td>\n",
       "      <td>{\"coordinates\":{\"x\":273,\"y\":650,\"stage_width\":...</td>\n",
       "      <td>0006a69f</td>\n",
       "      <td>3</td>\n",
       "      <td>4070</td>\n",
       "      <td>2137</td>\n",
       "      <td>Sandcastle Builder (Activity)</td>\n",
       "      <td>Activity</td>\n",
       "      <td>MAGMAPEAK</td>\n",
       "      <td>NaN</td>\n",
       "      <td>NaN</td>\n",
       "      <td>NaN</td>\n",
       "      <td>NaN</td>\n",
       "      <td>2019-08-06</td>\n",
       "      <td>4</td>\n",
       "      <td>Tuesday</td>\n",
       "    </tr>\n",
       "  </tbody>\n",
       "</table>\n",
       "</div>"
      ],
      "text/plain": [
       "   Unnamed: 0  Unnamed: 0.1  event_id      game_session  \\\n",
       "0           0             0  27253bdc  34ba1a28d02ba8ba   \n",
       "1           1             1  27253bdc  4b57c9a59474a1b9   \n",
       "2           2             2  77261ab5  2b9d5af79bcdb79f   \n",
       "3           3             3  b2dba42b  2b9d5af79bcdb79f   \n",
       "4           4             4  1325467d  2b9d5af79bcdb79f   \n",
       "\n",
       "                          timestamp  \\\n",
       "0  2019-08-06 04:57:18.904000+00:00   \n",
       "1  2019-08-06 04:57:45.301000+00:00   \n",
       "2  2019-08-06 04:58:14.538000+00:00   \n",
       "3  2019-08-06 04:58:14.615000+00:00   \n",
       "4  2019-08-06 04:58:16.680000+00:00   \n",
       "\n",
       "                                          event_data installation_id  \\\n",
       "0             {\"event_code\": 2000, \"event_count\": 1}        0006a69f   \n",
       "1             {\"event_code\": 2000, \"event_count\": 1}        0006a69f   \n",
       "2  {\"version\":\"1.0\",\"event_count\":1,\"game_time\":0...        0006a69f   \n",
       "3  {\"description\":\"Let's build a sandcastle! Firs...        0006a69f   \n",
       "4  {\"coordinates\":{\"x\":273,\"y\":650,\"stage_width\":...        0006a69f   \n",
       "\n",
       "   event_count  event_code  game_time                          title  \\\n",
       "0            1        2000          0        Welcome to Lost Lagoon!   \n",
       "1            1        2000          0           Magma Peak - Level 1   \n",
       "2            1        2000          0  Sandcastle Builder (Activity)   \n",
       "3            2        3010         29  Sandcastle Builder (Activity)   \n",
       "4            3        4070       2137  Sandcastle Builder (Activity)   \n",
       "\n",
       "       type      world  num_correct  num_incorrect  accuracy  accuracy_group  \\\n",
       "0      Clip       NONE          NaN            NaN       NaN             NaN   \n",
       "1      Clip  MAGMAPEAK          NaN            NaN       NaN             NaN   \n",
       "2  Activity  MAGMAPEAK          NaN            NaN       NaN             NaN   \n",
       "3  Activity  MAGMAPEAK          NaN            NaN       NaN             NaN   \n",
       "4  Activity  MAGMAPEAK          NaN            NaN       NaN             NaN   \n",
       "\n",
       "         date  hour  weekday  \n",
       "0  2019-08-06     4  Tuesday  \n",
       "1  2019-08-06     4  Tuesday  \n",
       "2  2019-08-06     4  Tuesday  \n",
       "3  2019-08-06     4  Tuesday  \n",
       "4  2019-08-06     4  Tuesday  "
      ]
     },
     "execution_count": 6,
     "metadata": {},
     "output_type": "execute_result"
    }
   ],
   "source": [
    "df.head(5)"
   ]
  },
  {
   "cell_type": "code",
   "execution_count": 7,
   "metadata": {},
   "outputs": [],
   "source": [
    "df.drop(columns = ['Unnamed: 0', 'Unnamed: 0.1'], inplace = True)"
   ]
  },
  {
   "cell_type": "code",
   "execution_count": 8,
   "metadata": {},
   "outputs": [],
   "source": [
    "df = df[df.world != \"NONE\"]"
   ]
  },
  {
   "cell_type": "code",
   "execution_count": 9,
   "metadata": {},
   "outputs": [],
   "source": [
    "agg = df.groupby(['installation_id','world'])[['game_session']].count()"
   ]
  },
  {
   "cell_type": "code",
   "execution_count": 10,
   "metadata": {},
   "outputs": [
    {
     "data": {
      "text/html": [
       "<div>\n",
       "<style scoped>\n",
       "    .dataframe tbody tr th:only-of-type {\n",
       "        vertical-align: middle;\n",
       "    }\n",
       "\n",
       "    .dataframe tbody tr th {\n",
       "        vertical-align: top;\n",
       "    }\n",
       "\n",
       "    .dataframe thead th {\n",
       "        text-align: right;\n",
       "    }\n",
       "</style>\n",
       "<table border=\"1\" class=\"dataframe\">\n",
       "  <thead>\n",
       "    <tr style=\"text-align: right;\">\n",
       "      <th></th>\n",
       "      <th></th>\n",
       "      <th>game_session</th>\n",
       "    </tr>\n",
       "    <tr>\n",
       "      <th>installation_id</th>\n",
       "      <th>world</th>\n",
       "      <th></th>\n",
       "    </tr>\n",
       "  </thead>\n",
       "  <tbody>\n",
       "    <tr>\n",
       "      <th rowspan=\"2\" valign=\"top\">0006a69f</th>\n",
       "      <th>MAGMAPEAK</th>\n",
       "      <td>725</td>\n",
       "    </tr>\n",
       "    <tr>\n",
       "      <th>TREETOPCITY</th>\n",
       "      <td>1878</td>\n",
       "    </tr>\n",
       "    <tr>\n",
       "      <th rowspan=\"3\" valign=\"top\">0006c192</th>\n",
       "      <th>CRYSTALCAVES</th>\n",
       "      <td>204</td>\n",
       "    </tr>\n",
       "    <tr>\n",
       "      <th>MAGMAPEAK</th>\n",
       "      <td>1336</td>\n",
       "    </tr>\n",
       "    <tr>\n",
       "      <th>TREETOPCITY</th>\n",
       "      <td>664</td>\n",
       "    </tr>\n",
       "    <tr>\n",
       "      <th>...</th>\n",
       "      <th>...</th>\n",
       "      <td>...</td>\n",
       "    </tr>\n",
       "    <tr>\n",
       "      <th>ffc90c32</th>\n",
       "      <th>TREETOPCITY</th>\n",
       "      <td>684</td>\n",
       "    </tr>\n",
       "    <tr>\n",
       "      <th>ffd2871d</th>\n",
       "      <th>MAGMAPEAK</th>\n",
       "      <td>927</td>\n",
       "    </tr>\n",
       "    <tr>\n",
       "      <th rowspan=\"3\" valign=\"top\">ffeb0b1b</th>\n",
       "      <th>CRYSTALCAVES</th>\n",
       "      <td>944</td>\n",
       "    </tr>\n",
       "    <tr>\n",
       "      <th>MAGMAPEAK</th>\n",
       "      <td>534</td>\n",
       "    </tr>\n",
       "    <tr>\n",
       "      <th>TREETOPCITY</th>\n",
       "      <td>112</td>\n",
       "    </tr>\n",
       "  </tbody>\n",
       "</table>\n",
       "<p>8185 rows × 1 columns</p>\n",
       "</div>"
      ],
      "text/plain": [
       "                              game_session\n",
       "installation_id world                     \n",
       "0006a69f        MAGMAPEAK              725\n",
       "                TREETOPCITY           1878\n",
       "0006c192        CRYSTALCAVES           204\n",
       "                MAGMAPEAK             1336\n",
       "                TREETOPCITY            664\n",
       "...                                    ...\n",
       "ffc90c32        TREETOPCITY            684\n",
       "ffd2871d        MAGMAPEAK              927\n",
       "ffeb0b1b        CRYSTALCAVES           944\n",
       "                MAGMAPEAK              534\n",
       "                TREETOPCITY            112\n",
       "\n",
       "[8185 rows x 1 columns]"
      ]
     },
     "execution_count": 10,
     "metadata": {},
     "output_type": "execute_result"
    }
   ],
   "source": [
    "agg"
   ]
  },
  {
   "cell_type": "code",
   "execution_count": 11,
   "metadata": {},
   "outputs": [],
   "source": [
    "agg = agg.reset_index()"
   ]
  },
  {
   "cell_type": "code",
   "execution_count": 12,
   "metadata": {},
   "outputs": [],
   "source": [
    "agg = agg.pivot(index = 'installation_id', columns = 'world').fillna(0).reset_index()"
   ]
  },
  {
   "cell_type": "code",
   "execution_count": 13,
   "metadata": {},
   "outputs": [],
   "source": [
    "agg.columns = ['installation_id', 'Crystalcaves', 'Magamapeak', 'Treetopcity']"
   ]
  },
  {
   "cell_type": "code",
   "execution_count": 14,
   "metadata": {},
   "outputs": [],
   "source": [
    "agg.set_index('installation_id', inplace = True)"
   ]
  },
  {
   "cell_type": "code",
   "execution_count": 15,
   "metadata": {},
   "outputs": [],
   "source": [
    "agg.to_csv('practice_counts.csv')"
   ]
  },
  {
   "cell_type": "code",
   "execution_count": 16,
   "metadata": {},
   "outputs": [
    {
     "data": {
      "text/plain": [
       "Text(0.5, 1.0, 'What are the usage distributions (ratio) for each world?')"
      ]
     },
     "execution_count": 16,
     "metadata": {},
     "output_type": "execute_result"
    },
    {
     "data": {
      "image/png": "[encoded data removed]",
      "text/plain": [
       "<Figure size 576x432 with 1 Axes>"
      ]
     },
     "metadata": {},
     "output_type": "display_data"
    }
   ],
   "source": [
    "plt.figure(figsize=(8,6))\n",
    "\n",
    "c = agg.sum(axis = 0)\n",
    "pcts = c.groupby(level=0).apply(lambda x: 100 * x / float(c.sum())).to_frame().reset_index()\n",
    "pcts.columns = ['world', 'percentage']\n",
    "(sns.barplot(x = \"world\" , y=\"percentage\", data=pcts, palette=my_pal))\n",
    "#plt.legend(title='World', loc='center left', bbox_to_anchor=(1, 0.5))\n",
    "plt.title(\"What are the usage distributions (ratio) for each world?\")\n",
    "\n",
    "# Magamapeak > most frequently visited world "
   ]
  },
  {
   "cell_type": "code",
   "execution_count": 17,
   "metadata": {},
   "outputs": [],
   "source": [
    "agg.sort_values(by = ['Magamapeak','Treetopcity','Crystalcaves'], ascending = False, inplace = True)"
   ]
  },
  {
   "cell_type": "code",
   "execution_count": 18,
   "metadata": {},
   "outputs": [],
   "source": [
    "agg = agg.reset_index()"
   ]
  },
  {
   "cell_type": "code",
   "execution_count": 41,
   "metadata": {},
   "outputs": [
    {
     "data": {
      "text/plain": [
       "<matplotlib.axes._subplots.AxesSubplot at 0x14674bdd8>"
      ]
     },
     "execution_count": 41,
     "metadata": {},
     "output_type": "execute_result"
    },
    {
     "data": {
      "image/png": "[encoded data removed]",
      "text/plain": [
       "<Figure size 432x288 with 1 Axes>"
      ]
     },
     "metadata": {},
     "output_type": "display_data"
    }
   ],
   "source": [
    "sns.boxplot(agg.Magamapeak)"
   ]
  },
  {
   "cell_type": "code",
   "execution_count": 42,
   "metadata": {},
   "outputs": [
    {
     "data": {
      "text/plain": [
       "<matplotlib.axes._subplots.AxesSubplot at 0x14d94c198>"
      ]
     },
     "execution_count": 42,
     "metadata": {},
     "output_type": "execute_result"
    },
    {
     "data": {
      "image/png": "[encoded data removed]",
      "text/plain": [
       "<Figure size 432x288 with 1 Axes>"
      ]
     },
     "metadata": {},
     "output_type": "display_data"
    }
   ],
   "source": [
    "sns.boxplot(agg.Crystalcaves)"
   ]
  },
  {
   "cell_type": "code",
   "execution_count": 43,
   "metadata": {},
   "outputs": [
    {
     "data": {
      "text/plain": [
       "<matplotlib.axes._subplots.AxesSubplot at 0x14be004a8>"
      ]
     },
     "execution_count": 43,
     "metadata": {},
     "output_type": "execute_result"
    },
    {
     "data": {
      "image/png": "[encoded data removed]",
      "text/plain": [
       "<Figure size 432x288 with 1 Axes>"
      ]
     },
     "metadata": {},
     "output_type": "display_data"
    }
   ],
   "source": [
    "sns.boxplot(agg.Treetopcity)"
   ]
  },
  {
   "cell_type": "code",
   "execution_count": 28,
   "metadata": {},
   "outputs": [
    {
     "data": {
      "text/plain": [
       "258.0"
      ]
     },
     "execution_count": 28,
     "metadata": {},
     "output_type": "execute_result"
    }
   ],
   "source": [
    "agg.Crystalcaves.median()"
   ]
  },
  {
   "cell_type": "code",
   "execution_count": 34,
   "metadata": {},
   "outputs": [
    {
     "data": {
      "text/plain": [
       "<matplotlib.axes._subplots.AxesSubplot at 0x11dbaf588>"
      ]
     },
     "execution_count": 34,
     "metadata": {},
     "output_type": "execute_result"
    },
    {
     "data": {
      "image/png": "[encoded data removed]",
      "text/plain": [
       "<Figure size 576x432 with 1 Axes>"
      ]
     },
     "metadata": {},
     "output_type": "display_data"
    }
   ],
   "source": [
    "plt.figure(figsize=(8,6))\n",
    "sns.distplot(agg.Magamapeak)"
   ]
  },
  {
   "cell_type": "code",
   "execution_count": 35,
   "metadata": {},
   "outputs": [
    {
     "data": {
      "text/plain": [
       "<matplotlib.axes._subplots.AxesSubplot at 0x11ddd2be0>"
      ]
     },
     "execution_count": 35,
     "metadata": {},
     "output_type": "execute_result"
    },
    {
     "data": {
      "image/png": "[encoded data removed]",
      "text/plain": [
       "<Figure size 432x288 with 1 Axes>"
      ]
     },
     "metadata": {},
     "output_type": "display_data"
    }
   ],
   "source": [
    "sns.distplot(agg.Crystalcaves)"
   ]
  },
  {
   "cell_type": "code",
   "execution_count": 36,
   "metadata": {},
   "outputs": [
    {
     "data": {
      "text/plain": [
       "<matplotlib.axes._subplots.AxesSubplot at 0x11df83f28>"
      ]
     },
     "execution_count": 36,
     "metadata": {},
     "output_type": "execute_result"
    },
    {
     "data": {
      "image/png": "[encoded data removed]",
      "text/plain": [
       "<Figure size 432x288 with 1 Axes>"
      ]
     },
     "metadata": {},
     "output_type": "display_data"
    }
   ],
   "source": [
    "sns.distplot(agg.Treetopcity)"
   ]
  },
  {
   "cell_type": "code",
   "execution_count": 52,
   "metadata": {},
   "outputs": [
    {
     "data": {
      "text/plain": [
       "world         type      \n",
       "CRYSTALCAVES  Activity       358980\n",
       "              Assessment     288231\n",
       "              Clip            21834\n",
       "              Game           944823\n",
       "MAGMAPEAK     Activity       994084\n",
       "              Assessment     143216\n",
       "              Clip            11703\n",
       "              Game          1097999\n",
       "TREETOPCITY   Activity       705527\n",
       "              Assessment     308534\n",
       "              Clip            24635\n",
       "              Game           608150\n",
       "Name: game_session, dtype: int64"
      ]
     },
     "execution_count": 52,
     "metadata": {},
     "output_type": "execute_result"
    }
   ],
   "source": [
    "(df.groupby([\"world\",\"type\"])[\"game_session\"].count())"
   ]
  },
  {
   "cell_type": "code",
   "execution_count": 57,
   "metadata": {},
   "outputs": [
    {
     "data": {
      "text/plain": [
       "Text(0.5, 1.0, 'What are the most visited engagement types in the game?')"
      ]
     },
     "execution_count": 57,
     "metadata": {},
     "output_type": "execute_result"
    },
    {
     "data": {
      "image/png": "[encoded data removed]",
      "text/plain": [
       "<Figure size 576x432 with 1 Axes>"
      ]
     },
     "metadata": {},
     "output_type": "display_data"
    }
   ],
   "source": [
    "plt.figure(figsize=(8,6))\n",
    "\n",
    "c = (df.groupby([\"world\",\"type\"])[\"game_session\"].count())\n",
    "pcts = c.groupby(level=0).apply(lambda x: 100 * x / float(c.sum())).to_frame().reset_index()\n",
    "#plt.legend(title='Color', loc='center left', bbox_to_anchor=(1, 0.5))\n",
    "(sns.barplot(x = \"type\" , y=\"game_session\", data=pcts, palette=my_pal))\n",
    "\n",
    "plt.title(\"What are the most visited engagement types in the game?\")\n",
    "\n",
    "# overall, games and activities are much more used than assessments"
   ]
  },
  {
   "cell_type": "code",
   "execution_count": 91,
   "metadata": {},
   "outputs": [
    {
     "data": {
      "text/html": [
       "<div>\n",
       "<style scoped>\n",
       "    .dataframe tbody tr th:only-of-type {\n",
       "        vertical-align: middle;\n",
       "    }\n",
       "\n",
       "    .dataframe tbody tr th {\n",
       "        vertical-align: top;\n",
       "    }\n",
       "\n",
       "    .dataframe thead th {\n",
       "        text-align: right;\n",
       "    }\n",
       "</style>\n",
       "<table border=\"1\" class=\"dataframe\">\n",
       "  <thead>\n",
       "    <tr style=\"text-align: right;\">\n",
       "      <th></th>\n",
       "      <th>world</th>\n",
       "      <th>type</th>\n",
       "      <th>title</th>\n",
       "      <th>game_session</th>\n",
       "    </tr>\n",
       "  </thead>\n",
       "  <tbody>\n",
       "    <tr>\n",
       "      <th>15</th>\n",
       "      <td>MAGMAPEAK</td>\n",
       "      <td>Activity</td>\n",
       "      <td>Bottle Filler (Activity)</td>\n",
       "      <td>8.694239</td>\n",
       "    </tr>\n",
       "    <tr>\n",
       "      <th>25</th>\n",
       "      <td>MAGMAPEAK</td>\n",
       "      <td>Game</td>\n",
       "      <td>Scrub-A-Dub</td>\n",
       "      <td>7.748203</td>\n",
       "    </tr>\n",
       "    <tr>\n",
       "      <th>11</th>\n",
       "      <td>CRYSTALCAVES</td>\n",
       "      <td>Game</td>\n",
       "      <td>Chow Time</td>\n",
       "      <td>7.152420</td>\n",
       "    </tr>\n",
       "    <tr>\n",
       "      <th>16</th>\n",
       "      <td>MAGMAPEAK</td>\n",
       "      <td>Activity</td>\n",
       "      <td>Sandcastle Builder (Activity)</td>\n",
       "      <td>6.460046</td>\n",
       "    </tr>\n",
       "    <tr>\n",
       "      <th>27</th>\n",
       "      <td>TREETOPCITY</td>\n",
       "      <td>Activity</td>\n",
       "      <td>Fireworks (Activity)</td>\n",
       "      <td>4.768528</td>\n",
       "    </tr>\n",
       "  </tbody>\n",
       "</table>\n",
       "</div>"
      ],
      "text/plain": [
       "           world      type                          title  game_session\n",
       "15     MAGMAPEAK  Activity       Bottle Filler (Activity)      8.694239\n",
       "25     MAGMAPEAK      Game                    Scrub-A-Dub      7.748203\n",
       "11  CRYSTALCAVES      Game                      Chow Time      7.152420\n",
       "16     MAGMAPEAK  Activity  Sandcastle Builder (Activity)      6.460046\n",
       "27   TREETOPCITY  Activity           Fireworks (Activity)      4.768528"
      ]
     },
     "execution_count": 91,
     "metadata": {},
     "output_type": "execute_result"
    }
   ],
   "source": [
    "# top 5 most played missions\n",
    "pcts[pcts.game_session >= 4.5].sort_values('game_session', ascending = False)"
   ]
  },
  {
   "cell_type": "code",
   "execution_count": 125,
   "metadata": {},
   "outputs": [
    {
     "data": {
      "text/plain": [
       "Text(0.5, 1.0, 'The most used missions in each world & engagement type (only showing record of >3.5% usage)?')"
      ]
     },
     "execution_count": 125,
     "metadata": {},
     "output_type": "execute_result"
    },
    {
     "data": {
      "image/png": "[encoded data removed]",
      "text/plain": [
       "<Figure size 1080x576 with 1 Axes>"
      ]
     },
     "metadata": {},
     "output_type": "display_data"
    }
   ],
   "source": [
    "plt.figure(figsize=(15,8))\n",
    "\n",
    "c = (df.groupby([\"world\", \"type\", \"title\"])[\"game_session\"].count())\n",
    "pcts = c.groupby(level=0).apply(lambda x: 100 * x / float(c.sum())).to_frame().reset_index()\n",
    "pcts = pcts[pcts.game_session >= 3.5]\n",
    "#plt.legend(title='Color', loc='center left', bbox_to_anchor=(1, 0.5))\n",
    "(sns.barplot(x = \"world\" , y=\"game_session\", data=pcts,  hue = \"title\",palette=my_pal))\n",
    "plt.legend(title='Mission types within engagement types', loc='upper left', bbox_to_anchor=(1, 0.5))\n",
    "plt.title(\"The most used missions in each world & engagement type (only showing record of >3.5% usage)?\")\n"
   ]
  },
  {
   "cell_type": "code",
   "execution_count": null,
   "metadata": {},
   "outputs": [],
   "source": []
  },
  {
   "cell_type": "code",
   "execution_count": 64,
   "metadata": {},
   "outputs": [
    {
     "data": {
      "text/plain": [
       "installation_id  game_session    \n",
       "0006a69f         0336db4dee65ad4b    131\n",
       "                 05921a6eb858eeba     84\n",
       "                 09fd0cc02e6ee5f4      1\n",
       "                 1623f262016185e4     64\n",
       "                 1dd51df3dd28e7e0      1\n",
       "                                    ... \n",
       "ffeb0b1b         e96910064986ea78     76\n",
       "                 ead68f52fcce38ff      1\n",
       "                 ee35ad382b29b3e0      1\n",
       "                 f88dc29664b912a3    604\n",
       "                 fafc3deda44d80dc      1\n",
       "Name: event_id, Length: 119714, dtype: int64"
      ]
     },
     "execution_count": 64,
     "metadata": {},
     "output_type": "execute_result"
    }
   ],
   "source": [
    "df.groupby(['installation_id','game_session']).event_id.count()"
   ]
  },
  {
   "cell_type": "code",
   "execution_count": 66,
   "metadata": {},
   "outputs": [
    {
     "data": {
      "text/plain": [
       "installation_id  world       \n",
       "0006a69f         MAGMAPEAK        725\n",
       "                 TREETOPCITY     1878\n",
       "0006c192         CRYSTALCAVES     204\n",
       "                 MAGMAPEAK       1336\n",
       "                 TREETOPCITY      664\n",
       "                                 ... \n",
       "ffc90c32         TREETOPCITY      684\n",
       "ffd2871d         MAGMAPEAK        927\n",
       "ffeb0b1b         CRYSTALCAVES     944\n",
       "                 MAGMAPEAK        534\n",
       "                 TREETOPCITY      112\n",
       "Name: game_session, Length: 8185, dtype: int64"
      ]
     },
     "execution_count": 66,
     "metadata": {},
     "output_type": "execute_result"
    }
   ],
   "source": [
    "df.groupby(['installation_id','world']).game_session.count()"
   ]
  },
  {
   "cell_type": "code",
   "execution_count": 68,
   "metadata": {},
   "outputs": [
    {
     "data": {
      "text/plain": [
       "installation_id  world        type      \n",
       "0006a69f         MAGMAPEAK    Activity      320\n",
       "                              Clip            5\n",
       "                              Game          400\n",
       "                 TREETOPCITY  Activity      890\n",
       "                              Assessment    261\n",
       "                                           ... \n",
       "ffeb0b1b         MAGMAPEAK    Activity      381\n",
       "                              Assessment    150\n",
       "                              Clip            3\n",
       "                 TREETOPCITY  Assessment     97\n",
       "                              Clip           15\n",
       "Name: game_session, Length: 26736, dtype: int64"
      ]
     },
     "execution_count": 68,
     "metadata": {},
     "output_type": "execute_result"
    }
   ],
   "source": [
    "df.groupby(['installation_id','world','type']).game_session.count()"
   ]
  },
  {
   "cell_type": "code",
   "execution_count": 69,
   "metadata": {},
   "outputs": [
    {
     "data": {
      "text/plain": [
       "installation_id  world        type      game_session    \n",
       "0006a69f         MAGMAPEAK    Activity  2b9d5af79bcdb79f    102\n",
       "                                        7a4ee0624abb5ef8    109\n",
       "                                        a63e30931510b96b     59\n",
       "                                        aba85d9249eb9189     50\n",
       "                              Clip      343d01f40e4616dc      1\n",
       "                                                           ... \n",
       "ffeb0b1b         TREETOPCITY  Clip      ccc7fd9606733f83      1\n",
       "                                        cd4fd86f2c34b139      1\n",
       "                                        ead68f52fcce38ff      1\n",
       "                                        ee35ad382b29b3e0      1\n",
       "                                        fafc3deda44d80dc      1\n",
       "Name: event_id, Length: 119714, dtype: int64"
      ]
     },
     "execution_count": 69,
     "metadata": {},
     "output_type": "execute_result"
    }
   ],
   "source": [
    "df.groupby(['installation_id','world','type','game_session']).event_id.count()"
   ]
  },
  {
   "cell_type": "code",
   "execution_count": 70,
   "metadata": {},
   "outputs": [
    {
     "data": {
      "text/plain": [
       "installation_id  world        type      game_session      event_count\n",
       "0006a69f         MAGMAPEAK    Activity  2b9d5af79bcdb79f  1              1\n",
       "                                                          2              1\n",
       "                                                          3              1\n",
       "                                                          4              1\n",
       "                                                          5              1\n",
       "                                                                        ..\n",
       "ffeb0b1b         TREETOPCITY  Clip      ccc7fd9606733f83  1              1\n",
       "                                        cd4fd86f2c34b139  1              1\n",
       "                                        ead68f52fcce38ff  1              1\n",
       "                                        ee35ad382b29b3e0  1              1\n",
       "                                        fafc3deda44d80dc  1              1\n",
       "Name: event_count, Length: 5507716, dtype: int64"
      ]
     },
     "execution_count": 70,
     "metadata": {},
     "output_type": "execute_result"
    }
   ],
   "source": [
    "df.groupby(['installation_id','world','type','game_session']).event_count.value_counts()"
   ]
  },
  {
   "cell_type": "code",
   "execution_count": null,
   "metadata": {},
   "outputs": [],
   "source": [
    "df.groupby(['installation_id','world','type','game_session']).event_id.value_counts()"
   ]
  },
  {
   "cell_type": "code",
   "execution_count": 112,
   "metadata": {},
   "outputs": [],
   "source": [
    "df['game_time_min'] = (df.game_time/60000)"
   ]
  },
  {
   "cell_type": "code",
   "execution_count": 117,
   "metadata": {},
   "outputs": [],
   "source": [
    "df_no_clip = df[df.type!= 'Clip']"
   ]
  },
  {
   "cell_type": "code",
   "execution_count": null,
   "metadata": {},
   "outputs": [],
   "source": [
    "df.groupby(['world','type']).title.count().to_frame()"
   ]
  },
  {
   "cell_type": "code",
   "execution_count": 118,
   "metadata": {},
   "outputs": [
    {
     "data": {
      "text/html": [
       "<div>\n",
       "<style scoped>\n",
       "    .dataframe tbody tr th:only-of-type {\n",
       "        vertical-align: middle;\n",
       "    }\n",
       "\n",
       "    .dataframe tbody tr th {\n",
       "        vertical-align: top;\n",
       "    }\n",
       "\n",
       "    .dataframe thead tr th {\n",
       "        text-align: left;\n",
       "    }\n",
       "\n",
       "    .dataframe thead tr:last-of-type th {\n",
       "        text-align: right;\n",
       "    }\n",
       "</style>\n",
       "<table border=\"1\" class=\"dataframe\">\n",
       "  <thead>\n",
       "    <tr>\n",
       "      <th></th>\n",
       "      <th></th>\n",
       "      <th></th>\n",
       "      <th>sum</th>\n",
       "      <th>mean</th>\n",
       "      <th>median</th>\n",
       "    </tr>\n",
       "    <tr>\n",
       "      <th></th>\n",
       "      <th></th>\n",
       "      <th></th>\n",
       "      <th>game_time_min</th>\n",
       "      <th>game_time_min</th>\n",
       "      <th>game_time_min</th>\n",
       "    </tr>\n",
       "    <tr>\n",
       "      <th>world</th>\n",
       "      <th>type</th>\n",
       "      <th>title</th>\n",
       "      <th></th>\n",
       "      <th></th>\n",
       "      <th></th>\n",
       "    </tr>\n",
       "  </thead>\n",
       "  <tbody>\n",
       "    <tr>\n",
       "      <th rowspan=\"8\" valign=\"top\">CRYSTALCAVES</th>\n",
       "      <th rowspan=\"2\" valign=\"top\">Activity</th>\n",
       "      <th>Chicken Balancer (Activity)</th>\n",
       "      <td>5.001112e+05</td>\n",
       "      <td>2.299246</td>\n",
       "      <td>1.133533</td>\n",
       "    </tr>\n",
       "    <tr>\n",
       "      <th>Egg Dropper (Activity)</th>\n",
       "      <td>3.918205e+05</td>\n",
       "      <td>2.769656</td>\n",
       "      <td>1.297550</td>\n",
       "    </tr>\n",
       "    <tr>\n",
       "      <th rowspan=\"2\" valign=\"top\">Assessment</th>\n",
       "      <th>Cart Balancer (Assessment)</th>\n",
       "      <td>9.944733e+04</td>\n",
       "      <td>0.745683</td>\n",
       "      <td>0.339150</td>\n",
       "    </tr>\n",
       "    <tr>\n",
       "      <th>Chest Sorter (Assessment)</th>\n",
       "      <td>1.597651e+05</td>\n",
       "      <td>1.031628</td>\n",
       "      <td>0.487933</td>\n",
       "    </tr>\n",
       "    <tr>\n",
       "      <th rowspan=\"4\" valign=\"top\">Game</th>\n",
       "      <th>Chow Time</th>\n",
       "      <td>1.324435e+06</td>\n",
       "      <td>3.362064</td>\n",
       "      <td>1.470250</td>\n",
       "    </tr>\n",
       "    <tr>\n",
       "      <th>Happy Camel</th>\n",
       "      <td>3.727612e+05</td>\n",
       "      <td>2.030865</td>\n",
       "      <td>1.196400</td>\n",
       "    </tr>\n",
       "    <tr>\n",
       "      <th>Leaf Leader</th>\n",
       "      <td>3.042828e+05</td>\n",
       "      <td>2.065889</td>\n",
       "      <td>1.488417</td>\n",
       "    </tr>\n",
       "    <tr>\n",
       "      <th>Pan Balance</th>\n",
       "      <td>6.820357e+05</td>\n",
       "      <td>3.099444</td>\n",
       "      <td>1.679483</td>\n",
       "    </tr>\n",
       "    <tr>\n",
       "      <th rowspan=\"8\" valign=\"top\">MAGMAPEAK</th>\n",
       "      <th rowspan=\"3\" valign=\"top\">Activity</th>\n",
       "      <th>Bottle Filler (Activity)</th>\n",
       "      <td>2.344004e+06</td>\n",
       "      <td>4.895029</td>\n",
       "      <td>2.360458</td>\n",
       "    </tr>\n",
       "    <tr>\n",
       "      <th>Sandcastle Builder (Activity)</th>\n",
       "      <td>6.570895e+05</td>\n",
       "      <td>1.846789</td>\n",
       "      <td>0.720217</td>\n",
       "    </tr>\n",
       "    <tr>\n",
       "      <th>Watering Hole (Activity)</th>\n",
       "      <td>3.384848e+05</td>\n",
       "      <td>2.123107</td>\n",
       "      <td>0.825350</td>\n",
       "    </tr>\n",
       "    <tr>\n",
       "      <th>Assessment</th>\n",
       "      <th>Cauldron Filler (Assessment)</th>\n",
       "      <td>1.546218e+05</td>\n",
       "      <td>1.079641</td>\n",
       "      <td>0.310408</td>\n",
       "    </tr>\n",
       "    <tr>\n",
       "      <th rowspan=\"4\" valign=\"top\">Game</th>\n",
       "      <th>Bubble Bath</th>\n",
       "      <td>8.748727e+05</td>\n",
       "      <td>4.074007</td>\n",
       "      <td>1.757217</td>\n",
       "    </tr>\n",
       "    <tr>\n",
       "      <th>Dino Dive</th>\n",
       "      <td>6.744133e+05</td>\n",
       "      <td>2.850389</td>\n",
       "      <td>1.632183</td>\n",
       "    </tr>\n",
       "    <tr>\n",
       "      <th>Dino Drink</th>\n",
       "      <td>6.150698e+05</td>\n",
       "      <td>2.797031</td>\n",
       "      <td>1.637433</td>\n",
       "    </tr>\n",
       "    <tr>\n",
       "      <th>Scrub-A-Dub</th>\n",
       "      <td>1.713495e+06</td>\n",
       "      <td>4.015230</td>\n",
       "      <td>2.156100</td>\n",
       "    </tr>\n",
       "    <tr>\n",
       "      <th rowspan=\"8\" valign=\"top\">TREETOPCITY</th>\n",
       "      <th rowspan=\"3\" valign=\"top\">Activity</th>\n",
       "      <th>Bug Measurer (Activity)</th>\n",
       "      <td>3.883520e+05</td>\n",
       "      <td>1.580318</td>\n",
       "      <td>0.849150</td>\n",
       "    </tr>\n",
       "    <tr>\n",
       "      <th>Fireworks (Activity)</th>\n",
       "      <td>5.464114e+05</td>\n",
       "      <td>2.080482</td>\n",
       "      <td>0.710233</td>\n",
       "    </tr>\n",
       "    <tr>\n",
       "      <th>Flower Waterer (Activity)</th>\n",
       "      <td>5.518247e+05</td>\n",
       "      <td>2.799052</td>\n",
       "      <td>1.215850</td>\n",
       "    </tr>\n",
       "    <tr>\n",
       "      <th rowspan=\"2\" valign=\"top\">Assessment</th>\n",
       "      <th>Bird Measurer (Assessment)</th>\n",
       "      <td>2.592613e+05</td>\n",
       "      <td>1.700174</td>\n",
       "      <td>0.634150</td>\n",
       "    </tr>\n",
       "    <tr>\n",
       "      <th>Mushroom Sorter (Assessment)</th>\n",
       "      <td>1.079762e+05</td>\n",
       "      <td>0.691964</td>\n",
       "      <td>0.268933</td>\n",
       "    </tr>\n",
       "    <tr>\n",
       "      <th rowspan=\"3\" valign=\"top\">Game</th>\n",
       "      <th>Air Show</th>\n",
       "      <td>3.649794e+05</td>\n",
       "      <td>2.262919</td>\n",
       "      <td>1.345850</td>\n",
       "    </tr>\n",
       "    <tr>\n",
       "      <th>All Star Sorting</th>\n",
       "      <td>6.869115e+05</td>\n",
       "      <td>3.416739</td>\n",
       "      <td>1.026000</td>\n",
       "    </tr>\n",
       "    <tr>\n",
       "      <th>Crystals Rule</th>\n",
       "      <td>6.783497e+05</td>\n",
       "      <td>2.759538</td>\n",
       "      <td>1.516117</td>\n",
       "    </tr>\n",
       "  </tbody>\n",
       "</table>\n",
       "</div>"
      ],
      "text/plain": [
       "                                                                sum  \\\n",
       "                                                      game_time_min   \n",
       "world        type       title                                         \n",
       "CRYSTALCAVES Activity   Chicken Balancer (Activity)    5.001112e+05   \n",
       "                        Egg Dropper (Activity)         3.918205e+05   \n",
       "             Assessment Cart Balancer (Assessment)     9.944733e+04   \n",
       "                        Chest Sorter (Assessment)      1.597651e+05   \n",
       "             Game       Chow Time                      1.324435e+06   \n",
       "                        Happy Camel                    3.727612e+05   \n",
       "                        Leaf Leader                    3.042828e+05   \n",
       "                        Pan Balance                    6.820357e+05   \n",
       "MAGMAPEAK    Activity   Bottle Filler (Activity)       2.344004e+06   \n",
       "                        Sandcastle Builder (Activity)  6.570895e+05   \n",
       "                        Watering Hole (Activity)       3.384848e+05   \n",
       "             Assessment Cauldron Filler (Assessment)   1.546218e+05   \n",
       "             Game       Bubble Bath                    8.748727e+05   \n",
       "                        Dino Dive                      6.744133e+05   \n",
       "                        Dino Drink                     6.150698e+05   \n",
       "                        Scrub-A-Dub                    1.713495e+06   \n",
       "TREETOPCITY  Activity   Bug Measurer (Activity)        3.883520e+05   \n",
       "                        Fireworks (Activity)           5.464114e+05   \n",
       "                        Flower Waterer (Activity)      5.518247e+05   \n",
       "             Assessment Bird Measurer (Assessment)     2.592613e+05   \n",
       "                        Mushroom Sorter (Assessment)   1.079762e+05   \n",
       "             Game       Air Show                       3.649794e+05   \n",
       "                        All Star Sorting               6.869115e+05   \n",
       "                        Crystals Rule                  6.783497e+05   \n",
       "\n",
       "                                                               mean  \\\n",
       "                                                      game_time_min   \n",
       "world        type       title                                         \n",
       "CRYSTALCAVES Activity   Chicken Balancer (Activity)        2.299246   \n",
       "                        Egg Dropper (Activity)             2.769656   \n",
       "             Assessment Cart Balancer (Assessment)         0.745683   \n",
       "                        Chest Sorter (Assessment)          1.031628   \n",
       "             Game       Chow Time                          3.362064   \n",
       "                        Happy Camel                        2.030865   \n",
       "                        Leaf Leader                        2.065889   \n",
       "                        Pan Balance                        3.099444   \n",
       "MAGMAPEAK    Activity   Bottle Filler (Activity)           4.895029   \n",
       "                        Sandcastle Builder (Activity)      1.846789   \n",
       "                        Watering Hole (Activity)           2.123107   \n",
       "             Assessment Cauldron Filler (Assessment)       1.079641   \n",
       "             Game       Bubble Bath                        4.074007   \n",
       "                        Dino Dive                          2.850389   \n",
       "                        Dino Drink                         2.797031   \n",
       "                        Scrub-A-Dub                        4.015230   \n",
       "TREETOPCITY  Activity   Bug Measurer (Activity)            1.580318   \n",
       "                        Fireworks (Activity)               2.080482   \n",
       "                        Flower Waterer (Activity)          2.799052   \n",
       "             Assessment Bird Measurer (Assessment)         1.700174   \n",
       "                        Mushroom Sorter (Assessment)       0.691964   \n",
       "             Game       Air Show                           2.262919   \n",
       "                        All Star Sorting                   3.416739   \n",
       "                        Crystals Rule                      2.759538   \n",
       "\n",
       "                                                             median  \n",
       "                                                      game_time_min  \n",
       "world        type       title                                        \n",
       "CRYSTALCAVES Activity   Chicken Balancer (Activity)        1.133533  \n",
       "                        Egg Dropper (Activity)             1.297550  \n",
       "             Assessment Cart Balancer (Assessment)         0.339150  \n",
       "                        Chest Sorter (Assessment)          0.487933  \n",
       "             Game       Chow Time                          1.470250  \n",
       "                        Happy Camel                        1.196400  \n",
       "                        Leaf Leader                        1.488417  \n",
       "                        Pan Balance                        1.679483  \n",
       "MAGMAPEAK    Activity   Bottle Filler (Activity)           2.360458  \n",
       "                        Sandcastle Builder (Activity)      0.720217  \n",
       "                        Watering Hole (Activity)           0.825350  \n",
       "             Assessment Cauldron Filler (Assessment)       0.310408  \n",
       "             Game       Bubble Bath                        1.757217  \n",
       "                        Dino Dive                          1.632183  \n",
       "                        Dino Drink                         1.637433  \n",
       "                        Scrub-A-Dub                        2.156100  \n",
       "TREETOPCITY  Activity   Bug Measurer (Activity)            0.849150  \n",
       "                        Fireworks (Activity)               0.710233  \n",
       "                        Flower Waterer (Activity)          1.215850  \n",
       "             Assessment Bird Measurer (Assessment)         0.634150  \n",
       "                        Mushroom Sorter (Assessment)       0.268933  \n",
       "             Game       Air Show                           1.345850  \n",
       "                        All Star Sorting                   1.026000  \n",
       "                        Crystals Rule                      1.516117  "
      ]
     },
     "execution_count": 118,
     "metadata": {},
     "output_type": "execute_result"
    }
   ],
   "source": [
    "pd.pivot_table(df_no_clip, values = [\"game_time_min\"], index=[\"world\", \"type\", \"title\"], aggfunc=[np.sum, np.mean, np.median])"
   ]
  },
  {
   "cell_type": "code",
   "execution_count": null,
   "metadata": {},
   "outputs": [],
   "source": [
    "# if game_time << game_time median for particular mission, do something so we don't include click arounds"
   ]
  },
  {
   "cell_type": "code",
   "execution_count": null,
   "metadata": {},
   "outputs": [],
   "source": []
  },
  {
   "cell_type": "code",
   "execution_count": null,
   "metadata": {},
   "outputs": [],
   "source": []
  },
  {
   "cell_type": "code",
   "execution_count": null,
   "metadata": {},
   "outputs": [],
   "source": []
  },
  {
   "cell_type": "code",
   "execution_count": 96,
   "metadata": {},
   "outputs": [],
   "source": [
    "user_result = pd.crosstab(df.installation_id, df.accuracy_group)"
   ]
  },
  {
   "cell_type": "code",
   "execution_count": 98,
   "metadata": {},
   "outputs": [],
   "source": [
    "user_nail_rate = pd.DataFrame(df.groupby(\"installation_id\")[\"accuracy\"].median())"
   ]
  },
  {
   "cell_type": "code",
   "execution_count": 99,
   "metadata": {},
   "outputs": [],
   "source": [
    "user_type = pd.crosstab(df.installation_id, df.type)"
   ]
  },
  {
   "cell_type": "code",
   "execution_count": 100,
   "metadata": {},
   "outputs": [],
   "source": [
    "exp_eepd = pd.concat([user_type, user_result, user_nail_rate], axis = 1)"
   ]
  },
  {
   "cell_type": "code",
   "execution_count": 101,
   "metadata": {},
   "outputs": [
    {
     "data": {
      "text/html": [
       "<div>\n",
       "<style scoped>\n",
       "    .dataframe tbody tr th:only-of-type {\n",
       "        vertical-align: middle;\n",
       "    }\n",
       "\n",
       "    .dataframe tbody tr th {\n",
       "        vertical-align: top;\n",
       "    }\n",
       "\n",
       "    .dataframe thead th {\n",
       "        text-align: right;\n",
       "    }\n",
       "</style>\n",
       "<table border=\"1\" class=\"dataframe\">\n",
       "  <thead>\n",
       "    <tr style=\"text-align: right;\">\n",
       "      <th></th>\n",
       "      <th>Activity</th>\n",
       "      <th>Assessment</th>\n",
       "      <th>Clip</th>\n",
       "      <th>Game</th>\n",
       "      <th>0.0</th>\n",
       "      <th>1.0</th>\n",
       "      <th>2.0</th>\n",
       "      <th>3.0</th>\n",
       "      <th>accuracy</th>\n",
       "    </tr>\n",
       "    <tr>\n",
       "      <th>installation_id</th>\n",
       "      <th></th>\n",
       "      <th></th>\n",
       "      <th></th>\n",
       "      <th></th>\n",
       "      <th></th>\n",
       "      <th></th>\n",
       "      <th></th>\n",
       "      <th></th>\n",
       "      <th></th>\n",
       "    </tr>\n",
       "  </thead>\n",
       "  <tbody>\n",
       "    <tr>\n",
       "      <th>0006a69f</th>\n",
       "      <td>1210</td>\n",
       "      <td>261</td>\n",
       "      <td>24</td>\n",
       "      <td>1108</td>\n",
       "      <td>87</td>\n",
       "      <td>0</td>\n",
       "      <td>42</td>\n",
       "      <td>115</td>\n",
       "      <td>0.500000</td>\n",
       "    </tr>\n",
       "    <tr>\n",
       "      <th>0006c192</th>\n",
       "      <td>1198</td>\n",
       "      <td>341</td>\n",
       "      <td>25</td>\n",
       "      <td>640</td>\n",
       "      <td>115</td>\n",
       "      <td>0</td>\n",
       "      <td>199</td>\n",
       "      <td>24</td>\n",
       "      <td>0.500000</td>\n",
       "    </tr>\n",
       "    <tr>\n",
       "      <th>00129856</th>\n",
       "      <td>0</td>\n",
       "      <td>43</td>\n",
       "      <td>0</td>\n",
       "      <td>0</td>\n",
       "      <td>0</td>\n",
       "      <td>0</td>\n",
       "      <td>0</td>\n",
       "      <td>40</td>\n",
       "      <td>1.000000</td>\n",
       "    </tr>\n",
       "    <tr>\n",
       "      <th>001d0ed0</th>\n",
       "      <td>12</td>\n",
       "      <td>200</td>\n",
       "      <td>18</td>\n",
       "      <td>175</td>\n",
       "      <td>79</td>\n",
       "      <td>0</td>\n",
       "      <td>64</td>\n",
       "      <td>49</td>\n",
       "      <td>0.500000</td>\n",
       "    </tr>\n",
       "    <tr>\n",
       "      <th>00225f67</th>\n",
       "      <td>208</td>\n",
       "      <td>64</td>\n",
       "      <td>9</td>\n",
       "      <td>355</td>\n",
       "      <td>36</td>\n",
       "      <td>0</td>\n",
       "      <td>0</td>\n",
       "      <td>0</td>\n",
       "      <td>0.000000</td>\n",
       "    </tr>\n",
       "    <tr>\n",
       "      <th>...</th>\n",
       "      <td>...</td>\n",
       "      <td>...</td>\n",
       "      <td>...</td>\n",
       "      <td>...</td>\n",
       "      <td>...</td>\n",
       "      <td>...</td>\n",
       "      <td>...</td>\n",
       "      <td>...</td>\n",
       "      <td>...</td>\n",
       "    </tr>\n",
       "    <tr>\n",
       "      <th>ff9305d7</th>\n",
       "      <td>670</td>\n",
       "      <td>463</td>\n",
       "      <td>11</td>\n",
       "      <td>910</td>\n",
       "      <td>138</td>\n",
       "      <td>257</td>\n",
       "      <td>0</td>\n",
       "      <td>0</td>\n",
       "      <td>0.076923</td>\n",
       "    </tr>\n",
       "    <tr>\n",
       "      <th>ff9715db</th>\n",
       "      <td>909</td>\n",
       "      <td>358</td>\n",
       "      <td>16</td>\n",
       "      <td>653</td>\n",
       "      <td>75</td>\n",
       "      <td>47</td>\n",
       "      <td>30</td>\n",
       "      <td>206</td>\n",
       "      <td>1.000000</td>\n",
       "    </tr>\n",
       "    <tr>\n",
       "      <th>ffc90c32</th>\n",
       "      <td>479</td>\n",
       "      <td>242</td>\n",
       "      <td>25</td>\n",
       "      <td>1254</td>\n",
       "      <td>0</td>\n",
       "      <td>62</td>\n",
       "      <td>0</td>\n",
       "      <td>180</td>\n",
       "      <td>1.000000</td>\n",
       "    </tr>\n",
       "    <tr>\n",
       "      <th>ffd2871d</th>\n",
       "      <td>561</td>\n",
       "      <td>40</td>\n",
       "      <td>2</td>\n",
       "      <td>324</td>\n",
       "      <td>0</td>\n",
       "      <td>0</td>\n",
       "      <td>0</td>\n",
       "      <td>40</td>\n",
       "      <td>1.000000</td>\n",
       "    </tr>\n",
       "    <tr>\n",
       "      <th>ffeb0b1b</th>\n",
       "      <td>381</td>\n",
       "      <td>247</td>\n",
       "      <td>21</td>\n",
       "      <td>941</td>\n",
       "      <td>97</td>\n",
       "      <td>150</td>\n",
       "      <td>0</td>\n",
       "      <td>0</td>\n",
       "      <td>0.333333</td>\n",
       "    </tr>\n",
       "  </tbody>\n",
       "</table>\n",
       "<p>3523 rows × 9 columns</p>\n",
       "</div>"
      ],
      "text/plain": [
       "                 Activity  Assessment  Clip  Game  0.0  1.0  2.0  3.0  \\\n",
       "installation_id                                                         \n",
       "0006a69f             1210         261    24  1108   87    0   42  115   \n",
       "0006c192             1198         341    25   640  115    0  199   24   \n",
       "00129856                0          43     0     0    0    0    0   40   \n",
       "001d0ed0               12         200    18   175   79    0   64   49   \n",
       "00225f67              208          64     9   355   36    0    0    0   \n",
       "...                   ...         ...   ...   ...  ...  ...  ...  ...   \n",
       "ff9305d7              670         463    11   910  138  257    0    0   \n",
       "ff9715db              909         358    16   653   75   47   30  206   \n",
       "ffc90c32              479         242    25  1254    0   62    0  180   \n",
       "ffd2871d              561          40     2   324    0    0    0   40   \n",
       "ffeb0b1b              381         247    21   941   97  150    0    0   \n",
       "\n",
       "                 accuracy  \n",
       "installation_id            \n",
       "0006a69f         0.500000  \n",
       "0006c192         0.500000  \n",
       "00129856         1.000000  \n",
       "001d0ed0         0.500000  \n",
       "00225f67         0.000000  \n",
       "...                   ...  \n",
       "ff9305d7         0.076923  \n",
       "ff9715db         1.000000  \n",
       "ffc90c32         1.000000  \n",
       "ffd2871d         1.000000  \n",
       "ffeb0b1b         0.333333  \n",
       "\n",
       "[3523 rows x 9 columns]"
      ]
     },
     "execution_count": 101,
     "metadata": {},
     "output_type": "execute_result"
    }
   ],
   "source": [
    "# filter random:\n",
    "# among all data and the various \"learning\" items of\n",
    "# \"Activity\", \"Clip\", \"Game\"\n",
    "# if  participate in none > \n",
    "# if participate in at least 1/ 2 > then?\n",
    "# how does that compare to participate all three?\n",
    "\n",
    "# next need to consider time component,\n",
    "# finding the order of EEPD\n",
    "exp_eepd"
   ]
  },
  {
   "cell_type": "code",
   "execution_count": 102,
   "metadata": {},
   "outputs": [],
   "source": [
    "exp_eepd[\"nActivity\"] = exp_eepd.Activity.apply(lambda x: 1 if x > 0 else 0)\n",
    "exp_eepd[\"nClip\"] = exp_eepd.Clip.apply(lambda x: 1 if x > 0 else 0)\n",
    "exp_eepd[\"nGame\"] = exp_eepd.Game.apply(lambda x: 1 if x > 0 else 0)"
   ]
  },
  {
   "cell_type": "code",
   "execution_count": 103,
   "metadata": {},
   "outputs": [],
   "source": [
    "exp_eepd[\"sum_engage\"] = exp_eepd.nActivity + exp_eepd.nClip + exp_eepd.nGame"
   ]
  },
  {
   "cell_type": "code",
   "execution_count": 128,
   "metadata": {},
   "outputs": [
    {
     "data": {
      "text/plain": [
       "Text(0.5, 0, 'Number of engagement types')"
      ]
     },
     "execution_count": 128,
     "metadata": {},
     "output_type": "execute_result"
    },
    {
     "data": {
      "image/png": "[encoded data removed]",
      "text/plain": [
       "<Figure size 432x288 with 1 Axes>"
      ]
     },
     "metadata": {},
     "output_type": "display_data"
    }
   ],
   "source": [
    "plot = exp_eepd.sum_engage.value_counts(normalize = True).to_frame().reset_index()\n",
    "(sns.barplot(x = \"index\" , y=\"sum_engage\", data=plot, palette=my_pal))\n",
    "plt.title(\"Throughout the play-time, how many engagement types did each kid use?\")\n",
    "plt.xlabel(\"Number of engagement types\")"
   ]
  },
  {
   "cell_type": "code",
   "execution_count": 129,
   "metadata": {},
   "outputs": [],
   "source": [
    "syllabus = pd.read_csv(\"media_sequence.csv\")"
   ]
  },
  {
   "cell_type": "code",
   "execution_count": 130,
   "metadata": {},
   "outputs": [
    {
     "data": {
      "text/plain": [
       "(44, 4)"
      ]
     },
     "execution_count": 130,
     "metadata": {},
     "output_type": "execute_result"
    }
   ],
   "source": [
    "syllabus.shape"
   ]
  },
  {
   "cell_type": "code",
   "execution_count": 131,
   "metadata": {},
   "outputs": [],
   "source": [
    "syllabus[\"order\"] = range(1, 45)"
   ]
  },
  {
   "cell_type": "code",
   "execution_count": 133,
   "metadata": {},
   "outputs": [
    {
     "data": {
      "text/html": [
       "<div>\n",
       "<style scoped>\n",
       "    .dataframe tbody tr th:only-of-type {\n",
       "        vertical-align: middle;\n",
       "    }\n",
       "\n",
       "    .dataframe tbody tr th {\n",
       "        vertical-align: top;\n",
       "    }\n",
       "\n",
       "    .dataframe thead th {\n",
       "        text-align: right;\n",
       "    }\n",
       "</style>\n",
       "<table border=\"1\" class=\"dataframe\">\n",
       "  <thead>\n",
       "    <tr style=\"text-align: right;\">\n",
       "      <th></th>\n",
       "      <th>title</th>\n",
       "      <th>type</th>\n",
       "      <th>duration (same as df)</th>\n",
       "      <th>duration (s)</th>\n",
       "      <th>order</th>\n",
       "    </tr>\n",
       "  </thead>\n",
       "  <tbody>\n",
       "    <tr>\n",
       "      <th>0</th>\n",
       "      <td>Welcome to Lost Lagoon!</td>\n",
       "      <td>Clip</td>\n",
       "      <td>19000</td>\n",
       "      <td>19.0</td>\n",
       "      <td>1</td>\n",
       "    </tr>\n",
       "    <tr>\n",
       "      <th>1</th>\n",
       "      <td>Tree Top City - Level 1</td>\n",
       "      <td>Clip</td>\n",
       "      <td>17000</td>\n",
       "      <td>17.0</td>\n",
       "      <td>2</td>\n",
       "    </tr>\n",
       "    <tr>\n",
       "      <th>2</th>\n",
       "      <td>Ordering Spheres</td>\n",
       "      <td>Clip</td>\n",
       "      <td>61000</td>\n",
       "      <td>61.0</td>\n",
       "      <td>3</td>\n",
       "    </tr>\n",
       "    <tr>\n",
       "      <th>3</th>\n",
       "      <td>All Star Sorting</td>\n",
       "      <td>Game</td>\n",
       "      <td>0</td>\n",
       "      <td>NaN</td>\n",
       "      <td>4</td>\n",
       "    </tr>\n",
       "    <tr>\n",
       "      <th>4</th>\n",
       "      <td>Costume Box</td>\n",
       "      <td>Clip</td>\n",
       "      <td>61000</td>\n",
       "      <td>61.0</td>\n",
       "      <td>5</td>\n",
       "    </tr>\n",
       "  </tbody>\n",
       "</table>\n",
       "</div>"
      ],
      "text/plain": [
       "                     title  type  duration (same as df)  duration (s)  order\n",
       "0  Welcome to Lost Lagoon!  Clip                  19000          19.0      1\n",
       "1  Tree Top City - Level 1  Clip                  17000          17.0      2\n",
       "2         Ordering Spheres  Clip                  61000          61.0      3\n",
       "3         All Star Sorting  Game                      0           NaN      4\n",
       "4              Costume Box  Clip                  61000          61.0      5"
      ]
     },
     "execution_count": 133,
     "metadata": {},
     "output_type": "execute_result"
    }
   ],
   "source": [
    "syllabus.head()"
   ]
  },
  {
   "cell_type": "code",
   "execution_count": 134,
   "metadata": {},
   "outputs": [],
   "source": [
    "# merge main dataframe with \"syllabus\"\n",
    "exp_eepd2 =  (df\n",
    "              .merge(syllabus, how = 'left', left_on = \"title\", right_on = \"title\")\n",
    "              .set_index([\"installation_id\", \"timestamp\"]))"
   ]
  },
  {
   "cell_type": "code",
   "execution_count": 135,
   "metadata": {},
   "outputs": [],
   "source": [
    "median = exp_eepd2.groupby([\"installation_id\"]).accuracy.median().reset_index()"
   ]
  },
  {
   "cell_type": "code",
   "execution_count": 136,
   "metadata": {},
   "outputs": [],
   "source": [
    "exp_eepd2 = (exp_eepd2\n",
    "             .reset_index()\n",
    "             .merge(median, how = \"left\", left_on = \"installation_id\", right_on = \"installation_id\")\n",
    "             .set_index([\"installation_id\", \"timestamp\"]))"
   ]
  },
  {
   "cell_type": "code",
   "execution_count": 138,
   "metadata": {},
   "outputs": [
    {
     "data": {
      "text/html": [
       "<div>\n",
       "<style scoped>\n",
       "    .dataframe tbody tr th:only-of-type {\n",
       "        vertical-align: middle;\n",
       "    }\n",
       "\n",
       "    .dataframe tbody tr th {\n",
       "        vertical-align: top;\n",
       "    }\n",
       "\n",
       "    .dataframe thead th {\n",
       "        text-align: right;\n",
       "    }\n",
       "</style>\n",
       "<table border=\"1\" class=\"dataframe\">\n",
       "  <thead>\n",
       "    <tr style=\"text-align: right;\">\n",
       "      <th></th>\n",
       "      <th></th>\n",
       "      <th>event_id</th>\n",
       "      <th>game_session</th>\n",
       "      <th>event_count</th>\n",
       "      <th>event_code</th>\n",
       "      <th>game_time</th>\n",
       "      <th>title</th>\n",
       "      <th>type_x</th>\n",
       "      <th>world</th>\n",
       "      <th>num_correct</th>\n",
       "      <th>num_incorrect</th>\n",
       "      <th>accuracy_x</th>\n",
       "      <th>accuracy_group</th>\n",
       "      <th>game_time_min</th>\n",
       "      <th>type_y</th>\n",
       "      <th>duration (same as df)</th>\n",
       "      <th>duration (s)</th>\n",
       "      <th>order</th>\n",
       "      <th>accuracy_y</th>\n",
       "    </tr>\n",
       "    <tr>\n",
       "      <th>installation_id</th>\n",
       "      <th>timestamp</th>\n",
       "      <th></th>\n",
       "      <th></th>\n",
       "      <th></th>\n",
       "      <th></th>\n",
       "      <th></th>\n",
       "      <th></th>\n",
       "      <th></th>\n",
       "      <th></th>\n",
       "      <th></th>\n",
       "      <th></th>\n",
       "      <th></th>\n",
       "      <th></th>\n",
       "      <th></th>\n",
       "      <th></th>\n",
       "      <th></th>\n",
       "      <th></th>\n",
       "      <th></th>\n",
       "      <th></th>\n",
       "    </tr>\n",
       "  </thead>\n",
       "  <tbody>\n",
       "    <tr>\n",
       "      <th rowspan=\"5\" valign=\"top\">0006a69f</th>\n",
       "      <th>2019-08-06 04:57:45.301000+00:00</th>\n",
       "      <td>27253bdc</td>\n",
       "      <td>4b57c9a59474a1b9</td>\n",
       "      <td>1</td>\n",
       "      <td>2000</td>\n",
       "      <td>0</td>\n",
       "      <td>Magma Peak - Level 1</td>\n",
       "      <td>Clip</td>\n",
       "      <td>MAGMAPEAK</td>\n",
       "      <td>NaN</td>\n",
       "      <td>NaN</td>\n",
       "      <td>NaN</td>\n",
       "      <td>NaN</td>\n",
       "      <td>0.000000</td>\n",
       "      <td>Clip</td>\n",
       "      <td>20000</td>\n",
       "      <td>20.0</td>\n",
       "      <td>19</td>\n",
       "      <td>0.5</td>\n",
       "    </tr>\n",
       "    <tr>\n",
       "      <th>2019-08-06 04:58:14.538000+00:00</th>\n",
       "      <td>77261ab5</td>\n",
       "      <td>2b9d5af79bcdb79f</td>\n",
       "      <td>1</td>\n",
       "      <td>2000</td>\n",
       "      <td>0</td>\n",
       "      <td>Sandcastle Builder (Activity)</td>\n",
       "      <td>Activity</td>\n",
       "      <td>MAGMAPEAK</td>\n",
       "      <td>NaN</td>\n",
       "      <td>NaN</td>\n",
       "      <td>NaN</td>\n",
       "      <td>NaN</td>\n",
       "      <td>0.000000</td>\n",
       "      <td>Activity</td>\n",
       "      <td>0</td>\n",
       "      <td>NaN</td>\n",
       "      <td>20</td>\n",
       "      <td>0.5</td>\n",
       "    </tr>\n",
       "    <tr>\n",
       "      <th>2019-08-06 04:58:14.615000+00:00</th>\n",
       "      <td>b2dba42b</td>\n",
       "      <td>2b9d5af79bcdb79f</td>\n",
       "      <td>2</td>\n",
       "      <td>3010</td>\n",
       "      <td>29</td>\n",
       "      <td>Sandcastle Builder (Activity)</td>\n",
       "      <td>Activity</td>\n",
       "      <td>MAGMAPEAK</td>\n",
       "      <td>NaN</td>\n",
       "      <td>NaN</td>\n",
       "      <td>NaN</td>\n",
       "      <td>NaN</td>\n",
       "      <td>0.000483</td>\n",
       "      <td>Activity</td>\n",
       "      <td>0</td>\n",
       "      <td>NaN</td>\n",
       "      <td>20</td>\n",
       "      <td>0.5</td>\n",
       "    </tr>\n",
       "    <tr>\n",
       "      <th>2019-08-06 04:58:16.680000+00:00</th>\n",
       "      <td>1325467d</td>\n",
       "      <td>2b9d5af79bcdb79f</td>\n",
       "      <td>3</td>\n",
       "      <td>4070</td>\n",
       "      <td>2137</td>\n",
       "      <td>Sandcastle Builder (Activity)</td>\n",
       "      <td>Activity</td>\n",
       "      <td>MAGMAPEAK</td>\n",
       "      <td>NaN</td>\n",
       "      <td>NaN</td>\n",
       "      <td>NaN</td>\n",
       "      <td>NaN</td>\n",
       "      <td>0.035617</td>\n",
       "      <td>Activity</td>\n",
       "      <td>0</td>\n",
       "      <td>NaN</td>\n",
       "      <td>20</td>\n",
       "      <td>0.5</td>\n",
       "    </tr>\n",
       "    <tr>\n",
       "      <th>2019-08-06 04:58:18.474000+00:00</th>\n",
       "      <td>1325467d</td>\n",
       "      <td>2b9d5af79bcdb79f</td>\n",
       "      <td>4</td>\n",
       "      <td>4070</td>\n",
       "      <td>3937</td>\n",
       "      <td>Sandcastle Builder (Activity)</td>\n",
       "      <td>Activity</td>\n",
       "      <td>MAGMAPEAK</td>\n",
       "      <td>NaN</td>\n",
       "      <td>NaN</td>\n",
       "      <td>NaN</td>\n",
       "      <td>NaN</td>\n",
       "      <td>0.065617</td>\n",
       "      <td>Activity</td>\n",
       "      <td>0</td>\n",
       "      <td>NaN</td>\n",
       "      <td>20</td>\n",
       "      <td>0.5</td>\n",
       "    </tr>\n",
       "  </tbody>\n",
       "</table>\n",
       "</div>"
      ],
      "text/plain": [
       "                                                  event_id      game_session  \\\n",
       "installation_id timestamp                                                      \n",
       "0006a69f        2019-08-06 04:57:45.301000+00:00  27253bdc  4b57c9a59474a1b9   \n",
       "                2019-08-06 04:58:14.538000+00:00  77261ab5  2b9d5af79bcdb79f   \n",
       "                2019-08-06 04:58:14.615000+00:00  b2dba42b  2b9d5af79bcdb79f   \n",
       "                2019-08-06 04:58:16.680000+00:00  1325467d  2b9d5af79bcdb79f   \n",
       "                2019-08-06 04:58:18.474000+00:00  1325467d  2b9d5af79bcdb79f   \n",
       "\n",
       "                                                  event_count  event_code  \\\n",
       "installation_id timestamp                                                   \n",
       "0006a69f        2019-08-06 04:57:45.301000+00:00            1        2000   \n",
       "                2019-08-06 04:58:14.538000+00:00            1        2000   \n",
       "                2019-08-06 04:58:14.615000+00:00            2        3010   \n",
       "                2019-08-06 04:58:16.680000+00:00            3        4070   \n",
       "                2019-08-06 04:58:18.474000+00:00            4        4070   \n",
       "\n",
       "                                                  game_time  \\\n",
       "installation_id timestamp                                     \n",
       "0006a69f        2019-08-06 04:57:45.301000+00:00          0   \n",
       "                2019-08-06 04:58:14.538000+00:00          0   \n",
       "                2019-08-06 04:58:14.615000+00:00         29   \n",
       "                2019-08-06 04:58:16.680000+00:00       2137   \n",
       "                2019-08-06 04:58:18.474000+00:00       3937   \n",
       "\n",
       "                                                                          title  \\\n",
       "installation_id timestamp                                                         \n",
       "0006a69f        2019-08-06 04:57:45.301000+00:00           Magma Peak - Level 1   \n",
       "                2019-08-06 04:58:14.538000+00:00  Sandcastle Builder (Activity)   \n",
       "                2019-08-06 04:58:14.615000+00:00  Sandcastle Builder (Activity)   \n",
       "                2019-08-06 04:58:16.680000+00:00  Sandcastle Builder (Activity)   \n",
       "                2019-08-06 04:58:18.474000+00:00  Sandcastle Builder (Activity)   \n",
       "\n",
       "                                                    type_x      world  \\\n",
       "installation_id timestamp                                               \n",
       "0006a69f        2019-08-06 04:57:45.301000+00:00      Clip  MAGMAPEAK   \n",
       "                2019-08-06 04:58:14.538000+00:00  Activity  MAGMAPEAK   \n",
       "                2019-08-06 04:58:14.615000+00:00  Activity  MAGMAPEAK   \n",
       "                2019-08-06 04:58:16.680000+00:00  Activity  MAGMAPEAK   \n",
       "                2019-08-06 04:58:18.474000+00:00  Activity  MAGMAPEAK   \n",
       "\n",
       "                                                  num_correct  num_incorrect  \\\n",
       "installation_id timestamp                                                      \n",
       "0006a69f        2019-08-06 04:57:45.301000+00:00          NaN            NaN   \n",
       "                2019-08-06 04:58:14.538000+00:00          NaN            NaN   \n",
       "                2019-08-06 04:58:14.615000+00:00          NaN            NaN   \n",
       "                2019-08-06 04:58:16.680000+00:00          NaN            NaN   \n",
       "                2019-08-06 04:58:18.474000+00:00          NaN            NaN   \n",
       "\n",
       "                                                  accuracy_x  accuracy_group  \\\n",
       "installation_id timestamp                                                      \n",
       "0006a69f        2019-08-06 04:57:45.301000+00:00         NaN             NaN   \n",
       "                2019-08-06 04:58:14.538000+00:00         NaN             NaN   \n",
       "                2019-08-06 04:58:14.615000+00:00         NaN             NaN   \n",
       "                2019-08-06 04:58:16.680000+00:00         NaN             NaN   \n",
       "                2019-08-06 04:58:18.474000+00:00         NaN             NaN   \n",
       "\n",
       "                                                  game_time_min    type_y  \\\n",
       "installation_id timestamp                                                   \n",
       "0006a69f        2019-08-06 04:57:45.301000+00:00       0.000000      Clip   \n",
       "                2019-08-06 04:58:14.538000+00:00       0.000000  Activity   \n",
       "                2019-08-06 04:58:14.615000+00:00       0.000483  Activity   \n",
       "                2019-08-06 04:58:16.680000+00:00       0.035617  Activity   \n",
       "                2019-08-06 04:58:18.474000+00:00       0.065617  Activity   \n",
       "\n",
       "                                                  duration (same as df)  \\\n",
       "installation_id timestamp                                                 \n",
       "0006a69f        2019-08-06 04:57:45.301000+00:00                  20000   \n",
       "                2019-08-06 04:58:14.538000+00:00                      0   \n",
       "                2019-08-06 04:58:14.615000+00:00                      0   \n",
       "                2019-08-06 04:58:16.680000+00:00                      0   \n",
       "                2019-08-06 04:58:18.474000+00:00                      0   \n",
       "\n",
       "                                                  duration (s)  order  \\\n",
       "installation_id timestamp                                               \n",
       "0006a69f        2019-08-06 04:57:45.301000+00:00          20.0     19   \n",
       "                2019-08-06 04:58:14.538000+00:00           NaN     20   \n",
       "                2019-08-06 04:58:14.615000+00:00           NaN     20   \n",
       "                2019-08-06 04:58:16.680000+00:00           NaN     20   \n",
       "                2019-08-06 04:58:18.474000+00:00           NaN     20   \n",
       "\n",
       "                                                  accuracy_y  \n",
       "installation_id timestamp                                     \n",
       "0006a69f        2019-08-06 04:57:45.301000+00:00         0.5  \n",
       "                2019-08-06 04:58:14.538000+00:00         0.5  \n",
       "                2019-08-06 04:58:14.615000+00:00         0.5  \n",
       "                2019-08-06 04:58:16.680000+00:00         0.5  \n",
       "                2019-08-06 04:58:18.474000+00:00         0.5  "
      ]
     },
     "execution_count": 138,
     "metadata": {},
     "output_type": "execute_result"
    }
   ],
   "source": [
    "exp_eepd2.head()"
   ]
  },
  {
   "cell_type": "code",
   "execution_count": 139,
   "metadata": {},
   "outputs": [],
   "source": [
    "exp_eepd2[\"accuracy\"] = np.where(exp_eepd2.accuracy_x.isna(), exp_eepd2.accuracy_y, exp_eepd2.accuracy_x)\n",
    "#df['c2'] = np.where(df.c1 == 8,'X',df.c3)"
   ]
  },
  {
   "cell_type": "code",
   "execution_count": 142,
   "metadata": {},
   "outputs": [],
   "source": [
    "from linear_random import *"
   ]
  },
  {
   "cell_type": "code",
   "execution_count": 143,
   "metadata": {},
   "outputs": [],
   "source": [
    "path = exp_eepd2.groupby('installation_id').order.apply(is_list_sorted).reset_index()"
   ]
  },
  {
   "cell_type": "code",
   "execution_count": 144,
   "metadata": {},
   "outputs": [
    {
     "data": {
      "text/html": [
       "<div>\n",
       "<style scoped>\n",
       "    .dataframe tbody tr th:only-of-type {\n",
       "        vertical-align: middle;\n",
       "    }\n",
       "\n",
       "    .dataframe tbody tr th {\n",
       "        vertical-align: top;\n",
       "    }\n",
       "\n",
       "    .dataframe thead th {\n",
       "        text-align: right;\n",
       "    }\n",
       "</style>\n",
       "<table border=\"1\" class=\"dataframe\">\n",
       "  <thead>\n",
       "    <tr style=\"text-align: right;\">\n",
       "      <th></th>\n",
       "      <th>installation_id</th>\n",
       "      <th>order</th>\n",
       "    </tr>\n",
       "  </thead>\n",
       "  <tbody>\n",
       "    <tr>\n",
       "      <th>0</th>\n",
       "      <td>0006a69f</td>\n",
       "      <td>False</td>\n",
       "    </tr>\n",
       "    <tr>\n",
       "      <th>1</th>\n",
       "      <td>0006c192</td>\n",
       "      <td>False</td>\n",
       "    </tr>\n",
       "    <tr>\n",
       "      <th>2</th>\n",
       "      <td>00129856</td>\n",
       "      <td>True</td>\n",
       "    </tr>\n",
       "    <tr>\n",
       "      <th>3</th>\n",
       "      <td>001d0ed0</td>\n",
       "      <td>True</td>\n",
       "    </tr>\n",
       "    <tr>\n",
       "      <th>4</th>\n",
       "      <td>00225f67</td>\n",
       "      <td>True</td>\n",
       "    </tr>\n",
       "    <tr>\n",
       "      <th>...</th>\n",
       "      <td>...</td>\n",
       "      <td>...</td>\n",
       "    </tr>\n",
       "    <tr>\n",
       "      <th>3518</th>\n",
       "      <td>ff9305d7</td>\n",
       "      <td>False</td>\n",
       "    </tr>\n",
       "    <tr>\n",
       "      <th>3519</th>\n",
       "      <td>ff9715db</td>\n",
       "      <td>False</td>\n",
       "    </tr>\n",
       "    <tr>\n",
       "      <th>3520</th>\n",
       "      <td>ffc90c32</td>\n",
       "      <td>True</td>\n",
       "    </tr>\n",
       "    <tr>\n",
       "      <th>3521</th>\n",
       "      <td>ffd2871d</td>\n",
       "      <td>True</td>\n",
       "    </tr>\n",
       "    <tr>\n",
       "      <th>3522</th>\n",
       "      <td>ffeb0b1b</td>\n",
       "      <td>False</td>\n",
       "    </tr>\n",
       "  </tbody>\n",
       "</table>\n",
       "<p>3523 rows × 2 columns</p>\n",
       "</div>"
      ],
      "text/plain": [
       "     installation_id  order\n",
       "0           0006a69f  False\n",
       "1           0006c192  False\n",
       "2           00129856   True\n",
       "3           001d0ed0   True\n",
       "4           00225f67   True\n",
       "...              ...    ...\n",
       "3518        ff9305d7  False\n",
       "3519        ff9715db  False\n",
       "3520        ffc90c32   True\n",
       "3521        ffd2871d   True\n",
       "3522        ffeb0b1b  False\n",
       "\n",
       "[3523 rows x 2 columns]"
      ]
     },
     "execution_count": 144,
     "metadata": {},
     "output_type": "execute_result"
    }
   ],
   "source": [
    "path"
   ]
  },
  {
   "cell_type": "code",
   "execution_count": 145,
   "metadata": {},
   "outputs": [
    {
     "name": "stdout",
     "output_type": "stream",
     "text": [
      "The percentage of kids who follow linear learning path: order    27.0\n",
      "dtype: float64%\n"
     ]
    }
   ],
   "source": [
    "print(f\"The percentage of kids who follow linear learning path: {round(path.mean(),2)*100}%\")"
   ]
  },
  {
   "cell_type": "code",
   "execution_count": 146,
   "metadata": {},
   "outputs": [],
   "source": [
    "path = path.merge(exp_eepd2.accuracy, how = \"left\", left_on = \"installation_id\", right_on = \"installation_id\")"
   ]
  },
  {
   "cell_type": "code",
   "execution_count": 147,
   "metadata": {},
   "outputs": [],
   "source": [
    "path = path.groupby([\"installation_id\",\"order\"]).median().reset_index()"
   ]
  },
  {
   "cell_type": "code",
   "execution_count": 148,
   "metadata": {},
   "outputs": [
    {
     "data": {
      "text/plain": [
       "order\n",
       "False    0.5\n",
       "True     0.5\n",
       "Name: accuracy, dtype: float64"
      ]
     },
     "execution_count": 148,
     "metadata": {},
     "output_type": "execute_result"
    }
   ],
   "source": [
    "path.groupby(\"order\").accuracy.median()"
   ]
  },
  {
   "cell_type": "code",
   "execution_count": 149,
   "metadata": {},
   "outputs": [],
   "source": [
    "path[\"order_\"] = np.where(path.order == True, \"Linear\", \"Non-linear\")"
   ]
  },
  {
   "cell_type": "code",
   "execution_count": 154,
   "metadata": {},
   "outputs": [
    {
     "data": {
      "image/png": "[encoded data removed]",
      "text/plain": [
       "<Figure size 792x576 with 1 Axes>"
      ]
     },
     "metadata": {},
     "output_type": "display_data"
    }
   ],
   "source": [
    "# Sort the dataframe by target\n",
    "target_0 = path.loc[path['order_'] == \"Linear\"]\n",
    "target_1 = path.loc[path['order_'] == \"Non-linear\"]\n",
    "\n",
    "sns.distplot(target_0[['accuracy']], hist=False, rug=True, color = 'red')\n",
    "sns.distplot(target_1[['accuracy']], hist=False, rug=True, color = 'darkturquoise')\n",
    "\n",
    "plt.legend(title='Learning Paths', labels = [\"Linear\", \"Non-linear\"],loc='center left', bbox_to_anchor=(1, 0.5))\n",
    "plt.title(\"What're the score distributions for different kid learning bahavior: linear versus non-linear?\")\n",
    "\n",
    "plt.show()"
   ]
  },
  {
   "cell_type": "code",
   "execution_count": 155,
   "metadata": {},
   "outputs": [
    {
     "data": {
      "text/plain": [
       "order  accuracy\n",
       "False  1.000000    868\n",
       "       0.000000    635\n",
       "       0.500000    461\n",
       "       0.333333    207\n",
       "       0.250000    134\n",
       "       0.200000     69\n",
       "       0.166667     48\n",
       "       0.142857     36\n",
       "       0.125000     19\n",
       "       0.111111     17\n",
       "       0.100000     16\n",
       "       0.090909      9\n",
       "       0.083333      7\n",
       "       0.076923      6\n",
       "       0.071429      5\n",
       "       0.066667      4\n",
       "       0.750000      3\n",
       "       0.043478      2\n",
       "       0.055556      2\n",
       "       0.058824      2\n",
       "       0.062500      2\n",
       "       0.416667      2\n",
       "       0.024390      1\n",
       "       0.034483      1\n",
       "       0.047619      1\n",
       "       0.050000      1\n",
       "       0.052632      1\n",
       "       0.350000      1\n",
       "True   1.000000    452\n",
       "       0.000000    236\n",
       "       0.500000    126\n",
       "       0.333333     60\n",
       "       0.250000     40\n",
       "       0.200000     16\n",
       "       0.166667     14\n",
       "       0.125000      5\n",
       "       0.111111      3\n",
       "       0.076923      2\n",
       "       0.083333      2\n",
       "       0.090909      2\n",
       "       0.142857      2\n",
       "       0.050000      1\n",
       "       0.055556      1\n",
       "       0.062500      1\n",
       "Name: accuracy, dtype: int64"
      ]
     },
     "execution_count": 155,
     "metadata": {},
     "output_type": "execute_result"
    }
   ],
   "source": [
    "path.groupby(\"order\").accuracy.value_counts()"
   ]
  },
  {
   "cell_type": "code",
   "execution_count": null,
   "metadata": {},
   "outputs": [],
   "source": [
    "sns.swarmplot(x=\"order_\", y=\"accuracy\", data=path, palette = my_pal[2:4])\n",
    "plt.xlabel('Learning behaviors')\n",
    "plt.title(\"Is there a different accuracy distribution between kids that demonstrate different learning behavior?\")"
   ]
  },
  {
   "cell_type": "code",
   "execution_count": 160,
   "metadata": {},
   "outputs": [
    {
     "data": {
      "text/plain": [
       "1                Clip\n",
       "2            Activity\n",
       "3            Activity\n",
       "4            Activity\n",
       "5            Activity\n",
       "              ...    \n",
       "5513019    Assessment\n",
       "5513020    Assessment\n",
       "5513021    Assessment\n",
       "5513022    Assessment\n",
       "5513023    Assessment\n",
       "Name: type, Length: 5507716, dtype: object"
      ]
     },
     "execution_count": 160,
     "metadata": {},
     "output_type": "execute_result"
    }
   ],
   "source": [
    "df.type"
   ]
  },
  {
   "cell_type": "code",
   "execution_count": 162,
   "metadata": {},
   "outputs": [
    {
     "data": {
      "text/plain": [
       "world         title                       \n",
       "CRYSTALCAVES  Cart Balancer (Assessment)      0.5\n",
       "              Chest Sorter (Assessment)       0.0\n",
       "MAGMAPEAK     Cauldron Filler (Assessment)    1.0\n",
       "TREETOPCITY   Bird Measurer (Assessment)      0.2\n",
       "              Mushroom Sorter (Assessment)    1.0\n",
       "Name: accuracy, dtype: float64"
      ]
     },
     "execution_count": 162,
     "metadata": {},
     "output_type": "execute_result"
    }
   ],
   "source": [
    "df[df.type == 'Assessment'].groupby([\"world\",\"title\"]).accuracy.median()"
   ]
  },
  {
   "cell_type": "code",
   "execution_count": 163,
   "metadata": {},
   "outputs": [
    {
     "data": {
      "text/plain": [
       "world         title                       \n",
       "CRYSTALCAVES  Cart Balancer (Assessment)      0.584230\n",
       "              Chest Sorter (Assessment)       0.181272\n",
       "MAGMAPEAK     Cauldron Filler (Assessment)    0.659062\n",
       "TREETOPCITY   Bird Measurer (Assessment)      0.327002\n",
       "              Mushroom Sorter (Assessment)    0.634529\n",
       "Name: accuracy, dtype: float64"
      ]
     },
     "execution_count": 163,
     "metadata": {},
     "output_type": "execute_result"
    }
   ],
   "source": [
    "df[df.type == 'Assessment'].groupby([\"world\",\"title\"]).accuracy.mean()"
   ]
  },
  {
   "cell_type": "code",
   "execution_count": 165,
   "metadata": {},
   "outputs": [
    {
     "data": {
      "text/plain": [
       "world         title                       \n",
       "CRYSTALCAVES  Cart Balancer (Assessment)      133364\n",
       "              Chest Sorter (Assessment)       154867\n",
       "MAGMAPEAK     Cauldron Filler (Assessment)    143216\n",
       "TREETOPCITY   Bird Measurer (Assessment)      152491\n",
       "              Mushroom Sorter (Assessment)    156043\n",
       "Name: installation_id, dtype: int64"
      ]
     },
     "execution_count": 165,
     "metadata": {},
     "output_type": "execute_result"
    }
   ],
   "source": [
    "df[df.type == 'Assessment'].groupby([\"world\",\"title\"]).installation_id.count()"
   ]
  },
  {
   "cell_type": "code",
   "execution_count": null,
   "metadata": {},
   "outputs": [],
   "source": []
  }
 ],
 "metadata": {
  "kernelspec": {
   "display_name": "Python 3",
   "language": "python",
   "name": "python3"
  },
  "language_info": {
   "codemirror_mode": {
    "name": "ipython",
    "version": 3
   },
   "file_extension": ".py",
   "mimetype": "text/x-python",
   "name": "python",
   "nbconvert_exporter": "python",
   "pygments_lexer": "ipython3",
   "version": "3.7.3"
  },
  "toc": {
   "base_numbering": 1,
   "nav_menu": {},
   "number_sections": true,
   "sideBar": true,
   "skip_h1_title": false,
   "title_cell": "Table of Contents",
   "title_sidebar": "Contents",
   "toc_cell": false,
   "toc_position": {},
   "toc_section_display": true,
   "toc_window_display": false
  },
  "varInspector": {
   "cols": {
    "lenName": 16,
    "lenType": 16,
    "lenVar": 40
   },
   "kernels_config": {
    "python": {
     "delete_cmd_postfix": "",
     "delete_cmd_prefix": "del ",
     "library": "var_list.py",
     "varRefreshCmd": "print(var_dic_list())"
    },
    "r": {
     "delete_cmd_postfix": ") ",
     "delete_cmd_prefix": "rm(",
     "library": "var_list.r",
     "varRefreshCmd": "cat(var_dic_list()) "
    }
   },
   "types_to_exclude": [
    "module",
    "function",
    "builtin_function_or_method",
    "instance",
    "_Feature"
   ],
   "window_display": false
  }
 },
 "nbformat": 4,
 "nbformat_minor": 2
}
