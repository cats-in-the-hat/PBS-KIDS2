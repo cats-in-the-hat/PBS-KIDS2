{
 "cells": [
  {
   "cell_type": "markdown",
   "metadata": {},
   "source": [
    "1. Background of Project\n",
    "2. Hypotheses\n",
    "3. Summary of Findings and Insights\n",
    "4. Data Acquisition and Prep\n",
    "5. Exploratory Data Analysis\n",
    "6. Feature Engineering\n",
    "7. Modeling\n",
    "8. Evaluation\n",
    "\n",
    "Notes:\n",
    "- Image use footnote\n",
    "    - PBS KIDS and the PBS KIDS Logo are registered trademarks of PBS. Used with permission. The contents of PBS KIDS Measure Up! were developed under a grant from the Department of Education. However, those contents do not necessarily represent the policy of the Department of Education, and you should not assume endorsement by the Federal Government. The app is funded by a Ready To Learn grant (PR/AWARD No. U295A150003, CFDA No. 84.295A) provided by the Department of Education to the Corporation for Public Broadcasting."
   ]
  },
  {
   "cell_type": "markdown",
   "metadata": {},
   "source": [
    "# Child Learning and Development with PBS KIDS Measure Up! App"
   ]
  },
  {
   "cell_type": "markdown",
   "metadata": {},
   "source": [
    "![title](mu_image.jpeg)"
   ]
  },
  {
   "cell_type": "markdown",
   "metadata": {},
   "source": [
    "## I. BACKGROUND\n",
    "\n",
    "### MEASURE UP! APP  \n",
    "The PBS KIDS Measure Up! app is designed for children ages 3-5 to develop their comprehension on early STEM concepts. The app takes users to an adventure through three worlds, **Magma Peak** which focuses on capacity and displacement, **Crystal Caves** which is about weight, and finally **Treetop City** which teaches the concepts of length and height.\n",
    "\n",
    "### 2019 KAGGLE DATA SCIENCE BOWL COMPETITION PRESENTED BY PBS KIDS & BOOZ ALLEN HAMILTON\n",
    "This year's competition is focused on early childhood education through multimedia learning. Anonymized Measure Up! gameplay data was provided by PBS KIDS. The end product of each submission is to provide a model that predicts the accuracy group of users.\n",
    "\n",
    "Accuracy group is based on the number of attempts a user makes until s/he completes the \"challenge\" (a.k.a. assessment). Based on user's performance on each completed assessment, an accuracy group is assigned:\n",
    " - 3 - Successfully completed the assessment on 1 attempt\n",
    " - 2 - Completed assessment on 2 attempts\n",
    " - 1 - Completed assessment on 3 attempts\n",
    " - 0 - Completed assessment on more than 3 attempts\n",
    "\n",
    "The model will help PBS KIDS to improve game design and to discover relationships on game engagement and learning processes.\n",
    "\n",
    "### THE PROJECT\n",
    "The project is inspired by 2019's Kaggle Data Science Bowl. By analyzing data publicly provided by PBS KIDS on Kaggle, our team has sought to identify and understand drivers of children’s success on assessments (a.k.a. \"challenges\") in the app. The insights inform teachers and parents on how well using the different activities in the application prepare 3-5-year old children for the application’s final assessments.\n",
    "\n",
    "A presentation documenting our findings and recommendations is delivered on Jan 30, 2020.\n",
    "\n",
    "### PROBLEM STATEMENTS & HYPOTHESES:\n",
    "\n",
    "**Problem 1:** What are the drivers of users assessment accuracy?  \n",
    "**Hypothesis:** Historical Performance and Time drive assessment performance.\n",
    "  \n",
    "**Problem 2:** Is there a certain path that better prepare users in assessments - with the two paths being, linear progression and random (choose activities at their own will)  \n",
    "**Hypothesis:** There is no difference in the performance between users who followed a linear progression and those who had random learning path.\n",
    "\n",
    "> Linear Progression and their corresponding in-game activities are as follows:  \n",
    "**Exposure** (video clip) → **Exploration** (activity) → **Practice** (game) → **Demonstration** (assessment)\n",
    "\n",
    "### SUMMARY OF FINDINGS AND INSIGHTS\n",
    "\n",
    "### CONCLUSION AND RECOMMENDATION\n",
    "\n",
    "\n"
   ]
  },
  {
   "cell_type": "markdown",
   "metadata": {},
   "source": [
    "---"
   ]
  },
  {
   "cell_type": "markdown",
   "metadata": {},
   "source": [
    "## II. MODULES & LIBRARIES"
   ]
  },
  {
   "cell_type": "code",
   "execution_count": 456,
   "metadata": {},
   "outputs": [],
   "source": [
    "import pandas as pd\n",
    "import numpy as np\n",
    "\n",
    "#viz\n",
    "import matplotlib.pyplot as plt\n",
    "import seaborn as sns\n",
    "\n",
    "#feature engineering\n",
    "from sklearn.preprocessing import StandardScaler\n",
    "from sklearn.model_selection import train_test_split\n",
    "from sklearn.linear_model import LassoCV\n",
    "\n",
    "#modeling\n",
    "from sklearn.ensemble import RandomForestClassifier\n",
    "from sklearn.metrics import classification_report, confusion_matrix\n",
    "\n",
    "import warnings\n",
    "warnings.filterwarnings(\"ignore\")"
   ]
  },
  {
   "cell_type": "markdown",
   "metadata": {},
   "source": [
    "---\n",
    "## III. DATA ACQUISITION & PREP"
   ]
  },
  {
   "cell_type": "markdown",
   "metadata": {},
   "source": [
    "---\n",
    "## IV. EXPLORATORY DATA ANALYSIS "
   ]
  },
  {
   "cell_type": "markdown",
   "metadata": {},
   "source": [
    "### Feature Selection"
   ]
  },
  {
   "cell_type": "code",
   "execution_count": 161,
   "metadata": {},
   "outputs": [],
   "source": [
    "big = pd.read_csv(\"train_maybe_final.csv\")"
   ]
  },
  {
   "cell_type": "code",
   "execution_count": 192,
   "metadata": {},
   "outputs": [
    {
     "data": {
      "text/plain": [
       "3485"
      ]
     },
     "execution_count": 192,
     "metadata": {},
     "output_type": "execute_result"
    }
   ],
   "source": [
    "big.installation_id.nunique()"
   ]
  },
  {
   "cell_type": "code",
   "execution_count": 162,
   "metadata": {},
   "outputs": [
    {
     "data": {
      "text/html": [
       "<div>\n",
       "<style scoped>\n",
       "    .dataframe tbody tr th:only-of-type {\n",
       "        vertical-align: middle;\n",
       "    }\n",
       "\n",
       "    .dataframe tbody tr th {\n",
       "        vertical-align: top;\n",
       "    }\n",
       "\n",
       "    .dataframe thead th {\n",
       "        text-align: right;\n",
       "    }\n",
       "</style>\n",
       "<table border=\"1\" class=\"dataframe\">\n",
       "  <thead>\n",
       "    <tr style=\"text-align: right;\">\n",
       "      <th></th>\n",
       "      <th>Unnamed: 0</th>\n",
       "      <th>event_id</th>\n",
       "      <th>game_session</th>\n",
       "      <th>timestamp</th>\n",
       "      <th>event_data</th>\n",
       "      <th>installation_id</th>\n",
       "      <th>event_count</th>\n",
       "      <th>event_code</th>\n",
       "      <th>game_time</th>\n",
       "      <th>title</th>\n",
       "      <th>type</th>\n",
       "      <th>world</th>\n",
       "      <th>num_correct</th>\n",
       "      <th>num_incorrect</th>\n",
       "      <th>accuracy</th>\n",
       "      <th>accuracy_group</th>\n",
       "      <th>date</th>\n",
       "      <th>hour</th>\n",
       "      <th>weekday</th>\n",
       "    </tr>\n",
       "  </thead>\n",
       "  <tbody>\n",
       "    <tr>\n",
       "      <th>0</th>\n",
       "      <td>0</td>\n",
       "      <td>27253bdc</td>\n",
       "      <td>34ba1a28d02ba8ba</td>\n",
       "      <td>2019-08-06 04:57:18.904000+00:00</td>\n",
       "      <td>{\"event_code\": 2000, \"event_count\": 1}</td>\n",
       "      <td>0006a69f</td>\n",
       "      <td>1</td>\n",
       "      <td>2000</td>\n",
       "      <td>0</td>\n",
       "      <td>Welcome to Lost Lagoon!</td>\n",
       "      <td>Clip</td>\n",
       "      <td>NONE</td>\n",
       "      <td>NaN</td>\n",
       "      <td>NaN</td>\n",
       "      <td>NaN</td>\n",
       "      <td>NaN</td>\n",
       "      <td>2019-08-06</td>\n",
       "      <td>4</td>\n",
       "      <td>Tuesday</td>\n",
       "    </tr>\n",
       "    <tr>\n",
       "      <th>1</th>\n",
       "      <td>1</td>\n",
       "      <td>27253bdc</td>\n",
       "      <td>4b57c9a59474a1b9</td>\n",
       "      <td>2019-08-06 04:57:45.301000+00:00</td>\n",
       "      <td>{\"event_code\": 2000, \"event_count\": 1}</td>\n",
       "      <td>0006a69f</td>\n",
       "      <td>1</td>\n",
       "      <td>2000</td>\n",
       "      <td>0</td>\n",
       "      <td>Magma Peak - Level 1</td>\n",
       "      <td>Clip</td>\n",
       "      <td>MAGMAPEAK</td>\n",
       "      <td>NaN</td>\n",
       "      <td>NaN</td>\n",
       "      <td>NaN</td>\n",
       "      <td>NaN</td>\n",
       "      <td>2019-08-06</td>\n",
       "      <td>4</td>\n",
       "      <td>Tuesday</td>\n",
       "    </tr>\n",
       "    <tr>\n",
       "      <th>2</th>\n",
       "      <td>2</td>\n",
       "      <td>77261ab5</td>\n",
       "      <td>2b9d5af79bcdb79f</td>\n",
       "      <td>2019-08-06 04:58:14.538000+00:00</td>\n",
       "      <td>{\"version\":\"1.0\",\"event_count\":1,\"game_time\":0...</td>\n",
       "      <td>0006a69f</td>\n",
       "      <td>1</td>\n",
       "      <td>2000</td>\n",
       "      <td>0</td>\n",
       "      <td>Sandcastle Builder (Activity)</td>\n",
       "      <td>Activity</td>\n",
       "      <td>MAGMAPEAK</td>\n",
       "      <td>NaN</td>\n",
       "      <td>NaN</td>\n",
       "      <td>NaN</td>\n",
       "      <td>NaN</td>\n",
       "      <td>2019-08-06</td>\n",
       "      <td>4</td>\n",
       "      <td>Tuesday</td>\n",
       "    </tr>\n",
       "    <tr>\n",
       "      <th>3</th>\n",
       "      <td>3</td>\n",
       "      <td>b2dba42b</td>\n",
       "      <td>2b9d5af79bcdb79f</td>\n",
       "      <td>2019-08-06 04:58:14.615000+00:00</td>\n",
       "      <td>{\"description\":\"Let's build a sandcastle! Firs...</td>\n",
       "      <td>0006a69f</td>\n",
       "      <td>2</td>\n",
       "      <td>3010</td>\n",
       "      <td>29</td>\n",
       "      <td>Sandcastle Builder (Activity)</td>\n",
       "      <td>Activity</td>\n",
       "      <td>MAGMAPEAK</td>\n",
       "      <td>NaN</td>\n",
       "      <td>NaN</td>\n",
       "      <td>NaN</td>\n",
       "      <td>NaN</td>\n",
       "      <td>2019-08-06</td>\n",
       "      <td>4</td>\n",
       "      <td>Tuesday</td>\n",
       "    </tr>\n",
       "    <tr>\n",
       "      <th>4</th>\n",
       "      <td>4</td>\n",
       "      <td>1325467d</td>\n",
       "      <td>2b9d5af79bcdb79f</td>\n",
       "      <td>2019-08-06 04:58:16.680000+00:00</td>\n",
       "      <td>{\"coordinates\":{\"x\":273,\"y\":650,\"stage_width\":...</td>\n",
       "      <td>0006a69f</td>\n",
       "      <td>3</td>\n",
       "      <td>4070</td>\n",
       "      <td>2137</td>\n",
       "      <td>Sandcastle Builder (Activity)</td>\n",
       "      <td>Activity</td>\n",
       "      <td>MAGMAPEAK</td>\n",
       "      <td>NaN</td>\n",
       "      <td>NaN</td>\n",
       "      <td>NaN</td>\n",
       "      <td>NaN</td>\n",
       "      <td>2019-08-06</td>\n",
       "      <td>4</td>\n",
       "      <td>Tuesday</td>\n",
       "    </tr>\n",
       "  </tbody>\n",
       "</table>\n",
       "</div>"
      ],
      "text/plain": [
       "   Unnamed: 0  event_id      game_session                         timestamp  \\\n",
       "0           0  27253bdc  34ba1a28d02ba8ba  2019-08-06 04:57:18.904000+00:00   \n",
       "1           1  27253bdc  4b57c9a59474a1b9  2019-08-06 04:57:45.301000+00:00   \n",
       "2           2  77261ab5  2b9d5af79bcdb79f  2019-08-06 04:58:14.538000+00:00   \n",
       "3           3  b2dba42b  2b9d5af79bcdb79f  2019-08-06 04:58:14.615000+00:00   \n",
       "4           4  1325467d  2b9d5af79bcdb79f  2019-08-06 04:58:16.680000+00:00   \n",
       "\n",
       "                                          event_data installation_id  \\\n",
       "0             {\"event_code\": 2000, \"event_count\": 1}        0006a69f   \n",
       "1             {\"event_code\": 2000, \"event_count\": 1}        0006a69f   \n",
       "2  {\"version\":\"1.0\",\"event_count\":1,\"game_time\":0...        0006a69f   \n",
       "3  {\"description\":\"Let's build a sandcastle! Firs...        0006a69f   \n",
       "4  {\"coordinates\":{\"x\":273,\"y\":650,\"stage_width\":...        0006a69f   \n",
       "\n",
       "   event_count  event_code  game_time                          title  \\\n",
       "0            1        2000          0        Welcome to Lost Lagoon!   \n",
       "1            1        2000          0           Magma Peak - Level 1   \n",
       "2            1        2000          0  Sandcastle Builder (Activity)   \n",
       "3            2        3010         29  Sandcastle Builder (Activity)   \n",
       "4            3        4070       2137  Sandcastle Builder (Activity)   \n",
       "\n",
       "       type      world  num_correct  num_incorrect  accuracy  accuracy_group  \\\n",
       "0      Clip       NONE          NaN            NaN       NaN             NaN   \n",
       "1      Clip  MAGMAPEAK          NaN            NaN       NaN             NaN   \n",
       "2  Activity  MAGMAPEAK          NaN            NaN       NaN             NaN   \n",
       "3  Activity  MAGMAPEAK          NaN            NaN       NaN             NaN   \n",
       "4  Activity  MAGMAPEAK          NaN            NaN       NaN             NaN   \n",
       "\n",
       "         date  hour  weekday  \n",
       "0  2019-08-06     4  Tuesday  \n",
       "1  2019-08-06     4  Tuesday  \n",
       "2  2019-08-06     4  Tuesday  \n",
       "3  2019-08-06     4  Tuesday  \n",
       "4  2019-08-06     4  Tuesday  "
      ]
     },
     "execution_count": 162,
     "metadata": {},
     "output_type": "execute_result"
    }
   ],
   "source": [
    "big.head()"
   ]
  },
  {
   "cell_type": "code",
   "execution_count": 163,
   "metadata": {},
   "outputs": [],
   "source": [
    "assessment = big[big.type == \"Assessment\"]"
   ]
  },
  {
   "cell_type": "markdown",
   "metadata": {},
   "source": [
    "#### MAX CEILING"
   ]
  },
  {
   "cell_type": "code",
   "execution_count": 227,
   "metadata": {},
   "outputs": [],
   "source": [
    "mc = assessment.groupby([\"installation_id\",\"game_session\"])[[\"accuracy\"]].max().sort_values(by=[\"installation_id\",\"accuracy\"],ascending=False).reset_index()\n",
    "mc = mc.drop_duplicates(subset=\"installation_id\",keep=\"first\")\n",
    "\n",
    "max_ceiling = mc[[\"installation_id\",\"accuracy\"]].set_index(\"installation_id\").rename(columns={\"accuracy\":\"max_ceiling\"})"
   ]
  },
  {
   "cell_type": "code",
   "execution_count": 228,
   "metadata": {},
   "outputs": [
    {
     "data": {
      "text/plain": [
       "(2496, 1)"
      ]
     },
     "execution_count": 228,
     "metadata": {},
     "output_type": "execute_result"
    }
   ],
   "source": [
    "max_ceiling.shape"
   ]
  },
  {
   "cell_type": "markdown",
   "metadata": {},
   "source": [
    "#### LOWEST POSSIBLE SCORE"
   ]
  },
  {
   "cell_type": "code",
   "execution_count": 230,
   "metadata": {},
   "outputs": [],
   "source": [
    "ls = assessment.groupby([\"installation_id\",\"game_session\"])[[\"accuracy\"]].min().sort_values(by=[\"installation_id\",\"accuracy\"],ascending=True).reset_index()\n",
    "ls = ls.drop_duplicates(subset=\"installation_id\",keep=\"first\")\n",
    "\n",
    "lowest_score = ls[[\"installation_id\",\"accuracy\"]].set_index(\"installation_id\").rename(columns={\"accuracy\":\"low_score\"})"
   ]
  },
  {
   "cell_type": "code",
   "execution_count": 231,
   "metadata": {},
   "outputs": [
    {
     "data": {
      "text/plain": [
       "(2496, 1)"
      ]
     },
     "execution_count": 231,
     "metadata": {},
     "output_type": "execute_result"
    }
   ],
   "source": [
    "lowest_score.shape"
   ]
  },
  {
   "cell_type": "markdown",
   "metadata": {},
   "source": [
    "#### MEDIAN SCORE"
   ]
  },
  {
   "cell_type": "code",
   "execution_count": 232,
   "metadata": {},
   "outputs": [],
   "source": [
    "md = assessment.groupby([\"installation_id\",\"game_session\"])[[\"accuracy\"]].median().sort_values(by=[\"installation_id\",\"accuracy\"]).reset_index()\n",
    "md = md.drop_duplicates(subset=\"installation_id\",keep=\"first\")\n",
    "\n",
    "median_score = md[[\"installation_id\",\"accuracy\"]].set_index(\"installation_id\").rename(columns={\"accuracy\":\"median_score\"})"
   ]
  },
  {
   "cell_type": "code",
   "execution_count": 233,
   "metadata": {},
   "outputs": [
    {
     "data": {
      "text/plain": [
       "(2496, 1)"
      ]
     },
     "execution_count": 233,
     "metadata": {},
     "output_type": "execute_result"
    }
   ],
   "source": [
    "median_score.shape"
   ]
  },
  {
   "cell_type": "markdown",
   "metadata": {},
   "source": [
    "#### NUMBER OF ACTIONS"
   ]
  },
  {
   "cell_type": "code",
   "execution_count": 255,
   "metadata": {},
   "outputs": [],
   "source": [
    "actions = assessment.groupby(['installation_id','game_session'])[['event_id']].count().reset_index().groupby(\"installation_id\").sum().reset_index()\n",
    "\n",
    "actions = actions[[\"installation_id\",\"event_id\"]].set_index(\"installation_id\").rename(columns={\"event_id\":\"no_actions\"})"
   ]
  },
  {
   "cell_type": "code",
   "execution_count": 257,
   "metadata": {},
   "outputs": [
    {
     "data": {
      "text/plain": [
       "(2496, 1)"
      ]
     },
     "execution_count": 257,
     "metadata": {},
     "output_type": "execute_result"
    }
   ],
   "source": [
    "actions.shape"
   ]
  },
  {
   "cell_type": "markdown",
   "metadata": {},
   "source": [
    "#### NUMBER OF INCORRECT"
   ]
  },
  {
   "cell_type": "code",
   "execution_count": 267,
   "metadata": {},
   "outputs": [],
   "source": [
    "no_incorrect = assessment.groupby(['installation_id','game_session'])[['num_incorrect']].count().reset_index().groupby(\"installation_id\").sum()"
   ]
  },
  {
   "cell_type": "code",
   "execution_count": 268,
   "metadata": {},
   "outputs": [
    {
     "data": {
      "text/plain": [
       "(2496, 1)"
      ]
     },
     "execution_count": 268,
     "metadata": {},
     "output_type": "execute_result"
    }
   ],
   "source": [
    "no_incorrect.shape"
   ]
  },
  {
   "cell_type": "markdown",
   "metadata": {},
   "source": [
    "#### ACCURACY TENDENCY"
   ]
  },
  {
   "cell_type": "code",
   "execution_count": 349,
   "metadata": {},
   "outputs": [],
   "source": [
    "tendency = assessment.groupby(['installation_id','game_session',\"accuracy\"])[['accuracy']].count().rename(columns={\"accuracy\":\"acc\"}).sort_values(by=[\"installation_id\",\"acc\"],ascending=False).reset_index()\n",
    "\n",
    "tendency = tendency.drop_duplicates(subset=\"installation_id\",keep=\"first\")\n",
    "tendency = tendency[[\"installation_id\",\"accuracy\"]]"
   ]
  },
  {
   "cell_type": "code",
   "execution_count": 350,
   "metadata": {},
   "outputs": [],
   "source": [
    "condition_list = [tendency.accuracy == 0, tendency.accuracy == 0.5,tendency.accuracy == 1, (~tendency.accuracy.isin([0,1,0.5]))]\n",
    "choice_list = [\"low_scorer\",\"avg_scorer\",\"high_scorer\",\"random_scorer\"]\n",
    "\n",
    "tendency[\"group\"] = np.select(condition_list,choice_list,0)"
   ]
  },
  {
   "cell_type": "code",
   "execution_count": 351,
   "metadata": {},
   "outputs": [],
   "source": [
    "tendency = pd.get_dummies(tendency,columns=[\"group\"], prefix=\"tendency\")\n",
    "tendency = tendency[['installation_id','tendency_avg_scorer','tendency_high_scorer', 'tendency_low_scorer','tendency_random_scorer']].set_index(\"installation_id\")"
   ]
  },
  {
   "cell_type": "code",
   "execution_count": 355,
   "metadata": {},
   "outputs": [
    {
     "data": {
      "text/plain": [
       "(2496, 4)"
      ]
     },
     "execution_count": 355,
     "metadata": {},
     "output_type": "execute_result"
    }
   ],
   "source": [
    "tendency.shape"
   ]
  },
  {
   "cell_type": "code",
   "execution_count": 353,
   "metadata": {},
   "outputs": [],
   "source": [
    "qu = max_ceiling.join([lowest_score,median_score,actions,no_incorrect,tendency])"
   ]
  },
  {
   "cell_type": "code",
   "execution_count": 354,
   "metadata": {},
   "outputs": [
    {
     "data": {
      "text/html": [
       "<div>\n",
       "<style scoped>\n",
       "    .dataframe tbody tr th:only-of-type {\n",
       "        vertical-align: middle;\n",
       "    }\n",
       "\n",
       "    .dataframe tbody tr th {\n",
       "        vertical-align: top;\n",
       "    }\n",
       "\n",
       "    .dataframe thead th {\n",
       "        text-align: right;\n",
       "    }\n",
       "</style>\n",
       "<table border=\"1\" class=\"dataframe\">\n",
       "  <thead>\n",
       "    <tr style=\"text-align: right;\">\n",
       "      <th></th>\n",
       "      <th>max_ceiling</th>\n",
       "      <th>low_score</th>\n",
       "      <th>median_score</th>\n",
       "      <th>no_actions</th>\n",
       "      <th>num_incorrect</th>\n",
       "      <th>tendency_avg_scorer</th>\n",
       "      <th>tendency_high_scorer</th>\n",
       "      <th>tendency_low_scorer</th>\n",
       "      <th>tendency_random_scorer</th>\n",
       "    </tr>\n",
       "    <tr>\n",
       "      <th>installation_id</th>\n",
       "      <th></th>\n",
       "      <th></th>\n",
       "      <th></th>\n",
       "      <th></th>\n",
       "      <th></th>\n",
       "      <th></th>\n",
       "      <th></th>\n",
       "      <th></th>\n",
       "      <th></th>\n",
       "    </tr>\n",
       "  </thead>\n",
       "  <tbody>\n",
       "    <tr>\n",
       "      <th>ffeb0b1b</th>\n",
       "      <td>0.333333</td>\n",
       "      <td>0.000000</td>\n",
       "      <td>0.000000</td>\n",
       "      <td>186</td>\n",
       "      <td>186</td>\n",
       "      <td>0</td>\n",
       "      <td>0</td>\n",
       "      <td>1</td>\n",
       "      <td>0</td>\n",
       "    </tr>\n",
       "    <tr>\n",
       "      <th>ffc90c32</th>\n",
       "      <td>1.000000</td>\n",
       "      <td>0.333333</td>\n",
       "      <td>0.333333</td>\n",
       "      <td>204</td>\n",
       "      <td>204</td>\n",
       "      <td>0</td>\n",
       "      <td>0</td>\n",
       "      <td>0</td>\n",
       "      <td>1</td>\n",
       "    </tr>\n",
       "    <tr>\n",
       "      <th>ff9715db</th>\n",
       "      <td>1.000000</td>\n",
       "      <td>0.000000</td>\n",
       "      <td>0.000000</td>\n",
       "      <td>329</td>\n",
       "      <td>329</td>\n",
       "      <td>0</td>\n",
       "      <td>0</td>\n",
       "      <td>1</td>\n",
       "      <td>0</td>\n",
       "    </tr>\n",
       "    <tr>\n",
       "      <th>ff9305d7</th>\n",
       "      <td>0.076923</td>\n",
       "      <td>0.000000</td>\n",
       "      <td>0.000000</td>\n",
       "      <td>330</td>\n",
       "      <td>330</td>\n",
       "      <td>0</td>\n",
       "      <td>0</td>\n",
       "      <td>0</td>\n",
       "      <td>1</td>\n",
       "    </tr>\n",
       "    <tr>\n",
       "      <th>ff90db99</th>\n",
       "      <td>1.000000</td>\n",
       "      <td>0.333333</td>\n",
       "      <td>0.333333</td>\n",
       "      <td>273</td>\n",
       "      <td>273</td>\n",
       "      <td>0</td>\n",
       "      <td>0</td>\n",
       "      <td>0</td>\n",
       "      <td>1</td>\n",
       "    </tr>\n",
       "  </tbody>\n",
       "</table>\n",
       "</div>"
      ],
      "text/plain": [
       "                 max_ceiling  low_score  median_score  no_actions  \\\n",
       "installation_id                                                     \n",
       "ffeb0b1b            0.333333   0.000000      0.000000         186   \n",
       "ffc90c32            1.000000   0.333333      0.333333         204   \n",
       "ff9715db            1.000000   0.000000      0.000000         329   \n",
       "ff9305d7            0.076923   0.000000      0.000000         330   \n",
       "ff90db99            1.000000   0.333333      0.333333         273   \n",
       "\n",
       "                 num_incorrect  tendency_avg_scorer  tendency_high_scorer  \\\n",
       "installation_id                                                             \n",
       "ffeb0b1b                   186                    0                     0   \n",
       "ffc90c32                   204                    0                     0   \n",
       "ff9715db                   329                    0                     0   \n",
       "ff9305d7                   330                    0                     0   \n",
       "ff90db99                   273                    0                     0   \n",
       "\n",
       "                 tendency_low_scorer  tendency_random_scorer  \n",
       "installation_id                                               \n",
       "ffeb0b1b                           1                       0  \n",
       "ffc90c32                           0                       1  \n",
       "ff9715db                           1                       0  \n",
       "ff9305d7                           0                       1  \n",
       "ff90db99                           0                       1  "
      ]
     },
     "execution_count": 354,
     "metadata": {},
     "output_type": "execute_result"
    }
   ],
   "source": [
    "qu.head()"
   ]
  },
  {
   "cell_type": "code",
   "execution_count": 356,
   "metadata": {},
   "outputs": [],
   "source": [
    "qu.to_csv(\"cris_df.csv\")"
   ]
  },
  {
   "cell_type": "markdown",
   "metadata": {},
   "source": [
    "---\n",
    "## V. TEST-TRAIN SPLIT & FEATURE ENGINEERING "
   ]
  },
  {
   "cell_type": "markdown",
   "metadata": {},
   "source": [
    "Acquire \"tidy\" data frames with features and y for feature engineering."
   ]
  },
  {
   "cell_type": "code",
   "execution_count": 357,
   "metadata": {},
   "outputs": [],
   "source": [
    "# Features on separate data frames\n",
    "qu = pd.read_csv(\"cris_df.csv\")\n",
    "be = pd.read_csv(\"beta.csv\")"
   ]
  },
  {
   "cell_type": "code",
   "execution_count": 358,
   "metadata": {},
   "outputs": [],
   "source": [
    "qu.set_index(\"installation_id\",inplace=True)\n",
    "be.set_index(\"installation_id\",inplace=True)"
   ]
  },
  {
   "cell_type": "code",
   "execution_count": 364,
   "metadata": {},
   "outputs": [
    {
     "name": "stdout",
     "output_type": "stream",
     "text": [
      "shape:(3523, 44)\n"
     ]
    },
    {
     "data": {
      "text/html": [
       "<div>\n",
       "<style scoped>\n",
       "    .dataframe tbody tr th:only-of-type {\n",
       "        vertical-align: middle;\n",
       "    }\n",
       "\n",
       "    .dataframe tbody tr th {\n",
       "        vertical-align: top;\n",
       "    }\n",
       "\n",
       "    .dataframe thead th {\n",
       "        text-align: right;\n",
       "    }\n",
       "</style>\n",
       "<table border=\"1\" class=\"dataframe\">\n",
       "  <thead>\n",
       "    <tr style=\"text-align: right;\">\n",
       "      <th></th>\n",
       "      <th>0.0</th>\n",
       "      <th>1.0</th>\n",
       "      <th>2.0</th>\n",
       "      <th>3.0</th>\n",
       "      <th>Activity</th>\n",
       "      <th>Assessment</th>\n",
       "      <th>Clip</th>\n",
       "      <th>Game</th>\n",
       "      <th>accuracy_group</th>\n",
       "      <th>assesments_CC</th>\n",
       "      <th>...</th>\n",
       "      <th>bird_min</th>\n",
       "      <th>cart_min</th>\n",
       "      <th>cauld_min</th>\n",
       "      <th>chest_min</th>\n",
       "      <th>shroom_min</th>\n",
       "      <th>bird_max</th>\n",
       "      <th>cart_max</th>\n",
       "      <th>cauld_max</th>\n",
       "      <th>chest_max</th>\n",
       "      <th>shroom_max</th>\n",
       "    </tr>\n",
       "    <tr>\n",
       "      <th>installation_id</th>\n",
       "      <th></th>\n",
       "      <th></th>\n",
       "      <th></th>\n",
       "      <th></th>\n",
       "      <th></th>\n",
       "      <th></th>\n",
       "      <th></th>\n",
       "      <th></th>\n",
       "      <th></th>\n",
       "      <th></th>\n",
       "      <th></th>\n",
       "      <th></th>\n",
       "      <th></th>\n",
       "      <th></th>\n",
       "      <th></th>\n",
       "      <th></th>\n",
       "      <th></th>\n",
       "      <th></th>\n",
       "      <th></th>\n",
       "      <th></th>\n",
       "      <th></th>\n",
       "    </tr>\n",
       "  </thead>\n",
       "  <tbody>\n",
       "    <tr>\n",
       "      <th>0006a69f</th>\n",
       "      <td>1.0</td>\n",
       "      <td>0.0</td>\n",
       "      <td>1.0</td>\n",
       "      <td>2.0</td>\n",
       "      <td>10.0</td>\n",
       "      <td>4.0</td>\n",
       "      <td>28.0</td>\n",
       "      <td>13.0</td>\n",
       "      <td>3.0</td>\n",
       "      <td>0.0</td>\n",
       "      <td>...</td>\n",
       "      <td>0.0</td>\n",
       "      <td>0.0</td>\n",
       "      <td>0.0</td>\n",
       "      <td>0.0</td>\n",
       "      <td>0.5</td>\n",
       "      <td>0.0</td>\n",
       "      <td>0.0</td>\n",
       "      <td>0.0</td>\n",
       "      <td>0.0</td>\n",
       "      <td>1.0</td>\n",
       "    </tr>\n",
       "    <tr>\n",
       "      <th>0006c192</th>\n",
       "      <td>1.0</td>\n",
       "      <td>0.0</td>\n",
       "      <td>0.0</td>\n",
       "      <td>1.0</td>\n",
       "      <td>8.0</td>\n",
       "      <td>2.0</td>\n",
       "      <td>30.0</td>\n",
       "      <td>6.0</td>\n",
       "      <td>2.0</td>\n",
       "      <td>0.0</td>\n",
       "      <td>...</td>\n",
       "      <td>0.0</td>\n",
       "      <td>0.0</td>\n",
       "      <td>1.0</td>\n",
       "      <td>0.0</td>\n",
       "      <td>0.0</td>\n",
       "      <td>0.0</td>\n",
       "      <td>0.0</td>\n",
       "      <td>1.0</td>\n",
       "      <td>0.0</td>\n",
       "      <td>0.0</td>\n",
       "    </tr>\n",
       "    <tr>\n",
       "      <th>00129856</th>\n",
       "      <td>0.0</td>\n",
       "      <td>0.0</td>\n",
       "      <td>0.0</td>\n",
       "      <td>0.0</td>\n",
       "      <td>0.0</td>\n",
       "      <td>0.0</td>\n",
       "      <td>0.0</td>\n",
       "      <td>0.0</td>\n",
       "      <td>3.0</td>\n",
       "      <td>0.0</td>\n",
       "      <td>...</td>\n",
       "      <td>0.0</td>\n",
       "      <td>0.0</td>\n",
       "      <td>0.0</td>\n",
       "      <td>0.0</td>\n",
       "      <td>0.0</td>\n",
       "      <td>0.0</td>\n",
       "      <td>0.0</td>\n",
       "      <td>0.0</td>\n",
       "      <td>0.0</td>\n",
       "      <td>0.0</td>\n",
       "    </tr>\n",
       "    <tr>\n",
       "      <th>001d0ed0</th>\n",
       "      <td>1.0</td>\n",
       "      <td>0.0</td>\n",
       "      <td>1.0</td>\n",
       "      <td>2.0</td>\n",
       "      <td>1.0</td>\n",
       "      <td>4.0</td>\n",
       "      <td>19.0</td>\n",
       "      <td>3.0</td>\n",
       "      <td>0.0</td>\n",
       "      <td>1.0</td>\n",
       "      <td>...</td>\n",
       "      <td>0.0</td>\n",
       "      <td>1.0</td>\n",
       "      <td>0.0</td>\n",
       "      <td>0.0</td>\n",
       "      <td>0.5</td>\n",
       "      <td>0.0</td>\n",
       "      <td>1.0</td>\n",
       "      <td>0.0</td>\n",
       "      <td>0.0</td>\n",
       "      <td>1.0</td>\n",
       "    </tr>\n",
       "    <tr>\n",
       "      <th>00225f67</th>\n",
       "      <td>0.0</td>\n",
       "      <td>0.0</td>\n",
       "      <td>0.0</td>\n",
       "      <td>0.0</td>\n",
       "      <td>3.0</td>\n",
       "      <td>0.0</td>\n",
       "      <td>10.0</td>\n",
       "      <td>3.0</td>\n",
       "      <td>0.0</td>\n",
       "      <td>0.0</td>\n",
       "      <td>...</td>\n",
       "      <td>0.0</td>\n",
       "      <td>0.0</td>\n",
       "      <td>0.0</td>\n",
       "      <td>0.0</td>\n",
       "      <td>0.0</td>\n",
       "      <td>0.0</td>\n",
       "      <td>0.0</td>\n",
       "      <td>0.0</td>\n",
       "      <td>0.0</td>\n",
       "      <td>0.0</td>\n",
       "    </tr>\n",
       "  </tbody>\n",
       "</table>\n",
       "<p>5 rows × 44 columns</p>\n",
       "</div>"
      ],
      "text/plain": [
       "                 0.0  1.0  2.0  3.0  Activity  Assessment  Clip  Game  \\\n",
       "installation_id                                                         \n",
       "0006a69f         1.0  0.0  1.0  2.0      10.0         4.0  28.0  13.0   \n",
       "0006c192         1.0  0.0  0.0  1.0       8.0         2.0  30.0   6.0   \n",
       "00129856         0.0  0.0  0.0  0.0       0.0         0.0   0.0   0.0   \n",
       "001d0ed0         1.0  0.0  1.0  2.0       1.0         4.0  19.0   3.0   \n",
       "00225f67         0.0  0.0  0.0  0.0       3.0         0.0  10.0   3.0   \n",
       "\n",
       "                 accuracy_group  assesments_CC  ...  bird_min  cart_min  \\\n",
       "installation_id                                 ...                       \n",
       "0006a69f                    3.0            0.0  ...       0.0       0.0   \n",
       "0006c192                    2.0            0.0  ...       0.0       0.0   \n",
       "00129856                    3.0            0.0  ...       0.0       0.0   \n",
       "001d0ed0                    0.0            1.0  ...       0.0       1.0   \n",
       "00225f67                    0.0            0.0  ...       0.0       0.0   \n",
       "\n",
       "                 cauld_min  chest_min  shroom_min  bird_max  cart_max  \\\n",
       "installation_id                                                         \n",
       "0006a69f               0.0        0.0         0.5       0.0       0.0   \n",
       "0006c192               1.0        0.0         0.0       0.0       0.0   \n",
       "00129856               0.0        0.0         0.0       0.0       0.0   \n",
       "001d0ed0               0.0        0.0         0.5       0.0       1.0   \n",
       "00225f67               0.0        0.0         0.0       0.0       0.0   \n",
       "\n",
       "                 cauld_max  chest_max  shroom_max  \n",
       "installation_id                                    \n",
       "0006a69f               0.0        0.0         1.0  \n",
       "0006c192               1.0        0.0         0.0  \n",
       "00129856               0.0        0.0         0.0  \n",
       "001d0ed0               0.0        0.0         1.0  \n",
       "00225f67               0.0        0.0         0.0  \n",
       "\n",
       "[5 rows x 44 columns]"
      ]
     },
     "execution_count": 364,
     "metadata": {},
     "output_type": "execute_result"
    }
   ],
   "source": [
    "print(f\"shape:{be.shape}\")\n",
    "be.head()"
   ]
  },
  {
   "cell_type": "code",
   "execution_count": 361,
   "metadata": {},
   "outputs": [
    {
     "name": "stdout",
     "output_type": "stream",
     "text": [
      "shape:(2496, 9)\n"
     ]
    },
    {
     "data": {
      "text/html": [
       "<div>\n",
       "<style scoped>\n",
       "    .dataframe tbody tr th:only-of-type {\n",
       "        vertical-align: middle;\n",
       "    }\n",
       "\n",
       "    .dataframe tbody tr th {\n",
       "        vertical-align: top;\n",
       "    }\n",
       "\n",
       "    .dataframe thead th {\n",
       "        text-align: right;\n",
       "    }\n",
       "</style>\n",
       "<table border=\"1\" class=\"dataframe\">\n",
       "  <thead>\n",
       "    <tr style=\"text-align: right;\">\n",
       "      <th></th>\n",
       "      <th>max_ceiling</th>\n",
       "      <th>low_score</th>\n",
       "      <th>median_score</th>\n",
       "      <th>no_actions</th>\n",
       "      <th>num_incorrect</th>\n",
       "      <th>tendency_avg_scorer</th>\n",
       "      <th>tendency_high_scorer</th>\n",
       "      <th>tendency_low_scorer</th>\n",
       "      <th>tendency_random_scorer</th>\n",
       "    </tr>\n",
       "    <tr>\n",
       "      <th>installation_id</th>\n",
       "      <th></th>\n",
       "      <th></th>\n",
       "      <th></th>\n",
       "      <th></th>\n",
       "      <th></th>\n",
       "      <th></th>\n",
       "      <th></th>\n",
       "      <th></th>\n",
       "      <th></th>\n",
       "    </tr>\n",
       "  </thead>\n",
       "  <tbody>\n",
       "    <tr>\n",
       "      <th>ffeb0b1b</th>\n",
       "      <td>0.333333</td>\n",
       "      <td>0.000000</td>\n",
       "      <td>0.000000</td>\n",
       "      <td>186</td>\n",
       "      <td>186</td>\n",
       "      <td>0</td>\n",
       "      <td>0</td>\n",
       "      <td>1</td>\n",
       "      <td>0</td>\n",
       "    </tr>\n",
       "    <tr>\n",
       "      <th>ffc90c32</th>\n",
       "      <td>1.000000</td>\n",
       "      <td>0.333333</td>\n",
       "      <td>0.333333</td>\n",
       "      <td>204</td>\n",
       "      <td>204</td>\n",
       "      <td>0</td>\n",
       "      <td>0</td>\n",
       "      <td>0</td>\n",
       "      <td>1</td>\n",
       "    </tr>\n",
       "    <tr>\n",
       "      <th>ff9715db</th>\n",
       "      <td>1.000000</td>\n",
       "      <td>0.000000</td>\n",
       "      <td>0.000000</td>\n",
       "      <td>329</td>\n",
       "      <td>329</td>\n",
       "      <td>0</td>\n",
       "      <td>0</td>\n",
       "      <td>1</td>\n",
       "      <td>0</td>\n",
       "    </tr>\n",
       "    <tr>\n",
       "      <th>ff9305d7</th>\n",
       "      <td>0.076923</td>\n",
       "      <td>0.000000</td>\n",
       "      <td>0.000000</td>\n",
       "      <td>330</td>\n",
       "      <td>330</td>\n",
       "      <td>0</td>\n",
       "      <td>0</td>\n",
       "      <td>0</td>\n",
       "      <td>1</td>\n",
       "    </tr>\n",
       "    <tr>\n",
       "      <th>ff90db99</th>\n",
       "      <td>1.000000</td>\n",
       "      <td>0.333333</td>\n",
       "      <td>0.333333</td>\n",
       "      <td>273</td>\n",
       "      <td>273</td>\n",
       "      <td>0</td>\n",
       "      <td>0</td>\n",
       "      <td>0</td>\n",
       "      <td>1</td>\n",
       "    </tr>\n",
       "  </tbody>\n",
       "</table>\n",
       "</div>"
      ],
      "text/plain": [
       "                 max_ceiling  low_score  median_score  no_actions  \\\n",
       "installation_id                                                     \n",
       "ffeb0b1b            0.333333   0.000000      0.000000         186   \n",
       "ffc90c32            1.000000   0.333333      0.333333         204   \n",
       "ff9715db            1.000000   0.000000      0.000000         329   \n",
       "ff9305d7            0.076923   0.000000      0.000000         330   \n",
       "ff90db99            1.000000   0.333333      0.333333         273   \n",
       "\n",
       "                 num_incorrect  tendency_avg_scorer  tendency_high_scorer  \\\n",
       "installation_id                                                             \n",
       "ffeb0b1b                   186                    0                     0   \n",
       "ffc90c32                   204                    0                     0   \n",
       "ff9715db                   329                    0                     0   \n",
       "ff9305d7                   330                    0                     0   \n",
       "ff90db99                   273                    0                     0   \n",
       "\n",
       "                 tendency_low_scorer  tendency_random_scorer  \n",
       "installation_id                                               \n",
       "ffeb0b1b                           1                       0  \n",
       "ffc90c32                           0                       1  \n",
       "ff9715db                           1                       0  \n",
       "ff9305d7                           0                       1  \n",
       "ff90db99                           0                       1  "
      ]
     },
     "execution_count": 361,
     "metadata": {},
     "output_type": "execute_result"
    }
   ],
   "source": [
    "print(f\"shape:{qu.shape}\")\n",
    "qu.head()"
   ]
  },
  {
   "cell_type": "markdown",
   "metadata": {},
   "source": [
    "#### MERGING WITH BETA"
   ]
  },
  {
   "cell_type": "code",
   "execution_count": 480,
   "metadata": {},
   "outputs": [
    {
     "data": {
      "text/html": [
       "<div>\n",
       "<style scoped>\n",
       "    .dataframe tbody tr th:only-of-type {\n",
       "        vertical-align: middle;\n",
       "    }\n",
       "\n",
       "    .dataframe tbody tr th {\n",
       "        vertical-align: top;\n",
       "    }\n",
       "\n",
       "    .dataframe thead th {\n",
       "        text-align: right;\n",
       "    }\n",
       "</style>\n",
       "<table border=\"1\" class=\"dataframe\">\n",
       "  <thead>\n",
       "    <tr style=\"text-align: right;\">\n",
       "      <th></th>\n",
       "      <th>0.0</th>\n",
       "      <th>1.0</th>\n",
       "      <th>2.0</th>\n",
       "      <th>3.0</th>\n",
       "      <th>Activity</th>\n",
       "      <th>Assessment</th>\n",
       "      <th>Clip</th>\n",
       "      <th>Game</th>\n",
       "      <th>assesments_CC</th>\n",
       "      <th>assessments_MP</th>\n",
       "      <th>...</th>\n",
       "      <th>shroom_max</th>\n",
       "      <th>max_ceiling</th>\n",
       "      <th>low_score</th>\n",
       "      <th>median_score</th>\n",
       "      <th>no_actions</th>\n",
       "      <th>num_incorrect</th>\n",
       "      <th>tendency_avg_scorer</th>\n",
       "      <th>tendency_high_scorer</th>\n",
       "      <th>tendency_low_scorer</th>\n",
       "      <th>tendency_random_scorer</th>\n",
       "    </tr>\n",
       "    <tr>\n",
       "      <th>installation_id</th>\n",
       "      <th></th>\n",
       "      <th></th>\n",
       "      <th></th>\n",
       "      <th></th>\n",
       "      <th></th>\n",
       "      <th></th>\n",
       "      <th></th>\n",
       "      <th></th>\n",
       "      <th></th>\n",
       "      <th></th>\n",
       "      <th></th>\n",
       "      <th></th>\n",
       "      <th></th>\n",
       "      <th></th>\n",
       "      <th></th>\n",
       "      <th></th>\n",
       "      <th></th>\n",
       "      <th></th>\n",
       "      <th></th>\n",
       "      <th></th>\n",
       "      <th></th>\n",
       "    </tr>\n",
       "  </thead>\n",
       "  <tbody>\n",
       "    <tr>\n",
       "      <th>0006a69f</th>\n",
       "      <td>1.0</td>\n",
       "      <td>0.0</td>\n",
       "      <td>1.0</td>\n",
       "      <td>2.0</td>\n",
       "      <td>10.0</td>\n",
       "      <td>4.0</td>\n",
       "      <td>28.0</td>\n",
       "      <td>13.0</td>\n",
       "      <td>0.0</td>\n",
       "      <td>0.0</td>\n",
       "      <td>...</td>\n",
       "      <td>1.0</td>\n",
       "      <td>1.0</td>\n",
       "      <td>0.0</td>\n",
       "      <td>0.0</td>\n",
       "      <td>212.0</td>\n",
       "      <td>212.0</td>\n",
       "      <td>0.0</td>\n",
       "      <td>0.0</td>\n",
       "      <td>1.0</td>\n",
       "      <td>0.0</td>\n",
       "    </tr>\n",
       "    <tr>\n",
       "      <th>0006c192</th>\n",
       "      <td>1.0</td>\n",
       "      <td>0.0</td>\n",
       "      <td>0.0</td>\n",
       "      <td>1.0</td>\n",
       "      <td>8.0</td>\n",
       "      <td>2.0</td>\n",
       "      <td>30.0</td>\n",
       "      <td>6.0</td>\n",
       "      <td>0.0</td>\n",
       "      <td>1.0</td>\n",
       "      <td>...</td>\n",
       "      <td>0.0</td>\n",
       "      <td>1.0</td>\n",
       "      <td>0.0</td>\n",
       "      <td>0.0</td>\n",
       "      <td>140.0</td>\n",
       "      <td>140.0</td>\n",
       "      <td>0.0</td>\n",
       "      <td>0.0</td>\n",
       "      <td>1.0</td>\n",
       "      <td>0.0</td>\n",
       "    </tr>\n",
       "    <tr>\n",
       "      <th>00129856</th>\n",
       "      <td>0.0</td>\n",
       "      <td>0.0</td>\n",
       "      <td>0.0</td>\n",
       "      <td>0.0</td>\n",
       "      <td>0.0</td>\n",
       "      <td>0.0</td>\n",
       "      <td>0.0</td>\n",
       "      <td>0.0</td>\n",
       "      <td>0.0</td>\n",
       "      <td>0.0</td>\n",
       "      <td>...</td>\n",
       "      <td>0.0</td>\n",
       "      <td>NaN</td>\n",
       "      <td>NaN</td>\n",
       "      <td>NaN</td>\n",
       "      <td>NaN</td>\n",
       "      <td>NaN</td>\n",
       "      <td>NaN</td>\n",
       "      <td>NaN</td>\n",
       "      <td>NaN</td>\n",
       "      <td>NaN</td>\n",
       "    </tr>\n",
       "    <tr>\n",
       "      <th>001d0ed0</th>\n",
       "      <td>1.0</td>\n",
       "      <td>0.0</td>\n",
       "      <td>1.0</td>\n",
       "      <td>2.0</td>\n",
       "      <td>1.0</td>\n",
       "      <td>4.0</td>\n",
       "      <td>19.0</td>\n",
       "      <td>3.0</td>\n",
       "      <td>1.0</td>\n",
       "      <td>0.0</td>\n",
       "      <td>...</td>\n",
       "      <td>1.0</td>\n",
       "      <td>1.0</td>\n",
       "      <td>0.0</td>\n",
       "      <td>0.0</td>\n",
       "      <td>165.0</td>\n",
       "      <td>165.0</td>\n",
       "      <td>1.0</td>\n",
       "      <td>0.0</td>\n",
       "      <td>0.0</td>\n",
       "      <td>0.0</td>\n",
       "    </tr>\n",
       "    <tr>\n",
       "      <th>00225f67</th>\n",
       "      <td>0.0</td>\n",
       "      <td>0.0</td>\n",
       "      <td>0.0</td>\n",
       "      <td>0.0</td>\n",
       "      <td>3.0</td>\n",
       "      <td>0.0</td>\n",
       "      <td>10.0</td>\n",
       "      <td>3.0</td>\n",
       "      <td>0.0</td>\n",
       "      <td>0.0</td>\n",
       "      <td>...</td>\n",
       "      <td>0.0</td>\n",
       "      <td>NaN</td>\n",
       "      <td>NaN</td>\n",
       "      <td>NaN</td>\n",
       "      <td>NaN</td>\n",
       "      <td>NaN</td>\n",
       "      <td>NaN</td>\n",
       "      <td>NaN</td>\n",
       "      <td>NaN</td>\n",
       "      <td>NaN</td>\n",
       "    </tr>\n",
       "  </tbody>\n",
       "</table>\n",
       "<p>5 rows × 52 columns</p>\n",
       "</div>"
      ],
      "text/plain": [
       "                 0.0  1.0  2.0  3.0  Activity  Assessment  Clip  Game  \\\n",
       "installation_id                                                         \n",
       "0006a69f         1.0  0.0  1.0  2.0      10.0         4.0  28.0  13.0   \n",
       "0006c192         1.0  0.0  0.0  1.0       8.0         2.0  30.0   6.0   \n",
       "00129856         0.0  0.0  0.0  0.0       0.0         0.0   0.0   0.0   \n",
       "001d0ed0         1.0  0.0  1.0  2.0       1.0         4.0  19.0   3.0   \n",
       "00225f67         0.0  0.0  0.0  0.0       3.0         0.0  10.0   3.0   \n",
       "\n",
       "                 assesments_CC  assessments_MP  ...  shroom_max  max_ceiling  \\\n",
       "installation_id                                 ...                            \n",
       "0006a69f                   0.0             0.0  ...         1.0          1.0   \n",
       "0006c192                   0.0             1.0  ...         0.0          1.0   \n",
       "00129856                   0.0             0.0  ...         0.0          NaN   \n",
       "001d0ed0                   1.0             0.0  ...         1.0          1.0   \n",
       "00225f67                   0.0             0.0  ...         0.0          NaN   \n",
       "\n",
       "                 low_score  median_score  no_actions  num_incorrect  \\\n",
       "installation_id                                                       \n",
       "0006a69f               0.0           0.0       212.0          212.0   \n",
       "0006c192               0.0           0.0       140.0          140.0   \n",
       "00129856               NaN           NaN         NaN            NaN   \n",
       "001d0ed0               0.0           0.0       165.0          165.0   \n",
       "00225f67               NaN           NaN         NaN            NaN   \n",
       "\n",
       "                 tendency_avg_scorer  tendency_high_scorer  \\\n",
       "installation_id                                              \n",
       "0006a69f                         0.0                   0.0   \n",
       "0006c192                         0.0                   0.0   \n",
       "00129856                         NaN                   NaN   \n",
       "001d0ed0                         1.0                   0.0   \n",
       "00225f67                         NaN                   NaN   \n",
       "\n",
       "                 tendency_low_scorer  tendency_random_scorer  \n",
       "installation_id                                               \n",
       "0006a69f                         1.0                     0.0  \n",
       "0006c192                         1.0                     0.0  \n",
       "00129856                         NaN                     NaN  \n",
       "001d0ed0                         0.0                     0.0  \n",
       "00225f67                         NaN                     NaN  \n",
       "\n",
       "[5 rows x 52 columns]"
      ]
     },
     "execution_count": 480,
     "metadata": {},
     "output_type": "execute_result"
    }
   ],
   "source": [
    "features = be.join(qu,how=\"left\")\n",
    "features = features.copy().drop(columns=\"accuracy_group\")\n",
    "features.head()"
   ]
  },
  {
   "cell_type": "markdown",
   "metadata": {},
   "source": [
    "#### REMOVE NA_USERS ON TRAIN"
   ]
  },
  {
   "cell_type": "code",
   "execution_count": 493,
   "metadata": {},
   "outputs": [],
   "source": [
    "na_users = list(features[features.max_ceiling.isna()].index)"
   ]
  },
  {
   "cell_type": "code",
   "execution_count": 500,
   "metadata": {},
   "outputs": [],
   "source": [
    "features = features[~features.index.isin(na_users)]"
   ]
  },
  {
   "cell_type": "code",
   "execution_count": 502,
   "metadata": {},
   "outputs": [],
   "source": [
    "# Data Frame with accuracy group, i.e., the \"y\" or target\n",
    "y = pd.read_csv(\"last_assessments.csv\")\n",
    "y = y[[\"installation_id\",\"accuracy_group\"]].set_index(\"installation_id\")\n",
    "y = y[~y.index.isin(na_users)]"
   ]
  },
  {
   "cell_type": "code",
   "execution_count": 505,
   "metadata": {},
   "outputs": [
    {
     "name": "stdout",
     "output_type": "stream",
     "text": [
      "Features Shape: (2496, 52)\n",
      "y Shape: (2496, 1)\n"
     ]
    }
   ],
   "source": [
    "print(f\"Features Shape: {features.shape}\")\n",
    "print(f\"y Shape: {y.shape}\")"
   ]
  },
  {
   "cell_type": "markdown",
   "metadata": {},
   "source": [
    "### Scale"
   ]
  },
  {
   "cell_type": "code",
   "execution_count": 506,
   "metadata": {},
   "outputs": [],
   "source": [
    "scaler = StandardScaler()\n",
    "scaled_features = pd.DataFrame(scaler.fit_transform(features),columns=features.columns).set_index(features.index)"
   ]
  },
  {
   "cell_type": "code",
   "execution_count": 507,
   "metadata": {},
   "outputs": [
    {
     "data": {
      "text/html": [
       "<div>\n",
       "<style scoped>\n",
       "    .dataframe tbody tr th:only-of-type {\n",
       "        vertical-align: middle;\n",
       "    }\n",
       "\n",
       "    .dataframe tbody tr th {\n",
       "        vertical-align: top;\n",
       "    }\n",
       "\n",
       "    .dataframe thead th {\n",
       "        text-align: right;\n",
       "    }\n",
       "</style>\n",
       "<table border=\"1\" class=\"dataframe\">\n",
       "  <thead>\n",
       "    <tr style=\"text-align: right;\">\n",
       "      <th></th>\n",
       "      <th>0.0</th>\n",
       "      <th>1.0</th>\n",
       "      <th>2.0</th>\n",
       "      <th>3.0</th>\n",
       "      <th>Activity</th>\n",
       "      <th>Assessment</th>\n",
       "      <th>Clip</th>\n",
       "      <th>Game</th>\n",
       "      <th>assesments_CC</th>\n",
       "      <th>assessments_MP</th>\n",
       "      <th>...</th>\n",
       "      <th>shroom_max</th>\n",
       "      <th>max_ceiling</th>\n",
       "      <th>low_score</th>\n",
       "      <th>median_score</th>\n",
       "      <th>no_actions</th>\n",
       "      <th>num_incorrect</th>\n",
       "      <th>tendency_avg_scorer</th>\n",
       "      <th>tendency_high_scorer</th>\n",
       "      <th>tendency_low_scorer</th>\n",
       "      <th>tendency_random_scorer</th>\n",
       "    </tr>\n",
       "    <tr>\n",
       "      <th>installation_id</th>\n",
       "      <th></th>\n",
       "      <th></th>\n",
       "      <th></th>\n",
       "      <th></th>\n",
       "      <th></th>\n",
       "      <th></th>\n",
       "      <th></th>\n",
       "      <th></th>\n",
       "      <th></th>\n",
       "      <th></th>\n",
       "      <th></th>\n",
       "      <th></th>\n",
       "      <th></th>\n",
       "      <th></th>\n",
       "      <th></th>\n",
       "      <th></th>\n",
       "      <th></th>\n",
       "      <th></th>\n",
       "      <th></th>\n",
       "      <th></th>\n",
       "      <th></th>\n",
       "    </tr>\n",
       "  </thead>\n",
       "  <tbody>\n",
       "    <tr>\n",
       "      <th>0006a69f</th>\n",
       "      <td>0.031579</td>\n",
       "      <td>-0.59679</td>\n",
       "      <td>0.502289</td>\n",
       "      <td>-0.129527</td>\n",
       "      <td>0.245140</td>\n",
       "      <td>-0.103358</td>\n",
       "      <td>0.217640</td>\n",
       "      <td>0.306918</td>\n",
       "      <td>-0.891850</td>\n",
       "      <td>-0.755458</td>\n",
       "      <td>...</td>\n",
       "      <td>1.109492</td>\n",
       "      <td>0.476905</td>\n",
       "      <td>-0.832402</td>\n",
       "      <td>-0.832402</td>\n",
       "      <td>-0.009935</td>\n",
       "      <td>-0.009935</td>\n",
       "      <td>-0.382107</td>\n",
       "      <td>-0.6742</td>\n",
       "      <td>1.541926</td>\n",
       "      <td>-0.598947</td>\n",
       "    </tr>\n",
       "    <tr>\n",
       "      <th>0006c192</th>\n",
       "      <td>0.031579</td>\n",
       "      <td>-0.59679</td>\n",
       "      <td>-0.616099</td>\n",
       "      <td>-0.534665</td>\n",
       "      <td>0.032685</td>\n",
       "      <td>-0.602836</td>\n",
       "      <td>0.297591</td>\n",
       "      <td>-0.213912</td>\n",
       "      <td>-0.891850</td>\n",
       "      <td>-0.001510</td>\n",
       "      <td>...</td>\n",
       "      <td>-0.984737</td>\n",
       "      <td>0.476905</td>\n",
       "      <td>-0.832402</td>\n",
       "      <td>-0.832402</td>\n",
       "      <td>-0.344154</td>\n",
       "      <td>-0.344154</td>\n",
       "      <td>-0.382107</td>\n",
       "      <td>-0.6742</td>\n",
       "      <td>1.541926</td>\n",
       "      <td>-0.598947</td>\n",
       "    </tr>\n",
       "    <tr>\n",
       "      <th>001d0ed0</th>\n",
       "      <td>0.031579</td>\n",
       "      <td>-0.59679</td>\n",
       "      <td>0.502289</td>\n",
       "      <td>-0.129527</td>\n",
       "      <td>-0.710905</td>\n",
       "      <td>-0.103358</td>\n",
       "      <td>-0.142141</td>\n",
       "      <td>-0.437125</td>\n",
       "      <td>-0.402068</td>\n",
       "      <td>-0.755458</td>\n",
       "      <td>...</td>\n",
       "      <td>1.109492</td>\n",
       "      <td>0.476905</td>\n",
       "      <td>-0.832402</td>\n",
       "      <td>-0.832402</td>\n",
       "      <td>-0.228106</td>\n",
       "      <td>-0.228106</td>\n",
       "      <td>2.617070</td>\n",
       "      <td>-0.6742</td>\n",
       "      <td>-0.648539</td>\n",
       "      <td>-0.598947</td>\n",
       "    </tr>\n",
       "    <tr>\n",
       "      <th>002db7e3</th>\n",
       "      <td>0.693935</td>\n",
       "      <td>0.41310</td>\n",
       "      <td>1.620676</td>\n",
       "      <td>0.275610</td>\n",
       "      <td>0.776276</td>\n",
       "      <td>0.895599</td>\n",
       "      <td>0.657372</td>\n",
       "      <td>0.158109</td>\n",
       "      <td>0.577495</td>\n",
       "      <td>-0.001510</td>\n",
       "      <td>...</td>\n",
       "      <td>1.109492</td>\n",
       "      <td>0.476905</td>\n",
       "      <td>-0.832402</td>\n",
       "      <td>-0.832402</td>\n",
       "      <td>0.881317</td>\n",
       "      <td>0.881317</td>\n",
       "      <td>-0.382107</td>\n",
       "      <td>-0.6742</td>\n",
       "      <td>-0.648539</td>\n",
       "      <td>1.669598</td>\n",
       "    </tr>\n",
       "    <tr>\n",
       "      <th>003372b0</th>\n",
       "      <td>0.031579</td>\n",
       "      <td>-0.59679</td>\n",
       "      <td>0.502289</td>\n",
       "      <td>0.275610</td>\n",
       "      <td>0.032685</td>\n",
       "      <td>0.146382</td>\n",
       "      <td>0.177664</td>\n",
       "      <td>0.158109</td>\n",
       "      <td>0.577495</td>\n",
       "      <td>-0.755458</td>\n",
       "      <td>...</td>\n",
       "      <td>1.109492</td>\n",
       "      <td>0.476905</td>\n",
       "      <td>-0.832402</td>\n",
       "      <td>-0.832402</td>\n",
       "      <td>-0.060996</td>\n",
       "      <td>-0.060996</td>\n",
       "      <td>-0.382107</td>\n",
       "      <td>-0.6742</td>\n",
       "      <td>1.541926</td>\n",
       "      <td>-0.598947</td>\n",
       "    </tr>\n",
       "  </tbody>\n",
       "</table>\n",
       "<p>5 rows × 52 columns</p>\n",
       "</div>"
      ],
      "text/plain": [
       "                      0.0      1.0       2.0       3.0  Activity  Assessment  \\\n",
       "installation_id                                                                \n",
       "0006a69f         0.031579 -0.59679  0.502289 -0.129527  0.245140   -0.103358   \n",
       "0006c192         0.031579 -0.59679 -0.616099 -0.534665  0.032685   -0.602836   \n",
       "001d0ed0         0.031579 -0.59679  0.502289 -0.129527 -0.710905   -0.103358   \n",
       "002db7e3         0.693935  0.41310  1.620676  0.275610  0.776276    0.895599   \n",
       "003372b0         0.031579 -0.59679  0.502289  0.275610  0.032685    0.146382   \n",
       "\n",
       "                     Clip      Game  assesments_CC  assessments_MP  ...  \\\n",
       "installation_id                                                     ...   \n",
       "0006a69f         0.217640  0.306918      -0.891850       -0.755458  ...   \n",
       "0006c192         0.297591 -0.213912      -0.891850       -0.001510  ...   \n",
       "001d0ed0        -0.142141 -0.437125      -0.402068       -0.755458  ...   \n",
       "002db7e3         0.657372  0.158109       0.577495       -0.001510  ...   \n",
       "003372b0         0.177664  0.158109       0.577495       -0.755458  ...   \n",
       "\n",
       "                 shroom_max  max_ceiling  low_score  median_score  no_actions  \\\n",
       "installation_id                                                                 \n",
       "0006a69f           1.109492     0.476905  -0.832402     -0.832402   -0.009935   \n",
       "0006c192          -0.984737     0.476905  -0.832402     -0.832402   -0.344154   \n",
       "001d0ed0           1.109492     0.476905  -0.832402     -0.832402   -0.228106   \n",
       "002db7e3           1.109492     0.476905  -0.832402     -0.832402    0.881317   \n",
       "003372b0           1.109492     0.476905  -0.832402     -0.832402   -0.060996   \n",
       "\n",
       "                 num_incorrect  tendency_avg_scorer  tendency_high_scorer  \\\n",
       "installation_id                                                             \n",
       "0006a69f             -0.009935            -0.382107               -0.6742   \n",
       "0006c192             -0.344154            -0.382107               -0.6742   \n",
       "001d0ed0             -0.228106             2.617070               -0.6742   \n",
       "002db7e3              0.881317            -0.382107               -0.6742   \n",
       "003372b0             -0.060996            -0.382107               -0.6742   \n",
       "\n",
       "                 tendency_low_scorer  tendency_random_scorer  \n",
       "installation_id                                               \n",
       "0006a69f                    1.541926               -0.598947  \n",
       "0006c192                    1.541926               -0.598947  \n",
       "001d0ed0                   -0.648539               -0.598947  \n",
       "002db7e3                   -0.648539                1.669598  \n",
       "003372b0                    1.541926               -0.598947  \n",
       "\n",
       "[5 rows x 52 columns]"
      ]
     },
     "execution_count": 507,
     "metadata": {},
     "output_type": "execute_result"
    }
   ],
   "source": [
    "scaled_features.head()"
   ]
  },
  {
   "cell_type": "code",
   "execution_count": 508,
   "metadata": {},
   "outputs": [
    {
     "data": {
      "text/plain": [
       "Index(['0.0', '1.0', '2.0', '3.0', 'Activity', 'Assessment', 'Clip', 'Game',\n",
       "       'assesments_CC', 'assessments_MP', 'Assessments_TTC',\n",
       "       'max_accuracy_group', 'median_accuracy_group', 'low_accuracy_group',\n",
       "       'avg_no_actions', 'CRYSTALCAVES', 'MAGMAPEAK', 'NONE', 'TREETOPCITY',\n",
       "       'activity_mins', 'assessment_mins', 'clip_mins', 'game_mins',\n",
       "       'bird_med', 'cart_med', 'cauld_med', 'chest_med', 'shroom_med',\n",
       "       'bird_mean', 'cart_mean', 'cauld_mean', 'chest_mean', 'shroom_mean',\n",
       "       'bird_min', 'cart_min', 'cauld_min', 'chest_min', 'shroom_min',\n",
       "       'bird_max', 'cart_max', 'cauld_max', 'chest_max', 'shroom_max',\n",
       "       'max_ceiling', 'low_score', 'median_score', 'no_actions',\n",
       "       'num_incorrect', 'tendency_avg_scorer', 'tendency_high_scorer',\n",
       "       'tendency_low_scorer', 'tendency_random_scorer'],\n",
       "      dtype='object')"
      ]
     },
     "execution_count": 508,
     "metadata": {},
     "output_type": "execute_result"
    }
   ],
   "source": [
    "scaled_features.columns"
   ]
  },
  {
   "cell_type": "code",
   "execution_count": 509,
   "metadata": {},
   "outputs": [],
   "source": [
    "df_feed = scaled_features.copy()"
   ]
  },
  {
   "cell_type": "markdown",
   "metadata": {},
   "source": [
    "### Train-Test Split"
   ]
  },
  {
   "cell_type": "code",
   "execution_count": 510,
   "metadata": {},
   "outputs": [],
   "source": [
    "X_train, X_test, y_train, y_test = train_test_split(df_feed,y, test_size=0.3, stratify=y[\"accuracy_group\"],random_state=123)"
   ]
  },
  {
   "cell_type": "markdown",
   "metadata": {},
   "source": [
    "### Feature Engineering"
   ]
  },
  {
   "cell_type": "code",
   "execution_count": 511,
   "metadata": {},
   "outputs": [
    {
     "data": {
      "text/plain": [
       "LassoCV(alphas=None, copy_X=True, cv='warn', eps=0.001, fit_intercept=True,\n",
       "        max_iter=1000, n_alphas=100, n_jobs=None, normalize=False,\n",
       "        positive=False, precompute='auto', random_state=None,\n",
       "        selection='cyclic', tol=0.0001, verbose=False)"
      ]
     },
     "execution_count": 511,
     "metadata": {},
     "output_type": "execute_result"
    }
   ],
   "source": [
    "lasso = LassoCV()\n",
    "lasso.fit(X_train, y_train)"
   ]
  },
  {
   "cell_type": "code",
   "execution_count": 512,
   "metadata": {},
   "outputs": [
    {
     "name": "stdout",
     "output_type": "stream",
     "text": [
      "Best alpha using built-in LassoCV: 0.018833088932084775\n",
      "Best score using built-in LassoCV: 0.13536315388301523\n"
     ]
    }
   ],
   "source": [
    "print(f\"Best alpha using built-in LassoCV: {lasso.alpha_}\")\n",
    "print(f\"Best score using built-in LassoCV: {lasso.score(X_train,y_train)}\")"
   ]
  },
  {
   "cell_type": "code",
   "execution_count": 513,
   "metadata": {},
   "outputs": [],
   "source": [
    "coef = pd.DataFrame(lasso.coef_, index = X_train.columns).rename(columns={0:\"feature_weights\"}).sort_values(by=\"feature_weights\",ascending=False)"
   ]
  },
  {
   "cell_type": "code",
   "execution_count": 514,
   "metadata": {},
   "outputs": [
    {
     "data": {
      "text/html": [
       "<div>\n",
       "<style scoped>\n",
       "    .dataframe tbody tr th:only-of-type {\n",
       "        vertical-align: middle;\n",
       "    }\n",
       "\n",
       "    .dataframe tbody tr th {\n",
       "        vertical-align: top;\n",
       "    }\n",
       "\n",
       "    .dataframe thead th {\n",
       "        text-align: right;\n",
       "    }\n",
       "</style>\n",
       "<table border=\"1\" class=\"dataframe\">\n",
       "  <thead>\n",
       "    <tr style=\"text-align: right;\">\n",
       "      <th></th>\n",
       "      <th>feature_weights</th>\n",
       "    </tr>\n",
       "  </thead>\n",
       "  <tbody>\n",
       "    <tr>\n",
       "      <th>max_accuracy_group</th>\n",
       "      <td>0.163489</td>\n",
       "    </tr>\n",
       "    <tr>\n",
       "      <th>bird_max</th>\n",
       "      <td>0.106207</td>\n",
       "    </tr>\n",
       "    <tr>\n",
       "      <th>shroom_min</th>\n",
       "      <td>0.085145</td>\n",
       "    </tr>\n",
       "    <tr>\n",
       "      <th>MAGMAPEAK</th>\n",
       "      <td>0.081554</td>\n",
       "    </tr>\n",
       "    <tr>\n",
       "      <th>chest_mean</th>\n",
       "      <td>0.057380</td>\n",
       "    </tr>\n",
       "  </tbody>\n",
       "</table>\n",
       "</div>"
      ],
      "text/plain": [
       "                    feature_weights\n",
       "max_accuracy_group         0.163489\n",
       "bird_max                   0.106207\n",
       "shroom_min                 0.085145\n",
       "MAGMAPEAK                  0.081554\n",
       "chest_mean                 0.057380"
      ]
     },
     "execution_count": 514,
     "metadata": {},
     "output_type": "execute_result"
    }
   ],
   "source": [
    "coef.head()"
   ]
  },
  {
   "cell_type": "code",
   "execution_count": 515,
   "metadata": {},
   "outputs": [
    {
     "data": {
      "text/plain": [
       "<matplotlib.axes._subplots.AxesSubplot at 0x1a258f1208>"
      ]
     },
     "execution_count": 515,
     "metadata": {},
     "output_type": "execute_result"
    },
    {
     "data": {
      "image/png": "[encoded data removed]",
      "text/plain": [
       "<Figure size 1080x864 with 1 Axes>"
      ]
     },
     "metadata": {
      "needs_background": "light"
     },
     "output_type": "display_data"
    }
   ],
   "source": [
    "coef.plot(kind=\"barh\",figsize=(15,12))"
   ]
  },
  {
   "cell_type": "markdown",
   "metadata": {},
   "source": [
    "### Keep all non-zero features"
   ]
  },
  {
   "cell_type": "code",
   "execution_count": 516,
   "metadata": {},
   "outputs": [],
   "source": [
    "weighted_coef = coef[coef.feature_weights != 0]"
   ]
  },
  {
   "cell_type": "code",
   "execution_count": 517,
   "metadata": {},
   "outputs": [
    {
     "data": {
      "text/html": [
       "<div>\n",
       "<style scoped>\n",
       "    .dataframe tbody tr th:only-of-type {\n",
       "        vertical-align: middle;\n",
       "    }\n",
       "\n",
       "    .dataframe tbody tr th {\n",
       "        vertical-align: top;\n",
       "    }\n",
       "\n",
       "    .dataframe thead th {\n",
       "        text-align: right;\n",
       "    }\n",
       "</style>\n",
       "<table border=\"1\" class=\"dataframe\">\n",
       "  <thead>\n",
       "    <tr style=\"text-align: right;\">\n",
       "      <th></th>\n",
       "      <th>feature_weights</th>\n",
       "    </tr>\n",
       "  </thead>\n",
       "  <tbody>\n",
       "    <tr>\n",
       "      <th>count</th>\n",
       "      <td>17.000000</td>\n",
       "    </tr>\n",
       "    <tr>\n",
       "      <th>mean</th>\n",
       "      <td>0.021304</td>\n",
       "    </tr>\n",
       "    <tr>\n",
       "      <th>std</th>\n",
       "      <td>0.076288</td>\n",
       "    </tr>\n",
       "    <tr>\n",
       "      <th>min</th>\n",
       "      <td>-0.168813</td>\n",
       "    </tr>\n",
       "    <tr>\n",
       "      <th>25%</th>\n",
       "      <td>-0.004984</td>\n",
       "    </tr>\n",
       "    <tr>\n",
       "      <th>50%</th>\n",
       "      <td>0.025451</td>\n",
       "    </tr>\n",
       "    <tr>\n",
       "      <th>75%</th>\n",
       "      <td>0.057380</td>\n",
       "    </tr>\n",
       "    <tr>\n",
       "      <th>max</th>\n",
       "      <td>0.163489</td>\n",
       "    </tr>\n",
       "  </tbody>\n",
       "</table>\n",
       "</div>"
      ],
      "text/plain": [
       "       feature_weights\n",
       "count        17.000000\n",
       "mean          0.021304\n",
       "std           0.076288\n",
       "min          -0.168813\n",
       "25%          -0.004984\n",
       "50%           0.025451\n",
       "75%           0.057380\n",
       "max           0.163489"
      ]
     },
     "execution_count": 517,
     "metadata": {},
     "output_type": "execute_result"
    }
   ],
   "source": [
    "#see if all zero-value features are removed\n",
    "weighted_coef.describe()"
   ]
  },
  {
   "cell_type": "code",
   "execution_count": 518,
   "metadata": {},
   "outputs": [],
   "source": [
    "weighted_coef_list = list(weighted_coef.index)"
   ]
  },
  {
   "cell_type": "code",
   "execution_count": 519,
   "metadata": {},
   "outputs": [
    {
     "data": {
      "text/html": [
       "<div>\n",
       "<style scoped>\n",
       "    .dataframe tbody tr th:only-of-type {\n",
       "        vertical-align: middle;\n",
       "    }\n",
       "\n",
       "    .dataframe tbody tr th {\n",
       "        vertical-align: top;\n",
       "    }\n",
       "\n",
       "    .dataframe thead th {\n",
       "        text-align: right;\n",
       "    }\n",
       "</style>\n",
       "<table border=\"1\" class=\"dataframe\">\n",
       "  <thead>\n",
       "    <tr style=\"text-align: right;\">\n",
       "      <th></th>\n",
       "      <th>0.0</th>\n",
       "      <th>1.0</th>\n",
       "      <th>2.0</th>\n",
       "      <th>3.0</th>\n",
       "      <th>Activity</th>\n",
       "      <th>Assessment</th>\n",
       "      <th>Clip</th>\n",
       "      <th>Game</th>\n",
       "      <th>assesments_CC</th>\n",
       "      <th>assessments_MP</th>\n",
       "      <th>...</th>\n",
       "      <th>shroom_max</th>\n",
       "      <th>max_ceiling</th>\n",
       "      <th>low_score</th>\n",
       "      <th>median_score</th>\n",
       "      <th>no_actions</th>\n",
       "      <th>num_incorrect</th>\n",
       "      <th>tendency_avg_scorer</th>\n",
       "      <th>tendency_high_scorer</th>\n",
       "      <th>tendency_low_scorer</th>\n",
       "      <th>tendency_random_scorer</th>\n",
       "    </tr>\n",
       "    <tr>\n",
       "      <th>installation_id</th>\n",
       "      <th></th>\n",
       "      <th></th>\n",
       "      <th></th>\n",
       "      <th></th>\n",
       "      <th></th>\n",
       "      <th></th>\n",
       "      <th></th>\n",
       "      <th></th>\n",
       "      <th></th>\n",
       "      <th></th>\n",
       "      <th></th>\n",
       "      <th></th>\n",
       "      <th></th>\n",
       "      <th></th>\n",
       "      <th></th>\n",
       "      <th></th>\n",
       "      <th></th>\n",
       "      <th></th>\n",
       "      <th></th>\n",
       "      <th></th>\n",
       "      <th></th>\n",
       "    </tr>\n",
       "  </thead>\n",
       "  <tbody>\n",
       "    <tr>\n",
       "      <th>f30f1e87</th>\n",
       "      <td>2.681005</td>\n",
       "      <td>-0.59679</td>\n",
       "      <td>-0.616099</td>\n",
       "      <td>-0.129527</td>\n",
       "      <td>0.776276</td>\n",
       "      <td>0.645860</td>\n",
       "      <td>2.136470</td>\n",
       "      <td>0.678939</td>\n",
       "      <td>1.067276</td>\n",
       "      <td>-0.001510</td>\n",
       "      <td>...</td>\n",
       "      <td>1.109492</td>\n",
       "      <td>0.476905</td>\n",
       "      <td>-0.832402</td>\n",
       "      <td>-0.832402</td>\n",
       "      <td>0.547098</td>\n",
       "      <td>0.547098</td>\n",
       "      <td>-0.382107</td>\n",
       "      <td>-0.67420</td>\n",
       "      <td>1.541926</td>\n",
       "      <td>-0.598947</td>\n",
       "    </tr>\n",
       "    <tr>\n",
       "      <th>88812720</th>\n",
       "      <td>0.693935</td>\n",
       "      <td>-0.59679</td>\n",
       "      <td>0.502289</td>\n",
       "      <td>0.275610</td>\n",
       "      <td>-0.073542</td>\n",
       "      <td>0.396121</td>\n",
       "      <td>-0.142141</td>\n",
       "      <td>0.083705</td>\n",
       "      <td>0.087713</td>\n",
       "      <td>2.260332</td>\n",
       "      <td>...</td>\n",
       "      <td>-0.984737</td>\n",
       "      <td>0.476905</td>\n",
       "      <td>-0.832402</td>\n",
       "      <td>-0.832402</td>\n",
       "      <td>0.124681</td>\n",
       "      <td>0.124681</td>\n",
       "      <td>-0.382107</td>\n",
       "      <td>-0.67420</td>\n",
       "      <td>1.541926</td>\n",
       "      <td>-0.598947</td>\n",
       "    </tr>\n",
       "    <tr>\n",
       "      <th>b7ce4c4b</th>\n",
       "      <td>-0.630778</td>\n",
       "      <td>-0.59679</td>\n",
       "      <td>-0.616099</td>\n",
       "      <td>-0.534665</td>\n",
       "      <td>-0.392224</td>\n",
       "      <td>-0.852575</td>\n",
       "      <td>-0.262068</td>\n",
       "      <td>-0.213912</td>\n",
       "      <td>-0.402068</td>\n",
       "      <td>-0.755458</td>\n",
       "      <td>...</td>\n",
       "      <td>-0.984737</td>\n",
       "      <td>0.476905</td>\n",
       "      <td>1.620983</td>\n",
       "      <td>1.620983</td>\n",
       "      <td>-0.877977</td>\n",
       "      <td>-0.877977</td>\n",
       "      <td>-0.382107</td>\n",
       "      <td>1.48324</td>\n",
       "      <td>-0.648539</td>\n",
       "      <td>-0.598947</td>\n",
       "    </tr>\n",
       "    <tr>\n",
       "      <th>91c1fa97</th>\n",
       "      <td>0.693935</td>\n",
       "      <td>0.41310</td>\n",
       "      <td>-0.616099</td>\n",
       "      <td>-0.129527</td>\n",
       "      <td>0.457594</td>\n",
       "      <td>0.146382</td>\n",
       "      <td>0.377542</td>\n",
       "      <td>0.753344</td>\n",
       "      <td>0.087713</td>\n",
       "      <td>-0.001510</td>\n",
       "      <td>...</td>\n",
       "      <td>-0.286661</td>\n",
       "      <td>0.476905</td>\n",
       "      <td>-0.832402</td>\n",
       "      <td>-0.832402</td>\n",
       "      <td>0.370704</td>\n",
       "      <td>0.370704</td>\n",
       "      <td>-0.382107</td>\n",
       "      <td>-0.67420</td>\n",
       "      <td>1.541926</td>\n",
       "      <td>-0.598947</td>\n",
       "    </tr>\n",
       "    <tr>\n",
       "      <th>ae736213</th>\n",
       "      <td>-0.630778</td>\n",
       "      <td>-0.59679</td>\n",
       "      <td>-0.616099</td>\n",
       "      <td>-0.534665</td>\n",
       "      <td>-0.498451</td>\n",
       "      <td>-0.852575</td>\n",
       "      <td>-0.661824</td>\n",
       "      <td>-0.511530</td>\n",
       "      <td>-0.891850</td>\n",
       "      <td>-0.001510</td>\n",
       "      <td>...</td>\n",
       "      <td>-0.984737</td>\n",
       "      <td>0.476905</td>\n",
       "      <td>1.620983</td>\n",
       "      <td>1.620983</td>\n",
       "      <td>-0.836200</td>\n",
       "      <td>-0.836200</td>\n",
       "      <td>-0.382107</td>\n",
       "      <td>1.48324</td>\n",
       "      <td>-0.648539</td>\n",
       "      <td>-0.598947</td>\n",
       "    </tr>\n",
       "  </tbody>\n",
       "</table>\n",
       "<p>5 rows × 52 columns</p>\n",
       "</div>"
      ],
      "text/plain": [
       "                      0.0      1.0       2.0       3.0  Activity  Assessment  \\\n",
       "installation_id                                                                \n",
       "f30f1e87         2.681005 -0.59679 -0.616099 -0.129527  0.776276    0.645860   \n",
       "88812720         0.693935 -0.59679  0.502289  0.275610 -0.073542    0.396121   \n",
       "b7ce4c4b        -0.630778 -0.59679 -0.616099 -0.534665 -0.392224   -0.852575   \n",
       "91c1fa97         0.693935  0.41310 -0.616099 -0.129527  0.457594    0.146382   \n",
       "ae736213        -0.630778 -0.59679 -0.616099 -0.534665 -0.498451   -0.852575   \n",
       "\n",
       "                     Clip      Game  assesments_CC  assessments_MP  ...  \\\n",
       "installation_id                                                     ...   \n",
       "f30f1e87         2.136470  0.678939       1.067276       -0.001510  ...   \n",
       "88812720        -0.142141  0.083705       0.087713        2.260332  ...   \n",
       "b7ce4c4b        -0.262068 -0.213912      -0.402068       -0.755458  ...   \n",
       "91c1fa97         0.377542  0.753344       0.087713       -0.001510  ...   \n",
       "ae736213        -0.661824 -0.511530      -0.891850       -0.001510  ...   \n",
       "\n",
       "                 shroom_max  max_ceiling  low_score  median_score  no_actions  \\\n",
       "installation_id                                                                 \n",
       "f30f1e87           1.109492     0.476905  -0.832402     -0.832402    0.547098   \n",
       "88812720          -0.984737     0.476905  -0.832402     -0.832402    0.124681   \n",
       "b7ce4c4b          -0.984737     0.476905   1.620983      1.620983   -0.877977   \n",
       "91c1fa97          -0.286661     0.476905  -0.832402     -0.832402    0.370704   \n",
       "ae736213          -0.984737     0.476905   1.620983      1.620983   -0.836200   \n",
       "\n",
       "                 num_incorrect  tendency_avg_scorer  tendency_high_scorer  \\\n",
       "installation_id                                                             \n",
       "f30f1e87              0.547098            -0.382107              -0.67420   \n",
       "88812720              0.124681            -0.382107              -0.67420   \n",
       "b7ce4c4b             -0.877977            -0.382107               1.48324   \n",
       "91c1fa97              0.370704            -0.382107              -0.67420   \n",
       "ae736213             -0.836200            -0.382107               1.48324   \n",
       "\n",
       "                 tendency_low_scorer  tendency_random_scorer  \n",
       "installation_id                                               \n",
       "f30f1e87                    1.541926               -0.598947  \n",
       "88812720                    1.541926               -0.598947  \n",
       "b7ce4c4b                   -0.648539               -0.598947  \n",
       "91c1fa97                    1.541926               -0.598947  \n",
       "ae736213                   -0.648539               -0.598947  \n",
       "\n",
       "[5 rows x 52 columns]"
      ]
     },
     "execution_count": 519,
     "metadata": {},
     "output_type": "execute_result"
    }
   ],
   "source": [
    "X_train.head()"
   ]
  },
  {
   "cell_type": "code",
   "execution_count": 520,
   "metadata": {},
   "outputs": [],
   "source": [
    "X_train = X_train[weighted_coef_list]\n",
    "X_test = X_test[weighted_coef_list]"
   ]
  },
  {
   "cell_type": "code",
   "execution_count": 521,
   "metadata": {},
   "outputs": [
    {
     "name": "stdout",
     "output_type": "stream",
     "text": [
      "X_train shape: (1747, 17)\n",
      "X_test shape: (749, 17)\n"
     ]
    }
   ],
   "source": [
    "print(f\"X_train shape: {X_train.shape}\")\n",
    "print(f\"X_test shape: {X_test.shape}\")"
   ]
  },
  {
   "cell_type": "markdown",
   "metadata": {},
   "source": [
    "---\n",
    "## VI. MODELING"
   ]
  },
  {
   "cell_type": "markdown",
   "metadata": {},
   "source": [
    "### Random Forest"
   ]
  },
  {
   "cell_type": "markdown",
   "metadata": {},
   "source": [
    "Create Random Forest object.  \n",
    "Fit Train data."
   ]
  },
  {
   "cell_type": "code",
   "execution_count": 522,
   "metadata": {},
   "outputs": [
    {
     "data": {
      "text/plain": [
       "RandomForestClassifier(bootstrap=True, class_weight=None, criterion='gini',\n",
       "                       max_depth=6, max_features='auto', max_leaf_nodes=None,\n",
       "                       min_impurity_decrease=0.0, min_impurity_split=None,\n",
       "                       min_samples_leaf=3, min_samples_split=2,\n",
       "                       min_weight_fraction_leaf=0.0, n_estimators=100,\n",
       "                       n_jobs=None, oob_score=False, random_state=600,\n",
       "                       verbose=0, warm_start=False)"
      ]
     },
     "execution_count": 522,
     "metadata": {},
     "output_type": "execute_result"
    }
   ],
   "source": [
    "rf = RandomForestClassifier(bootstrap=True, \n",
    "                            class_weight=None, \n",
    "                            criterion='gini',\n",
    "                            min_samples_leaf=3,\n",
    "                            n_estimators=100,\n",
    "                            max_depth=6, \n",
    "                            random_state=600)\n",
    "\n",
    "rf.fit(X_train, y_train)"
   ]
  },
  {
   "cell_type": "markdown",
   "metadata": {},
   "source": [
    "Look at how the algorithm use features, that is, check feature importance."
   ]
  },
  {
   "cell_type": "code",
   "execution_count": 523,
   "metadata": {},
   "outputs": [],
   "source": [
    "rf_features = pd.DataFrame([rf.feature_importances_],columns = X_train.columns).T.rename(columns = {0: 'feature_importance'}).sort_values(by='feature_importance', ascending=False)"
   ]
  },
  {
   "cell_type": "code",
   "execution_count": 524,
   "metadata": {},
   "outputs": [
    {
     "data": {
      "text/plain": [
       "<matplotlib.axes._subplots.AxesSubplot at 0x1a2810d978>"
      ]
     },
     "execution_count": 524,
     "metadata": {},
     "output_type": "execute_result"
    },
    {
     "data": {
      "image/png": "[encoded data removed]",
      "text/plain": [
       "<Figure size 1080x864 with 1 Axes>"
      ]
     },
     "metadata": {
      "needs_background": "light"
     },
     "output_type": "display_data"
    }
   ],
   "source": [
    "rf_features.plot(kind=\"barh\",figsize=(15,12))"
   ]
  },
  {
   "cell_type": "code",
   "execution_count": 525,
   "metadata": {},
   "outputs": [],
   "source": [
    "y_pred = pd.DataFrame(rf.predict(X_train),index = X_train.index)\n",
    "y_pred_test = pd.DataFrame(rf.predict(X_test),index = X_test.index)"
   ]
  },
  {
   "cell_type": "code",
   "execution_count": 526,
   "metadata": {},
   "outputs": [
    {
     "data": {
      "text/html": [
       "<div>\n",
       "<style scoped>\n",
       "    .dataframe tbody tr th:only-of-type {\n",
       "        vertical-align: middle;\n",
       "    }\n",
       "\n",
       "    .dataframe tbody tr th {\n",
       "        vertical-align: top;\n",
       "    }\n",
       "\n",
       "    .dataframe thead th {\n",
       "        text-align: right;\n",
       "    }\n",
       "</style>\n",
       "<table border=\"1\" class=\"dataframe\">\n",
       "  <thead>\n",
       "    <tr style=\"text-align: right;\">\n",
       "      <th></th>\n",
       "      <th>accuracy_group</th>\n",
       "    </tr>\n",
       "    <tr>\n",
       "      <th>installation_id</th>\n",
       "      <th></th>\n",
       "    </tr>\n",
       "  </thead>\n",
       "  <tbody>\n",
       "    <tr>\n",
       "      <th>f30f1e87</th>\n",
       "      <td>1.0</td>\n",
       "    </tr>\n",
       "    <tr>\n",
       "      <th>88812720</th>\n",
       "      <td>3.0</td>\n",
       "    </tr>\n",
       "    <tr>\n",
       "      <th>b7ce4c4b</th>\n",
       "      <td>3.0</td>\n",
       "    </tr>\n",
       "    <tr>\n",
       "      <th>91c1fa97</th>\n",
       "      <td>1.0</td>\n",
       "    </tr>\n",
       "    <tr>\n",
       "      <th>ae736213</th>\n",
       "      <td>3.0</td>\n",
       "    </tr>\n",
       "  </tbody>\n",
       "</table>\n",
       "</div>"
      ],
      "text/plain": [
       "                 accuracy_group\n",
       "installation_id                \n",
       "f30f1e87                    1.0\n",
       "88812720                    3.0\n",
       "b7ce4c4b                    3.0\n",
       "91c1fa97                    1.0\n",
       "ae736213                    3.0"
      ]
     },
     "execution_count": 526,
     "metadata": {},
     "output_type": "execute_result"
    }
   ],
   "source": [
    "y_train.head()"
   ]
  },
  {
   "cell_type": "code",
   "execution_count": 527,
   "metadata": {},
   "outputs": [],
   "source": [
    "predictions = y_train.copy().rename(columns={\"accuracy_group\":\"actual_y\"})\n",
    "predictions[[\"predicted_y\"]] = y_pred"
   ]
  },
  {
   "cell_type": "code",
   "execution_count": 528,
   "metadata": {},
   "outputs": [
    {
     "data": {
      "text/html": [
       "<div>\n",
       "<style scoped>\n",
       "    .dataframe tbody tr th:only-of-type {\n",
       "        vertical-align: middle;\n",
       "    }\n",
       "\n",
       "    .dataframe tbody tr th {\n",
       "        vertical-align: top;\n",
       "    }\n",
       "\n",
       "    .dataframe thead th {\n",
       "        text-align: right;\n",
       "    }\n",
       "</style>\n",
       "<table border=\"1\" class=\"dataframe\">\n",
       "  <thead>\n",
       "    <tr style=\"text-align: right;\">\n",
       "      <th></th>\n",
       "      <th>actual_y</th>\n",
       "      <th>predicted_y</th>\n",
       "    </tr>\n",
       "    <tr>\n",
       "      <th>installation_id</th>\n",
       "      <th></th>\n",
       "      <th></th>\n",
       "    </tr>\n",
       "  </thead>\n",
       "  <tbody>\n",
       "    <tr>\n",
       "      <th>f30f1e87</th>\n",
       "      <td>1.0</td>\n",
       "      <td>0.0</td>\n",
       "    </tr>\n",
       "    <tr>\n",
       "      <th>88812720</th>\n",
       "      <td>3.0</td>\n",
       "      <td>3.0</td>\n",
       "    </tr>\n",
       "    <tr>\n",
       "      <th>b7ce4c4b</th>\n",
       "      <td>3.0</td>\n",
       "      <td>3.0</td>\n",
       "    </tr>\n",
       "    <tr>\n",
       "      <th>91c1fa97</th>\n",
       "      <td>1.0</td>\n",
       "      <td>3.0</td>\n",
       "    </tr>\n",
       "    <tr>\n",
       "      <th>ae736213</th>\n",
       "      <td>3.0</td>\n",
       "      <td>3.0</td>\n",
       "    </tr>\n",
       "  </tbody>\n",
       "</table>\n",
       "</div>"
      ],
      "text/plain": [
       "                 actual_y  predicted_y\n",
       "installation_id                       \n",
       "f30f1e87              1.0          0.0\n",
       "88812720              3.0          3.0\n",
       "b7ce4c4b              3.0          3.0\n",
       "91c1fa97              1.0          3.0\n",
       "ae736213              3.0          3.0"
      ]
     },
     "execution_count": 528,
     "metadata": {},
     "output_type": "execute_result"
    }
   ],
   "source": [
    "predictions.head()"
   ]
  },
  {
   "cell_type": "markdown",
   "metadata": {},
   "source": [
    "#### EVALUATION: RANDOM FOREST"
   ]
  },
  {
   "cell_type": "code",
   "execution_count": 529,
   "metadata": {},
   "outputs": [
    {
     "name": "stdout",
     "output_type": "stream",
     "text": [
      "RF Score for Train: 0.544361763022324\n",
      "RF Score for Test: 0.48731642189586116\n"
     ]
    }
   ],
   "source": [
    "print(f\"RF Score for Train: {rf.score(X_train, y_train)}\")\n",
    "print(f\"RF Score for Test: {rf.score(X_test, y_test)}\")"
   ]
  },
  {
   "cell_type": "code",
   "execution_count": 530,
   "metadata": {},
   "outputs": [
    {
     "data": {
      "text/plain": [
       "array([[236,   0,   0, 241],\n",
       "       [ 35,   6,   0, 217],\n",
       "       [ 33,   0,   0, 204],\n",
       "       [ 66,   0,   0, 709]])"
      ]
     },
     "execution_count": 530,
     "metadata": {},
     "output_type": "execute_result"
    }
   ],
   "source": [
    "confusion_matrix(predictions.actual_y, predictions.predicted_y)"
   ]
  },
  {
   "cell_type": "code",
   "execution_count": 437,
   "metadata": {},
   "outputs": [
    {
     "name": "stdout",
     "output_type": "stream",
     "text": [
      "              precision    recall  f1-score   support\n",
      "\n",
      "         0.0       0.50      0.34      0.40       300\n",
      "         1.0       0.00      0.00      0.00       144\n",
      "         2.0       0.00      0.00      0.00       136\n",
      "         3.0       0.49      0.88      0.63       477\n",
      "\n",
      "    accuracy                           0.49      1057\n",
      "   macro avg       0.25      0.30      0.26      1057\n",
      "weighted avg       0.36      0.49      0.40      1057\n",
      "\n"
     ]
    }
   ],
   "source": [
    "print(classification_report(y_test,y_pred_test))"
   ]
  },
  {
   "cell_type": "markdown",
   "metadata": {},
   "source": [
    "### Logistic Regression"
   ]
  },
  {
   "cell_type": "code",
   "execution_count": null,
   "metadata": {},
   "outputs": [],
   "source": [
    "logit = LogisticRegression(C=1, class_weight={1:2}, random_state = 123, solver='saga')"
   ]
  }
 ],
 "metadata": {
  "kernelspec": {
   "display_name": "Python 3",
   "language": "python",
   "name": "python3"
  },
  "language_info": {
   "codemirror_mode": {
    "name": "ipython",
    "version": 3
   },
   "file_extension": ".py",
   "mimetype": "text/x-python",
   "name": "python",
   "nbconvert_exporter": "python",
   "pygments_lexer": "ipython3",
   "version": "3.7.3"
  }
 },
 "nbformat": 4,
 "nbformat_minor": 2
}
