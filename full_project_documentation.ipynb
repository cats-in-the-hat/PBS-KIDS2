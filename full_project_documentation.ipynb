{
 "cells": [
  {
   "cell_type": "markdown",
   "metadata": {},
   "source": [
    "1. Background of Project\n",
    "2. Hypotheses\n",
    "3. Summary of Findings and Insights\n",
    "4. Data Acquisition and Prep\n",
    "5. Exploratory Data Analysis\n",
    "6. Feature Engineering\n",
    "7. Modeling\n",
    "8. Evaluation\n",
    "\n",
    "Notes:\n",
    "- Image use footnote\n",
    "    - PBS KIDS and the PBS KIDS Logo are registered trademarks of PBS. Used with permission. The contents of PBS KIDS Measure Up! were developed under a grant from the Department of Education. However, those contents do not necessarily represent the policy of the Department of Education, and you should not assume endorsement by the Federal Government. The app is funded by a Ready To Learn grant (PR/AWARD No. U295A150003, CFDA No. 84.295A) provided by the Department of Education to the Corporation for Public Broadcasting."
   ]
  },
  {
   "cell_type": "markdown",
   "metadata": {},
   "source": [
    "# Child Learning and Development with PBS KIDS Measure Up! App"
   ]
  },
  {
   "cell_type": "markdown",
   "metadata": {},
   "source": [
    "![title](mu_image.jpeg)"
   ]
  },
  {
   "cell_type": "markdown",
   "metadata": {},
   "source": [
    "## I. BACKGROUND\n",
    "\n",
    "### MEASURE UP! APP  \n",
    "The PBS KIDS Measure Up! app is designed for children ages 3-5 to develop their comprehension on early STEM concepts. The app takes users to an adventure through three worlds, **Magma Peak** which focuses on capacity and displacement, **Crystal Caves** which is about weight, and finally **Treetop City** which teaches the concepts of length and height.\n",
    "\n",
    "### 2019 KAGGLE DATA SCIENCE BOWL COMPETITION PRESENTED BY PBS KIDS & BOOZ ALLEN HAMILTON\n",
    "This year's competition is focused on early childhood education through multimedia learning. Anonymized Measure Up! gameplay data was provided by PBS KIDS. The end product of each submission is to provide a model that predicts the accuracy group of users.\n",
    "\n",
    "Accuracy group is based on the number of attempts a user makes until s/he completes the \"challenge\" (a.k.a. assessment). Based on user's performance on each completed assessment, an accuracy group is assigned:\n",
    " - 3 - Successfully completed the assessment on 1 attempt\n",
    " - 2 - Completed assessment on 2 attempts\n",
    " - 1 - Completed assessment on 3 attempts\n",
    " - 0 - Completed assessment on more than 3 attempts\n",
    "\n",
    "The model will help PBS KIDS to improve game design and to discover relationships on game engagement and learning processes.\n",
    "\n",
    "### THE PROJECT\n",
    "The project is inspired by 2019's Kaggle Data Science Bowl. By analyzing data publicly provided by PBS KIDS on Kaggle, our team has sought to identify and understand drivers of children’s success on assessments (a.k.a. \"challenges\") in the app. The insights inform teachers and parents on how well using the different activities in the application prepare 3-5-year old children for the application’s final assessments.\n",
    "\n",
    "A presentation documenting our findings and recommendations is delivered on Jan 30, 2020.\n",
    "\n",
    "### PROBLEM STATEMENTS & HYPOTHESES:\n",
    "\n",
    "**Problem 1:** What are the drivers of users assessment accuracy?  \n",
    "**Hypothesis:** Historical Performance and Time drive assessment performance.\n",
    "  \n",
    "**Problem 2:** Is there a certain path that better prepare users in assessments - with the two paths being, linear progression and random (choose activities at their own will)  \n",
    "**Hypothesis:** There is no difference in the performance between users who followed a linear progression and those who had random learning path.\n",
    "\n",
    "> Linear Progression and their corresponding in-game activities are as follows:  \n",
    "**Exposure** (video clip) → **Exploration** (activity) → **Practice** (game) → **Demonstration** (assessment)\n",
    "\n",
    "### SUMMARY OF FINDINGS AND INSIGHTS\n",
    "\n",
    "### CONCLUSION AND RECOMMENDATION\n",
    "\n",
    "\n"
   ]
  },
  {
   "cell_type": "markdown",
   "metadata": {},
   "source": [
    "---"
   ]
  },
  {
   "cell_type": "markdown",
   "metadata": {},
   "source": [
    "## II. MODULES & LIBRARIES"
   ]
  },
  {
   "cell_type": "code",
   "execution_count": 94,
   "metadata": {},
   "outputs": [],
   "source": [
    "import pandas as pd\n",
    "import numpy as np\n",
    "\n",
    "#viz\n",
    "import matplotlib.pyplot as plt\n",
    "import seaborn as sns\n",
    "\n",
    "#feature engineering\n",
    "from sklearn.preprocessing import StandardScaler\n",
    "from sklearn.model_selection import train_test_split\n",
    "from sklearn.linear_model import LassoCV\n",
    "\n",
    "import warnings\n",
    "warnings.filterwarnings(\"ignore\")"
   ]
  },
  {
   "cell_type": "markdown",
   "metadata": {},
   "source": [
    "---\n",
    "## III. DATA ACQUISITION & PREP"
   ]
  },
  {
   "cell_type": "markdown",
   "metadata": {},
   "source": [
    "---\n",
    "## IV. EXPLORATORY DATA ANALYSIS "
   ]
  },
  {
   "cell_type": "markdown",
   "metadata": {},
   "source": [
    "### Feature Selection"
   ]
  },
  {
   "cell_type": "code",
   "execution_count": 161,
   "metadata": {},
   "outputs": [],
   "source": [
    "big = pd.read_csv(\"train_maybe_final.csv\")"
   ]
  },
  {
   "cell_type": "code",
   "execution_count": 192,
   "metadata": {},
   "outputs": [
    {
     "data": {
      "text/plain": [
       "3485"
      ]
     },
     "execution_count": 192,
     "metadata": {},
     "output_type": "execute_result"
    }
   ],
   "source": [
    "big.installation_id.nunique()"
   ]
  },
  {
   "cell_type": "code",
   "execution_count": 162,
   "metadata": {},
   "outputs": [
    {
     "data": {
      "text/html": [
       "<div>\n",
       "<style scoped>\n",
       "    .dataframe tbody tr th:only-of-type {\n",
       "        vertical-align: middle;\n",
       "    }\n",
       "\n",
       "    .dataframe tbody tr th {\n",
       "        vertical-align: top;\n",
       "    }\n",
       "\n",
       "    .dataframe thead th {\n",
       "        text-align: right;\n",
       "    }\n",
       "</style>\n",
       "<table border=\"1\" class=\"dataframe\">\n",
       "  <thead>\n",
       "    <tr style=\"text-align: right;\">\n",
       "      <th></th>\n",
       "      <th>Unnamed: 0</th>\n",
       "      <th>event_id</th>\n",
       "      <th>game_session</th>\n",
       "      <th>timestamp</th>\n",
       "      <th>event_data</th>\n",
       "      <th>installation_id</th>\n",
       "      <th>event_count</th>\n",
       "      <th>event_code</th>\n",
       "      <th>game_time</th>\n",
       "      <th>title</th>\n",
       "      <th>type</th>\n",
       "      <th>world</th>\n",
       "      <th>num_correct</th>\n",
       "      <th>num_incorrect</th>\n",
       "      <th>accuracy</th>\n",
       "      <th>accuracy_group</th>\n",
       "      <th>date</th>\n",
       "      <th>hour</th>\n",
       "      <th>weekday</th>\n",
       "    </tr>\n",
       "  </thead>\n",
       "  <tbody>\n",
       "    <tr>\n",
       "      <th>0</th>\n",
       "      <td>0</td>\n",
       "      <td>27253bdc</td>\n",
       "      <td>34ba1a28d02ba8ba</td>\n",
       "      <td>2019-08-06 04:57:18.904000+00:00</td>\n",
       "      <td>{\"event_code\": 2000, \"event_count\": 1}</td>\n",
       "      <td>0006a69f</td>\n",
       "      <td>1</td>\n",
       "      <td>2000</td>\n",
       "      <td>0</td>\n",
       "      <td>Welcome to Lost Lagoon!</td>\n",
       "      <td>Clip</td>\n",
       "      <td>NONE</td>\n",
       "      <td>NaN</td>\n",
       "      <td>NaN</td>\n",
       "      <td>NaN</td>\n",
       "      <td>NaN</td>\n",
       "      <td>2019-08-06</td>\n",
       "      <td>4</td>\n",
       "      <td>Tuesday</td>\n",
       "    </tr>\n",
       "    <tr>\n",
       "      <th>1</th>\n",
       "      <td>1</td>\n",
       "      <td>27253bdc</td>\n",
       "      <td>4b57c9a59474a1b9</td>\n",
       "      <td>2019-08-06 04:57:45.301000+00:00</td>\n",
       "      <td>{\"event_code\": 2000, \"event_count\": 1}</td>\n",
       "      <td>0006a69f</td>\n",
       "      <td>1</td>\n",
       "      <td>2000</td>\n",
       "      <td>0</td>\n",
       "      <td>Magma Peak - Level 1</td>\n",
       "      <td>Clip</td>\n",
       "      <td>MAGMAPEAK</td>\n",
       "      <td>NaN</td>\n",
       "      <td>NaN</td>\n",
       "      <td>NaN</td>\n",
       "      <td>NaN</td>\n",
       "      <td>2019-08-06</td>\n",
       "      <td>4</td>\n",
       "      <td>Tuesday</td>\n",
       "    </tr>\n",
       "    <tr>\n",
       "      <th>2</th>\n",
       "      <td>2</td>\n",
       "      <td>77261ab5</td>\n",
       "      <td>2b9d5af79bcdb79f</td>\n",
       "      <td>2019-08-06 04:58:14.538000+00:00</td>\n",
       "      <td>{\"version\":\"1.0\",\"event_count\":1,\"game_time\":0...</td>\n",
       "      <td>0006a69f</td>\n",
       "      <td>1</td>\n",
       "      <td>2000</td>\n",
       "      <td>0</td>\n",
       "      <td>Sandcastle Builder (Activity)</td>\n",
       "      <td>Activity</td>\n",
       "      <td>MAGMAPEAK</td>\n",
       "      <td>NaN</td>\n",
       "      <td>NaN</td>\n",
       "      <td>NaN</td>\n",
       "      <td>NaN</td>\n",
       "      <td>2019-08-06</td>\n",
       "      <td>4</td>\n",
       "      <td>Tuesday</td>\n",
       "    </tr>\n",
       "    <tr>\n",
       "      <th>3</th>\n",
       "      <td>3</td>\n",
       "      <td>b2dba42b</td>\n",
       "      <td>2b9d5af79bcdb79f</td>\n",
       "      <td>2019-08-06 04:58:14.615000+00:00</td>\n",
       "      <td>{\"description\":\"Let's build a sandcastle! Firs...</td>\n",
       "      <td>0006a69f</td>\n",
       "      <td>2</td>\n",
       "      <td>3010</td>\n",
       "      <td>29</td>\n",
       "      <td>Sandcastle Builder (Activity)</td>\n",
       "      <td>Activity</td>\n",
       "      <td>MAGMAPEAK</td>\n",
       "      <td>NaN</td>\n",
       "      <td>NaN</td>\n",
       "      <td>NaN</td>\n",
       "      <td>NaN</td>\n",
       "      <td>2019-08-06</td>\n",
       "      <td>4</td>\n",
       "      <td>Tuesday</td>\n",
       "    </tr>\n",
       "    <tr>\n",
       "      <th>4</th>\n",
       "      <td>4</td>\n",
       "      <td>1325467d</td>\n",
       "      <td>2b9d5af79bcdb79f</td>\n",
       "      <td>2019-08-06 04:58:16.680000+00:00</td>\n",
       "      <td>{\"coordinates\":{\"x\":273,\"y\":650,\"stage_width\":...</td>\n",
       "      <td>0006a69f</td>\n",
       "      <td>3</td>\n",
       "      <td>4070</td>\n",
       "      <td>2137</td>\n",
       "      <td>Sandcastle Builder (Activity)</td>\n",
       "      <td>Activity</td>\n",
       "      <td>MAGMAPEAK</td>\n",
       "      <td>NaN</td>\n",
       "      <td>NaN</td>\n",
       "      <td>NaN</td>\n",
       "      <td>NaN</td>\n",
       "      <td>2019-08-06</td>\n",
       "      <td>4</td>\n",
       "      <td>Tuesday</td>\n",
       "    </tr>\n",
       "  </tbody>\n",
       "</table>\n",
       "</div>"
      ],
      "text/plain": [
       "   Unnamed: 0  event_id      game_session                         timestamp  \\\n",
       "0           0  27253bdc  34ba1a28d02ba8ba  2019-08-06 04:57:18.904000+00:00   \n",
       "1           1  27253bdc  4b57c9a59474a1b9  2019-08-06 04:57:45.301000+00:00   \n",
       "2           2  77261ab5  2b9d5af79bcdb79f  2019-08-06 04:58:14.538000+00:00   \n",
       "3           3  b2dba42b  2b9d5af79bcdb79f  2019-08-06 04:58:14.615000+00:00   \n",
       "4           4  1325467d  2b9d5af79bcdb79f  2019-08-06 04:58:16.680000+00:00   \n",
       "\n",
       "                                          event_data installation_id  \\\n",
       "0             {\"event_code\": 2000, \"event_count\": 1}        0006a69f   \n",
       "1             {\"event_code\": 2000, \"event_count\": 1}        0006a69f   \n",
       "2  {\"version\":\"1.0\",\"event_count\":1,\"game_time\":0...        0006a69f   \n",
       "3  {\"description\":\"Let's build a sandcastle! Firs...        0006a69f   \n",
       "4  {\"coordinates\":{\"x\":273,\"y\":650,\"stage_width\":...        0006a69f   \n",
       "\n",
       "   event_count  event_code  game_time                          title  \\\n",
       "0            1        2000          0        Welcome to Lost Lagoon!   \n",
       "1            1        2000          0           Magma Peak - Level 1   \n",
       "2            1        2000          0  Sandcastle Builder (Activity)   \n",
       "3            2        3010         29  Sandcastle Builder (Activity)   \n",
       "4            3        4070       2137  Sandcastle Builder (Activity)   \n",
       "\n",
       "       type      world  num_correct  num_incorrect  accuracy  accuracy_group  \\\n",
       "0      Clip       NONE          NaN            NaN       NaN             NaN   \n",
       "1      Clip  MAGMAPEAK          NaN            NaN       NaN             NaN   \n",
       "2  Activity  MAGMAPEAK          NaN            NaN       NaN             NaN   \n",
       "3  Activity  MAGMAPEAK          NaN            NaN       NaN             NaN   \n",
       "4  Activity  MAGMAPEAK          NaN            NaN       NaN             NaN   \n",
       "\n",
       "         date  hour  weekday  \n",
       "0  2019-08-06     4  Tuesday  \n",
       "1  2019-08-06     4  Tuesday  \n",
       "2  2019-08-06     4  Tuesday  \n",
       "3  2019-08-06     4  Tuesday  \n",
       "4  2019-08-06     4  Tuesday  "
      ]
     },
     "execution_count": 162,
     "metadata": {},
     "output_type": "execute_result"
    }
   ],
   "source": [
    "big.head()"
   ]
  },
  {
   "cell_type": "code",
   "execution_count": 163,
   "metadata": {},
   "outputs": [],
   "source": [
    "assessment = big[big.type == \"Assessment\"]"
   ]
  },
  {
   "cell_type": "markdown",
   "metadata": {},
   "source": [
    "#### MAX CEILING"
   ]
  },
  {
   "cell_type": "code",
   "execution_count": 227,
   "metadata": {},
   "outputs": [],
   "source": [
    "mc = assessment.groupby([\"installation_id\",\"game_session\"])[[\"accuracy\"]].max().sort_values(by=[\"installation_id\",\"accuracy\"],ascending=False).reset_index()\n",
    "mc = mc.drop_duplicates(subset=\"installation_id\",keep=\"first\")\n",
    "\n",
    "max_ceiling = mc[[\"installation_id\",\"accuracy\"]].set_index(\"installation_id\").rename(columns={\"accuracy\":\"max_ceiling\"})"
   ]
  },
  {
   "cell_type": "code",
   "execution_count": 228,
   "metadata": {},
   "outputs": [
    {
     "data": {
      "text/plain": [
       "(2496, 1)"
      ]
     },
     "execution_count": 228,
     "metadata": {},
     "output_type": "execute_result"
    }
   ],
   "source": [
    "max_ceiling.shape"
   ]
  },
  {
   "cell_type": "markdown",
   "metadata": {},
   "source": [
    "#### LOWEST POSSIBLE SCORE"
   ]
  },
  {
   "cell_type": "code",
   "execution_count": 230,
   "metadata": {},
   "outputs": [],
   "source": [
    "ls = assessment.groupby([\"installation_id\",\"game_session\"])[[\"accuracy\"]].min().sort_values(by=[\"installation_id\",\"accuracy\"],ascending=True).reset_index()\n",
    "ls = ls.drop_duplicates(subset=\"installation_id\",keep=\"first\")\n",
    "\n",
    "lowest_score = ls[[\"installation_id\",\"accuracy\"]].set_index(\"installation_id\").rename(columns={\"accuracy\":\"low_score\"})"
   ]
  },
  {
   "cell_type": "code",
   "execution_count": 231,
   "metadata": {},
   "outputs": [
    {
     "data": {
      "text/plain": [
       "(2496, 1)"
      ]
     },
     "execution_count": 231,
     "metadata": {},
     "output_type": "execute_result"
    }
   ],
   "source": [
    "lowest_score.shape"
   ]
  },
  {
   "cell_type": "markdown",
   "metadata": {},
   "source": [
    "#### MEDIAN SCORE"
   ]
  },
  {
   "cell_type": "code",
   "execution_count": 232,
   "metadata": {},
   "outputs": [],
   "source": [
    "md = assessment.groupby([\"installation_id\",\"game_session\"])[[\"accuracy\"]].median().sort_values(by=[\"installation_id\",\"accuracy\"]).reset_index()\n",
    "md = md.drop_duplicates(subset=\"installation_id\",keep=\"first\")\n",
    "\n",
    "median_score = md[[\"installation_id\",\"accuracy\"]].set_index(\"installation_id\").rename(columns={\"accuracy\":\"median_score\"})"
   ]
  },
  {
   "cell_type": "code",
   "execution_count": 233,
   "metadata": {},
   "outputs": [
    {
     "data": {
      "text/plain": [
       "(2496, 1)"
      ]
     },
     "execution_count": 233,
     "metadata": {},
     "output_type": "execute_result"
    }
   ],
   "source": [
    "median_score.shape"
   ]
  },
  {
   "cell_type": "markdown",
   "metadata": {},
   "source": [
    "#### NUMBER OF ACTIONS"
   ]
  },
  {
   "cell_type": "code",
   "execution_count": 255,
   "metadata": {},
   "outputs": [],
   "source": [
    "actions = assessment.groupby(['installation_id','game_session'])[['event_id']].count().reset_index().groupby(\"installation_id\").sum().reset_index()\n",
    "\n",
    "actions = actions[[\"installation_id\",\"event_id\"]].set_index(\"installation_id\").rename(columns={\"event_id\":\"no_actions\"})"
   ]
  },
  {
   "cell_type": "code",
   "execution_count": 257,
   "metadata": {},
   "outputs": [
    {
     "data": {
      "text/plain": [
       "(2496, 1)"
      ]
     },
     "execution_count": 257,
     "metadata": {},
     "output_type": "execute_result"
    }
   ],
   "source": [
    "actions.shape"
   ]
  },
  {
   "cell_type": "markdown",
   "metadata": {},
   "source": [
    "#### NUMBER OF INCORRECT"
   ]
  },
  {
   "cell_type": "code",
   "execution_count": 267,
   "metadata": {},
   "outputs": [],
   "source": [
    "no_incorrect = assessment.groupby(['installation_id','game_session'])[['num_incorrect']].count().reset_index().groupby(\"installation_id\").sum()"
   ]
  },
  {
   "cell_type": "code",
   "execution_count": 268,
   "metadata": {},
   "outputs": [
    {
     "data": {
      "text/plain": [
       "(2496, 1)"
      ]
     },
     "execution_count": 268,
     "metadata": {},
     "output_type": "execute_result"
    }
   ],
   "source": [
    "no_incorrect.shape"
   ]
  },
  {
   "cell_type": "markdown",
   "metadata": {},
   "source": [
    "#### ACCURACY TENDENCY"
   ]
  },
  {
   "cell_type": "code",
   "execution_count": 297,
   "metadata": {},
   "outputs": [],
   "source": [
    "tendency = assessment.groupby(['installation_id','game_session',\"accuracy\"])[['accuracy']].count().rename(columns={\"accuracy\":\"acc\"}).sort_values(by=[\"installation_id\",\"acc\"],ascending=False).reset_index()"
   ]
  },
  {
   "cell_type": "code",
   "execution_count": 299,
   "metadata": {},
   "outputs": [],
   "source": [
    "tendency = tendency.drop_duplicates(subset=\"installation_id\",keep=\"first\")"
   ]
  },
  {
   "cell_type": "code",
   "execution_count": 304,
   "metadata": {},
   "outputs": [],
   "source": [
    "tendency = tendency[[\"installation_id\",\"accuracy\"]]"
   ]
  },
  {
   "cell_type": "code",
   "execution_count": 307,
   "metadata": {},
   "outputs": [],
   "source": [
    "condition_list = [tendency.accuracy == 0, tendency.accuracy == 0.5,tendency.accuracy == 1, (~tendency.accuracy.isin([0,1,0.5]))]"
   ]
  },
  {
   "cell_type": "code",
   "execution_count": 309,
   "metadata": {},
   "outputs": [],
   "source": [
    "choice_list = [\"low_scorer\",\"avg_scorer\",\"high_scorer\",\"random_scorer\"]"
   ]
  },
  {
   "cell_type": "code",
   "execution_count": 310,
   "metadata": {},
   "outputs": [
    {
     "data": {
      "text/html": [
       "<div>\n",
       "<style scoped>\n",
       "    .dataframe tbody tr th:only-of-type {\n",
       "        vertical-align: middle;\n",
       "    }\n",
       "\n",
       "    .dataframe tbody tr th {\n",
       "        vertical-align: top;\n",
       "    }\n",
       "\n",
       "    .dataframe thead th {\n",
       "        text-align: right;\n",
       "    }\n",
       "</style>\n",
       "<table border=\"1\" class=\"dataframe\">\n",
       "  <thead>\n",
       "    <tr style=\"text-align: right;\">\n",
       "      <th></th>\n",
       "      <th>installation_id</th>\n",
       "      <th>accuracy</th>\n",
       "    </tr>\n",
       "  </thead>\n",
       "  <tbody>\n",
       "    <tr>\n",
       "      <th>0</th>\n",
       "      <td>ffeb0b1b</td>\n",
       "      <td>0.000000</td>\n",
       "    </tr>\n",
       "    <tr>\n",
       "      <th>2</th>\n",
       "      <td>ffc90c32</td>\n",
       "      <td>0.333333</td>\n",
       "    </tr>\n",
       "    <tr>\n",
       "      <th>7</th>\n",
       "      <td>ff9715db</td>\n",
       "      <td>0.000000</td>\n",
       "    </tr>\n",
       "    <tr>\n",
       "      <th>15</th>\n",
       "      <td>ff9305d7</td>\n",
       "      <td>0.076923</td>\n",
       "    </tr>\n",
       "    <tr>\n",
       "      <th>18</th>\n",
       "      <td>ff90db99</td>\n",
       "      <td>0.333333</td>\n",
       "    </tr>\n",
       "  </tbody>\n",
       "</table>\n",
       "</div>"
      ],
      "text/plain": [
       "   installation_id  accuracy\n",
       "0         ffeb0b1b  0.000000\n",
       "2         ffc90c32  0.333333\n",
       "7         ff9715db  0.000000\n",
       "15        ff9305d7  0.076923\n",
       "18        ff90db99  0.333333"
      ]
     },
     "execution_count": 310,
     "metadata": {},
     "output_type": "execute_result"
    }
   ],
   "source": [
    "tendency.head()"
   ]
  },
  {
   "cell_type": "code",
   "execution_count": 311,
   "metadata": {},
   "outputs": [],
   "source": [
    "tendency[\"tendency\"] = np.select(condition_list,choice_list,0)"
   ]
  },
  {
   "cell_type": "code",
   "execution_count": 302,
   "metadata": {},
   "outputs": [
    {
     "data": {
      "text/plain": [
       "(2496, 4)"
      ]
     },
     "execution_count": 302,
     "metadata": {},
     "output_type": "execute_result"
    }
   ],
   "source": [
    "tendency.shape"
   ]
  },
  {
   "cell_type": "code",
   "execution_count": null,
   "metadata": {},
   "outputs": [],
   "source": []
  },
  {
   "cell_type": "markdown",
   "metadata": {},
   "source": [
    "---\n",
    "## V. TEST-TRAIN SPLIT & FEATURE ENGINEERING "
   ]
  },
  {
   "cell_type": "markdown",
   "metadata": {},
   "source": [
    "Acquire \"tidy\" data frames with features and y for feature engineering."
   ]
  },
  {
   "cell_type": "code",
   "execution_count": 143,
   "metadata": {},
   "outputs": [],
   "source": [
    "# Features on separate data frames\n",
    "qu = pd.read_csv(\"cris_df.csv\")\n",
    "be = pd.read_csv(\"beta.csv\")"
   ]
  },
  {
   "cell_type": "code",
   "execution_count": 144,
   "metadata": {},
   "outputs": [],
   "source": [
    "qu.set_index(\"installation_id\",inplace=True)\n",
    "be.set_index(\"installation_id\",inplace=True)"
   ]
  },
  {
   "cell_type": "code",
   "execution_count": 145,
   "metadata": {},
   "outputs": [
    {
     "data": {
      "text/html": [
       "<div>\n",
       "<style scoped>\n",
       "    .dataframe tbody tr th:only-of-type {\n",
       "        vertical-align: middle;\n",
       "    }\n",
       "\n",
       "    .dataframe tbody tr th {\n",
       "        vertical-align: top;\n",
       "    }\n",
       "\n",
       "    .dataframe thead th {\n",
       "        text-align: right;\n",
       "    }\n",
       "</style>\n",
       "<table border=\"1\" class=\"dataframe\">\n",
       "  <thead>\n",
       "    <tr style=\"text-align: right;\">\n",
       "      <th></th>\n",
       "      <th>max_ceiling</th>\n",
       "      <th>low_score</th>\n",
       "      <th>median_score</th>\n",
       "      <th>no_actions</th>\n",
       "      <th>no_incorrect</th>\n",
       "      <th>acc_tendency_high_scorer</th>\n",
       "      <th>acc_tendency_low_scorer</th>\n",
       "      <th>acc_tendency_mid_scorer</th>\n",
       "      <th>acc_tendency_random_scorer</th>\n",
       "    </tr>\n",
       "    <tr>\n",
       "      <th>installation_id</th>\n",
       "      <th></th>\n",
       "      <th></th>\n",
       "      <th></th>\n",
       "      <th></th>\n",
       "      <th></th>\n",
       "      <th></th>\n",
       "      <th></th>\n",
       "      <th></th>\n",
       "      <th></th>\n",
       "    </tr>\n",
       "  </thead>\n",
       "  <tbody>\n",
       "    <tr>\n",
       "      <th>ffeb0b1b</th>\n",
       "      <td>0.333333</td>\n",
       "      <td>0.000000</td>\n",
       "      <td>0.333333</td>\n",
       "      <td>247</td>\n",
       "      <td>397.0</td>\n",
       "      <td>0</td>\n",
       "      <td>0</td>\n",
       "      <td>0</td>\n",
       "      <td>1</td>\n",
       "    </tr>\n",
       "    <tr>\n",
       "      <th>ffd2871d</th>\n",
       "      <td>1.000000</td>\n",
       "      <td>1.000000</td>\n",
       "      <td>1.000000</td>\n",
       "      <td>40</td>\n",
       "      <td>0.0</td>\n",
       "      <td>1</td>\n",
       "      <td>0</td>\n",
       "      <td>0</td>\n",
       "      <td>0</td>\n",
       "    </tr>\n",
       "    <tr>\n",
       "      <th>ffc90c32</th>\n",
       "      <td>1.000000</td>\n",
       "      <td>0.333333</td>\n",
       "      <td>1.000000</td>\n",
       "      <td>242</td>\n",
       "      <td>124.0</td>\n",
       "      <td>1</td>\n",
       "      <td>0</td>\n",
       "      <td>0</td>\n",
       "      <td>0</td>\n",
       "    </tr>\n",
       "    <tr>\n",
       "      <th>ff9715db</th>\n",
       "      <td>1.000000</td>\n",
       "      <td>0.000000</td>\n",
       "      <td>1.000000</td>\n",
       "      <td>358</td>\n",
       "      <td>621.0</td>\n",
       "      <td>1</td>\n",
       "      <td>0</td>\n",
       "      <td>0</td>\n",
       "      <td>0</td>\n",
       "    </tr>\n",
       "    <tr>\n",
       "      <th>ff9305d7</th>\n",
       "      <td>0.250000</td>\n",
       "      <td>0.000000</td>\n",
       "      <td>0.076923</td>\n",
       "      <td>395</td>\n",
       "      <td>2913.0</td>\n",
       "      <td>0</td>\n",
       "      <td>0</td>\n",
       "      <td>0</td>\n",
       "      <td>1</td>\n",
       "    </tr>\n",
       "  </tbody>\n",
       "</table>\n",
       "</div>"
      ],
      "text/plain": [
       "                 max_ceiling  low_score  median_score  no_actions  \\\n",
       "installation_id                                                     \n",
       "ffeb0b1b            0.333333   0.000000      0.333333         247   \n",
       "ffd2871d            1.000000   1.000000      1.000000          40   \n",
       "ffc90c32            1.000000   0.333333      1.000000         242   \n",
       "ff9715db            1.000000   0.000000      1.000000         358   \n",
       "ff9305d7            0.250000   0.000000      0.076923         395   \n",
       "\n",
       "                 no_incorrect  acc_tendency_high_scorer  \\\n",
       "installation_id                                           \n",
       "ffeb0b1b                397.0                         0   \n",
       "ffd2871d                  0.0                         1   \n",
       "ffc90c32                124.0                         1   \n",
       "ff9715db                621.0                         1   \n",
       "ff9305d7               2913.0                         0   \n",
       "\n",
       "                 acc_tendency_low_scorer  acc_tendency_mid_scorer  \\\n",
       "installation_id                                                     \n",
       "ffeb0b1b                               0                        0   \n",
       "ffd2871d                               0                        0   \n",
       "ffc90c32                               0                        0   \n",
       "ff9715db                               0                        0   \n",
       "ff9305d7                               0                        0   \n",
       "\n",
       "                 acc_tendency_random_scorer  \n",
       "installation_id                              \n",
       "ffeb0b1b                                  1  \n",
       "ffd2871d                                  0  \n",
       "ffc90c32                                  0  \n",
       "ff9715db                                  0  \n",
       "ff9305d7                                  1  "
      ]
     },
     "execution_count": 145,
     "metadata": {},
     "output_type": "execute_result"
    }
   ],
   "source": [
    "qu.head()"
   ]
  },
  {
   "cell_type": "code",
   "execution_count": 146,
   "metadata": {},
   "outputs": [],
   "source": [
    "# Data Frame with accuracy group, i.e., the \"y\" or target\n",
    "y = pd.read_csv(\"last_assessments.csv\")\n",
    "y = y[[\"installation_id\",\"accuracy_group\"]].set_index(\"installation_id\")"
   ]
  },
  {
   "cell_type": "markdown",
   "metadata": {},
   "source": [
    "Join the features and target data frames.  \n",
    "Check first if everything have the same shape."
   ]
  },
  {
   "cell_type": "code",
   "execution_count": 147,
   "metadata": {},
   "outputs": [
    {
     "data": {
      "text/html": [
       "<div>\n",
       "<style scoped>\n",
       "    .dataframe tbody tr th:only-of-type {\n",
       "        vertical-align: middle;\n",
       "    }\n",
       "\n",
       "    .dataframe tbody tr th {\n",
       "        vertical-align: top;\n",
       "    }\n",
       "\n",
       "    .dataframe thead th {\n",
       "        text-align: right;\n",
       "    }\n",
       "</style>\n",
       "<table border=\"1\" class=\"dataframe\">\n",
       "  <thead>\n",
       "    <tr style=\"text-align: right;\">\n",
       "      <th></th>\n",
       "      <th>0.0</th>\n",
       "      <th>1.0</th>\n",
       "      <th>2.0</th>\n",
       "      <th>3.0</th>\n",
       "      <th>Activity</th>\n",
       "      <th>Assessment</th>\n",
       "      <th>Clip</th>\n",
       "      <th>Game</th>\n",
       "      <th>assesments_CC</th>\n",
       "      <th>assessments_MP</th>\n",
       "      <th>...</th>\n",
       "      <th>shroom_max</th>\n",
       "      <th>max_ceiling</th>\n",
       "      <th>low_score</th>\n",
       "      <th>median_score</th>\n",
       "      <th>no_actions</th>\n",
       "      <th>no_incorrect</th>\n",
       "      <th>acc_tendency_high_scorer</th>\n",
       "      <th>acc_tendency_low_scorer</th>\n",
       "      <th>acc_tendency_mid_scorer</th>\n",
       "      <th>acc_tendency_random_scorer</th>\n",
       "    </tr>\n",
       "    <tr>\n",
       "      <th>installation_id</th>\n",
       "      <th></th>\n",
       "      <th></th>\n",
       "      <th></th>\n",
       "      <th></th>\n",
       "      <th></th>\n",
       "      <th></th>\n",
       "      <th></th>\n",
       "      <th></th>\n",
       "      <th></th>\n",
       "      <th></th>\n",
       "      <th></th>\n",
       "      <th></th>\n",
       "      <th></th>\n",
       "      <th></th>\n",
       "      <th></th>\n",
       "      <th></th>\n",
       "      <th></th>\n",
       "      <th></th>\n",
       "      <th></th>\n",
       "      <th></th>\n",
       "      <th></th>\n",
       "    </tr>\n",
       "  </thead>\n",
       "  <tbody>\n",
       "    <tr>\n",
       "      <th>0006a69f</th>\n",
       "      <td>1.0</td>\n",
       "      <td>0.0</td>\n",
       "      <td>1.0</td>\n",
       "      <td>2.0</td>\n",
       "      <td>10.0</td>\n",
       "      <td>4.0</td>\n",
       "      <td>28.0</td>\n",
       "      <td>13.0</td>\n",
       "      <td>0.0</td>\n",
       "      <td>0.0</td>\n",
       "      <td>...</td>\n",
       "      <td>1.0</td>\n",
       "      <td>1.0</td>\n",
       "      <td>0.0</td>\n",
       "      <td>0.5</td>\n",
       "      <td>244</td>\n",
       "      <td>999.0</td>\n",
       "      <td>1</td>\n",
       "      <td>0</td>\n",
       "      <td>0</td>\n",
       "      <td>0</td>\n",
       "    </tr>\n",
       "    <tr>\n",
       "      <th>0006c192</th>\n",
       "      <td>1.0</td>\n",
       "      <td>0.0</td>\n",
       "      <td>0.0</td>\n",
       "      <td>1.0</td>\n",
       "      <td>8.0</td>\n",
       "      <td>2.0</td>\n",
       "      <td>30.0</td>\n",
       "      <td>6.0</td>\n",
       "      <td>0.0</td>\n",
       "      <td>1.0</td>\n",
       "      <td>...</td>\n",
       "      <td>0.0</td>\n",
       "      <td>1.0</td>\n",
       "      <td>0.0</td>\n",
       "      <td>0.5</td>\n",
       "      <td>338</td>\n",
       "      <td>659.0</td>\n",
       "      <td>0</td>\n",
       "      <td>0</td>\n",
       "      <td>1</td>\n",
       "      <td>0</td>\n",
       "    </tr>\n",
       "    <tr>\n",
       "      <th>00129856</th>\n",
       "      <td>0.0</td>\n",
       "      <td>0.0</td>\n",
       "      <td>0.0</td>\n",
       "      <td>0.0</td>\n",
       "      <td>0.0</td>\n",
       "      <td>0.0</td>\n",
       "      <td>0.0</td>\n",
       "      <td>0.0</td>\n",
       "      <td>0.0</td>\n",
       "      <td>0.0</td>\n",
       "      <td>...</td>\n",
       "      <td>0.0</td>\n",
       "      <td>1.0</td>\n",
       "      <td>1.0</td>\n",
       "      <td>1.0</td>\n",
       "      <td>40</td>\n",
       "      <td>0.0</td>\n",
       "      <td>1</td>\n",
       "      <td>0</td>\n",
       "      <td>0</td>\n",
       "      <td>0</td>\n",
       "    </tr>\n",
       "    <tr>\n",
       "      <th>001d0ed0</th>\n",
       "      <td>1.0</td>\n",
       "      <td>0.0</td>\n",
       "      <td>1.0</td>\n",
       "      <td>2.0</td>\n",
       "      <td>1.0</td>\n",
       "      <td>4.0</td>\n",
       "      <td>19.0</td>\n",
       "      <td>3.0</td>\n",
       "      <td>1.0</td>\n",
       "      <td>0.0</td>\n",
       "      <td>...</td>\n",
       "      <td>1.0</td>\n",
       "      <td>1.0</td>\n",
       "      <td>0.0</td>\n",
       "      <td>0.5</td>\n",
       "      <td>192</td>\n",
       "      <td>343.0</td>\n",
       "      <td>0</td>\n",
       "      <td>1</td>\n",
       "      <td>0</td>\n",
       "      <td>0</td>\n",
       "    </tr>\n",
       "    <tr>\n",
       "      <th>00225f67</th>\n",
       "      <td>0.0</td>\n",
       "      <td>0.0</td>\n",
       "      <td>0.0</td>\n",
       "      <td>0.0</td>\n",
       "      <td>3.0</td>\n",
       "      <td>0.0</td>\n",
       "      <td>10.0</td>\n",
       "      <td>3.0</td>\n",
       "      <td>0.0</td>\n",
       "      <td>0.0</td>\n",
       "      <td>...</td>\n",
       "      <td>0.0</td>\n",
       "      <td>0.0</td>\n",
       "      <td>0.0</td>\n",
       "      <td>0.0</td>\n",
       "      <td>36</td>\n",
       "      <td>72.0</td>\n",
       "      <td>0</td>\n",
       "      <td>1</td>\n",
       "      <td>0</td>\n",
       "      <td>0</td>\n",
       "    </tr>\n",
       "  </tbody>\n",
       "</table>\n",
       "<p>5 rows × 52 columns</p>\n",
       "</div>"
      ],
      "text/plain": [
       "                 0.0  1.0  2.0  3.0  Activity  Assessment  Clip  Game  \\\n",
       "installation_id                                                         \n",
       "0006a69f         1.0  0.0  1.0  2.0      10.0         4.0  28.0  13.0   \n",
       "0006c192         1.0  0.0  0.0  1.0       8.0         2.0  30.0   6.0   \n",
       "00129856         0.0  0.0  0.0  0.0       0.0         0.0   0.0   0.0   \n",
       "001d0ed0         1.0  0.0  1.0  2.0       1.0         4.0  19.0   3.0   \n",
       "00225f67         0.0  0.0  0.0  0.0       3.0         0.0  10.0   3.0   \n",
       "\n",
       "                 assesments_CC  assessments_MP  ...  shroom_max  max_ceiling  \\\n",
       "installation_id                                 ...                            \n",
       "0006a69f                   0.0             0.0  ...         1.0          1.0   \n",
       "0006c192                   0.0             1.0  ...         0.0          1.0   \n",
       "00129856                   0.0             0.0  ...         0.0          1.0   \n",
       "001d0ed0                   1.0             0.0  ...         1.0          1.0   \n",
       "00225f67                   0.0             0.0  ...         0.0          0.0   \n",
       "\n",
       "                 low_score  median_score  no_actions  no_incorrect  \\\n",
       "installation_id                                                      \n",
       "0006a69f               0.0           0.5         244         999.0   \n",
       "0006c192               0.0           0.5         338         659.0   \n",
       "00129856               1.0           1.0          40           0.0   \n",
       "001d0ed0               0.0           0.5         192         343.0   \n",
       "00225f67               0.0           0.0          36          72.0   \n",
       "\n",
       "                 acc_tendency_high_scorer  acc_tendency_low_scorer  \\\n",
       "installation_id                                                      \n",
       "0006a69f                                1                        0   \n",
       "0006c192                                0                        0   \n",
       "00129856                                1                        0   \n",
       "001d0ed0                                0                        1   \n",
       "00225f67                                0                        1   \n",
       "\n",
       "                 acc_tendency_mid_scorer  acc_tendency_random_scorer  \n",
       "installation_id                                                       \n",
       "0006a69f                               0                           0  \n",
       "0006c192                               1                           0  \n",
       "00129856                               0                           0  \n",
       "001d0ed0                               0                           0  \n",
       "00225f67                               0                           0  \n",
       "\n",
       "[5 rows x 52 columns]"
      ]
     },
     "execution_count": 147,
     "metadata": {},
     "output_type": "execute_result"
    }
   ],
   "source": [
    "features = be.join(qu)\n",
    "features = features.copy().drop(columns=\"accuracy_group\")\n",
    "features.head()"
   ]
  },
  {
   "cell_type": "code",
   "execution_count": 150,
   "metadata": {},
   "outputs": [
    {
     "name": "stdout",
     "output_type": "stream",
     "text": [
      "Features Shape: (3523, 52)\n",
      "y Shape: (3523, 1)\n"
     ]
    }
   ],
   "source": [
    "print(f\"Features Shape: {features.shape}\")\n",
    "print(f\"y Shape: {y.shape}\")"
   ]
  },
  {
   "cell_type": "markdown",
   "metadata": {},
   "source": [
    "### Scale"
   ]
  },
  {
   "cell_type": "code",
   "execution_count": 151,
   "metadata": {},
   "outputs": [],
   "source": [
    "scaler = StandardScaler()\n",
    "scaled_features = pd.DataFrame(scaler.fit_transform(features),columns=features.columns).set_index(features.index)"
   ]
  },
  {
   "cell_type": "code",
   "execution_count": 152,
   "metadata": {},
   "outputs": [
    {
     "data": {
      "text/html": [
       "<div>\n",
       "<style scoped>\n",
       "    .dataframe tbody tr th:only-of-type {\n",
       "        vertical-align: middle;\n",
       "    }\n",
       "\n",
       "    .dataframe tbody tr th {\n",
       "        vertical-align: top;\n",
       "    }\n",
       "\n",
       "    .dataframe thead th {\n",
       "        text-align: right;\n",
       "    }\n",
       "</style>\n",
       "<table border=\"1\" class=\"dataframe\">\n",
       "  <thead>\n",
       "    <tr style=\"text-align: right;\">\n",
       "      <th></th>\n",
       "      <th>0.0</th>\n",
       "      <th>1.0</th>\n",
       "      <th>2.0</th>\n",
       "      <th>3.0</th>\n",
       "      <th>Activity</th>\n",
       "      <th>Assessment</th>\n",
       "      <th>Clip</th>\n",
       "      <th>Game</th>\n",
       "      <th>assesments_CC</th>\n",
       "      <th>assessments_MP</th>\n",
       "      <th>...</th>\n",
       "      <th>shroom_max</th>\n",
       "      <th>max_ceiling</th>\n",
       "      <th>low_score</th>\n",
       "      <th>median_score</th>\n",
       "      <th>no_actions</th>\n",
       "      <th>no_incorrect</th>\n",
       "      <th>acc_tendency_high_scorer</th>\n",
       "      <th>acc_tendency_low_scorer</th>\n",
       "      <th>acc_tendency_mid_scorer</th>\n",
       "      <th>acc_tendency_random_scorer</th>\n",
       "    </tr>\n",
       "    <tr>\n",
       "      <th>installation_id</th>\n",
       "      <th></th>\n",
       "      <th></th>\n",
       "      <th></th>\n",
       "      <th></th>\n",
       "      <th></th>\n",
       "      <th></th>\n",
       "      <th></th>\n",
       "      <th></th>\n",
       "      <th></th>\n",
       "      <th></th>\n",
       "      <th></th>\n",
       "      <th></th>\n",
       "      <th></th>\n",
       "      <th></th>\n",
       "      <th></th>\n",
       "      <th></th>\n",
       "      <th></th>\n",
       "      <th></th>\n",
       "      <th></th>\n",
       "      <th></th>\n",
       "      <th></th>\n",
       "    </tr>\n",
       "  </thead>\n",
       "  <tbody>\n",
       "    <tr>\n",
       "      <th>0006a69f</th>\n",
       "      <td>0.242308</td>\n",
       "      <td>-0.47812</td>\n",
       "      <td>0.768704</td>\n",
       "      <td>0.153026</td>\n",
       "      <td>0.475096</td>\n",
       "      <td>0.222541</td>\n",
       "      <td>0.437310</td>\n",
       "      <td>0.487777</td>\n",
       "      <td>-0.676356</td>\n",
       "      <td>-0.588786</td>\n",
       "      <td>...</td>\n",
       "      <td>1.464983</td>\n",
       "      <td>0.559604</td>\n",
       "      <td>-0.796056</td>\n",
       "      <td>-0.021473</td>\n",
       "      <td>0.194814</td>\n",
       "      <td>0.121308</td>\n",
       "      <td>1.106398</td>\n",
       "      <td>-0.655583</td>\n",
       "      <td>-0.339970</td>\n",
       "      <td>-0.413775</td>\n",
       "    </tr>\n",
       "    <tr>\n",
       "      <th>0006c192</th>\n",
       "      <td>0.242308</td>\n",
       "      <td>-0.47812</td>\n",
       "      <td>-0.492071</td>\n",
       "      <td>-0.276202</td>\n",
       "      <td>0.238053</td>\n",
       "      <td>-0.287385</td>\n",
       "      <td>0.525041</td>\n",
       "      <td>-0.074198</td>\n",
       "      <td>-0.676356</td>\n",
       "      <td>0.240600</td>\n",
       "      <td>...</td>\n",
       "      <td>-0.731858</td>\n",
       "      <td>0.559604</td>\n",
       "      <td>-0.796056</td>\n",
       "      <td>-0.021473</td>\n",
       "      <td>0.640813</td>\n",
       "      <td>0.015279</td>\n",
       "      <td>-0.903834</td>\n",
       "      <td>-0.655583</td>\n",
       "      <td>2.941438</td>\n",
       "      <td>-0.413775</td>\n",
       "    </tr>\n",
       "    <tr>\n",
       "      <th>00129856</th>\n",
       "      <td>-0.502589</td>\n",
       "      <td>-0.47812</td>\n",
       "      <td>-0.492071</td>\n",
       "      <td>-0.705429</td>\n",
       "      <td>-0.710121</td>\n",
       "      <td>-0.797310</td>\n",
       "      <td>-0.790924</td>\n",
       "      <td>-0.555890</td>\n",
       "      <td>-0.676356</td>\n",
       "      <td>-0.588786</td>\n",
       "      <td>...</td>\n",
       "      <td>-0.731858</td>\n",
       "      <td>0.559604</td>\n",
       "      <td>1.684480</td>\n",
       "      <td>1.186022</td>\n",
       "      <td>-0.773098</td>\n",
       "      <td>-0.190230</td>\n",
       "      <td>1.106398</td>\n",
       "      <td>-0.655583</td>\n",
       "      <td>-0.339970</td>\n",
       "      <td>-0.413775</td>\n",
       "    </tr>\n",
       "    <tr>\n",
       "      <th>001d0ed0</th>\n",
       "      <td>0.242308</td>\n",
       "      <td>-0.47812</td>\n",
       "      <td>0.768704</td>\n",
       "      <td>0.153026</td>\n",
       "      <td>-0.591599</td>\n",
       "      <td>0.222541</td>\n",
       "      <td>0.042521</td>\n",
       "      <td>-0.315044</td>\n",
       "      <td>-0.152087</td>\n",
       "      <td>-0.588786</td>\n",
       "      <td>...</td>\n",
       "      <td>1.464983</td>\n",
       "      <td>0.559604</td>\n",
       "      <td>-0.796056</td>\n",
       "      <td>-0.021473</td>\n",
       "      <td>-0.051909</td>\n",
       "      <td>-0.083266</td>\n",
       "      <td>-0.903834</td>\n",
       "      <td>1.525360</td>\n",
       "      <td>-0.339970</td>\n",
       "      <td>-0.413775</td>\n",
       "    </tr>\n",
       "    <tr>\n",
       "      <th>00225f67</th>\n",
       "      <td>-0.502589</td>\n",
       "      <td>-0.47812</td>\n",
       "      <td>-0.492071</td>\n",
       "      <td>-0.705429</td>\n",
       "      <td>-0.354556</td>\n",
       "      <td>-0.797310</td>\n",
       "      <td>-0.352269</td>\n",
       "      <td>-0.315044</td>\n",
       "      <td>-0.676356</td>\n",
       "      <td>-0.588786</td>\n",
       "      <td>...</td>\n",
       "      <td>-0.731858</td>\n",
       "      <td>-2.155483</td>\n",
       "      <td>-0.796056</td>\n",
       "      <td>-1.228967</td>\n",
       "      <td>-0.792077</td>\n",
       "      <td>-0.167777</td>\n",
       "      <td>-0.903834</td>\n",
       "      <td>1.525360</td>\n",
       "      <td>-0.339970</td>\n",
       "      <td>-0.413775</td>\n",
       "    </tr>\n",
       "  </tbody>\n",
       "</table>\n",
       "<p>5 rows × 52 columns</p>\n",
       "</div>"
      ],
      "text/plain": [
       "                      0.0      1.0       2.0       3.0  Activity  Assessment  \\\n",
       "installation_id                                                                \n",
       "0006a69f         0.242308 -0.47812  0.768704  0.153026  0.475096    0.222541   \n",
       "0006c192         0.242308 -0.47812 -0.492071 -0.276202  0.238053   -0.287385   \n",
       "00129856        -0.502589 -0.47812 -0.492071 -0.705429 -0.710121   -0.797310   \n",
       "001d0ed0         0.242308 -0.47812  0.768704  0.153026 -0.591599    0.222541   \n",
       "00225f67        -0.502589 -0.47812 -0.492071 -0.705429 -0.354556   -0.797310   \n",
       "\n",
       "                     Clip      Game  assesments_CC  assessments_MP  ...  \\\n",
       "installation_id                                                     ...   \n",
       "0006a69f         0.437310  0.487777      -0.676356       -0.588786  ...   \n",
       "0006c192         0.525041 -0.074198      -0.676356        0.240600  ...   \n",
       "00129856        -0.790924 -0.555890      -0.676356       -0.588786  ...   \n",
       "001d0ed0         0.042521 -0.315044      -0.152087       -0.588786  ...   \n",
       "00225f67        -0.352269 -0.315044      -0.676356       -0.588786  ...   \n",
       "\n",
       "                 shroom_max  max_ceiling  low_score  median_score  no_actions  \\\n",
       "installation_id                                                                 \n",
       "0006a69f           1.464983     0.559604  -0.796056     -0.021473    0.194814   \n",
       "0006c192          -0.731858     0.559604  -0.796056     -0.021473    0.640813   \n",
       "00129856          -0.731858     0.559604   1.684480      1.186022   -0.773098   \n",
       "001d0ed0           1.464983     0.559604  -0.796056     -0.021473   -0.051909   \n",
       "00225f67          -0.731858    -2.155483  -0.796056     -1.228967   -0.792077   \n",
       "\n",
       "                 no_incorrect  acc_tendency_high_scorer  \\\n",
       "installation_id                                           \n",
       "0006a69f             0.121308                  1.106398   \n",
       "0006c192             0.015279                 -0.903834   \n",
       "00129856            -0.190230                  1.106398   \n",
       "001d0ed0            -0.083266                 -0.903834   \n",
       "00225f67            -0.167777                 -0.903834   \n",
       "\n",
       "                 acc_tendency_low_scorer  acc_tendency_mid_scorer  \\\n",
       "installation_id                                                     \n",
       "0006a69f                       -0.655583                -0.339970   \n",
       "0006c192                       -0.655583                 2.941438   \n",
       "00129856                       -0.655583                -0.339970   \n",
       "001d0ed0                        1.525360                -0.339970   \n",
       "00225f67                        1.525360                -0.339970   \n",
       "\n",
       "                 acc_tendency_random_scorer  \n",
       "installation_id                              \n",
       "0006a69f                          -0.413775  \n",
       "0006c192                          -0.413775  \n",
       "00129856                          -0.413775  \n",
       "001d0ed0                          -0.413775  \n",
       "00225f67                          -0.413775  \n",
       "\n",
       "[5 rows x 52 columns]"
      ]
     },
     "execution_count": 152,
     "metadata": {},
     "output_type": "execute_result"
    }
   ],
   "source": [
    "scaled_features.head()"
   ]
  },
  {
   "cell_type": "code",
   "execution_count": 153,
   "metadata": {},
   "outputs": [
    {
     "data": {
      "text/plain": [
       "Index(['0.0', '1.0', '2.0', '3.0', 'Activity', 'Assessment', 'Clip', 'Game',\n",
       "       'assesments_CC', 'assessments_MP', 'Assessments_TTC',\n",
       "       'max_accuracy_group', 'median_accuracy_group', 'low_accuracy_group',\n",
       "       'avg_no_actions', 'CRYSTALCAVES', 'MAGMAPEAK', 'NONE', 'TREETOPCITY',\n",
       "       'activity_mins', 'assessment_mins', 'clip_mins', 'game_mins',\n",
       "       'bird_med', 'cart_med', 'cauld_med', 'chest_med', 'shroom_med',\n",
       "       'bird_mean', 'cart_mean', 'cauld_mean', 'chest_mean', 'shroom_mean',\n",
       "       'bird_min', 'cart_min', 'cauld_min', 'chest_min', 'shroom_min',\n",
       "       'bird_max', 'cart_max', 'cauld_max', 'chest_max', 'shroom_max',\n",
       "       'max_ceiling', 'low_score', 'median_score', 'no_actions',\n",
       "       'no_incorrect', 'acc_tendency_high_scorer', 'acc_tendency_low_scorer',\n",
       "       'acc_tendency_mid_scorer', 'acc_tendency_random_scorer'],\n",
       "      dtype='object')"
      ]
     },
     "execution_count": 153,
     "metadata": {},
     "output_type": "execute_result"
    }
   ],
   "source": [
    "scaled_features.columns"
   ]
  },
  {
   "cell_type": "code",
   "execution_count": 154,
   "metadata": {},
   "outputs": [],
   "source": [
    "df_feed = scaled_features.copy()"
   ]
  },
  {
   "cell_type": "markdown",
   "metadata": {},
   "source": [
    "### Train-Test Split"
   ]
  },
  {
   "cell_type": "code",
   "execution_count": 155,
   "metadata": {},
   "outputs": [],
   "source": [
    "X_train, X_test, y_train, y_test = train_test_split(df_feed,y, test_size=0.3, stratify=y[\"accuracy_group\"],random_state=123)"
   ]
  },
  {
   "cell_type": "markdown",
   "metadata": {},
   "source": [
    "### Feature Engineering"
   ]
  },
  {
   "cell_type": "code",
   "execution_count": 156,
   "metadata": {},
   "outputs": [
    {
     "data": {
      "text/plain": [
       "LassoCV(alphas=None, copy_X=True, cv='warn', eps=0.001, fit_intercept=True,\n",
       "        max_iter=1000, n_alphas=100, n_jobs=None, normalize=False,\n",
       "        positive=False, precompute='auto', random_state=None,\n",
       "        selection='cyclic', tol=0.0001, verbose=False)"
      ]
     },
     "execution_count": 156,
     "metadata": {},
     "output_type": "execute_result"
    }
   ],
   "source": [
    "lasso = LassoCV()\n",
    "lasso.fit(X_train, y_train)"
   ]
  },
  {
   "cell_type": "code",
   "execution_count": 157,
   "metadata": {},
   "outputs": [
    {
     "name": "stdout",
     "output_type": "stream",
     "text": [
      "Best alpha using built-in LassoCV: 0.0074014729380485625\n",
      "Best score using built-in LassoCV: 0.6282428918609249\n"
     ]
    }
   ],
   "source": [
    "print(f\"Best alpha using built-in LassoCV: {lasso.alpha_}\")\n",
    "print(f\"Best score using built-in LassoCV: {lasso.score(X_train,y_train)}\")"
   ]
  },
  {
   "cell_type": "code",
   "execution_count": 158,
   "metadata": {},
   "outputs": [],
   "source": [
    "coef = pd.Series(lasso.coef_, index = X_train.columns).sort_values(ascending=False)"
   ]
  },
  {
   "cell_type": "code",
   "execution_count": 159,
   "metadata": {},
   "outputs": [
    {
     "data": {
      "text/plain": [
       "max_ceiling                   4.833363e-01\n",
       "median_score                  3.589432e-01\n",
       "low_score                     3.116676e-01\n",
       "0.0                           9.976866e-02\n",
       "1.0                           8.862254e-02\n",
       "cart_min                      6.832934e-02\n",
       "bird_max                      5.187482e-02\n",
       "acc_tendency_mid_scorer       5.146807e-02\n",
       "assesments_CC                 4.613215e-02\n",
       "cauld_med                     4.414260e-02\n",
       "shroom_min                    4.031582e-02\n",
       "2.0                           3.543030e-02\n",
       "shroom_med                    3.409473e-02\n",
       "chest_max                     3.100370e-02\n",
       "avg_no_actions                2.600481e-02\n",
       "MAGMAPEAK                     2.027103e-02\n",
       "assessment_mins               6.703239e-03\n",
       "NONE                         -0.000000e+00\n",
       "clip_mins                     0.000000e+00\n",
       "Activity                     -0.000000e+00\n",
       "Assessment                    0.000000e+00\n",
       "Clip                         -0.000000e+00\n",
       "Game                         -0.000000e+00\n",
       "acc_tendency_high_scorer      0.000000e+00\n",
       "Assessments_TTC              -0.000000e+00\n",
       "chest_min                     0.000000e+00\n",
       "bird_min                     -0.000000e+00\n",
       "activity_mins                 0.000000e+00\n",
       "cauld_max                    -0.000000e+00\n",
       "acc_tendency_random_scorer   -0.000000e+00\n",
       "cauld_min                     0.000000e+00\n",
       "cart_mean                    -0.000000e+00\n",
       "cart_med                      0.000000e+00\n",
       "chest_med                     0.000000e+00\n",
       "shroom_mean                   0.000000e+00\n",
       "chest_mean                    0.000000e+00\n",
       "cauld_mean                   -0.000000e+00\n",
       "bird_med                      0.000000e+00\n",
       "bird_mean                     0.000000e+00\n",
       "low_accuracy_group           -1.581570e-17\n",
       "median_accuracy_group        -2.511821e-15\n",
       "TREETOPCITY                  -1.812321e-03\n",
       "no_incorrect                 -1.538020e-02\n",
       "assessments_MP               -1.664536e-02\n",
       "game_mins                    -2.362396e-02\n",
       "CRYSTALCAVES                 -2.443991e-02\n",
       "cart_max                     -3.291977e-02\n",
       "no_actions                   -4.431583e-02\n",
       "shroom_max                   -5.105638e-02\n",
       "3.0                          -6.157818e-02\n",
       "acc_tendency_low_scorer      -1.258907e-01\n",
       "max_accuracy_group           -2.384853e-01\n",
       "dtype: float64"
      ]
     },
     "execution_count": 159,
     "metadata": {},
     "output_type": "execute_result"
    }
   ],
   "source": [
    "coef"
   ]
  },
  {
   "cell_type": "code",
   "execution_count": 160,
   "metadata": {},
   "outputs": [
    {
     "data": {
      "text/plain": [
       "<matplotlib.axes._subplots.AxesSubplot at 0x1a1ffa0710>"
      ]
     },
     "execution_count": 160,
     "metadata": {},
     "output_type": "execute_result"
    },
    {
     "data": {
      "image/png": "[encoded data removed]",
      "text/plain": [
       "<Figure size 1080x864 with 1 Axes>"
      ]
     },
     "metadata": {
      "needs_background": "light"
     },
     "output_type": "display_data"
    }
   ],
   "source": [
    "coef.plot(kind=\"barh\",figsize=(15,12))"
   ]
  },
  {
   "cell_type": "code",
   "execution_count": null,
   "metadata": {},
   "outputs": [],
   "source": []
  },
  {
   "cell_type": "code",
   "execution_count": null,
   "metadata": {},
   "outputs": [],
   "source": []
  },
  {
   "cell_type": "markdown",
   "metadata": {},
   "source": [
    "---\n",
    "## VI. MODELING"
   ]
  },
  {
   "cell_type": "code",
   "execution_count": null,
   "metadata": {},
   "outputs": [],
   "source": []
  }
 ],
 "metadata": {
  "kernelspec": {
   "display_name": "Python 3",
   "language": "python",
   "name": "python3"
  },
  "language_info": {
   "codemirror_mode": {
    "name": "ipython",
    "version": 3
   },
   "file_extension": ".py",
   "mimetype": "text/x-python",
   "name": "python",
   "nbconvert_exporter": "python",
   "pygments_lexer": "ipython3",
   "version": "3.7.3"
  }
 },
 "nbformat": 4,
 "nbformat_minor": 2
}
